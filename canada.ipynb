{
 "cells": [
  {
   "cell_type": "code",
   "execution_count": 1,
   "id": "38130a5f",
   "metadata": {},
   "outputs": [],
   "source": [
    "%load_ext autoreload\n",
    "%autoreload 2\n",
    "%load_ext jupyter_black"
   ]
  },
  {
   "cell_type": "code",
   "execution_count": 49,
   "id": "481a7e1e",
   "metadata": {},
   "outputs": [],
   "source": [
    "import io\n",
    "import numpy as np\n",
    "import geopandas as gpd\n",
    "import pandas as pd\n",
    "import requests\n",
    "import matplotlib.pyplot as plt\n",
    "import collections\n",
    "from urbanstats.data.gpw import (\n",
    "    compute_gpw_for_shape,\n",
    "    compute_circle_density_per_cell,\n",
    "    load_full_ghs,\n",
    "    produce_histogram,\n",
    ")\n",
    "import geopandas as gpd\n",
    "from permacache import stable_hash\n",
    "\n",
    "from urbanstats.data.gpw import load_full_ghs_2015, compute_gpw_weighted_for_shape\n",
    "\n",
    "from urbanstats.website_data.table import (\n",
    "    compute_statistics_for_shapefile,\n",
    "    shapefile_without_ordinals,\n",
    ")\n",
    "\n",
    "from urbanstats.geometry.shapefiles.shapefiles_list import shapefiles\n",
    "\n",
    "from urbanstats.data.census_blocks import all_densities_gpd\n",
    "from urbanstats.data.elevation import elevation_statistics_for_shapefile\n",
    "from urbanstats.geometry.relationship import full_relationships\n",
    "from urbanstats.geometry.shapefiles.load_canada_shapefile import (\n",
    "    compute_canada_shape,\n",
    "    compute_qconmt,\n",
    "    load_canadian_shapefile,\n",
    "    pruid_to_province,\n",
    ")\n",
    "from urbanstats.statistics.collections.census_canada import compute_census_stats\n",
    "\n",
    "from collections import Counter\n",
    "from urbanstats.data.canada.canada_blocks import *\n",
    "from urbanstats.data.elevation import (\n",
    "    stats_by_canada_blocks,\n",
    "    elevation_statistics_for_canada_shapefile,\n",
    ")\n",
    "\n",
    "from urbanstats.data.canada.canada_metadata import *\n",
    "from urbanstats.data.canada.canadian_da_data import *"
   ]
  },
  {
   "cell_type": "code",
   "execution_count": 50,
   "id": "de25b629-6604-4bb3-accf-30dc342c6d1a",
   "metadata": {},
   "outputs": [],
   "source": [
    "from urbanstats.statistics.collections.census_canada import *\n",
    "from urbanstats.statistics.collections.census_canada_simple import *"
   ]
  }
 ],
 "metadata": {
  "kernelspec": {
   "display_name": "Python 3 (ipykernel)",
   "language": "python",
   "name": "python3"
  },
  "language_info": {
   "codemirror_mode": {
    "name": "ipython",
    "version": 3
   },
   "file_extension": ".py",
   "mimetype": "text/x-python",
   "name": "python",
   "nbconvert_exporter": "python",
   "pygments_lexer": "ipython3",
   "version": "3.10.15"
  }
 },
 "nbformat": 4,
 "nbformat_minor": 5
}
