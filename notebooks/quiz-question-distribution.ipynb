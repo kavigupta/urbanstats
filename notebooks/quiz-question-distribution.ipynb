{
 "cells": [
  {
   "cell_type": "code",
   "execution_count": 1,
   "id": "a00658f0",
   "metadata": {},
   "outputs": [],
   "source": [
    "import os; os.chdir(\"..\")"
   ]
  },
  {
   "cell_type": "code",
   "execution_count": 2,
   "id": "cfa5b130",
   "metadata": {},
   "outputs": [],
   "source": [
    "%load_ext autoreload\n",
    "%autoreload 2\n",
    "%matplotlib inline"
   ]
  },
  {
   "cell_type": "code",
   "execution_count": 3,
   "id": "b2d6c4cb",
   "metadata": {},
   "outputs": [
    {
     "name": "stderr",
     "output_type": "stream",
     "text": [
      "/home/kavi/anaconda3/lib/python3.7/site-packages/geopandas/_compat.py:115: UserWarning: The Shapely GEOS version (3.11.1-CAPI-1.17.1) is incompatible with the GEOS version PyGEOS was compiled with (3.10.1-CAPI-1.16.0). Conversions between both will be slow.\n",
      "  shapely_geos_version, geos_capi_version_string\n"
     ]
    }
   ],
   "source": [
    "import json\n",
    "\n",
    "import pandas as pd\n",
    "import numpy as np\n",
    "import matplotlib.pyplot as plt\n",
    "from urbanstats.games.quiz_analysis import get_full_statistics, questions\n",
    "from urbanstats.games.quiz import (\n",
    "    display_question,\n",
    "    stats_to_display,\n",
    "    renamed,\n",
    "    get_statistic_categories,\n",
    "    compute_difficulty,\n",
    "    ranges,\n",
    "    fixed_up_to,\n",
    "    stats,\n",
    "    filter_for_pop\n",
    ")"
   ]
  },
  {
   "cell_type": "code",
   "execution_count": 22,
   "id": "1bad23fe",
   "metadata": {},
   "outputs": [],
   "source": [
    "website = \"/home/kavi/temp/site\"\n",
    "amount = 840"
   ]
  },
  {
   "cell_type": "code",
   "execution_count": 23,
   "id": "fdd471eb",
   "metadata": {},
   "outputs": [],
   "source": [
    "results = []\n",
    "for i in range(fixed_up_to + 1, fixed_up_to + amount):\n",
    "    with open(os.path.join(website, \"quiz\", str(i))) as f:\n",
    "        results.append(json.load(f))"
   ]
  },
  {
   "cell_type": "code",
   "execution_count": 24,
   "id": "783b45e8",
   "metadata": {},
   "outputs": [],
   "source": [
    "with open(\"react/src/data/quiz/list_of_regions.json\") as f:\n",
    "    region_to_type = {v : k for k, vs in json.load(f).items() for v in vs}\n",
    "with open(\"react/src/data/quiz/types.json\") as f:\n",
    "    types = json.load(f)"
   ]
  },
  {
   "cell_type": "code",
   "execution_count": 25,
   "id": "83d3d317",
   "metadata": {},
   "outputs": [],
   "source": [
    "out = np.zeros((len(results), len(types)))"
   ]
  },
  {
   "cell_type": "code",
   "execution_count": 26,
   "id": "5dae615f",
   "metadata": {},
   "outputs": [],
   "source": [
    "for i, quiz in enumerate(results):\n",
    "    out[i, [types.index(region_to_type[q[\"longname_a\"]]) for q in quiz]] += 1"
   ]
  },
  {
   "cell_type": "code",
   "execution_count": 27,
   "id": "efaa2024",
   "metadata": {},
   "outputs": [
    {
     "data": {
      "text/plain": [
       "City                      0.674613\n",
       "County                    0.687723\n",
       "MSA                       0.684148\n",
       "State                     0.079857\n",
       "Urban Area                0.675805\n",
       "Congressional District    0.679380\n",
       "Media Market              0.406436\n",
       "Judicial Circuit          0.129917\n",
       "Country                   0.154946\n",
       "Subnational Region        0.599523\n",
       "Urban Center              0.146603\n",
       "dtype: float64"
      ]
     },
     "execution_count": 27,
     "metadata": {},
     "output_type": "execute_result"
    }
   ],
   "source": [
    "pd.Series(dict(zip(types, out.sum(0) / out.shape[0])))"
   ]
  },
  {
   "cell_type": "code",
   "execution_count": 28,
   "id": "3d82d8e4",
   "metadata": {},
   "outputs": [
    {
     "data": {
      "text/plain": [
       "City                      0.137146\n",
       "County                    0.139811\n",
       "MSA                       0.139084\n",
       "State                     0.016235\n",
       "Urban Area                0.137388\n",
       "Congressional District    0.138115\n",
       "Media Market              0.082627\n",
       "Judicial Circuit          0.026411\n",
       "Country                   0.031500\n",
       "Subnational Region        0.121880\n",
       "Urban Center              0.029804\n",
       "dtype: float64"
      ]
     },
     "execution_count": 28,
     "metadata": {},
     "output_type": "execute_result"
    }
   ],
   "source": [
    "pd.Series(dict(zip(types, out.sum(0) / out.sum())))"
   ]
  },
  {
   "cell_type": "code",
   "execution_count": 29,
   "id": "f572ebd7",
   "metadata": {},
   "outputs": [
    {
     "data": {
      "text/plain": [
       "City                      566.0\n",
       "County                    577.0\n",
       "MSA                       574.0\n",
       "State                      67.0\n",
       "Urban Area                567.0\n",
       "Congressional District    570.0\n",
       "Media Market              341.0\n",
       "Judicial Circuit          109.0\n",
       "Country                   130.0\n",
       "Subnational Region        503.0\n",
       "Urban Center              123.0\n",
       "dtype: float64"
      ]
     },
     "execution_count": 29,
     "metadata": {},
     "output_type": "execute_result"
    }
   ],
   "source": [
    "pd.Series(dict(zip(types, out.sum(0))))"
   ]
  },
  {
   "cell_type": "code",
   "execution_count": null,
   "id": "a847c59a",
   "metadata": {},
   "outputs": [],
   "source": []
  },
  {
   "cell_type": "code",
   "execution_count": null,
   "id": "05bffc3f",
   "metadata": {},
   "outputs": [],
   "source": []
  }
 ],
 "metadata": {
  "kernelspec": {
   "display_name": "Python 3",
   "language": "python",
   "name": "python3"
  },
  "language_info": {
   "codemirror_mode": {
    "name": "ipython",
    "version": 3
   },
   "file_extension": ".py",
   "mimetype": "text/x-python",
   "name": "python",
   "nbconvert_exporter": "python",
   "pygments_lexer": "ipython3",
   "version": "3.7.10"
  }
 },
 "nbformat": 4,
 "nbformat_minor": 5
}
