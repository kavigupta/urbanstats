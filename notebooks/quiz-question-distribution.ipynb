{
 "cells": [
  {
   "cell_type": "code",
   "execution_count": 1,
   "id": "a00658f0",
   "metadata": {},
   "outputs": [],
   "source": [
    "import os; os.chdir(\"..\")"
   ]
  },
  {
   "cell_type": "code",
   "execution_count": 2,
   "id": "cfa5b130",
   "metadata": {},
   "outputs": [],
   "source": [
    "%load_ext autoreload\n",
    "%autoreload 2\n",
    "%matplotlib inline"
   ]
  },
  {
   "cell_type": "code",
   "execution_count": 3,
   "id": "b2d6c4cb",
   "metadata": {},
   "outputs": [
    {
     "name": "stderr",
     "output_type": "stream",
     "text": [
      "/home/kavi/anaconda3/lib/python3.7/site-packages/geopandas/_compat.py:115: UserWarning: The Shapely GEOS version (3.11.1-CAPI-1.17.1) is incompatible with the GEOS version PyGEOS was compiled with (3.10.1-CAPI-1.16.0). Conversions between both will be slow.\n",
      "  shapely_geos_version, geos_capi_version_string\n"
     ]
    }
   ],
   "source": [
    "import json\n",
    "\n",
    "import pandas as pd\n",
    "import numpy as np\n",
    "import matplotlib.pyplot as plt\n",
    "from urbanstats.games.quiz_analysis import get_full_statistics, questions\n",
    "from urbanstats.games.quiz import (\n",
    "    display_question,\n",
    "    stats_to_display,\n",
    "    renamed,\n",
    "    get_statistic_categories,\n",
    "    compute_difficulty,\n",
    "    ranges,\n",
    "    fixed_up_to,\n",
    "    stats,\n",
    "    filter_for_pop\n",
    ")"
   ]
  },
  {
   "cell_type": "code",
   "execution_count": 4,
   "id": "1bad23fe",
   "metadata": {},
   "outputs": [],
   "source": [
    "website = \"/home/kavi/temp/site\"\n",
    "amount = 900"
   ]
  },
  {
   "cell_type": "code",
   "execution_count": 5,
   "id": "fdd471eb",
   "metadata": {},
   "outputs": [],
   "source": [
    "results = []\n",
    "for i in range(fixed_up_to + 1, fixed_up_to + amount):\n",
    "    with open(os.path.join(website, \"quiz\", str(i))) as f:\n",
    "        results.append(json.load(f))"
   ]
  },
  {
   "cell_type": "code",
   "execution_count": 6,
   "id": "783b45e8",
   "metadata": {},
   "outputs": [],
   "source": [
    "with open(\"react/src/data/quiz/list_of_regions.json\") as f:\n",
    "    region_to_type = {v : k for k, vs in json.load(f).items() for v in vs}\n",
    "with open(\"react/src/data/quiz/types.json\") as f:\n",
    "    types = json.load(f)"
   ]
  },
  {
   "cell_type": "code",
   "execution_count": 7,
   "id": "83d3d317",
   "metadata": {},
   "outputs": [],
   "source": [
    "out = np.zeros((len(results), len(types)))"
   ]
  },
  {
   "cell_type": "code",
   "execution_count": 8,
   "id": "5dae615f",
   "metadata": {},
   "outputs": [],
   "source": [
    "for i, quiz in enumerate(results):\n",
    "    out[i, [types.index(region_to_type[q[\"longname_a\"]]) for q in quiz]] += 1"
   ]
  },
  {
   "cell_type": "code",
   "execution_count": 9,
   "id": "efaa2024",
   "metadata": {},
   "outputs": [
    {
     "data": {
      "text/plain": [
       "City                      0.678532\n",
       "County                    0.727475\n",
       "MSA                       0.696329\n",
       "State                     0.686318\n",
       "Urban Area                0.719689\n",
       "Congressional District    0.731924\n",
       "Media Market              0.431591\n",
       "Judicial Circuit          0.133482\n",
       "Country                   0.101224\n",
       "Subnational Region        0.093437\n",
       "dtype: float64"
      ]
     },
     "execution_count": 9,
     "metadata": {},
     "output_type": "execute_result"
    }
   ],
   "source": [
    "pd.Series(dict(zip(types, out.sum(0) / out.shape[0])))"
   ]
  },
  {
   "cell_type": "code",
   "execution_count": 10,
   "id": "3d82d8e4",
   "metadata": {},
   "outputs": [
    {
     "data": {
      "text/plain": [
       "City                      0.135706\n",
       "County                    0.145495\n",
       "MSA                       0.139266\n",
       "State                     0.137264\n",
       "Urban Area                0.143938\n",
       "Congressional District    0.146385\n",
       "Media Market              0.086318\n",
       "Judicial Circuit          0.026696\n",
       "Country                   0.020245\n",
       "Subnational Region        0.018687\n",
       "dtype: float64"
      ]
     },
     "execution_count": 10,
     "metadata": {},
     "output_type": "execute_result"
    }
   ],
   "source": [
    "pd.Series(dict(zip(types, out.sum(0) / out.sum())))"
   ]
  },
  {
   "cell_type": "code",
   "execution_count": 11,
   "id": "f572ebd7",
   "metadata": {},
   "outputs": [
    {
     "data": {
      "text/plain": [
       "City                      610.0\n",
       "County                    654.0\n",
       "MSA                       626.0\n",
       "State                     617.0\n",
       "Urban Area                647.0\n",
       "Congressional District    658.0\n",
       "Media Market              388.0\n",
       "Judicial Circuit          120.0\n",
       "Country                    91.0\n",
       "Subnational Region         84.0\n",
       "dtype: float64"
      ]
     },
     "execution_count": 11,
     "metadata": {},
     "output_type": "execute_result"
    }
   ],
   "source": [
    "pd.Series(dict(zip(types, out.sum(0))))"
   ]
  }
 ],
 "metadata": {
  "kernelspec": {
   "display_name": "Python 3",
   "language": "python",
   "name": "python3"
  },
  "language_info": {
   "codemirror_mode": {
    "name": "ipython",
    "version": 3
   },
   "file_extension": ".py",
   "mimetype": "text/x-python",
   "name": "python",
   "nbconvert_exporter": "python",
   "pygments_lexer": "ipython3",
   "version": "3.7.10"
  }
 },
 "nbformat": 4,
 "nbformat_minor": 5
}
