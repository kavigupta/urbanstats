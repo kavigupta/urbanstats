{
 "cells": [
  {
   "cell_type": "code",
   "execution_count": 1,
   "id": "a00658f0",
   "metadata": {},
   "outputs": [],
   "source": [
    "import os; os.chdir(\"..\")"
   ]
  },
  {
   "cell_type": "code",
   "execution_count": 2,
   "id": "cfa5b130",
   "metadata": {},
   "outputs": [],
   "source": [
    "%load_ext autoreload\n",
    "%autoreload 2\n",
    "%matplotlib inline"
   ]
  },
  {
   "cell_type": "code",
   "execution_count": 40,
   "id": "b2d6c4cb",
   "metadata": {},
   "outputs": [],
   "source": [
    "import json\n",
    "\n",
    "import pandas as pd\n",
    "import numpy as np\n",
    "import matplotlib.pyplot as plt\n",
    "from urbanstats.games.quiz_analysis import get_full_statistics, questions\n",
    "from urbanstats.games.quiz import (\n",
    "    display_question,\n",
    "    stats_to_display,\n",
    "    renamed,\n",
    "    get_statistic_categories,\n",
    "    compute_difficulty,\n",
    "    ranges,\n",
    "    fixed_up_to,\n",
    "    stats,\n",
    "    filter_for_pop\n",
    ")\n",
    "from shapefiles import shapefiles"
   ]
  },
  {
   "cell_type": "code",
   "execution_count": 26,
   "id": "1bad23fe",
   "metadata": {},
   "outputs": [],
   "source": [
    "website = \"/home/kavi/temp/site\"\n",
    "amount = 900"
   ]
  },
  {
   "cell_type": "code",
   "execution_count": 27,
   "id": "fdd471eb",
   "metadata": {},
   "outputs": [],
   "source": [
    "results = []\n",
    "for i in range(fixed_up_to + 1, fixed_up_to + amount):\n",
    "    with open(os.path.join(website, \"quiz\", str(i))) as f:\n",
    "        results.append(json.load(f))"
   ]
  },
  {
   "cell_type": "code",
   "execution_count": 28,
   "id": "783b45e8",
   "metadata": {},
   "outputs": [],
   "source": [
    "with open(\"react/src/data/quiz/list_of_regions.json\") as f:\n",
    "    region_to_type = {v : k for k, vs in json.load(f).items() for v in vs}\n",
    "with open(\"react/src/data/quiz/types.json\") as f:\n",
    "    types = json.load(f)"
   ]
  },
  {
   "cell_type": "code",
   "execution_count": 29,
   "id": "83d3d317",
   "metadata": {},
   "outputs": [],
   "source": [
    "out = np.zeros((len(results), len(types)))"
   ]
  },
  {
   "cell_type": "code",
   "execution_count": 30,
   "id": "5dae615f",
   "metadata": {},
   "outputs": [],
   "source": [
    "for i, quiz in enumerate(results):\n",
    "    out[i, [types.index(region_to_type[q[\"longname_a\"]]) for q in quiz]] += 1"
   ]
  },
  {
   "cell_type": "code",
   "execution_count": 36,
   "id": "efaa2024",
   "metadata": {},
   "outputs": [
    {
     "data": {
      "text/plain": [
       "City                        0.629588\n",
       "County                      0.661846\n",
       "MSA                         0.667408\n",
       "State                       0.639600\n",
       "Urban Area                  0.609566\n",
       "Congressional District      0.637375\n",
       "Media Market                0.416018\n",
       "Judicial Circuit            0.141268\n",
       "Hospital Referral Region    0.410456\n",
       "Country                     0.097887\n",
       "Subnational Region          0.088988\n",
       "dtype: float64"
      ]
     },
     "execution_count": 36,
     "metadata": {},
     "output_type": "execute_result"
    }
   ],
   "source": [
    "pd.Series(dict(zip(types, out.sum(0) / out.shape[0])))"
   ]
  },
  {
   "cell_type": "code",
   "execution_count": 37,
   "id": "3d82d8e4",
   "metadata": {},
   "outputs": [
    {
     "data": {
      "text/plain": [
       "City                        0.125918\n",
       "County                      0.132369\n",
       "MSA                         0.133482\n",
       "State                       0.127920\n",
       "Urban Area                  0.121913\n",
       "Congressional District      0.127475\n",
       "Media Market                0.083204\n",
       "Judicial Circuit            0.028254\n",
       "Hospital Referral Region    0.082091\n",
       "Country                     0.019577\n",
       "Subnational Region          0.017798\n",
       "dtype: float64"
      ]
     },
     "execution_count": 37,
     "metadata": {},
     "output_type": "execute_result"
    }
   ],
   "source": [
    "pd.Series(dict(zip(types, out.sum(0) / out.sum())))"
   ]
  },
  {
   "cell_type": "code",
   "execution_count": 38,
   "id": "f572ebd7",
   "metadata": {},
   "outputs": [
    {
     "data": {
      "text/plain": [
       "City                        566.0\n",
       "County                      595.0\n",
       "MSA                         600.0\n",
       "State                       575.0\n",
       "Urban Area                  548.0\n",
       "Congressional District      573.0\n",
       "Media Market                374.0\n",
       "Judicial Circuit            127.0\n",
       "Hospital Referral Region    369.0\n",
       "Country                      88.0\n",
       "Subnational Region           80.0\n",
       "dtype: float64"
      ]
     },
     "execution_count": 38,
     "metadata": {},
     "output_type": "execute_result"
    }
   ],
   "source": [
    "pd.Series(dict(zip(types, out.sum(0))))"
   ]
  },
  {
   "cell_type": "code",
   "execution_count": null,
   "id": "b5721047",
   "metadata": {},
   "outputs": [],
   "source": []
  },
  {
   "cell_type": "code",
   "execution_count": 46,
   "id": "cae547cc",
   "metadata": {},
   "outputs": [
    {
     "data": {
      "text/plain": [
       "['CSA',\n",
       " 'ZIP',\n",
       " 'CCD',\n",
       " 'Neighborhood',\n",
       " 'State House District',\n",
       " 'State Senate District',\n",
       " 'Historical Congressional District',\n",
       " 'Native Area',\n",
       " 'Native Statistical Area',\n",
       " 'Native Subdivision',\n",
       " 'School District',\n",
       " 'Judicial District',\n",
       " 'County Cross CD',\n",
       " 'USDA County Type',\n",
       " 'Hospital Service Area']"
      ]
     },
     "execution_count": 46,
     "metadata": {},
     "output_type": "execute_result"
    }
   ],
   "source": [
    "[x.meta[\"type\"] for x in shapefiles.values() if x.meta[\"type\"] not in types]"
   ]
  },
  {
   "cell_type": "code",
   "execution_count": null,
   "id": "597f2da6",
   "metadata": {},
   "outputs": [],
   "source": []
  }
 ],
 "metadata": {
  "kernelspec": {
   "display_name": "Python 3",
   "language": "python",
   "name": "python3"
  },
  "language_info": {
   "codemirror_mode": {
    "name": "ipython",
    "version": 3
   },
   "file_extension": ".py",
   "mimetype": "text/x-python",
   "name": "python",
   "nbconvert_exporter": "python",
   "pygments_lexer": "ipython3",
   "version": "3.7.10"
  }
 },
 "nbformat": 4,
 "nbformat_minor": 5
}
