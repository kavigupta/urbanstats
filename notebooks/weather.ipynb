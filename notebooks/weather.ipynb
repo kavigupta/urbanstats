{
 "cells": [
  {
   "cell_type": "code",
   "execution_count": 1,
   "id": "a0bdf783",
   "metadata": {},
   "outputs": [],
   "source": [
    "import os\n",
    "\n",
    "os.chdir(\"..\")"
   ]
  },
  {
   "cell_type": "code",
   "execution_count": 2,
   "id": "38130a5f",
   "metadata": {},
   "outputs": [],
   "source": [
    "%load_ext autoreload\n",
    "%autoreload 2\n",
    "%matplotlib inline"
   ]
  },
  {
   "cell_type": "code",
   "execution_count": 3,
   "id": "b75c538a",
   "metadata": {},
   "outputs": [
    {
     "name": "stderr",
     "output_type": "stream",
     "text": [
      "/home/kavi/anaconda3/lib/python3.7/site-packages/geopandas/_compat.py:115: UserWarning: The Shapely GEOS version (3.11.1-CAPI-1.17.1) is incompatible with the GEOS version PyGEOS was compiled with (3.10.1-CAPI-1.16.0). Conversions between both will be slow.\n",
      "  shapely_geos_version, geos_capi_version_string\n"
     ]
    }
   ],
   "source": [
    "import numpy as np\n",
    "from urbanstats.data.gpw import load_full, lat_from_row_idx, lon_from_col_idx\n",
    "from urbanstats.weather.global_bounding_boxes import global_bounding_boxes, plot_bounding_boxes\n",
    "from urbanstats.weather.era5 import bounding_boxes"
   ]
  },
  {
   "cell_type": "code",
   "execution_count": 4,
   "id": "994c4218",
   "metadata": {},
   "outputs": [
    {
     "data": {
      "image/png": "[encoded data removed]",
      "text/plain": [
       "<Figure size 720x360 with 1 Axes>"
      ]
     },
     "metadata": {
      "needs_background": "light"
     },
     "output_type": "display_data"
    }
   ],
   "source": [
    "plot_bounding_boxes()"
   ]
  },
  {
   "cell_type": "code",
   "execution_count": 5,
   "id": "f99b031b",
   "metadata": {},
   "outputs": [],
   "source": [
    "lat, lon = 180, 360\n",
    "grid = 4\n",
    "years = 30\n",
    "days = 365\n",
    "hours = 24"
   ]
  },
  {
   "cell_type": "code",
   "execution_count": 6,
   "id": "e8f1c143",
   "metadata": {},
   "outputs": [],
   "source": [
    "num_squares = lat * lon * grid ** 2"
   ]
  },
  {
   "cell_type": "code",
   "execution_count": 7,
   "id": "8b01f640",
   "metadata": {},
   "outputs": [],
   "source": [
    "num_squares_us = sum(\n",
    "    (xmax - xmin) * (ymax - ymin) * grid**2\n",
    "    for xmin, ymin, xmax, ymax in bounding_boxes().values()\n",
    ")"
   ]
  },
  {
   "cell_type": "code",
   "execution_count": 8,
   "id": "2ced255f",
   "metadata": {},
   "outputs": [
    {
     "data": {
      "text/plain": [
       "253"
      ]
     },
     "execution_count": 8,
     "metadata": {},
     "output_type": "execute_result"
    }
   ],
   "source": [
    "len(list(global_bounding_boxes()))"
   ]
  },
  {
   "cell_type": "code",
   "execution_count": 9,
   "id": "2622ae63",
   "metadata": {},
   "outputs": [],
   "source": [
    "num_squares_new = sum(\n",
    "    (xmax - xmin) * (ymax - ymin) * grid**2\n",
    "    for xmin, ymin, xmax, ymax in global_bounding_boxes()\n",
    ")"
   ]
  },
  {
   "cell_type": "code",
   "execution_count": 10,
   "id": "c2279c4e",
   "metadata": {},
   "outputs": [
    {
     "data": {
      "text/plain": [
       "8.767571243176727"
      ]
     },
     "execution_count": 10,
     "metadata": {},
     "output_type": "execute_result"
    }
   ],
   "source": [
    "num_squares_new / num_squares_us"
   ]
  }
 ],
 "metadata": {
  "kernelspec": {
   "display_name": "Python 3",
   "language": "python",
   "name": "python3"
  },
  "language_info": {
   "codemirror_mode": {
    "name": "ipython",
    "version": 3
   },
   "file_extension": ".py",
   "mimetype": "text/x-python",
   "name": "python",
   "nbconvert_exporter": "python",
   "pygments_lexer": "ipython3",
   "version": "3.7.10"
  }
 },
 "nbformat": 4,
 "nbformat_minor": 5
}
