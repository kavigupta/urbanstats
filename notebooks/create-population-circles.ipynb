{
 "cells": [
  {
   "cell_type": "code",
   "execution_count": 2,
   "id": "38130a5f",
   "metadata": {},
   "outputs": [],
   "source": [
    "%load_ext autoreload\n",
    "%autoreload 2"
   ]
  },
  {
   "cell_type": "code",
   "execution_count": 3,
   "id": "8e927196",
   "metadata": {},
   "outputs": [],
   "source": [
    "import os\n",
    "os.chdir(\"..\")"
   ]
  },
  {
   "cell_type": "code",
   "execution_count": 4,
   "id": "cbea4d43",
   "metadata": {},
   "outputs": [
    {
     "name": "stderr",
     "output_type": "stream",
     "text": [
      "/home/kavi/anaconda3/lib/python3.7/site-packages/geopandas/_compat.py:115: UserWarning: The Shapely GEOS version (3.11.1-CAPI-1.17.1) is incompatible with the GEOS version PyGEOS was compiled with (3.10.1-CAPI-1.16.0). Conversions between both will be slow.\n",
      "  shapely_geos_version, geos_capi_version_string\n"
     ]
    }
   ],
   "source": [
    "import us\n",
    "import copy\n",
    "import tqdm.auto as tqdm\n",
    "import geopandas as gpd\n",
    "import numpy as np\n",
    "import pandas as pd\n",
    "from shapefiles import shapefiles, school_district_shapefiles, ce_to_name\n",
    "from relationship import full_relationships, create_relationships\n",
    "from create_website import (\n",
    "    shapefile_without_ordinals,\n",
    "    add_ordinals,\n",
    "    get_statistic_categories,\n",
    "    create_page_jsons,\n",
    ")\n",
    "from election_data import with_election_results\n",
    "from urbanstats.features.extract_data import feature_data\n",
    "import matplotlib.pyplot as plt\n",
    "import matplotlib as mpl\n",
    "\n",
    "from urbanstats.data.gpw import *\n",
    "from urbanstats.data.population_urban_area import *\n",
    "\n",
    "from collections import defaultdict, Counter\n",
    "import requests\n",
    "from PIL import Image\n",
    "\n",
    "from shapefiles import CONGRESSIONAL_DISTRICTS, COUNTIES, county_cross_cd, usda_county_type, shapefiles"
   ]
  },
  {
   "cell_type": "code",
   "execution_count": 5,
   "id": "37287094",
   "metadata": {},
   "outputs": [],
   "source": [
    "from urbanstats.osm.buses import national_stops\n",
    "from urbanstats.osm.trains import *\n",
    "from urbanstats.data.circle import *"
   ]
  },
  {
   "cell_type": "code",
   "execution_count": null,
   "id": "6a027f45",
   "metadata": {},
   "outputs": [
    {
     "name": "stdout",
     "output_type": "stream",
     "text": [
      "Computing circles for population 5M\n",
      "Creating image for population 5M\n"
     ]
    }
   ],
   "source": [
    "for population in named_populations:\n",
    "    produce_image(population)\n",
    "    frame = overlapping_circles_frame(shapefiles[\"countries\"], population)\n",
    "    frame_copy.to_file(f\"outputs/population_circles/{named_populations[population]}.geojson\")"
   ]
  },
  {
   "cell_type": "code",
   "execution_count": null,
   "id": "335652ee",
   "metadata": {},
   "outputs": [],
   "source": []
  }
 ],
 "metadata": {
  "kernelspec": {
   "display_name": "Python 3",
   "language": "python",
   "name": "python3"
  },
  "language_info": {
   "codemirror_mode": {
    "name": "ipython",
    "version": 3
   },
   "file_extension": ".py",
   "mimetype": "text/x-python",
   "name": "python",
   "nbconvert_exporter": "python",
   "pygments_lexer": "ipython3",
   "version": "3.7.10"
  }
 },
 "nbformat": 4,
 "nbformat_minor": 5
}
