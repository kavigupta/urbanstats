{
 "cells": [
  {
   "cell_type": "code",
   "execution_count": 1,
   "id": "38130a5f",
   "metadata": {},
   "outputs": [],
   "source": [
    "%load_ext autoreload\n",
    "%autoreload 2"
   ]
  },
  {
   "cell_type": "code",
   "execution_count": 2,
   "id": "8e927196",
   "metadata": {},
   "outputs": [],
   "source": [
    "import os\n",
    "os.chdir(\"..\")"
   ]
  },
  {
   "cell_type": "code",
   "execution_count": 3,
   "id": "37287094",
   "metadata": {},
   "outputs": [
    {
     "name": "stderr",
     "output_type": "stream",
     "text": [
      "/home/kavi/anaconda3/lib/python3.7/site-packages/geopandas/_compat.py:115: UserWarning: The Shapely GEOS version (3.11.1-CAPI-1.17.1) is incompatible with the GEOS version PyGEOS was compiled with (3.10.1-CAPI-1.16.0). Conversions between both will be slow.\n",
      "  shapely_geos_version, geos_capi_version_string\n"
     ]
    }
   ],
   "source": [
    "from urbanstats.data.circle import produce_image, overlapping_circles_frame, named_populations"
   ]
  },
  {
   "cell_type": "code",
   "execution_count": 4,
   "id": "6a027f45",
   "metadata": {},
   "outputs": [
    {
     "name": "stdout",
     "output_type": "stream",
     "text": [
      "Creating image for population 5M\n",
      "Saving image for population 5M\n",
      "Done with population 5M\n",
      "Creating image for population 10M\n",
      "Saving image for population 10M\n",
      "Done with population 10M\n",
      "Creating image for population 20M\n",
      "Saving image for population 20M\n",
      "Done with population 20M\n",
      "Creating image for population 50M\n",
      "Saving image for population 50M\n",
      "Done with population 50M\n",
      "Creating image for population 100M\n",
      "Saving image for population 100M\n",
      "Done with population 100M\n",
      "Creating image for population 200M\n",
      "Saving image for population 200M\n",
      "Done with population 200M\n",
      "Creating image for population 500M\n",
      "Saving image for population 500M\n",
      "Done with population 500M\n",
      "Creating image for population 1B\n",
      "Saving image for population 1B\n",
      "Done with population 1B\n"
     ]
    }
   ],
   "source": [
    "from shapefiles import shapefiles\n",
    "for population in named_populations:\n",
    "    produce_image(population)\n",
    "    frame = overlapping_circles_frame(shapefiles[\"countries\"], population, named_populations[population] + \"PC\")\n",
    "    frame.to_file(f\"outputs/population_circles/{named_populations[population]}.geojson\")"
   ]
  }
 ],
 "metadata": {
  "kernelspec": {
   "display_name": "Python 3",
   "language": "python",
   "name": "python3"
  },
  "language_info": {
   "codemirror_mode": {
    "name": "ipython",
    "version": 3
   },
   "file_extension": ".py",
   "mimetype": "text/x-python",
   "name": "python",
   "nbconvert_exporter": "python",
   "pygments_lexer": "ipython3",
   "version": "3.7.10"
  }
 },
 "nbformat": 4,
 "nbformat_minor": 5
}
