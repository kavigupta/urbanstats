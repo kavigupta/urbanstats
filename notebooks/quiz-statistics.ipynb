{
 "cells": [
  {
   "cell_type": "code",
   "execution_count": 1,
   "id": "a00658f0",
   "metadata": {},
   "outputs": [],
   "source": [
    "import os\n",
    "\n",
    "os.chdir(\"..\")"
   ]
  },
  {
   "cell_type": "code",
   "execution_count": 2,
   "id": "cfa5b130",
   "metadata": {},
   "outputs": [],
   "source": [
    "%load_ext autoreload\n",
    "%autoreload 2\n",
    "%matplotlib inline"
   ]
  },
  {
   "cell_type": "code",
   "execution_count": 3,
   "id": "b2d6c4cb",
   "metadata": {},
   "outputs": [
    {
     "name": "stderr",
     "output_type": "stream",
     "text": [
      "/home/kavi/anaconda3/envs/urbanstats/lib/python3.7/site-packages/geopandas/_compat.py:115: UserWarning: The Shapely GEOS version (3.11.2-CAPI-1.17.2) is incompatible with the GEOS version PyGEOS was compiled with (3.10.1-CAPI-1.16.0). Conversions between both will be slow.\n",
      "  shapely_geos_version, geos_capi_version_string\n"
     ]
    }
   ],
   "source": [
    "import itertools\n",
    "from datetime import timedelta\n",
    "\n",
    "import numpy as np\n",
    "import pandas as pd\n",
    "import matplotlib.pyplot as plt\n",
    "import tqdm.auto as tqdm\n",
    "from urbanstats.games.quiz_analysis import get_full_statistics, questions, named_users\n",
    "from urbanstats.games.quiz import display_question, quiz_is_guaranteed_past, compute_fractional_days"
   ]
  },
  {
   "cell_type": "code",
   "execution_count": 4,
   "id": "bf515c0b",
   "metadata": {},
   "outputs": [],
   "source": [
    "plt.rcParams[\"font.family\"] = \"monospace\""
   ]
  },
  {
   "cell_type": "code",
   "execution_count": 5,
   "id": "12223c0b",
   "metadata": {},
   "outputs": [],
   "source": [
    "today_problem = int(compute_fractional_days(\"America/New_York\"))"
   ]
  },
  {
   "cell_type": "code",
   "execution_count": 6,
   "id": "60885939",
   "metadata": {},
   "outputs": [],
   "source": [
    "result = get_full_statistics(after_problem=49, debug=False)\n",
    "num_users_by_problem = result.groupby(\"problem\").count().user_id\n",
    "means = result[[\"problem\", \"score\", *questions]].groupby(\"problem\").mean()"
   ]
  },
  {
   "cell_type": "code",
   "execution_count": 7,
   "id": "f644b5e7",
   "metadata": {},
   "outputs": [],
   "source": [
    "is_valid_day = lambda x: quiz_is_guaranteed_past(x) is None and x > 50"
   ]
  },
  {
   "cell_type": "code",
   "execution_count": 8,
   "id": "3dfa77d9",
   "metadata": {},
   "outputs": [],
   "source": [
    "mask = [is_valid_day(x) for x in num_users_by_problem.index]\n",
    "xs, ys = num_users_by_problem.index[mask], num_users_by_problem[mask]"
   ]
  },
  {
   "cell_type": "code",
   "execution_count": 9,
   "id": "10f12a23",
   "metadata": {},
   "outputs": [],
   "source": [
    "import sklearn.linear_model"
   ]
  },
  {
   "cell_type": "code",
   "execution_count": 10,
   "id": "08a3c305",
   "metadata": {},
   "outputs": [],
   "source": [
    "result_time_relevant = result[result.last_in_batch == 1]"
   ]
  },
  {
   "cell_type": "code",
   "execution_count": 11,
   "id": "ffbfb2d2",
   "metadata": {},
   "outputs": [],
   "source": [
    "count_by_user_id = result_time_relevant.groupby(\"user_id\").count().time\n",
    "users = count_by_user_id.index[count_by_user_id > 5]"
   ]
  },
  {
   "cell_type": "code",
   "execution_count": 12,
   "id": "a120700f",
   "metadata": {},
   "outputs": [
    {
     "data": {
      "text/plain": [
       "(array([7.7662e+04, 8.7100e+02, 3.1100e+02, 1.7100e+02, 1.0400e+02,\n",
       "        5.7000e+01, 3.3000e+01, 3.6000e+01, 3.1000e+01, 3.6000e+01]),\n",
       " array([  1.,  33.,  65.,  97., 129., 161., 193., 225., 257., 289., 321.]),\n",
       " <BarContainer object of 10 artists>)"
      ]
     },
     "execution_count": 12,
     "metadata": {},
     "output_type": "execute_result"
    },
    {
     "data": {
      "image/png": "[encoded data removed]",
      "text/plain": [
       "<Figure size 640x480 with 1 Axes>"
      ]
     },
     "metadata": {},
     "output_type": "display_data"
    }
   ],
   "source": [
    "plt.hist(count_by_user_id)"
   ]
  },
  {
   "cell_type": "code",
   "execution_count": 13,
   "id": "17ead416",
   "metadata": {},
   "outputs": [],
   "source": [
    "times_sorted = np.array([x.timestamp() for x in sorted(result_time_relevant.time)])\n",
    "time_to_index = {k : i for i, k in enumerate(times_sorted)}\n",
    "def count_in_range(start, end):\n",
    "    return np.searchsorted(times_sorted, end.timestamp()) - np.searchsorted(times_sorted, start.timestamp())\n",
    "    return result_time_relevant[\n",
    "        (start < result_time_relevant.time) & (result_time_relevant.time < end)\n",
    "    ].shape[0]"
   ]
  },
  {
   "cell_type": "code",
   "execution_count": 14,
   "id": "2836c552",
   "metadata": {},
   "outputs": [],
   "source": [
    "from collections import defaultdict\n",
    "time_by_user = defaultdict(list)\n",
    "for u, t in zip(result_time_relevant.user_id, result_time_relevant.time):\n",
    "    time_by_user[u].append(t)"
   ]
  },
  {
   "cell_type": "code",
   "execution_count": 15,
   "id": "0b36c4e3",
   "metadata": {},
   "outputs": [],
   "source": [
    "id_to_name = {k : v for v, k in named_users.items()}"
   ]
  },
  {
   "cell_type": "code",
   "execution_count": 16,
   "id": "2af3eeac",
   "metadata": {},
   "outputs": [],
   "source": [
    "s = 60"
   ]
  },
  {
   "cell_type": "code",
   "execution_count": 17,
   "id": "4106c140",
   "metadata": {
    "scrolled": true
   },
   "outputs": [
    {
     "data": {
      "application/vnd.jupyter.widget-view+json": {
       "model_id": "812ee21e7bd540f1a07c8573af9c4a9c",
       "version_major": 2,
       "version_minor": 0
      },
      "text/plain": [
       "  0%|          | 0/7090 [00:00<?, ?it/s]"
      ]
     },
     "metadata": {},
     "output_type": "display_data"
    },
    {
     "name": "stderr",
     "output_type": "stream",
     "text": [
      "/home/kavi/anaconda3/envs/urbanstats/lib/python3.7/site-packages/ipykernel_launcher.py:7: RuntimeWarning: divide by zero encountered in long_scalars\n",
      "  import sys\n"
     ]
    }
   ],
   "source": [
    "by_user = {}\n",
    "for user in tqdm.tqdm(users):\n",
    "    before = after = 0\n",
    "    for t in time_by_user[user]:\n",
    "        before += count_in_range(t - timedelta(seconds=s), t)\n",
    "        after += count_in_range(t, t + timedelta(seconds=s))\n",
    "    by_user[user] = dict(after=after, before=before, delta=after - before, ratio=after/before)"
   ]
  },
  {
   "cell_type": "code",
   "execution_count": 18,
   "id": "40ce48e9",
   "metadata": {},
   "outputs": [],
   "source": [
    "by_ratio = pd.DataFrame(by_user).T.sort_values(\"delta\")[::-1]\n",
    "by_ratio.index = [id_to_name.get(x, hex(x)[2:]) for x in by_ratio.index]"
   ]
  },
  {
   "cell_type": "code",
   "execution_count": 19,
   "id": "745f28a1",
   "metadata": {
    "scrolled": true
   },
   "outputs": [
    {
     "data": {
      "text/html": [
       "<div>\n",
       "<style scoped>\n",
       "    .dataframe tbody tr th:only-of-type {\n",
       "        vertical-align: middle;\n",
       "    }\n",
       "\n",
       "    .dataframe tbody tr th {\n",
       "        vertical-align: top;\n",
       "    }\n",
       "\n",
       "    .dataframe thead th {\n",
       "        text-align: right;\n",
       "    }\n",
       "</style>\n",
       "<table border=\"1\" class=\"dataframe\">\n",
       "  <thead>\n",
       "    <tr style=\"text-align: right;\">\n",
       "      <th></th>\n",
       "      <th>after</th>\n",
       "      <th>before</th>\n",
       "      <th>delta</th>\n",
       "      <th>ratio</th>\n",
       "    </tr>\n",
       "  </thead>\n",
       "  <tbody>\n",
       "    <tr>\n",
       "      <th>vo</th>\n",
       "      <td>649.0</td>\n",
       "      <td>255.0</td>\n",
       "      <td>394.0</td>\n",
       "      <td>2.545098</td>\n",
       "    </tr>\n",
       "    <tr>\n",
       "      <th>c894f182d0236f5</th>\n",
       "      <td>771.0</td>\n",
       "      <td>396.0</td>\n",
       "      <td>375.0</td>\n",
       "      <td>1.946970</td>\n",
       "    </tr>\n",
       "    <tr>\n",
       "      <th>26fb17d5bf0c5b4</th>\n",
       "      <td>646.0</td>\n",
       "      <td>277.0</td>\n",
       "      <td>369.0</td>\n",
       "      <td>2.332130</td>\n",
       "    </tr>\n",
       "    <tr>\n",
       "      <th>cb49d043faaf2d</th>\n",
       "      <td>666.0</td>\n",
       "      <td>305.0</td>\n",
       "      <td>361.0</td>\n",
       "      <td>2.183607</td>\n",
       "    </tr>\n",
       "    <tr>\n",
       "      <th>ea570a85ed7f87f</th>\n",
       "      <td>556.0</td>\n",
       "      <td>197.0</td>\n",
       "      <td>359.0</td>\n",
       "      <td>2.822335</td>\n",
       "    </tr>\n",
       "    <tr>\n",
       "      <th>845098ee28f1b</th>\n",
       "      <td>586.0</td>\n",
       "      <td>229.0</td>\n",
       "      <td>357.0</td>\n",
       "      <td>2.558952</td>\n",
       "    </tr>\n",
       "    <tr>\n",
       "      <th>f7fc94ed86a4937</th>\n",
       "      <td>631.0</td>\n",
       "      <td>288.0</td>\n",
       "      <td>343.0</td>\n",
       "      <td>2.190972</td>\n",
       "    </tr>\n",
       "    <tr>\n",
       "      <th>6c60a759d1529d9</th>\n",
       "      <td>549.0</td>\n",
       "      <td>217.0</td>\n",
       "      <td>332.0</td>\n",
       "      <td>2.529954</td>\n",
       "    </tr>\n",
       "    <tr>\n",
       "      <th>fd060c8a15a95fe</th>\n",
       "      <td>501.0</td>\n",
       "      <td>175.0</td>\n",
       "      <td>326.0</td>\n",
       "      <td>2.862857</td>\n",
       "    </tr>\n",
       "    <tr>\n",
       "      <th>parth</th>\n",
       "      <td>607.0</td>\n",
       "      <td>282.0</td>\n",
       "      <td>325.0</td>\n",
       "      <td>2.152482</td>\n",
       "    </tr>\n",
       "  </tbody>\n",
       "</table>\n",
       "</div>"
      ],
      "text/plain": [
       "                 after  before  delta     ratio\n",
       "vo               649.0   255.0  394.0  2.545098\n",
       "c894f182d0236f5  771.0   396.0  375.0  1.946970\n",
       "26fb17d5bf0c5b4  646.0   277.0  369.0  2.332130\n",
       "cb49d043faaf2d   666.0   305.0  361.0  2.183607\n",
       "ea570a85ed7f87f  556.0   197.0  359.0  2.822335\n",
       "845098ee28f1b    586.0   229.0  357.0  2.558952\n",
       "f7fc94ed86a4937  631.0   288.0  343.0  2.190972\n",
       "6c60a759d1529d9  549.0   217.0  332.0  2.529954\n",
       "fd060c8a15a95fe  501.0   175.0  326.0  2.862857\n",
       "parth            607.0   282.0  325.0  2.152482"
      ]
     },
     "execution_count": 19,
     "metadata": {},
     "output_type": "execute_result"
    }
   ],
   "source": [
    "by_ratio[:10]"
   ]
  },
  {
   "cell_type": "code",
   "execution_count": 20,
   "id": "7acecd90",
   "metadata": {},
   "outputs": [],
   "source": [
    "result_full = get_full_statistics(after_problem=1, debug=False)"
   ]
  },
  {
   "cell_type": "code",
   "execution_count": 21,
   "id": "876a9407",
   "metadata": {},
   "outputs": [],
   "source": [
    "def query(*days_patterns):\n",
    "    result = [\n",
    "        result_full[\n",
    "            (result_full.problem == day)\n",
    "            & (result_full.pattern.apply(lambda x: x.tolist() == pattern))\n",
    "        ].user_id\n",
    "        for day, pattern in days_patterns\n",
    "    ]\n",
    "    result = [set(x) for x in result]\n",
    "    from collections import Counter\n",
    "    ctr = Counter(x for xs in result for x in xs)\n",
    "    ctr = sorted(ctr.items(), key=lambda x: -x[1])\n",
    "    return [(id, c - len(days_patterns), c / len(days_patterns)) for id, c in ctr]"
   ]
  },
  {
   "cell_type": "code",
   "execution_count": 22,
   "id": "2ef7a34d",
   "metadata": {},
   "outputs": [],
   "source": [
    "count_by_user_id_full = result_full.groupby(\"user_id\").count().time"
   ]
  },
  {
   "cell_type": "code",
   "execution_count": 23,
   "id": "936e4863",
   "metadata": {},
   "outputs": [],
   "source": [
    "distro = (\n",
    "    result_full[np.array(count_by_user_id_full[result_full.user_id] > 10)]\n",
    "    .groupby(\"user_id\")\n",
    "    .mean()\n",
    "    .score\n",
    ")\n",
    "counts = (\n",
    "    result_full[np.array(count_by_user_id_full[result_full.user_id] > 10)]\n",
    "    .groupby(\"user_id\")\n",
    "    .count()\n",
    "    .score\n",
    ")"
   ]
  },
  {
   "cell_type": "code",
   "execution_count": 24,
   "id": "bfa4f52a",
   "metadata": {},
   "outputs": [
    {
     "data": {
      "text/plain": [
       "problem\n",
       "212    83.346051\n",
       "6      75.167785\n",
       "167    72.229822\n",
       "186    67.032967\n",
       "187    63.720317\n",
       "95     60.799001\n",
       "10     59.459459\n",
       "288    59.375000\n",
       "301    58.748404\n",
       "188    56.631893\n",
       "Name: score, dtype: float64"
      ]
     },
     "execution_count": 24,
     "metadata": {},
     "output_type": "execute_result"
    }
   ],
   "source": [
    "(result_full.score == 5).groupby(result_full.problem).mean().sort_values()[::-1][:10] * 100"
   ]
  },
  {
   "cell_type": "code",
   "execution_count": 25,
   "id": "03d66501",
   "metadata": {},
   "outputs": [],
   "source": [
    "lefts, rights = 0, 0\n",
    "lefts_bad, rights_bad = 0, 0\n",
    "for problem in sorted(set(result_full.problem)):\n",
    "    if problem < 100:\n",
    "        continue\n",
    "    with open(f\"/home/kavi/temp/site/quiz/{problem}\") as f:\n",
    "        q = json.load(f)\n",
    "        left_correct = np.array([x[\"stat_a\"] > x[\"stat_b\"] for x in q])\n",
    "    for_p = result_full[result_full.problem == problem]\n",
    "    overall_correct = np.array(for_p[questions].sum())\n",
    "    lefts += overall_correct[left_correct].sum()\n",
    "    rights += overall_correct[~left_correct].sum()\n",
    "    lefts_bad += (for_p.shape[0] - overall_correct)[left_correct].sum()\n",
    "    rights_bad += (for_p.shape[0] - overall_correct)[~left_correct].sum()\n",
    "#     count += 1\n",
    "# left_correct /= count\n",
    "# overall_correct /= count"
   ]
  }
 ],
 "metadata": {
  "kernelspec": {
   "display_name": "Python 3",
   "language": "python",
   "name": "python3"
  },
  "language_info": {
   "codemirror_mode": {
    "name": "ipython",
    "version": 3
   },
   "file_extension": ".py",
   "mimetype": "text/x-python",
   "name": "python",
   "nbconvert_exporter": "python",
   "pygments_lexer": "ipython3",
   "version": "3.7.16"
  }
 },
 "nbformat": 4,
 "nbformat_minor": 5
}
