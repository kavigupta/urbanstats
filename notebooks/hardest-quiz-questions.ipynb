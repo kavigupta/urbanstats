{
 "cells": [
  {
   "cell_type": "code",
   "execution_count": 1,
   "id": "a00658f0",
   "metadata": {},
   "outputs": [],
   "source": [
    "import os\n",
    "\n",
    "os.chdir(\"..\")"
   ]
  },
  {
   "cell_type": "code",
   "execution_count": 2,
   "id": "cfa5b130",
   "metadata": {},
   "outputs": [],
   "source": [
    "%load_ext autoreload\n",
    "%autoreload 2\n",
    "%matplotlib inline"
   ]
  },
  {
   "cell_type": "code",
   "execution_count": 3,
   "id": "b2d6c4cb",
   "metadata": {},
   "outputs": [],
   "source": [
    "import json\n",
    "\n",
    "import numpy as np\n",
    "import matplotlib.pyplot as plt\n",
    "import tqdm.auto as tqdm\n",
    "from urbanstats.games.quiz_analysis import get_full_statistics, questions, unique_names_each_user, get_named_users\n",
    "from urbanstats.games.quiz import display_question, quiz_is_guaranteed_past, display_question"
   ]
  },
  {
   "cell_type": "code",
   "execution_count": 4,
   "id": "bf515c0b",
   "metadata": {},
   "outputs": [],
   "source": [
    "plt.rcParams[\"font.family\"] = \"monospace\""
   ]
  },
  {
   "cell_type": "code",
   "execution_count": 5,
   "id": "14320573-1bb3-4cbe-8dfd-7c8286ec1e02",
   "metadata": {},
   "outputs": [],
   "source": [
    "named_users = get_named_users()"
   ]
  },
  {
   "cell_type": "code",
   "execution_count": 6,
   "id": "60885939",
   "metadata": {},
   "outputs": [],
   "source": [
    "result = get_full_statistics(after_problem=1, debug=False)\n",
    "num_users_by_problem = result.groupby(\"problem\").count().user_id\n",
    "means = result[[\"problem\", \"score\", *questions]].groupby(\"problem\").mean()"
   ]
  },
  {
   "cell_type": "code",
   "execution_count": 7,
   "id": "87e88890",
   "metadata": {},
   "outputs": [],
   "source": [
    "problem = []\n",
    "statvals = []\n",
    "for i in means.index:\n",
    "    with open(f\"/home/kavi/temp/site/quiz/{i}\") as f:\n",
    "        x = json.load(f)\n",
    "        problem.append(x)\n",
    "    statvals.append(np.array([[x[\"stat_a\"], x[\"stat_b\"]] for x in x]))\n",
    "statvals = np.array(statvals)"
   ]
  },
  {
   "cell_type": "code",
   "execution_count": 8,
   "id": "1b53ff9d",
   "metadata": {},
   "outputs": [],
   "source": [
    "eases = 100 * np.array(means[[\"q1\", \"q2\", \"q3\", \"q4\", \"q5\"]])"
   ]
  },
  {
   "cell_type": "code",
   "execution_count": 9,
   "id": "a9c65192",
   "metadata": {},
   "outputs": [],
   "source": [
    "delta = np.array(np.abs(statvals[:,:,0] - statvals[:,:,1]) / np.abs(statvals).max(-1))"
   ]
  },
  {
   "cell_type": "code",
   "execution_count": 10,
   "id": "2ed23a1d-d8cf-41d0-a2dc-58d28ed92e5f",
   "metadata": {},
   "outputs": [],
   "source": [
    "def render_quest(quest):\n",
    "    la = quest[\"longname_a\"]\n",
    "    lb = quest[\"longname_b\"]\n",
    "    if quest[\"stat_a\"] > quest[\"stat_b\"]:\n",
    "        la = f\"({la})\"\n",
    "    else:\n",
    "        lb = f\"({lb})\"\n",
    "    quest = display_question(quest[\"question\"]) + \": \" + la + \" or \" + lb\n",
    "    return quest"
   ]
  },
  {
   "cell_type": "code",
   "execution_count": 11,
   "id": "6b20ee6b",
   "metadata": {},
   "outputs": [],
   "source": [
    "# days, questions = np.where((eases < 50) & (delta > 0.9))\n",
    "# plt.figure(dpi=200, facecolor=\"white\")\n",
    "# plt.scatter(delta.flatten(), eases.flatten(), marker=\".\", alpha=0.5)\n",
    "# plt.xlabel(\"abs(x-y)/max(abs(x), abs(y))\")\n",
    "# plt.ylabel(\"% correct\")\n",
    "# for d, q in zip(days, questions):\n",
    "#     quest = problem[d][q]\n",
    "#     quest = render_quest(quest)\n",
    "#     plt.text(delta[d,q], eases[d,q], quest, size=3, ha=\"right\")"
   ]
  },
  {
   "cell_type": "code",
   "execution_count": 12,
   "id": "b68a57fb-8aa1-4f4a-abc6-ff8ba43e4895",
   "metadata": {},
   "outputs": [],
   "source": [
    "from more_itertools import chunked"
   ]
  },
  {
   "cell_type": "code",
   "execution_count": 13,
   "id": "ed16c637-5085-4029-a29e-48b9d41d2bbb",
   "metadata": {},
   "outputs": [],
   "source": [
    "def pull_correctness(d, q, user_id):\n",
    "    row = result[(result.problem == d) & (result.user_id == user_id)]\n",
    "    assert row.shape[0] in {0, 1}\n",
    "    if row.shape[0] == 0:\n",
    "        return None\n",
    "    row = row.iloc[0]\n",
    "    return bool(row[f\"q{q + 1}\"])\n",
    "\n",
    "def summarize_correctness_for_named_users(d, q):\n",
    "    corrects, incorrects = [], []\n",
    "    for user, user_id in named_users.items():\n",
    "        is_correct = pull_correctness(d, q, user_id)\n",
    "        if is_correct is None:\n",
    "            continue\n",
    "        (corrects if is_correct else incorrects).append(unique_names_each_user()[user])\n",
    "    corrects, incorrects = \" \".join(corrects), \" \".join(incorrects)\n",
    "    s = []\n",
    "    if corrects:\n",
    "        s += [f\"🟩 {corrects}\"]\n",
    "    if incorrects:\n",
    "        s += [f\"🟥 {incorrects}\"]\n",
    "    return \" \".join(s)"
   ]
  },
  {
   "cell_type": "code",
   "execution_count": 14,
   "id": "2f09c4fd-a689-4d4d-971e-98cee49bc9b8",
   "metadata": {},
   "outputs": [],
   "source": [
    "def hardest_questions(mutuals=False):\n",
    "    count  = 20\n",
    "    days, question_number = np.unravel_index(np.argsort(eases[:-1].flatten())[:count], eases.shape)\n",
    "    for rank, idx in enumerate(range(count), 1):\n",
    "        d, q = days[idx], question_number[idx]\n",
    "        p = problem[d][q]\n",
    "        p = render_quest(p)\n",
    "        p = [\"\\t\" + \"\".join(x) for x in chunked(p, 80)]\n",
    "        extra = \" \" + summarize_correctness_for_named_users(means.index[d], q) if mutuals else \"\"\n",
    "        print(f\"{rank:2d}) {means.index[d]:3d} #{q+1} [{eases[d, q]:4.1f}%]{extra}\")\n",
    "        print(\"\\n\".join(p))"
   ]
  },
  {
   "cell_type": "code",
   "execution_count": 15,
   "id": "a2d9bfdc-d862-4eed-8aa7-20f5668245e1",
   "metadata": {},
   "outputs": [
    {
     "name": "stdout",
     "output_type": "stream",
     "text": [
      " 1) 578 #5 [ 6.2%]\n",
      "\tWhich has a higher % of adults with obesity?: East Baton Rouge Parish, Louisiana\n",
      "\t, USA or (Prince George's County, Maryland, USA)\n",
      " 2)  30 #5 [ 8.5%]\n",
      "\tWhich has a higher % of residents who are non-citizens?: (Austin city, Texas, US\n",
      "\tA) or El Paso city, Texas, USA\n",
      " 3) 704 #2 [ 8.5%]\n",
      "\tWhich has a higher % of people who are gay and cohabiting with a partner/spouse?\n",
      "\t: Salem [Urban Area], OR, USA or (Springfield [Urban Area], MO, USA)\n",
      " 4) 577 #3 [10.0%]\n",
      "\thigher population-weighted PM2.5 pollution: New York Urban Center, USA or (York \n",
      "\tUrban Center, United Kingdom)\n",
      " 5) 487 #4 [10.6%]\n",
      "\tWhich has a higher % of people who are low income based on the Low-income cut-of\n",
      "\tfs, after tax (LICO-AT)?: (Ottawa - Gatineau Population Center, QC-ON, Canada) o\n",
      "\tr Saskatoon Population Center, SK, Canada\n",
      " 6) 135 #5 [11.4%]\n",
      "\tWhich has more hours of sun per day on average? (population weighted): DC Circui\n",
      "\tt, USA or (1st Circuit, USA)\n",
      " 7) 113 #5 [11.4%]\n",
      "\tWhich has a higher % of people who commute by bike?: 1st Circuit, USA or (10th C\n",
      "\tircuit, USA)\n",
      " 8) 506 #5 [11.4%]\n",
      "\tWhich has a higher % of people between 25 and 64 who have at least a high school\n",
      "\t diploma?: Gatineau Territory, Quebec, Canada or (Division No. 11, Saskatchewan,\n",
      "\t Canada)\n",
      " 9) 658 #3 [11.5%]\n",
      "\tWhich has a higher % of people who are renters?: (Ingham County, Michigan, USA) \n",
      "\tor Nassau County, New York, USA\n",
      "10) 240 #3 [12.0%]\n",
      "\tWhich has a higher mean daily high temperature in summer (population weighted)?:\n",
      "\t Chula Vista city, California, USA or (Columbus city, Ohio, USA)\n",
      "11) 336 #5 [12.2%]\n",
      "\tWhich has a higher % of people who are renters?: (North Dakota, USA) or Tennesse\n",
      "\te, USA\n",
      "12) 154 #2 [12.3%]\n",
      "\tWhich has a higher population-weighted density (r=1km)?: (Webb County, Texas, US\n",
      "\tA) or Onondaga County, New York, USA\n",
      "13)  37 #4 [13.0%]\n",
      "\tWhich has a higher % of people who have individual income > $100k?: (Jackson [Ur\n",
      "\tban Area], MS, USA) or Fayetteville [Urban Area], NC, USA\n",
      "14) 577 #4 [13.6%]\n",
      "\tWhich has a higher % of people who are gay and cohabiting with a partner/spouse?\n",
      "\t: Portland [Urban Area], OR-WA, USA or (Portland [Urban Area], ME, USA)\n",
      "15) 418 #5 [13.6%]\n",
      "\tWhich has less access to hospitals (higher population-weighted mean distance)?: \n",
      "\tNebraska, USA or (North Carolina, USA)\n",
      "16) 548 #5 [13.7%]\n",
      "\tWhich has a higher % of people who have at least a high school diploma?: (Birmin\n",
      "\tgham [Urban Area], AL, USA) or Winston-Salem [Urban Area], NC, USA\n",
      "17) 591 #3 [13.7%]\n",
      "\thigher % of workers employed in the management industry: Indiana, USA or (Alaska\n",
      "\t, USA)\n",
      "18)  24 #3 [13.8%]\n",
      "\tWhich has a higher % of people who are Black?: (Lincoln MSA, NE, USA) or Fayette\n",
      "\tville-Springdale-Rogers MSA, AR-MO, USA\n",
      "19) 416 #4 [14.3%]\n",
      "\tWhich has a higher population?: (Boise City MSA, ID, USA) or Deltona-Daytona Bea\n",
      "\tch-Ormond Beach MSA, FL, USA\n",
      "20) 471 #2 [14.4%]\n",
      "\tWhich has less access to airports (higher population-weighted mean distance)?: (\n",
      "\tNashville TN Media Market, USA) or Harlingen-Weslaco-Brownsville-Mcallen TX Medi\n",
      "\ta Market, USA\n"
     ]
    }
   ],
   "source": [
    "hardest_questions()"
   ]
  },
  {
   "cell_type": "code",
   "execution_count": 16,
   "id": "87d70b26-e5b7-41c8-ba2a-7ffe2fd097a1",
   "metadata": {},
   "outputs": [
    {
     "name": "stdout",
     "output_type": "stream",
     "text": [
      " 1) 578 #5 [ 6.2%] 🟩 av 🟥 k p ap vi t b\n",
      "\tWhich has a higher % of adults with obesity?: East Baton Rouge Parish, Louisiana\n",
      "\t, USA or (Prince George's County, Maryland, USA)\n",
      " 2)  30 #5 [ 8.5%] 🟥 vo av k g p e\n",
      "\tWhich has a higher % of residents who are non-citizens?: (Austin city, Texas, US\n",
      "\tA) or El Paso city, Texas, USA\n",
      " 3) 704 #2 [ 8.5%] 🟥 av k p ap vi t b\n",
      "\tWhich has a higher % of people who are gay and cohabiting with a partner/spouse?\n",
      "\t: Salem [Urban Area], OR, USA or (Springfield [Urban Area], MO, USA)\n",
      " 4) 577 #3 [10.0%] 🟩 k b 🟥 av p ap vi t\n",
      "\thigher population-weighted PM2.5 pollution: New York Urban Center, USA or (York \n",
      "\tUrban Center, United Kingdom)\n",
      " 5) 487 #4 [10.6%] 🟩 av 🟥 vo k g p ap vi\n",
      "\tWhich has a higher % of people who are low income based on the Low-income cut-of\n",
      "\tfs, after tax (LICO-AT)?: (Ottawa - Gatineau Population Center, QC-ON, Canada) o\n",
      "\tr Saskatoon Population Center, SK, Canada\n",
      " 6) 135 #5 [11.4%] 🟩 k e 🟥 vo av g p ad vi\n",
      "\tWhich has more hours of sun per day on average? (population weighted): DC Circui\n",
      "\tt, USA or (1st Circuit, USA)\n",
      " 7) 113 #5 [11.4%] 🟥 vo av k g p ad e\n",
      "\tWhich has a higher % of people who commute by bike?: 1st Circuit, USA or (10th C\n",
      "\tircuit, USA)\n",
      " 8) 506 #5 [11.4%] 🟩 k p b 🟥 vo av ap vi\n",
      "\tWhich has a higher % of people between 25 and 64 who have at least a high school\n",
      "\t diploma?: Gatineau Territory, Quebec, Canada or (Division No. 11, Saskatchewan,\n",
      "\t Canada)\n",
      " 9) 658 #3 [11.5%] 🟩 t b 🟥 av k p ap vi\n",
      "\tWhich has a higher % of people who are renters?: (Ingham County, Michigan, USA) \n",
      "\tor Nassau County, New York, USA\n",
      "10) 240 #3 [12.0%] 🟩 av p 🟥 vo k g ad e vi\n",
      "\tWhich has a higher mean daily high temperature in summer (population weighted)?:\n",
      "\t Chula Vista city, California, USA or (Columbus city, Ohio, USA)\n",
      "11) 336 #5 [12.2%] 🟩 p vi 🟥 vo av k g ap\n",
      "\tWhich has a higher % of people who are renters?: (North Dakota, USA) or Tennesse\n",
      "\te, USA\n",
      "12) 154 #2 [12.3%] 🟩 av vi 🟥 vo k g p e\n",
      "\tWhich has a higher population-weighted density (r=1km)?: (Webb County, Texas, US\n",
      "\tA) or Onondaga County, New York, USA\n",
      "13)  37 #4 [13.0%] 🟩 av p 🟥 vo k g e\n",
      "\tWhich has a higher % of people who have individual income > $100k?: (Jackson [Ur\n",
      "\tban Area], MS, USA) or Fayetteville [Urban Area], NC, USA\n",
      "14) 577 #4 [13.6%] 🟩 k 🟥 av p ap vi t b\n",
      "\tWhich has a higher % of people who are gay and cohabiting with a partner/spouse?\n",
      "\t: Portland [Urban Area], OR-WA, USA or (Portland [Urban Area], ME, USA)\n",
      "15) 418 #5 [13.6%] 🟩 av k 🟥 vo g p ap vi\n",
      "\tWhich has less access to hospitals (higher population-weighted mean distance)?: \n",
      "\tNebraska, USA or (North Carolina, USA)\n",
      "16) 548 #5 [13.7%] 🟩 av 🟥 vo k p ap vi t b\n",
      "\tWhich has a higher % of people who have at least a high school diploma?: (Birmin\n",
      "\tgham [Urban Area], AL, USA) or Winston-Salem [Urban Area], NC, USA\n",
      "17) 591 #3 [13.7%] 🟩 p 🟥 av k ap vi t b\n",
      "\thigher % of workers employed in the management industry: Indiana, USA or (Alaska\n",
      "\t, USA)\n",
      "18)  24 #3 [13.8%] 🟩 g 🟥 av k p e\n",
      "\tWhich has a higher % of people who are Black?: (Lincoln MSA, NE, USA) or Fayette\n",
      "\tville-Springdale-Rogers MSA, AR-MO, USA\n",
      "19) 416 #4 [14.3%] 🟩 av 🟥 vo k g p ap vi\n",
      "\tWhich has a higher population?: (Boise City MSA, ID, USA) or Deltona-Daytona Bea\n",
      "\tch-Ormond Beach MSA, FL, USA\n",
      "20) 471 #2 [14.4%] 🟩 k p vi 🟥 vo av g ap\n",
      "\tWhich has less access to airports (higher population-weighted mean distance)?: (\n",
      "\tNashville TN Media Market, USA) or Harlingen-Weslaco-Brownsville-Mcallen TX Medi\n",
      "\ta Market, USA\n"
     ]
    }
   ],
   "source": [
    "hardest_questions(True)"
   ]
  },
  {
   "cell_type": "code",
   "execution_count": null,
   "id": "08bb2e3d-2c71-4c72-948d-f4ee2466d8ee",
   "metadata": {},
   "outputs": [],
   "source": []
  }
 ],
 "metadata": {
  "kernelspec": {
   "display_name": "Python 3 (ipykernel)",
   "language": "python",
   "name": "python3"
  },
  "language_info": {
   "codemirror_mode": {
    "name": "ipython",
    "version": 3
   },
   "file_extension": ".py",
   "mimetype": "text/x-python",
   "name": "python",
   "nbconvert_exporter": "python",
   "pygments_lexer": "ipython3",
   "version": "3.10.15"
  }
 },
 "nbformat": 4,
 "nbformat_minor": 5
}
