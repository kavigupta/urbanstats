{
 "cells": [
  {
   "cell_type": "code",
   "execution_count": 2,
   "id": "38130a5f",
   "metadata": {},
   "outputs": [],
   "source": [
    "%load_ext autoreload\n",
    "%autoreload 2"
   ]
  },
  {
   "cell_type": "code",
   "execution_count": 9,
   "id": "cbea4d43",
   "metadata": {},
   "outputs": [],
   "source": [
    "import us\n",
    "import copy\n",
    "import tqdm.auto as tqdm\n",
    "import geopandas as gpd\n",
    "import numpy as np\n",
    "import pandas as pd\n",
    "from shapefiles import shapefiles, school_district_shapefiles, ce_to_name\n",
    "from relationship import full_relationships, create_relationships\n",
    "from stats_for_shapefile import compute_statistics_for_shapefile, compute_summed_shapefile_all_keys, sum_keys\n",
    "from create_website import (\n",
    "    full_shapefile,\n",
    "    shapefile_without_ordinals,\n",
    "    add_ordinals,\n",
    "    get_statistic_categories,\n",
    "    create_page_jsons,\n",
    ")\n",
    "from election_data import with_election_results\n",
    "from urbanstats.features.extract_data import feature_data\n",
    "import matplotlib.pyplot as plt\n",
    "import matplotlib as mpl\n",
    "\n",
    "from urbanstats.data.gpw import *\n",
    "from urbanstats.data.population_urban_area import *\n",
    "\n",
    "from collections import defaultdict, Counter\n",
    "\n",
    "\n",
    "from shapefiles import CONGRESSIONAL_DISTRICTS, COUNTIES, county_cross_cd, usda_county_type, shapefiles"
   ]
  },
  {
   "cell_type": "code",
   "execution_count": 10,
   "id": "37287094",
   "metadata": {},
   "outputs": [],
   "source": [
    "from urbanstats.osm.buses import national_stops\n",
    "from urbanstats.osm.trains import national_stations"
   ]
  },
  {
   "cell_type": "code",
   "execution_count": 70,
   "id": "ff275ca7",
   "metadata": {},
   "outputs": [],
   "source": [
    "remap_names = {\n",
    "        \"cats\": \"charlotte area transit system\",\n",
    "    \"bnsf railway\": \"bnsf\",\n",
    "    \"detroit people mover co.\": \"detroit people mover co\"\n",
    "\n",
    "}\n",
    "for x in {\n",
    "}:\n",
    "    remap_names[x] = \"utah transit authority\""
   ]
  },
  {
   "cell_type": "code",
   "execution_count": 84,
   "id": "51027a9e",
   "metadata": {},
   "outputs": [],
   "source": [
    "import re\n",
    "\n",
    "def canonicalize(name):\n",
    "    # Convert to lowercase and remove leading/trailing whitespaces\n",
    "    name = name.lower().strip()\n",
    "\n",
    "    # Remove special characters and replace spaces with underscores\n",
    "    name = re.sub(r'[^a-z0-9\\s]', '', name)\n",
    "    name = re.sub(r'\\s+', '_', name)\n",
    "\n",
    "    # Handle specific cases\n",
    "    if 'metropolitan transportation authority' in name:\n",
    "        return 'mta'\n",
    "    elif 'long island rail road' in name or 'long island railroad' in name:\n",
    "        return 'lirr'\n",
    "    elif 'san francisco bay area rapid transit district' in name:\n",
    "        return 'bart'\n",
    "    elif 'massachusetts bay transportation authority' in name:\n",
    "        return 'mbta'\n",
    "    elif 'new york city transit authority' in name:\n",
    "        return 'nycta'\n",
    "    elif 'niagara frontier transportation authority' in name:\n",
    "        return 'nfta'\n",
    "    elif 'new hope & ivyland rail road' in name:\n",
    "        return 'new_hope_ivyland_rr'\n",
    "    elif 'bi-state development agency' in name:\n",
    "        return 'bi_state_development_agency'\n",
    "    elif 'chicago transit authority' in name:\n",
    "        return 'cta'\n",
    "    elif 'peninsula corridor joint powers board' in name:\n",
    "        return 'caltrain'\n",
    "    elif 'port authority of new york and new jersey' in name:\n",
    "        return 'port_authority'\n",
    "    elif 'new jersey transit' in name:\n",
    "        return 'nj_transit'\n",
    "    elif 'southeastern pennsylvania transportation authority' in name:\n",
    "        return 'septa'\n",
    "    elif 'washington metropolitan area transit authority' in name:\n",
    "        return 'wmata'\n",
    "    elif 'los angeles county transportation authority' in name:\n",
    "        return 'lacmta'\n",
    "    elif 'santa clara valley transportation authority' in name:\n",
    "        return 'vta'\n",
    "    else:\n",
    "        # If no specific rule matches, return the cleaned name\n",
    "        return name"
   ]
  },
  {
   "cell_type": "code",
   "execution_count": 106,
   "id": "282126dd",
   "metadata": {},
   "outputs": [
    {
     "data": {
      "text/html": [
       "<div>\n",
       "<style scoped>\n",
       "    .dataframe tbody tr th:only-of-type {\n",
       "        vertical-align: middle;\n",
       "    }\n",
       "\n",
       "    .dataframe tbody tr th {\n",
       "        vertical-align: top;\n",
       "    }\n",
       "\n",
       "    .dataframe thead th {\n",
       "        text-align: right;\n",
       "    }\n",
       "</style>\n",
       "<table border=\"1\" class=\"dataframe\">\n",
       "  <thead>\n",
       "    <tr style=\"text-align: right;\">\n",
       "      <th></th>\n",
       "      <th>name</th>\n",
       "      <th>tags</th>\n",
       "      <th>geometry</th>\n",
       "      <th>network</th>\n",
       "      <th>operator</th>\n",
       "      <th>exclusion_reason</th>\n",
       "    </tr>\n",
       "  </thead>\n",
       "  <tbody>\n",
       "    <tr>\n",
       "      <th>0</th>\n",
       "      <td>1st Street</td>\n",
       "      <td>{'light_rail': 'yes', 'name': '1st Street', 'n...</td>\n",
       "      <td>POINT (-118.18940 33.76871)</td>\n",
       "      <td>LACMTA</td>\n",
       "      <td>los angeles county metropolitan transportation...</td>\n",
       "      <td></td>\n",
       "    </tr>\n",
       "    <tr>\n",
       "      <th>1</th>\n",
       "      <td>Downtown Long Beach</td>\n",
       "      <td>{'alt_name': 'Transit Mall', 'light_rail': 'ye...</td>\n",
       "      <td>POINT (-118.19296 33.76804)</td>\n",
       "      <td>LACMTA</td>\n",
       "      <td>los angeles county metropolitan transportation...</td>\n",
       "      <td></td>\n",
       "    </tr>\n",
       "    <tr>\n",
       "      <th>2</th>\n",
       "      <td>5th Street</td>\n",
       "      <td>{'light_rail': 'yes', 'name': '5th Street', 'n...</td>\n",
       "      <td>POINT (-118.18938 33.77354)</td>\n",
       "      <td>LACMTA</td>\n",
       "      <td>los angeles county metropolitan transportation...</td>\n",
       "      <td></td>\n",
       "    </tr>\n",
       "    <tr>\n",
       "      <th>3</th>\n",
       "      <td>Downers Grove Main Street</td>\n",
       "      <td>{'addr:city': 'Downers Grove', 'addr:housenumb...</td>\n",
       "      <td>POINT (-88.00863 41.79554)</td>\n",
       "      <td>Metra</td>\n",
       "      <td>metra</td>\n",
       "      <td></td>\n",
       "    </tr>\n",
       "    <tr>\n",
       "      <th>4</th>\n",
       "      <td>Stone Avenue</td>\n",
       "      <td>{'addr:city': 'La Grange', 'addr:housenumber':...</td>\n",
       "      <td>POINT (-87.87792 41.81433)</td>\n",
       "      <td>Metra</td>\n",
       "      <td>metra</td>\n",
       "      <td></td>\n",
       "    </tr>\n",
       "    <tr>\n",
       "      <th>...</th>\n",
       "      <td>...</td>\n",
       "      <td>...</td>\n",
       "      <td>...</td>\n",
       "      <td>...</td>\n",
       "      <td>...</td>\n",
       "      <td>...</td>\n",
       "    </tr>\n",
       "    <tr>\n",
       "      <th>4327</th>\n",
       "      <td>Metrolink East Ontario Station</td>\n",
       "      <td>{'name': 'Metrolink East Ontario Station', 'ne...</td>\n",
       "      <td>GEOMETRYCOLLECTION EMPTY</td>\n",
       "      <td>Metrolink</td>\n",
       "      <td>southern california regional rail authority</td>\n",
       "      <td></td>\n",
       "    </tr>\n",
       "    <tr>\n",
       "      <th>4328</th>\n",
       "      <td>Nairobi</td>\n",
       "      <td>{'name': 'Nairobi', 'public_transport': 'stop_...</td>\n",
       "      <td>GEOMETRYCOLLECTION EMPTY</td>\n",
       "      <td>NO NETWORK</td>\n",
       "      <td>no operator</td>\n",
       "      <td></td>\n",
       "    </tr>\n",
       "    <tr>\n",
       "      <th>4329</th>\n",
       "      <td>Stanleyville</td>\n",
       "      <td>{'name': 'Stanleyville', 'public_transport': '...</td>\n",
       "      <td>GEOMETRYCOLLECTION EMPTY</td>\n",
       "      <td>NO NETWORK</td>\n",
       "      <td>no operator</td>\n",
       "      <td></td>\n",
       "    </tr>\n",
       "    <tr>\n",
       "      <th>4330</th>\n",
       "      <td>Marietta Station</td>\n",
       "      <td>{'historic': 'railway', 'name': 'Marietta Stat...</td>\n",
       "      <td>MULTIPOLYGON (((-84.55098 33.95414, -84.55098 ...</td>\n",
       "      <td>NO NETWORK</td>\n",
       "      <td>no operator</td>\n",
       "      <td></td>\n",
       "    </tr>\n",
       "    <tr>\n",
       "      <th>4331</th>\n",
       "      <td>Honolulu International Airport Station</td>\n",
       "      <td>{'construction': 'yes', 'construction:public_t...</td>\n",
       "      <td>POLYGON ((-157.92102 21.33406, -157.92084 21.3...</td>\n",
       "      <td>NO NETWORK</td>\n",
       "      <td>no operator</td>\n",
       "      <td></td>\n",
       "    </tr>\n",
       "  </tbody>\n",
       "</table>\n",
       "<p>4332 rows × 6 columns</p>\n",
       "</div>"
      ],
      "text/plain": [
       "                                        name  \\\n",
       "0                                 1st Street   \n",
       "1                        Downtown Long Beach   \n",
       "2                                 5th Street   \n",
       "3                  Downers Grove Main Street   \n",
       "4                               Stone Avenue   \n",
       "...                                      ...   \n",
       "4327          Metrolink East Ontario Station   \n",
       "4328                                 Nairobi   \n",
       "4329                            Stanleyville   \n",
       "4330                        Marietta Station   \n",
       "4331  Honolulu International Airport Station   \n",
       "\n",
       "                                                   tags  \\\n",
       "0     {'light_rail': 'yes', 'name': '1st Street', 'n...   \n",
       "1     {'alt_name': 'Transit Mall', 'light_rail': 'ye...   \n",
       "2     {'light_rail': 'yes', 'name': '5th Street', 'n...   \n",
       "3     {'addr:city': 'Downers Grove', 'addr:housenumb...   \n",
       "4     {'addr:city': 'La Grange', 'addr:housenumber':...   \n",
       "...                                                 ...   \n",
       "4327  {'name': 'Metrolink East Ontario Station', 'ne...   \n",
       "4328  {'name': 'Nairobi', 'public_transport': 'stop_...   \n",
       "4329  {'name': 'Stanleyville', 'public_transport': '...   \n",
       "4330  {'historic': 'railway', 'name': 'Marietta Stat...   \n",
       "4331  {'construction': 'yes', 'construction:public_t...   \n",
       "\n",
       "                                               geometry     network  \\\n",
       "0                           POINT (-118.18940 33.76871)      LACMTA   \n",
       "1                           POINT (-118.19296 33.76804)      LACMTA   \n",
       "2                           POINT (-118.18938 33.77354)      LACMTA   \n",
       "3                            POINT (-88.00863 41.79554)       Metra   \n",
       "4                            POINT (-87.87792 41.81433)       Metra   \n",
       "...                                                 ...         ...   \n",
       "4327                           GEOMETRYCOLLECTION EMPTY   Metrolink   \n",
       "4328                           GEOMETRYCOLLECTION EMPTY  NO NETWORK   \n",
       "4329                           GEOMETRYCOLLECTION EMPTY  NO NETWORK   \n",
       "4330  MULTIPOLYGON (((-84.55098 33.95414, -84.55098 ...  NO NETWORK   \n",
       "4331  POLYGON ((-157.92102 21.33406, -157.92084 21.3...  NO NETWORK   \n",
       "\n",
       "                                               operator exclusion_reason  \n",
       "0     los angeles county metropolitan transportation...                   \n",
       "1     los angeles county metropolitan transportation...                   \n",
       "2     los angeles county metropolitan transportation...                   \n",
       "3                                                 metra                   \n",
       "4                                                 metra                   \n",
       "...                                                 ...              ...  \n",
       "4327        southern california regional rail authority                   \n",
       "4328                                        no operator                   \n",
       "4329                                        no operator                   \n",
       "4330                                        no operator                   \n",
       "4331                                        no operator                   \n",
       "\n",
       "[4332 rows x 6 columns]"
      ]
     },
     "execution_count": 106,
     "metadata": {},
     "output_type": "execute_result"
    }
   ],
   "source": [
    "stations"
   ]
  },
  {
   "cell_type": "code",
   "execution_count": 135,
   "id": "e1737a19",
   "metadata": {},
   "outputs": [],
   "source": [
    "stations = national_stations().copy()\n",
    "get_non_excluded = lambda: stations[stations.exclusion_reason == \"\"]\n",
    "stations[\"exclusion_reason\"] = \"\"\n",
    "stations.loc[stations[\"operator\"] == \"amtrak\", \"exclusion_reason\"] = \"Amtrak\"\n",
    "stations.loc[stations[\"operator\"] == \"bnsf\", \"exclusion_reason\"] = \"BNSF\"\n",
    "stations.loc[stations[\"operator\"] == \"NO OPERATOR\", \"exclusion_reason\"] = \"No operator\"\n",
    "# stations.operator = stations.operator.apply(lambda x: canonicalize(x))\n",
    "get_operator_counts = lambda: Counter(\n",
    "    x for xs in get_non_excluded().operator for x in xs.split(\";\")\n",
    ")\n",
    "# operator_counts = get_operator_counts()\n",
    "too_small_operators = {x for x in operator_counts if operator_counts[x] <= 5}\n",
    "# stations.loc[\n",
    "#     stations[\"operator\"].apply(\n",
    "#         lambda operators: all(\n",
    "#             operator in too_small_operators for operator in operators.split(\";\")\n",
    "#         )\n",
    "#     ),\n",
    "#     \"exclusion_reason\",\n",
    "# ] = \"Operator too small\"\n",
    "# non_excluded = get_non_excluded()\n",
    "operator_counts = get_operator_counts()"
   ]
  },
  {
   "cell_type": "code",
   "execution_count": 136,
   "id": "41f2e29e",
   "metadata": {},
   "outputs": [
    {
     "data": {
      "text/plain": [
       "[]"
      ]
     },
     "execution_count": 136,
     "metadata": {},
     "output_type": "execute_result"
    }
   ],
   "source": [
    "[x for x in stations[\"operator\"] if \";\" in x or \"&\" in x or \" and \" in x or ',' in x]"
   ]
  },
  {
   "cell_type": "code",
   "execution_count": 138,
   "id": "f5b2f974",
   "metadata": {
    "scrolled": false
   },
   "outputs": [
    {
     "name": "stdout",
     "output_type": "stream",
     "text": [
      "'adirondak scenic railroad'\n",
      "'adrian_and_blissfield_railroad'\n",
      "'alaska railroad'\n",
      "'alaska railroad corporation'\n",
      "'altamont corridor express'\n",
      "'architect of the capitol'\n",
      "'b_and_o'\n",
      "'bart'\n",
      "'bellefonte historical railroad society'\n",
      "'bi_state_development_agency'\n",
      "'big moose station restaraunt'\n",
      "'black hills central railroad'\n",
      "'black_river_and_western'\n",
      "'blue ridge scenic railway'\n",
      "'boone_and_scenic_valley_railroad'\n",
      "'branson scenic railway'\n",
      "'brightline'\n",
      "'busch gardens williamsburg'\n",
      "'california state railroad museum'\n",
      "'caltrain'\n",
      "'caltrans'\n",
      "'camp noyo'\n",
      "'capital metro'\n",
      "'capital metropolitan transportation authority'\n",
      "'catskill mounrain railroad'\n",
      "'ccrta'\n",
      "'cedar park austin steam train association'\n",
      "'charlotte_area_transit_system'\n",
      "'chattanooga society of model engineers'\n",
      "'chehalis_centralia_railroad_and_museum'\n",
      "'city of albuquerque'\n",
      "'city of barstow'\n",
      "'city of palmdale'\n",
      "'city of tustin'\n",
      "'city_and_county_of_honolulu'\n",
      "\"clark's trading post\"\n",
      "'closed'\n",
      "'colebrookdale railroad'\n",
      "'connecticut department of transportation'\n",
      "'conway scenic railroad'\n",
      "'cooperstown_and_charlotte_valley_railroad'\n",
      "'coumbia sussex'\n",
      "'csx'\n",
      "'csx transportation'\n",
      "'cta'\n",
      "'ctrail'\n",
      "'cumbres_and_toltec_scenic_railroad'\n",
      "'cuyahoga valley scenic railroad'\n",
      "'dallas area rapid transit'\n",
      "'dart'\n",
      "'dcta'\n",
      "'delaware_and_ulster_railroad'\n",
      "'denver transit partners'\n",
      "'detroit transportation corporation'\n",
      "'detroit_people_mover'\n",
      "'disney parks'\n",
      "'disney_transport'\n",
      "'eastern washington gateway railroad'\n",
      "'ebt foundation'\n",
      "'els'\n",
      "'erie zoo'\n",
      "'formerly western maryland railroad'\n",
      "'gcrta'\n",
      "'georgetown loop railroad'\n",
      "'goaa'\n",
      "'great smoky mountains railroad'\n",
      "'houston_mta'\n",
      "'illinois railway museum'\n",
      "'jta'\n",
      "'keolis'\n",
      "'lacmta'\n",
      "'lake county historical society'\n",
      "'lake shore live steamers'\n",
      "\"lincoln children's zoo\"\n",
      "'lirr'\n",
      "'los angeles county transportation authority'\n",
      "'lufkin host lions club'\n",
      "'marta'\n",
      "'maryland transit administration'\n",
      "'massachusetts bay transit authority'\n",
      "'mbta'\n",
      "'memphis kiddie park'\n",
      "'metra'\n",
      "'metro transit'\n",
      "'metro-north'\n",
      "'metro_north'\n",
      "'metrolink'\n",
      "'metropolitan atlanta rapid transit authority'\n",
      "'metropolitan transit system'\n",
      "'miami-dade transit'\n",
      "'minnesota transportation museum'\n",
      "'montgomery county'\n",
      "'mount hood railroad'\n",
      "'mount rainier scenic railroad'\n",
      "'mountain top historical society'\n",
      "'mta'\n",
      "'mta new york city transit'\n",
      "'music city star'\n",
      "'new_hope_ivyland_rr'\n",
      "'nfta'\n",
      "'nictd'\n",
      "'nj_transit'\n",
      "'nm railrunner'\n",
      "'nmrx'\n",
      "'no_operator'\n",
      "'north county transit district'\n",
      "'northwest railway museum'\n",
      "'nycta'\n",
      "'ohare_ats'\n",
      "'oil creek railway historical society'\n",
      "'oregon coast scenic railroad'\n",
      "'oregon pacific railroad'\n",
      "'orlando international airport'\n",
      "'patco'\n",
      "'path'\n",
      "'phx sky train'\n",
      "'port authority of allegheny county'\n",
      "'port of oakland'\n",
      "'rails to trails of central pa inc.'\n",
      "'regional transportation district'\n",
      "'retired'\n",
      "'rio metro'\n",
      "'ripta'\n",
      "'rta'\n",
      "'rtd'\n",
      "'sacramento regional transit'\n",
      "'san antonio zoo'\n",
      "'san diego metropolitan transit system'\n",
      "'san francisco municipal transportation agency'\n",
      "'san joaquin regional rail commission'\n",
      "'santa clara valley transportation authority'\n",
      "'saratoga_and_north_creek_railroad'\n",
      "'saratoga_and_north_creek_railway'\n",
      "'seattle department of transportation'\n",
      "'seattle monorail services'\n",
      "'septa'\n",
      "'sfmuni'\n",
      "'shore line east'\n",
      "'shore line east (amtrak)'\n",
      "'skunk train'\n",
      "'sonoma-marin area rail transit district'\n",
      "'sound transit'\n",
      "'south florida regional transportation authority'\n",
      "'southeastern pennsylvania transportation authority'\n",
      "'southern california regional rail authority'\n",
      "'sumpter valley railroad'\n",
      "'sunrail'\n",
      "'tennessee valley railroad museum'\n",
      "'texas state railroad'\n",
      "'texas transporation museum'\n",
      "'the alaska railroad'\n",
      "'tilden regional park'\n",
      "'tri-county metropolitan transit of oregon'\n",
      "'trimet'\n",
      "'trinity metro'\n",
      "'unknown'\n",
      "'up'\n",
      "'uta'\n",
      "'valley metro'\n",
      "'valley metro org'\n",
      "'valley railroad'\n",
      "'virginia railway express'\n",
      "'waldemeer_and_water_world'\n",
      "'wales_west_rv_resort_and_light_railway'\n",
      "'washington metropolitan area transit authority'\n",
      "'winnipesaukee railroad'\n",
      "'winnipesaukee scenic railroad'\n",
      "'wiscasset_waterville_farmington_railway'\n"
     ]
    }
   ],
   "source": [
    "print(\"\\n\".join(repr(x) for x in sorted(operator_counts)))\n",
    "# len(operator_counts)"
   ]
  },
  {
   "cell_type": "code",
   "execution_count": 127,
   "id": "fe715a52",
   "metadata": {},
   "outputs": [
    {
     "data": {
      "text/plain": [
       "{'Amtrak'}"
      ]
     },
     "execution_count": 127,
     "metadata": {},
     "output_type": "execute_result"
    }
   ],
   "source": [
    "set(stations[stations.operator == \"amtrak\"].exclusion_reason)"
   ]
  },
  {
   "cell_type": "code",
   "execution_count": 128,
   "id": "c0afe50c",
   "metadata": {
    "scrolled": true
   },
   "outputs": [
    {
     "data": {
      "text/plain": [
       "Counter({'lacmta': 102,\n",
       "         'metra': 196,\n",
       "         'no_operator': 1416,\n",
       "         'caltrans': 1,\n",
       "         'nycta': 445,\n",
       "         'mta': 50,\n",
       "         'lirr': 80,\n",
       "         'bart': 49,\n",
       "         'mbta': 143,\n",
       "         'nfta': 13,\n",
       "         'new_hope_ivyland_rr': 1,\n",
       "         'septa': 148,\n",
       "         'bi_state_development_agency': 38,\n",
       "         'cta': 140,\n",
       "         'caltrain': 2,\n",
       "         'port_authority': 4,\n",
       "         'nj_transit': 72,\n",
       "         'path': 9,\n",
       "         'sfmuni': 58,\n",
       "         'ohare_ats': 5,\n",
       "         'disney_transport': 2,\n",
       "         'marta': 3,\n",
       "         'patco': 4,\n",
       "         'detroit people mover co.': 9,\n",
       "         'metro-north railroad': 71,\n",
       "         'utah transit authority': 22,\n",
       "         'maryland transit administration': 58,\n",
       "         'csx': 4,\n",
       "         'south florida regional transportation authority': 16,\n",
       "         'north county transit district': 5,\n",
       "         'regional transportation district': 58,\n",
       "         'washington metropolitan area transit authority': 102,\n",
       "         'miami-dade transit': 2,\n",
       "         'detroit people mover co': 2,\n",
       "         'detroit transportation corporation': 2,\n",
       "         'cats': 25,\n",
       "         'bnsf railway': 51,\n",
       "         'sound transit': 33,\n",
       "         'nictd': 15,\n",
       "         'music city star': 1,\n",
       "         'sunrail': 15,\n",
       "         'tilden regional park': 1,\n",
       "         'busch gardens williamsburg': 3,\n",
       "         'southeastern pennsylvania transportation authority': 1,\n",
       "         'georgetown loop railroad': 2,\n",
       "         'san antonio zoo': 1,\n",
       "         'shore line east (amtrak)': 2,\n",
       "         'nj transit': 6,\n",
       "         'rta': 7,\n",
       "         'disney parks': 2,\n",
       "         'valley metro': 23,\n",
       "         'valley metro org': 23,\n",
       "         'port authority': 1,\n",
       "         'san diego metropolitan transit system': 60,\n",
       "         'metro transit': 1,\n",
       "         'city of tustin': 1,\n",
       "         'connecticut department of transportation': 1,\n",
       "         'phx sky train': 6,\n",
       "         'uta': 10,\n",
       "         'houston_mta': 34,\n",
       "         'capital metropolitan transportation authority': 9,\n",
       "         'capital metro': 1,\n",
       "         'altamont corridor express': 5,\n",
       "         'utah transit athority': 1,\n",
       "         'up': 1,\n",
       "         'san joaquin regional rail commission': 1,\n",
       "         'lake shore live steamers': 1,\n",
       "         'unknown': 1,\n",
       "         'wiscasset_waterville_farmington_railway': 3,\n",
       "         'conway scenic railroad': 1,\n",
       "         'denver transit partners': 15,\n",
       "         'massachusetts bay transit authority': 8,\n",
       "         'boone_and_scenic_valley_railroad': 1,\n",
       "         'lake county historical society': 1,\n",
       "         'colebrookdale railroad': 1,\n",
       "         'sonoma-marin area rail transit district': 12,\n",
       "         'california state railroad museum': 1,\n",
       "         'metropolitan atlanta rapid transit authority': 2,\n",
       "         'keolis': 8,\n",
       "         \"lincoln children's zoo\": 1,\n",
       "         'rtd': 6,\n",
       "         'eastern washington gateway railroad': 1,\n",
       "         'saratoga_and_north_creek_railroad': 1,\n",
       "         'alaska railroad': 1,\n",
       "         'mta new york city transit': 2,\n",
       "         'gcrta': 7,\n",
       "         'port authority of allegheny county': 16,\n",
       "         'utah transit authority (uta)': 1,\n",
       "         'csx transportation': 1,\n",
       "         'brightline': 5,\n",
       "         'ctrail': 2,\n",
       "         'metrolink': 5,\n",
       "         'city of barstow': 1,\n",
       "         'port of oakland': 1,\n",
       "         'dart': 53,\n",
       "         'shore line east': 1,\n",
       "         'southern california regional rail authority': 9,\n",
       "         'city of palmdale': 1,\n",
       "         'sacramento regional transit': 52,\n",
       "         'metropolitan transit system': 1,\n",
       "         'valley railroad': 1,\n",
       "         'los angeles county transportation authority': 1,\n",
       "         'santa clara valley transportation authority': 56,\n",
       "         'metro north railroad': 1,\n",
       "         'dcta': 5,\n",
       "         'virginia railway express': 1,\n",
       "         'the alaska railroad': 2,\n",
       "         'nm railrunner': 4,\n",
       "         'rio metro': 3,\n",
       "         'nmrx': 1,\n",
       "         'oregon pacific railroad': 1,\n",
       "         'metro-north': 1,\n",
       "         'ccrta': 1,\n",
       "         'alaska railroad corporation': 1,\n",
       "         'san francisco municipal transportation agency': 4,\n",
       "         'winnipesaukee railroad': 1,\n",
       "         'winnipesaukee scenic railroad': 1,\n",
       "         'erie zoo': 1,\n",
       "         'oregon coast scenic railroad': 3,\n",
       "         'sumpter valley railroad': 2,\n",
       "         'seattle monorail services': 2,\n",
       "         'mount rainier scenic railroad': 1,\n",
       "         'chehalis_centralia_railroad_and_museum': 1,\n",
       "         'texas state railroad': 2,\n",
       "         'wales_west_rv_resort_and_light_railway': 3,\n",
       "         'lufkin host lions club': 1,\n",
       "         'tennessee valley railroad museum': 1,\n",
       "         'branson scenic railway': 2,\n",
       "         'minnesota transportation museum': 1,\n",
       "         'illinois railway museum': 1,\n",
       "         'adrian_and_blissfield_railroad': 1,\n",
       "         'cuyahoga valley scenic railroad': 5,\n",
       "         'bellefonte historical railroad society': 1,\n",
       "         'saratoga_and_north_creek_railway': 3,\n",
       "         \"clark's trading post\": 1,\n",
       "         'cooperstown_and_charlotte_valley_railroad': 1,\n",
       "         'formerly western maryland railroad': 1,\n",
       "         'architect of the capitol': 6,\n",
       "         'jta': 1,\n",
       "         'trimet': 1,\n",
       "         'tri-county metropolitan transit of oregon': 8,\n",
       "         'texas transporation museum': 1,\n",
       "         'dallas area rapid transit': 9,\n",
       "         'black hills central railroad': 2,\n",
       "         'cedar park austin steam train association': 2,\n",
       "         'montgomery county': 1,\n",
       "         'camp noyo': 1,\n",
       "         'great smoky mountains railroad': 2,\n",
       "         'ebt foundation': 1,\n",
       "         'retired': 1,\n",
       "         'northwest railway museum': 1,\n",
       "         'skunk train': 1,\n",
       "         'closed': 1,\n",
       "         'b_and_o': 9,\n",
       "         'els': 1,\n",
       "         'goaa': 1,\n",
       "         'adirondak scenic railroad': 1,\n",
       "         'delaware_and_ulster_railroad': 1,\n",
       "         'cumbres_and_toltec_scenic_railroad': 1,\n",
       "         'mountain top historical society': 1,\n",
       "         'oil creek railway historical society': 1,\n",
       "         'mount hood railroad': 1,\n",
       "         'big moose station restaraunt': 1,\n",
       "         'seattle department of transportation': 1,\n",
       "         'black_river_and_western': 2,\n",
       "         'orlando international airport': 1,\n",
       "         'waldemeer_and_water_world': 1,\n",
       "         'blue ridge scenic railway': 1,\n",
       "         'city of albuquerque': 1,\n",
       "         'coumbia sussex': 1,\n",
       "         'memphis kiddie park': 1,\n",
       "         'catskill mounrain railroad': 1,\n",
       "         'ripta': 1,\n",
       "         'trinity metro': 2,\n",
       "         'rails to trails of central pa inc.': 1,\n",
       "         'city_and_county_of_honolulu': 2,\n",
       "         'chattanooga society of model engineers': 1,\n",
       "         'charlotte area transit system': 1})"
      ]
     },
     "execution_count": 128,
     "metadata": {},
     "output_type": "execute_result"
    }
   ],
   "source": [
    "operator_counts"
   ]
  },
  {
   "cell_type": "code",
   "execution_count": 129,
   "id": "981d62ab",
   "metadata": {},
   "outputs": [
    {
     "data": {
      "text/plain": [
       "\"adirondak scenic railroad; adrian and blissfield railroad; alaska railroad; alaska railroad corporation; altamont corridor express; bellefonte historical railroad society; big moose station restaraunt; black hills central railroad; black river & western rr; black river and western; blue ridge scenic railway; boone_and_scenic_valley_railroad; branson scenic railway; brightline; busch gardens williamsburg; california state railroad museum; caltrain; caltrans; camp noyo; capital metro; catskill mounrain railroad; ccrta; cedar park austin steam train association; charlotte area transit system; chattanooga society of model engineers; chehalis centralia railroad & museum; city and county of honolulu; city of albuquerque; city of barstow; city of palmdale; city of tustin; clark's trading post; closed; colebrookdale railroad; connecticut department of transportation; conway scenic railroad; cooperstown & charlotte valley railroad; coumbia sussex; csx; csx transportation; ctrail; cumbres and toltec scenic railroad; cuyahoga valley scenic railroad; dcta; delaware & ulster railroad; detroit people mover co; detroit transportation corporation; disney parks; disney_transport; eastern washington gateway railroad; ebt foundation; els; erie zoo; formerly western maryland railroad; georgetown loop railroad; goaa; great smoky mountains railroad; illinois railway museum; jta; lake county historical society; lake shore live steamers; lincoln children's zoo; los angeles county transportation authority; lufkin host lions club; marta; memphis kiddie park; metro north railroad; metro transit; metro-north; metrolink; metropolitan atlanta rapid transit authority; metropolitan transit system; miami-dade transit; minnesota transportation museum; montgomery county; mount hood railroad; mount rainier scenic railroad; mountain top historical society; mta new york city transit; music city star; new_hope_ivyland_rr; nm railrunner; nmrx; north county transit district; northwest railway museum; ohare_ats; oil creek railway historical society; oregon coast scenic railroad; oregon pacific railroad; orlando international airport; patco; port authority; port of oakland; port_authority; rails to trails of central pa inc.; retired; rio metro; ripta; san antonio zoo; san francisco municipal transportation agency; san joaquin regional rail commission; saratoga and north creek railway; saratoga_and_north_creek_railroad; seattle department of transportation; seattle monorail services; shore line east; shore line east (amtrak); skunk train; southeastern pennsylvania transportation authority; sumpter valley railroad; tennessee valley railroad museum; texas state railroad; texas transporation museum; the alaska railroad; tilden regional park; trimet; trinity metro; unknown; up; utah transit athority; utah transit authority (uta); valley railroad; virginia railway express; waldemeer & water world; wales west rv resort & light railway; winnipesaukee railroad; winnipesaukee scenic railroad; wiscasset_waterville_farmington_railway\""
      ]
     },
     "execution_count": 129,
     "metadata": {},
     "output_type": "execute_result"
    }
   ],
   "source": [
    "\"; \".join(sorted(too_small_operators))"
   ]
  },
  {
   "cell_type": "code",
   "execution_count": 92,
   "id": "990acc81",
   "metadata": {},
   "outputs": [],
   "source": [
    "systems = pd.DataFrame(\n",
    "    {k: {\"count\": v} for k, v in operator_counts.items()}\n",
    ").T.sort_values(\"count\")"
   ]
  },
  {
   "cell_type": "code",
   "execution_count": 93,
   "id": "cc56ada5",
   "metadata": {},
   "outputs": [],
   "source": [
    "systems.to_csv(\"/home/kavi/temp/temp.csv\")"
   ]
  },
  {
   "cell_type": "code",
   "execution_count": 94,
   "id": "18dd9849",
   "metadata": {
    "scrolled": false
   },
   "outputs": [
    {
     "data": {
      "text/html": [
       "<div>\n",
       "<style scoped>\n",
       "    .dataframe tbody tr th:only-of-type {\n",
       "        vertical-align: middle;\n",
       "    }\n",
       "\n",
       "    .dataframe tbody tr th {\n",
       "        vertical-align: top;\n",
       "    }\n",
       "\n",
       "    .dataframe thead th {\n",
       "        text-align: right;\n",
       "    }\n",
       "</style>\n",
       "<table border=\"1\" class=\"dataframe\">\n",
       "  <thead>\n",
       "    <tr style=\"text-align: right;\">\n",
       "      <th></th>\n",
       "      <th>count</th>\n",
       "    </tr>\n",
       "  </thead>\n",
       "  <tbody>\n",
       "    <tr>\n",
       "      <th>uta</th>\n",
       "      <td>10</td>\n",
       "    </tr>\n",
       "    <tr>\n",
       "      <th>detroit_people_mover_co</th>\n",
       "      <td>11</td>\n",
       "    </tr>\n",
       "    <tr>\n",
       "      <th>nfta</th>\n",
       "      <td>12</td>\n",
       "    </tr>\n",
       "    <tr>\n",
       "      <th>sonomamarin_area_rail_transit_district</th>\n",
       "      <td>12</td>\n",
       "    </tr>\n",
       "    <tr>\n",
       "      <th>south_florida_regional_transportation_authority</th>\n",
       "      <td>12</td>\n",
       "    </tr>\n",
       "    <tr>\n",
       "      <th>sunrail</th>\n",
       "      <td>14</td>\n",
       "    </tr>\n",
       "    <tr>\n",
       "      <th>denver_transit_partners</th>\n",
       "      <td>15</td>\n",
       "    </tr>\n",
       "    <tr>\n",
       "      <th>port_authority_of_allegheny_county</th>\n",
       "      <td>16</td>\n",
       "    </tr>\n",
       "    <tr>\n",
       "      <th>lirr</th>\n",
       "      <td>19</td>\n",
       "    </tr>\n",
       "    <tr>\n",
       "      <th>long_island_railroad</th>\n",
       "      <td>19</td>\n",
       "    </tr>\n",
       "    <tr>\n",
       "      <th>utah_transit_authority</th>\n",
       "      <td>22</td>\n",
       "    </tr>\n",
       "    <tr>\n",
       "      <th>valley_metro</th>\n",
       "      <td>23</td>\n",
       "    </tr>\n",
       "    <tr>\n",
       "      <th>valley_metro_org</th>\n",
       "      <td>23</td>\n",
       "    </tr>\n",
       "    <tr>\n",
       "      <th>cats</th>\n",
       "      <td>25</td>\n",
       "    </tr>\n",
       "    <tr>\n",
       "      <th>sound_transit</th>\n",
       "      <td>33</td>\n",
       "    </tr>\n",
       "    <tr>\n",
       "      <th>metropolitan_transit_authority_of_harris_county_houston_texas</th>\n",
       "      <td>34</td>\n",
       "    </tr>\n",
       "    <tr>\n",
       "      <th>bistate_development_agency</th>\n",
       "      <td>38</td>\n",
       "    </tr>\n",
       "    <tr>\n",
       "      <th>long_island_rail_road</th>\n",
       "      <td>42</td>\n",
       "    </tr>\n",
       "    <tr>\n",
       "      <th>metropolitan_transportation_authority</th>\n",
       "      <td>47</td>\n",
       "    </tr>\n",
       "    <tr>\n",
       "      <th>san_francisco_bay_area_rapid_transit_district</th>\n",
       "      <td>49</td>\n",
       "    </tr>\n",
       "    <tr>\n",
       "      <th>bnsf_railway</th>\n",
       "      <td>51</td>\n",
       "    </tr>\n",
       "    <tr>\n",
       "      <th>sacramento_regional_transit</th>\n",
       "      <td>52</td>\n",
       "    </tr>\n",
       "    <tr>\n",
       "      <th>dart</th>\n",
       "      <td>53</td>\n",
       "    </tr>\n",
       "    <tr>\n",
       "      <th>santa_clara_valley_transportation_authority</th>\n",
       "      <td>56</td>\n",
       "    </tr>\n",
       "    <tr>\n",
       "      <th>regional_transportation_district</th>\n",
       "      <td>58</td>\n",
       "    </tr>\n",
       "    <tr>\n",
       "      <th>maryland_transit_administration</th>\n",
       "      <td>58</td>\n",
       "    </tr>\n",
       "    <tr>\n",
       "      <th>san_francisco_municipal_railway</th>\n",
       "      <td>58</td>\n",
       "    </tr>\n",
       "    <tr>\n",
       "      <th>san_diego_metropolitan_transit_system</th>\n",
       "      <td>60</td>\n",
       "    </tr>\n",
       "    <tr>\n",
       "      <th>metronorth_railroad</th>\n",
       "      <td>71</td>\n",
       "    </tr>\n",
       "    <tr>\n",
       "      <th>new_jersey_transit</th>\n",
       "      <td>72</td>\n",
       "    </tr>\n",
       "    <tr>\n",
       "      <th>los_angeles_county_metropolitan_transportation_authority</th>\n",
       "      <td>102</td>\n",
       "    </tr>\n",
       "    <tr>\n",
       "      <th>washington_metropolitan_area_transit_authority</th>\n",
       "      <td>102</td>\n",
       "    </tr>\n",
       "    <tr>\n",
       "      <th>mbta</th>\n",
       "      <td>138</td>\n",
       "    </tr>\n",
       "    <tr>\n",
       "      <th>chicago_transit_authority</th>\n",
       "      <td>140</td>\n",
       "    </tr>\n",
       "    <tr>\n",
       "      <th>septa</th>\n",
       "      <td>146</td>\n",
       "    </tr>\n",
       "    <tr>\n",
       "      <th>metra</th>\n",
       "      <td>187</td>\n",
       "    </tr>\n",
       "    <tr>\n",
       "      <th>new_york_city_transit_authority</th>\n",
       "      <td>445</td>\n",
       "    </tr>\n",
       "    <tr>\n",
       "      <th>no_operator</th>\n",
       "      <td>1416</td>\n",
       "    </tr>\n",
       "  </tbody>\n",
       "</table>\n",
       "</div>"
      ],
      "text/plain": [
       "                                                    count\n",
       "uta                                                    10\n",
       "detroit_people_mover_co                                11\n",
       "nfta                                                   12\n",
       "sonomamarin_area_rail_transit_district                 12\n",
       "south_florida_regional_transportation_authority        12\n",
       "sunrail                                                14\n",
       "denver_transit_partners                                15\n",
       "port_authority_of_allegheny_county                     16\n",
       "lirr                                                   19\n",
       "long_island_railroad                                   19\n",
       "utah_transit_authority                                 22\n",
       "valley_metro                                           23\n",
       "valley_metro_org                                       23\n",
       "cats                                                   25\n",
       "sound_transit                                          33\n",
       "metropolitan_transit_authority_of_harris_county...     34\n",
       "bistate_development_agency                             38\n",
       "long_island_rail_road                                  42\n",
       "metropolitan_transportation_authority                  47\n",
       "san_francisco_bay_area_rapid_transit_district          49\n",
       "bnsf_railway                                           51\n",
       "sacramento_regional_transit                            52\n",
       "dart                                                   53\n",
       "santa_clara_valley_transportation_authority            56\n",
       "regional_transportation_district                       58\n",
       "maryland_transit_administration                        58\n",
       "san_francisco_municipal_railway                        58\n",
       "san_diego_metropolitan_transit_system                  60\n",
       "metronorth_railroad                                    71\n",
       "new_jersey_transit                                     72\n",
       "los_angeles_county_metropolitan_transportation_...    102\n",
       "washington_metropolitan_area_transit_authority        102\n",
       "mbta                                                  138\n",
       "chicago_transit_authority                             140\n",
       "septa                                                 146\n",
       "metra                                                 187\n",
       "new_york_city_transit_authority                       445\n",
       "no_operator                                          1416"
      ]
     },
     "execution_count": 94,
     "metadata": {},
     "output_type": "execute_result"
    }
   ],
   "source": [
    "systems[systems[\"count\"] >= 10]"
   ]
  },
  {
   "cell_type": "code",
   "execution_count": 34,
   "id": "1fdfe27f",
   "metadata": {},
   "outputs": [],
   "source": [
    "def save(fr, path):\n",
    "    fr = fr.copy()\n",
    "    print(list(fr.tags))\n",
    "    fr[\"tags\"] = fr[\"tags\"].apply(str)\n",
    "    fr.geometry = fr.geometry.centroid\n",
    "    fr.to_file(f\"/home/kavi/temp/temp_shapefiles/{path}.shp\")"
   ]
  },
  {
   "cell_type": "code",
   "execution_count": 27,
   "id": "17df23ff",
   "metadata": {},
   "outputs": [
    {
     "name": "stdout",
     "output_type": "stream",
     "text": [
      "[{'addr:city': 'Pawtucket', 'addr:housenumber': '300', 'addr:postcode': '02860', 'addr:state': 'RI', 'addr:street': 'Pine Street', 'area': 'yes', 'check_date': '2023-01-23', 'name': 'Pawtucket/Central Falls', 'network': 'MBTA;RIPTA', 'opening_date': '2023-01-23', 'operator': 'Keolis;RIPTA', 'public_transport': 'station', 'railway': 'station', 'railway:position': 'mi:189.3', 'train': 'yes', 'website': 'https://www.mbta.com/', 'wikidata': 'Q107322761', 'wikipedia': 'en:Pawtucket/Central Falls station'}]\n"
     ]
    },
    {
     "name": "stderr",
     "output_type": "stream",
     "text": [
      "/home/kavi/anaconda3/lib/python3.7/site-packages/ipykernel_launcher.py:6: UserWarning: Column names longer than 10 characters will be truncated when saved to ESRI Shapefile.\n",
      "  \n"
     ]
    },
    {
     "ename": "DriverIOError",
     "evalue": "Failed to create file /home/kavi/temp/temp_shapefiles/ripta.shp: No such file or directory",
     "output_type": "error",
     "traceback": [
      "\u001b[0;31m---------------------------------------------------------------------------\u001b[0m",
      "\u001b[0;31mCPLE_AppDefinedError\u001b[0m                      Traceback (most recent call last)",
      "\u001b[0;32mfiona/ogrext.pyx\u001b[0m in \u001b[0;36mfiona.ogrext.WritingSession.start\u001b[0;34m()\u001b[0m\n",
      "\u001b[0;32mfiona/_err.pyx\u001b[0m in \u001b[0;36mfiona._err.exc_wrap_pointer\u001b[0;34m()\u001b[0m\n",
      "\u001b[0;31mCPLE_AppDefinedError\u001b[0m: Failed to create file /home/kavi/temp/temp_shapefiles/ripta.shp: No such file or directory",
      "\nDuring handling of the above exception, another exception occurred:\n",
      "\u001b[0;31mDriverIOError\u001b[0m                             Traceback (most recent call last)",
      "\u001b[0;32m<ipython-input-27-35d94bfa09d2>\u001b[0m in \u001b[0;36m<module>\u001b[0;34m\u001b[0m\n\u001b[0;32m----> 1\u001b[0;31m \u001b[0msave\u001b[0m\u001b[0;34m(\u001b[0m\u001b[0mstations\u001b[0m\u001b[0;34m[\u001b[0m\u001b[0mstations\u001b[0m\u001b[0;34m.\u001b[0m\u001b[0moperator\u001b[0m\u001b[0;34m.\u001b[0m\u001b[0mapply\u001b[0m\u001b[0;34m(\u001b[0m\u001b[0;32mlambda\u001b[0m \u001b[0mos\u001b[0m\u001b[0;34m:\u001b[0m \u001b[0;34m\"ripta\"\u001b[0m \u001b[0;32min\u001b[0m \u001b[0mos\u001b[0m\u001b[0;34m.\u001b[0m\u001b[0msplit\u001b[0m\u001b[0;34m(\u001b[0m\u001b[0;34m\";\"\u001b[0m\u001b[0;34m)\u001b[0m\u001b[0;34m)\u001b[0m\u001b[0;34m]\u001b[0m\u001b[0;34m,\u001b[0m \u001b[0;34m\"ripta\"\u001b[0m\u001b[0;34m)\u001b[0m\u001b[0;34m\u001b[0m\u001b[0;34m\u001b[0m\u001b[0m\n\u001b[0m",
      "\u001b[0;32m<ipython-input-26-d68477a2f443>\u001b[0m in \u001b[0;36msave\u001b[0;34m(fr, path)\u001b[0m\n\u001b[1;32m      4\u001b[0m     \u001b[0mfr\u001b[0m\u001b[0;34m[\u001b[0m\u001b[0;34m\"tags\"\u001b[0m\u001b[0;34m]\u001b[0m \u001b[0;34m=\u001b[0m \u001b[0mfr\u001b[0m\u001b[0;34m[\u001b[0m\u001b[0;34m\"tags\"\u001b[0m\u001b[0;34m]\u001b[0m\u001b[0;34m.\u001b[0m\u001b[0mapply\u001b[0m\u001b[0;34m(\u001b[0m\u001b[0mstr\u001b[0m\u001b[0;34m)\u001b[0m\u001b[0;34m\u001b[0m\u001b[0;34m\u001b[0m\u001b[0m\n\u001b[1;32m      5\u001b[0m     \u001b[0mfr\u001b[0m\u001b[0;34m.\u001b[0m\u001b[0mgeometry\u001b[0m \u001b[0;34m=\u001b[0m \u001b[0mfr\u001b[0m\u001b[0;34m.\u001b[0m\u001b[0mgeometry\u001b[0m\u001b[0;34m.\u001b[0m\u001b[0mcentroid\u001b[0m\u001b[0;34m\u001b[0m\u001b[0;34m\u001b[0m\u001b[0m\n\u001b[0;32m----> 6\u001b[0;31m     \u001b[0mfr\u001b[0m\u001b[0;34m.\u001b[0m\u001b[0mto_file\u001b[0m\u001b[0;34m(\u001b[0m\u001b[0;34mf\"/home/kavi/temp/temp_shapefiles/{path}.shp\"\u001b[0m\u001b[0;34m)\u001b[0m\u001b[0;34m\u001b[0m\u001b[0;34m\u001b[0m\u001b[0m\n\u001b[0m",
      "\u001b[0;32m~/anaconda3/lib/python3.7/site-packages/geopandas/geodataframe.py\u001b[0m in \u001b[0;36mto_file\u001b[0;34m(self, filename, driver, schema, index, **kwargs)\u001b[0m\n\u001b[1;32m   1112\u001b[0m         \u001b[0;32mfrom\u001b[0m \u001b[0mgeopandas\u001b[0m\u001b[0;34m.\u001b[0m\u001b[0mio\u001b[0m\u001b[0;34m.\u001b[0m\u001b[0mfile\u001b[0m \u001b[0;32mimport\u001b[0m \u001b[0m_to_file\u001b[0m\u001b[0;34m\u001b[0m\u001b[0;34m\u001b[0m\u001b[0m\n\u001b[1;32m   1113\u001b[0m \u001b[0;34m\u001b[0m\u001b[0m\n\u001b[0;32m-> 1114\u001b[0;31m         \u001b[0m_to_file\u001b[0m\u001b[0;34m(\u001b[0m\u001b[0mself\u001b[0m\u001b[0;34m,\u001b[0m \u001b[0mfilename\u001b[0m\u001b[0;34m,\u001b[0m \u001b[0mdriver\u001b[0m\u001b[0;34m,\u001b[0m \u001b[0mschema\u001b[0m\u001b[0;34m,\u001b[0m \u001b[0mindex\u001b[0m\u001b[0;34m,\u001b[0m \u001b[0;34m**\u001b[0m\u001b[0mkwargs\u001b[0m\u001b[0;34m)\u001b[0m\u001b[0;34m\u001b[0m\u001b[0;34m\u001b[0m\u001b[0m\n\u001b[0m\u001b[1;32m   1115\u001b[0m \u001b[0;34m\u001b[0m\u001b[0m\n\u001b[1;32m   1116\u001b[0m     \u001b[0;32mdef\u001b[0m \u001b[0mset_crs\u001b[0m\u001b[0;34m(\u001b[0m\u001b[0mself\u001b[0m\u001b[0;34m,\u001b[0m \u001b[0mcrs\u001b[0m\u001b[0;34m=\u001b[0m\u001b[0;32mNone\u001b[0m\u001b[0;34m,\u001b[0m \u001b[0mepsg\u001b[0m\u001b[0;34m=\u001b[0m\u001b[0;32mNone\u001b[0m\u001b[0;34m,\u001b[0m \u001b[0minplace\u001b[0m\u001b[0;34m=\u001b[0m\u001b[0;32mFalse\u001b[0m\u001b[0;34m,\u001b[0m \u001b[0mallow_override\u001b[0m\u001b[0;34m=\u001b[0m\u001b[0;32mFalse\u001b[0m\u001b[0;34m)\u001b[0m\u001b[0;34m:\u001b[0m\u001b[0;34m\u001b[0m\u001b[0;34m\u001b[0m\u001b[0m\n",
      "\u001b[0;32m~/anaconda3/lib/python3.7/site-packages/geopandas/io/file.py\u001b[0m in \u001b[0;36m_to_file\u001b[0;34m(df, filename, driver, schema, index, mode, crs, **kwargs)\u001b[0m\n\u001b[1;32m    392\u001b[0m             \u001b[0mcrs_wkt\u001b[0m \u001b[0;34m=\u001b[0m \u001b[0mcrs\u001b[0m\u001b[0;34m.\u001b[0m\u001b[0mto_wkt\u001b[0m\u001b[0;34m(\u001b[0m\u001b[0;34m\"WKT1_GDAL\"\u001b[0m\u001b[0;34m)\u001b[0m\u001b[0;34m\u001b[0m\u001b[0;34m\u001b[0m\u001b[0m\n\u001b[1;32m    393\u001b[0m         with fiona.open(\n\u001b[0;32m--> 394\u001b[0;31m             \u001b[0mfilename\u001b[0m\u001b[0;34m,\u001b[0m \u001b[0mmode\u001b[0m\u001b[0;34m=\u001b[0m\u001b[0mmode\u001b[0m\u001b[0;34m,\u001b[0m \u001b[0mdriver\u001b[0m\u001b[0;34m=\u001b[0m\u001b[0mdriver\u001b[0m\u001b[0;34m,\u001b[0m \u001b[0mcrs_wkt\u001b[0m\u001b[0;34m=\u001b[0m\u001b[0mcrs_wkt\u001b[0m\u001b[0;34m,\u001b[0m \u001b[0mschema\u001b[0m\u001b[0;34m=\u001b[0m\u001b[0mschema\u001b[0m\u001b[0;34m,\u001b[0m \u001b[0;34m**\u001b[0m\u001b[0mkwargs\u001b[0m\u001b[0;34m\u001b[0m\u001b[0;34m\u001b[0m\u001b[0m\n\u001b[0m\u001b[1;32m    395\u001b[0m         ) as colxn:\n\u001b[1;32m    396\u001b[0m             \u001b[0mcolxn\u001b[0m\u001b[0;34m.\u001b[0m\u001b[0mwriterecords\u001b[0m\u001b[0;34m(\u001b[0m\u001b[0mdf\u001b[0m\u001b[0;34m.\u001b[0m\u001b[0miterfeatures\u001b[0m\u001b[0;34m(\u001b[0m\u001b[0;34m)\u001b[0m\u001b[0;34m)\u001b[0m\u001b[0;34m\u001b[0m\u001b[0;34m\u001b[0m\u001b[0m\n",
      "\u001b[0;32m~/anaconda3/lib/python3.7/site-packages/fiona/env.py\u001b[0m in \u001b[0;36mwrapper\u001b[0;34m(*args, **kwargs)\u001b[0m\n\u001b[1;32m    406\u001b[0m     \u001b[0;32mdef\u001b[0m \u001b[0mwrapper\u001b[0m\u001b[0;34m(\u001b[0m\u001b[0;34m*\u001b[0m\u001b[0margs\u001b[0m\u001b[0;34m,\u001b[0m \u001b[0;34m**\u001b[0m\u001b[0mkwargs\u001b[0m\u001b[0;34m)\u001b[0m\u001b[0;34m:\u001b[0m\u001b[0;34m\u001b[0m\u001b[0;34m\u001b[0m\u001b[0m\n\u001b[1;32m    407\u001b[0m         \u001b[0;32mif\u001b[0m \u001b[0mlocal\u001b[0m\u001b[0;34m.\u001b[0m\u001b[0m_env\u001b[0m\u001b[0;34m:\u001b[0m\u001b[0;34m\u001b[0m\u001b[0;34m\u001b[0m\u001b[0m\n\u001b[0;32m--> 408\u001b[0;31m             \u001b[0;32mreturn\u001b[0m \u001b[0mf\u001b[0m\u001b[0;34m(\u001b[0m\u001b[0;34m*\u001b[0m\u001b[0margs\u001b[0m\u001b[0;34m,\u001b[0m \u001b[0;34m**\u001b[0m\u001b[0mkwargs\u001b[0m\u001b[0;34m)\u001b[0m\u001b[0;34m\u001b[0m\u001b[0;34m\u001b[0m\u001b[0m\n\u001b[0m\u001b[1;32m    409\u001b[0m         \u001b[0;32melse\u001b[0m\u001b[0;34m:\u001b[0m\u001b[0;34m\u001b[0m\u001b[0;34m\u001b[0m\u001b[0m\n\u001b[1;32m    410\u001b[0m             \u001b[0;32mif\u001b[0m \u001b[0misinstance\u001b[0m\u001b[0;34m(\u001b[0m\u001b[0margs\u001b[0m\u001b[0;34m[\u001b[0m\u001b[0;36m0\u001b[0m\u001b[0;34m]\u001b[0m\u001b[0;34m,\u001b[0m \u001b[0mstr\u001b[0m\u001b[0;34m)\u001b[0m\u001b[0;34m:\u001b[0m\u001b[0;34m\u001b[0m\u001b[0;34m\u001b[0m\u001b[0m\n",
      "\u001b[0;32m~/anaconda3/lib/python3.7/site-packages/fiona/__init__.py\u001b[0m in \u001b[0;36mopen\u001b[0;34m(fp, mode, driver, schema, crs, encoding, layer, vfs, enabled_drivers, crs_wkt, **kwargs)\u001b[0m\n\u001b[1;32m    272\u001b[0m             c = Collection(path, mode, crs=crs, driver=driver, schema=this_schema,\n\u001b[1;32m    273\u001b[0m                            \u001b[0mencoding\u001b[0m\u001b[0;34m=\u001b[0m\u001b[0mencoding\u001b[0m\u001b[0;34m,\u001b[0m \u001b[0mlayer\u001b[0m\u001b[0;34m=\u001b[0m\u001b[0mlayer\u001b[0m\u001b[0;34m,\u001b[0m \u001b[0menabled_drivers\u001b[0m\u001b[0;34m=\u001b[0m\u001b[0menabled_drivers\u001b[0m\u001b[0;34m,\u001b[0m \u001b[0mcrs_wkt\u001b[0m\u001b[0;34m=\u001b[0m\u001b[0mcrs_wkt\u001b[0m\u001b[0;34m,\u001b[0m\u001b[0;34m\u001b[0m\u001b[0;34m\u001b[0m\u001b[0m\n\u001b[0;32m--> 274\u001b[0;31m                            **kwargs)\n\u001b[0m\u001b[1;32m    275\u001b[0m         \u001b[0;32melse\u001b[0m\u001b[0;34m:\u001b[0m\u001b[0;34m\u001b[0m\u001b[0;34m\u001b[0m\u001b[0m\n\u001b[1;32m    276\u001b[0m             raise ValueError(\n",
      "\u001b[0;32m~/anaconda3/lib/python3.7/site-packages/fiona/collection.py\u001b[0m in \u001b[0;36m__init__\u001b[0;34m(self, path, mode, driver, schema, crs, encoding, layer, vsi, archive, enabled_drivers, crs_wkt, ignore_fields, ignore_geometry, **kwargs)\u001b[0m\n\u001b[1;32m    163\u001b[0m             \u001b[0;32melif\u001b[0m \u001b[0mself\u001b[0m\u001b[0;34m.\u001b[0m\u001b[0mmode\u001b[0m \u001b[0;32min\u001b[0m \u001b[0;34m(\u001b[0m\u001b[0;34m'a'\u001b[0m\u001b[0;34m,\u001b[0m \u001b[0;34m'w'\u001b[0m\u001b[0;34m)\u001b[0m\u001b[0;34m:\u001b[0m\u001b[0;34m\u001b[0m\u001b[0;34m\u001b[0m\u001b[0m\n\u001b[1;32m    164\u001b[0m                 \u001b[0mself\u001b[0m\u001b[0;34m.\u001b[0m\u001b[0msession\u001b[0m \u001b[0;34m=\u001b[0m \u001b[0mWritingSession\u001b[0m\u001b[0;34m(\u001b[0m\u001b[0;34m)\u001b[0m\u001b[0;34m\u001b[0m\u001b[0;34m\u001b[0m\u001b[0m\n\u001b[0;32m--> 165\u001b[0;31m                 \u001b[0mself\u001b[0m\u001b[0;34m.\u001b[0m\u001b[0msession\u001b[0m\u001b[0;34m.\u001b[0m\u001b[0mstart\u001b[0m\u001b[0;34m(\u001b[0m\u001b[0mself\u001b[0m\u001b[0;34m,\u001b[0m \u001b[0;34m**\u001b[0m\u001b[0mkwargs\u001b[0m\u001b[0;34m)\u001b[0m\u001b[0;34m\u001b[0m\u001b[0;34m\u001b[0m\u001b[0m\n\u001b[0m\u001b[1;32m    166\u001b[0m         \u001b[0;32mexcept\u001b[0m \u001b[0mIOError\u001b[0m\u001b[0;34m:\u001b[0m\u001b[0;34m\u001b[0m\u001b[0;34m\u001b[0m\u001b[0m\n\u001b[1;32m    167\u001b[0m             \u001b[0mself\u001b[0m\u001b[0;34m.\u001b[0m\u001b[0msession\u001b[0m \u001b[0;34m=\u001b[0m \u001b[0;32mNone\u001b[0m\u001b[0;34m\u001b[0m\u001b[0;34m\u001b[0m\u001b[0m\n",
      "\u001b[0;32mfiona/ogrext.pyx\u001b[0m in \u001b[0;36mfiona.ogrext.WritingSession.start\u001b[0;34m()\u001b[0m\n",
      "\u001b[0;31mDriverIOError\u001b[0m: Failed to create file /home/kavi/temp/temp_shapefiles/ripta.shp: No such file or directory"
     ]
    }
   ],
   "source": [
    "save(stations[stations.operator.apply(lambda os: \"ripta\" in os.split(\";\"))], \"ripta\")"
   ]
  },
  {
   "cell_type": "code",
   "execution_count": null,
   "id": "74b5f3c4",
   "metadata": {},
   "outputs": [],
   "source": [
    "stations.to_csv(\"/home/kavi/temp/temp_shapefiles/temp.csv\")"
   ]
  },
  {
   "cell_type": "code",
   "execution_count": null,
   "id": "fa06001b",
   "metadata": {},
   "outputs": [],
   "source": []
  },
  {
   "cell_type": "code",
   "execution_count": null,
   "id": "83b13427",
   "metadata": {
    "scrolled": true
   },
   "outputs": [],
   "source": [
    "list(stations[stations.network == \"Baltimore Light RailLink\"].tags)"
   ]
  },
  {
   "cell_type": "code",
   "execution_count": null,
   "id": "ae776fdb",
   "metadata": {},
   "outputs": [],
   "source": [
    "stations"
   ]
  },
  {
   "cell_type": "code",
   "execution_count": null,
   "id": "18dd7ad8",
   "metadata": {},
   "outputs": [],
   "source": [
    "bad_networks = network_counts.name <= 5\n",
    "good_networks = network_counts.name >= 50"
   ]
  },
  {
   "cell_type": "code",
   "execution_count": null,
   "id": "6562036c",
   "metadata": {},
   "outputs": [],
   "source": [
    "network_counts[(~bad_networks) & (~good_networks)].sort_values(\"name\")"
   ]
  },
  {
   "cell_type": "code",
   "execution_count": null,
   "id": "ddabd67d",
   "metadata": {},
   "outputs": [],
   "source": [
    "\"; \".join(sorted([x for x in counts if counts[x] <= 5]))"
   ]
  },
  {
   "cell_type": "code",
   "execution_count": null,
   "id": "548f8a99",
   "metadata": {},
   "outputs": [],
   "source": [
    "save(non_excluded, \"non_excluded_1\")"
   ]
  },
  {
   "cell_type": "code",
   "execution_count": null,
   "id": "f35c868c",
   "metadata": {},
   "outputs": [],
   "source": [
    "import us"
   ]
  },
  {
   "cell_type": "code",
   "execution_count": null,
   "id": "8525088f",
   "metadata": {},
   "outputs": [],
   "source": [
    "# help(overpy.Overpass)"
   ]
  },
  {
   "cell_type": "code",
   "execution_count": null,
   "id": "f3604b8b",
   "metadata": {},
   "outputs": [],
   "source": [
    "import shapely\n",
    "import tqdm.auto as tqdm"
   ]
  },
  {
   "cell_type": "code",
   "execution_count": null,
   "id": "8abeef27",
   "metadata": {},
   "outputs": [],
   "source": [
    "import shapely"
   ]
  },
  {
   "cell_type": "code",
   "execution_count": null,
   "id": "1891d09a",
   "metadata": {
    "scrolled": true
   },
   "outputs": [],
   "source": [
    "list(non_excluded[non_excluded.network == \"NO NETWORK\"].tags)"
   ]
  },
  {
   "cell_type": "code",
   "execution_count": null,
   "id": "b7618057",
   "metadata": {},
   "outputs": [],
   "source": []
  },
  {
   "cell_type": "code",
   "execution_count": null,
   "id": "9ade948e",
   "metadata": {},
   "outputs": [],
   "source": [
    "# x = (\n",
    "#     gpd.GeoDataFrame(geometry=[sh], crs=\"epsg:4326\")\n",
    "#     .to_crs(crs={\"proj\": \"cea\"})\n",
    "#     .explode(index_parts=True)\n",
    "#     .reset_index(drop=True)\n",
    "# )"
   ]
  },
  {
   "cell_type": "code",
   "execution_count": null,
   "id": "fba1b807",
   "metadata": {},
   "outputs": [],
   "source": []
  },
  {
   "cell_type": "code",
   "execution_count": null,
   "id": "1b572fdb",
   "metadata": {},
   "outputs": [],
   "source": [
    "r = 1"
   ]
  },
  {
   "cell_type": "code",
   "execution_count": null,
   "id": "e650aea9",
   "metadata": {},
   "outputs": [],
   "source": [
    "chunk_size = 10_000"
   ]
  },
  {
   "cell_type": "code",
   "execution_count": null,
   "id": "1f2363ea",
   "metadata": {},
   "outputs": [],
   "source": []
  },
  {
   "cell_type": "code",
   "execution_count": null,
   "id": "125d8692",
   "metadata": {},
   "outputs": [],
   "source": [
    "pd.concat(results)"
   ]
  },
  {
   "cell_type": "code",
   "execution_count": null,
   "id": "acf7e2a1",
   "metadata": {},
   "outputs": [],
   "source": []
  },
  {
   "cell_type": "code",
   "execution_count": null,
   "id": "6a8d594d",
   "metadata": {},
   "outputs": [],
   "source": []
  },
  {
   "cell_type": "code",
   "execution_count": null,
   "id": "ddca67a4",
   "metadata": {},
   "outputs": [],
   "source": [
    "%time x2 = parks_exploded()"
   ]
  },
  {
   "cell_type": "code",
   "execution_count": null,
   "id": "c597349e",
   "metadata": {},
   "outputs": [],
   "source": [
    "x2"
   ]
  },
  {
   "cell_type": "code",
   "execution_count": null,
   "id": "a898772c",
   "metadata": {},
   "outputs": [],
   "source": [
    "r = 1\n",
    "%time _ = .ipynb_checkpoints/(sh)"
   ]
  },
  {
   "cell_type": "code",
   "execution_count": null,
   "id": "71540823",
   "metadata": {},
   "outputs": [],
   "source": [
    "type(sh)"
   ]
  },
  {
   "cell_type": "code",
   "execution_count": null,
   "id": "eecd568a",
   "metadata": {},
   "outputs": [],
   "source": [
    "sh.geoms[4]"
   ]
  },
  {
   "cell_type": "code",
   "execution_count": null,
   "id": "997364d5",
   "metadata": {},
   "outputs": [],
   "source": [
    "geom = result[result.name == \"Lowery Park\"].iloc[-1].geometry"
   ]
  },
  {
   "cell_type": "code",
   "execution_count": null,
   "id": "522aa268",
   "metadata": {},
   "outputs": [],
   "source": [
    "geom.bounds"
   ]
  },
  {
   "cell_type": "code",
   "execution_count": null,
   "id": "40937b79",
   "metadata": {},
   "outputs": [],
   "source": [
    "# 30m accuracy = 0.0003 degrees\n",
    "precision = 0.0003\n",
    "coords = np.array(geom.boundary.segmentize(precision).coords)\n",
    "((coords[1:] - coords[:-1]) ** 2).sum(-1) ** 0.5"
   ]
  },
  {
   "cell_type": "code",
   "execution_count": null,
   "id": "6aa05cf1",
   "metadata": {},
   "outputs": [],
   "source": [
    "%time len(pickle.dumps(result)) / 1e9"
   ]
  },
  {
   "cell_type": "code",
   "execution_count": null,
   "id": "cfd8b2ec",
   "metadata": {},
   "outputs": [],
   "source": [
    "import shapely"
   ]
  },
  {
   "cell_type": "code",
   "execution_count": null,
   "id": "ef200f42",
   "metadata": {},
   "outputs": [],
   "source": [
    "result.geometry.apply(\n",
    "    lambda x: x.buffer(1e-3) if isinstance(x, shapely.Point) else x\n",
    ").to_file(\"/home/kavi/temp/temp.shp\")"
   ]
  },
  {
   "cell_type": "code",
   "execution_count": null,
   "id": "9f701ba3",
   "metadata": {},
   "outputs": [],
   "source": [
    "polygon_for_way(ways_with_tags[1])"
   ]
  },
  {
   "cell_type": "code",
   "execution_count": null,
   "id": "40c6add2",
   "metadata": {},
   "outputs": [],
   "source": [
    "%time out = polygon_for_relation(relation)"
   ]
  },
  {
   "cell_type": "code",
   "execution_count": null,
   "id": "459a0a5d",
   "metadata": {},
   "outputs": [],
   "source": [
    "out"
   ]
  },
  {
   "cell_type": "code",
   "execution_count": null,
   "id": "817e67cb",
   "metadata": {
    "scrolled": true
   },
   "outputs": [],
   "source": [
    "members[\"outer\"][1]"
   ]
  },
  {
   "cell_type": "code",
   "execution_count": null,
   "id": "51f2bdef",
   "metadata": {},
   "outputs": [],
   "source": [
    "[x for x in relation.members if x.role == \"outer\"][5].resolve()"
   ]
  },
  {
   "cell_type": "code",
   "execution_count": null,
   "id": "749d2758",
   "metadata": {},
   "outputs": [],
   "source": [
    "members[\"outer\"]"
   ]
  },
  {
   "cell_type": "code",
   "execution_count": null,
   "id": "f30ebb05",
   "metadata": {},
   "outputs": [],
   "source": [
    "unary_union(members[\"outer\"][:1000])"
   ]
  },
  {
   "cell_type": "code",
   "execution_count": null,
   "id": "b3dcf909",
   "metadata": {},
   "outputs": [],
   "source": []
  },
  {
   "cell_type": "code",
   "execution_count": null,
   "id": "e0b7480d",
   "metadata": {},
   "outputs": [],
   "source": [
    "way.resolve().__dict__"
   ]
  },
  {
   "cell_type": "code",
   "execution_count": null,
   "id": "54aa0be0",
   "metadata": {},
   "outputs": [],
   "source": [
    "result.ways"
   ]
  },
  {
   "cell_type": "code",
   "execution_count": null,
   "id": "6f0a3d43",
   "metadata": {},
   "outputs": [],
   "source": [
    "relation.__dict__"
   ]
  },
  {
   "cell_type": "code",
   "execution_count": null,
   "id": "e32f0c42",
   "metadata": {},
   "outputs": [],
   "source": [
    "polygon_for_way(result.ways[2])"
   ]
  },
  {
   "cell_type": "code",
   "execution_count": null,
   "id": "12468ed9",
   "metadata": {},
   "outputs": [],
   "source": [
    "result.ways[0].nodes"
   ]
  },
  {
   "cell_type": "code",
   "execution_count": null,
   "id": "af45f50c",
   "metadata": {},
   "outputs": [],
   "source": [
    "rj = json.loads(result.decode(\"utf-8\"))"
   ]
  },
  {
   "cell_type": "code",
   "execution_count": null,
   "id": "d95b6549",
   "metadata": {},
   "outputs": [],
   "source": [
    "def convert_json(items):\n",
    "    import json\n",
    "    return json.dumps({ \"type\": \"FeatureCollection\",\n",
    "                        \"features\": [ \n",
    "                                        {\"type\": \"Feature\",\n",
    "                                         \"geometry\": { \"type\": \"Point\",\n",
    "                                                       \"coordinates\": [ feature['lon'],\n",
    "                                                                        feature['lat']]},\n",
    "                                         \"properties\": { key: value \n",
    "                                                         for key, value in feature.items()\n",
    "                                                         if key not in ('lat', 'lon') }\n",
    "                                         } \n",
    "                                     for feature in json.loads(items)\n",
    "                                    ]\n",
    "                       })\n"
   ]
  },
  {
   "cell_type": "code",
   "execution_count": null,
   "id": "cd692da0",
   "metadata": {},
   "outputs": [],
   "source": [
    "result = json.loads(result.decode(\"utf-8\"))"
   ]
  },
  {
   "cell_type": "code",
   "execution_count": null,
   "id": "4d03def1",
   "metadata": {},
   "outputs": [],
   "source": [
    "convert_json(json.dumps(result[\"elements\"]))"
   ]
  },
  {
   "cell_type": "code",
   "execution_count": null,
   "id": "ffd73f24",
   "metadata": {},
   "outputs": [],
   "source": [
    "with open(\"/home/kavi/temp/temp.geojson\", \"wb\") as f:\n",
    "    f.write(result)"
   ]
  },
  {
   "cell_type": "code",
   "execution_count": null,
   "id": "edb3758d",
   "metadata": {},
   "outputs": [],
   "source": []
  },
  {
   "cell_type": "code",
   "execution_count": null,
   "id": "2446ccbd",
   "metadata": {},
   "outputs": [],
   "source": [
    "result.relations[0].members"
   ]
  },
  {
   "cell_type": "code",
   "execution_count": null,
   "id": "a6ee1b0e",
   "metadata": {},
   "outputs": [],
   "source": [
    "import overpass"
   ]
  },
  {
   "cell_type": "code",
   "execution_count": null,
   "id": "63582af1",
   "metadata": {},
   "outputs": [],
   "source": [
    "api = overpass.API()\n"
   ]
  },
  {
   "cell_type": "code",
   "execution_count": null,
   "id": "b36fbc4a",
   "metadata": {},
   "outputs": [],
   "source": [
    "result = api.get(\n",
    "q\n",
    ")\n",
    "\n",
    "with open(\"/home/kavi/temp/temp.geojson\", \"w\") as f:\n",
    "    json.dump(result, f)"
   ]
  },
  {
   "cell_type": "code",
   "execution_count": null,
   "id": "b57260de",
   "metadata": {},
   "outputs": [],
   "source": [
    "gpd.read_file(\"/home/kavi/temp/temp.geojson\")"
   ]
  },
  {
   "cell_type": "code",
   "execution_count": null,
   "id": "9b94bcd6",
   "metadata": {},
   "outputs": [],
   "source": [
    "overpass.to"
   ]
  },
  {
   "cell_type": "code",
   "execution_count": null,
   "id": "d7fa7b37",
   "metadata": {},
   "outputs": [],
   "source": [
    "result = full_shapefile()"
   ]
  },
  {
   "cell_type": "code",
   "execution_count": null,
   "id": "e6241a26",
   "metadata": {},
   "outputs": [],
   "source": [
    "from urbanstats.export.export_csvs import export_all_csvs"
   ]
  },
  {
   "cell_type": "code",
   "execution_count": null,
   "id": "a93fe4c9",
   "metadata": {},
   "outputs": [],
   "source": [
    "result.shape[0]"
   ]
  },
  {
   "cell_type": "code",
   "execution_count": null,
   "id": "789eb6f2",
   "metadata": {},
   "outputs": [],
   "source": [
    "export_all_csvs(\"/home/kavi/temp/exported-urbanstats/csvs/\")"
   ]
  },
  {
   "cell_type": "code",
   "execution_count": null,
   "id": "fcc3e9d6",
   "metadata": {},
   "outputs": [],
   "source": [
    "category = \"main\""
   ]
  },
  {
   "cell_type": "code",
   "execution_count": null,
   "id": "e681be27",
   "metadata": {},
   "outputs": [],
   "source": [
    "csv_for(type, category)"
   ]
  },
  {
   "cell_type": "code",
   "execution_count": null,
   "id": "7311498e",
   "metadata": {},
   "outputs": [],
   "source": []
  },
  {
   "cell_type": "code",
   "execution_count": null,
   "id": "06905b2d",
   "metadata": {},
   "outputs": [],
   "source": [
    ".to_csv(\"/home/kavi/temp/temp.csv\")\n",
    "\n",
    "# ! rm ~/temp/temp.csv.gz\n",
    "# ! gzip ~/temp/temp.csv\n",
    "# ! du -sh ~/temp/temp.csv.gz"
   ]
  },
  {
   "cell_type": "code",
   "execution_count": null,
   "id": "2f876f7e",
   "metadata": {},
   "outputs": [],
   "source": [
    "result.groupby(\"type\").count().longname.sort_values()"
   ]
  },
  {
   "cell_type": "code",
   "execution_count": null,
   "id": "58f1b08f",
   "metadata": {},
   "outputs": [],
   "source": [
    "from census_blocks import load_raw_census"
   ]
  },
  {
   "cell_type": "code",
   "execution_count": null,
   "id": "22fd9e09",
   "metadata": {},
   "outputs": [],
   "source": [
    "# import osmium\n",
    "# import tqdm.auto as tqdm\n",
    "\n",
    "# class NamesHandler(osmium.SimpleHandler):\n",
    "#     def __init__(self):\n",
    "#         super().__init__()\n",
    "#         self.pbar = tqdm.tqdm()\n",
    "#     def node(self, n):\n",
    "#         self.pbar.update()\n",
    "#         if 'leisure' in n.tags and n.tags[\"leisure\"] == \"park\":\n",
    "#             print(n)\n",
    "# #         if len(self.nodes):\n",
    "# #             1/0\n"
   ]
  },
  {
   "cell_type": "code",
   "execution_count": null,
   "id": "38c5ad09",
   "metadata": {
    "scrolled": true
   },
   "outputs": [],
   "source": [
    "# NamesHandler().apply_file(\"named_region_shapefiles/features/us-latest.osm.pbf\")"
   ]
  },
  {
   "cell_type": "code",
   "execution_count": null,
   "id": "6cff36b8",
   "metadata": {},
   "outputs": [],
   "source": [
    "_, pop, _, _, coordinates = load_raw_census()"
   ]
  },
  {
   "cell_type": "code",
   "execution_count": null,
   "id": "58ea7e46",
   "metadata": {},
   "outputs": [],
   "source": [
    "census_blocks = gpd.GeoDataFrame(\n",
    "    geometry=gpd.points_from_xy(coordinates[:, 1], coordinates[:, 0], crs=\"epsg:4326\")\n",
    ")"
   ]
  },
  {
   "cell_type": "code",
   "execution_count": null,
   "id": "e4e88c7f",
   "metadata": {},
   "outputs": [],
   "source": [
    "from urbanstats.features.feature import features, shapefile_points_to_radius\n",
    "from urbanstats.features.within_distance import features_within_distance_by_block, minimum_distance_by_block\n",
    "from urbanstats.features.extract_data import feature_data\n"
   ]
  },
  {
   "cell_type": "code",
   "execution_count": null,
   "id": "a411e919",
   "metadata": {},
   "outputs": [],
   "source": [
    "feature_data()"
   ]
  },
  {
   "cell_type": "code",
   "execution_count": null,
   "id": "923984ee",
   "metadata": {},
   "outputs": [],
   "source": []
  },
  {
   "cell_type": "code",
   "execution_count": null,
   "id": "9065c9f4",
   "metadata": {},
   "outputs": [],
   "source": [
    "pop.shape"
   ]
  },
  {
   "cell_type": "code",
   "execution_count": null,
   "id": "197de12a",
   "metadata": {},
   "outputs": [],
   "source": [
    "feature = features[\"hospitals\"]"
   ]
  },
  {
   "cell_type": "code",
   "execution_count": null,
   "id": "d5a72439",
   "metadata": {},
   "outputs": [],
   "source": [
    "minimum_distance_by_block(feature)"
   ]
  },
  {
   "cell_type": "code",
   "execution_count": null,
   "id": "34e83335",
   "metadata": {},
   "outputs": [],
   "source": [
    "import geopy"
   ]
  },
  {
   "cell_type": "code",
   "execution_count": null,
   "id": "786b6a5a",
   "metadata": {},
   "outputs": [],
   "source": [
    "from geopy.distance import geodesic\n"
   ]
  },
  {
   "cell_type": "code",
   "execution_count": null,
   "id": "c93e5c40",
   "metadata": {},
   "outputs": [],
   "source": [
    "by_block = features_within_distance_by_block(feature)"
   ]
  },
  {
   "cell_type": "code",
   "execution_count": null,
   "id": "670a02b3",
   "metadata": {},
   "outputs": [],
   "source": [
    "pop[by_block != 0].sum() / pop.sum()"
   ]
  },
  {
   "cell_type": "code",
   "execution_count": null,
   "id": "dcdb3b4a",
   "metadata": {},
   "outputs": [],
   "source": [
    "plt.figure(dpi=2000, figsize=(10, 10))\n",
    "y, x = coordinates[::100].T\n",
    "d = distance[::100]\n",
    "mask = (y > 30) & (y < 40) & (x > -125) & (x < -115)\n",
    "y, x, d = y[mask], x[mask], d[mask]\n",
    "d = np.clip(d, 0, 100)\n",
    "plt.scatter(x, y, c=d, marker=\".\", s=0.1)\n",
    "plt.axis(\"equal\")"
   ]
  },
  {
   "cell_type": "code",
   "execution_count": null,
   "id": "35f23404",
   "metadata": {},
   "outputs": [],
   "source": [
    "plt.figure(dpi=200, figsize=(10, 10))\n",
    "def plot(cs, **kwargs):\n",
    "    y, x = cs[::10].T\n",
    "    mask = (y > 25) & (y < 40) & (x > -107) & (x < -92)\n",
    "    y, x = y[mask], x[mask]\n",
    "    plt.scatter(x, y, marker=\".\", s=0.1, **kwargs)\n",
    "plot(coordinates[by_block != 0])\n",
    "plot(coordinates[by_block == 0])\n",
    "plt.axis(\"equal\")"
   ]
  },
  {
   "cell_type": "code",
   "execution_count": null,
   "id": "5c66ffec",
   "metadata": {},
   "outputs": [],
   "source": [
    "ell.lon_radius, ell.lat_radius"
   ]
  },
  {
   "cell_type": "code",
   "execution_count": null,
   "id": "2a5f30bb",
   "metadata": {},
   "outputs": [],
   "source": [
    "shapely.affinity.scale"
   ]
  },
  {
   "cell_type": "code",
   "execution_count": null,
   "id": "b5253f84",
   "metadata": {},
   "outputs": [],
   "source": []
  },
  {
   "cell_type": "code",
   "execution_count": null,
   "id": "4d37b72e",
   "metadata": {},
   "outputs": [],
   "source": [
    "shape.bounds"
   ]
  },
  {
   "cell_type": "code",
   "execution_count": null,
   "id": "3ed82b29",
   "metadata": {},
   "outputs": [],
   "source": [
    "(-95.04905911509323) - (-94.84189452490675)"
   ]
  },
  {
   "cell_type": "code",
   "execution_count": null,
   "id": "bb24b154",
   "metadata": {},
   "outputs": [],
   "source": [
    "29.657688059408127 - 29.837552380591873"
   ]
  },
  {
   "cell_type": "code",
   "execution_count": null,
   "id": "8b8a626c",
   "metadata": {
    "scrolled": true
   },
   "outputs": [],
   "source": [
    "from urbanstats.acs.attach import with_acs_data, combine_us_pr\n",
    "from urbanstats.acs.entities import entities, entities_split_by_usa_pr\n",
    "from urbanstats.acs.load import get_acs_data, acs_variables, ACSDataEntity\n",
    "ent = entities[\"ancestry\"]\n",
    "# ent= entities_split_by_usa_pr[\"birthplace\"]\n",
    "# get_acs_data(ent).sum() / get_acs_data(ent).sum().sum()\n",
    "# combine_us_pr(*ent).sum() / combine_us_pr(*ent).sum().sum()"
   ]
  },
  {
   "cell_type": "code",
   "execution_count": null,
   "id": "cd6d4014",
   "metadata": {},
   "outputs": [],
   "source": [
    "table_eurafrica = get_acs_data.function(entities[\"ancestry\"]).sum()"
   ]
  },
  {
   "cell_type": "code",
   "execution_count": null,
   "id": "8ad19ab7",
   "metadata": {},
   "outputs": [],
   "source": [
    "table_asian = get_acs_data.function(entities[\"ancestry_asian\"]).sum()"
   ]
  },
  {
   "cell_type": "code",
   "execution_count": null,
   "id": "2812336c",
   "metadata": {},
   "outputs": [],
   "source": [
    "table_hispanic = get_acs_data.function(entities[\"ancestry_hispanic\"]).sum()"
   ]
  },
  {
   "cell_type": "code",
   "execution_count": null,
   "id": "9dda2f36",
   "metadata": {},
   "outputs": [],
   "source": [
    "amount = pd.DataFrame([table_asian, table_eurafrica, table_hispanic]).sum().sort_values()"
   ]
  },
  {
   "cell_type": "code",
   "execution_count": null,
   "id": "b6556556",
   "metadata": {},
   "outputs": [],
   "source": [
    "amount.sum() / 1e6"
   ]
  },
  {
   "cell_type": "code",
   "execution_count": null,
   "id": "a1d462c7",
   "metadata": {
    "scrolled": false
   },
   "outputs": [],
   "source": [
    "for x in amount.index:\n",
    "    print(f\"{x:30s}{amount[x] / 1e6:6.2f}\")"
   ]
  },
  {
   "cell_type": "code",
   "execution_count": null,
   "id": "261313a1",
   "metadata": {},
   "outputs": [],
   "source": [
    "amount.shape"
   ]
  },
  {
   "cell_type": "code",
   "execution_count": null,
   "id": "14e6dd33",
   "metadata": {},
   "outputs": [],
   "source": [
    "len(sum_keys)"
   ]
  },
  {
   "cell_type": "code",
   "execution_count": null,
   "id": "768d7eb7",
   "metadata": {
    "scrolled": true
   },
   "outputs": [],
   "source": [
    "a = compute_statistics_for_shapefile(shapefiles[\"states\"])\n",
    "a[[\"shortname\", \"year_built_2010_or_later\"]]"
   ]
  },
  {
   "cell_type": "code",
   "execution_count": null,
   "id": "443af096",
   "metadata": {},
   "outputs": [],
   "source": [
    "folder = '/home/kavi/temp/site/'"
   ]
  },
  {
   "cell_type": "code",
   "execution_count": null,
   "id": "cad30a51",
   "metadata": {
    "scrolled": true
   },
   "outputs": [],
   "source": [
    "create_page_json(\n",
    "    f\"{folder}/data\",\n",
    "    u,\n",
    "    relationships,\n",
    "    long_to_short,\n",
    "    long_to_pop,\n",
    "    long_to_type,\n",
    ")"
   ]
  },
  {
   "cell_type": "code",
   "execution_count": null,
   "id": "c1d2c5b5",
   "metadata": {},
   "outputs": [],
   "source": [
    "a = data_files_pb2.Article()"
   ]
  },
  {
   "cell_type": "code",
   "execution_count": null,
   "id": "5ac2caca",
   "metadata": {},
   "outputs": [],
   "source": [
    "from shapefiles import shapefiles\n",
    "from output_geometry import produce_all_geometry_json"
   ]
  },
  {
   "cell_type": "code",
   "execution_count": null,
   "id": "cecac5ce",
   "metadata": {},
   "outputs": [],
   "source": [
    "x = shapefiles[\"cities\"].load_file()"
   ]
  },
  {
   "cell_type": "code",
   "execution_count": null,
   "id": "211c62c0",
   "metadata": {},
   "outputs": [],
   "source": [
    "import geopandas as gpd"
   ]
  },
  {
   "cell_type": "code",
   "execution_count": null,
   "id": "5af1ca5e",
   "metadata": {},
   "outputs": [],
   "source": [
    "y = gpd.read_file(\"/home/kavi/Downloads/cb_2022_us_place_500k.zip\")"
   ]
  },
  {
   "cell_type": "code",
   "execution_count": null,
   "id": "cf61a559",
   "metadata": {},
   "outputs": [],
   "source": [
    "x.iloc[-200]"
   ]
  },
  {
   "cell_type": "code",
   "execution_count": null,
   "id": "7ce3263b",
   "metadata": {},
   "outputs": [],
   "source": [
    "produce_all_geometry_json(\"/home/kavi/temp/site/shape/\", [])"
   ]
  },
  {
   "cell_type": "code",
   "execution_count": null,
   "id": "84cab371",
   "metadata": {},
   "outputs": [],
   "source": [
    "with open(\"/home/kavi/temp/site/shape/Fairfax County, Virginia, USA.json\") as f:\n",
    "    fc_python = json.load(f)"
   ]
  },
  {
   "cell_type": "code",
   "execution_count": null,
   "id": "09b78a5d",
   "metadata": {},
   "outputs": [],
   "source": [
    "from urbanstats.protobuf import data_files_pb2"
   ]
  },
  {
   "cell_type": "code",
   "execution_count": null,
   "id": "bc1ea947",
   "metadata": {},
   "outputs": [],
   "source": [
    "from output_geometry import convert_to_protobuf"
   ]
  },
  {
   "cell_type": "code",
   "execution_count": null,
   "id": "2ec9f771",
   "metadata": {},
   "outputs": [],
   "source": [
    "fc = convert_to_protobuf(fc_python)"
   ]
  },
  {
   "cell_type": "code",
   "execution_count": null,
   "id": "b7517c29",
   "metadata": {},
   "outputs": [],
   "source": [
    "import gzip"
   ]
  },
  {
   "cell_type": "code",
   "execution_count": null,
   "id": "9a7d3663",
   "metadata": {},
   "outputs": [],
   "source": [
    "with gzip.open(f\"/home/kavi/temp/site/shape/Fairfax County, Virginia, USA.gz\", \"wb\") as f:\n",
    "    f.write(fc.SerializeToString())"
   ]
  },
  {
   "cell_type": "code",
   "execution_count": null,
   "id": "8231e814",
   "metadata": {},
   "outputs": [],
   "source": [
    "fc_2 = data_files_pb2.FeatureCollection()\n",
    "with gzip.open(\"/home/kavi/temp/site/shape/Fairfax County, Virginia, USA.gz\", \"rb\") a sf:\n",
    "    fc_2."
   ]
  },
  {
   "cell_type": "code",
   "execution_count": null,
   "id": "66155ce2",
   "metadata": {},
   "outputs": [],
   "source": [
    "! du -sb ~/temp.gz"
   ]
  },
  {
   "cell_type": "code",
   "execution_count": null,
   "id": "e12bc855",
   "metadata": {},
   "outputs": [],
   "source": [
    "len(json.dumps(fc_python))"
   ]
  },
  {
   "cell_type": "code",
   "execution_count": null,
   "id": "27f3156b",
   "metadata": {},
   "outputs": [],
   "source": [
    "ring_python"
   ]
  },
  {
   "cell_type": "code",
   "execution_count": null,
   "id": "649bc1b1",
   "metadata": {},
   "outputs": [],
   "source": [
    "f."
   ]
  },
  {
   "cell_type": "code",
   "execution_count": null,
   "id": "bd4a9246",
   "metadata": {
    "scrolled": false
   },
   "outputs": [],
   "source": [
    "x[0][\"coordinates\"]"
   ]
  },
  {
   "cell_type": "code",
   "execution_count": null,
   "id": "565e0853",
   "metadata": {
    "scrolled": true
   },
   "outputs": [],
   "source": [
    "for i in tqdm.trange(full.shape[0], desc=\"creating pages\"):\n",
    "    row = full.iloc[i]\n",
    "#     if row[\"type\"] != \"State\":\n",
    "#         continue\n",
    "    create_page_json(\n",
    "        f\"{folder}/data\",\n",
    "        row,\n",
    "        relationships,\n",
    "        long_to_short,\n",
    "        long_to_pop,\n",
    "        long_to_type,\n",
    "    )\n"
   ]
  },
  {
   "cell_type": "code",
   "execution_count": null,
   "id": "ad266fb4",
   "metadata": {
    "scrolled": true
   },
   "outputs": [],
   "source": [
    "# get_acs_data(entities[\"aggregate_rent\"]).sum()"
   ]
  },
  {
   "cell_type": "code",
   "execution_count": null,
   "id": "9939f01c",
   "metadata": {},
   "outputs": [],
   "source": [
    "sf = shapefiles[\"states\"]"
   ]
  },
  {
   "cell_type": "code",
   "execution_count": null,
   "id": "ef2757fb",
   "metadata": {},
   "outputs": [],
   "source": [
    "x = sf.load_file().to_crs({\"proj\": \"cea\"})"
   ]
  },
  {
   "cell_type": "code",
   "execution_count": null,
   "id": "acc9e6fe",
   "metadata": {},
   "outputs": [],
   "source": [
    "area = x.geometry.area\n",
    "perimiter = x.geometry.length\n",
    "x[\"compactness\"] = 4 * np.pi * area / perimiter ** 2"
   ]
  },
  {
   "cell_type": "code",
   "execution_count": null,
   "id": "121be822",
   "metadata": {},
   "outputs": [],
   "source": [
    "x[[\"shortname\", \"compactness\"]].sort_values(\"compactness\")"
   ]
  },
  {
   "cell_type": "code",
   "execution_count": null,
   "id": "ae2a923c",
   "metadata": {},
   "outputs": [],
   "source": []
  },
  {
   "cell_type": "code",
   "execution_count": null,
   "id": "a0cbcdb2",
   "metadata": {
    "scrolled": false
   },
   "outputs": [],
   "source": [
    "x.sort_values(\"education_field_humanities\")"
   ]
  },
  {
   "cell_type": "code",
   "execution_count": null,
   "id": "4b1587e3",
   "metadata": {},
   "outputs": [],
   "source": [
    "x.education_field_humanities"
   ]
  },
  {
   "cell_type": "code",
   "execution_count": null,
   "id": "555cbca3",
   "metadata": {},
   "outputs": [],
   "source": [
    "y = with_acs_data()"
   ]
  },
  {
   "cell_type": "code",
   "execution_count": null,
   "id": "2c04d33c",
   "metadata": {},
   "outputs": [],
   "source": [
    "y[y.geoid.apply(lambda x: \"US28\" in x)].education_field_humanities.sum()"
   ]
  },
  {
   "cell_type": "code",
   "execution_count": null,
   "id": "2238b0d3",
   "metadata": {
    "scrolled": true
   },
   "outputs": [],
   "source": [
    "import pickle\n",
    "len(pickle.dumps(with_acs_data()))"
   ]
  },
  {
   "cell_type": "code",
   "execution_count": null,
   "id": "a5f025de",
   "metadata": {
    "scrolled": false
   },
   "outputs": [],
   "source": [
    "sorted(\n",
    "    set(\n",
    "        [\n",
    "            v[\"concept\"]\n",
    "            for v in acs_variables().values()\n",
    "            if \"$10,000\" in v[\"label\"]\n",
    "            if \"HOUSEHOLD\" not in v[\"concept\"]\n",
    "            and \"FAMILY\" not in v[\"concept\"]\n",
    "            and \"INC\" in v[\"concept\"]\n",
    "        ]\n",
    "    )\n",
    ")"
   ]
  },
  {
   "cell_type": "code",
   "execution_count": null,
   "id": "09ddde04",
   "metadata": {
    "scrolled": true
   },
   "outputs": [],
   "source": [
    "var_for_concept = for_concept(\n",
    "    \n",
    ")"
   ]
  },
  {
   "cell_type": "code",
   "execution_count": null,
   "id": "996c42a2",
   "metadata": {},
   "outputs": [],
   "source": [
    "data = with_election_results()"
   ]
  },
  {
   "cell_type": "code",
   "execution_count": null,
   "id": "294594fa",
   "metadata": {},
   "outputs": [],
   "source": [
    "var_for_concept"
   ]
  },
  {
   "cell_type": "code",
   "execution_count": null,
   "id": "3f6d4c8d",
   "metadata": {},
   "outputs": [],
   "source": []
  },
  {
   "cell_type": "code",
   "execution_count": null,
   "id": "08b3d359",
   "metadata": {
    "scrolled": false
   },
   "outputs": [],
   "source": []
  },
  {
   "cell_type": "code",
   "execution_count": null,
   "id": "de591426",
   "metadata": {},
   "outputs": [],
   "source": [
    "universe_for_disagg = \"population_18\""
   ]
  },
  {
   "cell_type": "code",
   "execution_count": null,
   "id": "6055d58e",
   "metadata": {},
   "outputs": [],
   "source": []
  },
  {
   "cell_type": "code",
   "execution_count": null,
   "id": "d721c3e0",
   "metadata": {
    "scrolled": true
   },
   "outputs": [],
   "source": [
    "%time "
   ]
  },
  {
   "cell_type": "code",
   "execution_count": null,
   "id": "5b800988",
   "metadata": {},
   "outputs": [],
   "source": [
    "acs_data"
   ]
  },
  {
   "cell_type": "code",
   "execution_count": null,
   "id": "6639a700",
   "metadata": {},
   "outputs": [],
   "source": []
  },
  {
   "cell_type": "code",
   "execution_count": null,
   "id": "f156258d",
   "metadata": {},
   "outputs": [],
   "source": []
  },
  {
   "cell_type": "code",
   "execution_count": null,
   "id": "c49a64bc",
   "metadata": {},
   "outputs": [],
   "source": []
  },
  {
   "cell_type": "code",
   "execution_count": null,
   "id": "879d77bd",
   "metadata": {},
   "outputs": [],
   "source": [
    "data[universe_for_disagg]"
   ]
  },
  {
   "cell_type": "code",
   "execution_count": null,
   "id": "9e77dd15",
   "metadata": {},
   "outputs": [],
   "source": [
    "result.state + result.county + result.tract"
   ]
  },
  {
   "cell_type": "code",
   "execution_count": null,
   "id": "a61da430",
   "metadata": {},
   "outputs": [],
   "source": [
    "list(x)"
   ]
  },
  {
   "cell_type": "code",
   "execution_count": null,
   "id": "b836a7dc",
   "metadata": {},
   "outputs": [],
   "source": [
    "key = (\"2020 Presidential Election\", \"margin\")"
   ]
  },
  {
   "cell_type": "code",
   "execution_count": null,
   "id": "501c448d",
   "metadata": {},
   "outputs": [],
   "source": [
    "y = shapefile_without_ordinals()"
   ]
  },
  {
   "cell_type": "code",
   "execution_count": null,
   "id": "4a9652cc",
   "metadata": {},
   "outputs": [],
   "source": [
    "y_n = add_ordinals(y[y.type == \"Neighborhood\"])"
   ]
  },
  {
   "cell_type": "code",
   "execution_count": null,
   "id": "8e747e16",
   "metadata": {},
   "outputs": [],
   "source": [
    "y_n.loc[\n",
    "    [\n",
    "        1564,\n",
    "        3907,\n",
    "        302,\n",
    "        4009,\n",
    "        3464,\n",
    "        1712,\n",
    "        3166,\n",
    "        3457,\n",
    "        3568,\n",
    "        5871,\n",
    "        5886,\n",
    "        1871,\n",
    "        3757,\n",
    "        3454,\n",
    "        1635,\n",
    "        1337,\n",
    "        3027,\n",
    "        2704,\n",
    "        406,\n",
    "        5623,\n",
    "        4024,\n",
    "        3906,\n",
    "        1429,\n",
    "        6049,\n",
    "        108,\n",
    "        643,\n",
    "        612,\n",
    "        596,\n",
    "        599,\n",
    "        5477,\n",
    "        1924,\n",
    "        3408,\n",
    "        3169,\n",
    "        2273,\n",
    "        2164,\n",
    "        598,\n",
    "        5822,\n",
    "        1679,\n",
    "        3500,\n",
    "        3527,\n",
    "        2414,\n",
    "        4397,\n",
    "        4312,\n",
    "        4106,\n",
    "        6055,\n",
    "        5466,\n",
    "        2363,\n",
    "        1804,\n",
    "        1723,\n",
    "        4027,\n",
    "        1591,\n",
    "        1764,\n",
    "        4627,\n",
    "        3465,\n",
    "        3800,\n",
    "        3663,\n",
    "        1376,\n",
    "        1705,\n",
    "        5395,\n",
    "        98,\n",
    "        2064,\n",
    "        2065,\n",
    "        2848,\n",
    "        1916,\n",
    "        6129,\n",
    "        1610,\n",
    "        3967,\n",
    "        2409,\n",
    "        3575,\n",
    "        396,\n",
    "        3963,\n",
    "        1834,\n",
    "        1664,\n",
    "        1614,\n",
    "        5805,\n",
    "        1543,\n",
    "        3997,\n",
    "        5015,\n",
    "        3998,\n",
    "        2293,\n",
    "        3565,\n",
    "        2682,\n",
    "        2413,\n",
    "        3000,\n",
    "        2511,\n",
    "        1661,\n",
    "        1620,\n",
    "        5614,\n",
    "        2415,\n",
    "        2869,\n",
    "        3146,\n",
    "        1631,\n",
    "        1806,\n",
    "        3026,\n",
    "        2463,\n",
    "        5641,\n",
    "        6031,\n",
    "        1791,\n",
    "        1879,\n",
    "        4507,\n",
    "        404,\n",
    "        1450,\n",
    "        1381,\n",
    "        1740,\n",
    "        2747,\n",
    "        4127,\n",
    "        1346,\n",
    "        4502,\n",
    "        79,\n",
    "        1417,\n",
    "        1462,\n",
    "        1460,\n",
    "        1681,\n",
    "        2042,\n",
    "        1745,\n",
    "        1897,\n",
    "        1981,\n",
    "        1983,\n",
    "        3479,\n",
    "        3528,\n",
    "        5449,\n",
    "        5450,\n",
    "        5447,\n",
    "        4538,\n",
    "        1410,\n",
    "        5710,\n",
    "        398,\n",
    "        1741,\n",
    "        1926,\n",
    "        4109,\n",
    "        1847,\n",
    "        4047,\n",
    "        3452,\n",
    "        3210,\n",
    "        2555,\n",
    "        3566,\n",
    "        4869,\n",
    "        5271,\n",
    "        5115,\n",
    "        6107,\n",
    "        3165,\n",
    "        2205,\n",
    "        5467,\n",
    "        1259,\n",
    "        4247,\n",
    "        1785,\n",
    "        4048,\n",
    "        4734,\n",
    "        3917,\n",
    "        1807,\n",
    "        3458,\n",
    "        679,\n",
    "        3901,\n",
    "        2400,\n",
    "        5265,\n",
    "        3376,\n",
    "        3022,\n",
    "        2082,\n",
    "        5637,\n",
    "        2148,\n",
    "        301,\n",
    "        5476,\n",
    "        1633,\n",
    "        5456,\n",
    "        2683,\n",
    "        6087,\n",
    "        3333,\n",
    "        2833,\n",
    "        4981,\n",
    "        310,\n",
    "        2637,\n",
    "        5680,\n",
    "        5693,\n",
    "        5712,\n",
    "        1997,\n",
    "        3504,\n",
    "        4691,\n",
    "        3661,\n",
    "        3571,\n",
    "        5707,\n",
    "        5475,\n",
    "        4919,\n",
    "        3047,\n",
    "        3306,\n",
    "        2037,\n",
    "        4294,\n",
    "        1387,\n",
    "        6027,\n",
    "        3764,\n",
    "        2436,\n",
    "        1683,\n",
    "        5458,\n",
    "        5470,\n",
    "        5685,\n",
    "        6025,\n",
    "        3383,\n",
    "        3572,\n",
    "        1853,\n",
    "        2298,\n",
    "        4530,\n",
    "        6083,\n",
    "        3921,\n",
    "        1312,\n",
    "        2286,\n",
    "        6137,\n",
    "        5713,\n",
    "        3797,\n",
    "        5000,\n",
    "        5287,\n",
    "        5499,\n",
    "        3956,\n",
    "        2302,\n",
    "        2701,\n",
    "        5282,\n",
    "        5684,\n",
    "        2304,\n",
    "        3115,\n",
    "        749,\n",
    "        3410,\n",
    "        3942,\n",
    "        5698,\n",
    "        6085,\n",
    "        6118,\n",
    "        1547,\n",
    "        2743,\n",
    "        4030,\n",
    "        2253,\n",
    "        1227,\n",
    "        1844,\n",
    "        5280,\n",
    "        3471,\n",
    "        3590,\n",
    "        5754,\n",
    "        3407,\n",
    "        1972,\n",
    "        112,\n",
    "        177,\n",
    "        180,\n",
    "        2340,\n",
    "        3384,\n",
    "        3330,\n",
    "        3925,\n",
    "        5700,\n",
    "        3662,\n",
    "        3937,\n",
    "        5596,\n",
    "        1743,\n",
    "        1527,\n",
    "        4685,\n",
    "        4391,\n",
    "        4230,\n",
    "        6088,\n",
    "        5806,\n",
    "        1593,\n",
    "        2866,\n",
    "        2076,\n",
    "        3736,\n",
    "        4570,\n",
    "        5816,\n",
    "        6059,\n",
    "        3750,\n",
    "        1232,\n",
    "        1599,\n",
    "        2377,\n",
    "        1291,\n",
    "        2720,\n",
    "        1715,\n",
    "        3953,\n",
    "        237,\n",
    "        220,\n",
    "        2195,\n",
    "        4677,\n",
    "        4286,\n",
    "        5812,\n",
    "        3359,\n",
    "        5679,\n",
    "        5734,\n",
    "        5715,\n",
    "        2968,\n",
    "        4695,\n",
    "        3784,\n",
    "        3499,\n",
    "        5775,\n",
    "        5777,\n",
    "        5779,\n",
    "        5773,\n",
    "        5772,\n",
    "        5769,\n",
    "        5781,\n",
    "        4234,\n",
    "        4423,\n",
    "        3036,\n",
    "        2669,\n",
    "        2058,\n",
    "        1262,\n",
    "        2086,\n",
    "        3729,\n",
    "        2380,\n",
    "        77,\n",
    "        4564,\n",
    "        5270,\n",
    "        1373,\n",
    "        5701,\n",
    "        5737,\n",
    "        3534,\n",
    "        2988,\n",
    "        3178,\n",
    "        1609,\n",
    "        5654,\n",
    "        1435,\n",
    "        5498,\n",
    "        3320,\n",
    "        3001,\n",
    "        4243,\n",
    "        2522,\n",
    "        2352,\n",
    "        752,\n",
    "        4512,\n",
    "        5725,\n",
    "        3984,\n",
    "        3731,\n",
    "        4490,\n",
    "        1229,\n",
    "        2999,\n",
    "        2859,\n",
    "        2876,\n",
    "        2893,\n",
    "        1575,\n",
    "        2892,\n",
    "        4032,\n",
    "        3143,\n",
    "        2517,\n",
    "        1721,\n",
    "        1893,\n",
    "        1728,\n",
    "        4705,\n",
    "        3478,\n",
    "        2300,\n",
    "        2303,\n",
    "    ]\n",
    "][key]"
   ]
  },
  {
   "cell_type": "code",
   "execution_count": null,
   "id": "d8d2fb09",
   "metadata": {
    "scrolled": true
   },
   "outputs": [],
   "source": [
    "def print_row(x):\n",
    "    print(x.name)\n",
    "    for k in (key, (key, \"ordinal\")):\n",
    "        print(k, x[k])"
   ]
  },
  {
   "cell_type": "code",
   "execution_count": null,
   "id": "0060423d",
   "metadata": {},
   "outputs": [],
   "source": [
    "print_row(\n",
    "    x[x.longname == \"Merritt Neighborhood, Oakland City, California, USA\"].iloc[0]\n",
    ")\n",
    "print_row(x[x.longname == \"North Loop Neighborhood, Austin City, Texas, USA\"].iloc[0])"
   ]
  },
  {
   "cell_type": "code",
   "execution_count": null,
   "id": "f1d89d62",
   "metadata": {},
   "outputs": [],
   "source": [
    "print_row(\n",
    "    y_n[y_n.longname == \"Merritt Neighborhood, Oakland City, California, USA\"].iloc[0]\n",
    ")\n",
    "print_row(\n",
    "    y_n[y_n.longname == \"North Loop Neighborhood, Austin City, Texas, USA\"].iloc[0]\n",
    ")"
   ]
  },
  {
   "cell_type": "code",
   "execution_count": null,
   "id": "228e181d",
   "metadata": {},
   "outputs": [],
   "source": []
  },
  {
   "cell_type": "code",
   "execution_count": null,
   "id": "f080d53e",
   "metadata": {},
   "outputs": [],
   "source": [
    "y_n[np.abs(y_n[key] - 0.7734051846829366) < 0.01]"
   ]
  },
  {
   "cell_type": "code",
   "execution_count": null,
   "id": "95bf94c0",
   "metadata": {
    "scrolled": true
   },
   "outputs": [],
   "source": [
    "a = gpd.read_file(shapefiles[\"native_subdivisions\"].path)"
   ]
  },
  {
   "cell_type": "code",
   "execution_count": null,
   "id": "20cb0e13",
   "metadata": {},
   "outputs": [],
   "source": [
    "def classify_name(x):\n",
    "    if \"Reservation\" in x or \"Home Land\" in x or \"Trust Land\" in x or \"Rancheria\" in x:\n",
    "        return \"Reservation\"\n",
    "    if :\n",
    "        return \"TSA\"\n",
    "    print(x)"
   ]
  },
  {
   "cell_type": "code",
   "execution_count": null,
   "id": "ffbf1590",
   "metadata": {},
   "outputs": [],
   "source": [
    "import pickle\n",
    "with open(shapefiles[\"historical_congressional\"].path, \"rb\") as f:\n",
    "    x = pickle.load(f)"
   ]
  },
  {
   "cell_type": "code",
   "execution_count": null,
   "id": "17cf7b7c",
   "metadata": {},
   "outputs": [],
   "source": [
    "x[\"state\"].apply(lambda x: current_state(x)).all()"
   ]
  },
  {
   "cell_type": "code",
   "execution_count": null,
   "id": "f60ad314",
   "metadata": {},
   "outputs": [],
   "source": [
    "for x in ce_to_name().values():\n",
    "    classify_name(x)"
   ]
  },
  {
   "cell_type": "code",
   "execution_count": null,
   "id": "7973b388",
   "metadata": {},
   "outputs": [],
   "source": [
    "a"
   ]
  },
  {
   "cell_type": "code",
   "execution_count": null,
   "id": "1b7821cd",
   "metadata": {},
   "outputs": [],
   "source": [
    "u = create_relationships(shapefiles[\"cities\"], shapefiles[\"state_house\"])"
   ]
  },
  {
   "cell_type": "code",
   "execution_count": null,
   "id": "de750346",
   "metadata": {},
   "outputs": [],
   "source": [
    "[x for x in u[1] if \"Farmington\" in str(x)]"
   ]
  },
  {
   "cell_type": "code",
   "execution_count": null,
   "id": "575e599f",
   "metadata": {},
   "outputs": [],
   "source": [
    "x = school_district_shapefiles()"
   ]
  },
  {
   "cell_type": "code",
   "execution_count": null,
   "id": "c0dd5026",
   "metadata": {},
   "outputs": [],
   "source": [
    "x"
   ]
  },
  {
   "cell_type": "code",
   "execution_count": null,
   "id": "9c06598d",
   "metadata": {},
   "outputs": [],
   "source": [
    "b = gpd.read_file(shapefiles[\"school_districts\"].path[0])"
   ]
  },
  {
   "cell_type": "code",
   "execution_count": null,
   "id": "39062ed2",
   "metadata": {},
   "outputs": [],
   "source": []
  },
  {
   "cell_type": "code",
   "execution_count": null,
   "id": "9e4d0a99",
   "metadata": {},
   "outputs": [],
   "source": [
    "b[b.NAME.apply(lambda x: \"Mountain View E\" in x)]"
   ]
  },
  {
   "cell_type": "code",
   "execution_count": null,
   "id": "9db77fc6",
   "metadata": {},
   "outputs": [],
   "source": [
    "a[a.shortname.apply(lambda x: \"city\" in x.lower())]"
   ]
  },
  {
   "cell_type": "code",
   "execution_count": null,
   "id": "7f190297",
   "metadata": {},
   "outputs": [],
   "source": [
    "y[y.STATE_NAME == \"Oklahoma\"].sort_values(\"NAME\")"
   ]
  },
  {
   "cell_type": "code",
   "execution_count": null,
   "id": "3b4e9cf5",
   "metadata": {},
   "outputs": [],
   "source": [
    "y[y.AIANNHCE == \"0335\"]"
   ]
  },
  {
   "cell_type": "code",
   "execution_count": null,
   "id": "1b4083fe",
   "metadata": {},
   "outputs": [],
   "source": [
    "shapefiles[\"cities\"].load_file()"
   ]
  },
  {
   "cell_type": "code",
   "execution_count": null,
   "id": "51c3d026",
   "metadata": {},
   "outputs": [],
   "source": [
    "x.groupby(\"state\").count().sort_values(\"STATEFP20\")"
   ]
  },
  {
   "cell_type": "code",
   "execution_count": null,
   "id": "d558bd9d",
   "metadata": {},
   "outputs": [],
   "source": [
    "x[x.state == \"IL\"]"
   ]
  },
  {
   "cell_type": "code",
   "execution_count": null,
   "id": "71f16d0c",
   "metadata": {},
   "outputs": [],
   "source": []
  }
 ],
 "metadata": {
  "kernelspec": {
   "display_name": "Python 3",
   "language": "python",
   "name": "python3"
  },
  "language_info": {
   "codemirror_mode": {
    "name": "ipython",
    "version": 3
   },
   "file_extension": ".py",
   "mimetype": "text/x-python",
   "name": "python",
   "nbconvert_exporter": "python",
   "pygments_lexer": "ipython3",
   "version": "3.7.10"
  }
 },
 "nbformat": 4,
 "nbformat_minor": 5
}
