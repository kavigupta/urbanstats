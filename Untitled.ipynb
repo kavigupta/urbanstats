{
 "cells": [
  {
   "cell_type": "code",
   "execution_count": 1,
   "id": "38130a5f",
   "metadata": {},
   "outputs": [],
   "source": [
    "%load_ext autoreload\n",
    "%autoreload 2"
   ]
  },
  {
   "cell_type": "code",
   "execution_count": 2,
   "id": "cbea4d43",
   "metadata": {},
   "outputs": [
    {
     "name": "stderr",
     "output_type": "stream",
     "text": [
      "/home/kavi/anaconda3/lib/python3.7/site-packages/geopandas/_compat.py:115: UserWarning: The Shapely GEOS version (3.11.1-CAPI-1.17.1) is incompatible with the GEOS version PyGEOS was compiled with (3.10.1-CAPI-1.16.0). Conversions between both will be slow.\n",
      "  shapely_geos_version, geos_capi_version_string\n"
     ]
    }
   ],
   "source": [
    "import us\n",
    "import copy\n",
    "import tqdm.auto as tqdm\n",
    "import geopandas as gpd\n",
    "import numpy as np\n",
    "import pandas as pd\n",
    "from shapefiles import shapefiles, school_district_shapefiles, ce_to_name\n",
    "from relationship import full_relationships, create_relationships\n",
    "from stats_for_shapefile import compute_statistics_for_shapefile, compute_summed_shapefile_all_keys, sum_keys\n",
    "from create_website import (\n",
    "    full_shapefile,\n",
    "    shapefile_without_ordinals,\n",
    "    add_ordinals,\n",
    "    get_statistic_categories,\n",
    "    create_page_jsons,\n",
    ")\n",
    "from election_data import with_election_results\n",
    "from urbanstats.features.extract_data import feature_data\n",
    "import matplotlib.pyplot as plt\n",
    "import matplotlib as mpl\n",
    "\n",
    "from urbanstats.data.gpw import *\n",
    "from urbanstats.data.population_urban_area import *\n",
    "\n",
    "from shapefiles import CONGRESSIONAL_DISTRICTS, COUNTIES, county_cross_cd, usda_county_type, shapefiles"
   ]
  },
  {
   "cell_type": "code",
   "execution_count": 3,
   "id": "046610ac",
   "metadata": {},
   "outputs": [],
   "source": [
    "from urbanstats.consolidated_data.produce_consolidated_data import produce_results_for_type"
   ]
  },
  {
   "cell_type": "code",
   "execution_count": 17,
   "id": "87a5aa7d",
   "metadata": {},
   "outputs": [],
   "source": [
    "x = shapefiles[\"hospital_referral_regions\"].load_file()"
   ]
  },
  {
   "cell_type": "code",
   "execution_count": 20,
   "id": "99846e0e",
   "metadata": {},
   "outputs": [
    {
     "data": {
      "text/html": [
       "<div>\n",
       "<style scoped>\n",
       "    .dataframe tbody tr th:only-of-type {\n",
       "        vertical-align: middle;\n",
       "    }\n",
       "\n",
       "    .dataframe tbody tr th {\n",
       "        vertical-align: top;\n",
       "    }\n",
       "\n",
       "    .dataframe thead th {\n",
       "        text-align: right;\n",
       "    }\n",
       "</style>\n",
       "<table border=\"1\" class=\"dataframe\">\n",
       "  <thead>\n",
       "    <tr style=\"text-align: right;\">\n",
       "      <th></th>\n",
       "      <th>shortname</th>\n",
       "      <th>longname</th>\n",
       "      <th>geometry</th>\n",
       "    </tr>\n",
       "  </thead>\n",
       "  <tbody>\n",
       "    <tr>\n",
       "      <th>0</th>\n",
       "      <td>Birmingham AL HRR</td>\n",
       "      <td>Birmingham AL HRR, USA</td>\n",
       "      <td>MULTIPOLYGON (((-85.89658 32.70483, -85.90204 ...</td>\n",
       "    </tr>\n",
       "    <tr>\n",
       "      <th>1</th>\n",
       "      <td>Dothan AL HRR</td>\n",
       "      <td>Dothan AL HRR, USA</td>\n",
       "      <td>MULTIPOLYGON (((-86.19400 31.43991, -86.21075 ...</td>\n",
       "    </tr>\n",
       "    <tr>\n",
       "      <th>2</th>\n",
       "      <td>Huntsville AL HRR</td>\n",
       "      <td>Huntsville AL HRR, USA</td>\n",
       "      <td>MULTIPOLYGON (((-86.69474 34.42309, -86.69502 ...</td>\n",
       "    </tr>\n",
       "    <tr>\n",
       "      <th>3</th>\n",
       "      <td>Mobile AL HRR</td>\n",
       "      <td>Mobile AL HRR, USA</td>\n",
       "      <td>MULTIPOLYGON (((-87.55554 30.47282, -87.55223 ...</td>\n",
       "    </tr>\n",
       "    <tr>\n",
       "      <th>4</th>\n",
       "      <td>Montgomery AL HRR</td>\n",
       "      <td>Montgomery AL HRR, USA</td>\n",
       "      <td>POLYGON ((-86.49925 31.52517, -86.48617 31.525...</td>\n",
       "    </tr>\n",
       "    <tr>\n",
       "      <th>...</th>\n",
       "      <td>...</td>\n",
       "      <td>...</td>\n",
       "      <td>...</td>\n",
       "    </tr>\n",
       "    <tr>\n",
       "      <th>304</th>\n",
       "      <td>Anchorage AK HRR</td>\n",
       "      <td>Anchorage AK HRR, USA</td>\n",
       "      <td>MULTIPOLYGON (((-168.13118 65.63704, -168.1150...</td>\n",
       "    </tr>\n",
       "    <tr>\n",
       "      <th>305</th>\n",
       "      <td>Honolulu HI HRR</td>\n",
       "      <td>Honolulu HI HRR, USA</td>\n",
       "      <td>MULTIPOLYGON (((-156.06417 19.73019, -156.0635...</td>\n",
       "    </tr>\n",
       "    <tr>\n",
       "      <th>306</th>\n",
       "      <td>Phoenix AZ HRR</td>\n",
       "      <td>Phoenix AZ HRR, USA</td>\n",
       "      <td>POLYGON ((-111.51510 33.01583, -111.51595 33.1...</td>\n",
       "    </tr>\n",
       "    <tr>\n",
       "      <th>307</th>\n",
       "      <td>Phoenix AZ HRR</td>\n",
       "      <td>Phoenix AZ HRR, USA</td>\n",
       "      <td>POLYGON ((-112.90063 32.19912, -112.79095 32.1...</td>\n",
       "    </tr>\n",
       "    <tr>\n",
       "      <th>308</th>\n",
       "      <td>Phoenix AZ HRR</td>\n",
       "      <td>Phoenix AZ HRR, USA</td>\n",
       "      <td>POLYGON ((-76.30020 39.30180, -76.28210 39.299...</td>\n",
       "    </tr>\n",
       "  </tbody>\n",
       "</table>\n",
       "<p>309 rows × 3 columns</p>\n",
       "</div>"
      ],
      "text/plain": [
       "             shortname                longname  \\\n",
       "0    Birmingham AL HRR  Birmingham AL HRR, USA   \n",
       "1        Dothan AL HRR      Dothan AL HRR, USA   \n",
       "2    Huntsville AL HRR  Huntsville AL HRR, USA   \n",
       "3        Mobile AL HRR      Mobile AL HRR, USA   \n",
       "4    Montgomery AL HRR  Montgomery AL HRR, USA   \n",
       "..                 ...                     ...   \n",
       "304   Anchorage AK HRR   Anchorage AK HRR, USA   \n",
       "305    Honolulu HI HRR    Honolulu HI HRR, USA   \n",
       "306     Phoenix AZ HRR     Phoenix AZ HRR, USA   \n",
       "307     Phoenix AZ HRR     Phoenix AZ HRR, USA   \n",
       "308     Phoenix AZ HRR     Phoenix AZ HRR, USA   \n",
       "\n",
       "                                              geometry  \n",
       "0    MULTIPOLYGON (((-85.89658 32.70483, -85.90204 ...  \n",
       "1    MULTIPOLYGON (((-86.19400 31.43991, -86.21075 ...  \n",
       "2    MULTIPOLYGON (((-86.69474 34.42309, -86.69502 ...  \n",
       "3    MULTIPOLYGON (((-87.55554 30.47282, -87.55223 ...  \n",
       "4    POLYGON ((-86.49925 31.52517, -86.48617 31.525...  \n",
       "..                                                 ...  \n",
       "304  MULTIPOLYGON (((-168.13118 65.63704, -168.1150...  \n",
       "305  MULTIPOLYGON (((-156.06417 19.73019, -156.0635...  \n",
       "306  POLYGON ((-111.51510 33.01583, -111.51595 33.1...  \n",
       "307  POLYGON ((-112.90063 32.19912, -112.79095 32.1...  \n",
       "308  POLYGON ((-76.30020 39.30180, -76.28210 39.299...  \n",
       "\n",
       "[309 rows x 3 columns]"
      ]
     },
     "execution_count": 20,
     "metadata": {},
     "output_type": "execute_result"
    }
   ],
   "source": [
    "x"
   ]
  },
  {
   "cell_type": "code",
   "execution_count": 5,
   "id": "7d30e6a9",
   "metadata": {},
   "outputs": [
    {
     "name": "stdout",
     "output_type": "stream",
     "text": [
      "Hospital Referral Region\n"
     ]
    },
    {
     "data": {
      "application/vnd.jupyter.widget-view+json": {
       "model_id": "6de9565913284b849ab9cd2331b07243",
       "version_major": 2,
       "version_minor": 0
      },
      "text/plain": [
       "  0%|          | 0/306 [00:00<?, ?it/s]"
      ]
     },
     "metadata": {},
     "output_type": "display_data"
    }
   ],
   "source": [
    "produce_results_for_type(\"/home/kavi/temp/site\", \"Hospital Referral Region\")"
   ]
  },
  {
   "cell_type": "code",
   "execution_count": 4,
   "id": "b5d1ac53",
   "metadata": {},
   "outputs": [],
   "source": [
    "import pickle"
   ]
  },
  {
   "cell_type": "code",
   "execution_count": 271,
   "id": "62a8daa8",
   "metadata": {},
   "outputs": [],
   "source": [
    "hrr = gpd.read_file(\"named_region_shapefiles/hrr.geojson\")\n",
    "hrr = hrr.set_index(\"hrrnum\")"
   ]
  },
  {
   "cell_type": "code",
   "execution_count": 272,
   "id": "330589d1",
   "metadata": {},
   "outputs": [],
   "source": [
    "hrr_label_to_idx = dict(zip(hrr.hrrcity, hrr.index))\n",
    "split_idx = hrr_label_to_idx[\"AZ- PHOENIX\"]"
   ]
  },
  {
   "cell_type": "code",
   "execution_count": 273,
   "id": "1d59a763",
   "metadata": {},
   "outputs": [
    {
     "data": {
      "text/plain": [
       "{'MD- BALTIMORE': 223,\n",
       " 'MI- SAGINAW': 246,\n",
       " 'ME- PORTLAND': 222,\n",
       " 'VA- NORFOLK': 430,\n",
       " 'TX- CORPUS CHRISTI': 390,\n",
       " 'AL- BIRMINGHAM': 1,\n",
       " 'AL- DOTHAN': 2,\n",
       " 'AL- HUNTSVILLE': 5,\n",
       " 'AL- MOBILE': 6,\n",
       " 'AL- MONTGOMERY': 7,\n",
       " 'AL- TUSCALOOSA': 9,\n",
       " 'AZ- MESA': 11,\n",
       " 'AZ- PHOENIX': 12,\n",
       " 'AZ- SUN CITY': 14,\n",
       " 'AZ- TUCSON': 15,\n",
       " 'AR- FORT SMITH': 16,\n",
       " 'AR- JONESBORO': 18,\n",
       " 'AR- LITTLE ROCK': 19,\n",
       " 'AR- SPRINGDALE': 21,\n",
       " 'AR- TEXARKANA': 22,\n",
       " 'CA- ORANGE CO.': 23,\n",
       " 'CA- BAKERSFIELD': 25,\n",
       " 'CA- CHICO': 31,\n",
       " 'CA- CONTRA COSTA CO.': 33,\n",
       " 'CA- FRESNO': 43,\n",
       " 'CA- LOS ANGELES': 56,\n",
       " 'CA- MODESTO': 58,\n",
       " 'CA- NAPA': 62,\n",
       " 'CA- ALAMEDA CO.': 65,\n",
       " 'CA- PALM SPR/RANCHO MIR.': 69,\n",
       " 'CA- REDDING': 73,\n",
       " 'CA- SACRAMENTO': 77,\n",
       " 'CA- SALINAS': 78,\n",
       " 'CA- SAN BERNARDINO': 79,\n",
       " 'CA- SAN DIEGO': 80,\n",
       " 'CA- SAN FRANCISCO': 81,\n",
       " 'CA- SAN JOSE': 82,\n",
       " 'CA- SAN LUIS OBISPO': 83,\n",
       " 'CA- SAN MATEO CO.': 85,\n",
       " 'CA- SANTA BARBARA': 86,\n",
       " 'CA- SANTA CRUZ': 87,\n",
       " 'CA- SANTA ROSA': 89,\n",
       " 'CA- STOCKTON': 91,\n",
       " 'CA- VENTURA': 96,\n",
       " 'CO- BOULDER': 101,\n",
       " 'CO- COLORADO SPRINGS': 102,\n",
       " 'CO- DENVER': 103,\n",
       " 'CO- FORT COLLINS': 104,\n",
       " 'CO- GRAND JUNCTION': 105,\n",
       " 'CO- GREELEY': 106,\n",
       " 'CO- PUEBLO': 107,\n",
       " 'CT- BRIDGEPORT': 109,\n",
       " 'CT- HARTFORD': 110,\n",
       " 'CT- NEW HAVEN': 111,\n",
       " 'DE- WILMINGTON': 112,\n",
       " 'DC- WASHINGTON': 113,\n",
       " 'FL- BRADENTON': 115,\n",
       " 'FL- CLEARWATER': 116,\n",
       " 'FL- FORT LAUDERDALE': 118,\n",
       " 'FL- FORT MYERS': 119,\n",
       " 'FL- GAINESVILLE': 120,\n",
       " 'FL- HUDSON': 122,\n",
       " 'FL- JACKSONVILLE': 123,\n",
       " 'FL- LAKELAND': 124,\n",
       " 'FL- MIAMI': 127,\n",
       " 'FL- OCALA': 129,\n",
       " 'FL- ORLANDO': 130,\n",
       " 'FL- ORMOND BEACH': 131,\n",
       " 'FL- PANAMA CITY': 133,\n",
       " 'FL- PENSACOLA': 134,\n",
       " 'FL- SARASOTA': 137,\n",
       " 'FL- ST PETERSBURG': 139,\n",
       " 'FL- TALLAHASSEE': 140,\n",
       " 'FL- TAMPA': 141,\n",
       " 'GA- ALBANY': 142,\n",
       " 'GA- ATLANTA': 144,\n",
       " 'GA- AUGUSTA': 145,\n",
       " 'GA- COLUMBUS': 146,\n",
       " 'GA- MACON': 147,\n",
       " 'GA- ROME': 148,\n",
       " 'GA- SAVANNAH': 149,\n",
       " 'ID- BOISE': 151,\n",
       " 'ID- IDAHO FALLS': 152,\n",
       " 'IL- AURORA': 154,\n",
       " 'IL- BLUE ISLAND': 155,\n",
       " 'IL- CHICAGO': 156,\n",
       " 'IL- ELGIN': 158,\n",
       " 'IL- EVANSTON': 161,\n",
       " 'IL- HINSDALE': 163,\n",
       " 'IL- JOLIET': 164,\n",
       " 'IL- MELROSE PARK': 166,\n",
       " 'IL- PEORIA': 170,\n",
       " 'IL- ROCKFORD': 171,\n",
       " 'IL- SPRINGFIELD': 172,\n",
       " 'IL- URBANA': 173,\n",
       " 'IL- BLOOMINGTON': 175,\n",
       " 'IN- EVANSVILLE': 179,\n",
       " 'IN- FORT WAYNE': 180,\n",
       " 'IN- GARY': 181,\n",
       " 'IN- INDIANAPOLIS': 183,\n",
       " 'IN- LAFAYETTE': 184,\n",
       " 'IN- MUNCIE': 185,\n",
       " 'IN- MUNSTER': 186,\n",
       " 'IN- SOUTH BEND': 187,\n",
       " 'IN- TERRE HAUTE': 188,\n",
       " 'IA- CEDAR RAPIDS': 190,\n",
       " 'IA- DAVENPORT': 191,\n",
       " 'IA- DES MOINES': 192,\n",
       " 'IA- DUBUQUE': 193,\n",
       " 'IA- IOWA CITY': 194,\n",
       " 'IA- MASON CITY': 195,\n",
       " 'IA- SIOUX CITY': 196,\n",
       " 'IA- WATERLOO': 197,\n",
       " 'KS- TOPEKA': 200,\n",
       " 'KS- WICHITA': 201,\n",
       " 'KY- COVINGTON': 203,\n",
       " 'KY- LEXINGTON': 204,\n",
       " 'KY- LOUISVILLE': 205,\n",
       " 'KY- OWENSBORO': 207,\n",
       " 'KY- PADUCAH': 208,\n",
       " 'LA- ALEXANDRIA': 209,\n",
       " 'LA- BATON ROUGE': 210,\n",
       " 'LA- HOUMA': 212,\n",
       " 'LA- LAFAYETTE': 213,\n",
       " 'LA- LAKE CHARLES': 214,\n",
       " 'LA- METAIRIE': 216,\n",
       " 'LA- MONROE': 217,\n",
       " 'LA- NEW ORLEANS': 218,\n",
       " 'LA- SHREVEPORT': 219,\n",
       " 'LA- SLIDELL': 220,\n",
       " 'ME- BANGOR': 221,\n",
       " 'MD- SALISBURY': 225,\n",
       " 'MD- TAKOMA PARK': 226,\n",
       " 'MA- BOSTON': 227,\n",
       " 'MA- SPRINGFIELD': 230,\n",
       " 'MA- WORCESTER': 231,\n",
       " 'MI- ANN ARBOR': 232,\n",
       " 'MI- DEARBORN': 233,\n",
       " 'MI- DETROIT': 234,\n",
       " 'MI- FLINT': 235,\n",
       " 'MI- GRAND RAPIDS': 236,\n",
       " 'MI- KALAMAZOO': 238,\n",
       " 'MI- LANSING': 239,\n",
       " 'MI- MARQUETTE': 240,\n",
       " 'MI- MUSKEGON': 242,\n",
       " 'MI- PETOSKEY': 243,\n",
       " 'MI- PONTIAC': 244,\n",
       " 'MI- ROYAL OAK': 245,\n",
       " 'MI- ST JOSEPH': 248,\n",
       " 'MI- TRAVERSE CITY': 249,\n",
       " 'MN- DULUTH': 250,\n",
       " 'MN- MINNEAPOLIS': 251,\n",
       " 'MN- ROCHESTER': 253,\n",
       " 'MN- ST CLOUD': 254,\n",
       " 'MN- ST PAUL': 256,\n",
       " 'MS- GULFPORT': 257,\n",
       " 'MS- HATTIESBURG': 258,\n",
       " 'MS- JACKSON': 259,\n",
       " 'MS- MERIDIAN': 260,\n",
       " 'MS- OXFORD': 261,\n",
       " 'MS- TUPELO': 262,\n",
       " 'MO- CAPE GIRARDEAU': 263,\n",
       " 'MO- COLUMBIA': 264,\n",
       " 'MO- JOPLIN': 267,\n",
       " 'MO- KANSAS CITY': 268,\n",
       " 'MO- SPRINGFIELD': 270,\n",
       " 'MO- ST LOUIS': 273,\n",
       " 'MT- BILLINGS': 274,\n",
       " 'MT- GREAT FALLS': 275,\n",
       " 'MT- MISSOULA': 276,\n",
       " 'NE- LINCOLN': 277,\n",
       " 'NE- OMAHA': 278,\n",
       " 'NV- LAS VEGAS': 279,\n",
       " 'NV- RENO': 280,\n",
       " 'NH- LEBANON': 281,\n",
       " 'NH- MANCHESTER': 282,\n",
       " 'NJ- CAMDEN': 283,\n",
       " 'NJ- HACKENSACK': 284,\n",
       " 'NJ- MORRISTOWN': 285,\n",
       " 'NJ- NEW BRUNSWICK': 288,\n",
       " 'NJ- NEWARK': 289,\n",
       " 'NJ- PATERSON': 291,\n",
       " 'NJ- RIDGEWOOD': 292,\n",
       " 'NM- ALBUQUERQUE': 293,\n",
       " 'NY- ALBANY': 295,\n",
       " 'NY- BINGHAMTON': 296,\n",
       " 'NY- BRONX': 297,\n",
       " 'NY- BUFFALO': 299,\n",
       " 'NY- ELMIRA': 300,\n",
       " 'NY- EAST LONG ISLAND': 301,\n",
       " 'NY- NEW YORK': 303,\n",
       " 'NY- ROCHESTER': 304,\n",
       " 'NY- SYRACUSE': 307,\n",
       " 'NY- WHITE PLAINS': 308,\n",
       " 'NC- ASHEVILLE': 309,\n",
       " 'NC- CHARLOTTE': 311,\n",
       " 'NC- DURHAM': 312,\n",
       " 'NC- GREENSBORO': 313,\n",
       " 'NC- GREENVILLE': 314,\n",
       " 'NC- HICKORY': 315,\n",
       " 'NC- RALEIGH': 318,\n",
       " 'NC- WILMINGTON': 319,\n",
       " 'NC- WINSTON-SALEM': 320,\n",
       " 'ND- BISMARCK': 321,\n",
       " 'ND- FARGO MOORHEAD -MN': 322,\n",
       " 'ND- GRAND FORKS': 323,\n",
       " 'ND- MINOT': 324,\n",
       " 'OH- AKRON': 325,\n",
       " 'OH- CANTON': 326,\n",
       " 'OH- CINCINNATI': 327,\n",
       " 'OH- CLEVELAND': 328,\n",
       " 'OH- COLUMBUS': 329,\n",
       " 'OH- DAYTON': 330,\n",
       " 'OH- ELYRIA': 331,\n",
       " 'OH- KETTERING': 332,\n",
       " 'OH- TOLEDO': 334,\n",
       " 'OH- YOUNGSTOWN': 335,\n",
       " 'OK- LAWTON': 336,\n",
       " 'OK- OKLAHOMA CITY': 339,\n",
       " 'OK- TULSA': 340,\n",
       " 'OR- BEND': 341,\n",
       " 'OR- EUGENE': 342,\n",
       " 'OR- MEDFORD': 343,\n",
       " 'OR- PORTLAND': 344,\n",
       " 'OR- SALEM': 345,\n",
       " 'PA- ALLENTOWN': 346,\n",
       " 'PA- ALTOONA': 347,\n",
       " 'PA- DANVILLE': 350,\n",
       " 'PA- ERIE': 351,\n",
       " 'PA- HARRISBURG': 352,\n",
       " 'PA- JOHNSTOWN': 354,\n",
       " 'PA- LANCASTER': 355,\n",
       " 'PA- PHILADELPHIA': 356,\n",
       " 'PA- PITTSBURGH': 357,\n",
       " 'PA- READING': 358,\n",
       " 'PA- SAYRE': 359,\n",
       " 'PA- SCRANTON': 360,\n",
       " 'PA- WILKES-BARRE': 362,\n",
       " 'PA- YORK': 363,\n",
       " 'RI- PROVIDENCE': 364,\n",
       " 'SC- CHARLESTON': 365,\n",
       " 'SC- COLUMBIA': 366,\n",
       " 'SC- FLORENCE': 367,\n",
       " 'SC- GREENVILLE': 368,\n",
       " 'SC- SPARTANBURG': 369,\n",
       " 'SD- RAPID CITY': 370,\n",
       " 'SD- SIOUX FALLS': 371,\n",
       " 'TN- CHATTANOOGA': 373,\n",
       " 'TN- JACKSON': 374,\n",
       " 'TN- JOHNSON CITY': 375,\n",
       " 'TN- KINGSPORT': 376,\n",
       " 'TN- KNOXVILLE': 377,\n",
       " 'TN- MEMPHIS': 379,\n",
       " 'TN- NASHVILLE': 380,\n",
       " 'TX- ABILENE': 382,\n",
       " 'TX- AMARILLO': 383,\n",
       " 'TX- AUSTIN': 385,\n",
       " 'TX- BEAUMONT': 386,\n",
       " 'TX- BRYAN': 388,\n",
       " 'TX- DALLAS': 391,\n",
       " 'TX- EL PASO': 393,\n",
       " 'TX- FORT WORTH': 394,\n",
       " 'TX- HARLINGEN': 396,\n",
       " 'TX- HOUSTON': 397,\n",
       " 'TX- LONGVIEW': 399,\n",
       " 'TX- LUBBOCK': 400,\n",
       " 'TX- MCALLEN': 402,\n",
       " 'TX- ODESSA': 406,\n",
       " 'TX- SAN ANGELO': 411,\n",
       " 'TX- SAN ANTONIO': 412,\n",
       " 'TX- TEMPLE': 413,\n",
       " 'TX- TYLER': 416,\n",
       " 'TX- VICTORIA': 417,\n",
       " 'TX- WACO': 418,\n",
       " 'TX- WICHITA FALLS': 420,\n",
       " 'UT- OGDEN': 421,\n",
       " 'UT- PROVO': 422,\n",
       " 'UT- SALT LAKE CITY': 423,\n",
       " 'VT- BURLINGTON': 424,\n",
       " 'VA- ARLINGTON': 426,\n",
       " 'VA- CHARLOTTESVILLE': 427,\n",
       " 'VA- LYNCHBURG': 428,\n",
       " 'VA- NEWPORT NEWS': 429,\n",
       " 'VA- RICHMOND': 431,\n",
       " 'VA- ROANOKE': 432,\n",
       " 'VA- WINCHESTER': 435,\n",
       " 'WA- EVERETT': 437,\n",
       " 'WA- OLYMPIA': 438,\n",
       " 'WA- SEATTLE': 439,\n",
       " 'WA- SPOKANE': 440,\n",
       " 'WA- TACOMA': 441,\n",
       " 'WA- YAKIMA': 442,\n",
       " 'WV- CHARLESTON': 443,\n",
       " 'WV- HUNTINGTON': 444,\n",
       " 'WV- MORGANTOWN': 445,\n",
       " 'WI- APPLETON': 446,\n",
       " 'WI- GREEN BAY': 447,\n",
       " 'WI- LA CROSSE': 448,\n",
       " 'WI- MADISON': 449,\n",
       " 'WI- MARSHFIELD': 450,\n",
       " 'WI- MILWAUKEE': 451,\n",
       " 'WI- NEENAH': 452,\n",
       " 'WI- WAUSAU': 456,\n",
       " 'WY- CASPER': 457,\n",
       " 'AK- ANCHORAGE': 10,\n",
       " 'HI- HONOLULU': 150}"
      ]
     },
     "execution_count": 273,
     "metadata": {},
     "output_type": "execute_result"
    }
   ],
   "source": [
    "hrr_label_to_idx"
   ]
  },
  {
   "cell_type": "code",
   "execution_count": null,
   "id": "56c696cb",
   "metadata": {},
   "outputs": [],
   "source": []
  },
  {
   "cell_type": "code",
   "execution_count": 274,
   "id": "e4a0070e",
   "metadata": {},
   "outputs": [],
   "source": [
    "hsa = gpd.read_file(shapefiles[\"hospital_service_areas\"].path)"
   ]
  },
  {
   "cell_type": "code",
   "execution_count": 275,
   "id": "fec9a8af",
   "metadata": {},
   "outputs": [],
   "source": [
    "hsa_hrr = hsa.dissolve(\"HRR93\")"
   ]
  },
  {
   "cell_type": "code",
   "execution_count": 276,
   "id": "57ff9c12",
   "metadata": {},
   "outputs": [],
   "source": [
    "def fix(p):\n",
    "    p = p.buffer(0)\n",
    "    if isinstance(p, shapely.geometry.MultiPolygon):\n",
    "        return shapely.geometry.MultiPolygon(shapely.geometry.Polygon(p.exterior) for p in p.geoms)\n",
    "    return shapely.geometry.Polygon(p.exterior)"
   ]
  },
  {
   "cell_type": "code",
   "execution_count": 277,
   "id": "16492491",
   "metadata": {},
   "outputs": [
    {
     "data": {
      "text/html": [
       "<div>\n",
       "<style scoped>\n",
       "    .dataframe tbody tr th:only-of-type {\n",
       "        vertical-align: middle;\n",
       "    }\n",
       "\n",
       "    .dataframe tbody tr th {\n",
       "        vertical-align: top;\n",
       "    }\n",
       "\n",
       "    .dataframe thead th {\n",
       "        text-align: right;\n",
       "    }\n",
       "</style>\n",
       "<table border=\"1\" class=\"dataframe\">\n",
       "  <thead>\n",
       "    <tr style=\"text-align: right;\">\n",
       "      <th></th>\n",
       "      <th>hrrcity</th>\n",
       "      <th>stf3bpop</th>\n",
       "      <th>color</th>\n",
       "      <th>color8a</th>\n",
       "      <th>color8b</th>\n",
       "      <th>HRR_lbl</th>\n",
       "      <th>geometry</th>\n",
       "    </tr>\n",
       "    <tr>\n",
       "      <th>hrrnum</th>\n",
       "      <th></th>\n",
       "      <th></th>\n",
       "      <th></th>\n",
       "      <th></th>\n",
       "      <th></th>\n",
       "      <th></th>\n",
       "      <th></th>\n",
       "    </tr>\n",
       "  </thead>\n",
       "  <tbody>\n",
       "    <tr>\n",
       "      <th>223</th>\n",
       "      <td>MD- BALTIMORE</td>\n",
       "      <td>0</td>\n",
       "      <td>1</td>\n",
       "      <td>6</td>\n",
       "      <td>1</td>\n",
       "      <td>Baltimore</td>\n",
       "      <td>MULTIPOLYGON (((-76.32600 39.38930, -76.32980 ...</td>\n",
       "    </tr>\n",
       "    <tr>\n",
       "      <th>246</th>\n",
       "      <td>MI- SAGINAW</td>\n",
       "      <td>0</td>\n",
       "      <td>1</td>\n",
       "      <td>6</td>\n",
       "      <td>8</td>\n",
       "      <td>Saginaw</td>\n",
       "      <td>POLYGON ((-83.32465 44.41502, -83.31848 44.406...</td>\n",
       "    </tr>\n",
       "    <tr>\n",
       "      <th>222</th>\n",
       "      <td>ME- PORTLAND</td>\n",
       "      <td>0</td>\n",
       "      <td>11</td>\n",
       "      <td>7</td>\n",
       "      <td>6</td>\n",
       "      <td>Portland</td>\n",
       "      <td>MULTIPOLYGON (((-69.20267 44.34721, -69.19604 ...</td>\n",
       "    </tr>\n",
       "    <tr>\n",
       "      <th>430</th>\n",
       "      <td>VA- NORFOLK</td>\n",
       "      <td>0</td>\n",
       "      <td>8</td>\n",
       "      <td>2</td>\n",
       "      <td>4</td>\n",
       "      <td>Norfolk</td>\n",
       "      <td>MULTIPOLYGON (((-75.97330 36.84480, -75.97000 ...</td>\n",
       "    </tr>\n",
       "    <tr>\n",
       "      <th>390</th>\n",
       "      <td>TX- CORPUS CHRISTI</td>\n",
       "      <td>0</td>\n",
       "      <td>5</td>\n",
       "      <td>6</td>\n",
       "      <td>1</td>\n",
       "      <td>Corpus Christi</td>\n",
       "      <td>MULTIPOLYGON (((-96.82474 28.20308, -96.83301 ...</td>\n",
       "    </tr>\n",
       "    <tr>\n",
       "      <th>...</th>\n",
       "      <td>...</td>\n",
       "      <td>...</td>\n",
       "      <td>...</td>\n",
       "      <td>...</td>\n",
       "      <td>...</td>\n",
       "      <td>...</td>\n",
       "      <td>...</td>\n",
       "    </tr>\n",
       "    <tr>\n",
       "      <th>452</th>\n",
       "      <td>WI- NEENAH</td>\n",
       "      <td>0</td>\n",
       "      <td>7</td>\n",
       "      <td>4</td>\n",
       "      <td>6</td>\n",
       "      <td>Neenah</td>\n",
       "      <td>MULTIPOLYGON (((-88.88595 43.63361, -88.80601 ...</td>\n",
       "    </tr>\n",
       "    <tr>\n",
       "      <th>456</th>\n",
       "      <td>WI- WAUSAU</td>\n",
       "      <td>0</td>\n",
       "      <td>3</td>\n",
       "      <td>2</td>\n",
       "      <td>1</td>\n",
       "      <td>Wausau</td>\n",
       "      <td>POLYGON ((-89.30141 45.46939, -89.17856 45.468...</td>\n",
       "    </tr>\n",
       "    <tr>\n",
       "      <th>457</th>\n",
       "      <td>WY- CASPER</td>\n",
       "      <td>0</td>\n",
       "      <td>8</td>\n",
       "      <td>6</td>\n",
       "      <td>6</td>\n",
       "      <td>Casper</td>\n",
       "      <td>POLYGON ((-107.59447 43.50144, -107.59452 43.6...</td>\n",
       "    </tr>\n",
       "    <tr>\n",
       "      <th>10</th>\n",
       "      <td>AK- ANCHORAGE</td>\n",
       "      <td>0</td>\n",
       "      <td>3</td>\n",
       "      <td>2</td>\n",
       "      <td>1</td>\n",
       "      <td>Anchorage</td>\n",
       "      <td>MULTIPOLYGON (((-168.13118 65.63704, -168.1150...</td>\n",
       "    </tr>\n",
       "    <tr>\n",
       "      <th>150</th>\n",
       "      <td>HI- HONOLULU</td>\n",
       "      <td>0</td>\n",
       "      <td>7</td>\n",
       "      <td>4</td>\n",
       "      <td>6</td>\n",
       "      <td>Honolulu</td>\n",
       "      <td>MULTIPOLYGON (((-156.06417 19.73019, -156.0635...</td>\n",
       "    </tr>\n",
       "  </tbody>\n",
       "</table>\n",
       "<p>306 rows × 7 columns</p>\n",
       "</div>"
      ],
      "text/plain": [
       "                   hrrcity  stf3bpop  color  color8a  color8b         HRR_lbl  \\\n",
       "hrrnum                                                                          \n",
       "223          MD- BALTIMORE         0      1        6        1       Baltimore   \n",
       "246            MI- SAGINAW         0      1        6        8         Saginaw   \n",
       "222           ME- PORTLAND         0     11        7        6        Portland   \n",
       "430            VA- NORFOLK         0      8        2        4         Norfolk   \n",
       "390     TX- CORPUS CHRISTI         0      5        6        1  Corpus Christi   \n",
       "...                    ...       ...    ...      ...      ...             ...   \n",
       "452             WI- NEENAH         0      7        4        6          Neenah   \n",
       "456             WI- WAUSAU         0      3        2        1          Wausau   \n",
       "457             WY- CASPER         0      8        6        6          Casper   \n",
       "10           AK- ANCHORAGE         0      3        2        1       Anchorage   \n",
       "150           HI- HONOLULU         0      7        4        6        Honolulu   \n",
       "\n",
       "                                                 geometry  \n",
       "hrrnum                                                     \n",
       "223     MULTIPOLYGON (((-76.32600 39.38930, -76.32980 ...  \n",
       "246     POLYGON ((-83.32465 44.41502, -83.31848 44.406...  \n",
       "222     MULTIPOLYGON (((-69.20267 44.34721, -69.19604 ...  \n",
       "430     MULTIPOLYGON (((-75.97330 36.84480, -75.97000 ...  \n",
       "390     MULTIPOLYGON (((-96.82474 28.20308, -96.83301 ...  \n",
       "...                                                   ...  \n",
       "452     MULTIPOLYGON (((-88.88595 43.63361, -88.80601 ...  \n",
       "456     POLYGON ((-89.30141 45.46939, -89.17856 45.468...  \n",
       "457     POLYGON ((-107.59447 43.50144, -107.59452 43.6...  \n",
       "10      MULTIPOLYGON (((-168.13118 65.63704, -168.1150...  \n",
       "150     MULTIPOLYGON (((-156.06417 19.73019, -156.0635...  \n",
       "\n",
       "[306 rows x 7 columns]"
      ]
     },
     "execution_count": 277,
     "metadata": {},
     "output_type": "execute_result"
    }
   ],
   "source": [
    "hrr"
   ]
  },
  {
   "cell_type": "code",
   "execution_count": 278,
   "id": "c5ec10e6",
   "metadata": {},
   "outputs": [
    {
     "data": {
      "text/html": [
       "<div>\n",
       "<style scoped>\n",
       "    .dataframe tbody tr th:only-of-type {\n",
       "        vertical-align: middle;\n",
       "    }\n",
       "\n",
       "    .dataframe tbody tr th {\n",
       "        vertical-align: top;\n",
       "    }\n",
       "\n",
       "    .dataframe thead th {\n",
       "        text-align: right;\n",
       "    }\n",
       "</style>\n",
       "<table border=\"1\" class=\"dataframe\">\n",
       "  <thead>\n",
       "    <tr style=\"text-align: right;\">\n",
       "      <th></th>\n",
       "      <th>hrrcity</th>\n",
       "      <th>stf3bpop</th>\n",
       "      <th>color</th>\n",
       "      <th>color8a</th>\n",
       "      <th>color8b</th>\n",
       "      <th>HRR_lbl</th>\n",
       "      <th>geometry</th>\n",
       "    </tr>\n",
       "    <tr>\n",
       "      <th>hrrnum</th>\n",
       "      <th></th>\n",
       "      <th></th>\n",
       "      <th></th>\n",
       "      <th></th>\n",
       "      <th></th>\n",
       "      <th></th>\n",
       "      <th></th>\n",
       "    </tr>\n",
       "  </thead>\n",
       "  <tbody>\n",
       "    <tr>\n",
       "      <th>12</th>\n",
       "      <td>AZ- PHOENIX</td>\n",
       "      <td>0</td>\n",
       "      <td>8</td>\n",
       "      <td>3</td>\n",
       "      <td>6</td>\n",
       "      <td>Phoenix</td>\n",
       "      <td>MULTIPOLYGON (((-111.51510 33.01583, -111.5159...</td>\n",
       "    </tr>\n",
       "  </tbody>\n",
       "</table>\n",
       "</div>"
      ],
      "text/plain": [
       "            hrrcity  stf3bpop  color  color8a  color8b  HRR_lbl  \\\n",
       "hrrnum                                                            \n",
       "12      AZ- PHOENIX         0      8        3        6  Phoenix   \n",
       "\n",
       "                                                 geometry  \n",
       "hrrnum                                                     \n",
       "12      MULTIPOLYGON (((-111.51510 33.01583, -111.5159...  "
      ]
     },
     "execution_count": 278,
     "metadata": {},
     "output_type": "execute_result"
    }
   ],
   "source": [
    "hrr[hrr.HRR_lbl == \"Phoenix\"]"
   ]
  },
  {
   "cell_type": "code",
   "execution_count": 279,
   "id": "5cb57bf6",
   "metadata": {},
   "outputs": [
    {
     "data": {
      "application/vnd.jupyter.widget-view+json": {
       "model_id": "1df565576ad243e9bf89c6bc91d2aeeb",
       "version_major": 2,
       "version_minor": 0
      },
      "text/plain": [
       "  0%|          | 0/306 [00:00<?, ?it/s]"
      ]
     },
     "metadata": {},
     "output_type": "display_data"
    }
   ],
   "source": [
    "for i in tqdm.tqdm(hrr.index):\n",
    "    geo = hsa_hrr.loc[i].geometry\n",
    "    geo = fix(geo)\n",
    "    hgeo = fix(hrr.loc[i].geometry)\n",
    "    iou = (\n",
    "        shapely.intersection(hgeo, geo).area\n",
    "        / shapely.union(hgeo, geo).area\n",
    "    )\n",
    "    if i in [22, 315, 127, 191, 193, 223, 10, 150]:\n",
    "        continue\n",
    "    assert iou > 0.995, i\n",
    "    assert np.abs(np.array(geo.bounds) -hgeo.bounds).mean() < 0.0001, i"
   ]
  },
  {
   "cell_type": "code",
   "execution_count": 280,
   "id": "84d06a50",
   "metadata": {},
   "outputs": [
    {
     "ename": "SyntaxError",
     "evalue": "invalid syntax (<ipython-input-280-561f6e98799e>, line 1)",
     "output_type": "error",
     "traceback": [
      "\u001b[0;36m  File \u001b[0;32m\"<ipython-input-280-561f6e98799e>\"\u001b[0;36m, line \u001b[0;32m1\u001b[0m\n\u001b[0;31m    hrr.\u001b[0m\n\u001b[0m        ^\u001b[0m\n\u001b[0;31mSyntaxError\u001b[0m\u001b[0;31m:\u001b[0m invalid syntax\n"
     ]
    }
   ],
   "source": [
    "hrr."
   ]
  },
  {
   "cell_type": "code",
   "execution_count": 270,
   "id": "c9a7550e",
   "metadata": {},
   "outputs": [
    {
     "data": {
      "text/plain": [
       "hrrcity                                            NJ- CAMDEN\n",
       "stf3bpop                                                    0\n",
       "color                                                       7\n",
       "color8a                                                     1\n",
       "color8b                                                     6\n",
       "HRR_lbl                                                Camden\n",
       "geometry    MULTIPOLYGON (((-74.91506 39.17772, -74.90251 ...\n",
       "Name: 283, dtype: object"
      ]
     },
     "execution_count": 270,
     "metadata": {},
     "output_type": "execute_result"
    }
   ],
   "source": [
    "hrr.loc[283]"
   ]
  },
  {
   "cell_type": "code",
   "execution_count": 258,
   "id": "780d29cd",
   "metadata": {},
   "outputs": [
    {
     "data": {
      "image/svg+xml": [
       "<svg xmlns=\"http://www.w3.org/2000/svg\" xmlns:xlink=\"http://www.w3.org/1999/xlink\" width=\"100.0\" height=\"100.0\" viewBox=\"-115.9417952 31.773304800000002 7.161620400000004 5.496200400000003\" preserveAspectRatio=\"xMinYMin meet\"><g transform=\"matrix(1,0,0,-1,0,69.04281)\"><g><path fill-rule=\"evenodd\" fill=\"#66cc99\" stroke=\"#555555\" stroke-width=\"0.1432324080000001\" opacity=\"0.6\" d=\"M -111.5151,33.01583 L -111.51156,33.01817 L -111.5079,33.01535 L -111.50806,33.01324 L -111.49874,33.0159 L -111.49208,33.01343 L -111.48618,33.01723 L -111.48101,33.01687 L -111.47778,33.01847 L -111.47584,33.01588 L -111.47252,33.01567 L -111.47171,32.94452 L -111.44361,32.94419 L -111.44514,32.93671 L -111.45092,32.92934 L -111.4523,32.91162 L -111.45803,32.89806 L -111.45602,32.87323 L -111.45607,32.85937 L -111.45767,32.85401 L -111.45498,32.84927 L -111.45753,32.84008 L -111.46084,32.83861 L -111.46258,32.83559 L -111.47362,32.83584 L -111.48149,32.8398 L -111.49499,32.84323 L -111.50222,32.84735 L -111.51172,32.84891 L -111.51451,32.85115 L -111.51515,32.72254 L -111.48002,32.70359 L -111.41044,32.66038 L -111.38239,32.6409 L -111.36825,32.62813 L -111.30178,32.54846 L -111.27094,32.51185 L -111.26576,32.50129 L -111.56858,32.50132 L -111.56858,32.5067 L -111.79185,32.50671 L -111.79388,32.5067 L -112.20302,32.5067 L -112.20281,32.68071 L -112.20304,32.94169 L -112.20126,33.08697 L -112.20146,33.24682 L -112.30548,33.24688 L -112.30633,33.36267 L -112.34103,33.36249 L -112.34466,33.35742 L -112.34362,33.36248 L -112.34501,33.36247 L -112.34541,33.37132 L -112.34778,33.3713 L -112.34867,33.37396 L -112.34972,33.3688 L -112.34836,33.36878 L -112.3482,33.36264 L -112.36533,33.36262 L -112.36561,33.38571 L -112.3916,33.3877 L -112.39171,33.3773 L -112.41738,33.37734 L -112.41744,33.37344 L -112.42646,33.37325 L -112.42656,33.36957 L -112.43158,33.36954 L -112.43565,33.36571 L -112.43571,33.36224 L -112.43968,33.36222 L -112.45608,33.3484 L -112.47798,33.34832 L -112.47757,33.35378 L -112.4793,33.35384 L -112.48378,33.35195 L -112.48819,33.3536 L -112.49387,33.35245 L -112.50273,33.35366 L -112.51332,33.36077 L -112.51657,33.36089 L -112.52915,33.35413 L -112.53134,33.34827 L -112.53535,33.34463 L -112.54648,33.343 L -112.55666,33.34447 L -112.57544,33.34328 L -112.58335,33.346 L -112.58859,33.3454 L -112.59909,33.34098 L -112.60741,33.34054 L -112.61596,33.3407 L -112.62005,33.33857 L -112.62207,33.33641 L -112.62217,33.3335 L -112.63531,33.32414 L -112.65086,33.33152 L -112.65844,33.33242 L -112.66265,33.33036 L -112.66573,33.32433 L -112.66977,33.32184 L -112.68499,33.3184 L -112.69005,33.31914 L -112.70242,33.31785 L -112.70886,33.31183 L -112.72124,33.30992 L -112.725,33.30754 L -112.73068,33.30834 L -112.73843,33.31195 L -112.75514,33.31154 L -112.76944,33.2968 L -112.76887,33.29371 L -112.76486,33.29068 L -112.76505,33.28873 L -112.76715,33.28434 L -112.77324,33.27886 L -112.77375,33.27671 L -112.77084,33.27099 L -112.76283,33.26395 L -112.76747,33.25094 L -112.76803,33.23187 L -112.7674,33.22936 L -112.76593,33.22945 L -112.76631,33.22452 L -112.76855,33.22079 L -112.7676,33.21754 L -112.75529,33.20468 L -112.72558,33.19152 L -112.71708,33.17901 L -112.70852,33.17056 L -112.70046,33.15215 L -112.7006,33.14537 L -112.70236,33.14182 L -112.70116,33.13037 L -112.69844,33.12792 L -112.6957,33.12118 L -112.69534,33.11165 L -112.69025,33.0963 L -112.6902,33.09145 L -112.68696,33.08822 L -112.68192,33.07715 L -112.68241,33.07127 L -112.68708,33.06423 L -112.68744,33.06115 L -112.68701,33.05711 L -112.68195,33.05214 L -112.68247,33.04635 L -112.68065,33.04158 L -112.68163,33.03835 L -112.69655,33.00915 L -112.70373,33.00436 L -112.71675,33.002 L -112.71745,32.98499 L -112.71345,32.97086 L -112.68606,32.97075 L -112.6822,32.96951 L -112.68243,32.9562 L -112.69046,32.95297 L -112.68514,32.94995 L -112.67941,32.94366 L -112.6721,32.94187 L -112.67221,32.93392 L -112.65765,32.92976 L -112.65763,32.9269 L -112.68974,32.92749 L -112.68976,32.92942 L -112.72143,32.93666 L -112.72753,32.92713 L -112.74496,32.92711 L -112.74937,32.93246 L -112.75187,32.93205 L -112.75524,32.93874 L -112.755,32.94449 L -112.76159,32.95427 L -112.75694,32.97083 L -112.76031,32.97083 L -112.76036,32.97445 L -112.76892,32.97466 L -112.7691,32.9777 L -112.77675,32.97781 L -112.78277,32.98971 L -112.78559,32.99218 L -112.78652,32.98522 L -112.81248,32.98509 L -112.81267,33.0 L -112.82166,33.0 L -112.82115,33.02235 L -112.83518,33.03052 L -112.83629,33.03329 L -112.84638,33.04126 L -112.85468,33.04503 L -112.87426,33.04553 L -112.88649,33.03857 L -112.91001,33.03771 L -112.91496,33.04364 L -112.93092,33.04513 L -112.94631,33.05335 L -112.9585,33.05722 L -112.96641,33.05761 L -112.97476,33.05335 L -112.98011,33.05257 L -112.99347,33.054 L -113.0,33.05707 L -113.02435,33.08606 L -113.03339,33.09174 L -113.04193,33.09302 L -113.0471,33.09185 L -113.05146,33.08569 L -113.05246,33.06836 L -113.05358,33.06531 L -113.05788,33.0619 L -113.06022,33.0551 L -113.06571,33.04981 L -113.082,33.05001 L -113.0972,33.04666 L -113.10195,33.04373 L -113.10543,33.03993 L -113.10882,33.02328 L -113.11865,33.01162 L -113.13512,33.01285 L -113.14126,33.01032 L -113.14957,33.00388 L -113.15684,33.0027 L -113.16105,33.00728 L -113.16774,33.00973 L -113.1722,33.00635 L -113.17073,33.0 L -113.17253,32.99898 L -113.19056,33.01177 L -113.19755,33.01418 L -113.2026,33.01388 L -113.22784,33.00349 L -113.24109,33.00066 L -113.23916,33.0 L -113.24036,32.99918 L -113.25778,32.99844 L -113.26376,32.99464 L -113.26816,32.98361 L -113.27243,32.98114 L -113.28112,32.9793 L -113.28963,32.96646 L -113.29476,32.96676 L -113.30172,32.96321 L -113.30976,32.96238 L -113.31685,32.96632 L -113.32087,32.96206 L -113.3269,32.96158 L -113.33304,32.95822 L -113.33297,32.7678 L -113.33316,32.50488 L -113.33303,32.03855 L -113.7841,32.17984 L -114.25,32.32385 L -114.563,32.4188 L -114.81282,32.49422 L -114.8132,32.49718 L -114.81152,32.5 L -114.8158,32.50764 L -114.81353,32.50897 L -114.80693,32.50867 L -114.80329,32.51032 L -114.80142,32.51314 L -114.80288,32.51632 L -114.80888,32.51751 L -114.80969,32.5217 L -114.81256,32.52413 L -114.80139,32.53636 L -114.80123,32.53941 L -114.80399,32.54161 L -114.80504,32.5463 L -114.79298,32.55228 L -114.79076,32.55697 L -114.79243,32.56941 L -114.79687,32.56439 L -114.80604,32.55883 L -114.80953,32.55858 L -114.8132,32.56215 L -114.8122,32.56865 L -114.80363,32.57289 L -114.80109,32.57596 L -114.80068,32.5782 L -114.8032,32.5826 L -114.79965,32.58803 L -114.79895,32.59213 L -114.80076,32.59854 L -114.80711,32.60273 L -114.8086,32.61707 L -114.8066,32.62128 L -114.79851,32.62507 L -114.79039,32.62178 L -114.78117,32.62556 L -114.78188,32.62858 L -114.78049,32.63141 L -114.76359,32.64262 L -114.76252,32.64457 L -114.76416,32.64934 L -114.74991,32.66021 L -114.74611,32.66897 L -114.74356,32.67887 L -114.72966,32.69879 L -114.7293,32.70425 L -114.71885,32.71872 L -114.7292,32.7179 L -115.1875,32.68654 L -115.18563,32.68729 L -115.18841,32.69432 L -115.21701,32.69433 L -115.21736,32.70911 L -115.22056,32.70911 L -115.22041,32.75228 L -115.2708,32.76673 L -115.27695,32.78452 L -115.2789,32.80646 L -115.28724,32.8353 L -115.29063,32.85489 L -115.29222,32.89495 L -115.29224,32.90195 L -115.2857,32.90336 L -115.2791,32.9078 L -115.2683,32.90736 L -115.25,32.91286 L -115.24328,32.9182 L -115.23532,32.92184 L -115.22876,32.94049 L -115.22801,32.95586 L -115.23105,32.96193 L -115.23163,32.97061 L -115.19209,32.96972 L -115.18528,32.97296 L -115.2504,33.04722 L -115.27197,33.07499 L -115.29117,33.09213 L -115.30888,33.10287 L -115.33357,33.13373 L -115.3397,33.13996 L -115.34077,33.13951 L -115.38085,33.18162 L -115.38446,33.1887 L -115.39568,33.19827 L -115.40233,33.20114 L -115.40481,33.20545 L -115.41042,33.20898 L -115.41349,33.22045 L -115.42074,33.22361 L -115.42338,33.23117 L -115.4281,33.23337 L -115.44876,33.25468 L -115.46548,33.26691 L -115.4819,33.28241 L -115.48882,33.28415 L -115.49426,33.2921 L -115.50645,33.29977 L -115.50961,33.30643 L -115.52796,33.31819 L -115.56275,33.3458 L -115.56534,33.35027 L -115.57877,33.36147 L -115.58586,33.36518 L -115.59326,33.36717 L -115.60667,33.37401 L -115.61828,33.37607 L -115.63426,33.38306 L -115.64791,33.39346 L -115.66923,33.41704 L -115.67155,33.42288 L -115.67655,33.42732 L -115.48142,33.4269 L -115.46669,33.42696 L -115.46669,33.42837 L -115.125,33.42902 L -115.06239,33.42808 L -114.83004,33.43007 L -114.83007,33.43368 L -114.75342,33.43372 L -114.75113,33.44012 L -114.74687,33.43999 L -114.74585,33.44306 L -114.747,33.45367 L -114.75174,33.46297 L -114.75227,33.47204 L -114.75093,33.48098 L -114.74262,33.49012 L -114.74472,33.4942 L -114.74408,33.49644 L -114.74618,33.4981 L -114.74457,33.50294 L -114.74657,33.50623 L -114.74131,33.50634 L -114.73186,33.52232 L -114.73149,33.53896 L -114.72778,33.54373 L -114.71872,33.55008 L -114.71903,33.55425 L -114.71521,33.56641 L -114.70677,33.57866 L -114.68096,33.58866 L -114.68039,33.58992 L -114.68251,33.59146 L -114.67139,33.60221 L -114.6661,33.61438 L -114.66894,33.6281 L -114.66356,33.63236 L -114.66462,33.63671 L -114.6594,33.63411 L -114.65607,33.63679 L -114.64342,33.63859 L -114.67442,33.65784 L -114.68184,33.67206 L -114.6738,33.67045 L -114.65316,33.65638 L -114.64507,33.66355 L -114.63585,33.66794 L -114.6248,33.66589 L -114.62704,33.67625 L -114.62602,33.67993 L -114.62266,33.6836 L -114.6141,33.68523 L -114.60828,33.68778 L -114.60607,33.69087 L -114.60332,33.69028 L -114.60051,33.6944 L -114.5775,33.70234 L -114.56379,33.70315 L -114.54708,33.71139 L -114.5322,33.71222 L -114.51806,33.7229 L -114.51606,33.72599 L -114.51471,33.73442 L -114.51118,33.735 L -114.5037,33.75098 L -114.50408,33.76045 L -114.51595,33.78833 L -114.51815,33.79728 L -114.52726,33.81494 L -114.52193,33.81896 L -114.51918,33.82536 L -114.52881,33.84804 L -114.52982,33.85542 L -114.52909,33.85754 L -114.52488,33.85998 L -114.51484,33.85825 L -114.50585,33.86347 L -114.50232,33.86715 L -114.50261,33.875 L -114.52198,33.89257 L -114.52496,33.89938 L -114.5249,33.90141 L -114.5235,33.90157 L -114.51555,33.8979 L -114.51159,33.89837 L -114.5072,33.9018 L -114.50777,33.90608 L -114.5116,33.91206 L -114.52025,33.9195 L -114.53416,33.92568 L -114.53469,33.93463 L -114.52789,33.9478 L -114.52121,33.95561 L -114.51507,33.95809 L -114.50878,33.95725 L -114.49909,33.96177 L -114.484,33.9755 L -114.48067,33.98124 L -114.47035,33.98802 L -114.46714,33.99286 L -114.45847,33.99469 L -114.45724,33.99714 L -114.4584,34.0 L -114.46652,34.00517 L -114.46508,34.01097 L -114.46255,34.01224 L -114.45402,34.01095 L -114.44942,34.01256 L -114.44303,34.01616 L -114.43748,34.02259 L -114.43416,34.03777 L -114.43855,34.05788 L -114.43464,34.07971 L -114.43511,34.07971 L -114.43367,34.08921 L -114.43114,34.09173 L -114.43172,34.09624 L -114.43552,34.10253 L -114.43863,34.10457 L -114.44044,34.11185 L -114.44424,34.11581 L -114.44556,34.12325 L -114.44312,34.12816 L -114.44449,34.13109 L -114.45162,34.1345 L -114.45911,34.14139 L -114.4584,34.14665 L -114.4622,34.15109 L -114.4651,34.17225 L -114.4684,34.17801 L -114.46852,34.18905 L -114.47155,34.19729 L -114.47075,34.20299 L -114.47379,34.20743 L -114.46955,34.21295 L -114.46913,34.21741 L -114.47164,34.22339 L -114.47104,34.23071 L -114.47529,34.23733 L -114.47565,34.24136 L -114.47196,34.2537 L -114.46561,34.25782 L -114.45981,34.26449 L -114.45176,34.26831 L -114.44867,34.27236 L -114.45005,34.27813 L -114.44638,34.28122 L -114.44691,34.2853 L -114.44442,34.29056 L -114.44205,34.29233 L -114.43554,34.29269 L -114.43455,34.29764 L -114.39778,34.31402 L -114.38663,34.31088 L -114.37813,34.31662 L -114.37429,34.31587 L -114.36969,34.32047 L -114.36781,34.32043 L -114.36445,34.31841 L -114.36348,34.3194 L -114.36056,34.31748 L -114.35548,34.31743 L -114.3512,34.31464 L -114.35151,34.31183 L -114.34271,34.31212 L -114.34075,34.30913 L -114.33884,34.31279 L -114.337,34.31187 L -114.33264,34.31382 L -114.33134,34.3127 L -114.3301,34.3173 L -114.32442,34.31698 L -114.32326,34.31535 L -114.32009,34.31748 L -114.31253,34.31787 L -114.30891,34.32355 L -114.30519,34.32469 L -114.30066,34.32975 L -114.29316,34.33263 L -114.28888,34.33794 L -114.28579,34.33923 L -114.28206,34.35248 L -114.27872,34.35811 L -114.27924,34.36765 L -114.27194,34.37457 L -114.27452,34.38372 L -114.25033,34.3839 L -114.24787,34.3881 L -114.25446,34.39218 L -114.26353,34.40132 L -114.27932,34.40313 L -114.28788,34.40661 L -114.29097,34.41109 L -114.29144,34.41759 L -114.29405,34.42138 L -114.30023,34.4268 L -114.31146,34.43271 L -114.32534,34.43724 L -114.32988,34.44528 L -114.33458,34.45003 L -114.34183,34.45143 L -114.37293,34.44693 L -114.38591,34.4579 L -114.3864,34.46201 L -114.38091,34.47603 L -114.38157,34.49575 L -114.37733,34.50728 L -114.37743,34.51651 L -114.38005,34.52971 L -114.40444,34.56963 L -114.42159,34.5807 L -114.43488,34.59383 L -114.43557,34.59679 L -114.42455,34.60083 L -114.42341,34.61044 L -114.43795,34.62145 L -114.44061,34.63016 L -114.4395,34.63823 L -114.44067,34.64252 L -114.44876,34.65142 L -114.45719,34.65711 L -114.45691,34.65932 L -114.45099,34.66388 L -114.44971,34.66683 L -114.45351,34.67123 L -114.45474,34.67733 L -114.46445,34.6912 L -114.46968,34.71136 L -114.47289,34.71396 L -114.48199,34.7145 L -114.4869,34.71703 L -114.38535,34.7272 L -114.26983,34.73177 L -114.25386,34.73559 L -114.22996,34.74709 L -114.22382,34.74627 L -114.21475,34.74764 L -114.19751,34.74565 L -114.17228,34.75507 L -114.1651,34.75086 L -114.15254,34.75678 L -114.14408,34.75836 L -114.14025,34.76454 L -114.13958,34.77012 L -114.12548,34.76886 L -114.12505,34.77235 L -114.102,34.77356 L -114.05279,34.79272 L -114.04583,34.79306 L -114.03512,34.79681 L -114.02547,34.79681 L -114.01762,34.7999 L -114.01118,34.80033 L -114.00549,34.79868 L -113.98929,34.79941 L -113.98624,34.79809 L -113.96713,34.79862 L -113.95415,34.80274 L -113.94956,34.80588 L -113.94943,34.8208 L -113.94516,34.82558 L -113.94491,34.8279 L -113.91497,34.82034 L -113.90825,34.82233 L -113.90545,34.82105 L -113.89615,34.83043 L -113.89263,34.82855 L -113.89093,34.82965 L -113.89188,34.82672 L -113.88655,34.824 L -113.88413,34.8256 L -113.87731,34.82502 L -113.874,34.8217 L -113.87543,34.82017 L -113.87413,34.81882 L -113.87593,34.818 L -113.87363,34.8182 L -113.87183,34.82115 L -113.86905,34.81722 L -113.86151,34.81605 L -113.85803,34.81251 L -113.85565,34.81223 L -113.8519,34.81498 L -113.8496,34.81349 L -113.83567,34.81345 L -113.83115,34.81197 L -113.82468,34.80689 L -113.82504,34.80311 L -113.82249,34.80505 L -113.82091,34.80407 L -113.82019,34.80602 L -113.8191,34.80508 L -113.81736,34.80908 L -113.81464,34.8046 L -113.80984,34.80412 L -113.8039,34.80098 L -113.80118,34.79796 L -113.80237,34.79075 L -113.79916,34.7883 L -113.79877,34.79146 L -113.7956,34.79011 L -113.79303,34.78127 L -113.78315,34.77214 L -113.7785,34.76997 L -113.76227,34.77543 L -113.75347,34.77643 L -113.74833,34.77473 L -113.74073,34.77611 L -113.72824,34.77001 L -113.71762,34.76987 L -113.71704,34.7674 L -113.7139,34.76779 L -113.70616,34.76259 L -113.69158,34.76198 L -113.68328,34.76344 L -113.67421,34.76232 L -113.65419,34.75472 L -113.65001,34.75517 L -113.63986,34.7505 L -113.62922,34.74848 L -113.62087,34.75272 L -113.62301,34.7544 L -113.66438,34.91399 L -113.67132,34.95621 L -113.68789,34.96013 L -113.69932,34.96539 L -113.71133,34.96697 L -113.71358,34.9688 L -113.72164,34.96878 L -113.72776,34.97289 L -113.73891,34.97639 L -113.74795,34.97833 L -113.76535,34.979 L -113.77966,34.98466 L -113.7835,34.98837 L -113.78842,34.9902 L -113.79345,35.001 L -113.79803,35.00603 L -113.7984,35.01063 L -113.80009,35.01153 L -113.80118,35.01587 L -113.80365,35.01603 L -113.80997,35.02125 L -113.81442,35.02121 L -113.81628,35.01514 L -113.81937,35.01473 L -113.82783,35.01681 L -113.83072,35.01599 L -113.85406,35.01884 L -113.86438,35.0152 L -113.86808,35.01669 L -113.8754,35.01534 L -113.87681,35.01353 L -113.86985,35.00973 L -113.8728,35.00311 L -113.87795,35.0046 L -113.88037,35.0031 L -113.89244,35.00717 L -113.89589,35.00667 L -113.89712,35.00139 L -113.90789,35.00353 L -113.91589,35.00327 L -113.92133,35.00598 L -113.92712,35.00533 L -113.92732,35.00828 L -113.9343,35.00858 L -113.93488,35.01162 L -113.94006,35.01583 L -113.95085,35.01901 L -113.96961,35.03704 L -113.99367,35.04188 L -113.98772,35.04518 L -113.98692,35.04708 L -113.98904,35.05612 L -113.98687,35.05978 L -113.9918,35.0633 L -113.99186,35.06676 L -113.99467,35.06797 L -113.99011,35.08017 L -113.99315,35.08637 L -113.9978,35.09026 L -113.99391,35.09445 L -113.995,35.09914 L -114.00129,35.10497 L -114.00363,35.10502 L -114.009,35.10903 L -114.01474,35.10254 L -114.03179,35.08922 L -114.04847,35.08341 L -114.05685,35.07524 L -114.0694,35.06929 L -114.10163,35.06366 L -114.12407,35.06702 L -114.12685,35.05236 L -114.13176,35.05184 L -114.14281,35.04564 L -114.15356,35.04272 L -114.1558,35.032 L -114.16202,35.02633 L -114.16892,35.02507 L -114.17454,35.01851 L -114.18097,35.01537 L -114.18177,35.01062 L -114.19193,35.01066 L -114.19193,35.01327 L -114.19504,35.01253 L -114.1971,35.00791 L -114.20441,35.004 L -114.20791,34.99819 L -114.21251,35.00516 L -114.21187,35.00827 L -114.21462,35.01416 L -114.21621,35.0256 L -114.26058,35.02854 L -114.26676,35.03104 L -114.27808,35.02919 L -114.29879,35.02885 L -114.3029,35.02731 L -114.31147,35.02912 L -114.31183,35.03533 L -114.31506,35.04274 L -114.30774,35.04851 L -114.30693,35.05027 L -114.30909,35.05546 L -114.32848,35.07334 L -114.33167,35.0809 L -114.34128,35.09121 L -114.34434,35.10144 L -114.35423,35.11141 L -114.35478,35.11729 L -114.36455,35.129 L -114.37681,35.12678 L -114.38172,35.13456 L -114.38022,35.13905 L -114.38197,35.1434 L -114.3783,35.15494 L -114.3798,35.16156 L -114.38843,35.17189 L -114.39413,35.17239 L -114.40412,35.16864 L -114.42244,35.17804 L -114.42375,35.18152 L -114.44134,35.18394 L -114.44326,35.18614 L -114.49594,35.1846 L -114.51691,35.19087 L -114.5482,35.18768 L -114.55823,35.19679 L -114.57118,35.19952 L -114.57404,35.2059 L -114.57916,35.20964 L -114.57979,35.21921 L -114.58276,35.22993 L -114.58231,35.23809 L -114.58584,35.25 L -114.58633,35.26238 L -114.591,35.27674 L -114.5967,35.29696 L -114.59513,35.32524 L -114.60351,35.35359 L -114.61717,35.37967 L -114.62087,35.39721 L -114.62634,35.40951 L -114.6512,35.42917 L -114.65619,35.43986 L -114.66132,35.44425 L -114.6637,35.4495 L -114.66364,35.4542 L -114.66688,35.46041 L -114.66557,35.46686 L -114.67205,35.47329 L -114.67268,35.48379 L -114.67684,35.48975 L -114.67617,35.49214 L -114.6784,35.5003 L -114.6764,35.5135 L -114.6688,35.5209 L -114.6634,35.5219 L -114.6572,35.5305 L -114.6561,35.5344 L -114.6612,35.5455 L -114.6604,35.5489 L -114.6626,35.5647 L -114.6669,35.574 L -114.6747,35.58 L -114.6698,35.5837 L -114.6588,35.5875 L -114.6535,35.5976 L -114.6526,35.6108 L -114.6574,35.6191 L -114.6646,35.6219 L -114.6763,35.6415 L -114.6886,35.65142 L -114.6892,35.6647 L -114.6814,35.6782 L -114.6798,35.6855 L -114.6824,35.6894 L -114.6933,35.6952 L -114.7004,35.7012 L -114.7046,35.7083 L -114.6967,35.7328 L -114.6955,35.7455 L -114.6972,35.7513 L -114.6959,35.7554 L -114.6936,35.7569 L -114.7006,35.7691 L -114.6981,35.7902 L -114.7113,35.8062 L -114.7091,35.8102 L -114.7029,35.8146 L -114.695,35.8296 L -114.6956,35.8338 L -114.7042,35.8449 L -114.7038,35.8517 L -114.6938,35.8541 L -114.6881,35.8604 L -114.6704,35.8653 L -114.6616,35.8696 L -114.6609,35.8714 L -114.6627,35.8743 L -114.67097,35.87741 L -114.67782,35.88514 L -114.69946,35.90179 L -114.7077,35.91233 L -114.70671,35.92808 L -114.71488,35.93473 L -114.72854,35.94143 L -114.73035,35.94393 L -114.7275,35.95631 L -114.72913,35.9622 L -114.73978,35.97568 L -114.74276,35.98374 L -114.74239,35.9876 L -114.73906,35.99273 L -114.74222,36.00867 L -114.73796,36.01508 L -114.72329,36.02671 L -114.72105,36.03142 L -114.73302,36.03812 L -114.74307,36.04024 L -114.74276,36.04458 L -114.73952,36.04983 L -114.73504,36.05344 L -114.73465,36.0567 L -114.73947,36.0625 L -114.74253,36.07056 L -114.75423,36.08072 L -114.75507,36.08586 L -114.75282,36.09073 L -114.74626,36.09703 L -114.73535,36.10439 L -114.70264,36.10903 L -114.69303,36.11319 L -114.68098,36.10986 L -114.67208,36.11637 L -114.6646,36.11673 L -114.65914,36.12417 L -114.64484,36.13295 L -114.63637,36.13607 L -114.6309,36.14233 L -114.62704,36.14103 L -114.62107,36.13215 L -114.61588,36.13012 L -114.59978,36.13948 L -114.5964,36.14212 L -114.58126,36.14627 L -114.57122,36.15163 L -114.53917,36.1522 L -114.53173,36.1482 L -114.51245,36.15124 L -114.50409,36.14721 L -114.5009,36.1434 L -114.50079,36.14121 L -114.50645,36.13821 L -114.50965,36.13371 L -114.50915,36.13002 L -114.50708,36.12816 L -114.5,36.12697 L -114.48742,36.12908 L -114.46934,36.13882 L -114.46283,36.13971 L -114.45756,36.13861 L -114.45252,36.13074 L -114.4458,36.12599 L -114.42636,36.13632 L -114.41614,36.14578 L -114.41157,36.14727 L -114.40016,36.14659 L -114.38201,36.14168 L -114.376,36.14413 L -114.3713,36.14313 L -114.36231,36.13026 L -114.34515,36.11834 L -114.33647,36.10804 L -114.32797,36.10552 L -114.32197,36.09652 L -114.30763,36.08246 L -114.30494,36.0749 L -114.30708,36.07131 L -114.3134,36.06664 L -114.31531,36.06313 L -114.31476,36.05951 L -114.30999,36.05728 L -114.29749,36.05691 L -114.29074,36.05034 L -114.2794,36.04638 L -114.27236,36.04642 L -114.27036,36.04395 L -114.26985,36.03574 L -114.26235,36.02595 L -114.24425,36.01653 L -114.23553,36.01433 L -114.21289,36.01563 L -114.19158,36.02101 L -114.17603,36.02767 L -114.16567,36.02775 L -114.15333,36.02388 L -114.1496,36.02558 L -114.14706,36.0292 L -114.14742,36.03353 L -114.13741,36.0413 L -114.1361,36.05948 L -114.125,36.07755 L -114.1211,36.08682 L -114.11345,36.09608 L -114.11666,36.10091 L -114.12243,36.10476 L -114.12235,36.11159 L -114.12007,36.11461 L -114.11022,36.11989 L -114.09908,36.12167 L -114.09138,36.14005 L -114.08517,36.14723 L -114.06723,36.18068 L -114.05951,36.18938 L -114.04604,36.19408 L -114.03062,36.18869 L -114.02519,36.18944 L -114.01434,36.19568 L -114.00862,36.197 L -114.00072,36.19335 L -114.00128,36.18095 L -113.98498,36.17134 L -113.98295,36.16008 L -113.98799,36.13939 L -113.98448,36.12753 L -113.97573,36.12356 L -113.9691,36.12908 L -113.95561,36.13228 L -113.93236,36.13061 L -113.92688,36.12228 L -113.92257,36.09844 L -113.91357,36.09323 L -113.89696,36.09207 L -113.89386,36.08708 L -113.89464,36.07718 L -113.89286,36.07146 L -113.88869,36.06589 L -113.8796,36.05943 L -113.86873,36.0547 L -113.8456,36.04984 L -113.8201,36.04775 L -113.80978,36.04851 L -113.79487,36.02908 L -113.78549,36.02824 L -113.78228,36.02609 L -113.78391,36.01134 L -113.78016,36.00224 L -113.77887,35.9912 L -113.77604,35.98504 L -113.77215,35.98147 L -113.76842,35.97267 L -113.75824,35.96828 L -113.74878,35.96854 L -113.73678,35.95534 L -113.73993,35.94784 L -113.73886,35.9406 L -113.72272,35.93995 L -113.71269,35.92782 L -113.71585,35.90735 L -113.71134,35.89411 L -113.71295,35.88514 L -113.70713,35.8796 L -113.6806,35.87538 L -113.67488,35.8688 L -113.66799,35.86573 L -113.66294,35.8555 L -113.65507,35.84837 L -113.65536,35.83624 L -113.64651,35.82441 L -113.63587,35.81883 L -113.63087,35.81943 L -113.62736,35.82234 L -113.625,35.82924 L -113.61816,35.83681 L -113.613,35.84828 L -113.6087,35.84995 L -113.60504,35.84937 L -113.57618,35.82836 L -113.56784,35.82031 L -113.56653,35.81192 L -113.56228,35.80423 L -113.5426,35.79565 L -113.52749,35.77838 L -113.5134,35.76756 L -113.49904,35.76558 L -113.48567,35.76669 L -113.46844,35.76488 L -113.43652,35.75297 L -113.41877,35.75084 L -113.38968,35.75264 L -113.38309,35.75456 L -113.37694,35.76339 L -113.36794,35.77131 L -113.357,35.77585 L -113.34061,35.78806 L -113.33669,35.79349 L -113.33326,35.80304 L -113.32875,35.81303 L -113.3325,35.82169 L -113.32508,35.82986 L -113.32613,35.84071 L -113.31427,35.85448 L -113.30986,35.86241 L -113.31194,35.875 L -113.30846,35.88734 L -113.31042,35.89327 L -113.32212,35.89882 L -113.32709,35.9077 L -113.33409,35.91387 L -113.33338,35.91873 L -113.32802,35.92602 L -113.32475,35.93466 L -113.32475,35.93992 L -113.32789,35.95015 L -113.32493,35.95503 L -113.31665,35.96083 L -113.31826,35.9658 L -113.3165,35.96863 L -113.31861,35.97392 L -113.32107,35.97596 L -113.33379,35.97946 L -113.33901,35.98517 L -113.34065,35.99072 L -113.33937,36.0033 L -113.34307,36.01002 L -113.3476,36.01313 L -113.35094,36.03427 L -113.35341,36.04039 L -113.35129,36.04751 L -113.34501,36.05677 L -113.33001,36.06834 L -113.32541,36.07844 L -113.32289,36.09085 L -113.31921,36.09679 L -113.31267,36.10002 L -113.30806,36.09958 L -113.29982,36.09575 L -113.27632,36.09706 L -113.2564,36.08852 L -113.24548,36.09335 L -113.23038,36.08954 L -113.22298,36.09194 L -113.21768,36.0994 L -113.21507,36.10763 L -113.20091,36.11906 L -113.20453,36.13321 L -113.20016,36.14413 L -113.20079,36.14781 L -113.20051,36.14959 L -113.19599,36.15297 L -113.17181,36.16275 L -113.16695,36.16594 L -113.16435,36.17035 L -113.15612,36.17432 L -113.14521,36.17301 L -113.13632,36.16644 L -113.125,36.17055 L -113.1206,36.1738 L -113.11333,36.18324 L -113.09471,36.19359 L -113.08641,36.19542 L -113.0615,36.20718 L -113.052,36.20938 L -113.03751,36.22663 L -113.01835,36.23672 L -113.00559,36.23877 L -112.98895,36.23258 L -112.98045,36.23179 L -112.93826,36.24168 L -112.92934,36.24609 L -112.92682,36.25302 L -112.92265,36.25776 L -112.91433,36.25816 L -112.9022,36.25373 L -112.89749,36.25478 L -112.88358,36.26384 L -112.87771,36.27628 L -112.8754,36.27826 L -112.87527,36.25 L -112.87518,36.15742 L -112.8639,36.16383 L -112.86194,36.17609 L -112.84902,36.19978 L -112.84288,36.20178 L -112.83998,36.20612 L -112.8359,36.21921 L -112.83894,36.22726 L -112.845,36.232 L -112.84535,36.23392 L -112.83468,36.23461 L -112.82702,36.22887 L -112.81894,36.23019 L -112.81097,36.24039 L -112.80383,36.23949 L -112.79123,36.24513 L -112.78847,36.24779 L -112.78753,36.25688 L -112.78585,36.25808 L -112.76718,36.26158 L -112.73548,36.28014 L -112.72827,36.28278 L -112.70953,36.27677 L -112.65784,36.2721 L -112.65402,36.27472 L -112.65415,36.27723 L -112.66381,36.2854 L -112.66261,36.28687 L -112.64884,36.2781 L -112.63939,36.27494 L -112.62163,36.25604 L -112.61739,36.2553 L -112.6161,36.25607 L -112.61379,36.26935 L -112.60901,36.27169 L -112.59999,36.2731 L -112.59982,36.27572 L -112.6045,36.28088 L -112.60291,36.28363 L -112.59877,36.28044 L -112.58957,36.26803 L -112.58713,36.26706 L -112.58367,36.26833 L -112.58188,36.27219 L -112.58319,36.27849 L -112.57687,36.28321 L -112.5786,36.28801 L -112.58553,36.29077 L -112.59,36.29613 L -112.59519,36.29747 L -112.60845,36.29711 L -112.60986,36.29976 L -112.60487,36.30177 L -112.59406,36.30029 L -112.58849,36.30341 L -112.59114,36.308 L -112.58671,36.31561 L -112.58874,36.31913 L -112.5965,36.324 L -112.59596,36.3249 L -112.57584,36.3252 L -112.56909,36.32875 L -112.56917,36.33284 L -112.57298,36.33566 L -112.56291,36.33978 L -112.56244,36.3434 L -112.56302,36.34702 L -112.57243,36.35745 L -112.56591,36.35456 L -112.55994,36.34651 L -112.54765,36.34168 L -112.52777,36.34348 L -112.51727,36.34776 L -112.51185,36.35204 L -112.51029,36.35774 L -112.5069,36.35315 L -112.5,36.34828 L -112.49621,36.34635 L -112.49155,36.34661 L -112.48907,36.34422 L -112.4889,36.34278 L -112.49111,36.34187 L -112.50179,36.34043 L -112.50866,36.33746 L -112.51942,36.32654 L -112.52196,36.3257 L -112.52623,36.32862 L -112.53276,36.32883 L -112.53634,36.33328 L -112.54297,36.33577 L -112.54815,36.33569 L -112.56307,36.32633 L -112.56725,36.31912 L -112.56861,36.30853 L -112.56501,36.28844 L -112.56326,36.26075 L -112.55915,36.25389 L -112.55924,36.26361 L -112.54788,36.2627 L -112.54362,36.26469 L -112.52815,36.26638 L -112.52959,36.26189 L -112.52705,36.25626 L -112.52115,36.24802 L -112.51545,36.24502 L -112.46641,36.23896 L -112.45932,36.23406 L -112.45533,36.22884 L -112.45332,36.2192 L -112.45425,36.20304 L -112.45083,36.19848 L -112.44643,36.19782 L -112.42942,36.20148 L -112.42598,36.20375 L -112.42391,36.20776 L -112.42156,36.22724 L -112.41492,36.23484 L -112.39409,36.24377 L -112.38041,36.24545 L -112.36736,36.24181 L -112.35778,36.24282 L -112.35405,36.24033 L -112.35198,36.23667 L -112.34331,36.23701 L -112.33963,36.23358 L -112.33434,36.21817 L -112.32643,36.20432 L -112.30976,36.1831 L -112.30615,36.16643 L -112.30629,36.16025 L -112.30053,36.15164 L -112.2828,36.1441 L -112.2734,36.14293 L -112.26141,36.14501 L -112.24805,36.13846 L -112.24471,36.13495 L -112.23825,36.1329 L -112.23379,36.12818 L -112.22767,36.11145 L -112.21694,36.10276 L -112.19983,36.09693 L -112.18372,36.09871 L -112.1749,36.09778 L -112.16536,36.09983 L -112.15685,36.10494 L -112.1463,36.1063 L -112.13952,36.10403 L -112.13119,36.09804 L -112.12406,36.09629 L -112.10387,36.10097 L -112.09365,36.09724 L -112.0866,36.10097 L -112.07942,36.10026 L -112.0556,36.0884 L -112.03106,36.08016 L -112.01827,36.06764 L -111.99648,36.05548 L -111.9827,36.05002 L -111.96823,36.05009 L -111.94494,36.04361 L -111.93219,36.04662 L -111.921,36.0463 L -111.91624,36.04446 L -111.90504,36.04609 L -111.90213,36.05196 L -111.89419,36.05999 L -111.89075,36.06612 L -111.88004,36.06793 L -111.86991,36.0744 L -111.87045,36.07919 L -111.8769,36.08203 L -111.87584,36.08595 L -111.86759,36.08774 L -111.85649,36.08733 L -111.85162,36.08946 L -111.84884,36.09352 L -111.83963,36.09438 L -111.83761,36.0979 L -111.84039,36.10106 L -111.83212,36.10394 L -111.82985,36.10247 L -111.82748,36.10327 L -111.82558,36.10686 L -111.8292,36.11316 L -111.81783,36.13101 L -111.81528,36.14111 L -111.81456,36.15253 L -111.81065,36.16237 L -111.81103,36.16813 L -111.81454,36.17745 L -111.81329,36.18164 L -111.80167,36.19337 L -111.79856,36.19378 L -111.80046,36.20478 L -111.8231,36.23821 L -111.82522,36.26338 L -111.82904,36.26502 L -111.83818,36.27762 L -111.84395,36.28126 L -111.85275,36.2916 L -111.85484,36.29224 L -111.85767,36.2962 L -111.85462,36.30129 L -111.85465,36.30553 L -111.86433,36.31138 L -111.86346,36.3178 L -111.85792,36.3287 L -111.86036,36.33708 L -111.86993,36.34577 L -111.87384,36.35374 L -111.88519,36.36231 L -111.89147,36.3714 L -111.88925,36.37607 L -111.88588,36.37804 L -111.85118,36.38546 L -111.84688,36.3889 L -111.84861,36.39426 L -111.85433,36.39645 L -111.87056,36.39212 L -111.87729,36.39267 L -111.88176,36.39562 L -111.88295,36.39998 L -111.86765,36.41266 L -111.87132,36.425 L -111.86942,36.43082 L -111.86569,36.43315 L -111.85098,36.43568 L -111.8488,36.44532 L -111.83883,36.4494 L -111.83509,36.45437 L -111.8383,36.46659 L -111.84692,36.4801 L -111.84026,36.49027 L -111.84018,36.49304 L -111.84384,36.49622 L -111.85385,36.49723 L -111.85805,36.5 L -111.85519,36.5052 L -111.84918,36.51081 L -111.8452,36.52043 L -111.83618,36.52895 L -111.82732,36.53469 L -111.82451,36.54919 L -111.81667,36.55718 L -111.80966,36.5681 L -111.80415,36.57266 L -111.78885,36.57893 L -111.77124,36.59303 L -111.76505,36.60061 L -111.76425,36.60489 L -111.75663,36.61608 L -111.7627,36.6261 L -111.7598,36.63624 L -111.76028,36.64691 L -111.75604,36.65048 L -111.74499,36.65524 L -111.74198,36.65856 L -111.73915,36.67267 L -111.74057,36.67374 L -111.75946,36.67301 L -111.76532,36.66999 L -111.77192,36.6628 L -111.77817,36.65956 L -111.78511,36.65317 L -111.79682,36.64855 L -111.79895,36.65253 L -111.79934,36.6504 L -111.80403,36.64894 L -111.80494,36.64568 L -111.80926,36.64665 L -111.81563,36.64509 L -111.81761,36.64742 L -111.81864,36.64317 L -111.82239,36.6392 L -111.82582,36.64172 L -111.82594,36.63806 L -111.83367,36.64206 L -111.83528,36.64142 L -111.83521,36.63808 L -111.83792,36.63601 L -111.85645,36.63743 L -111.86494,36.64098 L -111.86859,36.641 L -111.87224,36.64358 L -111.87981,36.64233 L -111.89792,36.64706 L -111.90626,36.65335 L -111.91553,36.65507 L -111.93761,36.66295 L -111.94785,36.67174 L -111.95927,36.67183 L -111.96774,36.67515 L -112.02244,36.70912 L -112.04532,36.73141 L -112.05044,36.75544 L -112.058,36.77685 L -112.06213,36.78264 L -112.05922,36.78383 L -112.06145,36.7855 L -112.0635,36.79331 L -112.06717,36.79683 L -112.06583,36.80073 L -112.06765,36.80498 L -112.06683,36.80702 L -112.06996,36.81458 L -112.06919,36.81586 L -112.07178,36.8168 L -112.07005,36.8268 L -112.06373,36.83942 L -112.06239,36.87282 L -112.0576,36.88591 L -112.05592,36.89757 L -112.04822,36.91359 L -112.04799,36.92087 L -112.04511,36.92536 L -112.04605,36.92735 L -112.04048,36.93319 L -112.03694,36.94894 L -112.03437,36.95114 L -112.03509,36.95448 L -112.03186,36.95968 L -112.0328,36.96162 L -112.03126,36.96286 L -112.03309,36.96391 L -112.03397,36.96774 L -112.0318,36.98079 L -112.03331,36.99015 L -112.03216,37.00111 L -111.41205,37.00152 L -111.41096,37.00151 L -111.23432,37.0011 L -111.14249,37.00082 L -111.13965,37.0008 L -111.06579,37.0024 L -110.75,37.0032 L -110.5,37.00426 L -110.49022,37.00357 L -110.4695,36.998 L -110.37917,36.99815 L -110.17532,36.9984 L -110.0,36.99797 L -109.70948,36.99843 L -109.69858,36.99842 L -109.6994,36.9964 L -109.70268,36.9958 L -109.70074,36.99402 L -109.70145,36.99244 L -109.69923,36.99058 L -109.69586,36.99024 L -109.69443,36.99159 L -109.68884,36.98862 L -109.69052,36.98452 L -109.69381,36.98342 L -109.69209,36.98111 L -109.69249,36.97857 L -109.68425,36.97717 L -109.68542,36.97641 L -109.68373,36.97479 L -109.68704,36.97238 L -109.68773,36.96771 L -109.68995,36.9652 L -109.69352,36.96645 L -109.69195,36.96094 L -109.69358,36.96133 L -109.69375,36.96355 L -109.6954,36.9624 L -109.69209,36.95537 L -109.69543,36.95652 L -109.69728,36.95256 L -109.69891,36.95263 L -109.69797,36.9551 L -109.69925,36.95508 L -109.7023,36.95043 L -109.7041,36.95052 L -109.70353,36.94841 L -109.70906,36.94535 L -109.71117,36.94074 L -109.71514,36.94276 L -109.72067,36.93994 L -109.72072,36.93708 L -109.72398,36.93836 L -109.72423,36.9355 L -109.72711,36.93605 L -109.72483,36.93296 L -109.72722,36.93193 L -109.72725,36.93007 L -109.72865,36.92961 L -109.72882,36.9317 L -109.73515,36.92888 L -109.73264,36.92659 L -109.7309,36.92013 L -109.73315,36.9197 L -109.7303,36.91798 L -109.73203,36.91652 L -109.73035,36.9134 L -109.73252,36.91537 L -109.73394,36.9142 L -109.73343,36.91081 L -109.73132,36.90969 L -109.73368,36.90777 L -109.73767,36.90797 L -109.73622,36.90488 L -109.73793,36.90133 L -109.73539,36.90074 L -109.73935,36.89994 L -109.73847,36.89785 L -109.74135,36.89815 L -109.74305,36.89396 L -109.73664,36.89188 L -109.73191,36.89394 L -109.73057,36.89152 L -109.73379,36.88845 L -109.73242,36.88682 L -109.73529,36.88524 L -109.72877,36.88435 L -109.73102,36.88087 L -109.73036,36.87959 L -109.73324,36.87892 L -109.73101,36.87602 L -109.73563,36.87538 L -109.7297,36.87307 L -109.73169,36.87256 L -109.72958,36.86853 L -109.73163,36.86466 L -109.73702,36.86471 L -109.73457,36.86285 L -109.73815,36.85953 L -109.73314,36.8585 L -109.73604,36.85724 L -109.73439,36.85269 L -109.73245,36.85299 L -109.7343,36.8487 L -109.73145,36.84774 L -109.73373,36.84708 L -109.73376,36.84355 L -109.72857,36.84092 L -109.72515,36.83401 L -109.72196,36.83598 L -109.72005,36.83261 L -109.71515,36.83078 L -109.71735,36.83053 L -109.71199,36.82431 L -109.71034,36.82417 L -109.71105,36.81943 L -109.70937,36.81865 L -109.71147,36.81155 L -109.70706,36.81174 L -109.70999,36.80714 L -109.70213,36.80737 L -109.69883,36.80464 L -109.7023,36.80359 L -109.70176,36.80178 L -109.69442,36.79899 L -109.69023,36.80093 L -109.6908,36.79832 L -109.69285,36.79876 L -109.6908,36.79574 L -109.6881,36.79803 L -109.68736,36.79651 L -109.68386,36.79647 L -109.68389,36.7939 L -109.67871,36.79471 L -109.67444,36.79182 L -109.67202,36.79342 L -109.67242,36.78969 L -109.6754,36.79047 L -109.67358,36.78926 L -109.67444,36.78763 L -109.67162,36.78719 L -109.67059,36.78889 L -109.66561,36.78731 L -109.66718,36.78584 L -109.66476,36.78264 L -109.66795,36.78312 L -109.66875,36.78081 L -109.66351,36.77806 L -109.66354,36.77385 L -109.66587,36.77215 L -109.66115,36.76993 L -109.66445,36.76606 L -109.66232,36.76469 L -109.65848,36.76572 L -109.6593,36.76137 L -109.66158,36.76162 L -109.66374,36.75949 L -109.664,36.75583 L -109.6611,36.75283 L -109.66511,36.75251 L -109.6615,36.75029 L -109.65811,36.75265 L -109.65626,36.75221 L -109.65847,36.7473 L -109.66329,36.74635 L -109.66456,36.7404 L -109.66157,36.73468 L -109.65723,36.73468 L -109.65713,36.72855 L -109.65242,36.72868 L -109.65127,36.7229 L -109.6606,36.71062 L -109.65788,36.70738 L -109.65756,36.7043 L -109.66021,36.69986 L -109.65352,36.70411 L -109.65515,36.69945 L -109.64734,36.70399 L -109.64366,36.70978 L -109.64297,36.71416 L -109.64077,36.71262 L -109.63866,36.71411 L -109.63785,36.71272 L -109.63531,36.71302 L -109.63537,36.71015 L -109.63798,36.71043 L -109.64219,36.70376 L -109.64124,36.69946 L -109.64298,36.69484 L -109.64061,36.6948 L -109.64118,36.69252 L -109.64843,36.6888 L -109.65004,36.69034 L -109.65441,36.68642 L -109.65343,36.68497 L -109.65021,36.6857 L -109.64202,36.69014 L -109.63183,36.70094 L -109.62999,36.69977 L -109.63193,36.69192 L -109.62994,36.68537 L -109.63577,36.67704 L -109.63595,36.67127 L -109.63933,36.66447 L -109.65509,36.64626 L -109.69485,36.61449 L -109.71726,36.60329 L -109.71711,36.60164 L -109.72416,36.59864 L -109.72855,36.59289 L -109.73783,36.58801 L -109.74955,36.57326 L -109.77288,36.55614 L -109.77675,36.548 L -109.78296,36.5434 L -109.78455,36.54026 L -109.78813,36.53884 L -109.78822,36.53577 L -109.79185,36.53108 L -109.79534,36.5219 L -109.80825,36.50709 L -109.82069,36.49957 L -109.84089,36.50976 L -109.84231,36.51496 L -109.85134,36.50894 L -109.85035,36.50785 L -109.85423,36.50619 L -109.85393,36.50484 L -109.84811,36.50675 L -109.84886,36.50497 L -109.85509,36.50186 L -109.85905,36.49861 L -109.85904,36.49663 L -109.85382,36.49997 L -109.85215,36.49739 L -109.84659,36.50245 L -109.84248,36.50175 L -109.84277,36.50062 L -109.84522,36.49646 L -109.85416,36.49224 L -109.85356,36.49026 L -109.85985,36.48458 L -109.87315,36.4788 L -109.87379,36.47722 L -109.87199,36.47566 L -109.87296,36.47255 L -109.87061,36.47056 L -109.87725,36.46547 L -109.87683,36.46166 L -109.87798,36.46269 L -109.8824,36.46134 L -109.88762,36.45747 L -109.8908,36.45003 L -109.88981,36.44241 L -109.89596,36.44612 L -109.90215,36.44479 L -109.90406,36.44314 L -109.90318,36.44106 L -109.9065,36.44147 L -109.90772,36.43944 L -109.91418,36.43788 L -109.91361,36.43683 L -109.91891,36.43268 L -109.93117,36.42713 L -109.93672,36.42121 L -109.94029,36.41977 L -109.94345,36.41972 L -109.94937,36.42287 L -109.95864,36.43349 L -109.96333,36.44275 L -109.9718,36.44497 L -109.97847,36.45239 L -109.98471,36.45382 L -109.98922,36.45305 L -109.99223,36.45479 L -109.99629,36.45323 L -110.0,36.4555 L -110.0,36.45935 L -110.01582,36.4526 L -110.02283,36.44326 L -110.02331,36.43978 L -110.02762,36.43588 L -110.03875,36.44413 L -110.04261,36.44416 L -110.04894,36.44747 L -110.05545,36.44751 L -110.06645,36.45194 L -110.08269,36.46322 L -110.09212,36.47188 L -110.10619,36.46856 L -110.11626,36.46038 L -110.14085,36.44919 L -110.16411,36.43216 L -110.16867,36.43259 L -110.17241,36.43737 L -110.17398,36.43681 L -110.17478,36.44516 L -110.17809,36.44929 L -110.18247,36.44964 L -110.1807,36.45387 L -110.18323,36.46198 L -110.19501,36.46426 L -110.19691,36.46252 L -110.19816,36.46419 L -110.20961,36.46071 L -110.22435,36.44554 L -110.23563,36.43836 L -110.24151,36.43565 L -110.24972,36.4344 L -110.24545,36.43858 L -110.24002,36.45413 L -110.24734,36.46416 L -110.25578,36.46336 L -110.25886,36.46757 L -110.26952,36.47231 L -110.28863,36.47166 L -110.29161,36.47326 L -110.29203,36.4706 L -110.30635,36.47493 L -110.31259,36.47459 L -110.31993,36.47988 L -110.33521,36.48372 L -110.34026,36.48075 L -110.34343,36.4821 L -110.34462,36.48008 L -110.34774,36.4823 L -110.35044,36.47896 L -110.35418,36.47971 L -110.35645,36.47735 L -110.36455,36.47499 L -110.36705,36.47142 L -110.37141,36.47215 L -110.37314,36.46903 L -110.37944,36.46922 L -110.37956,36.46642 L -110.3871,36.46446 L -110.38653,36.46269 L -110.38917,36.46254 L -110.38974,36.45956 L -110.39782,36.45736 L -110.39799,36.45478 L -110.40028,36.45505 L -110.39912,36.45361 L -110.40179,36.45304 L -110.40445,36.44793 L -110.40712,36.44903 L -110.40703,36.44667 L -110.40907,36.44509 L -110.41355,36.44498 L -110.415,36.44175 L -110.41661,36.44308 L -110.41837,36.44232 L -110.42563,36.43385 L -110.42483,36.43156 L -110.42869,36.43106 L -110.43019,36.42847 L -110.43659,36.42513 L -110.43931,36.42566 L -110.44042,36.42272 L -110.44432,36.42021 L -110.45623,36.4157 L -110.45413,36.4128 L -110.43386,36.4052 L -110.4225,36.39906 L -110.38803,36.40525 L -110.36037,36.42725 L -110.31824,36.43055 L -110.31238,36.43057 L -110.30987,36.42891 L -110.30787,36.42361 L -110.30621,36.42258 L -110.32365,36.39043 L -110.32182,36.38499 L -110.32342,36.38217 L -110.33148,36.37496 L -110.37632,36.35106 L -110.37858,36.33858 L -110.37842,36.33318 L -110.37681,36.33094 L -110.37881,36.32781 L -110.38105,36.31569 L -110.38038,36.31232 L -110.38403,36.30257 L -110.3857,36.30071 L -110.38867,36.30216 L -110.39383,36.3019 L -110.40373,36.29922 L -110.41584,36.28782 L -110.42075,36.27977 L -110.42571,36.25797 L -110.4327,36.24938 L -110.4367,36.23582 L -110.43643,36.21103 L -110.45083,36.15907 L -110.46469,36.14645 L -110.47365,36.13496 L -110.51013,36.15975 L -110.52955,36.1568 L -110.57736,36.13436 L -110.61593,36.09958 L -110.61605,36.04374 L -110.61605,36.04145 L -110.54467,36.04148 L -110.54472,36.01387 L -110.53659,36.02124 L -110.53096,36.01935 L -110.52847,36.01575 L -110.5,36.01575 L -110.5,36.07051 L -110.46941,36.07008 L -110.46418,36.07927 L -110.46501,36.08299 L -110.46323,36.09232 L -110.46429,36.09937 L -110.42433,36.09915 L -110.42471,36.06994 L -110.40236,36.07055 L -110.40216,36.04159 L -110.29102,36.04128 L -110.28542,36.03525 L -110.28936,36.02653 L -110.30157,36.00931 L -110.31893,36.00042 L -110.25153,36.0 L -110.15995,35.96525 L -110.14871,35.97337 L -110.14502,35.9744 L -110.13979,35.99207 L -110.12348,35.99385 L -110.12224,35.98248 L -110.12392,35.92701 L -110.11918,35.92388 L -110.11851,35.91189 L -110.10944,35.91154 L -110.10385,35.91508 L -110.10075,35.90959 L -110.09872,35.90922 L -110.08751,35.91524 L -110.08255,35.91318 L -110.07494,35.91316 L -110.07672,35.92066 L -110.08095,35.92091 L -110.08174,35.92418 L -110.08517,35.92759 L -110.07577,35.93011 L -110.06144,35.93087 L -110.06113,35.92633 L -110.05736,35.92493 L -110.05802,35.92141 L -110.05217,35.92394 L -110.05092,35.9177 L -110.04871,35.91649 L -110.04583,35.91107 L -110.04209,35.91501 L -110.04263,35.91996 L -110.04114,35.92364 L -110.03357,35.92376 L -110.02897,35.92742 L -110.02427,35.92506 L -110.01906,35.92505 L -110.0202,35.92063 L -110.0256,35.9148 L -110.0245,35.9088 L -110.03008,35.90255 L -110.03371,35.8952 L -110.0405,35.88982 L -110.04043,35.88083 L -110.05375,35.86622 L -110.05407,35.84383 L -110.0,35.84426 L -110.0,35.66265 L -109.82628,35.66248 L -109.82622,35.51767 L -109.84309,35.51786 L -109.84302,35.17072 L -109.84302,35.17038 L -109.8442,35.01867 L -109.84254,34.95315 L -109.84416,34.9095 L -109.84396,34.82253 L -109.77181,34.82214 L -109.31331,34.82137 L -109.16471,34.81089 L -109.15569,34.81201 L -109.15635,34.81359 L -109.15457,34.81407 L -109.15316,34.81297 L -109.15224,34.81524 L -109.14905,34.8156 L -109.14069,34.82249 L -109.13486,34.82469 L -109.13461,34.82688 L -109.13261,34.82565 L -109.12908,34.82633 L -109.12201,34.83151 L -109.12178,34.82965 L -109.11856,34.82938 L -109.10579,34.83925 L -109.09924,34.83994 L -109.09849,34.84493 L -109.0978,34.84361 L -109.0883,34.84482 L -109.08191,34.84922 L -109.07305,34.84711 L -109.06508,34.85341 L -109.06525,34.85678 L -109.05428,34.86337 L -109.05353,34.86564 L -109.04766,34.86756 L -109.04542,34.87069 L -109.04552,34.57925 L -109.04615,34.16692 L -109.0462,34.04535 L -109.04617,33.95564 L -109.04626,33.82343 L -109.04632,33.77818 L -109.34708,33.77747 L -109.34686,33.77562 L -109.35495,33.76897 L -109.35391,33.76476 L -109.3624,33.75172 L -109.363,33.74832 L -109.3611,33.74596 L -109.36423,33.73991 L -109.36083,33.73558 L -109.35723,33.73501 L -109.35232,33.72919 L -109.35243,33.72493 L -109.35512,33.72521 L -109.35641,33.72759 L -109.36038,33.72798 L -109.36885,33.72243 L -109.3792,33.72412 L -109.39458,33.71637 L -109.3953,33.71273 L -109.3976,33.7133 L -109.39828,33.71662 L -109.40034,33.71758 L -109.40437,33.71035 L -109.40955,33.71573 L -109.41155,33.70895 L -109.41319,33.7079 L -109.42141,33.71186 L -109.42319,33.71021 L -109.42594,33.71205 L -109.42931,33.71097 L -109.43966,33.7131 L -109.44304,33.71054 L -109.44835,33.71095 L -109.4489,33.70857 L -109.4452,33.70851 L -109.45252,33.7035 L -109.45589,33.6989 L -109.46104,33.69631 L -109.46112,33.69292 L -109.46556,33.69331 L -109.4715,33.69683 L -109.474,33.69525 L -109.47479,33.6901 L -109.48019,33.69081 L -109.47939,33.68781 L -109.48295,33.68666 L -109.48065,33.68368 L -109.48333,33.67253 L -109.47952,33.66855 L -109.47892,33.66463 L -109.48212,33.66138 L -109.4856,33.66195 L -109.48083,33.65508 L -109.48299,33.65423 L -109.48581,33.65663 L -109.48904,33.65512 L -109.48921,33.65906 L -109.4948,33.65283 L -109.4948,33.13926 L -109.49511,33.07835 L -109.51422,33.03453 L -109.51762,33.03621 L -109.51644,33.042 L -109.51797,33.04529 L -109.51538,33.04802 L -109.52066,33.05144 L -109.56065,33.05194 L -109.59415,33.01586 L -109.6003,33.0185 L -109.60311,33.02253 L -109.61551,33.02428 L -109.61968,33.02811 L -109.62996,33.02551 L -109.6429,33.01528 L -109.64571,33.01884 L -109.65435,33.01764 L -109.659,33.0142 L -109.6643,33.01452 L -109.67334,33.02203 L -109.67778,33.0218 L -109.69376,33.03525 L -109.70062,33.04411 L -109.7072,33.04439 L -109.71339,33.04034 L -109.71282,33.04461 L -109.71566,33.0482 L -109.71973,33.04873 L -109.72431,33.04683 L -109.73047,33.05084 L -109.73053,33.05616 L -109.73887,33.05633 L -109.73712,33.0662 L -109.73281,33.07169 L -109.7331,33.07375 L -109.73982,33.0789 L -109.74178,33.07943 L -109.74702,33.07494 L -109.74696,33.07235 L -109.75084,33.07342 L -109.7549,33.07099 L -109.75908,33.07174 L -109.76162,33.08039 L -109.76373,33.08185 L -109.76295,33.08841 L -109.76562,33.09041 L -109.76535,33.0934 L -109.7745,33.10084 L -109.77184,33.10437 L -109.77328,33.1087 L -109.76987,33.11321 L -109.76929,33.1196 L -109.76635,33.123 L -109.76956,33.12581 L -109.77295,33.12566 L -109.77957,33.12065 L -109.79,33.11748 L -109.79452,33.1236 L -109.79835,33.12482 L -109.80237,33.12252 L -109.80783,33.12198 L -109.8061,33.1178 L -109.81152,33.11676 L -109.81682,33.11871 L -109.81687,33.12237 L -109.82186,33.12544 L -109.82325,33.13033 L -109.8286,33.13196 L -109.83269,33.13522 L -109.83331,33.13822 L -109.83073,33.13955 L -109.83261,33.14696 L -109.83421,33.14783 L -109.83241,33.15786 L -109.83879,33.1571 L -109.849,33.16185 L -109.86549,33.15825 L -109.87252,33.15954 L -109.87292,33.15437 L -109.8805,33.15397 L -109.88238,33.14948 L -109.8855,33.14893 L -109.8873,33.14438 L -109.89323,33.14601 L -109.89054,33.1567 L -109.89228,33.15997 L -109.89961,33.16196 L -109.9017,33.16401 L -109.90848,33.16237 L -109.91054,33.1657 L -109.91624,33.16909 L -109.92055,33.16809 L -109.92332,33.17061 L -109.92524,33.1701 L -109.92822,33.17427 L -109.92668,33.17643 L -109.93371,33.18136 L -109.93739,33.18128 L -109.94381,33.18476 L -109.95076,33.19067 L -109.9513,33.19306 L -109.94243,33.1997 L -109.94882,33.21447 L -109.9452,33.21681 L -109.94925,33.21862 L -109.95115,33.22205 L -109.95022,33.22563 L -109.95198,33.23152 L -109.95835,33.23251 L -109.95988,33.23425 L -109.95958,33.23688 L -109.96393,33.23622 L -109.9724,33.24479 L -109.9767,33.24777 L -109.97989,33.24641 L -109.98167,33.24893 L -109.99079,33.2494 L -109.99064,33.24562 L -109.99861,33.24154 L -110.0,33.23562 L -110.01081,33.23966 L -110.01342,33.24387 L -110.02177,33.24552 L -110.0152,33.25193 L -110.01808,33.25883 L -110.01653,33.25993 L -110.0207,33.26297 L -110.01899,33.2648 L -110.03796,33.27441 L -110.04196,33.27381 L -110.04605,33.28317 L -110.04402,33.29018 L -110.04871,33.29607 L -110.04918,33.30135 L -110.05139,33.30124 L -110.0548,33.30431 L -110.05613,33.30409 L -110.05695,33.125 L -110.05404,32.875 L -110.09232,32.8955 L -110.13591,32.95823 L -110.19021,32.97161 L -110.22958,32.98945 L -110.28088,32.98879 L -110.31255,32.99764 L -110.32569,32.99957 L -110.37108,33.00652 L -110.39449,33.00655 L -110.40694,32.99527 L -110.4166,32.98125 L -110.43547,32.98125 L -110.44876,32.98811 L -110.44837,33.19447 L -110.45108,33.19404 L -110.45329,33.19798 L -110.46359,33.1923 L -110.46149,33.18481 L -110.46448,33.18249 L -110.47913,33.18221 L -110.48857,33.18323 L -110.49813,33.18677 L -110.50312,33.18631 L -110.50839,33.18023 L -110.51285,33.17926 L -110.51562,33.17563 L -110.52641,33.17681 L -110.52758,33.17079 L -110.53346,33.1676 L -110.53409,33.16522 L -110.52981,33.16153 L -110.52676,33.16329 L -110.52355,33.16199 L -110.52415,33.1594 L -110.52783,33.15844 L -110.53349,33.16034 L -110.53978,33.16339 L -110.54229,33.16838 L -110.54485,33.16882 L -110.54948,33.15794 L -110.5491,33.15278 L -110.55166,33.15219 L -110.55515,33.15498 L -110.55803,33.15503 L -110.561,33.15237 L -110.56138,33.14845 L -110.56629,33.1477 L -110.56827,33.14465 L -110.57378,33.14421 L -110.57846,33.14687 L -110.58094,33.14657 L -110.58009,33.14391 L -110.58372,33.14194 L -110.58614,33.13711 L -110.59248,33.13374 L -110.59648,33.13397 L -110.59779,33.13777 L -110.60057,33.13761 L -110.6085,33.14269 L -110.6186,33.1439 L -110.63314,33.14237 L -110.63701,33.13797 L -110.63794,33.13337 L -110.64483,33.12727 L -110.65587,33.11349 L -110.65932,33.11246 L -110.66115,33.11349 L -110.6618,33.1192 L -110.66471,33.12 L -110.66948,33.1167 L -110.67206,33.11148 L -110.67691,33.11136 L -110.67887,33.10103 L -110.68271,33.09874 L -110.68217,33.08815 L -110.68984,33.08889 L -110.69422,33.08634 L -110.68851,33.08403 L -110.68753,33.08105 L -110.689,33.07862 L -110.69234,33.07681 L -110.70556,33.0836 L -110.70573,33.16992 L -110.75211,33.1705 L -110.73742,33.2518 L -110.83868,33.25166 L -110.83612,33.25558 L -110.83827,33.25821 L -110.83966,33.25629 L -110.84102,33.25776 L -110.84321,33.25697 L -110.84321,33.25879 L -110.84599,33.25789 L -110.8461,33.25908 L -110.8486,33.25608 L -110.85163,33.25809 L -110.85943,33.25759 L -110.85932,33.25981 L -110.86522,33.26331 L -110.86376,33.26832 L -110.87345,33.26377 L -110.88162,33.26368 L -110.89035,33.25715 L -110.89897,33.25626 L -110.903,33.2583 L -110.93068,33.2486 L -110.94398,33.24718 L -110.94811,33.2569 L -110.97404,33.34204 L -111.03923,33.46605 L -111.15241,33.67706 L -111.1688,33.66747 L -111.17286,33.66008 L -111.17994,33.65974 L -111.1996,33.64021 L -111.20636,33.63683 L -111.20876,33.63345 L -111.20677,33.62052 L -111.2154,33.61265 L -111.21607,33.60827 L -111.22137,33.6024 L -111.22301,33.60281 L -111.23127,33.60946 L -111.23085,33.61313 L -111.23669,33.61535 L -111.23768,33.6184 L -111.24606,33.62145 L -111.24886,33.62428 L -111.25502,33.62108 L -111.26215,33.62311 L -111.26861,33.62918 L -111.27293,33.6384 L -111.27544,33.63892 L -111.27954,33.64447 L -111.2791,33.64582 L -111.2816,33.64643 L -111.28651,33.65197 L -111.28551,33.65652 L -111.2865,33.65857 L -111.29883,33.66378 L -111.30353,33.67136 L -111.30848,33.67381 L -111.31422,33.68135 L -111.32533,33.68433 L -111.33071,33.68829 L -111.33554,33.70073 L -111.33764,33.7027 L -111.33633,33.70894 L -111.33793,33.71585 L -111.33568,33.72031 L -111.34294,33.72479 L -111.34358,33.72736 L -111.35162,33.73224 L -111.35123,33.73348 L -111.35415,33.7332 L -111.3559,33.73891 L -111.37145,33.74517 L -111.37233,33.7493 L -111.375,33.74977 L -111.38045,33.74761 L -111.38613,33.75 L -111.38147,33.76091 L -111.38261,33.76275 L -111.38644,33.76319 L -111.38868,33.77076 L -111.38588,33.77317 L -111.38876,33.77662 L -111.38478,33.78314 L -111.38051,33.78519 L -111.38211,33.78809 L -111.37782,33.79367 L -111.38723,33.80317 L -111.38764,33.80531 L -111.3844,33.81026 L -111.38355,33.81645 L -111.37083,33.81881 L -111.37188,33.82421 L -111.37734,33.82735 L -111.37793,33.82954 L -111.38288,33.83358 L -111.39181,33.83586 L -111.38946,33.83766 L -111.39479,33.84082 L -111.39517,33.84458 L -111.39109,33.85292 L -111.39164,33.85479 L -111.38626,33.86075 L -111.38677,33.86292 L -111.39562,33.86852 L -111.3954,33.87274 L -111.3969,33.875 L -111.39536,33.87689 L -111.40496,33.87949 L -111.40483,33.88207 L -111.40736,33.88382 L -111.41051,33.88355 L -111.41214,33.88584 L -111.41262,33.88867 L -111.41075,33.89156 L -111.41297,33.89867 L -111.4109,33.90369 L -111.40731,33.90525 L -111.40791,33.91193 L -111.40438,33.91918 L -111.42524,33.92607 L -111.42995,33.92396 L -111.4368,33.91613 L -111.45105,33.92095 L -111.44858,33.92969 L -111.45135,33.93373 L -111.44638,33.93482 L -111.44661,33.94151 L -111.45158,33.94875 L -111.45093,33.95391 L -111.44732,33.95775 L -111.45166,33.96097 L -111.45186,33.96589 L -111.4482,33.96856 L -111.4474,33.97325 L -111.44058,33.97834 L -111.43402,33.98085 L -111.43277,33.98546 L -111.44207,33.99125 L -111.43966,33.99638 L -111.44361,33.99882 L -111.44439,34.00114 L -111.44871,34.00011 L -111.45372,34.00471 L -111.45769,34.00217 L -111.46584,34.0059 L -111.47001,34.00272 L -111.47175,34.00465 L -111.47595,34.00241 L -111.48682,34.00171 L -111.49105,34.0 L -111.49409,33.99978 L -111.72461,33.99981 L -112.06419,34.0373 L -112.06467,33.90115 L -111.89055,33.90016 L -111.83843,33.90036 L -111.83842,33.89841 L -111.83634,33.89928 L -111.83684,33.90302 L -111.83426,33.90247 L -111.83176,33.90489 L -111.82228,33.90256 L -111.81852,33.90428 L -111.80437,33.89736 L -111.80294,33.89005 L -111.80481,33.88668 L -111.80136,33.88364 L -111.79711,33.88418 L -111.7946,33.88625 L -111.79323,33.88498 L -111.78702,33.89026 L -111.77489,33.89157 L -111.77094,33.8952 L -111.77177,33.90206 L -111.7677,33.90712 L -111.76099,33.90128 L -111.75179,33.89991 L -111.74953,33.89778 L -111.74776,33.88346 L -111.74166,33.87376 L -111.73367,33.87841 L -111.72499,33.87177 L -111.7221,33.8646 L -111.71817,33.8611 L -111.70414,33.85845 L -111.68665,33.85987 L -111.67517,33.85719 L -111.66378,33.85173 L -111.66106,33.84821 L -111.64756,33.84454 L -111.64135,33.84055 L -111.63952,33.83854 L -111.6432,33.83125 L -111.64575,33.82971 L -111.6421,33.82467 L -111.64548,33.82126 L -111.64159,33.81727 L -111.63109,33.81829 L -111.62995,33.81713 L -111.6308,33.81278 L -111.62926,33.81113 L -111.62592,33.81351 L -111.62054,33.81358 L -111.61676,33.81695 L -111.615,33.81617 L -111.61135,33.82117 L -111.60537,33.82289 L -111.59891,33.82115 L -111.59075,33.82353 L -111.58374,33.82333 L -111.57886,33.81793 L -111.5482,33.79831 L -111.53931,33.79721 L -111.53402,33.7932 L -111.5177,33.79288 L -111.51237,33.79457 L -111.50876,33.79274 L -111.50691,33.79347 L -111.50538,33.78926 L -111.50708,33.78678 L -111.50269,33.78572 L -111.50171,33.78361 L -111.50355,33.781 L -111.50138,33.77754 L -111.5041,33.77521 L -111.50084,33.77351 L -111.50303,33.77049 L -111.50293,33.76022 L -111.50481,33.75396 L -111.51061,33.75329 L -111.51289,33.74877 L -111.51657,33.74634 L -111.52979,33.74559 L -111.53505,33.74266 L -111.54059,33.74598 L -111.54413,33.74614 L -111.54517,33.756 L -111.54887,33.75474 L -111.55164,33.75566 L -111.55671,33.76106 L -111.55907,33.76099 L -111.56971,33.75332 L -111.57536,33.75249 L -111.57989,33.74788 L -111.58636,33.74738 L -111.59239,33.74405 L -111.59795,33.7377 L -111.60113,33.72962 L -111.60782,33.72586 L -111.61469,33.71717 L -111.61891,33.71621 L -111.625,33.68308 L -111.6416,33.55723 L -111.65298,33.54878 L -111.66989,33.54334 L -111.6711,33.54085 L -111.67075,33.53072 L -111.67402,33.51936 L -111.67645,33.51683 L -111.68301,33.51642 L -111.68914,33.51654 L -111.69562,33.51458 L -111.69546,33.51219 L -111.69986,33.50875 L -111.70971,33.5052 L -111.71869,33.49702 L -111.71882,33.49493 L -111.72198,33.49408 L -111.72282,33.49098 L -111.72688,33.48674 L -111.73165,33.48837 L -111.73989,33.48226 L -111.74487,33.48234 L -111.74485,33.4838 L -111.7601,33.48375 L -111.78648,33.48349 L -111.7865,33.48246 L -111.79288,33.48237 L -111.79872,33.48501 L -111.80325,33.48218 L -111.8139,33.4807 L -111.8185,33.4853 L -111.84286,33.46707 L -111.8559,33.4656 L -111.8562,33.4545 L -111.8608,33.453 L -111.8732,33.4374 L -111.8719,33.4367 L -111.8914,33.4366 L -111.8913,33.4387 L -111.9085,33.4366 L -111.90851,33.45093 L -111.91477,33.45101 L -111.9148,33.44782 L -111.9173,33.44788 L -111.91721,33.451 L -111.92568,33.45102 L -111.9257,33.4584 L -111.9387,33.4582 L -111.9386,33.4642 L -111.9424,33.4549 L -111.9392,33.45 L -111.9406,33.4476 L -111.9503,33.4473 L -111.9558,33.4509 L -111.96041,33.45098 L -111.9603,33.4452 L -111.9773,33.4474 L -111.9773,33.4219 L -111.9774,33.4074 L -111.9777,33.3781 L -111.99054,33.378 L -111.99056,33.3743 L -111.983,33.3745 L -111.9831,33.3708 L -111.9755,33.3709 L -111.9754,33.3641 L -111.9957,33.3617 L -112.0007,33.35914 L -112.0038,33.3611 L -112.0137,33.35592 L -112.01761,33.34486 L -112.01395,33.33869 L -112.0141,33.3232 L -112.02072,33.32305 L -112.01692,33.31042 L -112.01446,33.30484 L -112.01334,33.29072 L -112.07357,33.29017 L -112.1325,33.2903 L -112.13798,33.2903 L -112.12046,33.28317 L -111.95643,33.20463 L -111.9082,33.20473 L -111.89235,33.20476 L -111.89232,33.2032 L -111.84046,33.20387 L -111.68535,33.20468 L -111.68535,33.1176 L -111.51595,33.11823 L -111.5151,33.01583 z\" /><path fill-rule=\"evenodd\" fill=\"#66cc99\" stroke=\"#555555\" stroke-width=\"0.1432324080000001\" opacity=\"0.6\" d=\"M -112.90063,32.19912 L -112.89949,32.20602 L -112.90183,32.21562 L -112.90021,32.221 L -112.90153,32.22489 L -112.89773,32.23525 L -112.89446,32.23953 L -112.89395,32.24697 L -112.8962,32.25543 L -112.89437,32.26219 L -112.89571,32.2683 L -112.89415,32.27029 L -112.89625,32.27217 L -112.89954,32.27137 L -112.90485,32.27584 L -112.91089,32.28897 L -112.91423,32.2927 L -112.91094,32.30058 L -112.90827,32.30177 L -112.90985,32.3126 L -112.9081,32.31526 L -112.90929,32.31902 L -112.90693,32.32272 L -112.91894,32.32122 L -112.92091,32.32756 L -112.92469,32.32964 L -112.94505,32.32731 L -112.95096,32.33017 L -112.93214,32.33186 L -112.93269,32.43652 L -112.9361,32.43946 L -112.93966,32.43878 L -112.94244,32.43713 L -112.94098,32.43243 L -112.94547,32.4355 L -112.94836,32.44004 L -112.94185,32.43978 L -112.93742,32.44418 L -112.93285,32.44558 L -112.93172,32.45069 L -112.92713,32.45279 L -112.91532,32.45014 L -112.91754,32.45259 L -112.92186,32.45307 L -112.92553,32.4555 L -112.92313,32.4582 L -112.92383,32.46305 L -112.91483,32.47945 L -112.92045,32.48628 L -112.91842,32.49537 L -112.94085,32.49881 L -112.94078,32.50529 L -112.57406,32.50516 L -112.57459,32.41857 L -112.67579,32.41791 L -112.67687,32.3308 L -112.72709,32.33127 L -112.72688,32.17365 L -112.73232,32.17672 L -112.74571,32.1804 L -112.77613,32.1958 L -112.79095,32.19839 L -112.90063,32.19912 z\" /></g></g></svg>"
      ],
      "text/plain": [
       "<MULTIPOLYGON (((-111.515 33.016, -111.512 33.018, -111.508 33.015, -111.508...>"
      ]
     },
     "execution_count": 258,
     "metadata": {},
     "output_type": "execute_result"
    }
   ],
   "source": [
    "hgeo"
   ]
  },
  {
   "cell_type": "code",
   "execution_count": 259,
   "id": "a8689440",
   "metadata": {},
   "outputs": [
    {
     "data": {
      "image/svg+xml": [
       "<svg xmlns=\"http://www.w3.org/2000/svg\" xmlns:xlink=\"http://www.w3.org/1999/xlink\" width=\"100.0\" height=\"100.0\" viewBox=\"-115.9417952 31.773304800000002 7.161620400000004 5.496200400000003\" preserveAspectRatio=\"xMinYMin meet\"><g transform=\"matrix(1,0,0,-1,0,69.04281)\"><g><path fill-rule=\"evenodd\" fill=\"#66cc99\" stroke=\"#555555\" stroke-width=\"0.1432324080000001\" opacity=\"0.6\" d=\"M -111.50806,33.01324 L -111.49874,33.0159 L -111.49208,33.01343 L -111.48618,33.01723 L -111.48101,33.01687 L -111.47778,33.01847 L -111.47584,33.01588 L -111.47252,33.01567 L -111.47171,32.94452 L -111.44361,32.94419 L -111.44514,32.93671 L -111.45092,32.92934 L -111.4523,32.91162 L -111.45803,32.89806 L -111.45602,32.87323 L -111.45607,32.85937 L -111.45767,32.85401 L -111.45498,32.84927 L -111.45753,32.84008 L -111.46084,32.83861 L -111.46258,32.83559 L -111.47362,32.83584 L -111.48149,32.8398 L -111.49499,32.84323 L -111.50222,32.84735 L -111.51172,32.84891 L -111.51451,32.85115 L -111.51515,32.72254 L -111.48002,32.70359 L -111.41044,32.66038 L -111.38239,32.6409 L -111.36825,32.62813 L -111.30178,32.54846 L -111.27094,32.51185 L -111.26576,32.50129 L -111.56858,32.50132 L -111.56858,32.5067 L -111.79185,32.50671 L -111.79388,32.5067 L -112.20302,32.5067 L -112.20281,32.68071 L -112.20304,32.94169 L -112.20126,33.08697 L -112.20146,33.24682 L -112.30548,33.24688 L -112.30633,33.36267 L -112.34103,33.36249 L -112.34466,33.35742 L -112.34362,33.36248 L -112.34501,33.36247 L -112.34541,33.37132 L -112.34778,33.3713 L -112.34867,33.37396 L -112.34972,33.3688 L -112.34836,33.36878 L -112.3482,33.36264 L -112.36533,33.36262 L -112.36561,33.38571 L -112.3916,33.3877 L -112.39171,33.3773 L -112.41738,33.37734 L -112.41744,33.37344 L -112.42646,33.37325 L -112.42656,33.36957 L -112.43158,33.36954 L -112.43565,33.36571 L -112.43571,33.36224 L -112.43968,33.36222 L -112.45608,33.3484 L -112.47798,33.34832 L -112.47757,33.35378 L -112.4793,33.35384 L -112.48378,33.35195 L -112.48819,33.3536 L -112.49387,33.35245 L -112.50273,33.35366 L -112.51332,33.36077 L -112.51657,33.36089 L -112.52915,33.35413 L -112.53134,33.34827 L -112.53535,33.34463 L -112.54648,33.343 L -112.55666,33.34447 L -112.57544,33.34328 L -112.58335,33.346 L -112.58859,33.3454 L -112.59909,33.34098 L -112.60741,33.34054 L -112.61596,33.3407 L -112.62005,33.33857 L -112.62207,33.33641 L -112.62217,33.3335 L -112.63531,33.32414 L -112.65086,33.33152 L -112.65844,33.33242 L -112.66265,33.33036 L -112.66573,33.32433 L -112.66977,33.32184 L -112.68499,33.3184 L -112.69005,33.31914 L -112.70242,33.31785 L -112.70886,33.31183 L -112.72124,33.30992 L -112.725,33.30754 L -112.73068,33.30834 L -112.73843,33.31195 L -112.75514,33.31154 L -112.76944,33.2968 L -112.76887,33.29371 L -112.76486,33.29068 L -112.76505,33.28873 L -112.76715,33.28434 L -112.77324,33.27886 L -112.77375,33.27671 L -112.77084,33.27099 L -112.76283,33.26395 L -112.76747,33.25094 L -112.76803,33.23187 L -112.7674,33.22936 L -112.76593,33.22945 L -112.76631,33.22452 L -112.76855,33.22079 L -112.7676,33.21754 L -112.75529,33.20468 L -112.72558,33.19152 L -112.71708,33.17901 L -112.70852,33.17056 L -112.70046,33.15215 L -112.7006,33.14537 L -112.70236,33.14182 L -112.70116,33.13037 L -112.69844,33.12792 L -112.6957,33.12118 L -112.69534,33.11165 L -112.69025,33.0963 L -112.6902,33.09145 L -112.68696,33.08822 L -112.68192,33.07715 L -112.68241,33.07127 L -112.68708,33.06423 L -112.68744,33.06115 L -112.68701,33.05711 L -112.68195,33.05214 L -112.68247,33.04635 L -112.68065,33.04158 L -112.68163,33.03835 L -112.69655,33.00915 L -112.70373,33.00436 L -112.71675,33.002 L -112.71745,32.98499 L -112.71345,32.97086 L -112.68606,32.97075 L -112.6822,32.96951 L -112.68243,32.9562 L -112.69046,32.95297 L -112.68514,32.94995 L -112.67941,32.94366 L -112.6721,32.94187 L -112.67221,32.93392 L -112.65765,32.92976 L -112.65763,32.9269 L -112.68974,32.92749 L -112.68976,32.92942 L -112.72143,32.93666 L -112.72753,32.92713 L -112.74496,32.92711 L -112.74937,32.93246 L -112.75187,32.93205 L -112.75524,32.93874 L -112.755,32.94449 L -112.76159,32.95427 L -112.75694,32.97083 L -112.76031,32.97083 L -112.76036,32.97445 L -112.76892,32.97466 L -112.7691,32.9777 L -112.77675,32.97781 L -112.78277,32.98971 L -112.78559,32.99218 L -112.78652,32.98522 L -112.81248,32.98509 L -112.81267,33.0 L -112.82166,33.0 L -112.82115,33.02235 L -112.83518,33.03052 L -112.83629,33.03329 L -112.84638,33.04126 L -112.85468,33.04503 L -112.87426,33.04553 L -112.88649,33.03857 L -112.91001,33.03771 L -112.91496,33.04364 L -112.93092,33.04513 L -112.94631,33.05335 L -112.9585,33.05722 L -112.96641,33.05761 L -112.97476,33.05335 L -112.98011,33.05257 L -112.99347,33.054 L -113.0,33.05707 L -113.02435,33.08606 L -113.03339,33.09174 L -113.04193,33.09302 L -113.0471,33.09185 L -113.05146,33.08569 L -113.05246,33.06836 L -113.05358,33.06531 L -113.05788,33.0619 L -113.06022,33.0551 L -113.06571,33.04981 L -113.082,33.05001 L -113.0972,33.04666 L -113.10195,33.04373 L -113.10543,33.03993 L -113.10882,33.02328 L -113.11865,33.01162 L -113.13512,33.01285 L -113.14126,33.01032 L -113.14957,33.00388 L -113.15684,33.0027 L -113.16105,33.00728 L -113.16774,33.00973 L -113.1722,33.00635 L -113.17073,33.0 L -113.17253,32.99898 L -113.19056,33.01177 L -113.19755,33.01418 L -113.2026,33.01388 L -113.22784,33.00349 L -113.24109,33.00066 L -113.23916,33.0 L -113.24036,32.99918 L -113.25778,32.99844 L -113.26376,32.99464 L -113.26816,32.98361 L -113.27243,32.98114 L -113.28112,32.9793 L -113.28963,32.96646 L -113.29476,32.96676 L -113.30172,32.96321 L -113.30976,32.96238 L -113.31685,32.96632 L -113.32087,32.96206 L -113.3269,32.96158 L -113.33304,32.95822 L -113.33297,32.7678 L -113.33316,32.50488 L -113.33303,32.03855 L -113.7841,32.17984 L -114.25,32.32385 L -114.563,32.4188 L -114.81282,32.49422 L -114.8132,32.49718 L -114.81152,32.5 L -114.8158,32.50764 L -114.81353,32.50897 L -114.80693,32.50867 L -114.80329,32.51032 L -114.80142,32.51314 L -114.80288,32.51632 L -114.80888,32.51751 L -114.80969,32.5217 L -114.81256,32.52413 L -114.80139,32.53636 L -114.80123,32.53941 L -114.80399,32.54161 L -114.80504,32.5463 L -114.79298,32.55228 L -114.79076,32.55697 L -114.79243,32.56941 L -114.79687,32.56439 L -114.80604,32.55883 L -114.80953,32.55858 L -114.8132,32.56215 L -114.8122,32.56865 L -114.80363,32.57289 L -114.80109,32.57596 L -114.80068,32.5782 L -114.8032,32.5826 L -114.79965,32.58803 L -114.79895,32.59213 L -114.80076,32.59854 L -114.80711,32.60273 L -114.8086,32.61707 L -114.8066,32.62128 L -114.79851,32.62507 L -114.79039,32.62178 L -114.78117,32.62556 L -114.78188,32.62858 L -114.78049,32.63141 L -114.76359,32.64262 L -114.76252,32.64457 L -114.76416,32.64934 L -114.74991,32.66021 L -114.74611,32.66897 L -114.74356,32.67887 L -114.72966,32.69879 L -114.7293,32.70425 L -114.71885,32.71872 L -114.7292,32.7179 L -115.1875,32.68654 L -115.18563,32.68729 L -115.18841,32.69432 L -115.21701,32.69433 L -115.21736,32.70911 L -115.22056,32.70911 L -115.22041,32.75228 L -115.2708,32.76673 L -115.27695,32.78452 L -115.2789,32.80646 L -115.28724,32.8353 L -115.29063,32.85489 L -115.29222,32.89495 L -115.29224,32.90195 L -115.2857,32.90336 L -115.2791,32.9078 L -115.2683,32.90736 L -115.25,32.91286 L -115.24328,32.9182 L -115.23532,32.92184 L -115.22876,32.94049 L -115.22801,32.95586 L -115.23105,32.96193 L -115.23163,32.97061 L -115.19209,32.96972 L -115.18528,32.97296 L -115.2504,33.04722 L -115.27197,33.07499 L -115.29117,33.09213 L -115.30888,33.10287 L -115.33357,33.13373 L -115.3397,33.13996 L -115.34077,33.13951 L -115.38085,33.18162 L -115.38446,33.1887 L -115.39568,33.19827 L -115.40233,33.20114 L -115.40481,33.20545 L -115.41042,33.20898 L -115.41349,33.22045 L -115.42074,33.22361 L -115.42338,33.23117 L -115.4281,33.23337 L -115.44876,33.25468 L -115.46548,33.26691 L -115.4819,33.28241 L -115.48882,33.28415 L -115.49426,33.2921 L -115.50645,33.29977 L -115.50961,33.30643 L -115.52796,33.31819 L -115.56275,33.3458 L -115.56534,33.35027 L -115.57877,33.36147 L -115.58586,33.36518 L -115.59326,33.36717 L -115.60667,33.37401 L -115.61828,33.37607 L -115.63426,33.38306 L -115.64791,33.39346 L -115.66923,33.41704 L -115.67155,33.42288 L -115.67655,33.42732 L -115.48142,33.4269 L -115.46669,33.42696 L -115.46669,33.42837 L -115.125,33.42902 L -115.06239,33.42808 L -114.83004,33.43007 L -114.83007,33.43368 L -114.75342,33.43372 L -114.75113,33.44012 L -114.74687,33.43999 L -114.74585,33.44306 L -114.747,33.45367 L -114.75174,33.46297 L -114.75227,33.47204 L -114.75093,33.48098 L -114.74262,33.49012 L -114.74472,33.4942 L -114.74408,33.49644 L -114.74618,33.4981 L -114.74457,33.50294 L -114.74657,33.50623 L -114.74131,33.50634 L -114.73186,33.52232 L -114.73149,33.53896 L -114.72778,33.54373 L -114.71872,33.55008 L -114.71903,33.55425 L -114.71521,33.56641 L -114.70677,33.57866 L -114.68096,33.58866 L -114.68039,33.58992 L -114.68251,33.59146 L -114.67139,33.60221 L -114.6661,33.61438 L -114.66894,33.6281 L -114.66356,33.63236 L -114.66462,33.63671 L -114.6594,33.63411 L -114.65607,33.63679 L -114.64342,33.63859 L -114.67442,33.65784 L -114.68184,33.67206 L -114.6738,33.67045 L -114.65316,33.65638 L -114.64507,33.66355 L -114.63585,33.66794 L -114.6248,33.66589 L -114.62704,33.67625 L -114.62602,33.67993 L -114.62266,33.6836 L -114.6141,33.68523 L -114.60828,33.68778 L -114.60607,33.69087 L -114.60332,33.69028 L -114.60051,33.6944 L -114.5775,33.70234 L -114.56379,33.70315 L -114.54708,33.71139 L -114.5322,33.71222 L -114.51806,33.7229 L -114.51606,33.72599 L -114.51471,33.73442 L -114.51118,33.735 L -114.5037,33.75098 L -114.50408,33.76045 L -114.51595,33.78833 L -114.51815,33.79728 L -114.52726,33.81494 L -114.52193,33.81896 L -114.51918,33.82536 L -114.52881,33.84804 L -114.52982,33.85542 L -114.52909,33.85754 L -114.52488,33.85998 L -114.51484,33.85825 L -114.50585,33.86347 L -114.50232,33.86715 L -114.50261,33.875 L -114.52198,33.89257 L -114.52496,33.89938 L -114.5249,33.90141 L -114.5235,33.90157 L -114.51555,33.8979 L -114.51159,33.89837 L -114.5072,33.9018 L -114.50777,33.90608 L -114.5116,33.91206 L -114.52025,33.9195 L -114.53416,33.92568 L -114.53469,33.93463 L -114.52789,33.9478 L -114.52121,33.95561 L -114.51507,33.95809 L -114.50878,33.95725 L -114.49909,33.96177 L -114.484,33.9755 L -114.48067,33.98124 L -114.47035,33.98802 L -114.46714,33.99286 L -114.45847,33.99469 L -114.45724,33.99714 L -114.4584,34.0 L -114.46652,34.00517 L -114.46508,34.01097 L -114.46255,34.01224 L -114.45402,34.01095 L -114.44942,34.01256 L -114.44303,34.01616 L -114.43748,34.02259 L -114.43416,34.03777 L -114.43855,34.05788 L -114.43464,34.07971 L -114.43511,34.07971 L -114.43367,34.08921 L -114.43114,34.09173 L -114.43172,34.09624 L -114.43552,34.10253 L -114.43863,34.10457 L -114.44044,34.11185 L -114.44424,34.11581 L -114.44556,34.12325 L -114.44312,34.12816 L -114.44449,34.13109 L -114.45162,34.1345 L -114.45911,34.14139 L -114.4584,34.14665 L -114.4622,34.15109 L -114.4651,34.17225 L -114.4684,34.17801 L -114.46852,34.18905 L -114.47155,34.19729 L -114.47075,34.20299 L -114.47379,34.20743 L -114.46955,34.21295 L -114.46913,34.21741 L -114.47164,34.22339 L -114.47104,34.23071 L -114.47529,34.23733 L -114.47565,34.24136 L -114.47196,34.2537 L -114.46561,34.25782 L -114.45981,34.26449 L -114.45176,34.26831 L -114.44867,34.27236 L -114.45005,34.27813 L -114.44638,34.28122 L -114.44691,34.2853 L -114.44442,34.29056 L -114.44205,34.29233 L -114.43554,34.29269 L -114.43455,34.29764 L -114.39778,34.31402 L -114.38663,34.31088 L -114.37813,34.31662 L -114.37429,34.31587 L -114.36969,34.32047 L -114.36781,34.32043 L -114.36445,34.31841 L -114.36348,34.3194 L -114.36056,34.31748 L -114.35548,34.31743 L -114.3512,34.31464 L -114.35151,34.31183 L -114.34271,34.31212 L -114.34075,34.30913 L -114.33884,34.31279 L -114.337,34.31187 L -114.33264,34.31382 L -114.33134,34.3127 L -114.3301,34.3173 L -114.32442,34.31698 L -114.32326,34.31535 L -114.32009,34.31748 L -114.31253,34.31787 L -114.30891,34.32355 L -114.30519,34.32469 L -114.30066,34.32975 L -114.29316,34.33263 L -114.28888,34.33794 L -114.28579,34.33923 L -114.28206,34.35248 L -114.27872,34.35811 L -114.27924,34.36765 L -114.27194,34.37457 L -114.27452,34.38372 L -114.25033,34.3839 L -114.24787,34.3881 L -114.25446,34.39218 L -114.26353,34.40132 L -114.27932,34.40313 L -114.28788,34.40661 L -114.29097,34.41109 L -114.29144,34.41759 L -114.29405,34.42138 L -114.30023,34.4268 L -114.31146,34.43271 L -114.32534,34.43724 L -114.32988,34.44528 L -114.33458,34.45003 L -114.34183,34.45143 L -114.37293,34.44693 L -114.38591,34.4579 L -114.3864,34.46201 L -114.38091,34.47603 L -114.38157,34.49575 L -114.37733,34.50728 L -114.37743,34.51651 L -114.38005,34.52971 L -114.40444,34.56963 L -114.42159,34.5807 L -114.43488,34.59383 L -114.43557,34.59679 L -114.42455,34.60083 L -114.42341,34.61044 L -114.43795,34.62145 L -114.44061,34.63016 L -114.4395,34.63823 L -114.44067,34.64252 L -114.44876,34.65142 L -114.45719,34.65711 L -114.45691,34.65932 L -114.45099,34.66388 L -114.44971,34.66683 L -114.45351,34.67123 L -114.45474,34.67733 L -114.46445,34.6912 L -114.46968,34.71136 L -114.47289,34.71396 L -114.48199,34.7145 L -114.4869,34.71703 L -114.38535,34.7272 L -114.26983,34.73177 L -114.25386,34.73559 L -114.22996,34.74709 L -114.22382,34.74627 L -114.21475,34.74764 L -114.19751,34.74565 L -114.17228,34.75507 L -114.1651,34.75086 L -114.15254,34.75678 L -114.14408,34.75836 L -114.14025,34.76454 L -114.13958,34.77012 L -114.12548,34.76886 L -114.12505,34.77235 L -114.102,34.77356 L -114.05279,34.79272 L -114.04583,34.79306 L -114.03512,34.79681 L -114.02547,34.79681 L -114.01762,34.7999 L -114.01118,34.80033 L -114.00549,34.79868 L -113.98929,34.79941 L -113.98624,34.79809 L -113.96713,34.79862 L -113.95415,34.80274 L -113.94956,34.80588 L -113.94943,34.8208 L -113.94516,34.82558 L -113.94491,34.8279 L -113.91497,34.82034 L -113.90825,34.82233 L -113.90545,34.82105 L -113.89615,34.83043 L -113.89263,34.82855 L -113.89093,34.82965 L -113.89188,34.82672 L -113.88655,34.824 L -113.88413,34.8256 L -113.87731,34.82502 L -113.874,34.8217 L -113.87543,34.82017 L -113.87413,34.81882 L -113.87593,34.818 L -113.87363,34.8182 L -113.87183,34.82115 L -113.86905,34.81722 L -113.86151,34.81605 L -113.85803,34.81251 L -113.85565,34.81223 L -113.8519,34.81498 L -113.8496,34.81349 L -113.83567,34.81345 L -113.83115,34.81197 L -113.82468,34.80689 L -113.82504,34.80311 L -113.82249,34.80505 L -113.82091,34.80407 L -113.82019,34.80602 L -113.8191,34.80508 L -113.81736,34.80908 L -113.81464,34.8046 L -113.80984,34.80412 L -113.8039,34.80098 L -113.80118,34.79796 L -113.80237,34.79075 L -113.79916,34.7883 L -113.79877,34.79146 L -113.7956,34.79011 L -113.79303,34.78127 L -113.78315,34.77214 L -113.7785,34.76997 L -113.76227,34.77543 L -113.75347,34.77643 L -113.74833,34.77473 L -113.74073,34.77611 L -113.72824,34.77001 L -113.71762,34.76987 L -113.71704,34.7674 L -113.7139,34.76779 L -113.70616,34.76259 L -113.69158,34.76198 L -113.68328,34.76344 L -113.67421,34.76232 L -113.65419,34.75472 L -113.65001,34.75517 L -113.63986,34.7505 L -113.62922,34.74848 L -113.62087,34.75272 L -113.62301,34.7544 L -113.66438,34.91399 L -113.67132,34.95621 L -113.68789,34.96013 L -113.69932,34.96539 L -113.71133,34.96697 L -113.71358,34.9688 L -113.72164,34.96878 L -113.72776,34.97289 L -113.73891,34.97639 L -113.74795,34.97833 L -113.76535,34.979 L -113.77966,34.98466 L -113.7835,34.98837 L -113.78842,34.9902 L -113.79345,35.001 L -113.79803,35.00603 L -113.7984,35.01063 L -113.80009,35.01153 L -113.80118,35.01587 L -113.80365,35.01603 L -113.80997,35.02125 L -113.81442,35.02121 L -113.81628,35.01514 L -113.81937,35.01473 L -113.82783,35.01681 L -113.83072,35.01599 L -113.85406,35.01884 L -113.86438,35.0152 L -113.86808,35.01669 L -113.8754,35.01534 L -113.87681,35.01353 L -113.86985,35.00973 L -113.8728,35.00311 L -113.87795,35.0046 L -113.88037,35.0031 L -113.89244,35.00717 L -113.89589,35.00667 L -113.89712,35.00139 L -113.90789,35.00353 L -113.91589,35.00327 L -113.92133,35.00598 L -113.92712,35.00533 L -113.92732,35.00828 L -113.9343,35.00858 L -113.93488,35.01162 L -113.94006,35.01583 L -113.95085,35.01901 L -113.96961,35.03704 L -113.99367,35.04188 L -113.98772,35.04518 L -113.98692,35.04708 L -113.98904,35.05612 L -113.98687,35.05978 L -113.9918,35.0633 L -113.99186,35.06676 L -113.99467,35.06797 L -113.99011,35.08017 L -113.99315,35.08637 L -113.9978,35.09026 L -113.99391,35.09445 L -113.995,35.09914 L -114.00129,35.10497 L -114.00363,35.10502 L -114.009,35.10903 L -114.01474,35.10254 L -114.03179,35.08922 L -114.04847,35.08341 L -114.05685,35.07524 L -114.0694,35.06929 L -114.10163,35.06366 L -114.12407,35.06702 L -114.12685,35.05236 L -114.13176,35.05184 L -114.14281,35.04564 L -114.15356,35.04272 L -114.1558,35.032 L -114.16202,35.02633 L -114.16892,35.02507 L -114.17454,35.01851 L -114.18097,35.01537 L -114.18177,35.01062 L -114.19193,35.01066 L -114.19193,35.01327 L -114.19504,35.01253 L -114.1971,35.00791 L -114.20441,35.004 L -114.20791,34.99819 L -114.21251,35.00516 L -114.21187,35.00827 L -114.21462,35.01416 L -114.21621,35.0256 L -114.26058,35.02854 L -114.26676,35.03104 L -114.27808,35.02919 L -114.29879,35.02885 L -114.3029,35.02731 L -114.31147,35.02912 L -114.31183,35.03533 L -114.31506,35.04274 L -114.30774,35.04851 L -114.30693,35.05027 L -114.30909,35.05546 L -114.32848,35.07334 L -114.33167,35.0809 L -114.34128,35.09121 L -114.34434,35.10144 L -114.35423,35.11141 L -114.35478,35.11729 L -114.36455,35.129 L -114.37681,35.12678 L -114.38172,35.13456 L -114.38022,35.13905 L -114.38197,35.1434 L -114.3783,35.15494 L -114.3798,35.16156 L -114.38843,35.17189 L -114.39413,35.17239 L -114.40412,35.16864 L -114.42244,35.17804 L -114.42375,35.18152 L -114.44134,35.18394 L -114.44326,35.18614 L -114.49594,35.1846 L -114.51691,35.19087 L -114.5482,35.18768 L -114.55823,35.19679 L -114.57118,35.19952 L -114.57404,35.2059 L -114.57916,35.20964 L -114.57979,35.21921 L -114.58276,35.22993 L -114.58231,35.23809 L -114.58584,35.25 L -114.58633,35.26238 L -114.591,35.27674 L -114.5967,35.29696 L -114.59513,35.32524 L -114.60351,35.35359 L -114.61717,35.37967 L -114.62087,35.39721 L -114.62634,35.40951 L -114.6512,35.42917 L -114.65619,35.43986 L -114.66132,35.44425 L -114.6637,35.4495 L -114.66364,35.4542 L -114.66688,35.46041 L -114.66557,35.46686 L -114.67205,35.47329 L -114.67268,35.48379 L -114.67684,35.48975 L -114.67617,35.49214 L -114.6784,35.5003 L -114.6764,35.5135 L -114.6688,35.5209 L -114.6634,35.5219 L -114.6572,35.5305 L -114.6561,35.5344 L -114.6612,35.5455 L -114.6604,35.5489 L -114.6626,35.5647 L -114.6669,35.574 L -114.6747,35.58 L -114.6698,35.5837 L -114.6588,35.5875 L -114.6535,35.5976 L -114.6526,35.6108 L -114.6574,35.6191 L -114.6646,35.6219 L -114.6763,35.6415 L -114.6886,35.65142 L -114.6892,35.6647 L -114.6814,35.6782 L -114.6798,35.6855 L -114.6824,35.6894 L -114.6933,35.6952 L -114.7004,35.7012 L -114.7046,35.7083 L -114.6967,35.7328 L -114.6955,35.7455 L -114.6972,35.7513 L -114.6959,35.7554 L -114.6936,35.7569 L -114.7006,35.7691 L -114.6981,35.7902 L -114.7113,35.8062 L -114.7091,35.8102 L -114.7029,35.8146 L -114.695,35.8296 L -114.6956,35.8338 L -114.7042,35.8449 L -114.7038,35.8517 L -114.6938,35.8541 L -114.6881,35.8604 L -114.6704,35.8653 L -114.6616,35.8696 L -114.6609,35.8714 L -114.6627,35.8743 L -114.67097,35.87741 L -114.67782,35.88514 L -114.69946,35.90179 L -114.7077,35.91233 L -114.70671,35.92808 L -114.71488,35.93473 L -114.72854,35.94143 L -114.73035,35.94393 L -114.7275,35.95631 L -114.72913,35.9622 L -114.73978,35.97568 L -114.74276,35.98374 L -114.74239,35.9876 L -114.73906,35.99273 L -114.74222,36.00867 L -114.73796,36.01508 L -114.72329,36.02671 L -114.72105,36.03142 L -114.73302,36.03812 L -114.74307,36.04024 L -114.74276,36.04458 L -114.73952,36.04983 L -114.73504,36.05344 L -114.73465,36.0567 L -114.73947,36.0625 L -114.74253,36.07056 L -114.75423,36.08072 L -114.75507,36.08586 L -114.75282,36.09073 L -114.74626,36.09703 L -114.73535,36.10439 L -114.70264,36.10903 L -114.69303,36.11319 L -114.68098,36.10986 L -114.67208,36.11637 L -114.6646,36.11673 L -114.65914,36.12417 L -114.64484,36.13295 L -114.63637,36.13607 L -114.6309,36.14233 L -114.62704,36.14103 L -114.62107,36.13215 L -114.61588,36.13012 L -114.59978,36.13948 L -114.5964,36.14212 L -114.58126,36.14627 L -114.57122,36.15163 L -114.53917,36.1522 L -114.53173,36.1482 L -114.51245,36.15124 L -114.50409,36.14721 L -114.5009,36.1434 L -114.50079,36.14121 L -114.50645,36.13821 L -114.50965,36.13371 L -114.50915,36.13002 L -114.50708,36.12816 L -114.5,36.12697 L -114.48742,36.12908 L -114.46934,36.13882 L -114.46283,36.13971 L -114.45756,36.13861 L -114.45252,36.13074 L -114.4458,36.12599 L -114.42636,36.13632 L -114.41614,36.14578 L -114.41157,36.14727 L -114.40016,36.14659 L -114.38201,36.14168 L -114.376,36.14413 L -114.3713,36.14313 L -114.36231,36.13026 L -114.34515,36.11834 L -114.33647,36.10804 L -114.32797,36.10552 L -114.32197,36.09652 L -114.30763,36.08246 L -114.30494,36.0749 L -114.30708,36.07131 L -114.3134,36.06664 L -114.31531,36.06313 L -114.31476,36.05951 L -114.30999,36.05728 L -114.29749,36.05691 L -114.29074,36.05034 L -114.2794,36.04638 L -114.27236,36.04642 L -114.27036,36.04395 L -114.26985,36.03574 L -114.26235,36.02595 L -114.24425,36.01653 L -114.23553,36.01433 L -114.21289,36.01563 L -114.19158,36.02101 L -114.17603,36.02767 L -114.16567,36.02775 L -114.15333,36.02388 L -114.1496,36.02558 L -114.14706,36.0292 L -114.14742,36.03353 L -114.13741,36.0413 L -114.1361,36.05948 L -114.125,36.07755 L -114.1211,36.08682 L -114.11345,36.09608 L -114.11666,36.10091 L -114.12243,36.10476 L -114.12235,36.11159 L -114.12007,36.11461 L -114.11022,36.11989 L -114.09908,36.12167 L -114.09138,36.14005 L -114.08517,36.14723 L -114.06723,36.18068 L -114.05951,36.18938 L -114.04604,36.19408 L -114.03062,36.18869 L -114.02519,36.18944 L -114.01434,36.19568 L -114.00862,36.197 L -114.00072,36.19335 L -114.00128,36.18095 L -113.98498,36.17134 L -113.98295,36.16008 L -113.98799,36.13939 L -113.98448,36.12753 L -113.97573,36.12356 L -113.9691,36.12908 L -113.95561,36.13228 L -113.93236,36.13061 L -113.92688,36.12228 L -113.92257,36.09844 L -113.91357,36.09323 L -113.89696,36.09207 L -113.89386,36.08708 L -113.89464,36.07718 L -113.89286,36.07146 L -113.88869,36.06589 L -113.8796,36.05943 L -113.86873,36.0547 L -113.8456,36.04984 L -113.8201,36.04775 L -113.80978,36.04851 L -113.79487,36.02908 L -113.78549,36.02824 L -113.78228,36.02609 L -113.78391,36.01134 L -113.78016,36.00224 L -113.77887,35.9912 L -113.77604,35.98504 L -113.77215,35.98147 L -113.76842,35.97267 L -113.75824,35.96828 L -113.74878,35.96854 L -113.73678,35.95534 L -113.73993,35.94784 L -113.73886,35.9406 L -113.72272,35.93995 L -113.71269,35.92782 L -113.71585,35.90735 L -113.71134,35.89411 L -113.71295,35.88514 L -113.70713,35.8796 L -113.6806,35.87538 L -113.67488,35.8688 L -113.66799,35.86573 L -113.66294,35.8555 L -113.65507,35.84837 L -113.65536,35.83624 L -113.64651,35.82441 L -113.63587,35.81883 L -113.63087,35.81943 L -113.62736,35.82234 L -113.625,35.82924 L -113.61816,35.83681 L -113.613,35.84828 L -113.6087,35.84995 L -113.60504,35.84937 L -113.57618,35.82836 L -113.56784,35.82031 L -113.56653,35.81192 L -113.56228,35.80423 L -113.5426,35.79565 L -113.52749,35.77838 L -113.5134,35.76756 L -113.49904,35.76558 L -113.48567,35.76669 L -113.46844,35.76488 L -113.43652,35.75297 L -113.41877,35.75084 L -113.38968,35.75264 L -113.38309,35.75456 L -113.37694,35.76339 L -113.36794,35.77131 L -113.357,35.77585 L -113.34061,35.78806 L -113.33669,35.79349 L -113.33326,35.80304 L -113.32875,35.81303 L -113.3325,35.82169 L -113.32508,35.82986 L -113.32613,35.84071 L -113.31427,35.85448 L -113.30986,35.86241 L -113.31194,35.875 L -113.30846,35.88734 L -113.31042,35.89327 L -113.32212,35.89882 L -113.32709,35.9077 L -113.33409,35.91387 L -113.33338,35.91873 L -113.32802,35.92602 L -113.32475,35.93466 L -113.32475,35.93992 L -113.32789,35.95015 L -113.32493,35.95503 L -113.31665,35.96083 L -113.31826,35.9658 L -113.3165,35.96863 L -113.31861,35.97392 L -113.32107,35.97596 L -113.33379,35.97946 L -113.33901,35.98517 L -113.34065,35.99072 L -113.33937,36.0033 L -113.34307,36.01002 L -113.3476,36.01313 L -113.35094,36.03427 L -113.35341,36.04039 L -113.35129,36.04751 L -113.34501,36.05677 L -113.33001,36.06834 L -113.32541,36.07844 L -113.32289,36.09085 L -113.31921,36.09679 L -113.31267,36.10002 L -113.30806,36.09958 L -113.29982,36.09575 L -113.27632,36.09706 L -113.2564,36.08852 L -113.24548,36.09335 L -113.23038,36.08954 L -113.22298,36.09194 L -113.21768,36.0994 L -113.21507,36.10763 L -113.20091,36.11906 L -113.20453,36.13321 L -113.20016,36.14413 L -113.20079,36.14781 L -113.20051,36.14959 L -113.19599,36.15297 L -113.17181,36.16275 L -113.16695,36.16594 L -113.16435,36.17035 L -113.15612,36.17432 L -113.14521,36.17301 L -113.13632,36.16644 L -113.125,36.17055 L -113.1206,36.1738 L -113.11333,36.18324 L -113.09471,36.19359 L -113.08641,36.19542 L -113.0615,36.20718 L -113.052,36.20938 L -113.03751,36.22663 L -113.01835,36.23672 L -113.00559,36.23877 L -112.98895,36.23258 L -112.98045,36.23179 L -112.93826,36.24168 L -112.92934,36.24609 L -112.92682,36.25302 L -112.92265,36.25776 L -112.91433,36.25816 L -112.9022,36.25373 L -112.89749,36.25478 L -112.88358,36.26384 L -112.87771,36.27628 L -112.8754,36.27826 L -112.87527,36.25 L -112.87518,36.15742 L -112.8639,36.16383 L -112.86194,36.17609 L -112.84902,36.19978 L -112.84288,36.20178 L -112.83998,36.20612 L -112.8359,36.21921 L -112.83894,36.22726 L -112.845,36.232 L -112.84535,36.23392 L -112.83468,36.23461 L -112.82702,36.22887 L -112.81894,36.23019 L -112.81097,36.24039 L -112.80383,36.23949 L -112.79123,36.24513 L -112.78847,36.24779 L -112.78753,36.25688 L -112.78585,36.25808 L -112.76718,36.26158 L -112.73548,36.28014 L -112.72827,36.28278 L -112.70953,36.27677 L -112.65784,36.2721 L -112.65402,36.27472 L -112.65415,36.27723 L -112.66381,36.2854 L -112.66261,36.28687 L -112.64884,36.2781 L -112.63939,36.27494 L -112.62163,36.25604 L -112.61739,36.2553 L -112.6161,36.25607 L -112.61379,36.26935 L -112.60901,36.27169 L -112.59999,36.2731 L -112.59982,36.27572 L -112.6045,36.28088 L -112.60291,36.28363 L -112.59877,36.28044 L -112.58957,36.26803 L -112.58713,36.26706 L -112.58367,36.26833 L -112.58188,36.27219 L -112.58319,36.27849 L -112.57687,36.28321 L -112.5786,36.28801 L -112.58553,36.29077 L -112.59,36.29613 L -112.59519,36.29747 L -112.60845,36.29711 L -112.60986,36.29976 L -112.60487,36.30177 L -112.59406,36.30029 L -112.58849,36.30341 L -112.59114,36.308 L -112.58671,36.31561 L -112.58874,36.31913 L -112.5965,36.324 L -112.59596,36.3249 L -112.57584,36.3252 L -112.56909,36.32875 L -112.56917,36.33284 L -112.57298,36.33566 L -112.56291,36.33978 L -112.56244,36.3434 L -112.56302,36.34702 L -112.57243,36.35745 L -112.56591,36.35456 L -112.55994,36.34651 L -112.54765,36.34168 L -112.52777,36.34348 L -112.51727,36.34776 L -112.51185,36.35204 L -112.51029,36.35774 L -112.5069,36.35315 L -112.5,36.34828 L -112.49621,36.34635 L -112.49155,36.34661 L -112.48907,36.34422 L -112.4889,36.34278 L -112.49111,36.34187 L -112.50179,36.34043 L -112.50866,36.33746 L -112.51942,36.32654 L -112.52196,36.3257 L -112.52623,36.32862 L -112.53276,36.32883 L -112.53634,36.33328 L -112.54297,36.33577 L -112.54815,36.33569 L -112.56307,36.32633 L -112.56725,36.31912 L -112.56861,36.30853 L -112.56501,36.28844 L -112.56326,36.26075 L -112.55915,36.25389 L -112.55924,36.26361 L -112.54788,36.2627 L -112.54362,36.26469 L -112.52815,36.26638 L -112.52959,36.26189 L -112.52705,36.25626 L -112.52115,36.24802 L -112.51545,36.24502 L -112.46641,36.23896 L -112.45932,36.23406 L -112.45533,36.22884 L -112.45332,36.2192 L -112.45425,36.20304 L -112.45083,36.19848 L -112.44643,36.19782 L -112.42942,36.20148 L -112.42598,36.20375 L -112.42391,36.20776 L -112.42156,36.22724 L -112.41492,36.23484 L -112.39409,36.24377 L -112.38041,36.24545 L -112.36736,36.24181 L -112.35778,36.24282 L -112.35405,36.24033 L -112.35198,36.23667 L -112.34331,36.23701 L -112.33963,36.23358 L -112.33434,36.21817 L -112.32643,36.20432 L -112.30976,36.1831 L -112.30615,36.16643 L -112.30629,36.16025 L -112.30053,36.15164 L -112.2828,36.1441 L -112.2734,36.14293 L -112.26141,36.14501 L -112.24805,36.13846 L -112.24471,36.13495 L -112.23825,36.1329 L -112.23379,36.12818 L -112.22767,36.11145 L -112.21694,36.10276 L -112.19983,36.09693 L -112.18372,36.09871 L -112.1749,36.09778 L -112.16536,36.09983 L -112.15685,36.10494 L -112.1463,36.1063 L -112.13952,36.10403 L -112.13119,36.09804 L -112.12406,36.09629 L -112.10387,36.10097 L -112.09365,36.09724 L -112.0866,36.10097 L -112.07942,36.10026 L -112.0556,36.0884 L -112.03106,36.08016 L -112.01827,36.06764 L -111.99648,36.05548 L -111.9827,36.05002 L -111.96823,36.05009 L -111.94494,36.04361 L -111.93219,36.04662 L -111.921,36.0463 L -111.91624,36.04446 L -111.90504,36.04609 L -111.90213,36.05196 L -111.89419,36.05999 L -111.89075,36.06612 L -111.88004,36.06793 L -111.86991,36.0744 L -111.87045,36.07919 L -111.8769,36.08203 L -111.87584,36.08595 L -111.86759,36.08774 L -111.85649,36.08733 L -111.85162,36.08946 L -111.84884,36.09352 L -111.83963,36.09438 L -111.83761,36.0979 L -111.84039,36.10106 L -111.83212,36.10394 L -111.82985,36.10247 L -111.82748,36.10327 L -111.82558,36.10686 L -111.8292,36.11316 L -111.81783,36.13101 L -111.81528,36.14111 L -111.81456,36.15253 L -111.81065,36.16237 L -111.81103,36.16813 L -111.81454,36.17745 L -111.81329,36.18164 L -111.80167,36.19337 L -111.79856,36.19378 L -111.80046,36.20478 L -111.8231,36.23821 L -111.82522,36.26338 L -111.82904,36.26502 L -111.83818,36.27762 L -111.84395,36.28126 L -111.85275,36.2916 L -111.85484,36.29224 L -111.85767,36.2962 L -111.85462,36.30129 L -111.85465,36.30553 L -111.86433,36.31138 L -111.86346,36.3178 L -111.85792,36.3287 L -111.86036,36.33708 L -111.86993,36.34577 L -111.87384,36.35374 L -111.88519,36.36231 L -111.89147,36.3714 L -111.88925,36.37607 L -111.88588,36.37804 L -111.85118,36.38546 L -111.84688,36.3889 L -111.84861,36.39426 L -111.85433,36.39645 L -111.87056,36.39212 L -111.87729,36.39267 L -111.88176,36.39562 L -111.88295,36.39998 L -111.86765,36.41266 L -111.87132,36.425 L -111.86942,36.43082 L -111.86569,36.43315 L -111.85098,36.43568 L -111.8488,36.44532 L -111.83883,36.4494 L -111.83509,36.45437 L -111.8383,36.46659 L -111.84692,36.4801 L -111.84026,36.49027 L -111.84018,36.49304 L -111.84384,36.49622 L -111.85385,36.49723 L -111.85805,36.5 L -111.85519,36.5052 L -111.84918,36.51081 L -111.8452,36.52043 L -111.83618,36.52895 L -111.82732,36.53469 L -111.82451,36.54919 L -111.81667,36.55718 L -111.80966,36.5681 L -111.80415,36.57266 L -111.78885,36.57893 L -111.77124,36.59303 L -111.76505,36.60061 L -111.76425,36.60489 L -111.75663,36.61608 L -111.7627,36.6261 L -111.7598,36.63624 L -111.76028,36.64691 L -111.75604,36.65048 L -111.74499,36.65524 L -111.74198,36.65856 L -111.73915,36.67267 L -111.74057,36.67374 L -111.75946,36.67301 L -111.76532,36.66999 L -111.77192,36.6628 L -111.77817,36.65956 L -111.78511,36.65317 L -111.79682,36.64855 L -111.79895,36.65253 L -111.79934,36.6504 L -111.80403,36.64894 L -111.80494,36.64568 L -111.80926,36.64665 L -111.81563,36.64509 L -111.81761,36.64742 L -111.81864,36.64317 L -111.82239,36.6392 L -111.82582,36.64172 L -111.82594,36.63806 L -111.83367,36.64206 L -111.83528,36.64142 L -111.83521,36.63808 L -111.83792,36.63601 L -111.85645,36.63743 L -111.86494,36.64098 L -111.86859,36.641 L -111.87224,36.64358 L -111.87981,36.64233 L -111.89792,36.64706 L -111.90626,36.65335 L -111.91553,36.65507 L -111.93761,36.66295 L -111.94785,36.67174 L -111.95927,36.67183 L -111.96774,36.67515 L -112.02244,36.70912 L -112.04532,36.73141 L -112.05044,36.75544 L -112.058,36.77685 L -112.06213,36.78264 L -112.05922,36.78383 L -112.06145,36.7855 L -112.0635,36.79331 L -112.06717,36.79683 L -112.06583,36.80073 L -112.06765,36.80498 L -112.06683,36.80702 L -112.06996,36.81458 L -112.06919,36.81586 L -112.07178,36.8168 L -112.07005,36.8268 L -112.06373,36.83942 L -112.06239,36.87282 L -112.0576,36.88591 L -112.05592,36.89757 L -112.04822,36.91359 L -112.04799,36.92087 L -112.04511,36.92536 L -112.04605,36.92735 L -112.04048,36.93319 L -112.03694,36.94894 L -112.03437,36.95114 L -112.03509,36.95448 L -112.03186,36.95968 L -112.0328,36.96162 L -112.03126,36.96286 L -112.03309,36.96391 L -112.03397,36.96774 L -112.0318,36.98079 L -112.03331,36.99015 L -112.03216,37.00111 L -111.41205,37.00152 L -111.41096,37.00151 L -111.23432,37.0011 L -111.14249,37.00082 L -111.13965,37.0008 L -111.06579,37.0024 L -110.75,37.0032 L -110.5,37.00426 L -110.49022,37.00357 L -110.4695,36.998 L -110.37917,36.99815 L -110.17532,36.9984 L -110.0,36.99797 L -109.70948,36.99843 L -109.69858,36.99842 L -109.6994,36.9964 L -109.70268,36.9958 L -109.70074,36.99402 L -109.70145,36.99244 L -109.69923,36.99058 L -109.69586,36.99024 L -109.69443,36.99159 L -109.68884,36.98862 L -109.69052,36.98452 L -109.69381,36.98342 L -109.69209,36.98111 L -109.69249,36.97857 L -109.68425,36.97717 L -109.68542,36.97641 L -109.68373,36.97479 L -109.68704,36.97238 L -109.68773,36.96771 L -109.68995,36.9652 L -109.69352,36.96645 L -109.69195,36.96094 L -109.69358,36.96133 L -109.69375,36.96355 L -109.6954,36.9624 L -109.69209,36.95537 L -109.69543,36.95652 L -109.69728,36.95256 L -109.69891,36.95263 L -109.69797,36.9551 L -109.69925,36.95508 L -109.7023,36.95043 L -109.7041,36.95052 L -109.70353,36.94841 L -109.70906,36.94535 L -109.71117,36.94074 L -109.71514,36.94276 L -109.72067,36.93994 L -109.72072,36.93708 L -109.72398,36.93836 L -109.72423,36.9355 L -109.72711,36.93605 L -109.72483,36.93296 L -109.72722,36.93193 L -109.72725,36.93007 L -109.72865,36.92961 L -109.72882,36.9317 L -109.73515,36.92888 L -109.73264,36.92659 L -109.7309,36.92013 L -109.73315,36.9197 L -109.7303,36.91798 L -109.73203,36.91652 L -109.73035,36.9134 L -109.73252,36.91537 L -109.73394,36.9142 L -109.73343,36.91081 L -109.73132,36.90969 L -109.73368,36.90777 L -109.73767,36.90797 L -109.73622,36.90488 L -109.73793,36.90133 L -109.73539,36.90074 L -109.73935,36.89994 L -109.73847,36.89785 L -109.74135,36.89815 L -109.74305,36.89396 L -109.73664,36.89188 L -109.73191,36.89394 L -109.73057,36.89152 L -109.73379,36.88845 L -109.73242,36.88682 L -109.73529,36.88524 L -109.72877,36.88435 L -109.73102,36.88087 L -109.73036,36.87959 L -109.73324,36.87892 L -109.73101,36.87602 L -109.73563,36.87538 L -109.7297,36.87307 L -109.73169,36.87256 L -109.72958,36.86853 L -109.73163,36.86466 L -109.73702,36.86471 L -109.73457,36.86285 L -109.73815,36.85953 L -109.73314,36.8585 L -109.73604,36.85724 L -109.73439,36.85269 L -109.73245,36.85299 L -109.7343,36.8487 L -109.73145,36.84774 L -109.73373,36.84708 L -109.73376,36.84355 L -109.72857,36.84092 L -109.72515,36.83401 L -109.72196,36.83598 L -109.72005,36.83261 L -109.71515,36.83078 L -109.71735,36.83053 L -109.71199,36.82431 L -109.71034,36.82417 L -109.71105,36.81943 L -109.70937,36.81865 L -109.71147,36.81155 L -109.70706,36.81174 L -109.70999,36.80714 L -109.70213,36.80737 L -109.69883,36.80464 L -109.7023,36.80359 L -109.70176,36.80178 L -109.69442,36.79899 L -109.69023,36.80093 L -109.6908,36.79832 L -109.69285,36.79876 L -109.6908,36.79574 L -109.6881,36.79803 L -109.68736,36.79651 L -109.68386,36.79647 L -109.68389,36.7939 L -109.67871,36.79471 L -109.67444,36.79182 L -109.67202,36.79342 L -109.67242,36.78969 L -109.6754,36.79047 L -109.67358,36.78926 L -109.67444,36.78763 L -109.67162,36.78719 L -109.67059,36.78889 L -109.66561,36.78731 L -109.66718,36.78584 L -109.66476,36.78264 L -109.66795,36.78312 L -109.66875,36.78081 L -109.66351,36.77806 L -109.66354,36.77385 L -109.66587,36.77215 L -109.66115,36.76993 L -109.66445,36.76606 L -109.66232,36.76469 L -109.65848,36.76572 L -109.6593,36.76137 L -109.66158,36.76162 L -109.66374,36.75949 L -109.664,36.75583 L -109.6611,36.75283 L -109.66511,36.75251 L -109.6615,36.75029 L -109.65811,36.75265 L -109.65626,36.75221 L -109.65847,36.7473 L -109.66329,36.74635 L -109.66456,36.7404 L -109.66157,36.73468 L -109.65723,36.73468 L -109.65713,36.72855 L -109.65242,36.72868 L -109.65127,36.7229 L -109.6606,36.71062 L -109.65788,36.70738 L -109.65756,36.7043 L -109.66021,36.69986 L -109.65352,36.70411 L -109.65515,36.69945 L -109.64734,36.70399 L -109.64366,36.70978 L -109.64297,36.71416 L -109.64077,36.71262 L -109.63866,36.71411 L -109.63785,36.71272 L -109.63531,36.71302 L -109.63537,36.71015 L -109.63798,36.71043 L -109.64219,36.70376 L -109.64124,36.69946 L -109.64298,36.69484 L -109.64061,36.6948 L -109.64118,36.69252 L -109.64843,36.6888 L -109.65004,36.69034 L -109.65441,36.68642 L -109.65343,36.68497 L -109.65021,36.6857 L -109.64202,36.69014 L -109.63183,36.70094 L -109.62999,36.69977 L -109.63193,36.69192 L -109.62994,36.68537 L -109.63577,36.67704 L -109.63595,36.67127 L -109.63933,36.66447 L -109.65509,36.64626 L -109.69485,36.61449 L -109.71726,36.60329 L -109.71711,36.60164 L -109.72416,36.59864 L -109.72855,36.59289 L -109.73783,36.58801 L -109.74955,36.57326 L -109.77288,36.55614 L -109.77675,36.548 L -109.78296,36.5434 L -109.78455,36.54026 L -109.78813,36.53884 L -109.78822,36.53577 L -109.79185,36.53108 L -109.79534,36.5219 L -109.80825,36.50709 L -109.82069,36.49957 L -109.84089,36.50976 L -109.84231,36.51496 L -109.85134,36.50894 L -109.85035,36.50785 L -109.85423,36.50619 L -109.85393,36.50484 L -109.84811,36.50675 L -109.84886,36.50497 L -109.85509,36.50186 L -109.85905,36.49861 L -109.85904,36.49663 L -109.85382,36.49997 L -109.85215,36.49739 L -109.84659,36.50245 L -109.84248,36.50175 L -109.84277,36.50062 L -109.84522,36.49646 L -109.85416,36.49224 L -109.85356,36.49026 L -109.85985,36.48458 L -109.87315,36.4788 L -109.87379,36.47722 L -109.87199,36.47566 L -109.87296,36.47255 L -109.87061,36.47056 L -109.87725,36.46547 L -109.87683,36.46166 L -109.87798,36.46269 L -109.8824,36.46134 L -109.88762,36.45747 L -109.8908,36.45003 L -109.88981,36.44241 L -109.89596,36.44612 L -109.90215,36.44479 L -109.90406,36.44314 L -109.90318,36.44106 L -109.9065,36.44147 L -109.90772,36.43944 L -109.91418,36.43788 L -109.91361,36.43683 L -109.91891,36.43268 L -109.93117,36.42713 L -109.93672,36.42121 L -109.94029,36.41977 L -109.94345,36.41972 L -109.94937,36.42287 L -109.95864,36.43349 L -109.96333,36.44275 L -109.9718,36.44497 L -109.97847,36.45239 L -109.98471,36.45382 L -109.98922,36.45305 L -109.99223,36.45479 L -109.99629,36.45323 L -110.0,36.4555 L -110.0,36.45935 L -110.01582,36.4526 L -110.02283,36.44326 L -110.02331,36.43978 L -110.02762,36.43588 L -110.03875,36.44413 L -110.04261,36.44416 L -110.04894,36.44747 L -110.05545,36.44751 L -110.06645,36.45194 L -110.08269,36.46322 L -110.09212,36.47188 L -110.10619,36.46856 L -110.11626,36.46038 L -110.14085,36.44919 L -110.16411,36.43216 L -110.16867,36.43259 L -110.17241,36.43737 L -110.17398,36.43681 L -110.17478,36.44516 L -110.17809,36.44929 L -110.18247,36.44964 L -110.1807,36.45387 L -110.18323,36.46198 L -110.19501,36.46426 L -110.19691,36.46252 L -110.19816,36.46419 L -110.20961,36.46071 L -110.22435,36.44554 L -110.23563,36.43836 L -110.24151,36.43565 L -110.24972,36.4344 L -110.24545,36.43858 L -110.24002,36.45413 L -110.24734,36.46416 L -110.25578,36.46336 L -110.25886,36.46757 L -110.26952,36.47231 L -110.28863,36.47166 L -110.29161,36.47326 L -110.29203,36.4706 L -110.30635,36.47493 L -110.31259,36.47459 L -110.31993,36.47988 L -110.33521,36.48372 L -110.34026,36.48075 L -110.34343,36.4821 L -110.34462,36.48008 L -110.34774,36.4823 L -110.35044,36.47896 L -110.35418,36.47971 L -110.35645,36.47735 L -110.36455,36.47499 L -110.36705,36.47142 L -110.37141,36.47215 L -110.37314,36.46903 L -110.37944,36.46922 L -110.37956,36.46642 L -110.3871,36.46446 L -110.38653,36.46269 L -110.38917,36.46254 L -110.38974,36.45956 L -110.39782,36.45736 L -110.39799,36.45478 L -110.40028,36.45505 L -110.39912,36.45361 L -110.40179,36.45304 L -110.40445,36.44793 L -110.40712,36.44903 L -110.40703,36.44667 L -110.40907,36.44509 L -110.41355,36.44498 L -110.415,36.44175 L -110.41661,36.44308 L -110.41837,36.44232 L -110.42563,36.43385 L -110.42483,36.43156 L -110.42869,36.43106 L -110.43019,36.42847 L -110.43659,36.42513 L -110.43931,36.42566 L -110.44042,36.42272 L -110.44432,36.42021 L -110.45623,36.4157 L -110.45413,36.4128 L -110.43386,36.4052 L -110.4225,36.39906 L -110.38803,36.40525 L -110.36037,36.42725 L -110.31824,36.43055 L -110.31238,36.43057 L -110.30987,36.42891 L -110.30787,36.42361 L -110.30621,36.42258 L -110.32365,36.39043 L -110.32182,36.38499 L -110.32342,36.38217 L -110.33148,36.37496 L -110.37632,36.35106 L -110.37858,36.33858 L -110.37842,36.33318 L -110.37681,36.33094 L -110.37881,36.32781 L -110.38105,36.31569 L -110.38038,36.31232 L -110.38403,36.30257 L -110.3857,36.30071 L -110.38867,36.30216 L -110.39383,36.3019 L -110.40373,36.29922 L -110.41584,36.28782 L -110.42075,36.27977 L -110.42571,36.25797 L -110.4327,36.24938 L -110.4367,36.23582 L -110.43643,36.21103 L -110.45083,36.15907 L -110.46469,36.14645 L -110.47365,36.13496 L -110.51013,36.15975 L -110.52955,36.1568 L -110.57736,36.13436 L -110.61593,36.09958 L -110.61605,36.04374 L -110.61605,36.04145 L -110.54467,36.04148 L -110.54472,36.01387 L -110.53659,36.02124 L -110.53096,36.01935 L -110.52847,36.01575 L -110.5,36.01575 L -110.5,36.07051 L -110.46941,36.07008 L -110.46418,36.07927 L -110.46501,36.08299 L -110.46323,36.09232 L -110.46429,36.09937 L -110.42433,36.09915 L -110.42471,36.06994 L -110.40236,36.07055 L -110.40216,36.04159 L -110.29102,36.04128 L -110.28542,36.03525 L -110.28936,36.02653 L -110.30157,36.00931 L -110.31893,36.00042 L -110.25153,36.0 L -110.15995,35.96525 L -110.14871,35.97337 L -110.14502,35.9744 L -110.13979,35.99207 L -110.12348,35.99385 L -110.12224,35.98248 L -110.12392,35.92701 L -110.11918,35.92388 L -110.11851,35.91189 L -110.10944,35.91154 L -110.10385,35.91508 L -110.10075,35.90959 L -110.09872,35.90922 L -110.08751,35.91524 L -110.08255,35.91318 L -110.07494,35.91316 L -110.07672,35.92066 L -110.08095,35.92091 L -110.08174,35.92418 L -110.08517,35.92759 L -110.07577,35.93011 L -110.06144,35.93087 L -110.06113,35.92633 L -110.05736,35.92493 L -110.05802,35.92141 L -110.05217,35.92394 L -110.05092,35.9177 L -110.04871,35.91649 L -110.04583,35.91107 L -110.04209,35.91501 L -110.04263,35.91996 L -110.04114,35.92364 L -110.03357,35.92376 L -110.02897,35.92742 L -110.02427,35.92506 L -110.01906,35.92505 L -110.0202,35.92063 L -110.0256,35.9148 L -110.0245,35.9088 L -110.03008,35.90255 L -110.03371,35.8952 L -110.0405,35.88982 L -110.04043,35.88083 L -110.05375,35.86622 L -110.05407,35.84383 L -110.0,35.84426 L -110.0,35.66265 L -109.82628,35.66248 L -109.82622,35.51767 L -109.84309,35.51786 L -109.84302,35.17072 L -109.84302,35.17038 L -109.8442,35.01867 L -109.84254,34.95315 L -109.84416,34.9095 L -109.84396,34.82253 L -109.77181,34.82214 L -109.31331,34.82137 L -109.16471,34.81089 L -109.15569,34.81201 L -109.15635,34.81359 L -109.15457,34.81407 L -109.15316,34.81297 L -109.15224,34.81524 L -109.14905,34.8156 L -109.14069,34.82249 L -109.13486,34.82469 L -109.13461,34.82688 L -109.13261,34.82565 L -109.12908,34.82633 L -109.12201,34.83151 L -109.12178,34.82965 L -109.11856,34.82938 L -109.10579,34.83925 L -109.09924,34.83994 L -109.09849,34.84493 L -109.0978,34.84361 L -109.0883,34.84482 L -109.08191,34.84922 L -109.07305,34.84711 L -109.06508,34.85341 L -109.06525,34.85678 L -109.05428,34.86337 L -109.05353,34.86564 L -109.04766,34.86756 L -109.04542,34.87069 L -109.04552,34.57925 L -109.04615,34.16692 L -109.0462,34.04535 L -109.04617,33.95564 L -109.04626,33.82343 L -109.04632,33.77818 L -109.34708,33.77747 L -109.34686,33.77562 L -109.35495,33.76897 L -109.35391,33.76476 L -109.3624,33.75172 L -109.363,33.74832 L -109.3611,33.74596 L -109.36423,33.73991 L -109.36083,33.73558 L -109.35723,33.73501 L -109.35232,33.72919 L -109.35243,33.72493 L -109.35512,33.72521 L -109.35641,33.72759 L -109.36038,33.72798 L -109.36885,33.72243 L -109.3792,33.72412 L -109.39458,33.71637 L -109.3953,33.71273 L -109.3976,33.7133 L -109.39828,33.71662 L -109.40034,33.71758 L -109.40437,33.71035 L -109.40955,33.71573 L -109.41155,33.70895 L -109.41319,33.7079 L -109.42141,33.71186 L -109.42319,33.71021 L -109.42594,33.71205 L -109.42931,33.71097 L -109.43966,33.7131 L -109.44304,33.71054 L -109.44835,33.71095 L -109.4489,33.70857 L -109.4452,33.70851 L -109.45252,33.7035 L -109.45589,33.6989 L -109.46104,33.69631 L -109.46112,33.69292 L -109.46556,33.69331 L -109.4715,33.69683 L -109.474,33.69525 L -109.47479,33.6901 L -109.48019,33.69081 L -109.47939,33.68781 L -109.48295,33.68666 L -109.48065,33.68368 L -109.48333,33.67253 L -109.47952,33.66855 L -109.47892,33.66463 L -109.48212,33.66138 L -109.4856,33.66195 L -109.48083,33.65508 L -109.48299,33.65423 L -109.48581,33.65663 L -109.48904,33.65512 L -109.48921,33.65906 L -109.4948,33.65283 L -109.4948,33.13926 L -109.49511,33.07835 L -109.51422,33.03453 L -109.51762,33.03621 L -109.51644,33.042 L -109.51797,33.04529 L -109.51538,33.04802 L -109.52066,33.05144 L -109.56065,33.05194 L -109.59415,33.01586 L -109.6003,33.0185 L -109.60311,33.02253 L -109.61551,33.02428 L -109.61968,33.02811 L -109.62996,33.02551 L -109.6429,33.01528 L -109.64571,33.01884 L -109.65435,33.01764 L -109.659,33.0142 L -109.6643,33.01452 L -109.67334,33.02203 L -109.67778,33.0218 L -109.69376,33.03525 L -109.70062,33.04411 L -109.7072,33.04439 L -109.71339,33.04034 L -109.71282,33.04461 L -109.71566,33.0482 L -109.71973,33.04873 L -109.72431,33.04683 L -109.73047,33.05084 L -109.73053,33.05616 L -109.73887,33.05633 L -109.73712,33.0662 L -109.73281,33.07169 L -109.7331,33.07375 L -109.73982,33.0789 L -109.74178,33.07943 L -109.74702,33.07494 L -109.74696,33.07235 L -109.75084,33.07342 L -109.7549,33.07099 L -109.75908,33.07174 L -109.76162,33.08039 L -109.76373,33.08185 L -109.76295,33.08841 L -109.76562,33.09041 L -109.76535,33.0934 L -109.7745,33.10084 L -109.77184,33.10437 L -109.77328,33.1087 L -109.76987,33.11321 L -109.76929,33.1196 L -109.76635,33.123 L -109.76956,33.12581 L -109.77295,33.12566 L -109.77957,33.12065 L -109.79,33.11748 L -109.79452,33.1236 L -109.79835,33.12482 L -109.80237,33.12252 L -109.80783,33.12198 L -109.8061,33.1178 L -109.81152,33.11676 L -109.81682,33.11871 L -109.81687,33.12237 L -109.82186,33.12544 L -109.82325,33.13033 L -109.8286,33.13196 L -109.83269,33.13522 L -109.83331,33.13822 L -109.83073,33.13955 L -109.83261,33.14696 L -109.83421,33.14783 L -109.83241,33.15786 L -109.83879,33.1571 L -109.849,33.16185 L -109.86549,33.15825 L -109.87252,33.15954 L -109.87292,33.15437 L -109.8805,33.15397 L -109.88238,33.14948 L -109.8855,33.14893 L -109.8873,33.14438 L -109.89323,33.14601 L -109.89054,33.1567 L -109.89228,33.15997 L -109.89961,33.16196 L -109.9017,33.16401 L -109.90848,33.16237 L -109.91054,33.1657 L -109.91624,33.16909 L -109.92055,33.16809 L -109.92332,33.17061 L -109.92524,33.1701 L -109.92822,33.17427 L -109.92668,33.17643 L -109.93371,33.18136 L -109.93739,33.18128 L -109.94381,33.18476 L -109.95076,33.19067 L -109.9513,33.19306 L -109.94243,33.1997 L -109.94882,33.21447 L -109.9452,33.21681 L -109.94925,33.21862 L -109.95115,33.22205 L -109.95022,33.22563 L -109.95198,33.23152 L -109.95835,33.23251 L -109.95988,33.23425 L -109.95958,33.23688 L -109.96393,33.23622 L -109.9724,33.24479 L -109.9767,33.24777 L -109.97989,33.24641 L -109.98167,33.24893 L -109.99079,33.2494 L -109.99064,33.24562 L -109.99861,33.24154 L -110.0,33.23562 L -110.01081,33.23966 L -110.01342,33.24387 L -110.02177,33.24552 L -110.0152,33.25193 L -110.01808,33.25883 L -110.01653,33.25993 L -110.0207,33.26297 L -110.01899,33.2648 L -110.03796,33.27441 L -110.04196,33.27381 L -110.04605,33.28317 L -110.04402,33.29018 L -110.04871,33.29607 L -110.04918,33.30135 L -110.05139,33.30124 L -110.0548,33.30431 L -110.05613,33.30409 L -110.05695,33.125 L -110.05404,32.875 L -110.09232,32.8955 L -110.13591,32.95823 L -110.19021,32.97161 L -110.22958,32.98945 L -110.28088,32.98879 L -110.31255,32.99764 L -110.32569,32.99957 L -110.37108,33.00652 L -110.39449,33.00655 L -110.40694,32.99527 L -110.4166,32.98125 L -110.43547,32.98125 L -110.44876,32.98811 L -110.44837,33.19447 L -110.45108,33.19404 L -110.45329,33.19798 L -110.46359,33.1923 L -110.46149,33.18481 L -110.46448,33.18249 L -110.47913,33.18221 L -110.48857,33.18323 L -110.49813,33.18677 L -110.50312,33.18631 L -110.50839,33.18023 L -110.51285,33.17926 L -110.51562,33.17563 L -110.52641,33.17681 L -110.52758,33.17079 L -110.53346,33.1676 L -110.53409,33.16522 L -110.52981,33.16153 L -110.52676,33.16329 L -110.52355,33.16199 L -110.52415,33.1594 L -110.52783,33.15844 L -110.53349,33.16034 L -110.53978,33.16339 L -110.54229,33.16838 L -110.54485,33.16882 L -110.54948,33.15794 L -110.5491,33.15278 L -110.55166,33.15219 L -110.55515,33.15498 L -110.55803,33.15503 L -110.561,33.15237 L -110.56138,33.14845 L -110.56629,33.1477 L -110.56827,33.14465 L -110.57378,33.14421 L -110.57846,33.14687 L -110.58094,33.14657 L -110.58009,33.14391 L -110.58372,33.14194 L -110.58614,33.13711 L -110.59248,33.13374 L -110.59648,33.13397 L -110.59779,33.13777 L -110.60057,33.13761 L -110.6085,33.14269 L -110.6186,33.1439 L -110.63314,33.14237 L -110.63701,33.13797 L -110.63794,33.13337 L -110.64483,33.12727 L -110.65587,33.11349 L -110.65932,33.11246 L -110.66115,33.11349 L -110.6618,33.1192 L -110.66471,33.12 L -110.66948,33.1167 L -110.67206,33.11148 L -110.67691,33.11136 L -110.67887,33.10103 L -110.68271,33.09874 L -110.68217,33.08815 L -110.68984,33.08889 L -110.69422,33.08634 L -110.68851,33.08403 L -110.68753,33.08105 L -110.689,33.07862 L -110.69234,33.07681 L -110.70556,33.0836 L -110.70573,33.16992 L -110.75211,33.1705 L -110.73742,33.2518 L -110.83868,33.25166 L -110.83612,33.25558 L -110.83827,33.25821 L -110.83966,33.25629 L -110.84102,33.25776 L -110.84321,33.25697 L -110.84321,33.25879 L -110.84599,33.25789 L -110.8461,33.25908 L -110.8486,33.25608 L -110.85163,33.25809 L -110.85943,33.25759 L -110.85932,33.25981 L -110.86522,33.26331 L -110.86376,33.26832 L -110.87345,33.26377 L -110.88162,33.26368 L -110.89035,33.25715 L -110.89897,33.25626 L -110.903,33.2583 L -110.93068,33.2486 L -110.94398,33.24718 L -110.94811,33.2569 L -110.97404,33.34204 L -111.03923,33.46605 L -111.15241,33.67706 L -111.1688,33.66747 L -111.17286,33.66008 L -111.17994,33.65974 L -111.1996,33.64021 L -111.20636,33.63683 L -111.20876,33.63345 L -111.20677,33.62052 L -111.2154,33.61265 L -111.21607,33.60827 L -111.22137,33.6024 L -111.22301,33.60281 L -111.23127,33.60946 L -111.23085,33.61313 L -111.23669,33.61535 L -111.23768,33.6184 L -111.24606,33.62145 L -111.24886,33.62428 L -111.25502,33.62108 L -111.26215,33.62311 L -111.26861,33.62918 L -111.27293,33.6384 L -111.27544,33.63892 L -111.27954,33.64447 L -111.2791,33.64582 L -111.2816,33.64643 L -111.28651,33.65197 L -111.28551,33.65652 L -111.2865,33.65857 L -111.29883,33.66378 L -111.30353,33.67136 L -111.30848,33.67381 L -111.31422,33.68135 L -111.32533,33.68433 L -111.33071,33.68829 L -111.33554,33.70073 L -111.33764,33.7027 L -111.33633,33.70894 L -111.33793,33.71585 L -111.33568,33.72031 L -111.34294,33.72479 L -111.34358,33.72736 L -111.35162,33.73224 L -111.35123,33.73348 L -111.35415,33.7332 L -111.3559,33.73891 L -111.37145,33.74517 L -111.37233,33.7493 L -111.375,33.74977 L -111.38045,33.74761 L -111.38613,33.75 L -111.38147,33.76091 L -111.38261,33.76275 L -111.38644,33.76319 L -111.38868,33.77076 L -111.38588,33.77317 L -111.38876,33.77662 L -111.38478,33.78314 L -111.38051,33.78519 L -111.38211,33.78809 L -111.37782,33.79367 L -111.38723,33.80317 L -111.38764,33.80531 L -111.3844,33.81026 L -111.38355,33.81645 L -111.37083,33.81881 L -111.37188,33.82421 L -111.37734,33.82735 L -111.37793,33.82954 L -111.38288,33.83358 L -111.39181,33.83586 L -111.38946,33.83766 L -111.39479,33.84082 L -111.39517,33.84458 L -111.39109,33.85292 L -111.39164,33.85479 L -111.38626,33.86075 L -111.38677,33.86292 L -111.39562,33.86852 L -111.3954,33.87274 L -111.3969,33.875 L -111.39536,33.87689 L -111.40496,33.87949 L -111.40483,33.88207 L -111.40736,33.88382 L -111.41051,33.88355 L -111.41214,33.88584 L -111.41262,33.88867 L -111.41075,33.89156 L -111.41297,33.89867 L -111.4109,33.90369 L -111.40731,33.90525 L -111.40791,33.91193 L -111.40438,33.91918 L -111.42524,33.92607 L -111.42995,33.92396 L -111.4368,33.91613 L -111.45105,33.92095 L -111.44858,33.92969 L -111.45135,33.93373 L -111.44638,33.93482 L -111.44661,33.94151 L -111.45158,33.94875 L -111.45093,33.95391 L -111.44732,33.95775 L -111.45166,33.96097 L -111.45186,33.96589 L -111.4482,33.96856 L -111.4474,33.97325 L -111.44058,33.97834 L -111.43402,33.98085 L -111.43277,33.98546 L -111.44207,33.99125 L -111.43966,33.99638 L -111.44361,33.99882 L -111.44439,34.00114 L -111.44871,34.00011 L -111.45372,34.00471 L -111.45769,34.00217 L -111.46584,34.0059 L -111.47001,34.00272 L -111.47175,34.00465 L -111.47595,34.00241 L -111.48682,34.00171 L -111.49105,34.0 L -111.49409,33.99978 L -111.72461,33.99981 L -112.06419,34.0373 L -112.06467,33.90115 L -111.89055,33.90016 L -111.83843,33.90036 L -111.83842,33.89841 L -111.83634,33.89928 L -111.83684,33.90302 L -111.83426,33.90247 L -111.83176,33.90489 L -111.82228,33.90256 L -111.81852,33.90428 L -111.80437,33.89736 L -111.80294,33.89005 L -111.80481,33.88668 L -111.80136,33.88364 L -111.79711,33.88418 L -111.7946,33.88625 L -111.79323,33.88498 L -111.78702,33.89026 L -111.77489,33.89157 L -111.77094,33.8952 L -111.77177,33.90206 L -111.7677,33.90712 L -111.76099,33.90128 L -111.75179,33.89991 L -111.74953,33.89778 L -111.74776,33.88346 L -111.74166,33.87376 L -111.73367,33.87841 L -111.72499,33.87177 L -111.7221,33.8646 L -111.71817,33.8611 L -111.70414,33.85845 L -111.68665,33.85987 L -111.67517,33.85719 L -111.66378,33.85173 L -111.66106,33.84821 L -111.64756,33.84454 L -111.64135,33.84055 L -111.63952,33.83854 L -111.6432,33.83125 L -111.64575,33.82971 L -111.6421,33.82467 L -111.64548,33.82126 L -111.64159,33.81727 L -111.63109,33.81829 L -111.62995,33.81713 L -111.6308,33.81278 L -111.62926,33.81113 L -111.62592,33.81351 L -111.62054,33.81358 L -111.61676,33.81695 L -111.615,33.81617 L -111.61135,33.82117 L -111.60537,33.82289 L -111.59891,33.82115 L -111.59075,33.82353 L -111.58374,33.82333 L -111.57886,33.81793 L -111.5482,33.79831 L -111.53931,33.79721 L -111.53402,33.7932 L -111.5177,33.79288 L -111.51237,33.79457 L -111.50876,33.79274 L -111.50691,33.79347 L -111.50538,33.78926 L -111.50708,33.78678 L -111.50269,33.78572 L -111.50171,33.78361 L -111.50355,33.781 L -111.50138,33.77754 L -111.5041,33.77521 L -111.50084,33.77351 L -111.50303,33.77049 L -111.50293,33.76022 L -111.50481,33.75396 L -111.51061,33.75329 L -111.51289,33.74877 L -111.51657,33.74634 L -111.52979,33.74559 L -111.53505,33.74266 L -111.54059,33.74598 L -111.54413,33.74614 L -111.54517,33.756 L -111.54887,33.75474 L -111.55164,33.75566 L -111.55671,33.76106 L -111.55907,33.76099 L -111.56971,33.75332 L -111.57536,33.75249 L -111.57989,33.74788 L -111.58636,33.74738 L -111.59239,33.74405 L -111.59795,33.7377 L -111.60113,33.72962 L -111.60782,33.72586 L -111.61469,33.71717 L -111.61891,33.71621 L -111.625,33.68308 L -111.6416,33.55723 L -111.65298,33.54878 L -111.66989,33.54334 L -111.6711,33.54085 L -111.67075,33.53072 L -111.67402,33.51936 L -111.67645,33.51683 L -111.68301,33.51642 L -111.68914,33.51654 L -111.69562,33.51458 L -111.69546,33.51219 L -111.69986,33.50875 L -111.70971,33.5052 L -111.71869,33.49702 L -111.71882,33.49493 L -111.72198,33.49408 L -111.72282,33.49098 L -111.72688,33.48674 L -111.73165,33.48837 L -111.73989,33.48226 L -111.74487,33.48234 L -111.74485,33.4838 L -111.7601,33.48375 L -111.78648,33.48349 L -111.7865,33.48246 L -111.79288,33.48237 L -111.79872,33.48501 L -111.80325,33.48218 L -111.8139,33.4807 L -111.8185,33.4853 L -111.84286,33.46707 L -111.8559,33.4656 L -111.8562,33.4545 L -111.8608,33.453 L -111.8732,33.4374 L -111.8719,33.4367 L -111.8914,33.4366 L -111.8913,33.4387 L -111.9085,33.4366 L -111.90851,33.45093 L -111.91477,33.45101 L -111.9148,33.44782 L -111.9173,33.44788 L -111.91721,33.451 L -111.92568,33.45102 L -111.9257,33.4584 L -111.9387,33.4582 L -111.9386,33.4642 L -111.9424,33.4549 L -111.9392,33.45 L -111.9406,33.4476 L -111.9503,33.4473 L -111.9558,33.4509 L -111.96041,33.45098 L -111.9603,33.4452 L -111.9773,33.4474 L -111.9773,33.4219 L -111.9774,33.4074 L -111.9777,33.3781 L -111.99054,33.378 L -111.99056,33.3743 L -111.983,33.3745 L -111.9831,33.3708 L -111.9755,33.3709 L -111.9754,33.3641 L -111.9957,33.3617 L -112.0007,33.35914 L -112.0038,33.3611 L -112.0137,33.35592 L -112.01761,33.34486 L -112.01395,33.33869 L -112.0141,33.3232 L -112.02072,33.32305 L -112.01692,33.31042 L -112.01446,33.30484 L -112.01334,33.29072 L -112.07357,33.29017 L -112.1325,33.2903 L -112.13798,33.2903 L -112.12046,33.28317 L -111.95643,33.20463 L -111.9082,33.20473 L -111.89235,33.20476 L -111.89232,33.2032 L -111.84046,33.20387 L -111.68535,33.20468 L -111.68535,33.1176 L -111.51595,33.11823 L -111.5151,33.01583 L -111.51156,33.01817 L -111.5079,33.01535 L -111.50806,33.01324 z\" /><path fill-rule=\"evenodd\" fill=\"#66cc99\" stroke=\"#555555\" stroke-width=\"0.1432324080000001\" opacity=\"0.6\" d=\"M -112.90153,32.22489 L -112.89773,32.23525 L -112.89446,32.23953 L -112.89395,32.24697 L -112.8962,32.25543 L -112.89437,32.26219 L -112.89571,32.2683 L -112.89415,32.27029 L -112.89625,32.27217 L -112.89954,32.27137 L -112.90485,32.27584 L -112.91089,32.28897 L -112.91423,32.2927 L -112.91094,32.30058 L -112.90827,32.30177 L -112.90985,32.3126 L -112.9081,32.31526 L -112.90929,32.31902 L -112.90693,32.32272 L -112.91894,32.32122 L -112.92091,32.32756 L -112.92469,32.32964 L -112.94505,32.32731 L -112.95096,32.33017 L -112.93214,32.33186 L -112.93269,32.43652 L -112.9361,32.43946 L -112.93966,32.43878 L -112.94244,32.43713 L -112.94098,32.43243 L -112.94547,32.4355 L -112.94836,32.44004 L -112.94185,32.43978 L -112.93742,32.44418 L -112.93285,32.44558 L -112.93172,32.45069 L -112.92713,32.45279 L -112.91532,32.45014 L -112.91754,32.45259 L -112.92186,32.45307 L -112.92553,32.4555 L -112.92313,32.4582 L -112.92383,32.46305 L -112.91483,32.47945 L -112.92045,32.48628 L -112.91842,32.49537 L -112.94085,32.49881 L -112.94078,32.50529 L -112.57406,32.50516 L -112.57459,32.41857 L -112.67579,32.41791 L -112.67687,32.3308 L -112.72709,32.33127 L -112.72688,32.17365 L -112.73232,32.17672 L -112.74571,32.1804 L -112.77613,32.1958 L -112.79095,32.19839 L -112.90063,32.19912 L -112.89949,32.20602 L -112.90183,32.21562 L -112.90021,32.221 L -112.90153,32.22489 z\" /></g></g></svg>"
      ],
      "text/plain": [
       "<MULTIPOLYGON (((-111.508 33.013, -111.499 33.016, -111.492 33.013, -111.486...>"
      ]
     },
     "execution_count": 259,
     "metadata": {},
     "output_type": "execute_result"
    }
   ],
   "source": [
    "geo"
   ]
  },
  {
   "cell_type": "code",
   "execution_count": 138,
   "id": "23d73d4d",
   "metadata": {},
   "outputs": [
    {
     "data": {
      "image/svg+xml": [
       "<svg xmlns=\"http://www.w3.org/2000/svg\" xmlns:xlink=\"http://www.w3.org/1999/xlink\" width=\"100.0\" height=\"100.0\" viewBox=\"-85.1133108 34.9818792 2.684631599999989 2.073251599999999\" preserveAspectRatio=\"xMinYMin meet\"><g transform=\"matrix(1,0,0,-1,0,72.03701000000001)\"><g><path fill-rule=\"evenodd\" fill=\"#66cc99\" stroke=\"#555555\" stroke-width=\"0.053692631999999775\" opacity=\"0.6\" d=\"M -83.8786,36.6801 L -83.9025,36.6696 L -83.9175,36.6607 L -83.9249,36.6607 L -83.9388,36.6536 L -83.9466,36.6516 L -83.9565,36.6451 L -83.95743,36.64203 L -83.95445,36.64059 L -83.95447,36.63679 L -83.95075,36.6356 L -83.94956,36.63128 L -83.94099,36.62842 L -83.93875,36.62383 L -83.93305,36.61917 L -83.93398,36.61544 L -83.92601,36.60567 L -83.9251,36.60041 L -83.92865,36.59766 L -83.92859,36.59359 L -83.93106,36.5876 L -83.98776,36.58952 L -84.22744,36.5921 L -84.2614,36.5919 L -84.37438,36.59458 L -84.37372,36.59862 L -84.3679,36.60134 L -84.37127,36.60594 L -84.37662,36.60616 L -84.38303,36.61021 L -84.38413,36.6142 L -84.38771,36.61816 L -84.38759,36.62074 L -84.39066,36.62333 L -84.38947,36.62579 L -84.39741,36.62082 L -84.40964,36.62342 L -84.40889,36.62907 L -84.41621,36.62797 L -84.42322,36.63003 L -84.42575,36.62834 L -84.43509,36.62745 L -84.43479,36.62486 L -84.4373,36.62483 L -84.43793,36.62312 L -84.4463,36.62227 L -84.45447,36.62465 L -84.45831,36.6293 L -84.4607,36.62992 L -84.4825,36.62842 L -84.48065,36.62416 L -84.47744,36.62384 L -84.47537,36.61959 L -84.47275,36.61931 L -84.47536,36.61627 L -84.47438,36.6142 L -84.48402,36.60956 L -84.48592,36.60681 L -84.48424,36.6021 L -84.47794,36.59803 L -84.47885,36.59638 L -84.52095,36.59641 L -84.60521,36.59859 L -84.7781,36.6032 L -84.7854,36.6033 L -84.75,36.55345 L -84.7319,36.5246 L -84.7152,36.4988 L -84.69271,36.43571 L -84.6745,36.4137 L -84.6702,36.4147 L -84.66441,36.41292 L -84.6637,36.4065 L -84.6684,36.4064 L -84.65917,36.39519 L -84.68558,36.38813 L -84.69036,36.38339 L -84.69004,36.37447 L -84.70084,36.37083 L -84.70564,36.36811 L -84.70971,36.36829 L -84.71897,36.37458 L -84.72463,36.37633 L -84.72332,36.36994 L -84.73102,36.36836 L -84.73258,36.36554 L -84.73252,36.35806 L -84.72691,36.35266 L -84.73291,36.35028 L -84.74267,36.35384 L -84.74547,36.35114 L -84.74355,36.34906 L -84.74317,36.34297 L -84.74026,36.34002 L -84.74031,36.33615 L -84.74639,36.33491 L -84.75069,36.33198 L -84.75573,36.33443 L -84.75819,36.33283 L -84.76057,36.32761 L -84.76897,36.33352 L -84.77411,36.33464 L -84.77522,36.32981 L -84.77799,36.32686 L -84.78693,36.32501 L -84.7821,36.31922 L -84.78954,36.31748 L -84.79208,36.31164 L -84.79545,36.30899 L -84.79169,36.30251 L -84.79613,36.2975 L -84.80354,36.29752 L -84.81507,36.29334 L -84.81762,36.29778 L -84.82279,36.29933 L -84.84272,36.28702 L -84.83879,36.28631 L -84.82949,36.27825 L -84.82174,36.26802 L -84.80004,36.25431 L -84.79512,36.2536 L -84.79001,36.23899 L -84.77854,36.22594 L -84.77092,36.22136 L -84.76631,36.22429 L -84.75869,36.22424 L -84.75502,36.22248 L -84.75655,36.21887 L -84.743,36.20354 L -84.74437,36.19815 L -84.75478,36.19966 L -84.75792,36.19652 L -84.76382,36.19433 L -84.76752,36.18952 L -84.77227,36.18685 L -84.78054,36.18733 L -84.78573,36.18591 L -84.78675,36.18397 L -84.79065,36.1833 L -84.79311,36.18074 L -84.79884,36.17999 L -84.80022,36.17795 L -84.80451,36.17864 L -84.81165,36.17362 L -84.81397,36.17438 L -84.81933,36.17168 L -84.83475,36.16813 L -84.84256,36.16307 L -84.85981,36.16645 L -84.86097,36.17073 L -84.86874,36.1732 L -84.88996,36.17194 L -84.89625,36.17437 L -84.90113,36.17363 L -84.89973,36.17243 L -84.90207,36.16819 L -84.90541,36.16611 L -84.90493,36.15947 L -84.90755,36.15631 L -84.90358,36.15166 L -84.89968,36.15079 L -84.89726,36.14686 L -84.88354,36.14495 L -84.87683,36.13808 L -84.87134,36.13731 L -84.83243,36.08395 L -84.82745,36.08673 L -84.82728,36.09001 L -84.8244,36.09463 L -84.82135,36.09243 L -84.81955,36.09525 L -84.81484,36.09445 L -84.81476,36.08996 L -84.81072,36.0868 L -84.80553,36.09051 L -84.7921,36.0594 L -84.78872,36.05634 L -84.72079,35.99484 L -84.69826,35.94634 L -84.74034,35.93595 L -84.77746,35.92988 L -84.76732,35.90988 L -84.76712,35.90839 L -84.77002,35.90739 L -84.76517,35.8974 L -84.76962,35.89389 L -84.76458,35.88292 L -84.76012,35.87841 L -84.76548,35.87639 L -84.76896,35.87278 L -84.76973,35.86813 L -84.76782,35.86461 L -84.77029,35.86431 L -84.77133,35.86225 L -84.77771,35.86202 L -84.77676,35.86001 L -84.77817,35.8577 L -84.77628,35.85621 L -84.77781,35.85053 L -84.77525,35.84323 L -84.77694,35.84215 L -84.77711,35.83886 L -84.78189,35.83836 L -84.78152,35.83504 L -84.78512,35.83492 L -84.78802,35.82993 L -84.78377,35.82991 L -84.78116,35.82606 L -84.7819,35.82493 L -84.79789,35.82508 L -84.81471,35.81586 L -84.81087,35.81499 L -84.80536,35.81769 L -84.80084,35.81467 L -84.7944,35.81474 L -84.79426,35.80979 L -84.79991,35.81043 L -84.79814,35.80714 L -84.80022,35.80361 L -84.80511,35.80325 L -84.80775,35.80073 L -84.80694,35.7981 L -84.80989,35.79768 L -84.80725,35.79246 L -84.80846,35.78749 L -84.80343,35.78885 L -84.79941,35.78795 L -84.80216,35.78594 L -84.80801,35.77424 L -84.8143,35.77594 L -84.81634,35.77354 L -84.81365,35.77064 L -84.81936,35.77089 L -84.82084,35.76877 L -84.82141,35.7652 L -84.81624,35.76049 L -84.82567,35.75641 L -84.82542,35.75 L -84.836,35.74431 L -84.84389,35.74415 L -84.84526,35.74289 L -84.84453,35.74133 L -84.85082,35.73883 L -84.85046,35.73721 L -84.85295,35.73712 L -84.85391,35.73529 L -84.85747,35.73638 L -84.85905,35.73437 L -84.86359,35.73407 L -84.86194,35.73075 L -84.86595,35.73057 L -84.86668,35.72912 L -84.86247,35.7272 L -84.86311,35.72397 L -84.87018,35.72251 L -84.87583,35.72417 L -84.88163,35.72976 L -84.90016,35.73128 L -84.90392,35.72849 L -84.90665,35.72915 L -84.90625,35.7417 L -84.90299,35.74502 L -84.90139,35.74957 L -84.90327,35.75128 L -84.90355,35.75496 L -84.90858,35.75776 L -84.91037,35.76156 L -84.9164,35.76157 L -84.98996,35.68173 L -84.99013,35.68013 L -84.98121,35.67938 L -84.98162,35.67474 L -84.99551,35.67569 L -85.01388,35.65565 L -85.01055,35.65596 L -84.99804,35.65064 L -85.00044,35.64764 L -84.9994,35.64664 L -84.99328,35.64703 L -84.98964,35.64477 L -84.98779,35.64527 L -84.98891,35.64866 L -84.98417,35.65088 L -84.98162,35.64848 L -84.98481,35.64738 L -84.98274,35.64406 L -84.97867,35.64621 L -84.97253,35.64685 L -84.96532,35.65077 L -84.95988,35.64553 L -84.95377,35.64684 L -84.94676,35.6461 L -84.94695,35.6393 L -84.94374,35.63459 L -84.94343,35.6277 L -84.94098,35.62393 L -84.93506,35.6227 L -84.93725,35.62071 L -84.94654,35.62059 L -84.95129,35.6167 L -84.95788,35.61478 L -84.95858,35.60315 L -84.97267,35.59223 L -84.97626,35.58632 L -84.97558,35.58003 L -84.97272,35.57918 L -84.97477,35.57213 L -84.97898,35.56889 L -84.98426,35.56423 L -84.97961,35.56443 L -84.97224,35.56842 L -84.96524,35.56844 L -84.96193,35.57023 L -84.95471,35.56641 L -84.93803,35.5841 L -84.93546,35.59015 L -84.91329,35.6118 L -84.90526,35.60578 L -84.90311,35.59777 L -84.90491,35.59312 L -84.90119,35.5885 L -84.87212,35.60794 L -84.87215,35.61036 L -84.86937,35.61138 L -84.86267,35.60962 L -84.85777,35.6052 L -84.85316,35.59575 L -84.84762,35.59262 L -84.85714,35.57986 L -84.8737,35.58105 L -84.88116,35.57933 L -84.8821,35.57699 L -84.88026,35.57459 L -84.87934,35.56681 L -84.87758,35.56399 L -84.87428,35.56386 L -84.87172,35.55916 L -84.86934,35.55996 L -84.86853,35.55758 L -84.86626,35.55784 L -84.86712,35.5558 L -84.84931,35.55473 L -84.81578,35.54642 L -84.80598,35.54674 L -84.7978,35.55057 L -84.79555,35.55443 L -84.79662,35.55913 L -84.80048,35.56309 L -84.80564,35.56478 L -84.8104,35.56879 L -84.81247,35.57257 L -84.81314,35.57888 L -84.81172,35.58266 L -84.80799,35.58616 L -84.80266,35.58932 L -84.78638,35.59401 L -84.78066,35.59891 L -84.77822,35.60855 L -84.7841,35.62011 L -84.78236,35.62066 L -84.77643,35.60813 L -84.77827,35.59897 L -84.78603,35.59259 L -84.80656,35.58536 L -84.81151,35.57918 L -84.8112,35.57342 L -84.80929,35.57011 L -84.79887,35.56343 L -84.79523,35.55966 L -84.79428,35.55403 L -84.79734,35.54977 L -84.80425,35.54631 L -84.81789,35.54559 L -84.85894,35.55449 L -84.86868,35.55353 L -84.87402,35.55015 L -84.88049,35.53913 L -84.88048,35.53098 L -84.87742,35.52501 L -84.86545,35.51754 L -84.85944,35.51148 L -84.85723,35.50556 L -84.8582,35.5 L -84.8619,35.495 L -84.8688,35.49 L -84.8906,35.4848 L -84.9004,35.4796 L -84.9045,35.472 L -84.9046,35.4524 L -84.9099,35.4445 L -84.9151,35.4407 L -84.9221,35.4376 L -84.9296,35.437 L -84.9468,35.44 L -84.9603,35.4493 L -84.969,35.4666 L -84.9741,35.4697 L -84.97589,35.46022 L -84.97166,35.45871 L -84.9687,35.45391 L -84.96886,35.44386 L -84.96598,35.43969 L -84.96139,35.43777 L -84.95974,35.43156 L -84.95171,35.42976 L -84.95095,35.42715 L -84.94726,35.42479 L -84.93599,35.4228 L -84.92492,35.41675 L -84.92366,35.41426 L -84.91698,35.41002 L -84.90848,35.39853 L -84.90015,35.39546 L -84.89441,35.40644 L -84.87852,35.42219 L -84.85373,35.43284 L -84.84336,35.44967 L -84.83969,35.44651 L -84.82249,35.43825 L -84.81686,35.44184 L -84.80962,35.45306 L -84.80061,35.45185 L -84.802,35.4534 L -84.8012,35.4551 L -84.7983,35.4571 L -84.7945,35.4561 L -84.7878,35.4647 L -84.782,35.4638 L -84.77569,35.46746 L -84.76577,35.4658 L -84.76516,35.46131 L -84.75199,35.45316 L -84.74795,35.44339 L -84.73348,35.43485 L -84.72778,35.43472 L -84.71807,35.44445 L -84.71105,35.44505 L -84.70756,35.44402 L -84.70658,35.44157 L -84.70093,35.44134 L -84.70146,35.43967 L -84.69399,35.44141 L -84.69214,35.43786 L -84.68244,35.43292 L -84.66854,35.42962 L -84.6547,35.42247 L -84.66158,35.41733 L -84.69422,35.38079 L -84.70639,35.35972 L -84.73902,35.31537 L -84.74412,35.30686 L -84.73768,35.2985 L -84.74052,35.28928 L -84.7308,35.2913 L -84.7268,35.2906 L -84.7235,35.2861 L -84.7232,35.2854 L -84.7237,35.2786 L -84.7266,35.2762 L -84.7335,35.2748 L -84.742,35.2768 L -84.75,35.27581 L -84.75269,35.27391 L -84.75235,35.27171 L -84.74659,35.26852 L -84.74044,35.2564 L -84.73046,35.25464 L -84.72125,35.25911 L -84.7203,35.2597 L -84.7162,35.2617 L -84.7153,35.2619 L -84.7113,35.262 L -84.7106,35.2619 L -84.7036,35.2587 L -84.7006,35.2565 L -84.6976,35.2526 L -84.6983,35.25 L -84.70137,35.24892 L -84.71133,35.2499 L -84.71286,35.2485 L -84.711,35.24358 L -84.70571,35.24348 L -84.7038,35.24095 L -84.70638,35.23745 L -84.71486,35.23544 L -84.71557,35.2307 L -84.71185,35.22878 L -84.71103,35.22876 L -84.70928,35.22896 L -84.7001,35.22863 L -84.6971,35.22832 L -84.69726,35.22803 L -84.7022,35.219 L -84.70273,35.21105 L -84.69958,35.2081 L -84.69924,35.2037 L -84.69882,35.19851 L -84.66485,35.20057 L -84.58533,35.21948 L -84.60565,35.18412 L -84.64248,35.13932 L -84.65577,35.11265 L -84.65764,35.11214 L -84.65891,35.10352 L -84.67067,35.111 L -84.67476,35.11161 L -84.67455,35.10855 L -84.67123,35.10361 L -84.66847,35.10491 L -84.66572,35.10196 L -84.64812,35.09373 L -84.64147,35.09707 L -84.63297,35.09875 L -84.625,35.09597 L -84.60773,35.09416 L -84.60037,35.10267 L -84.5928,35.10661 L -84.56069,35.10946 L -84.55809,35.10782 L -84.55881,35.10312 L -84.55561,35.09897 L -84.54666,35.09484 L -84.54168,35.09484 L -84.5379,35.09796 L -84.53559,35.09718 L -84.53342,35.09351 L -84.52844,35.08986 L -84.52946,35.08131 L -84.51476,35.08327 L -84.51371,35.08908 L -84.5056,35.0943 L -84.5053,35.09668 L -84.49532,35.09931 L -84.48966,35.10394 L -84.48822,35.10744 L -84.4859,35.10769 L -84.48263,35.11762 L -84.47867,35.11912 L -84.47466,35.11967 L -84.47711,35.12443 L -84.46753,35.12361 L -84.46538,35.12212 L -84.45346,35.12196 L -84.44012,35.13151 L -84.43575,35.12881 L -84.43494,35.13119 L -84.43018,35.13185 L -84.43382,35.1338 L -84.43447,35.13668 L -84.42881,35.13988 L -84.43017,35.14602 L -84.41707,35.15813 L -84.41284,35.16002 L -84.40821,35.15748 L -84.40701,35.1624 L -84.40782,35.16732 L -84.41133,35.17206 L -84.40784,35.17822 L -84.40852,35.18102 L -84.39891,35.18126 L -84.39181,35.1773 L -84.38924,35.18341 L -84.38609,35.18407 L -84.38707,35.18908 L -84.38389,35.19254 L -84.37845,35.1943 L -84.37286,35.19867 L -84.36952,35.19714 L -84.3587,35.20532 L -84.35243,35.20324 L -84.34819,35.20561 L -84.3444,35.2042 L -84.3405,35.2108 L -84.3326,35.2077 L -84.3258,35.2193 L -84.2924,35.2066 L -84.29032,35.2255 L -84.28806,35.22439 L -84.2833,35.2265 L -84.2755,35.2347 L -84.2604,35.2418 L -84.2578,35.2461 L -84.2533,35.2494 L -84.2428,35.253 L -84.2273,35.268 L -84.2238,35.269 L -84.2119,35.266 L -84.2029,35.2556 L -84.2002,35.2446 L -84.199,35.2436 L -84.1932,35.2447 L -84.1885,35.2399 L -84.1786,35.2406 L -84.17,35.2463 L -84.1614,35.2434 L -84.159,35.2458 L -84.148,35.2469 L -84.1398,35.2461 L -84.1331,35.2422 L -84.1272,35.2409 L -84.1258,35.242 L -84.1269,35.2464 L -84.1254,35.2498 L -84.1197,35.2522 L -84.1142,35.2489 L -84.10654,35.25139 L -84.10236,35.24803 L -84.09815,35.24713 L -84.0826,35.256 L -84.0832,35.2581 L -84.0812,35.26106 L -84.0558,35.2681 L -84.0524,35.2702 L -84.0516,35.2731 L -84.0466,35.2741 L -84.0407,35.2794 L -84.0361,35.2886 L -84.0292,35.2921 L -84.0236,35.2957 L -84.0215,35.3013 L -84.0263,35.3062 L -84.0266,35.3092 L -84.0358,35.3128 L -84.0346,35.3223 L -84.02947,35.33311 L -84.03136,35.33636 L -84.03629,35.33759 L -84.03415,35.34325 L -84.03842,35.34773 L -84.03699,35.35059 L -84.03225,35.35269 L -84.02355,35.35413 L -84.01521,35.36479 L -84.00749,35.37156 L -84.00879,35.37238 L -84.0086,35.3767 L -84.0113,35.3846 L -84.0083,35.3903 L -84.0128,35.3922 L -84.0142,35.3977 L -84.0189,35.3997 L -84.0234,35.4114 L -84.0144,35.4122 L -84.0054,35.4208 L -84.00049,35.42324 L -83.99825,35.43043 L -83.99953,35.43377 L -83.99481,35.43485 L -83.99172,35.44045 L -83.98911,35.43911 L -83.98783,35.4408 L -83.9838,35.44041 L -83.97992,35.44813 L -83.97226,35.44728 L -83.97327,35.4525 L -83.97103,35.45296 L -83.97187,35.4547 L -83.96449,35.45413 L -83.96575,35.45616 L -83.96343,35.45662 L -83.9615,35.45941 L -83.96175,35.46284 L -83.96583,35.46534 L -83.96637,35.47136 L -83.96519,35.47264 L -83.9629,35.47385 L -83.95963,35.47456 L -83.95924,35.47474 L -83.95879,35.47532 L -83.95655,35.47571 L -83.95213,35.47795 L -83.95152,35.47843 L -83.94897,35.47925 L -83.94799,35.47928 L -83.94673,35.47992 L -83.94623,35.4804 L -83.94408,35.48134 L -83.93974,35.48726 L -83.94492,35.48983 L -83.96045,35.48891 L -83.97299,35.49959 L -83.97668,35.49714 L -83.98008,35.48737 L -83.98064,35.48684 L -83.98145,35.48643 L -83.98624,35.48606 L -83.99027,35.48981 L -83.9898,35.49485 L -83.99109,35.497 L -83.99506,35.50037 L -84.00601,35.50475 L -84.01255,35.51095 L -84.01322,35.51459 L -84.01014,35.5223 L -83.99656,35.52891 L -83.99631,35.53161 L -84.00063,35.53978 L -83.9959,35.54765 L -83.99716,35.54978 L -84.00457,35.5504 L -84.009,35.54719 L -84.00673,35.54589 L -84.00959,35.54612 L -84.01009,35.54404 L -84.01082,35.54555 L -84.01446,35.54425 L -84.02818,35.54569 L -84.03815,35.54064 L -84.03941,35.53981 L -84.03826,35.53913 L -84.04159,35.5394 L -84.04274,35.5375 L -84.04573,35.5386 L -84.05205,35.54545 L -84.06165,35.54503 L -84.05973,35.54236 L -84.06158,35.54455 L -84.07001,35.54519 L -84.07443,35.54199 L -84.06903,35.54277 L -84.08207,35.53885 L -84.08616,35.53945 L -84.09064,35.54444 L -84.09013,35.54096 L -84.08703,35.53913 L -84.09453,35.54233 L -84.09389,35.54137 L -84.09576,35.54073 L -84.09419,35.54016 L -84.0947,35.53853 L -84.09682,35.53787 L -84.09691,35.53915 L -84.09738,35.53883 L -84.09831,35.5375 L -84.10083,35.53718 L -84.10312,35.53917 L -84.10547,35.53755 L -84.1048,35.53347 L -84.10685,35.53725 L -84.10458,35.53963 L -84.10052,35.53997 L -84.10049,35.53842 L -84.0989,35.53812 L -84.09834,35.53844 L -84.09702,35.54016 L -84.10004,35.54096 L -84.09879,35.54347 L -84.10641,35.55299 L -84.11276,35.55496 L -84.11562,35.55418 L -84.11411,35.55544 L -84.12338,35.56427 L -84.12866,35.56499 L -84.12461,35.56271 L -84.12147,35.55765 L -84.12793,35.56419 L -84.12939,35.56387 L -84.12771,35.56154 L -84.12861,35.56085 L -84.13068,35.56317 L -84.12933,35.565 L -84.13636,35.56649 L -84.13928,35.56463 L -84.1395,35.56244 L -84.1334,35.55861 L -84.1318,35.55575 L -84.13066,35.55589 L -84.13205,35.55838 L -84.13065,35.55815 L -84.12601,35.55376 L -84.12719,35.54822 L -84.13364,35.54074 L -84.14537,35.5426 L -84.14895,35.54104 L -84.14702,35.54356 L -84.14954,35.54558 L -84.15101,35.55482 L -84.15404,35.55395 L -84.15244,35.55603 L -84.15407,35.55739 L -84.15653,35.55638 L -84.15589,35.55855 L -84.15888,35.55967 L -84.16325,35.55867 L -84.16445,35.56093 L -84.17412,35.55963 L -84.16994,35.55792 L -84.17151,35.55579 L -84.1681,35.55247 L -84.16773,35.54915 L -84.16023,35.55135 L -84.16222,35.54887 L -84.15771,35.54519 L -84.15707,35.54212 L -84.16398,35.54924 L -84.16717,35.5465 L -84.16452,35.54288 L -84.1662,35.5413 L -84.16659,35.54366 L -84.16855,35.54348 L -84.16841,35.54663 L -84.17137,35.54563 L -84.16894,35.54789 L -84.16972,35.55274 L -84.17451,35.55039 L -84.17162,35.55382 L -84.17406,35.5573 L -84.17935,35.55734 L -84.17944,35.5546 L -84.18563,35.55357 L -84.18109,35.55535 L -84.18098,35.55705 L -84.18638,35.5586 L -84.18722,35.56069 L -84.18778,35.55847 L -84.18988,35.56094 L -84.19344,35.55927 L -84.19218,35.56178 L -84.18904,35.56211 L -84.19092,35.56309 L -84.1896,35.56378 L -84.19268,35.56359 L -84.19097,35.56579 L -84.19299,35.56739 L -84.19436,35.56643 L -84.19305,35.56451 L -84.19621,35.56565 L -84.19461,35.56764 L -84.19871,35.56822 L -84.19739,35.57023 L -84.19534,35.56931 L -84.19537,35.57076 L -84.19907,35.57085 L -84.19655,35.57744 L -84.19148,35.58117 L -84.1903,35.58515 L -84.19187,35.5868 L -84.19582,35.58657 L -84.19876,35.58828 L -84.20305,35.58664 L -84.20663,35.57876 L -84.21179,35.57933 L -84.20854,35.57815 L -84.20929,35.5768 L -84.21938,35.57389 L -84.21895,35.57094 L -84.22422,35.56961 L -84.22553,35.56702 L -84.22394,35.56306 L -84.22133,35.56299 L -84.22332,35.56189 L -84.22324,35.55988 L -84.21721,35.56098 L -84.21464,35.55924 L -84.21397,35.56139 L -84.21324,35.55965 L -84.20968,35.56286 L -84.21044,35.56119 L -84.208,35.56 L -84.2108,35.56018 L -84.21396,35.55572 L -84.21326,35.55437 L -84.21063,35.55641 L -84.21242,35.55219 L -84.20951,35.5551 L -84.21144,35.55052 L -84.21038,35.5489 L -84.20937,35.55217 L -84.20772,35.55238 L -84.20971,35.5473 L -84.20853,35.54526 L -84.20607,35.54702 L -84.20626,35.54867 L -84.20478,35.54711 L -84.20209,35.54858 L -84.20209,35.55014 L -84.19884,35.54938 L -84.1973,35.54641 L -84.20108,35.54773 L -84.20727,35.54485 L -84.20704,35.54082 L -84.20427,35.54025 L -84.20534,35.53883 L -84.20063,35.53625 L -84.19878,35.5378 L -84.19674,35.53723 L -84.19918,35.53638 L -84.20142,35.53206 L -84.20105,35.53068 L -84.1987,35.53064 L -84.2003,35.52961 L -84.19988,35.52782 L -84.20293,35.53036 L -84.20657,35.5275 L -84.20186,35.52315 L -84.19386,35.52522 L -84.19859,35.5229 L -84.19685,35.51867 L -84.18985,35.52167 L -84.18899,35.5194 L -84.18571,35.52007 L -84.18717,35.5184 L -84.19159,35.51927 L -84.19478,35.51716 L -84.1926,35.51604 L -84.19136,35.51183 L -84.18938,35.51222 L -84.18636,35.50929 L -84.18101,35.51048 L -84.18787,35.50748 L -84.18487,35.5029 L -84.18135,35.50089 L -84.18056,35.49548 L -84.18257,35.49434 L -84.18212,35.49848 L -84.19053,35.50473 L -84.191,35.51066 L -84.19363,35.51121 L -84.19313,35.51256 L -84.19528,35.51476 L -84.1966,35.51414 L -84.19943,35.52075 L -84.20276,35.51974 L -84.20262,35.52178 L -84.20673,35.52281 L -84.20866,35.52089 L -84.20693,35.51958 L -84.21082,35.5191 L -84.21188,35.51679 L -84.21031,35.51439 L -84.2062,35.51318 L -84.20749,35.51077 L -84.21051,35.51377 L -84.21776,35.50848 L -84.21921,35.50569 L -84.21694,35.50558 L -84.2144,35.50111 L -84.21045,35.50109 L -84.20848,35.49915 L -84.20641,35.5 L -84.20804,35.49855 L -84.2061,35.49761 L -84.20633,35.49308 L -84.20792,35.49784 L -84.21374,35.5 L -84.21556,35.5 L -84.21693,35.49663 L -84.21559,35.49402 L -84.21998,35.49486 L -84.21635,35.50077 L -84.21946,35.50391 L -84.22509,35.50143 L -84.22075,35.5042 L -84.22187,35.50722 L -84.21899,35.51013 L -84.22341,35.51475 L -84.22912,35.50651 L -84.22948,35.51004 L -84.23606,35.50598 L -84.24085,35.50994 L -84.24087,35.50541 L -84.24616,35.50255 L -84.24593,35.50108 L -84.24342,35.50097 L -84.2461,35.50033 L -84.24394,35.49607 L -84.24847,35.4935 L -84.2443,35.49168 L -84.24013,35.49397 L -84.2443,35.49087 L -84.24374,35.48831 L -84.23836,35.48532 L -84.23856,35.48342 L -84.23506,35.48138 L -84.23461,35.47854 L -84.23777,35.48207 L -84.24258,35.47925 L -84.24482,35.48005 L -84.24619,35.47765 L -84.24293,35.47571 L -84.23936,35.47101 L -84.2407,35.47019 L -84.24014,35.46621 L -84.24065,35.46545 L -84.24084,35.46518 L -84.24948,35.46442 L -84.24951,35.46172 L -84.25082,35.46116 L -84.25295,35.46386 L -84.25801,35.45794 L -84.25958,35.45778 L -84.26134,35.45867 L -84.26405,35.46131 L -84.26514,35.46131 L -84.27301,35.45779 L -84.26725,35.45389 L -84.26655,35.4503 L -84.26319,35.45156 L -84.26087,35.45057 L -84.26292,35.44252 L -84.26214,35.43412 L -84.26359,35.44229 L -84.26168,35.45071 L -84.26641,35.44961 L -84.26892,35.45479 L -84.27278,35.45529 L -84.27695,35.45596 L -84.27359,35.45552 L -84.27365,35.45783 L -84.27303,35.45834 L -84.27211,35.45946 L -84.26495,35.46302 L -84.25838,35.4584 L -84.25404,35.46384 L -84.25093,35.46482 L -84.25146,35.46677 L -84.24834,35.46485 L -84.24079,35.46643 L -84.24317,35.47428 L -84.2485,35.47477 L -84.24807,35.47822 L -84.24488,35.48113 L -84.24102,35.48124 L -84.24027,35.48479 L -84.24231,35.48435 L -84.24611,35.48724 L -84.2453,35.48966 L -84.2476,35.48918 L -84.24696,35.4906 L -84.24878,35.49172 L -84.25785,35.48533 L -84.25304,35.49071 L -84.24966,35.49183 L -84.25185,35.49465 L -84.24494,35.4965 L -84.24839,35.49902 L -84.25661,35.49705 L -84.25107,35.4992 L -84.25033,35.50094 L -84.24735,35.49968 L -84.24748,35.50385 L -84.24213,35.50838 L -84.24387,35.50953 L -84.24121,35.51216 L -84.24183,35.51362 L -84.23673,35.5069 L -84.23321,35.51077 L -84.22643,35.51255 L -84.23013,35.51589 L -84.23022,35.51782 L -84.23388,35.51887 L -84.2319,35.52013 L -84.22627,35.51532 L -84.22311,35.51773 L -84.22073,35.51578 L -84.21947,35.51658 L -84.21963,35.51381 L -84.217,35.51137 L -84.21373,35.51208 L -84.21384,35.51709 L -84.20959,35.52286 L -84.21141,35.52382 L -84.20847,35.5243 L -84.21393,35.52819 L -84.21919,35.52716 L -84.21524,35.52922 L -84.20928,35.52748 L -84.20441,35.53112 L -84.20617,35.53297 L -84.21127,35.5329 L -84.20338,35.53396 L -84.20993,35.53805 L -84.20931,35.5392 L -84.21231,35.54288 L -84.21446,35.54228 L -84.21267,35.54398 L -84.21497,35.54487 L -84.21455,35.54588 L -84.21777,35.54503 L -84.21553,35.54753 L -84.2204,35.55173 L -84.2222,35.55066 L -84.22043,35.54823 L -84.22533,35.5462 L -84.22211,35.54556 L -84.22233,35.54418 L -84.22443,35.54441 L -84.2239,35.54217 L -84.22558,35.54409 L -84.22796,35.54352 L -84.22841,35.54166 L -84.22659,35.54178 L -84.22827,35.54079 L -84.22765,35.53821 L -84.22877,35.53953 L -84.22986,35.5385 L -84.23003,35.54109 L -84.2314,35.54047 L -84.23154,35.53642 L -84.23507,35.53484 L -84.2342,35.53246 L -84.23775,35.53296 L -84.25061,35.52147 L -84.25621,35.52131 L -84.25598,35.52328 L -84.24598,35.52811 L -84.24786,35.53044 L -84.24413,35.52946 L -84.24094,35.53177 L -84.24445,35.53632 L -84.23927,35.53379 L -84.23795,35.53527 L -84.24199,35.53978 L -84.24039,35.54033 L -84.23818,35.53713 L -84.23594,35.53814 L -84.23639,35.54093 L -84.23829,35.54148 L -84.2356,35.54285 L -84.23692,35.54342 L -84.23684,35.54594 L -84.2316,35.54361 L -84.23244,35.54525 L -84.23059,35.54759 L -84.23166,35.54841 L -84.22586,35.54972 L -84.22864,35.5516 L -84.22461,35.5556 L -84.22559,35.55869 L -84.22828,35.55887 L -84.24695,35.54905 L -84.24451,35.55102 L -84.24661,35.55356 L -84.24219,35.55251 L -84.23679,35.55539 L -84.23626,35.55708 L -84.23802,35.55807 L -84.23208,35.558 L -84.22864,35.56057 L -84.22682,35.56471 L -84.22881,35.5689 L -84.22299,35.57402 L -84.22615,35.57565 L -84.22926,35.57382 L -84.228,35.5799 L -84.24335,35.5726 L -84.24752,35.56816 L -84.25186,35.56664 L -84.2426,35.57518 L -84.23901,35.57615 L -84.23753,35.5791 L -84.23476,35.57912 L -84.22899,35.58384 L -84.22509,35.58803 L -84.22526,35.58917 L -84.22857,35.58894 L -84.22596,35.58991 L -84.22193,35.59647 L -84.2137,35.60272 L -84.21818,35.60313 L -84.21944,35.60691 L -84.2207,35.6038 L -84.22219,35.60455 L -84.22082,35.60945 L -84.22449,35.6078 L -84.22468,35.61 L -84.2316,35.60917 L -84.23228,35.61153 L -84.24102,35.61217 L -84.23951,35.60458 L -84.24059,35.60221 L -84.23869,35.60144 L -84.24109,35.59847 L -84.23825,35.59755 L -84.24348,35.59676 L -84.247,35.59246 L -84.25159,35.59307 L -84.25451,35.58978 L -84.25893,35.58836 L -84.25843,35.5869 L -84.26196,35.58651 L -84.25888,35.59026 L -84.26126,35.5912 L -84.25475,35.59539 L -84.25876,35.59727 L -84.25243,35.59722 L -84.24805,35.59926 L -84.25045,35.59989 L -84.25097,35.60211 L -84.24671,35.60683 L -84.25259,35.60353 L -84.25247,35.60635 L -84.25396,35.60717 L -84.25,35.60861 L -84.24953,35.61001 L -84.25284,35.60818 L -84.25312,35.60928 L -84.24943,35.61315 L -84.25236,35.61431 L -84.25928,35.61363 L -84.25336,35.61585 L -84.25571,35.62383 L -84.2537,35.62985 L -84.25512,35.63219 L -84.25,35.63459 L -84.23904,35.63982 L -84.23656,35.64291 L -84.23845,35.64575 L -84.23669,35.64854 L -84.23952,35.65012 L -84.23932,35.65273 L -84.24267,35.65603 L -84.24722,35.65574 L -84.25121,35.65936 L -84.25333,35.65931 L -84.25433,35.65609 L -84.25794,35.65585 L -84.25738,35.65377 L -84.26439,35.64691 L -84.26565,35.64824 L -84.26291,35.64865 L -84.25957,35.65354 L -84.26181,35.6556 L -84.26772,35.65352 L -84.26158,35.65801 L -84.26753,35.65725 L -84.26797,35.65865 L -84.26438,35.66103 L -84.27052,35.66742 L -84.26858,35.67082 L -84.26483,35.67069 L -84.26401,35.67233 L -84.26084,35.67103 L -84.25476,35.67212 L -84.25386,35.67372 L -84.2522,35.67224 L -84.25,35.67314 L -84.24788,35.67723 L -84.25211,35.67913 L -84.24728,35.67902 L -84.24616,35.68074 L -84.24802,35.68762 L -84.25163,35.68716 L -84.24907,35.68931 L -84.24951,35.6907 L -84.25225,35.69031 L -84.25367,35.69389 L -84.25673,35.69377 L -84.25437,35.69858 L -84.26295,35.70705 L -84.25454,35.70405 L -84.25318,35.71073 L -84.25961,35.71259 L -84.26328,35.71636 L -84.25357,35.71366 L -84.25259,35.71638 L -84.25587,35.7194 L -84.25396,35.72043 L -84.25119,35.71583 L -84.24816,35.72216 L -84.24988,35.72277 L -84.24834,35.72608 L -84.251,35.73238 L -84.25362,35.73121 L -84.25362,35.72959 L -84.2562,35.72956 L -84.26041,35.72664 L -84.25521,35.73329 L -84.25752,35.73394 L -84.25737,35.73551 L -84.25389,35.73567 L -84.25378,35.73778 L -84.25515,35.7403 L -84.25686,35.74025 L -84.25594,35.74201 L -84.25709,35.74284 L -84.26247,35.73962 L -84.26377,35.7413 L -84.26121,35.74561 L -84.26391,35.74465 L -84.26315,35.74923 L -84.26767,35.75044 L -84.26862,35.7523 L -84.26671,35.75443 L -84.26904,35.75651 L -84.2639,35.76532 L -84.25466,35.76701 L -84.25699,35.76863 L -84.26064,35.76834 L -84.26067,35.77069 L -84.26207,35.76925 L -84.26207,35.77092 L -84.26435,35.77136 L -84.26426,35.77328 L -84.2621,35.77493 L -84.26422,35.77873 L -84.27316,35.77474 L -84.27346,35.76969 L -84.27256,35.76128 L -84.27286,35.7575 L -84.27763,35.75434 L -84.28389,35.75498 L -84.28895,35.75813 L -84.29015,35.7617 L -84.29134,35.76591 L -84.297,35.76717 L -84.30594,35.76759 L -84.31011,35.75855 L -84.30833,35.75287 L -84.30326,35.7453 L -84.30028,35.74026 L -84.29939,35.73479 L -84.30743,35.73017 L -84.32352,35.72806 L -84.32919,35.73101 L -84.33157,35.739 L -84.33455,35.74488 L -84.33395,35.74832 L -84.33454,35.76169 L -84.33817,35.76844 L -84.34193,35.77091 L -84.34735,35.77104 L -84.35019,35.76839 L -84.35184,35.76269 L -84.35007,35.76635 L -84.35043,35.75923 L -84.34402,35.74697 L -84.34744,35.74164 L -84.35612,35.74088 L -84.35977,35.74209 L -84.36968,35.74859 L -84.37573,35.7557 L -84.37801,35.75496 L -84.37646,35.75638 L -84.37944,35.75714 L -84.38685,35.76547 L -84.40616,35.775 L -84.4129,35.77539 L -84.41888,35.77212 L -84.42181,35.764 L -84.42178,35.76164 L -84.41959,35.76276 L -84.4213,35.76059 L -84.41984,35.75763 L -84.4238,35.75084 L -84.42961,35.74721 L -84.42843,35.74478 L -84.43034,35.74661 L -84.43362,35.74652 L -84.43649,35.74412 L -84.43528,35.74643 L -84.44702,35.75226 L -84.44619,35.75 L -84.44741,35.74725 L -84.45294,35.74192 L -84.45232,35.74485 L -84.44691,35.75035 L -84.44775,35.75303 L -84.44578,35.75264 L -84.44789,35.7553 L -84.44815,35.75923 L -84.44284,35.76754 L -84.44523,35.77269 L -84.44848,35.77157 L -84.44747,35.78004 L -84.45222,35.78318 L -84.45306,35.7815 L -84.45317,35.78345 L -84.46025,35.78505 L -84.47005,35.78011 L -84.47157,35.78141 L -84.47253,35.78048 L -84.4734,35.77988 L -84.4725,35.78187 L -84.47446,35.78443 L -84.47578,35.78312 L -84.47963,35.78523 L -84.48042,35.78335 L -84.48,35.7863 L -84.4834,35.78777 L -84.48157,35.78878 L -84.48573,35.78882 L -84.48306,35.79022 L -84.48492,35.78987 L -84.48764,35.79301 L -84.49211,35.79152 L -84.48908,35.79566 L -84.49377,35.80227 L -84.49417,35.8109 L -84.49847,35.80882 L -84.50413,35.80974 L -84.51161,35.81459 L -84.51805,35.80944 L -84.51524,35.81649 L -84.51139,35.81685 L -84.511,35.81557 L -84.50936,35.81726 L -84.51097,35.81724 L -84.51015,35.81916 L -84.51155,35.82013 L -84.51166,35.82399 L -84.51312,35.82612 L -84.5152,35.82532 L -84.51405,35.82654 L -84.51517,35.82747 L -84.52009,35.82745 L -84.52816,35.831 L -84.52664,35.82519 L -84.52793,35.82579 L -84.52816,35.82377 L -84.53153,35.82206 L -84.53204,35.82354 L -84.53311,35.82094 L -84.53609,35.81995 L -84.53679,35.81732 L -84.53887,35.81716 L -84.53716,35.81563 L -84.54011,35.81684 L -84.54148,35.8154 L -84.54601,35.81748 L -84.53921,35.8175 L -84.53774,35.81965 L -84.53937,35.82039 L -84.53892,35.82174 L -84.53361,35.82405 L -84.53667,35.82377 L -84.53139,35.82933 L -84.53605,35.82734 L -84.53268,35.82986 L -84.53226,35.8332 L -84.53527,35.83371 L -84.53386,35.83542 L -84.53852,35.8395 L -84.53984,35.84364 L -84.53911,35.84936 L -84.53256,35.85547 L -84.53351,35.85762 L -84.5372,35.85696 L -84.53413,35.85948 L -84.53787,35.86126 L -84.53613,35.85941 L -84.54484,35.85992 L -84.54777,35.85623 L -84.54847,35.85147 L -84.54737,35.8528 L -84.54552,35.85069 L -84.54468,35.85188 L -84.54442,35.85023 L -84.5474,35.84792 L -84.5478,35.83939 L -84.55072,35.83511 L -84.55671,35.83195 L -84.55657,35.83064 L -84.5634,35.83138 L -84.56421,35.82813 L -84.56506,35.82957 L -84.56722,35.82879 L -84.56978,35.82561 L -84.57144,35.82737 L -84.56683,35.83122 L -84.57242,35.82815 L -84.57298,35.82545 L -84.5754,35.8238 L -84.5743,35.8271 L -84.57621,35.82586 L -84.57641,35.82696 L -84.57402,35.83161 L -84.57973,35.83566 L -84.59013,35.83939 L -84.58791,35.83659 L -84.59274,35.83765 L -84.59145,35.83911 L -84.59449,35.84005 L -84.59856,35.83915 L -84.59786,35.8378 L -84.60112,35.83783 L -84.60367,35.82979 L -84.60123,35.82931 L -84.60567,35.82725 L -84.60662,35.82254 L -84.60367,35.82208 L -84.6067,35.82169 L -84.60707,35.81997 L -84.60521,35.81913 L -84.60732,35.81903 L -84.60788,35.81491 L -84.60344,35.81576 L -84.60108,35.81464 L -84.60178,35.81327 L -84.59928,35.8135 L -84.6006,35.81141 L -84.59692,35.81073 L -84.59802,35.80835 L -84.60406,35.81059 L -84.60414,35.81466 L -84.60796,35.81228 L -84.60487,35.81022 L -84.60743,35.80784 L -84.60605,35.80704 L -84.60748,35.80425 L -84.60473,35.80333 L -84.60215,35.80546 L -84.60035,35.80475 L -84.6011,35.80191 L -84.60273,35.80322 L -84.60557,35.80052 L -84.60745,35.80134 L -84.60641,35.79983 L -84.60815,35.79688 L -84.60301,35.79665 L -84.60175,35.79477 L -84.60416,35.79301 L -84.60703,35.79447 L -84.61121,35.78861 L -84.61318,35.78969 L -84.61424,35.78831 L -84.61188,35.78754 L -84.617,35.7857 L -84.61607,35.78479 L -84.61932,35.77918 L -84.61915,35.77591 L -84.6182,35.77625 L -84.62019,35.77373 L -84.62176,35.773 L -84.62266,35.77449 L -84.62821,35.77183 L -84.62438,35.77549 L -84.62581,35.77581 L -84.62723,35.77718 L -84.63189,35.77423 L -84.63237,35.77506 L -84.63565,35.77618 L -84.63807,35.77607 L -84.63543,35.77547 L -84.6356,35.77517 L -84.63914,35.77517 L -84.63596,35.773 L -84.63726,35.77231 L -84.63417,35.76892 L -84.63647,35.76927 L -84.63942,35.76506 L -84.64215,35.76515 L -84.63903,35.77176 L -84.64178,35.77341 L -84.64102,35.77549 L -84.64599,35.7757 L -84.64812,35.77852 L -84.65127,35.77921 L -84.64967,35.78122 L -84.65169,35.78264 L -84.65357,35.7891 L -84.65385,35.78594 L -84.65848,35.78454 L -84.65531,35.78353 L -84.65613,35.78237 L -84.65464,35.78106 L -84.66245,35.78296 L -84.66222,35.78081 L -84.65683,35.77864 L -84.66099,35.7782 L -84.65891,35.7771 L -84.66245,35.77346 L -84.6631,35.76976 L -84.65672,35.77191 L -84.65866,35.77117 L -84.65762,35.77076 L -84.65874,35.76946 L -84.66004,35.76989 L -84.65835,35.76802 L -84.66091,35.76916 L -84.66293,35.76822 L -84.66464,35.76138 L -84.66804,35.76149 L -84.66712,35.75937 L -84.6688,35.75808 L -84.66869,35.75474 L -84.66597,35.75222 L -84.66114,35.75373 L -84.66013,35.75257 L -84.65367,35.75616 L -84.65788,35.75195 L -84.65412,35.75282 L -84.65735,35.75083 L -84.65428,35.74904 L -84.65793,35.74899 L -84.65906,35.7506 L -84.66226,35.74943 L -84.66296,35.74767 L -84.66057,35.74604 L -84.66299,35.74462 L -84.66349,35.74645 L -84.66543,35.74662 L -84.66605,35.74304 L -84.67206,35.73936 L -84.67144,35.73806 L -84.67015,35.73931 L -84.66627,35.73881 L -84.66782,35.73661 L -84.66597,35.73036 L -84.66934,35.73258 L -84.67046,35.72654 L -84.67509,35.72494 L -84.67902,35.72123 L -84.68026,35.72258 L -84.67826,35.72469 L -84.67992,35.72535 L -84.67563,35.72661 L -84.6745,35.72938 L -84.67461,35.73041 L -84.67638,35.72945 L -84.67548,35.73071 L -84.6779,35.73211 L -84.67304,35.73371 L -84.67635,35.7343 L -84.67526,35.73602 L -84.67714,35.73609 L -84.67666,35.73824 L -84.67821,35.73728 L -84.67722,35.73927 L -84.67896,35.74062 L -84.67885,35.74341 L -84.68143,35.74417 L -84.68118,35.74575 L -84.68893,35.74456 L -84.69219,35.74586 L -84.69581,35.74186 L -84.69483,35.74527 L -84.69682,35.7446 L -84.69662,35.74589 L -84.69853,35.74612 L -84.69946,35.74241 L -84.70297,35.74648 L -84.70566,35.74389 L -84.70502,35.74291 L -84.70227,35.74424 L -84.70348,35.7418 L -84.71405,35.74191 L -84.72057,35.75108 L -84.72391,35.75282 L -84.71349,35.73606 L -84.71158,35.73 L -84.71193,35.72496 L -84.72008,35.71504 L -84.72318,35.70685 L -84.72051,35.69479 L -84.72114,35.69165 L -84.74062,35.6794 L -84.74727,35.67813 L -84.75168,35.68045 L -84.75226,35.68222 L -84.74905,35.68979 L -84.75238,35.69769 L -84.76073,35.70156 L -84.76638,35.69999 L -84.76965,35.68934 L -84.77848,35.68285 L -84.78167,35.67695 L -84.77766,35.64749 L -84.78636,35.6327 L -84.78632,35.62738 L -84.78266,35.62114 L -84.78477,35.62059 L -84.78985,35.62552 L -84.79781,35.61533 L -84.79484,35.62112 L -84.79758,35.61949 L -84.79727,35.62139 L -84.80055,35.62238 L -84.79542,35.62258 L -84.79551,35.62455 L -84.7924,35.62781 L -84.79447,35.62795 L -84.79189,35.62928 L -84.7945,35.63052 L -84.79313,35.63072 L -84.79271,35.6337 L -84.79646,35.63326 L -84.79686,35.63036 L -84.79817,35.63368 L -84.79969,35.63363 L -84.8067,35.6294 L -84.80468,35.63253 L -84.80053,35.63484 L -84.80218,35.63663 L -84.80373,35.63583 L -84.80272,35.63871 L -84.80897,35.63404 L -84.81012,35.63613 L -84.81592,35.63185 L -84.82021,35.63171 L -84.81592,35.63294 L -84.81348,35.63684 L -84.81085,35.63784 L -84.81186,35.63816 L -84.80877,35.64171 L -84.80945,35.64444 L -84.80821,35.64572 L -84.80558,35.64386 L -84.80465,35.64624 L -84.80218,35.64604 L -84.80238,35.64288 L -84.80064,35.64267 L -84.80067,35.64116 L -84.79683,35.64272 L -84.79509,35.6416 L -84.79366,35.64311 L -84.79551,35.64707 L -84.7941,35.65071 L -84.79941,35.65011 L -84.79677,35.65444 L -84.80126,35.65421 L -84.79736,35.65732 L -84.80224,35.65748 L -84.80347,35.66053 L -84.79923,35.66327 L -84.80106,35.66801 L -84.80282,35.66726 L -84.80086,35.67174 L -84.80897,35.66996 L -84.80919,35.66625 L -84.81216,35.66859 L -84.81511,35.66318 L -84.81921,35.66341 L -84.82411,35.66039 L -84.82367,35.66353 L -84.82919,35.65998 L -84.82569,35.66481 L -84.82529,35.66616 L -84.82709,35.66511 L -84.82437,35.67023 L -84.82787,35.67174 L -84.83419,35.66762 L -84.83458,35.67087 L -84.83609,35.6709 L -84.83707,35.66735 L -84.83887,35.66764 L -84.8405,35.66581 L -84.83704,35.65963 L -84.84094,35.66387 L -84.8433,35.66231 L -84.84333,35.65874 L -84.84549,35.66453 L -84.84613,35.66187 L -84.84453,35.65894 L -84.84568,35.65725 L -84.84686,35.66027 L -84.84958,35.65915 L -84.84848,35.65276 L -84.85289,35.65494 L -84.85443,35.65205 L -84.85362,35.65088 L -84.85634,35.65116 L -84.85945,35.648 L -84.86063,35.64825 L -84.85953,35.65017 L -84.86068,35.64955 L -84.86119,35.65088 L -84.85219,35.66219 L -84.85015,35.66867 L -84.85197,35.66885 L -84.85733,35.66425 L -84.86139,35.66469 L -84.85679,35.66572 L -84.84922,35.67437 L -84.85349,35.67716 L -84.85428,35.68103 L -84.85257,35.68275 L -84.85352,35.68733 L -84.85231,35.68634 L -84.85209,35.6884 L -84.84923,35.68824 L -84.85018,35.69037 L -84.84634,35.68994 L -84.84704,35.69177 L -84.84112,35.69177 L -84.83801,35.69008 L -84.83767,35.68635 L -84.83725,35.68873 L -84.83573,35.68816 L -84.83234,35.69219 L -84.83467,35.69708 L -84.83007,35.69431 L -84.82417,35.70022 L -84.81837,35.70079 L -84.81862,35.70404 L -84.81376,35.70549 L -84.81971,35.69832 L -84.82274,35.69935 L -84.82589,35.69651 L -84.82777,35.69239 L -84.8251,35.69065 L -84.82844,35.69164 L -84.8297,35.6901 L -84.83026,35.68763 L -84.82774,35.68676 L -84.82804,35.6836 L -84.82681,35.6833 L -84.82849,35.68081 L -84.82773,35.6785 L -84.8233,35.67685 L -84.81831,35.68003 L -84.81738,35.67893 L -84.81677,35.68097 L -84.8157,35.6787 L -84.81301,35.67912 L -84.81368,35.68111 L -84.81155,35.68145 L -84.81205,35.68035 L -84.81043,35.68131 L -84.80863,35.67948 L -84.80897,35.68072 L -84.80661,35.68104 L -84.80717,35.68436 L -84.80495,35.68312 L -84.80523,35.68543 L -84.80293,35.68676 L -84.80083,35.68392 L -84.80108,35.68665 L -84.79814,35.68651 L -84.79962,35.68962 L -84.7967,35.68781 L -84.79519,35.69104 L -84.78963,35.69438 L -84.79791,35.68312 L -84.79732,35.68074 L -84.79996,35.67836 L -84.79974,35.67568 L -84.79758,35.67319 L -84.79876,35.67069 L -84.7978,35.66733 L -84.79584,35.66671 L -84.79752,35.66604 L -84.79691,35.66435 L -84.7941,35.66421 L -84.79371,35.66163 L -84.79186,35.66389 L -84.79082,35.66249 L -84.78776,35.66446 L -84.78639,35.66345 L -84.78622,35.66741 L -84.78411,35.66689 L -84.78479,35.66794 L -84.7826,35.67025 L -84.78319,35.67215 L -84.7851,35.66938 L -84.78787,35.67089 L -84.78369,35.67325 L -84.78599,35.67431 L -84.78377,35.67506 L -84.78535,35.67586 L -84.78439,35.67955 L -84.78599,35.67936 L -84.77704,35.68927 L -84.77687,35.69156 L -84.7728,35.69184 L -84.77148,35.69314 L -84.77336,35.69364 L -84.77209,35.6955 L -84.76962,35.6957 L -84.76869,35.7028 L -84.77029,35.70328 L -84.75993,35.70845 L -84.7615,35.71042 L -84.75443,35.70831 L -84.74947,35.71282 L -84.74697,35.70991 L -84.74585,35.71159 L -84.74686,35.71268 L -84.74478,35.71344 L -84.74346,35.71223 L -84.74338,35.71555 L -84.73715,35.71818 L -84.73631,35.7174 L -84.73917,35.71356 L -84.73128,35.7115 L -84.73002,35.71379 L -84.73409,35.71434 L -84.7351,35.71745 L -84.73151,35.71633 L -84.72862,35.71862 L -84.72999,35.71585 L -84.72901,35.71505 L -84.72853,35.71679 L -84.72536,35.71761 L -84.72691,35.72031 L -84.72298,35.71908 L -84.72115,35.72004 L -84.72076,35.72235 L -84.72404,35.72134 L -84.72884,35.72304 L -84.72795,35.72402 L -84.72486,35.72237 L -84.72124,35.72503 L -84.72228,35.72762 L -84.72624,35.72791 L -84.72517,35.72887 L -84.72632,35.73176 L -84.72458,35.73164 L -84.72051,35.73675 L -84.7238,35.73162 L -84.72059,35.73023 L -84.7193,35.7265 L -84.71703,35.72524 L -84.7161,35.72675 L -84.71784,35.72819 L -84.71532,35.72796 L -84.71456,35.73327 L -84.71529,35.73474 L -84.71751,35.73389 L -84.71596,35.73671 L -84.7174,35.73879 L -84.71947,35.73778 L -84.72006,35.7403 L -84.72467,35.73803 L -84.72444,35.74025 L -84.72032,35.7425 L -84.72231,35.7441 L -84.72214,35.74666 L -84.72521,35.75176 L -84.72751,35.75036 L -84.72636,35.74927 L -84.72813,35.7487 L -84.72787,35.74677 L -84.73065,35.74753 L -84.73624,35.74487 L -84.75546,35.7288 L -84.75209,35.73227 L -84.75433,35.73365 L -84.75178,35.73335 L -84.74912,35.73537 L -84.75197,35.73564 L -84.75038,35.73651 L -84.75239,35.73745 L -84.74892,35.73711 L -84.75098,35.73887 L -84.74707,35.73997 L -84.7489,35.7413 L -84.74797,35.74237 L -84.74536,35.74084 L -84.74654,35.74372 L -84.74396,35.74343 L -84.74272,35.74524 L -84.74497,35.74631 L -84.74416,35.74778 L -84.74657,35.7467 L -84.74579,35.74851 L -84.74778,35.74787 L -84.74646,35.75 L -84.7505,35.75211 L -84.75623,35.7515 L -84.7612,35.74672 L -84.75772,35.75322 L -84.75912,35.75722 L -84.76221,35.75883 L -84.76125,35.7597 L -84.76321,35.76515 L -84.76029,35.76968 L -84.75383,35.77116 L -84.75386,35.77578 L -84.74958,35.77656 L -84.73927,35.78394 L -84.74169,35.78973 L -84.73947,35.78769 L -84.73936,35.7874 L -84.73933,35.78653 L -84.73843,35.78346 L -84.73843,35.78117 L -84.7368,35.77957 L -84.73733,35.77247 L -84.74193,35.76762 L -84.74679,35.76743 L -84.74833,35.76542 L -84.75549,35.76329 L -84.75229,35.75949 L -84.74962,35.76031 L -84.75039,35.75715 L -84.74639,35.75464 L -84.73928,35.75691 L -84.73872,35.75579 L -84.73754,35.75856 L -84.7365,35.75757 L -84.73516,35.75901 L -84.734,35.75647 L -84.73243,35.75812 L -84.73308,35.76282 L -84.73176,35.76149 L -84.73038,35.76229 L -84.72901,35.75753 L -84.72679,35.75954 L -84.72786,35.76046 L -84.72595,35.76078 L -84.72803,35.76302 L -84.7248,35.76309 L -84.72856,35.76465 L -84.7273,35.76641 L -84.7255,35.76453 L -84.72404,35.76529 L -84.72404,35.76399 L -84.72292,35.76726 L -84.72176,35.7647 L -84.72202,35.76721 L -84.71949,35.76664 L -84.72011,35.7684 L -84.71775,35.7671 L -84.71854,35.77051 L -84.71606,35.76811 L -84.71604,35.7725 L -84.7141,35.77035 L -84.71348,35.77363 L -84.7102,35.77289 L -84.70972,35.77456 L -84.70772,35.77456 L -84.70848,35.7726 L -84.71887,35.76147 L -84.70876,35.76195 L -84.70646,35.76005 L -84.70489,35.7609 L -84.70553,35.75932 L -84.70283,35.75806 L -84.69677,35.76305 L -84.69879,35.7596 L -84.69598,35.76021 L -84.69315,35.75774 L -84.69615,35.75632 L -84.69472,35.75467 L -84.69045,35.75866 L -84.68702,35.75486 L -84.68571,35.75541 L -84.68764,35.76106 L -84.68394,35.75882 L -84.68427,35.75653 L -84.68222,35.75788 L -84.68012,35.76079 L -84.68309,35.75939 L -84.6854,35.76257 L -84.68281,35.76202 L -84.68388,35.76488 L -84.68107,35.76566 L -84.68104,35.76253 L -84.67939,35.76179 L -84.67866,35.76413 L -84.68006,35.76651 L -84.67829,35.76756 L -84.68096,35.76832 L -84.68464,35.76541 L -84.68514,35.76685 L -84.68877,35.7652 L -84.68506,35.76845 L -84.68582,35.76967 L -84.68368,35.76926 L -84.6834,35.77125 L -84.67568,35.77038 L -84.6761,35.77628 L -84.68141,35.77296 L -84.6786,35.77564 L -84.68082,35.77669 L -84.67669,35.77811 L -84.6784,35.78072 L -84.68062,35.78075 L -84.67879,35.78155 L -84.68099,35.78267 L -84.67936,35.78416 L -84.68073,35.78853 L -84.68191,35.78853 L -84.68149,35.79091 L -84.68576,35.79061 L -84.69413,35.78395 L -84.69767,35.78301 L -84.69427,35.78558 L -84.69556,35.78782 L -84.69228,35.78821 L -84.69315,35.78912 L -84.69042,35.79114 L -84.69056,35.79407 L -84.6845,35.79416 L -84.68834,35.79526 L -84.68638,35.79684 L -84.68801,35.79931 L -84.68472,35.79778 L -84.68548,35.79917 L -84.68008,35.81183 L -84.68048,35.81352 L -84.68407,35.8141 L -84.68053,35.81428 L -84.68135,35.81691 L -84.67885,35.81414 L -84.67536,35.81796 L -84.6771,35.81817 L -84.67522,35.81922 L -84.67474,35.8227 L -84.67617,35.82579 L -84.68104,35.82769 L -84.68371,35.82657 L -84.68261,35.82868 L -84.68699,35.82936 L -84.6855,35.83078 L -84.68699,35.83179 L -84.6895,35.83113 L -84.69219,35.83293 L -84.69498,35.832 L -84.69675,35.83385 L -84.68511,35.83387 L -84.68205,35.83193 L -84.68101,35.83273 L -84.68132,35.83053 L -84.67862,35.8306 L -84.67977,35.83172 L -84.67814,35.83339 L -84.67983,35.83378 L -84.67387,35.83863 L -84.67682,35.83474 L -84.67718,35.83273 L -84.67598,35.83261 L -84.67758,35.82852 L -84.676,35.82863 L -84.67586,35.83151 L -84.67356,35.83193 L -84.67305,35.83779 L -84.66954,35.83776 L -84.67182,35.83662 L -84.67007,35.83662 L -84.67426,35.82993 L -84.67072,35.83085 L -84.6748,35.82634 L -84.67263,35.82105 L -84.66985,35.82089 L -84.67002,35.81977 L -84.66257,35.82398 L -84.66395,35.82096 L -84.6544,35.81855 L -84.65465,35.82432 L -84.6515,35.82183 L -84.65184,35.82002 L -84.64321,35.82267 L -84.64914,35.81837 L -84.65153,35.81468 L -84.64151,35.80509 L -84.64356,35.80184 L -84.64393,35.79703 L -84.64106,35.79921 L -84.64142,35.8015 L -84.63937,35.80218 L -84.64058,35.8007 L -84.63932,35.79916 L -84.64356,35.79427 L -84.64292,35.7925 L -84.64424,35.79163 L -84.64115,35.78978 L -84.64365,35.78749 L -84.63933,35.78536 L -84.63461,35.78602 L -84.6246,35.79419 L -84.62547,35.79602 L -84.622,35.79641 L -84.62363,35.799 L -84.62701,35.79897 L -84.62299,35.80227 L -84.62545,35.80376 L -84.62361,35.80678 L -84.62215,35.80406 L -84.62069,35.80426 L -84.62212,35.80733 L -84.61931,35.8044 L -84.6217,35.80358 L -84.62046,35.80285 L -84.61785,35.80566 L -84.61915,35.80816 L -84.61667,35.80795 L -84.61617,35.80944 L -84.61623,35.81235 L -84.61929,35.81166 L -84.62269,35.81472 L -84.61654,35.81415 L -84.61531,35.82324 L -84.61803,35.8229 L -84.61531,35.82516 L -84.61514,35.82766 L -84.6168,35.82773 L -84.61483,35.82835 L -84.61284,35.83581 L -84.62572,35.83569 L -84.62302,35.83773 L -84.62026,35.83652 L -84.61554,35.83746 L -84.61731,35.84048 L -84.61647,35.84141 L -84.61377,35.8375 L -84.61186,35.83741 L -84.60747,35.84277 L -84.59592,35.84756 L -84.5991,35.84858 L -84.59874,35.85062 L -84.60051,35.85174 L -84.6068,35.85012 L -84.60315,35.85234 L -84.60565,35.85355 L -84.59907,35.85509 L -84.60335,35.8563 L -84.60087,35.85655 L -84.60262,35.86126 L -84.60464,35.86211 L -84.60245,35.86282 L -84.60459,35.86444 L -84.60166,35.86518 L -84.6038,35.86646 L -84.60288,35.86902 L -84.60854,35.87269 L -84.59824,35.86804 L -84.60074,35.86413 L -84.59778,35.86005 L -84.59444,35.8663 L -84.59292,35.8642 L -84.59534,35.85923 L -84.59247,35.86202 L -84.58915,35.86275 L -84.59787,35.85557 L -84.59829,35.85367 L -84.59412,35.84744 L -84.5817,35.84577 L -84.58035,35.84717 L -84.58069,35.84506 L -84.56683,35.8368 L -84.55806,35.83534 L -84.5544,35.83721 L -84.55443,35.84156 L -84.55904,35.83971 L -84.56014,35.84115 L -84.55856,35.84062 L -84.55778,35.8417 L -84.55935,35.8428 L -84.55691,35.84211 L -84.55522,35.84433 L -84.55674,35.84625 L -84.55457,35.84893 L -84.55437,35.85495 L -84.55286,35.85484 L -84.551,35.86195 L -84.54172,35.86587 L -84.54273,35.86788 L -84.53989,35.86571 L -84.53643,35.86598 L -84.52856,35.86767 L -84.52929,35.86895 L -84.52704,35.86836 L -84.52743,35.86948 L -84.52544,35.87003 L -84.52527,35.87385 L -84.53205,35.87782 L -84.5337,35.88174 L -84.52932,35.88782 L -84.52635,35.88805 L -84.52394,35.88647 L -84.5267,35.88501 L -84.52915,35.8802 L -84.52305,35.87704 L -84.51855,35.87089 L -84.52688,35.8619 L -84.53053,35.86183 L -84.52938,35.85529 L -84.52783,35.85572 L -84.53051,35.85259 L -84.52975,35.85172 L -84.53307,35.85028 L -84.532,35.84916 L -84.5347,35.84865 L -84.53487,35.8454 L -84.52866,35.84279 L -84.52585,35.84311 L -84.52157,35.84702 L -84.52112,35.84538 L -84.51704,35.8473 L -84.5198,35.84336 L -84.52447,35.8427 L -84.51612,35.83887 L -84.51446,35.84182 L -84.5123,35.84194 L -84.51449,35.83798 L -84.51177,35.83905 L -84.51306,35.83603 L -84.50685,35.83466 L -84.5037,35.83566 L -84.50491,35.83413 L -84.50216,35.83285 L -84.50151,35.83463 L -84.50123,35.83225 L -84.4984,35.83049 L -84.49922,35.83534 L -84.49602,35.83866 L -84.49821,35.8396 L -84.49689,35.84095 L -84.49917,35.84773 L -84.49664,35.84624 L -84.4945,35.84713 L -84.49616,35.84262 L -84.49402,35.83768 L -84.49711,35.83402 L -84.49525,35.83333 L -84.49295,35.83505 L -84.49598,35.82949 L -84.49407,35.8267 L -84.49075,35.82612 L -84.49216,35.82585 L -84.49061,35.82539 L -84.49086,35.81738 L -84.48272,35.82414 L -84.49114,35.81393 L -84.49072,35.81143 L -84.48847,35.81262 L -84.49046,35.80962 L -84.49021,35.8082 L -84.4881,35.80846 L -84.49001,35.80674 L -84.48832,35.80221 L -84.48605,35.80042 L -84.47804,35.79935 L -84.47725,35.80409 L -84.47433,35.80361 L -84.47416,35.80553 L -84.4713,35.8054 L -84.46478,35.81229 L -84.46894,35.80482 L -84.47343,35.8015 L -84.47506,35.80198 L -84.47481,35.80008 L -84.47661,35.7986 L -84.46975,35.79562 L -84.46163,35.79698 L -84.45997,35.79414 L -84.46166,35.79375 L -84.45961,35.79139 L -84.45837,35.7926 L -84.45871,35.78871 L -84.45413,35.79482 L -84.45506,35.79622 L -84.45357,35.79595 L -84.45214,35.79956 L -84.4482,35.80149 L -84.45767,35.78727 L -84.44671,35.78588 L -84.44048,35.79139 L -84.44624,35.78524 L -84.43981,35.78215 L -84.43899,35.77713 L -84.43613,35.77853 L -84.43899,35.77633 L -84.43767,35.77361 L -84.43936,35.76722 L -84.43818,35.76642 L -84.44039,35.76571 L -84.44477,35.75811 L -84.44141,35.75363 L -84.43523,35.75052 L -84.4277,35.75347 L -84.42622,35.75779 L -84.42692,35.76693 L -84.42051,35.77679 L -84.40959,35.77988 L -84.40998,35.781 L -84.39866,35.77731 L -84.3869,35.77044 L -84.37786,35.7638 L -84.37786,35.76501 L -84.3722,35.76589 L -84.37332,35.76399 L -84.37739,35.76339 L -84.37413,35.7606 L -84.37236,35.76179 L -84.37026,35.76003 L -84.36908,35.76083 L -84.37054,35.75939 L -84.37233,35.7609 L -84.3736,35.76014 L -84.36899,35.75614 L -84.37185,35.75733 L -84.36947,35.75296 L -84.36039,35.74482 L -84.35168,35.74312 L -84.34829,35.74512 L -84.34792,35.74743 L -84.3549,35.76129 L -84.35229,35.77253 L -84.35024,35.77379 L -84.35139,35.77109 L -84.3473,35.77388 L -84.34277,35.77436 L -84.3378,35.77247 L -84.33286,35.76624 L -84.32999,35.75935 L -84.32947,35.74885 L -84.32829,35.73584 L -84.32144,35.73101 L -84.30773,35.73353 L -84.30624,35.74173 L -84.30892,35.74509 L -84.31131,35.7514 L -84.3128,35.7575 L -84.31444,35.76184 L -84.31282,35.76831 L -84.29088,35.77321 L -84.29251,35.77148 L -84.28732,35.765 L -84.28653,35.75912 L -84.28434,35.75743 L -84.27836,35.75685 L -84.27567,35.75921 L -84.27457,35.7628 L -84.27662,35.77214 L -84.27528,35.77704 L -84.27454,35.77616 L -84.26034,35.78368 L -84.25844,35.78213 L -84.25967,35.77754 L -84.25156,35.78147 L -84.24964,35.78106 L -84.2505,35.77955 L -84.2467,35.77896 L -84.25,35.77765 L -84.24642,35.77731 L -84.24142,35.78113 L -84.24019,35.78667 L -84.24112,35.7896 L -84.25024,35.7869 L -84.24961,35.7899 L -84.2391,35.7942 L -84.23756,35.79871 L -84.23531,35.79871 L -84.23607,35.79747 L -84.23466,35.79596 L -84.22646,35.8015 L -84.22795,35.7964 L -84.22623,35.79565 L -84.22455,35.79688 L -84.22284,35.80304 L -84.22135,35.79894 L -84.21826,35.80002 L -84.21806,35.80368 L -84.2148,35.80098 L -84.21284,35.80483 L -84.21205,35.80325 L -84.20545,35.80702 L -84.21382,35.79874 L -84.22129,35.79546 L -84.22429,35.79169 L -84.22601,35.7918 L -84.22556,35.79036 L -84.228,35.79121 L -84.23207,35.78775 L -84.22193,35.78558 L -84.22126,35.78821 L -84.22103,35.78665 L -84.21879,35.78656 L -84.21365,35.78881 L -84.22039,35.78448 L -84.21803,35.78293 L -84.21539,35.78384 L -84.21603,35.78201 L -84.21261,35.78029 L -84.20972,35.78384 L -84.20284,35.78455 L -84.21103,35.77812 L -84.20764,35.77544 L -84.20455,35.77789 L -84.20536,35.77357 L -84.20177,35.77341 L -84.20421,35.76972 L -84.20216,35.77087 L -84.20255,35.76906 L -84.19865,35.77 L -84.19727,35.77176 L -84.19696,35.76968 L -84.20047,35.76792 L -84.19747,35.76428 L -84.19494,35.7638 L -84.19351,35.76551 L -84.19278,35.76261 L -84.18795,35.76213 L -84.18394,35.76432 L -84.18503,35.76691 L -84.18371,35.76627 L -84.18194,35.76796 L -84.1811,35.77545 L -84.18368,35.77368 L -84.18312,35.77535 L -84.18478,35.77565 L -84.18245,35.77714 L -84.18222,35.77986 L -84.18026,35.77885 L -84.17751,35.78007 L -84.17619,35.78281 L -84.17759,35.78442 L -84.17548,35.78549 L -84.17621,35.78787 L -84.18012,35.78755 L -84.1761,35.78895 L -84.17809,35.79654 L -84.18545,35.79506 L -84.18174,35.79858 L -84.17731,35.80014 L -84.18096,35.80224 L -84.185,35.80192 L -84.18039,35.80339 L -84.18045,35.80529 L -84.17646,35.80208 L -84.17517,35.8059 L -84.17289,35.80709 L -84.17449,35.80917 L -84.17306,35.80979 L -84.17101,35.80787 L -84.17062,35.8116 L -84.16548,35.80669 L -84.16631,35.80502 L -84.1622,35.80177 L -84.15975,35.79512 L -84.15543,35.794 L -84.14439,35.79568 L -84.14027,35.79905 L -84.13729,35.80751 L -84.14268,35.81845 L -84.14248,35.82193 L -84.14187,35.82348 L -84.13988,35.826 L -84.13885,35.82767 L -84.13501,35.83123 L -84.13434,35.83409 L -84.13787,35.83845 L -84.14621,35.84364 L -84.14702,35.84765 L -84.14575,35.84951 L -84.13431,35.85117 L -84.13091,35.85069 L -84.13001,35.84989 L -84.12895,35.84853 L -84.12846,35.84742 L -84.12974,35.84927 L -84.13281,35.8477 L -84.13331,35.85019 L -84.14067,35.84983 L -84.14306,35.84793 L -84.14267,35.84317 L -84.13871,35.84369 L -84.13936,35.84168 L -84.1377,35.84248 L -84.13672,35.84047 L -84.13183,35.84033 L -84.13529,35.83992 L -84.13296,35.8371 L -84.13369,35.83262 L -84.1405,35.82322 L -84.13864,35.81878 L -84.13429,35.81699 L -84.13761,35.81594 L -84.13696,35.81154 L -84.13272,35.8112 L -84.13472,35.80914 L -84.13523,35.80498 L -84.13677,35.80594 L -84.13812,35.80477 L -84.13635,35.79996 L -84.14629,35.79366 L -84.14661,35.79036 L -84.15007,35.78896 L -84.14754,35.79326 L -84.15655,35.79237 L -84.15961,35.79453 L -84.16034,35.79345 L -84.16292,35.80201 L -84.16573,35.80309 L -84.16989,35.80116 L -84.17059,35.79991 L -84.16843,35.79741 L -84.16995,35.7975 L -84.17043,35.79455 L -84.16916,35.78977 L -84.16433,35.78929 L -84.16335,35.7872 L -84.1693,35.78746 L -84.16886,35.78377 L -84.17048,35.78343 L -84.17152,35.77965 L -84.17015,35.77901 L -84.17728,35.77281 L -84.17122,35.77306 L -84.17593,35.77082 L -84.17546,35.76872 L -84.17313,35.76808 L -84.17447,35.76752 L -84.17417,35.76611 L -84.17697,35.76698 L -84.1809,35.75923 L -84.18559,35.75712 L -84.18989,35.75824 L -84.19031,35.75604 L -84.19539,35.7554 L -84.19264,35.7589 L -84.20106,35.76094 L -84.20665,35.76462 L -84.20971,35.7638 L -84.20965,35.76556 L -84.21476,35.76382 L -84.21117,35.76707 L -84.21241,35.76849 L -84.21359,35.76723 L -84.21722,35.7688 L -84.21401,35.77029 L -84.21797,35.77565 L -84.2171,35.77125 L -84.21901,35.76775 L -84.22097,35.77036 L -84.21918,35.7724 L -84.22179,35.77448 L -84.22196,35.77693 L -84.22782,35.77363 L -84.22465,35.77789 L -84.22707,35.7777 L -84.22741,35.78132 L -84.22932,35.78285 L -84.23533,35.78113 L -84.23656,35.77864 L -84.23684,35.78113 L -84.24103,35.78015 L -84.24164,35.7783 L -84.24737,35.77543 L -84.24389,35.77578 L -84.2454,35.77392 L -84.2415,35.77347 L -84.24478,35.77063 L -84.24029,35.76834 L -84.24034,35.76411 L -84.23753,35.76471 L -84.24144,35.76198 L -84.24193,35.75887 L -84.2529,35.75403 L -84.25605,35.7549 L -84.25658,35.75975 L -84.25941,35.75715 L -84.26186,35.7577 L -84.25877,35.75339 L -84.25467,35.75215 L -84.25562,35.74962 L -84.25069,35.75034 L -84.25349,35.74805 L -84.25223,35.74535 L -84.25,35.74436 L -84.24702,35.74703 L -84.24878,35.74192 L -84.24616,35.74364 L -84.24501,35.74189 L -84.24815,35.74036 L -84.24722,35.73832 L -84.24059,35.74156 L -84.24156,35.74018 L -84.2404,35.73913 L -84.24608,35.73742 L -84.24629,35.73614 L -84.23924,35.73594 L -84.23607,35.73152 L -84.23266,35.7322 L -84.23402,35.7313 L -84.23271,35.7282 L -84.24104,35.7331 L -84.24499,35.73379 L -84.24397,35.72923 L -84.24604,35.7288 L -84.24673,35.7205 L -84.25125,35.70769 L -84.25058,35.69815 L -84.24229,35.67774 L -84.24265,35.67397 L -84.24544,35.67149 L -84.26136,35.66981 L -84.26443,35.66702 L -84.26379,35.66456 L -84.26065,35.66256 L -84.24303,35.65832 L -84.23384,35.65078 L -84.23285,35.64527 L -84.2356,35.63997 L -84.24768,35.63371 L -84.2521,35.63011 L -84.25401,35.62612 L -84.25454,35.62051 L -84.25287,35.61751 L -84.24523,35.61754 L -84.22961,35.62228 L -84.22154,35.61524 L -84.21363,35.61606 L -84.21804,35.61394 L -84.21476,35.61336 L -84.21625,35.60991 L -84.21325,35.60977 L -84.19932,35.61623 L -84.21188,35.60515 L -84.20694,35.60359 L -84.20621,35.59913 L -84.20319,35.5998 L -84.2019,35.60362 L -84.19924,35.60435 L -84.19988,35.60847 L -84.19576,35.61035 L -84.19389,35.61417 L -84.18884,35.61126 L -84.18841,35.61047 L -84.18805,35.60984 L -84.19201,35.61133 L -84.1968,35.60742 L -84.19462,35.60515 L -84.19725,35.6049 L -84.19546,35.60147 L -84.20067,35.60195 L -84.20008,35.59867 L -84.19495,35.59817 L -84.19526,35.59678 L -84.18851,35.59082 L -84.18582,35.58625 L -84.18176,35.58597 L -84.1852,35.58428 L -84.18134,35.58018 L -84.1754,35.58137 L -84.18011,35.57867 L -84.17786,35.57657 L -84.16459,35.57453 L -84.16221,35.57293 L -84.16198,35.57448 L -84.15927,35.57503 L -84.15963,35.57272 L -84.15818,35.57379 L -84.15795,35.57233 L -84.15947,35.56947 L -84.15523,35.57224 L -84.15501,35.57464 L -84.15411,35.5734 L -84.14193,35.58084 L -84.15809,35.56819 L -84.15543,35.56411 L -84.15373,35.56505 L -84.14943,35.55735 L -84.14912,35.55068 L -84.14693,35.54819 L -84.1399,35.54704 L -84.13643,35.5509 L -84.13883,35.55804 L -84.14177,35.55965 L -84.14311,35.56251 L -84.14219,35.56752 L -84.13807,35.57088 L -84.1328,35.5709 L -84.12907,35.5736 L -84.13094,35.57037 L -84.12559,35.5686 L -84.11848,35.56873 L -84.1119,35.56574 L -84.10969,35.56834 L -84.10986,35.56606 L -84.10344,35.56253 L -84.11854,35.56772 L -84.10837,35.55905 L -84.09396,35.55442 L -84.0949,35.55324 L -84.08889,35.54363 L -84.08338,35.54102 L -84.06818,35.54631 L -84.05185,35.54627 L -84.04419,35.54243 L -84.04052,35.54217 L -84.0301,35.54654 L -84.01286,35.54655 L -84.00894,35.55326 L -84.0056,35.55468 L -83.99602,35.55286 L -83.99391,35.54992 L -83.99722,35.54099 L -83.99255,35.53064 L -83.99511,35.52618 L -84.00472,35.52306 L -84.00916,35.51905 L -84.01113,35.51497 L -84.00894,35.50958 L -83.9912,35.49857 L -83.98929,35.49454 L -83.98952,35.48979 L -83.98563,35.48672 L -83.98075,35.48782 L -83.97842,35.49658 L -83.97463,35.50106 L -83.96904,35.4989 L -83.95883,35.48985 L -83.94433,35.49065 L -83.93864,35.48769 L -83.94389,35.48066 L -83.9645,35.47216 L -83.96559,35.46681 L -83.96115,35.46365 L -83.95652,35.46378 L -83.95298,35.46055 L -83.94294,35.46448 L -83.94227,35.46717 L -83.93711,35.47143 L -83.92456,35.47431 L -83.9169,35.47353 L -83.91187,35.47594 L -83.90571,35.48898 L -83.90044,35.49301 L -83.90148,35.49647 L -83.89577,35.50178 L -83.89217,35.503 L -83.88436,35.51267 L -83.88266,35.5171 L -83.87273,35.52106 L -83.86651,35.52082 L -83.85723,35.52168 L -83.8486,35.51917 L -83.832,35.52468 L -83.82569,35.52374 L -83.8099,35.53422 L -83.80254,35.5415 L -83.79898,35.54096 L -83.79435,35.54524 L -83.78023,35.5503 L -83.7732,35.55738 L -83.77184,35.56203 L -83.76471,35.56145 L -83.75702,35.56352 L -83.74818,35.55976 L -83.74475,35.56261 L -83.73578,35.56537 L -83.73305,35.56306 L -83.72985,35.56406 L -83.72357,35.56179 L -83.71917,35.56394 L -83.71496,35.56382 L -83.70731,35.56844 L -83.70077,35.56753 L -83.69678,35.57015 L -83.6889,35.5677 L -83.68044,35.57022 L -83.66307,35.56905 L -83.66103,35.56812 L -83.65552,35.56975 L -83.64559,35.56573 L -83.64107,35.56562 L -83.63729,35.56701 L -83.63468,35.57023 L -83.62984,35.5678 L -83.62275,35.57199 L -83.61542,35.57394 L -83.609,35.57936 L -83.60492,35.57925 L -83.59438,35.57282 L -83.5857,35.56285 L -83.57254,35.56543 L -83.56728,35.56457 L -83.5662,35.5659 L -83.55228,35.56425 L -83.52058,35.56551 L -83.51768,35.56278 L -83.49845,35.56289 L -83.49404,35.56648 L -83.48535,35.56834 L -83.47864,35.57911 L -83.4792,35.58322 L -83.4728,35.58646 L -83.47148,35.59021 L -83.4628,35.59251 L -83.46155,35.59523 L -83.45584,35.59795 L -83.45521,35.60184 L -83.45173,35.60334 L -83.45097,35.6063 L -83.44684,35.60895 L -83.44592,35.61171 L -83.42948,35.61011 L -83.4217,35.61109 L -83.42049,35.61337 L -83.4151,35.61452 L -83.40618,35.62009 L -83.39675,35.62263 L -83.39277,35.625 L -83.38884,35.63349 L -83.37811,35.6344 L -83.3723,35.63922 L -83.36706,35.63863 L -83.36443,35.64252 L -83.35833,35.64684 L -83.35566,35.65454 L -83.35168,35.65976 L -83.34396,35.66171 L -83.34065,35.66431 L -83.33781,35.66298 L -83.33509,35.66538 L -83.32123,35.66272 L -83.31288,35.65471 L -83.29881,35.65691 L -83.2938,35.66182 L -83.28929,35.67441 L -83.28363,35.67471 L -83.2813,35.67771 L -83.2715,35.68138 L -83.26974,35.68608 L -83.25929,35.69008 L -83.25436,35.69571 L -83.25525,35.7014 L -83.25768,35.70531 L -83.25082,35.70925 L -83.25562,35.71488 L -83.25137,35.71982 L -83.24363,35.72244 L -83.2408,35.72666 L -83.22011,35.7265 L -83.21463,35.72434 L -83.20388,35.72646 L -83.1984,35.7254 L -83.18581,35.72979 L -83.17763,35.74382 L -83.1703,35.74601 L -83.1649,35.75452 L -83.16504,35.75987 L -83.15934,35.7648 L -83.13658,35.76516 L -83.12784,35.768 L -83.12031,35.76614 L -83.11752,35.76981 L -83.09944,35.77501 L -83.09801,35.77561 L -83.09475,35.77937 L -83.08618,35.78353 L -83.08534,35.7857 L -83.08111,35.78691 L -83.07886,35.78937 L -83.07457,35.78992 L -83.06411,35.78654 L -83.05281,35.78945 L -83.04424,35.78525 L -83.03658,35.78734 L -83.02528,35.78345 L -83.02041,35.78019 L -83.01634,35.78187 L -83.01159,35.77877 L -83.0062,35.7783 L -83.00161,35.77365 L -82.99594,35.77303 L -82.9841,35.77791 L -82.96978,35.78956 L -82.96177,35.79095 L -82.96298,35.79503 L -82.96186,35.80039 L -82.95216,35.81608 L -82.94816,35.8177 L -82.94867,35.81979 L -82.94598,35.8242 L -82.94396,35.82554 L -82.93609,35.82546 L -82.93332,35.83036 L -82.93413,35.83653 L -82.92035,35.83928 L -82.91641,35.8415 L -82.92111,35.85097 L -82.91864,35.85905 L -82.92147,35.86274 L -82.92074,35.86837 L -82.91086,35.8685 L -82.90651,35.87021 L -82.90054,35.87323 L -82.89637,35.87903 L -82.89811,35.88118 L -82.90369,35.88028 L -82.90654,35.88359 L -82.90124,35.89285 L -82.90855,35.90497 L -82.90705,35.9073 L -82.90835,35.911 L -82.91464,35.91505 L -82.91183,35.91665 L -82.91347,35.92401 L -82.91696,35.92405 L -82.92053,35.92712 L -82.92003,35.9287 L -82.91451,35.92958 L -82.90614,35.92618 L -82.90223,35.92671 L -82.89914,35.93028 L -82.90185,35.93761 L -82.89864,35.945 L -82.89279,35.94508 L -82.88927,35.94824 L -82.87814,35.95038 L -82.87429,35.9526 L -82.86086,35.94733 L -82.85177,35.94946 L -82.84598,35.94621 L -82.84473,35.94196 L -82.84139,35.94162 L -82.83897,35.93735 L -82.83395,35.93571 L -82.83301,35.9331 L -82.82907,35.93283 L -82.822,35.92174 L -82.81526,35.92555 L -82.80513,35.92707 L -82.80303,35.92891 L -82.80599,35.93784 L -82.80057,35.94405 L -82.79465,35.94714 L -82.79159,35.95086 L -82.7876,35.95206 L -82.78467,35.9638 L -82.77789,35.96681 L -82.77504,35.97188 L -82.77876,35.97469 L -82.78194,35.97446 L -82.78569,35.97769 L -82.7843,35.98177 L -82.78584,35.98872 L -82.77953,35.99241 L -82.77872,35.9969 L -82.77592,35.99891 L -82.776,36.0007 L -82.7727,36.0004 L -82.7622,36.0047 L -82.7546,36.0042 L -82.7502,36.0059 L -82.7508,36.0087 L -82.749,36.0098 L -82.7461,36.0093 L -82.7424,36.0124 L -82.7402,36.012 L -82.739,36.0149 L -82.7252,36.0181 L -82.7158,36.0229 L -82.715,36.0287 L -82.7076,36.03 L -82.7018,36.0326 L -82.7012,36.0343 L -82.6984,36.034 L -82.697,36.0359 L -82.689,36.0385 L -82.6844,36.0455 L -82.6789,36.0485 L -82.6752,36.0486 L -82.6708,36.0527 L -82.6669,36.0528 L -82.6593,36.057 L -82.65172,36.0572 L -82.6373,36.0657 L -82.6326,36.0657 L -82.6322,36.0641 L -82.6181,36.0553 L -82.6183,36.0469 L -82.6098,36.0448 L -82.6063,36.0409 L -82.60301,36.03973 L -82.57734,36.07828 L -82.5952,36.0961 L -82.52811,36.14856 L -82.53057,36.15324 L -82.53932,36.16098 L -82.54209,36.16666 L -82.55589,36.15961 L -82.56851,36.14953 L -82.58333,36.15063 L -82.58915,36.15441 L -82.59355,36.16008 L -82.60767,36.16363 L -82.61378,36.17281 L -82.61784,36.17384 L -82.61587,36.18038 L -82.60845,36.18609 L -82.60478,36.19245 L -82.60436,36.19619 L -82.60795,36.19728 L -82.6101,36.20108 L -82.61368,36.20236 L -82.62018,36.20071 L -82.61713,36.19586 L -82.62031,36.19204 L -82.62102,36.18807 L -82.62294,36.1875 L -82.62735,36.18869 L -82.63031,36.19208 L -82.64485,36.19971 L -82.64753,36.20068 L -82.64983,36.19908 L -82.65892,36.20198 L -82.66088,36.21064 L -82.66767,36.20952 L -82.66626,36.21597 L -82.67284,36.22177 L -82.67349,36.22493 L -82.66877,36.22946 L -82.68329,36.22817 L -82.68605,36.2243 L -82.69503,36.23033 L -82.68004,36.25199 L -82.67361,36.27748 L -82.68102,36.27854 L -82.69101,36.28553 L -82.68818,36.29317 L -82.6892,36.29981 L -82.69166,36.30334 L -82.68043,36.3143 L -82.67635,36.32238 L -82.67587,36.32822 L -82.66583,36.3331 L -82.66175,36.33948 L -82.65674,36.34271 L -82.65502,36.34633 L -82.65114,36.34933 L -82.64989,36.35271 L -82.64655,36.35452 L -82.64137,36.35386 L -82.63371,36.35607 L -82.63342,36.36064 L -82.63316,36.36467 L -82.63264,36.37285 L -82.63066,36.39957 L -82.63625,36.39829 L -82.64106,36.3949 L -82.64718,36.39802 L -82.64907,36.4021 L -82.65383,36.40146 L -82.65451,36.40574 L -82.65687,36.40755 L -82.65397,36.41097 L -82.66013,36.41534 L -82.70269,36.41031 L -82.7159,36.4014 L -82.7219,36.4038 L -82.727,36.4044 L -82.7302,36.4026 L -82.7562,36.3833 L -82.7608,36.3837 L -82.7672,36.3818 L -82.7751,36.3838 L -82.77984,36.38814 L -82.7956,36.3741 L -82.8134,36.3633 L -82.8204,36.368 L -82.8255,36.3685 L -82.82763,36.36708 L -82.82736,36.37027 L -82.81737,36.38134 L -82.81335,36.38276 L -82.81077,36.38731 L -82.81972,36.39283 L -82.82031,36.39743 L -82.84647,36.38786 L -82.85075,36.39232 L -82.85803,36.39404 L -82.86075,36.39745 L -82.86755,36.40127 L -82.87395,36.40129 L -82.88027,36.399 L -82.89494,36.40903 L -82.89828,36.4083 L -82.90213,36.41139 L -82.90737,36.41112 L -82.92999,36.41774 L -82.93459,36.41687 L -82.93664,36.40619 L -82.95228,36.41721 L -82.95415,36.42447 L -82.95132,36.42486 L -82.95673,36.42973 L -82.95112,36.42971 L -82.95365,36.43477 L -82.95132,36.43658 L -82.95526,36.43768 L -82.95351,36.44081 L -82.95515,36.44148 L -82.95631,36.4472 L -82.94923,36.44525 L -82.95039,36.44786 L -82.94713,36.44979 L -82.95065,36.4515 L -82.94373,36.45267 L -82.9458,36.45542 L -82.94042,36.45313 L -82.93512,36.4562 L -82.93671,36.46112 L -82.94181,36.46556 L -82.94779,36.46487 L -82.94527,36.46707 L -82.94484,36.47291 L -82.93608,36.47455 L -82.94354,36.4817 L -82.93929,36.4816 L -82.9379,36.48435 L -82.9398,36.48595 L -82.93779,36.48751 L -82.94045,36.48934 L -82.9381,36.49216 L -82.94056,36.49397 L -82.93801,36.4958 L -82.93901,36.49889 L -82.93761,36.503 L -82.93946,36.50852 L -82.93696,36.51415 L -82.93923,36.51886 L -82.9392,36.52692 L -82.94436,36.53551 L -82.94282,36.54164 L -82.94558,36.54089 L -82.9428,36.5462 L -82.95063,36.54291 L -83.02383,36.50461 L -83.03531,36.5 L -83.07255,36.47903 L -83.13295,36.44997 L -83.15243,36.43829 L -83.18074,36.4266 L -83.194,36.4242 L -83.1963,36.4262 L -83.1976,36.4316 L -83.2011,36.4323 L -83.20702,36.4415 L -83.20226,36.44373 L -83.2032,36.44577 L -83.2002,36.4483 L -83.1939,36.4484 L -83.1874,36.4526 L -83.17866,36.45111 L -83.18027,36.45559 L -83.1687,36.4599 L -83.1662,36.459 L -83.1622,36.4615 L -83.16707,36.47072 L -83.1628,36.4736 L -83.1633,36.4778 L -83.1579,36.4795 L -83.15811,36.48339 L -83.15381,36.48408 L -83.1458,36.48926 L -83.14408,36.49338 L -83.13634,36.49613 L -83.12782,36.50201 L -83.1236,36.50731 L -83.12595,36.51 L -83.12547,36.51153 L -83.1198,36.51414 L -83.12574,36.51769 L -83.12834,36.52648 L -83.13305,36.52966 L -83.13171,36.53403 L -83.12667,36.53716 L -83.13674,36.54272 L -83.13562,36.5444 L -83.15289,36.54464 L -83.15672,36.54922 L -83.15852,36.55607 L -83.13274,36.57324 L -83.1181,36.58107 L -83.10618,36.58968 L -83.10401,36.59396 L -83.17594,36.5938 L -83.2612,36.5938 L -83.40628,36.5973 L -83.40367,36.61584 L -83.40741,36.62401 L -83.40402,36.63112 L -83.40493,36.63598 L -83.41086,36.63907 L -83.41535,36.64392 L -83.42439,36.64584 L -83.42296,36.64811 L -83.42946,36.65518 L -83.42389,36.65852 L -83.41255,36.66114 L -83.41475,36.66991 L -83.4184,36.6686 L -83.4609,36.6648 L -83.4591,36.6974 L -83.47237,36.70529 L -83.46927,36.70426 L -83.46268,36.70596 L -83.46038,36.7047 L -83.45399,36.70962 L -83.45097,36.70679 L -83.44896,36.71049 L -83.45223,36.71532 L -83.45495,36.71669 L -83.45312,36.72274 L -83.45995,36.73261 L -83.4611,36.73984 L -83.43423,36.73023 L -83.43237,36.73625 L -83.42983,36.73885 L -83.43068,36.73992 L -83.42721,36.74083 L -83.41137,36.73165 L -83.3971,36.7331 L -83.38861,36.73917 L -83.38473,36.74428 L -83.39058,36.74504 L -83.39436,36.74899 L -83.39887,36.74672 L -83.40234,36.74712 L -83.40495,36.75044 L -83.40448,36.75411 L -83.40641,36.75652 L -83.41272,36.75776 L -83.41249,36.76121 L -83.41667,36.76553 L -83.42104,36.76564 L -83.42457,36.77079 L -83.43343,36.76948 L -83.44077,36.77215 L -83.45142,36.77286 L -83.4583,36.77881 L -83.46639,36.77982 L -83.4674,36.78385 L -83.47245,36.78584 L -83.47986,36.78616 L -83.4859,36.7832 L -83.4945,36.7892 L -83.5013,36.79905 L -83.51139,36.80778 L -83.49089,36.83649 L -83.47609,36.8418 L -83.46572,36.84919 L -83.45022,36.855 L -83.42823,36.86705 L -83.41562,36.8703 L -83.39671,36.87579 L -83.39149,36.87564 L -83.38761,36.8778 L -83.37993,36.8775 L -83.36768,36.88075 L -83.3602,36.88455 L -83.35432,36.88979 L -83.34973,36.8934 L -83.34059,36.89602 L -83.3293,36.89812 L -83.32028,36.89887 L -83.31807,36.89825 L -83.31096,36.89839 L -83.30993,36.89893 L -83.3227,36.90092 L -83.33452,36.89936 L -83.35114,36.90018 L -83.3543,36.90158 L -83.375,36.88707 L -83.38411,36.88714 L -83.40369,36.88356 L -83.40046,36.8925 L -83.39183,36.89652 L -83.3924,36.89927 L -83.38185,36.90427 L -83.37989,36.90799 L -83.37539,36.91128 L -83.37685,36.91482 L -83.37583,36.91615 L -83.36782,36.91958 L -83.36674,36.92347 L -83.37019,36.92537 L -83.37214,36.92885 L -83.3844,36.9263 L -83.3859,36.9223 L -83.3928,36.9193 L -83.4001,36.9205 L -83.4028,36.9157 L -83.4005,36.913 L -83.4019,36.9071 L -83.3968,36.9052 L -83.3961,36.9002 L -83.4007,36.8987 L -83.4089,36.8904 L -83.4332,36.889 L -83.4347,36.8942 L -83.4468,36.8898 L -83.4518,36.8921 L -83.4539,36.8904 L -83.4557,36.8841 L -83.4576,36.8832 L -83.4599,36.886 L -83.4647,36.8868 L -83.4659,36.8894 L -83.4738,36.8918 L -83.4772,36.8966 L -83.4834,36.8932 L -83.4876,36.893 L -83.48993,36.89528 L -83.4922,36.8967 L -83.4995,36.8953 L -83.5044,36.8985 L -83.5034,36.9012 L -83.5049,36.9039 L -83.5035,36.9057 L -83.499,36.9058 L -83.4978,36.9092 L -83.4921,36.9104 L -83.4893,36.913 L -83.4925,36.9188 L -83.4993,36.9196 L -83.5011,36.9233 L -83.5042,36.9247 L -83.5081,36.923 L -83.511,36.9251 L -83.5108,36.9338 L -83.5091,36.9383 L -83.5217,36.9376 L -83.5316,36.94311 L -83.5896,36.9557 L -83.5908,36.9515 L -83.5875,36.9493 L -83.5839,36.9412 L -83.5804,36.9407 L -83.5783,36.9379 L -83.5738,36.9403 L -83.5698,36.9394 L -83.5702,36.935 L -83.5661,36.9313 L -83.5678,36.9282 L -83.57038,36.92755 L -83.5718,36.9281 L -83.5756,36.9222 L -83.5743,36.9142 L -83.5806,36.9086 L -83.5814,36.9042 L -83.5841,36.9031 L -83.5856,36.9058 L -83.588,36.9056 L -83.5953,36.8996 L -83.6004,36.9009 L -83.605,36.8965 L -83.6129,36.8977 L -83.61549,36.89105 L -83.61654,36.89249 L -83.62121,36.89215 L -83.625,36.89015 L -83.63713,36.89499 L -83.63898,36.9065 L -83.64199,36.91184 L -83.64584,36.91401 L -83.6478,36.91996 L -83.65236,36.92243 L -83.65427,36.92234 L -83.66487,36.91269 L -83.66898,36.91431 L -83.67359,36.91226 L -83.68377,36.91409 L -83.69402,36.90656 L -83.69958,36.90436 L -83.70282,36.89589 L -83.7071,36.89283 L -83.70706,36.88711 L -83.70086,36.88256 L -83.69171,36.8813 L -83.69102,36.87862 L -83.69504,36.87358 L -83.69723,36.86294 L -83.69524,36.86037 L -83.68583,36.86181 L -83.68349,36.86048 L -83.6825,36.855 L -83.6855,36.8491 L -83.6894,36.8473 L -83.6892,36.8434 L -83.6919,36.8396 L -83.6879,36.8357 L -83.6908,36.8347 L -83.708,36.8357 L -83.7097,36.8342 L -83.7078,36.8301 L -83.70896,36.82691 L -83.71858,36.83022 L -83.72038,36.83322 L -83.71844,36.83601 L -83.71987,36.84281 L -83.72798,36.84468 L -83.73302,36.84788 L -83.73519,36.85266 L -83.74647,36.86307 L -83.74431,36.86524 L -83.74742,36.86684 L -83.7512,36.86298 L -83.75687,36.85689 L -83.76467,36.85424 L -83.76894,36.85317 L -83.77657,36.85633 L -83.78591,36.85171 L -83.79089,36.8527 L -83.79546,36.85958 L -83.80009,36.8559 L -83.79929,36.85219 L -83.80191,36.84993 L -83.80297,36.8459 L -83.81071,36.84116 L -83.81529,36.84105 L -83.8131,36.8394 L -83.81583,36.83759 L -83.82372,36.83844 L -83.82898,36.83672 L -83.8345,36.82885 L -83.83348,36.8256 L -83.83979,36.82263 L -83.84429,36.8242 L -83.84812,36.8295 L -83.85292,36.83569 L -83.86174,36.83719 L -83.87247,36.83192 L -83.87164,36.83 L -83.875,36.82915 L -83.86629,36.82893 L -83.86381,36.82703 L -83.86629,36.82447 L -83.875,36.82303 L -83.88167,36.82392 L -83.88466,36.81685 L -83.88011,36.80748 L -83.8831,36.8044 L -83.88301,36.80043 L -83.88731,36.79504 L -83.88557,36.79139 L -83.88223,36.79198 L -83.87583,36.78876 L -83.86722,36.7898 L -83.86496,36.78361 L -83.86591,36.77853 L -83.86097,36.76964 L -83.86244,36.7672 L -83.85977,36.76463 L -83.86178,36.76326 L -83.86006,36.76055 L -83.86086,36.75801 L -83.85863,36.75609 L -83.86061,36.75378 L -83.87054,36.75109 L -83.875,36.75479 L -83.87867,36.75385 L -83.88226,36.75545 L -83.88483,36.75895 L -83.89061,36.75565 L -83.88844,36.75131 L -83.88804,36.7426 L -83.87749,36.74049 L -83.87719,36.73823 L -83.87234,36.7357 L -83.87569,36.7329 L -83.8745,36.72141 L -83.86776,36.71719 L -83.86485,36.71777 L -83.8657,36.7148 L -83.8684,36.7138 L -83.8738,36.7061 L -83.8716,36.6998 L -83.8782,36.6941 L -83.88,36.6901 L -83.87784,36.68728 L -83.8786,36.6801 z M -84.26135,35.63517 L -84.25714,35.63249 L -84.26334,35.6316 L -84.26667,35.6281 L -84.26928,35.62775 L -84.26852,35.6265 L -84.27245,35.62602 L -84.27236,35.62846 L -84.26782,35.62908 L -84.27127,35.63082 L -84.26538,35.6318 L -84.26135,35.63517 z\" /><path fill-rule=\"evenodd\" fill=\"#66cc99\" stroke=\"#555555\" stroke-width=\"0.053692631999999775\" opacity=\"0.6\" d=\"M -84.21736,35.57746 L -84.21386,35.57863 L -84.21162,35.58133 L -84.21044,35.58794 L -84.20781,35.59371 L -84.20238,35.59611 L -84.20215,35.59687 L -84.20798,35.59574 L -84.20949,35.5984 L -84.2091,35.60046 L -84.21235,35.60167 L -84.21465,35.59634 L -84.21731,35.59403 L -84.21798,35.59158 L -84.22,35.59011 L -84.21966,35.58826 L -84.22039,35.58728 L -84.22386,35.58652 L -84.22106,35.58487 L -84.22092,35.58304 L -84.22005,35.58274 L -84.22061,35.58199 L -84.21977,35.58089 L -84.21971,35.5784 L -84.21736,35.57746 z\" /></g></g></svg>"
      ],
      "text/plain": [
       "<MULTIPOLYGON (((-83.879 36.68, -83.902 36.67, -83.918 36.661, -83.925 36.66...>"
      ]
     },
     "execution_count": 138,
     "metadata": {},
     "output_type": "execute_result"
    }
   ],
   "source": [
    "hrr.loc[i].geometry"
   ]
  },
  {
   "cell_type": "code",
   "execution_count": null,
   "id": "c03a6e08",
   "metadata": {},
   "outputs": [],
   "source": []
  },
  {
   "cell_type": "code",
   "execution_count": 6,
   "id": "d8b7f893",
   "metadata": {
    "scrolled": true
   },
   "outputs": [
    {
     "ename": "NameError",
     "evalue": "name 'a' is not defined",
     "output_type": "error",
     "traceback": [
      "\u001b[0;31m---------------------------------------------------------------------------\u001b[0m",
      "\u001b[0;31mNameError\u001b[0m                                 Traceback (most recent call last)",
      "\u001b[0;32m<ipython-input-6-50b89398e899>\u001b[0m in \u001b[0;36m<module>\u001b[0;34m\u001b[0m\n\u001b[0;32m----> 1\u001b[0;31m \u001b[0mlen\u001b[0m\u001b[0;34m(\u001b[0m\u001b[0mset\u001b[0m\u001b[0;34m(\u001b[0m\u001b[0ma\u001b[0m\u001b[0;34m.\u001b[0m\u001b[0mlongname\u001b[0m\u001b[0;34m)\u001b[0m\u001b[0;34m)\u001b[0m\u001b[0;34m\u001b[0m\u001b[0;34m\u001b[0m\u001b[0m\n\u001b[0m",
      "\u001b[0;31mNameError\u001b[0m: name 'a' is not defined"
     ]
    }
   ],
   "source": [
    "len(set(a.longname))"
   ]
  },
  {
   "cell_type": "code",
   "execution_count": 72,
   "id": "00ab879e",
   "metadata": {},
   "outputs": [
    {
     "data": {
      "application/vnd.jupyter.widget-view+json": {
       "model_id": "679a3b86465f4156b28f13ec71ea1e60",
       "version_major": 2,
       "version_minor": 0
      },
      "text/plain": [
       "cross county CD:   0%|          | 0/50 [00:00<?, ?it/s]"
      ]
     },
     "metadata": {},
     "output_type": "display_data"
    }
   ],
   "source": []
  },
  {
   "cell_type": "code",
   "execution_count": 73,
   "id": "8eab7a3b",
   "metadata": {
    "scrolled": true
   },
   "outputs": [],
   "source": []
  },
  {
   "cell_type": "code",
   "execution_count": 74,
   "id": "8dbb3d36",
   "metadata": {},
   "outputs": [
    {
     "data": {
      "text/html": [
       "<div>\n",
       "<style scoped>\n",
       "    .dataframe tbody tr th:only-of-type {\n",
       "        vertical-align: middle;\n",
       "    }\n",
       "\n",
       "    .dataframe tbody tr th {\n",
       "        vertical-align: top;\n",
       "    }\n",
       "\n",
       "    .dataframe thead th {\n",
       "        text-align: right;\n",
       "    }\n",
       "</style>\n",
       "<table border=\"1\" class=\"dataframe\">\n",
       "  <thead>\n",
       "    <tr style=\"text-align: right;\">\n",
       "      <th></th>\n",
       "      <th>shortname_1</th>\n",
       "      <th>longname_1</th>\n",
       "      <th>shortname_2</th>\n",
       "      <th>longname_2</th>\n",
       "      <th>geometry</th>\n",
       "      <th>shortname</th>\n",
       "      <th>longname</th>\n",
       "    </tr>\n",
       "  </thead>\n",
       "  <tbody>\n",
       "    <tr>\n",
       "      <th>1</th>\n",
       "      <td>AL-07</td>\n",
       "      <td>AL-07, USA</td>\n",
       "      <td>Choctaw County</td>\n",
       "      <td>Choctaw County, Alabama, USA</td>\n",
       "      <td>POLYGON ((-88.46858 31.93295, -88.46856 31.933...</td>\n",
       "      <td>AL-07 in Choctaw County</td>\n",
       "      <td>AL-07 in Choctaw County, USA</td>\n",
       "    </tr>\n",
       "    <tr>\n",
       "      <th>3</th>\n",
       "      <td>AL-07</td>\n",
       "      <td>AL-07, USA</td>\n",
       "      <td>Clarke County</td>\n",
       "      <td>Clarke County, Alabama, USA</td>\n",
       "      <td>POLYGON ((-87.51836 31.81439, -87.51705 31.753...</td>\n",
       "      <td>AL-07 in Clarke County</td>\n",
       "      <td>AL-07 in Clarke County, USA</td>\n",
       "    </tr>\n",
       "    <tr>\n",
       "      <th>6</th>\n",
       "      <td>AL-07</td>\n",
       "      <td>AL-07, USA</td>\n",
       "      <td>Wilcox County</td>\n",
       "      <td>Wilcox County, Alabama, USA</td>\n",
       "      <td>POLYGON ((-86.86191 31.96213, -86.86336 31.962...</td>\n",
       "      <td>AL-07 in Wilcox County</td>\n",
       "      <td>AL-07 in Wilcox County, USA</td>\n",
       "    </tr>\n",
       "    <tr>\n",
       "      <th>7</th>\n",
       "      <td>AL-01</td>\n",
       "      <td>AL-01, USA</td>\n",
       "      <td>Baldwin County</td>\n",
       "      <td>Baldwin County, Alabama, USA</td>\n",
       "      <td>POLYGON ((-87.94166 31.19041, -87.94051 31.189...</td>\n",
       "      <td>AL-01 in Baldwin County</td>\n",
       "      <td>AL-01 in Baldwin County, USA</td>\n",
       "    </tr>\n",
       "    <tr>\n",
       "      <th>9</th>\n",
       "      <td>AL-01</td>\n",
       "      <td>AL-01, USA</td>\n",
       "      <td>Washington County</td>\n",
       "      <td>Washington County, Alabama, USA</td>\n",
       "      <td>POLYGON ((-88.46418 31.69794, -88.45906 31.697...</td>\n",
       "      <td>AL-01 in Washington County</td>\n",
       "      <td>AL-01 in Washington County, USA</td>\n",
       "    </tr>\n",
       "    <tr>\n",
       "      <th>...</th>\n",
       "      <td>...</td>\n",
       "      <td>...</td>\n",
       "      <td>...</td>\n",
       "      <td>...</td>\n",
       "      <td>...</td>\n",
       "      <td>...</td>\n",
       "      <td>...</td>\n",
       "    </tr>\n",
       "    <tr>\n",
       "      <th>131</th>\n",
       "      <td>AL-07</td>\n",
       "      <td>AL-07, USA</td>\n",
       "      <td>Perry County</td>\n",
       "      <td>Perry County, Alabama, USA</td>\n",
       "      <td>POLYGON ((-87.40177 32.87456, -87.39767 32.874...</td>\n",
       "      <td>AL-07 in Perry County</td>\n",
       "      <td>AL-07 in Perry County, USA</td>\n",
       "    </tr>\n",
       "    <tr>\n",
       "      <th>132</th>\n",
       "      <td>AL-06</td>\n",
       "      <td>AL-06, USA</td>\n",
       "      <td>Bibb County</td>\n",
       "      <td>Bibb County, Alabama, USA</td>\n",
       "      <td>POLYGON ((-87.41689 33.00347, -87.41648 33.003...</td>\n",
       "      <td>AL-06 in Bibb County</td>\n",
       "      <td>AL-06 in Bibb County, USA</td>\n",
       "    </tr>\n",
       "    <tr>\n",
       "      <th>134</th>\n",
       "      <td>AL-07</td>\n",
       "      <td>AL-07, USA</td>\n",
       "      <td>Marengo County</td>\n",
       "      <td>Marengo County, Alabama, USA</td>\n",
       "      <td>POLYGON ((-88.11741 32.05508, -88.11454 32.057...</td>\n",
       "      <td>AL-07 in Marengo County</td>\n",
       "      <td>AL-07 in Marengo County, USA</td>\n",
       "    </tr>\n",
       "    <tr>\n",
       "      <th>135</th>\n",
       "      <td>AL-07</td>\n",
       "      <td>AL-07, USA</td>\n",
       "      <td>Greene County</td>\n",
       "      <td>Greene County, Alabama, USA</td>\n",
       "      <td>POLYGON ((-88.20639 32.92563, -88.20060 32.929...</td>\n",
       "      <td>AL-07 in Greene County</td>\n",
       "      <td>AL-07 in Greene County, USA</td>\n",
       "    </tr>\n",
       "    <tr>\n",
       "      <th>136</th>\n",
       "      <td>AL-07</td>\n",
       "      <td>AL-07, USA</td>\n",
       "      <td>Sumter County</td>\n",
       "      <td>Sumter County, Alabama, USA</td>\n",
       "      <td>POLYGON ((-88.42133 32.30975, -88.42095 32.312...</td>\n",
       "      <td>AL-07 in Sumter County</td>\n",
       "      <td>AL-07 in Sumter County, USA</td>\n",
       "    </tr>\n",
       "  </tbody>\n",
       "</table>\n",
       "<p>73 rows × 7 columns</p>\n",
       "</div>"
      ],
      "text/plain": [
       "    shortname_1  longname_1        shortname_2  \\\n",
       "1         AL-07  AL-07, USA     Choctaw County   \n",
       "3         AL-07  AL-07, USA      Clarke County   \n",
       "6         AL-07  AL-07, USA      Wilcox County   \n",
       "7         AL-01  AL-01, USA     Baldwin County   \n",
       "9         AL-01  AL-01, USA  Washington County   \n",
       "..          ...         ...                ...   \n",
       "131       AL-07  AL-07, USA       Perry County   \n",
       "132       AL-06  AL-06, USA        Bibb County   \n",
       "134       AL-07  AL-07, USA     Marengo County   \n",
       "135       AL-07  AL-07, USA      Greene County   \n",
       "136       AL-07  AL-07, USA      Sumter County   \n",
       "\n",
       "                          longname_2  \\\n",
       "1       Choctaw County, Alabama, USA   \n",
       "3        Clarke County, Alabama, USA   \n",
       "6        Wilcox County, Alabama, USA   \n",
       "7       Baldwin County, Alabama, USA   \n",
       "9    Washington County, Alabama, USA   \n",
       "..                               ...   \n",
       "131       Perry County, Alabama, USA   \n",
       "132        Bibb County, Alabama, USA   \n",
       "134     Marengo County, Alabama, USA   \n",
       "135      Greene County, Alabama, USA   \n",
       "136      Sumter County, Alabama, USA   \n",
       "\n",
       "                                              geometry  \\\n",
       "1    POLYGON ((-88.46858 31.93295, -88.46856 31.933...   \n",
       "3    POLYGON ((-87.51836 31.81439, -87.51705 31.753...   \n",
       "6    POLYGON ((-86.86191 31.96213, -86.86336 31.962...   \n",
       "7    POLYGON ((-87.94166 31.19041, -87.94051 31.189...   \n",
       "9    POLYGON ((-88.46418 31.69794, -88.45906 31.697...   \n",
       "..                                                 ...   \n",
       "131  POLYGON ((-87.40177 32.87456, -87.39767 32.874...   \n",
       "132  POLYGON ((-87.41689 33.00347, -87.41648 33.003...   \n",
       "134  POLYGON ((-88.11741 32.05508, -88.11454 32.057...   \n",
       "135  POLYGON ((-88.20639 32.92563, -88.20060 32.929...   \n",
       "136  POLYGON ((-88.42133 32.30975, -88.42095 32.312...   \n",
       "\n",
       "                      shortname                         longname  \n",
       "1       AL-07 in Choctaw County     AL-07 in Choctaw County, USA  \n",
       "3        AL-07 in Clarke County      AL-07 in Clarke County, USA  \n",
       "6        AL-07 in Wilcox County      AL-07 in Wilcox County, USA  \n",
       "7       AL-01 in Baldwin County     AL-01 in Baldwin County, USA  \n",
       "9    AL-01 in Washington County  AL-01 in Washington County, USA  \n",
       "..                          ...                              ...  \n",
       "131       AL-07 in Perry County       AL-07 in Perry County, USA  \n",
       "132        AL-06 in Bibb County        AL-06 in Bibb County, USA  \n",
       "134     AL-07 in Marengo County     AL-07 in Marengo County, USA  \n",
       "135      AL-07 in Greene County      AL-07 in Greene County, USA  \n",
       "136      AL-07 in Sumter County      AL-07 in Sumter County, USA  \n",
       "\n",
       "[73 rows x 7 columns]"
      ]
     },
     "execution_count": 74,
     "metadata": {},
     "output_type": "execute_result"
    }
   ],
   "source": [
    "db"
   ]
  },
  {
   "cell_type": "code",
   "execution_count": 145,
   "id": "1b3ec570",
   "metadata": {},
   "outputs": [
    {
     "data": {
      "image/svg+xml": [
       "<svg xmlns=\"http://www.w3.org/2000/svg\" xmlns:xlink=\"http://www.w3.org/1999/xlink\" width=\"100.0\" height=\"100.0\" viewBox=\"-88.5319248 30.0769302 1.7951966000000112 1.8223595999999986\" preserveAspectRatio=\"xMinYMin meet\"><g transform=\"matrix(1,0,0,-1,0,61.97622)\"><path fill-rule=\"evenodd\" fill=\"#66cc99\" stroke=\"#555555\" stroke-width=\"0.036447191999999975\" opacity=\"0.6\" d=\"M -88.46443,31.697952 L -88.464181,31.697944 L -88.459063,31.697929 L -88.451363,31.697999 L -88.441858,31.698086 L -88.438829,31.698113 L -88.437289,31.698127 L -88.43588,31.69814 L -88.433662,31.69816 L -88.433567,31.698161 L -88.433532,31.698161 L -88.433277,31.698163 L -88.433082,31.698165 L -88.432411,31.698171 L -88.432394,31.698171 L -88.430546,31.698177 L -88.427165,31.698154 L -88.413241,31.698034 L -88.405406,31.69799 L -88.402742,31.698125 L -88.402544,31.698135 L -88.402439,31.69814 L -88.402346,31.698145 L -88.402312,31.698147 L -88.400793,31.698224 L -88.400224,31.698282 L -88.399851,31.698321 L -88.399373,31.698306 L -88.398129,31.698268 L -88.398116,31.698268 L -88.395778,31.69825 L -88.395031,31.698244 L -88.392487,31.698225 L -88.392456,31.698225 L -88.385953,31.698172 L -88.378671,31.698116 L -88.375019,31.698111 L -88.373993,31.698185 L -88.36757,31.698215 L -88.365889,31.698223 L -88.365878,31.698223 L -88.36582,31.698223 L -88.365645,31.698224 L -88.364184,31.698231 L -88.362174,31.69824 L -88.361745,31.698242 L -88.357593,31.698262 L -88.357555,31.698262 L -88.357539,31.698262 L -88.357528,31.698262 L -88.357484,31.698263 L -88.357435,31.698263 L -88.357422,31.698263 L -88.352044,31.698289 L -88.351009,31.698293 L -88.34231,31.698336 L -88.339887,31.698348 L -88.339647,31.698349 L -88.338848,31.698353 L -88.338831,31.698353 L -88.338801,31.698353 L -88.338767,31.698353 L -88.338743,31.698354 L -88.338724,31.698354 L -88.338658,31.698354 L -88.337479,31.69836 L -88.332715,31.698383 L -88.319412,31.698447 L -88.313024,31.69845 L -88.312339,31.69845 L -88.309621,31.698451 L -88.30951,31.698451 L -88.309481,31.698451 L -88.309466,31.698451 L -88.309451,31.698452 L -88.309393,31.698452 L -88.309182,31.698452 L -88.308864,31.698452 L -88.308494,31.698452 L -88.306773,31.698453 L -88.306727,31.698453 L -88.306577,31.698453 L -88.305051,31.698454 L -88.304293,31.698454 L -88.303721,31.698454 L -88.303102,31.698454 L -88.302995,31.698454 L -88.301061,31.698455 L -88.30091,31.698455 L -88.300795,31.698455 L -88.298875,31.698456 L -88.298823,31.698456 L -88.298737,31.698456 L -88.28717,31.698462 L -88.274537,31.698465 L -88.272875,31.698465 L -88.266822,31.698467 L -88.265615,31.698488 L -88.265382,31.69849 L -88.265335,31.698491 L -88.264471,31.698509 L -88.261876,31.698525 L -88.261765,31.698526 L -88.261749,31.698526 L -88.261723,31.698526 L -88.261697,31.698526 L -88.261669,31.698527 L -88.261625,31.698527 L -88.261351,31.698529 L -88.260991,31.698531 L -88.259024,31.698543 L -88.25765,31.698551 L -88.254842,31.698568 L -88.250012,31.698576 L -88.240751,31.698573 L -88.234516,31.698571 L -88.22428,31.698588 L -88.224032,31.698588 L -88.224003,31.698588 L -88.223974,31.698589 L -88.223925,31.698589 L -88.22386,31.698589 L -88.223795,31.698589 L -88.223747,31.698589 L -88.223719,31.698589 L -88.223377,31.69859 L -88.223167,31.69859 L -88.214093,31.698605 L -88.208548,31.698578 L -88.206499,31.698582 L -88.203628,31.698588 L -88.198675,31.698599 L -88.19401,31.698609 L -88.189667,31.698617 L -88.188857,31.698619 L -88.188836,31.698619 L -88.186891,31.698616 L -88.184316,31.698611 L -88.180248,31.698603 L -88.163818,31.698648 L -88.159456,31.69866 L -88.159406,31.69866 L -88.159366,31.69866 L -88.159328,31.69866 L -88.159301,31.69866 L -88.159269,31.698661 L -88.158908,31.698662 L -88.155129,31.698672 L -88.141977,31.698757 L -88.130114,31.698757 L -88.125008,31.698757 L -88.111381,31.698985 L -88.106851,31.699048 L -88.100148,31.69914 L -88.088915,31.699294 L -88.088288,31.699303 L -88.088206,31.698968 L -88.087639,31.695957 L -88.087801,31.69267 L -88.087274,31.688673 L -88.086946,31.686181 L -88.083009,31.68057 L -88.081652,31.678991 L -88.080629,31.67785 L -88.080207,31.677064 L -88.080058,31.676786 L -88.079289,31.674921 L -88.078747,31.670682 L -88.078711,31.669618 L -88.078615,31.666762 L -88.078863,31.662555 L -88.079488,31.661534 L -88.08107,31.660135 L -88.082284,31.659548 L -88.084041,31.659135 L -88.087456,31.658803 L -88.089388,31.658747 L -88.090211,31.658504 L -88.090896,31.657921 L -88.091189,31.657059 L -88.090949,31.655836 L -88.090127,31.654512 L -88.087217,31.648967 L -88.086682,31.647168 L -88.086624,31.645656 L -88.086399,31.643238 L -88.086587,31.639378 L -88.085497,31.63452 L -88.083974,31.63032 L -88.082733,31.627804 L -88.081155,31.625161 L -88.076229,31.619592 L -88.075355,31.618335 L -88.074779,31.617387 L -88.074261,31.616382 L -88.074367,31.615164 L -88.07461,31.613438 L -88.075188,31.612102 L -88.077577,31.608784 L -88.079284,31.606793 L -88.079963,31.605772 L -88.080102,31.605079 L -88.080148,31.604143 L -88.080063,31.60319 L -88.079749,31.60251 L -88.078922,31.601213 L -88.075648,31.598454 L -88.072234,31.5945 L -88.069482,31.592733 L -88.065769,31.590348 L -88.060198,31.587333 L -88.051449,31.583504 L -88.049853,31.583494 L -88.037251,31.583422 L -88.031609,31.583907 L -88.028801,31.584153 L -88.027693,31.584251 L -88.025463,31.583897 L -88.023454,31.583019 L -88.02205,31.581895 L -88.02111,31.580685 L -88.019733,31.578956 L -88.017778,31.576512 L -88.017258,31.575766 L -88.017008,31.575028 L -88.01691,31.574738 L -88.016931,31.573624 L -88.01757,31.572878 L -88.018531,31.571965 L -88.019933,31.571337 L -88.021605,31.570969 L -88.023349,31.570917 L -88.025268,31.571342 L -88.027184,31.57205 L -88.03256,31.574582 L -88.034337,31.575063 L -88.036503,31.575239 L -88.038297,31.57501 L -88.039716,31.574503 L -88.039957,31.573939 L -88.039997,31.57327 L -88.040058,31.572261 L -88.03966,31.571604 L -88.038295,31.570481 L -88.036142,31.567955 L -88.032541,31.562432 L -88.031315,31.560552 L -88.031277,31.560494 L -88.024208,31.55586 L -88.020322,31.553427 L -88.018627,31.552366 L -88.01651,31.551963 L -88.011582,31.550976 L -88.007847,31.549085 L -88.000002,31.545112 L -87.99826,31.543981 L -87.997192,31.54337 L -87.995644,31.54257 L -87.994596,31.542056 L -87.99386,31.541796 L -87.99174,31.541107 L -87.981756,31.538901 L -87.979596,31.538147 L -87.979134,31.537901 L -87.978518,31.537399 L -87.977814,31.536623 L -87.975132,31.532728 L -87.974714,31.532312 L -87.974288,31.532002 L -87.973768,31.531652 L -87.973418,31.531445 L -87.970377,31.530546 L -87.966071,31.530025 L -87.960029,31.529294 L -87.958498,31.529219 L -87.946177,31.5276 L -87.943899,31.527231 L -87.943212,31.527019 L -87.942514,31.526719 L -87.940746,31.525573 L -87.93746,31.522909 L -87.936534,31.521947 L -87.936455,31.521866 L -87.936376,31.521786 L -87.936326,31.521734 L -87.935068,31.520446 L -87.934165,31.51947 L -87.931768,31.516555 L -87.930168,31.514359 L -87.92899,31.51224 L -87.928383,31.510826 L -87.927908,31.509435 L -87.926951,31.506047 L -87.926622,31.505171 L -87.926213,31.504626 L -87.925519,31.50385 L -87.924989,31.503379 L -87.92444,31.503021 L -87.920869,31.501333 L -87.920535,31.501176 L -87.920495,31.501163 L -87.918479,31.500163 L -87.907399,31.494438 L -87.907306,31.494366 L -87.906894,31.494046 L -87.906597,31.493609 L -87.906292,31.49285 L -87.90611,31.491954 L -87.906143,31.491752 L -87.906265,31.491021 L -87.906618,31.490055 L -87.907212,31.488084 L -87.908495,31.485183 L -87.909263,31.483557 L -87.909635,31.482772 L -87.9112,31.480008 L -87.913191,31.476385 L -87.914524,31.474587 L -87.916412,31.472405 L -87.91831,31.470239 L -87.918751,31.468614 L -87.919088,31.467141 L -87.919001,31.465956 L -87.918543,31.464116 L -87.917187,31.460419 L -87.91669,31.458813 L -87.916145,31.455845 L -87.915321,31.452578 L -87.915253,31.451478 L -87.915235,31.451183 L -87.91545,31.449766 L -87.916197,31.448787 L -87.918024,31.447306 L -87.919604,31.446565 L -87.92121,31.446017 L -87.923874,31.445741 L -87.930892,31.444906 L -87.933325,31.444048 L -87.934482,31.443232 L -87.935106,31.442398 L -87.935366,31.441182 L -87.935193,31.440375 L -87.934954,31.439496 L -87.934359,31.438599 L -87.933669,31.43795 L -87.932417,31.437299 L -87.930949,31.436712 L -87.929094,31.436428 L -87.927014,31.436329 L -87.925242,31.436352 L -87.923066,31.436486 L -87.921979,31.436537 L -87.920922,31.436056 L -87.919848,31.435422 L -87.918498,31.433908 L -87.917484,31.432509 L -87.916698,31.430797 L -87.916281,31.429852 L -87.915043,31.428419 L -87.913823,31.42718 L -87.912079,31.425519 L -87.911139,31.424402 L -87.91093,31.423321 L -87.911122,31.422534 L -87.91182,31.421812 L -87.913995,31.420236 L -87.91536,31.419365 L -87.917482,31.418772 L -87.918862,31.418335 L -87.920066,31.417584 L -87.921433,31.416181 L -87.922342,31.414703 L -87.92393,31.412391 L -87.926277,31.410034 L -87.927723,31.407978 L -87.927818,31.407842 L -87.927853,31.406561 L -87.927418,31.405745 L -87.926784,31.405113 L -87.925915,31.404698 L -87.925035,31.404508 L -87.923948,31.404551 L -87.92272,31.404673 L -87.921461,31.405142 L -87.920538,31.405871 L -87.919736,31.406946 L -87.918681,31.407763 L -87.917412,31.408296 L -87.915799,31.408441 L -87.913692,31.408132 L -87.910362,31.407196 L -87.908735,31.406599 L -87.907342,31.406068 L -87.905869,31.40473 L -87.905081,31.403372 L -87.904486,31.401024 L -87.904785,31.399608 L -87.905037,31.39828 L -87.906669,31.397254 L -87.907123,31.397162 L -87.908512,31.396384 L -87.90918,31.395834 L -87.910009,31.395284 L -87.911157,31.394757 L -87.912066,31.394528 L -87.913856,31.394528 L -87.915298,31.394758 L -87.916821,31.394873 L -87.919118,31.395217 L -87.919893,31.395377 L -87.921283,31.395492 L -87.922458,31.395767 L -87.924061,31.395767 L -87.924622,31.395676 L -87.92553,31.395905 L -87.926546,31.395997 L -87.927213,31.396134 L -87.92732,31.396226 L -87.927705,31.396568 L -87.929348,31.396061 L -87.930203,31.395622 L -87.930946,31.395231 L -87.931793,31.394567 L -87.932237,31.394021 L -87.932992,31.393043 L -87.933626,31.391966 L -87.933733,31.391274 L -87.933803,31.390428 L -87.933813,31.388825 L -87.933867,31.387584 L -87.933976,31.386481 L -87.934009,31.385691 L -87.934406,31.385145 L -87.934925,31.384399 L -87.935735,31.383645 L -87.93711,31.382516 L -87.937956,31.381908 L -87.938925,31.381268 L -87.940269,31.380574 L -87.941612,31.379831 L -87.942795,31.37941 L -87.944437,31.378967 L -87.945103,31.378793 L -87.945499,31.378457 L -87.945923,31.377991 L -87.945956,31.377178 L -87.945652,31.37629 L -87.945158,31.375812 L -87.944281,31.375167 L -87.943719,31.374955 L -87.942915,31.374827 L -87.941922,31.374753 L -87.941153,31.374795 L -87.940412,31.374861 L -87.939925,31.375167 L -87.935991,31.376701 L -87.934375,31.377466 L -87.932901,31.377982 L -87.93213,31.378551 L -87.931106,31.379029 L -87.93011,31.379419 L -87.929154,31.379639 L -87.927907,31.379794 L -87.927082,31.379838 L -87.926051,31.379865 L -87.925106,31.379659 L -87.92392,31.378984 L -87.922717,31.378019 L -87.922178,31.377283 L -87.921282,31.376674 L -87.920387,31.375992 L -87.919219,31.375479 L -87.918497,31.375547 L -87.917821,31.375705 L -87.917388,31.376057 L -87.917291,31.376734 L -87.917622,31.377686 L -87.918179,31.378624 L -87.920151,31.382518 L -87.921086,31.384384 L -87.921407,31.385651 L -87.921402,31.386473 L -87.921181,31.387318 L -87.920793,31.388025 L -87.920085,31.388996 L -87.919426,31.389412 L -87.918638,31.389633 L -87.917653,31.389797 L -87.916547,31.389945 L -87.915741,31.389997 L -87.914831,31.390202 L -87.91393,31.39039 L -87.913263,31.39074 L -87.912147,31.390855 L -87.91076,31.390945 L -87.909693,31.390786 L -87.909029,31.390565 L -87.908056,31.390197 L -87.906972,31.38983 L -87.906037,31.389463 L -87.905309,31.389072 L -87.904263,31.388646 L -87.903664,31.388402 L -87.901678,31.386845 L -87.898003,31.38108 L -87.896785,31.381245 L -87.895612,31.381357 L -87.894137,31.38205 L -87.893179,31.382448 L -87.892314,31.382878 L -87.891438,31.383607 L -87.890693,31.384409 L -87.890192,31.385212 L -87.889812,31.385983 L -87.889516,31.386957 L -87.889453,31.387931 L -87.889755,31.389181 L -87.890135,31.38986 L -87.890784,31.390895 L -87.892192,31.392437 L -87.892878,31.393106 L -87.893398,31.393915 L -87.893637,31.394617 L -87.8934,31.39518 L -87.893031,31.395629 L -87.892401,31.395988 L -87.89181,31.396082 L -87.891117,31.39607 L -87.889854,31.395741 L -87.88934,31.395553 L -87.888761,31.395316 L -87.888664,31.395209 L -87.888631,31.395057 L -87.888182,31.394982 L -87.88793,31.394673 L -87.887654,31.393892 L -87.887415,31.393197 L -87.88729,31.392197 L -87.887277,31.391375 L -87.887267,31.389965 L -87.88737,31.388499 L -87.887525,31.387607 L -87.887749,31.386286 L -87.88798,31.385272 L -87.888136,31.384395 L -87.888556,31.383124 L -87.890981,31.377295 L -87.89211,31.375167 L -87.892513,31.37332 L -87.892814,31.372344 L -87.892337,31.371436 L -87.891618,31.369711 L -87.890733,31.367816 L -87.890027,31.366446 L -87.888857,31.364023 L -87.88884,31.362402 L -87.889255,31.360655 L -87.890659,31.359257 L -87.891664,31.35829 L -87.892687,31.357348 L -87.893583,31.356228 L -87.894697,31.353971 L -87.895665,31.352206 L -87.896479,31.35081 L -87.897063,31.349008 L -87.897062,31.346839 L -87.896935,31.344966 L -87.896935,31.342667 L -87.898357,31.340478 L -87.900204,31.338882 L -87.902178,31.337513 L -87.903652,31.336462 L -87.904781,31.335367 L -87.90547,31.334172 L -87.905909,31.332691 L -87.906104,31.331298 L -87.906087,31.329628 L -87.906004,31.327998 L -87.905882,31.326456 L -87.90635,31.324921 L -87.907246,31.32367 L -87.908068,31.323041 L -87.909359,31.322448 L -87.910243,31.322157 L -87.911423,31.32212 L -87.912938,31.322327 L -87.914355,31.322881 L -87.915952,31.324065 L -87.916714,31.325379 L -87.917079,31.326922 L -87.91682,31.328202 L -87.915854,31.329081 L -87.914338,31.329744 L -87.913104,31.330289 L -87.911383,31.331685 L -87.910487,31.332976 L -87.910117,31.334061 L -87.91054,31.335565 L -87.911449,31.337074 L -87.912495,31.338124 L -87.914326,31.339319 L -87.916125,31.340069 L -87.917412,31.340565 L -87.918777,31.340763 L -87.919707,31.340618 L -87.920808,31.340153 L -87.921753,31.339492 L -87.922268,31.33877 L -87.922794,31.337815 L -87.923077,31.336923 L -87.923232,31.335706 L -87.923226,31.334568 L -87.922988,31.333324 L -87.92248,31.33194 L -87.921982,31.330548 L -87.921779,31.329449 L -87.921607,31.328181 L -87.921806,31.327239 L -87.922486,31.32598 L -87.923592,31.324361 L -87.924149,31.323172 L -87.924633,31.32191 L -87.92474,31.320766 L -87.924589,31.319328 L -87.924437,31.31794 L -87.924271,31.316107 L -87.924311,31.314349 L -87.924525,31.312907 L -87.92527,31.31168 L -87.926275,31.310689 L -87.927669,31.309959 L -87.929108,31.309496 L -87.93045,31.309234 L -87.931791,31.309141 L -87.932998,31.309217 L -87.934303,31.309688 L -87.935894,31.310655 L -87.936941,31.311576 L -87.938513,31.313251 L -87.93956,31.314269 L -87.940211,31.314638 L -87.941613,31.314965 L -87.943427,31.315215 L -87.945329,31.315135 L -87.947606,31.315067 L -87.949321,31.314969 L -87.951549,31.315086 L -87.9535,31.315636 L -87.954965,31.316125 L -87.956104,31.316449 L -87.957396,31.316509 L -87.95854,31.316382 L -87.959619,31.316206 L -87.960709,31.315861 L -87.962055,31.315284 L -87.96314,31.314648 L -87.963794,31.313976 L -87.964357,31.31303 L -87.964723,31.312162 L -87.964725,31.311186 L -87.964381,31.310142 L -87.963669,31.308531 L -87.962823,31.30716 L -87.961874,31.305804 L -87.960757,31.304431 L -87.959702,31.303373 L -87.958421,31.30237 L -87.95686,31.301332 L -87.955967,31.300783 L -87.954942,31.300347 L -87.95415,31.300017 L -87.952935,31.299789 L -87.951813,31.299633 L -87.950795,31.299463 L -87.949862,31.299164 L -87.949119,31.298569 L -87.948307,31.297537 L -87.94761,31.296329 L -87.947507,31.296272 L -87.947176,31.29497 L -87.946947,31.293742 L -87.947028,31.292461 L -87.947248,31.291172 L -87.947605,31.290296 L -87.948178,31.289342 L -87.948777,31.288605 L -87.949675,31.287847 L -87.950696,31.287041 L -87.951791,31.286292 L -87.952714,31.285817 L -87.953965,31.285287 L -87.954943,31.284973 L -87.955848,31.284605 L -87.955979,31.284442 L -87.956292,31.28405 L -87.956855,31.283159 L -87.957143,31.282581 L -87.957377,31.281793 L -87.957463,31.280801 L -87.957383,31.279647 L -87.956892,31.278409 L -87.956374,31.277008 L -87.955685,31.275881 L -87.954653,31.274436 L -87.953622,31.272967 L -87.953044,31.271905 L -87.952851,31.27079 L -87.952925,31.270121 L -87.953449,31.269352 L -87.954161,31.268511 L -87.955115,31.267745 L -87.955961,31.267446 L -87.957152,31.267295 L -87.958508,31.267396 L -87.959692,31.267802 L -87.961336,31.268938 L -87.962161,31.269606 L -87.963872,31.270581 L -87.965233,31.271118 L -87.966344,31.271402 L -87.967439,31.271444 L -87.969489,31.271445 L -87.970716,31.2714 L -87.971935,31.271193 L -87.972968,31.270919 L -87.974397,31.270407 L -87.975734,31.269725 L -87.976944,31.26872 L -87.977975,31.26772 L -87.97881,31.266743 L -87.979561,31.265718 L -87.980568,31.264492 L -87.982071,31.263158 L -87.983413,31.262057 L -87.98448,31.261243 L -87.985463,31.260397 L -87.986228,31.259758 L -87.986751,31.259061 L -87.987031,31.258305 L -87.986978,31.257167 L -87.986529,31.25634 L -87.985788,31.255681 L -87.984986,31.255343 L -87.983902,31.255229 L -87.982901,31.255196 L -87.981963,31.255373 L -87.980657,31.255838 L -87.979423,31.256521 L -87.978619,31.257232 L -87.977834,31.257959 L -87.976768,31.258651 L -87.975713,31.259207 L -87.974277,31.259622 L -87.972918,31.259755 L -87.971759,31.259616 L -87.970649,31.259227 L -87.969227,31.25836 L -87.968082,31.256978 L -87.967116,31.255535 L -87.966228,31.253825 L -87.965384,31.252333 L -87.963378,31.250171 L -87.962562,31.24977 L -87.960504,31.248689 L -87.957408,31.247805 L -87.95152,31.24724 L -87.947499,31.246565 L -87.946013,31.245733 L -87.944034,31.244291 L -87.943105,31.243329 L -87.941952,31.241312 L -87.941163,31.239087 L -87.94091,31.238699 L -87.940285,31.237739 L -87.938948,31.235926 L -87.935807,31.231458 L -87.934316,31.229996 L -87.932269,31.228358 L -87.930958,31.227103 L -87.930562,31.226156 L -87.930613,31.225285 L -87.931333,31.224554 L -87.938092,31.22068 L -87.938629,31.220372 L -87.939469,31.219394 L -87.939959,31.218036 L -87.940238,31.214508 L -87.940183,31.212965 L -87.940662,31.211388 L -87.942646,31.20986 L -87.946353,31.208041 L -87.94841,31.206822 L -87.949754,31.20539 L -87.950294,31.204195 L -87.950421,31.202503 L -87.950135,31.200865 L -87.949492,31.199507 L -87.947302,31.195403 L -87.946588,31.19293 L -87.945538,31.192974 L -87.945334,31.192927 L -87.944601,31.192762 L -87.943559,31.19233 L -87.942442,31.191412 L -87.941664,31.190413 L -87.940509,31.18976 L -87.936282,31.189902 L -87.933612,31.18999 L -87.931674,31.189509 L -87.929308,31.187942 L -87.925679,31.186123 L -87.921613,31.185486 L -87.918249,31.185611 L -87.914221,31.186735 L -87.913637,31.187356 L -87.914267,31.188536 L -87.915496,31.189966 L -87.915403,31.190714 L -87.914647,31.191178 L -87.911366,31.191063 L -87.910654,31.19336 L -87.907869,31.195543 L -87.906544,31.198718 L -87.906237,31.199162 L -87.901384,31.198801 L -87.899689,31.197317 L -87.899211,31.197352 L -87.897093,31.199659 L -87.896488,31.200086 L -87.892537,31.201631 L -87.891387,31.202599 L -87.889581,31.204349 L -87.888703,31.204817 L -87.887643,31.20511 L -87.886749,31.205247 L -87.885929,31.20541 L -87.885375,31.2052 L -87.885362,31.204788 L -87.885783,31.203799 L -87.886055,31.203016 L -87.88623,31.202609 L -87.886018,31.202006 L -87.885751,31.201393 L -87.884815,31.201149 L -87.883828,31.200992 L -87.882731,31.200792 L -87.881973,31.200537 L -87.881162,31.199957 L -87.880348,31.199208 L -87.879749,31.198449 L -87.879167,31.197996 L -87.878208,31.197865 L -87.876672,31.198387 L -87.875511,31.199412 L -87.874996,31.200067 L -87.874208,31.20128 L -87.873887,31.201496 L -87.873454,31.203006 L -87.873426,31.203157 L -87.873331,31.203693 L -87.873337,31.204541 L -87.873937,31.206302 L -87.874495,31.207256 L -87.874996,31.208519 L -87.875269,31.20914 L -87.875679,31.210709 L -87.875904,31.212192 L -87.875876,31.213208 L -87.875668,31.214009 L -87.875379,31.214461 L -87.874996,31.214741 L -87.869774,31.215765 L -87.867972,31.214582 L -87.865382,31.209733 L -87.859946,31.204633 L -87.855999,31.203452 L -87.853499,31.203445 L -87.849544,31.206105 L -87.848503,31.208378 L -87.849055,31.210583 L -87.849799,31.211578 L -87.857943,31.216451 L -87.859657,31.218441 L -87.862573,31.223962 L -87.863593,31.226112 L -87.864113,31.229172 L -87.863757,31.2311 L -87.860066,31.2354 L -87.858262,31.236476 L -87.85677,31.237069 L -87.85455,31.237233 L -87.852912,31.236986 L -87.848612,31.234827 L -87.84461,31.229504 L -87.844391,31.228245 L -87.843919,31.227032 L -87.84293,31.226182 L -87.841342,31.225411 L -87.840143,31.225512 L -87.839445,31.225726 L -87.838679,31.22596 L -87.83646,31.227761 L -87.83565,31.228639 L -87.835608,31.229736 L -87.83592,31.231053 L -87.840499,31.233237 L -87.842926,31.234786 L -87.844091,31.236145 L -87.844626,31.237939 L -87.844628,31.239335 L -87.843966,31.240656 L -87.842517,31.24204 L -87.841287,31.242698 L -87.841158,31.242769 L -87.840131,31.24334 L -87.838769,31.244111 L -87.837517,31.245431 L -87.837147,31.24635 L -87.837105,31.247254 L -87.83755,31.248361 L -87.838584,31.249462 L -87.840254,31.250171 L -87.840978,31.250874 L -87.841775,31.252024 L -87.842236,31.253052 L -87.842369,31.254086 L -87.842288,31.254933 L -87.842377,31.255466 L -87.842985,31.255784 L -87.843412,31.255986 L -87.844314,31.25588 L -87.845187,31.255578 L -87.845919,31.255275 L -87.846484,31.254915 L -87.846992,31.254506 L -87.847323,31.25408 L -87.847719,31.253743 L -87.84831,31.253609 L -87.850897,31.253291 L -87.851617,31.253352 L -87.852336,31.253711 L -87.852782,31.254141 L -87.853142,31.254813 L -87.853275,31.25596 L -87.8531,31.256726 L -87.852868,31.257782 L -87.852545,31.258474 L -87.851959,31.259109 L -87.851348,31.25955 L -87.850662,31.259829 L -87.850052,31.259979 L -87.849284,31.260007 L -87.848349,31.259849 L -87.84705,31.259479 L -87.845612,31.258841 L -87.843763,31.25817 L -87.842989,31.257762 L -87.842297,31.257403 L -87.842055,31.257192 L -87.84194,31.256972 L -87.841899,31.256892 L -87.841603,31.256366 L -87.841288,31.255937 L -87.840801,31.255877 L -87.840275,31.256125 L -87.839026,31.256514 L -87.838097,31.256799 L -87.837224,31.257134 L -87.8362,31.2575 L -87.835477,31.257778 L -87.834583,31.258387 L -87.833698,31.259076 L -87.832818,31.260282 L -87.832286,31.261208 L -87.831727,31.262165 L -87.831061,31.26347 L -87.830479,31.264968 L -87.830217,31.266226 L -87.829819,31.268048 L -87.82931,31.270926 L -87.829048,31.272143 L -87.828768,31.27332 L -87.82861,31.274369 L -87.828313,31.275304 L -87.827902,31.276303 L -87.827512,31.277116 L -87.826869,31.277911 L -87.826012,31.278552 L -87.825288,31.278912 L -87.824096,31.27926 L -87.822971,31.279432 L -87.822034,31.279467 L -87.820985,31.279486 L -87.819732,31.279148 L -87.818219,31.278623 L -87.816408,31.277717 L -87.815233,31.277129 L -87.814206,31.276728 L -87.813114,31.276213 L -87.812115,31.275707 L -87.811072,31.274959 L -87.808535,31.273629 L -87.806585,31.272584 L -87.804673,31.271549 L -87.803023,31.27058 L -87.801633,31.269878 L -87.801502,31.269812 L -87.799612,31.269543 L -87.79872,31.269764 L -87.797989,31.269881 L -87.796929,31.270117 L -87.79614,31.270307 L -87.796065,31.270327 L -87.794348,31.270797 L -87.793004,31.27137 L -87.79146,31.272313 L -87.789315,31.273528 L -87.787961,31.274174 L -87.786804,31.274869 L -87.785523,31.27579 L -87.78455,31.276745 L -87.783896,31.277767 L -87.783671,31.278936 L -87.783737,31.280042 L -87.784103,31.281126 L -87.784769,31.282147 L -87.785775,31.282944 L -87.786885,31.283459 L -87.788633,31.284002 L -87.790397,31.284747 L -87.791992,31.285628 L -87.793519,31.286758 L -87.794457,31.287813 L -87.795351,31.289691 L -87.79566,31.290904 L -87.795662,31.29188 L -87.795558,31.29233 L -87.797417,31.29458 L -87.79747,31.294741 L -87.797657,31.294924 L -87.798084,31.29552 L -87.798084,31.295612 L -87.798244,31.295841 L -87.798671,31.296322 L -87.798991,31.296597 L -87.799205,31.296918 L -87.799551,31.297285 L -87.800032,31.297904 L -87.800245,31.29827 L -87.800699,31.298728 L -87.800752,31.298842 L -87.801233,31.299415 L -87.80222,31.300286 L -87.8023,31.300401 L -87.80254,31.300653 L -87.802567,31.300767 L -87.802811,31.301397 L -87.803315,31.301698 L -87.804014,31.30217 L -87.805113,31.302976 L -87.806268,31.303878 L -87.80717,31.304796 L -87.807997,31.305583 L -87.80836,31.305892 L -87.808973,31.306638 L -87.809184,31.307253 L -87.809465,31.308473 L -87.8096,31.3092 L -87.809824,31.310485 L -87.809788,31.31147 L -87.809537,31.312469 L -87.809342,31.313429 L -87.809092,31.314275 L -87.808878,31.315275 L -87.808449,31.316233 L -87.807966,31.3169 L -87.807598,31.317278 L -87.807135,31.317735 L -87.806325,31.318304 L -87.805591,31.318695 L -87.804896,31.318885 L -87.804023,31.319017 L -87.803517,31.319007 L -87.80276,31.318817 L -87.801884,31.318222 L -87.80112,31.317613 L -87.800402,31.317173 L -87.799683,31.31691 L -87.799281,31.316779 L -87.798929,31.316212 L -87.798794,31.31546 L -87.798322,31.313234 L -87.798375,31.312501 L -87.798455,31.312386 L -87.798455,31.311355 L -87.798375,31.311309 L -87.798242,31.310828 L -87.798055,31.30904 L -87.798112,31.30803 L -87.797777,31.306599 L -87.79744,31.305314 L -87.796746,31.304252 L -87.795633,31.302737 L -87.794425,31.301511 L -87.793317,31.300487 L -87.792338,31.299884 L -87.791208,31.29949 L -87.790189,31.299259 L -87.789684,31.29911 L -87.789123,31.298954 L -87.788782,31.298773 L -87.788489,31.297409 L -87.78726,31.297644 L -87.785797,31.297846 L -87.783969,31.297964 L -87.782527,31.297892 L -87.781263,31.297739 L -87.77997,31.297723 L -87.778905,31.29741 L -87.777823,31.296742 L -87.775978,31.295617 L -87.774326,31.294776 L -87.77301,31.294187 L -87.77158,31.293719 L -87.769969,31.293677 L -87.768779,31.293807 L -87.767708,31.294132 L -87.766515,31.294512 L -87.765703,31.295266 L -87.765216,31.296377 L -87.765152,31.297346 L -87.765141,31.297523 L -87.765715,31.298455 L -87.766635,31.299332 L -87.767745,31.299976 L -87.769275,31.300671 L -87.770956,31.301439 L -87.772581,31.301998 L -87.773776,31.302513 L -87.775101,31.303167 L -87.776219,31.303949 L -87.777291,31.304681 L -87.778594,31.305738 L -87.779429,31.306752 L -87.780255,31.30775 L -87.780902,31.30886 L -87.781402,31.309589 L -87.782003,31.31065 L -87.78276,31.312051 L -87.783382,31.313895 L -87.783792,31.315455 L -87.783827,31.316876 L -87.783971,31.318798 L -87.783905,31.320065 L -87.784398,31.322797 L -87.784796,31.324672 L -87.784727,31.32618 L -87.784669,31.3276 L -87.784378,31.328914 L -87.783474,31.33054 L -87.78243,31.332253 L -87.781681,31.33333 L -87.780076,31.334774 L -87.778558,31.335896 L -87.776569,31.337289 L -87.774843,31.338586 L -87.772694,31.340148 L -87.771374,31.341125 L -87.769986,31.34236 L -87.767985,31.344067 L -87.76648,31.345843 L -87.765816,31.346791 L -87.765462,31.347725 L -87.765247,31.348782 L -87.76531,31.350203 L -87.765743,31.352311 L -87.765925,31.354121 L -87.76617,31.356229 L -87.766074,31.357706 L -87.766163,31.359442 L -87.765832,31.360877 L -87.76523,31.362245 L -87.764566,31.363259 L -87.763923,31.363868 L -87.763049,31.364234 L -87.762796,31.36428 L -87.762232,31.364383 L -87.759887,31.364474 L -87.757958,31.364253 L -87.756359,31.36367 L -87.755351,31.363107 L -87.754542,31.362327 L -87.753924,31.361153 L -87.753232,31.359784 L -87.752502,31.358513 L -87.752135,31.357518 L -87.751875,31.356103 L -87.751922,31.354941 L -87.752869,31.350419 L -87.753108,31.348742 L -87.753303,31.346692 L -87.753479,31.34478 L -87.753558,31.343126 L -87.753588,31.341802 L -87.753579,31.340559 L -87.753411,31.339331 L -87.753129,31.338328 L -87.752631,31.337389 L -87.751851,31.336521 L -87.751228,31.335911 L -87.750632,31.335415 L -87.749994,31.335073 L -87.747995,31.33396 L -87.746399,31.333261 L -87.74395,31.33283 L -87.74123,31.332917 L -87.73883,31.3331 L -87.736019,31.33393 L -87.733818,31.334824 L -87.73231,31.335522 L -87.729509,31.336586 L -87.72686,31.3382 L -87.7244,31.340419 L -87.723634,31.341527 L -87.722758,31.343621 L -87.722445,31.345424 L -87.722182,31.348518 L -87.721861,31.354674 L -87.721979,31.359618 L -87.722567,31.36213 L -87.723144,31.363688 L -87.724031,31.365383 L -87.725399,31.367973 L -87.726044,31.370484 L -87.72615,31.371639 L -87.726097,31.372803 L -87.725837,31.373741 L -87.725379,31.374347 L -87.724545,31.375167 L -87.724098,31.375973 L -87.723463,31.37668 L -87.723137,31.377125 L -87.72265,31.377523 L -87.72174,31.378021 L -87.718714,31.380089 L -87.717348,31.3813 L -87.715945,31.382632 L -87.714637,31.384149 L -87.713417,31.386054 L -87.712469,31.38782 L -87.708987,31.396079 L -87.708058,31.39795 L -87.70709,31.399611 L -87.706045,31.400957 L -87.70509,31.401827 L -87.704012,31.40247 L -87.702707,31.403082 L -87.701073,31.403721 L -87.7,31.40388 L -87.698599,31.404105 L -87.697423,31.404288 L -87.697046,31.404347 L -87.694591,31.404683 L -87.691958,31.405062 L -87.690648,31.405252 L -87.688439,31.405877 L -87.686788,31.406758 L -87.685531,31.407556 L -87.6839,31.408817 L -87.68289,31.409888 L -87.672229,31.418577 L -87.669306,31.420934 L -87.667833,31.421798 L -87.665572,31.423166 L -87.663692,31.423805 L -87.661567,31.424381 L -87.659215,31.424917 L -87.656694,31.425447 L -87.654342,31.425846 L -87.651828,31.426108 L -87.649474,31.426208 L -87.646584,31.426521 L -87.64419,31.426354 L -87.641879,31.425783 L -87.639649,31.424768 L -87.63766,31.423089 L -87.634998,31.420677 L -87.632488,31.418516 L -87.629684,31.415944 L -87.624991,31.412241 L -87.622706,31.410737 L -87.62121,31.41002 L -87.618944,31.409142 L -87.616819,31.408604 L -87.615455,31.408177 L -87.614045,31.408025 L -87.61271,31.407825 L -87.610812,31.407811 L -87.609581,31.40782 L -87.607946,31.408057 L -87.606537,31.408454 L -87.604885,31.409054 L -87.603137,31.409556 L -87.601175,31.410488 L -87.599889,31.411055 L -87.598696,31.411791 L -87.597091,31.412932 L -87.595806,31.413991 L -87.594827,31.415076 L -87.594652,31.415269 L -87.593208,31.417322 L -87.592084,31.419165 L -87.590799,31.421194 L -87.589543,31.422868 L -87.588529,31.423919 L -87.586351,31.425505 L -87.583722,31.427276 L -87.581778,31.428595 L -87.579506,31.43014 L -87.577891,31.431402 L -87.577002,31.432096 L -87.575873,31.432979 L -87.574727,31.433827 L -87.573733,31.435088 L -87.572598,31.437206 L -87.57123,31.440059 L -87.570172,31.442919 L -87.56877,31.448164 L -87.567285,31.454555 L -87.565318,31.459726 L -87.564343,31.461674 L -87.563875,31.46329 L -87.56336,31.464696 L -87.56294,31.467047 L -87.562802,31.468986 L -87.562627,31.471515 L -87.562358,31.473753 L -87.562229,31.475368 L -87.5624,31.47654 L -87.562787,31.477686 L -87.563729,31.478986 L -87.564058,31.479435 L -87.565708,31.481683 L -87.567893,31.483184 L -87.571121,31.484877 L -87.577663,31.487965 L -87.58234,31.489811 L -87.585852,31.491649 L -87.59022,31.493608 L -87.592328,31.494204 L -87.59469,31.495106 L -87.595942,31.495589 L -87.604605,31.499999 L -87.605064,31.500162 L -87.608924,31.503071 L -87.610199,31.504092 L -87.611455,31.505209 L -87.61341,31.506889 L -87.616611,31.509444 L -87.617754,31.510335 L -87.619481,31.511572 L -87.620425,31.51223 L -87.620718,31.51256 L -87.621069,31.513019 L -87.621289,31.513761 L -87.621428,31.514639 L -87.621445,31.514746 L -87.621251,31.516854 L -87.621075,31.517323 L -87.6206,31.518117 L -87.619844,31.519049 L -87.618198,31.520549 L -87.616821,31.521443 L -87.615734,31.521964 L -87.614627,31.522373 L -87.610366,31.523714 L -87.60924,31.52411 L -87.604033,31.525944 L -87.602343,31.526468 L -87.600409,31.526887 L -87.599893,31.527083 L -87.599256,31.527441 L -87.59642,31.529859 L -87.59353,31.532503 L -87.585841,31.539833 L -87.584914,31.540604 L -87.579848,31.544619 L -87.571715,31.550117 L -87.567721,31.552426 L -87.565413,31.553573 L -87.565489,31.554448 L -87.565758,31.563042 L -87.565765,31.565562 L -87.565765,31.56569 L -87.565766,31.565866 L -87.565718,31.565885 L -87.565683,31.565909 L -87.565656,31.565928 L -87.565626,31.566012 L -87.565618,31.566196 L -87.565617,31.566311 L -87.565611,31.567309 L -87.565628,31.568269 L -87.565659,31.568379 L -87.565664,31.568447 L -87.565636,31.568621 L -87.565651,31.570088 L -87.565659,31.570974 L -87.56569,31.572849 L -87.565691,31.573875 L -87.565872,31.574725 L -87.565892,31.576631 L -87.565966,31.588476 L -87.566037,31.599958 L -87.566057,31.602775 L -87.566079,31.606633 L -87.566081,31.60703 L -87.566131,31.614606 L -87.566153,31.618069 L -87.566155,31.618297 L -87.566078,31.625158 L -87.566115,31.628972 L -87.566138,31.631324 L -87.56616,31.633408 L -87.566402,31.658044 L -87.566421,31.659982 L -87.566439,31.661763 L -87.566472,31.66511 L -87.566539,31.671882 L -87.566692,31.683141 L -87.566803,31.693623 L -87.56681,31.694297 L -87.56682,31.695145 L -87.566823,31.695476 L -87.566841,31.697115 L -87.548502,31.697364 L -87.54768,31.697382 L -87.545561,31.697412 L -87.520422,31.697763 L -87.518504,31.69779 L -87.516131,31.697824 L -87.516206,31.703786 L -87.516253,31.707452 L -87.516283,31.709838 L -87.516555,31.731223 L -87.516979,31.750153 L -87.517048,31.753397 L -87.517092,31.755463 L -87.517606,31.779314 L -87.517803,31.788455 L -87.517858,31.79106 L -87.517975,31.796422 L -87.51798,31.796683 L -87.518004,31.797811 L -87.51801,31.798077 L -87.518069,31.800785 L -87.518262,31.809745 L -87.518363,31.814386 L -87.500953,31.814018 L -87.500952,31.814289 L -87.500939,31.82255 L -87.500932,31.82762 L -87.500931,31.828359 L -87.50093,31.829131 L -87.50093,31.829251 L -87.499994,31.829246 L -87.485482,31.829536 L -87.484116,31.829564 L -87.483504,31.829577 L -87.46954,31.8293 L -87.466773,31.82926 L -87.460051,31.829279 L -87.443075,31.829328 L -87.44267,31.829377 L -87.434376,31.829417 L -87.430288,31.829464 L -87.425655,31.829534 L -87.413389,31.829647 L -87.405658,31.829791 L -87.396692,31.829912 L -87.390456,31.829997 L -87.383775,31.830225 L -87.38234,31.830274 L -87.381245,31.830312 L -87.374993,31.830527 L -87.367729,31.830507 L -87.366488,31.830518 L -87.354828,31.830617 L -87.351982,31.830651 L -87.351883,31.830761 L -87.351671,31.830804 L -87.350589,31.830805 L -87.350154,31.830792 L -87.34994,31.830815 L -87.349514,31.830913 L -87.349288,31.83091 L -87.349071,31.830867 L -87.348854,31.830837 L -87.347113,31.830814 L -87.34651,31.830816 L -87.345167,31.830822 L -87.344646,31.830839 L -87.344417,31.830846 L -87.344213,31.830846 L -87.330559,31.830882 L -87.329277,31.830901 L -87.321839,31.831047 L -87.321164,31.831053 L -87.321055,31.831053 L -87.318636,31.831092 L -87.318331,31.831094 L -87.316715,31.831107 L -87.31381,31.831131 L -87.312516,31.831115 L -87.30519,31.831165 L -87.300706,31.831197 L -87.300662,31.831197 L -87.300464,31.831207 L -87.298835,31.831217 L -87.298297,31.83122 L -87.292208,31.83126 L -87.289402,31.831278 L -87.283568,31.831317 L -87.282104,31.831319 L -87.27336,31.831332 L -87.269819,31.831337 L -87.254329,31.83136 L -87.252235,31.831363 L -87.249987,31.831367 L -87.244551,31.831795 L -87.239599,31.831668 L -87.23556,31.831565 L -87.232903,31.83152 L -87.232786,31.831564 L -87.232732,31.831563 L -87.228283,31.831418 L -87.221451,31.830013 L -87.218403,31.829386 L -87.214084,31.828498 L -87.207653,31.828499 L -87.203334,31.8285 L -87.193408,31.828502 L -87.191807,31.828503 L -87.179153,31.828481 L -87.177543,31.828481 L -87.174576,31.82848 L -87.165869,31.82842 L -87.162832,31.828416 L -87.157732,31.828408 L -87.140138,31.82838 L -87.135378,31.828336 L -87.123655,31.828625 L -87.119296,31.828903 L -87.118458,31.828916 L -87.117099,31.828886 L -87.116951,31.828883 L -87.116703,31.828859 L -87.116593,31.828848 L -87.116567,31.828842 L -87.116378,31.828801 L -87.116341,31.828784 L -87.116242,31.828785 L -87.114144,31.828812 L -87.114024,31.828876 L -87.11388,31.828929 L -87.113735,31.828959 L -87.113674,31.828964 L -87.113589,31.82897 L -87.112646,31.82899 L -87.111769,31.828949 L -87.110893,31.828919 L -87.110158,31.828875 L -87.109725,31.828886 L -87.10929,31.828924 L -87.108636,31.828966 L -87.108195,31.828976 L -87.108057,31.828972 L -87.107534,31.828958 L -87.107093,31.828963 L -87.105134,31.829045 L -87.104696,31.829079 L -87.104258,31.829102 L -87.103825,31.829094 L -87.103171,31.829046 L -87.101609,31.828999 L -87.100718,31.82898 L -87.099847,31.828991 L -87.098988,31.829032 L -87.098887,31.829048 L -87.094753,31.829091 L -87.094054,31.829099 L -87.093217,31.829107 L -87.092107,31.82912 L -87.091187,31.829131 L -87.087452,31.82914 L -87.083642,31.829173 L -87.079889,31.82919 L -87.078913,31.829196 L -87.076806,31.82921 L -87.07212,31.829259 L -87.067707,31.829375 L -87.063523,31.829398 L -87.059352,31.829421 L -87.058038,31.829429 L -87.057805,31.82943 L -87.050052,31.82948 L -87.03968,31.829626 L -87.037577,31.829656 L -87.033665,31.829669 L -87.029299,31.829684 L -87.025723,31.829697 L -87.022407,31.829727 L -87.020235,31.829747 L -87.014205,31.829812 L -87.008023,31.829889 L -86.999923,31.829942 L -86.989497,31.829996 L -86.976519,31.83006 L -86.97485,31.830069 L -86.971128,31.830102 L -86.963469,31.830172 L -86.961241,31.830189 L -86.959248,31.830205 L -86.957828,31.830243 L -86.948607,31.83036 L -86.948224,31.830365 L -86.943352,31.830432 L -86.94169,31.830455 L -86.939485,31.830486 L -86.938125,31.83052 L -86.937022,31.830531 L -86.934159,31.830561 L -86.92616,31.830663 L -86.925698,31.830656 L -86.923766,31.83076 L -86.917618,31.830747 L -86.917172,31.830712 L -86.907137,31.830629 L -86.906899,31.830628 L -86.906857,31.827703 L -86.906824,31.825376 L -86.90679,31.822939 L -86.906735,31.81934 L -86.906707,31.817254 L -86.906699,31.816614 L -86.906687,31.815661 L -86.90668,31.81507 L -86.906592,31.808311 L -86.906572,31.799822 L -86.906514,31.791026 L -86.906499,31.788591 L -86.906492,31.787458 L -86.906478,31.785266 L -86.90645,31.783762 L -86.906213,31.770589 L -86.906151,31.767123 L -86.905899,31.753035 L -86.90688,31.752883 L -86.907533,31.752813 L -86.907796,31.752796 L -86.907816,31.752795 L -86.908022,31.752783 L -86.908406,31.752759 L -86.909063,31.752757 L -86.909435,31.752765 L -86.909712,31.752775 L -86.910604,31.7528 L -86.910806,31.752799 L -86.910893,31.752799 L -86.911045,31.752798 L -86.911235,31.752783 L -86.911502,31.752762 L -86.911585,31.752749 L -86.91192,31.752695 L -86.912343,31.752591 L -86.912729,31.752459 L -86.912758,31.752449 L -86.913027,31.752334 L -86.913396,31.752147 L -86.913419,31.752135 L -86.913669,31.751981 L -86.913725,31.751942 L -86.913842,31.751859 L -86.914454,31.751429 L -86.914499,31.751397 L -86.916468,31.74999 L -86.916722,31.749827 L -86.917123,31.749609 L -86.917335,31.749512 L -86.9174,31.749482 L -86.917687,31.749374 L -86.917983,31.749283 L -86.918443,31.74918 L -86.918473,31.749175 L -86.918706,31.749138 L -86.918735,31.749133 L -86.918757,31.74913 L -86.919077,31.749103 L -86.921094,31.749062 L -86.921287,31.749058 L -86.921395,31.749056 L -86.92161,31.749051 L -86.921917,31.749033 L -86.922144,31.748992 L -86.922234,31.748976 L -86.922359,31.748954 L -86.922483,31.748932 L -86.923145,31.748777 L -86.923311,31.748729 L -86.923354,31.748716 L -86.923482,31.748679 L -86.923902,31.74854 L -86.92437,31.748369 L -86.924415,31.748353 L -86.924473,31.748332 L -86.924489,31.748326 L -86.924505,31.74832 L -86.926477,31.747597 L -86.926505,31.747587 L -86.927215,31.747327 L -86.927304,31.747294 L -86.927428,31.747249 L -86.927442,31.747244 L -86.92746,31.747237 L -86.927487,31.747228 L -86.928008,31.747055 L -86.928035,31.747046 L -86.92814,31.747011 L -86.928328,31.746959 L -86.928338,31.746956 L -86.928663,31.746866 L -86.928746,31.746843 L -86.929196,31.746747 L -86.930423,31.746554 L -86.930968,31.746503 L -86.931048,31.746496 L -86.93114,31.746487 L -86.931311,31.746484 L -86.931796,31.746475 L -86.932241,31.746447 L -86.932445,31.746421 L -86.933074,31.746342 L -86.93309,31.74634 L -86.933143,31.746333 L -86.933163,31.74633 L -86.933327,31.746309 L -86.933347,31.746305 L -86.933617,31.746251 L -86.933759,31.746209 L -86.933897,31.746158 L -86.934491,31.745881 L -86.934747,31.745743 L -86.934991,31.745588 L -86.935444,31.745234 L -86.935545,31.745157 L -86.93562,31.745101 L -86.935805,31.744983 L -86.936157,31.74473 L -86.936996,31.744041 L -86.93751,31.743645 L -86.937624,31.743566 L -86.937747,31.743481 L -86.937873,31.743408 L -86.938005,31.743345 L -86.938141,31.743296 L -86.938165,31.743291 L -86.93828,31.743268 L -86.938441,31.743255 L -86.938716,31.743234 L -86.938856,31.743198 L -86.939062,31.743119 L -86.940456,31.742512 L -86.940716,31.742383 L -86.941284,31.74206 L -86.941466,31.741956 L -86.942443,31.741448 L -86.943011,31.741129 L -86.943589,31.740836 L -86.944122,31.740601 L -86.944539,31.740448 L -86.945556,31.74003 L -86.945762,31.739963 L -86.945933,31.739915 L -86.946249,31.739828 L -86.946538,31.739767 L -86.946678,31.739726 L -86.946814,31.739673 L -86.946942,31.739606 L -86.947297,31.739368 L -86.947349,31.739319 L -86.947432,31.739203 L -86.947493,31.739074 L -86.947538,31.738939 L -86.947557,31.7388 L -86.947566,31.738514 L -86.947523,31.738149 L -86.947525,31.738029 L -86.947541,31.737883 L -86.947612,31.737526 L -86.947983,31.736038 L -86.948022,31.735881 L -86.948064,31.735775 L -86.948139,31.735648 L -86.948652,31.735003 L -86.948725,31.734883 L -86.948805,31.734868 L -86.948858,31.734858 L -86.948949,31.73484 L -86.949266,31.734824 L -86.949472,31.734814 L -86.950124,31.734811 L -86.950333,31.734823 L -86.951224,31.734834 L -86.951511,31.734847 L -86.951658,31.734854 L -86.951853,31.73487 L -86.952316,31.734907 L -86.952748,31.734962 L -86.952892,31.734964 L -86.953106,31.734939 L -86.953586,31.734787 L -86.953724,31.734757 L -86.953932,31.734742 L -86.954146,31.734716 L -86.954214,31.734695 L -86.954277,31.734661 L -86.954331,31.734615 L -86.954375,31.73456 L -86.95441,31.734498 L -86.954441,31.734423 L -86.954482,31.734327 L -86.95451,31.734241 L -86.954667,31.733765 L -86.954707,31.733679 L -86.954727,31.733635 L -86.955133,31.732877 L -86.955211,31.732753 L -86.955348,31.732582 L -86.955514,31.732436 L -86.955946,31.732146 L -86.956201,31.732003 L -86.956786,31.731712 L -86.957051,31.731596 L -86.957076,31.731588 L -86.957191,31.731552 L -86.957333,31.73152 L -86.957514,31.731498 L -86.957612,31.731486 L -86.95819,31.731464 L -86.958335,31.731443 L -86.958474,31.731411 L -86.958752,31.731329 L -86.959024,31.731231 L -86.959056,31.731217 L -86.95942,31.731047 L -86.959605,31.730977 L -86.95969,31.730944 L -86.960045,31.730856 L -86.960254,31.730792 L -86.960675,31.730678 L -86.961327,31.730479 L -86.961605,31.730472 L -86.961662,31.730471 L -86.965854,31.730468 L -86.966636,31.730461 L -86.967165,31.730428 L -86.967888,31.730343 L -86.968245,31.730284 L -86.968685,31.730187 L -86.969458,31.729975 L -86.973771,31.728666 L -86.973799,31.728658 L -86.975539,31.728136 L -86.975562,31.728129 L -86.975606,31.728115 L -86.975872,31.728035 L -86.975974,31.728 L -86.975989,31.727995 L -86.976008,31.727989 L -86.976913,31.727684 L -86.977386,31.727492 L -86.977916,31.727251 L -86.978563,31.726928 L -86.978749,31.726819 L -86.979095,31.726652 L -86.979895,31.726179 L -86.98028,31.725869 L -86.980534,31.725598 L -86.980995,31.724928 L -86.981209,31.724561 L -86.981611,31.723552 L -86.981634,31.723385 L -86.982842,31.722188 L -86.988616,31.718791 L -86.98932,31.718562 L -86.994639,31.719567 L -86.995297,31.7197 L -86.995398,31.719606 L -86.995644,31.719409 L -86.995775,31.719317 L -86.995892,31.719236 L -86.995906,31.719226 L -86.995934,31.719209 L -86.996186,31.71906 L -86.996356,31.718973 L -86.996382,31.71896 L -86.996478,31.718911 L -86.996782,31.71878 L -86.99724,31.718618 L -86.999348,31.717994 L -86.999375,31.717986 L -86.999395,31.717978 L -86.999957,31.717756 L -86.999981,31.717744 L -87.000262,31.717599 L -87.000494,31.717462 L -87.000734,31.717299 L -87.000963,31.717118 L -87.001179,31.716922 L -87.00138,31.716711 L -87.001619,31.716428 L -87.001714,31.716411 L -87.001798,31.716386 L -87.00217,31.716173 L -87.002824,31.715859 L -87.003073,31.715713 L -87.00343,31.715447 L -87.00348,31.715424 L -87.003626,31.715358 L -87.003944,31.715032 L -87.003958,31.715017 L -87.00447,31.714859 L -87.005771,31.714681 L -87.005828,31.714675 L -87.007108,31.714584 L -87.00794,31.714396 L -87.008496,31.714384 L -87.010791,31.713874 L -87.012351,31.713444 L -87.01286,31.713536 L -87.013825,31.713651 L -87.013933,31.713719 L -87.01462,31.713698 L -87.015664,31.713899 L -87.016013,31.713861 L -87.016872,31.713746 L -87.017427,31.713838 L -87.019431,31.714214 L -87.020875,31.714006 L -87.021726,31.713762 L -87.023797,31.71273 L -87.024141,31.712559 L -87.024453,31.712553 L -87.025316,31.712859 L -87.02799,31.713087 L -87.033396,31.714345 L -87.034041,31.714495 L -87.034082,31.714505 L -87.034154,31.714522 L -87.034251,31.714545 L -87.037168,31.715229 L -87.037205,31.715238 L -87.038178,31.715465 L -87.038912,31.715637 L -87.039024,31.715663 L -87.039131,31.715688 L -87.039144,31.715691 L -87.039193,31.715703 L -87.039466,31.715767 L -87.039601,31.715799 L -87.039642,31.715808 L -87.039662,31.715813 L -87.03968,31.715817 L -87.040494,31.715991 L -87.041034,31.71609 L -87.041157,31.716107 L -87.041488,31.716153 L -87.042217,31.716226 L -87.042974,31.716279 L -87.043719,31.716331 L -87.043994,31.716372 L -87.044354,31.716442 L -87.044563,31.716502 L -87.044608,31.716514 L -87.044699,31.716541 L -87.044834,31.716594 L -87.044866,31.716606 L -87.045029,31.716669 L -87.045245,31.716775 L -87.045345,31.716824 L -87.04564,31.717007 L -87.048644,31.71916 L -87.048903,31.719321 L -87.049298,31.719056 L -87.049564,31.718922 L -87.049855,31.718803 L -87.049956,31.718771 L -87.05016,31.718706 L -87.050204,31.718696 L -87.050232,31.71869 L -87.050244,31.718687 L -87.050472,31.718636 L -87.050512,31.718631 L -87.050785,31.718595 L -87.050846,31.718546 L -87.050854,31.718539 L -87.050997,31.718424 L -87.0511,31.71834 L -87.051121,31.718308 L -87.051128,31.718297 L -87.051143,31.718273 L -87.051168,31.718246 L -87.051453,31.717944 L -87.051682,31.717666 L -87.051893,31.717374 L -87.052284,31.716761 L -87.052642,31.716158 L -87.052662,31.716125 L -87.052688,31.71608 L -87.05271,31.716041 L -87.053028,31.71548 L -87.055874,31.710683 L -87.056073,31.710362 L -87.05629,31.710053 L -87.056529,31.709761 L -87.056791,31.709485 L -87.057078,31.709222 L -87.059242,31.70739 L -87.059539,31.70712 L -87.059822,31.70684 L -87.060073,31.70654 L -87.060298,31.70623 L -87.060497,31.705909 L -87.060678,31.705571 L -87.060833,31.705217 L -87.060954,31.704848 L -87.061038,31.704462 L -87.06109,31.704063 L -87.061163,31.702814 L -87.061371,31.697981 L -87.061396,31.697488 L -87.061397,31.697467 L -87.061435,31.696716 L -87.06159,31.692954 L -87.061586,31.692558 L -87.061556,31.692165 L -87.061504,31.691791 L -87.061502,31.691777 L -87.061442,31.691495 L -87.061419,31.691386 L -87.061209,31.690592 L -87.061108,31.690238 L -87.061103,31.690221 L -87.061094,31.690191 L -87.061085,31.690165 L -87.060959,31.689796 L -87.060816,31.689443 L -87.060799,31.689402 L -87.060607,31.689013 L -87.06039,31.688631 L -87.060377,31.688609 L -87.060369,31.688596 L -87.059499,31.687177 L -87.059443,31.68708 L -87.059313,31.686857 L -87.059306,31.686845 L -87.059299,31.686832 L -87.059285,31.686805 L -87.059112,31.686471 L -87.058971,31.686131 L -87.058957,31.686097 L -87.058932,31.685995 L -87.058886,31.685811 L -87.058863,31.685717 L -87.05886,31.685685 L -87.058859,31.685676 L -87.058857,31.685662 L -87.058854,31.685639 L -87.058852,31.685626 L -87.058828,31.685435 L -87.058816,31.685334 L -87.058805,31.685027 L -87.058804,31.685003 L -87.058803,31.684987 L -87.058802,31.684955 L -87.058747,31.683412 L -87.058709,31.683039 L -87.058637,31.682668 L -87.058518,31.682291 L -87.058338,31.681917 L -87.058234,31.681746 L -87.058221,31.681724 L -87.058194,31.681681 L -87.058114,31.68155 L -87.057383,31.680482 L -87.056944,31.679806 L -87.056928,31.679782 L -87.056902,31.679734 L -87.056736,31.679427 L -87.056608,31.679141 L -87.056575,31.679068 L -87.05657,31.679055 L -87.056415,31.678656 L -87.056409,31.678641 L -87.056164,31.678011 L -87.05604,31.677663 L -87.05603,31.67763 L -87.05597,31.677432 L -87.055967,31.677381 L -87.056288,31.677089 L -87.058624,31.674826 L -87.059481,31.674038 L -87.059887,31.673681 L -87.0599,31.673673 L -87.062647,31.671287 L -87.063215,31.670825 L -87.064092,31.670172 L -87.064245,31.670066 L -87.064447,31.669926 L -87.064558,31.669867 L -87.064588,31.66986 L -87.064717,31.669831 L -87.064791,31.66983 L -87.065081,31.669861 L -87.06544,31.66991 L -87.066156,31.670027 L -87.066514,31.67007 L -87.066641,31.670071 L -87.066755,31.670072 L -87.066875,31.670073 L -87.067074,31.670057 L -87.067095,31.670055 L -87.067235,31.670043 L -87.069525,31.669782 L -87.069562,31.669778 L -87.069607,31.669773 L -87.06963,31.66977 L -87.069647,31.669768 L -87.069761,31.669755 L -87.070121,31.669706 L -87.070278,31.669678 L -87.070374,31.669661 L -87.070479,31.669642 L -87.070568,31.66962 L -87.070599,31.669612 L -87.070629,31.669604 L -87.070643,31.6696 L -87.070664,31.669594 L -87.070723,31.669579 L -87.071561,31.669364 L -87.072571,31.669114 L -87.072611,31.669104 L -87.072798,31.669051 L -87.072815,31.669046 L -87.073545,31.66884 L -87.073707,31.668794 L -87.074066,31.668683 L -87.074408,31.668562 L -87.074419,31.668558 L -87.074438,31.66855 L -87.074461,31.668541 L -87.074745,31.668426 L -87.074818,31.668391 L -87.075169,31.668221 L -87.075386,31.668097 L -87.075743,31.667892 L -87.075776,31.667873 L -87.076469,31.667475 L -87.077677,31.666782 L -87.078014,31.666578 L -87.078331,31.666343 L -87.078618,31.666081 L -87.078868,31.665796 L -87.079077,31.665488 L -87.080179,31.663723 L -87.080283,31.663556 L -87.083296,31.658732 L -87.083512,31.658417 L -87.083741,31.658114 L -87.083984,31.65783 L -87.084238,31.657562 L -87.0845,31.657301 L -87.087218,31.654795 L -87.088997,31.653154 L -87.089287,31.652935 L -87.089598,31.652745 L -87.089933,31.652585 L -87.090098,31.652523 L -87.090159,31.652502 L -87.090281,31.652455 L -87.090385,31.652427 L -87.090517,31.652392 L -87.090528,31.652389 L -87.090634,31.65236 L -87.090687,31.652351 L -87.0909,31.652313 L -87.090992,31.652297 L -87.091035,31.652293 L -87.091352,31.652263 L -87.092554,31.65222 L -87.092575,31.652219 L -87.094854,31.652136 L -87.098277,31.652012 L -87.104719,31.651779 L -87.105562,31.651733 L -87.105986,31.651686 L -87.106406,31.651622 L -87.106821,31.65154 L -87.107226,31.651444 L -87.107279,31.65143 L -87.107542,31.651354 L -87.107571,31.651346 L -87.107627,31.65133 L -87.107645,31.651324 L -87.107949,31.651228 L -87.108021,31.651205 L -87.110116,31.650493 L -87.110222,31.650457 L -87.110556,31.650334 L -87.110865,31.650243 L -87.112679,31.649625 L -87.113063,31.649485 L -87.113443,31.64933 L -87.113817,31.649156 L -87.114188,31.648967 L -87.114551,31.648762 L -87.114905,31.648537 L -87.118568,31.646018 L -87.118744,31.645897 L -87.121002,31.644345 L -87.121129,31.644263 L -87.121142,31.644254 L -87.121219,31.644204 L -87.121337,31.644127 L -87.121688,31.643947 L -87.121813,31.643896 L -87.121883,31.643867 L -87.122045,31.643801 L -87.122416,31.643687 L -87.122795,31.643612 L -87.123182,31.643577 L -87.123576,31.64357 L -87.123981,31.643607 L -87.124392,31.643671 L -87.125803,31.643919 L -87.126147,31.643979 L -87.1266,31.644048 L -87.127046,31.644092 L -87.127478,31.644106 L -87.1279,31.644089 L -87.128317,31.644053 L -87.128731,31.643992 L -87.130771,31.643567 L -87.132439,31.643199 L -87.132666,31.643145 L -87.132849,31.643102 L -87.13312,31.643029 L -87.133138,31.643024 L -87.133631,31.642891 L -87.134348,31.642685 L -87.134694,31.642568 L -87.135051,31.642417 L -87.135064,31.642408 L -87.135085,31.642393 L -87.135369,31.642195 L -87.135652,31.641978 L -87.135899,31.641719 L -87.136104,31.641423 L -87.136198,31.641232 L -87.136273,31.64103 L -87.13632,31.640902 L -87.136331,31.640822 L -87.136362,31.640607 L -87.136641,31.63782 L -87.1368,31.636872 L -87.136879,31.636405 L -87.136997,31.635912 L -87.137171,31.635277 L -87.137558,31.633861 L -87.137754,31.632818 L -87.137911,31.631766 L -87.138087,31.630704 L -87.138303,31.629655 L -87.138565,31.628608 L -87.139021,31.627004 L -87.139251,31.626194 L -87.13945,31.625456 L -87.139527,31.625094 L -87.139574,31.624784 L -87.139572,31.624661 L -87.139571,31.624612 L -87.139597,31.624322 L -87.139605,31.623897 L -87.139589,31.623479 L -87.139548,31.623064 L -87.139491,31.622734 L -87.139476,31.622646 L -87.139342,31.62208 L -87.1392,31.621521 L -87.139002,31.620742 L -87.138102,31.617207 L -87.13748,31.614762 L -87.1374,31.614446 L -87.137329,31.614084 L -87.137289,31.613799 L -87.137278,31.613547 L -87.137286,31.613371 L -87.137287,31.61335 L -87.137312,31.613154 L -87.137371,31.612872 L -87.13743,31.612684 L -87.137452,31.612615 L -87.137535,31.612418 L -87.137557,31.612365 L -87.137603,31.612284 L -87.137612,31.612268 L -87.137733,31.612053 L -87.137988,31.611713 L -87.138009,31.611685 L -87.138087,31.611613 L -87.13834,31.611328 L -87.138512,31.611132 L -87.138535,31.611106 L -87.138547,31.611093 L -87.138593,31.611041 L -87.138629,31.611001 L -87.139495,31.610024 L -87.13987,31.609582 L -87.140044,31.609348 L -87.140196,31.609099 L -87.140335,31.608841 L -87.140477,31.608513 L -87.140529,31.608363 L -87.140545,31.608316 L -87.140559,31.608254 L -87.140624,31.607963 L -87.140652,31.607837 L -87.140698,31.607344 L -87.140892,31.602438 L -87.140932,31.601951 L -87.140988,31.601457 L -87.141064,31.600965 L -87.141155,31.600482 L -87.141266,31.599998 L -87.141393,31.599527 L -87.141917,31.59781 L -87.141931,31.597763 L -87.142067,31.59728 L -87.14207,31.597268 L -87.142077,31.597243 L -87.142099,31.597171 L -87.142213,31.596806 L -87.142351,31.596315 L -87.142591,31.595373 L -87.142616,31.595277 L -87.143264,31.592409 L -87.143924,31.589485 L -87.144004,31.589206 L -87.144097,31.58893 L -87.144205,31.588658 L -87.144424,31.5882 L -87.144492,31.58808 L -87.144602,31.587887 L -87.144631,31.587844 L -87.144749,31.587669 L -87.144755,31.58766 L -87.144813,31.587574 L -87.144952,31.587403 L -87.144958,31.587386 L -87.145126,31.587168 L -87.145203,31.587088 L -87.145815,31.586455 L -87.145846,31.586423 L -87.145868,31.5864 L -87.14619,31.586066 L -87.147636,31.584615 L -87.14765,31.584601 L -87.148642,31.583605 L -87.148773,31.583474 L -87.148904,31.583342 L -87.15198,31.580255 L -87.152068,31.580161 L -87.152341,31.579871 L -87.152433,31.579767 L -87.152682,31.579485 L -87.153002,31.579086 L -87.153299,31.578673 L -87.15357,31.578247 L -87.153825,31.577805 L -87.154056,31.57735 L -87.154479,31.576428 L -87.156976,31.570847 L -87.15758,31.569437 L -87.15874,31.566615 L -87.158905,31.566191 L -87.158925,31.56614 L -87.159396,31.564709 L -87.160676,31.559904 L -87.160782,31.55943 L -87.16084,31.55908 L -87.160875,31.558797 L -87.160908,31.558377 L -87.160916,31.557812 L -87.160887,31.557306 L -87.160826,31.556818 L -87.160685,31.55613 L -87.160096,31.553688 L -87.160092,31.553671 L -87.159936,31.552991 L -87.159784,31.552155 L -87.159596,31.550571 L -87.159581,31.550384 L -87.159568,31.550222 L -87.159577,31.549974 L -87.159583,31.549816 L -87.15964,31.549386 L -87.159765,31.548894 L -87.159853,31.548664 L -87.159861,31.548642 L -87.159868,31.548623 L -87.160629,31.547472 L -87.160785,31.547317 L -87.163216,31.545117 L -87.163545,31.544838 L -87.163724,31.544709 L -87.163909,31.544592 L -87.164102,31.544488 L -87.164297,31.544396 L -87.164501,31.544318 L -87.16471,31.544252 L -87.164762,31.544241 L -87.165077,31.544172 L -87.165328,31.544141 L -87.165351,31.544127 L -87.165417,31.543854 L -87.165662,31.542897 L -87.166757,31.538629 L -87.167185,31.536993 L -87.167222,31.536828 L -87.167282,31.536558 L -87.167447,31.535906 L -87.167472,31.535808 L -87.167536,31.535589 L -87.167648,31.535142 L -87.167733,31.534801 L -87.167823,31.534311 L -87.167873,31.533907 L -87.167896,31.533497 L -87.167896,31.533394 L -87.167895,31.53317 L -87.167888,31.532991 L -87.167883,31.532881 L -87.167879,31.532794 L -87.167851,31.532493 L -87.167751,31.531909 L -87.167641,31.531444 L -87.167591,31.531246 L -87.167456,31.530772 L -87.167405,31.530603 L -87.166442,31.527402 L -87.16628,31.526864 L -87.166266,31.526826 L -87.166222,31.526709 L -87.16618,31.526565 L -87.166071,31.526191 L -87.166017,31.526005 L -87.165317,31.523675 L -87.165234,31.52335 L -87.165169,31.522951 L -87.165163,31.52282 L -87.165171,31.522424 L -87.165188,31.522223 L -87.165241,31.521904 L -87.165333,31.521571 L -87.165491,31.521168 L -87.165594,31.520975 L -87.165745,31.520728 L -87.165907,31.520498 L -87.166037,31.520313 L -87.166343,31.519904 L -87.166581,31.519561 L -87.169118,31.516089 L -87.169293,31.515849 L -87.172976,31.510812 L -87.174193,31.509146 L -87.17439,31.508874 L -87.174491,31.508734 L -87.175142,31.507833 L -87.175923,31.506762 L -87.177864,31.5041 L -87.178263,31.503553 L -87.178281,31.503528 L -87.178669,31.502997 L -87.178688,31.502971 L -87.178711,31.502939 L -87.18014,31.500978 L -87.180148,31.500967 L -87.180218,31.500871 L -87.180241,31.50084 L -87.180306,31.500751 L -87.180771,31.500114 L -87.181283,31.499412 L -87.182121,31.498226 L -87.182213,31.498095 L -87.182412,31.497747 L -87.182462,31.49766 L -87.182467,31.497651 L -87.182799,31.49707 L -87.18282,31.497033 L -87.182829,31.497018 L -87.182998,31.496723 L -87.183436,31.495947 L -87.184029,31.494895 L -87.184857,31.493426 L -87.186719,31.490123 L -87.186748,31.490072 L -87.186801,31.489979 L -87.186823,31.48994 L -87.187267,31.489137 L -87.187305,31.489067 L -87.187311,31.489057 L -87.187347,31.488992 L -87.187384,31.488925 L -87.187445,31.488794 L -87.187625,31.48848 L -87.187797,31.48823 L -87.187818,31.488199 L -87.187993,31.487942 L -87.188155,31.487742 L -87.188207,31.487678 L -87.188529,31.487349 L -87.188694,31.487207 L -87.189371,31.48666 L -87.190116,31.486072 L -87.190743,31.485577 L -87.190977,31.485401 L -87.191281,31.485201 L -87.191477,31.485102 L -87.191611,31.485044 L -87.191886,31.484949 L -87.192097,31.484893 L -87.192454,31.484821 L -87.192814,31.484768 L -87.193001,31.484729 L -87.193452,31.484659 L -87.193522,31.484475 L -87.193621,31.484232 L -87.194167,31.483108 L -87.194428,31.482588 L -87.194569,31.482334 L -87.194896,31.481852 L -87.195075,31.481621 L -87.195425,31.481246 L -87.195486,31.481181 L -87.195558,31.481116 L -87.195762,31.480933 L -87.195949,31.480771 L -87.195967,31.480756 L -87.197026,31.479839 L -87.19719,31.479673 L -87.197237,31.479626 L -87.197556,31.479124 L -87.197691,31.478866 L -87.197774,31.478662 L -87.197864,31.478386 L -87.197929,31.478107 L -87.197955,31.477764 L -87.197951,31.477556 L -87.197918,31.477307 L -87.197904,31.477204 L -87.197897,31.477149 L -87.197805,31.476806 L -87.197106,31.474619 L -87.197028,31.47428 L -87.196984,31.473945 L -87.196973,31.473565 L -87.196998,31.473247 L -87.197075,31.472837 L -87.197156,31.472555 L -87.197198,31.472432 L -87.19722,31.472367 L -87.197458,31.471913 L -87.197467,31.471896 L -87.197556,31.471759 L -87.19792,31.471046 L -87.198061,31.470792 L -87.19829,31.470419 L -87.198585,31.470002 L -87.198765,31.469772 L -87.199001,31.469497 L -87.19935,31.46913 L -87.199614,31.468879 L -87.200638,31.467945 L -87.201076,31.467556 L -87.201449,31.467204 L -87.201703,31.466942 L -87.202079,31.466502 L -87.202419,31.466042 L -87.202654,31.465677 L -87.202694,31.465614 L -87.202946,31.465159 L -87.203398,31.464227 L -87.203403,31.464216 L -87.20381,31.463378 L -87.203838,31.46331 L -87.203893,31.463176 L -87.204396,31.462145 L -87.204666,31.461553 L -87.205324,31.46019 L -87.205708,31.459395 L -87.205931,31.459025 L -87.206208,31.458685 L -87.206356,31.458527 L -87.206513,31.458376 L -87.206591,31.458308 L -87.206677,31.458232 L -87.206847,31.458096 L -87.207088,31.457931 L -87.207291,31.457808 L -87.207342,31.457777 L -87.20773,31.457581 L -87.208066,31.45744 L -87.208272,31.457368 L -87.208551,31.457285 L -87.20911,31.45716 L -87.209411,31.457124 L -87.212951,31.456786 L -87.213449,31.456728 L -87.213954,31.45667 L -87.215461,31.456454 L -87.216044,31.456387 L -87.216152,31.456383 L -87.216292,31.456363 L -87.216325,31.456358 L -87.216338,31.456356 L -87.217067,31.456251 L -87.217098,31.456247 L -87.218562,31.456036 L -87.218586,31.456033 L -87.219221,31.455941 L -87.219854,31.45585 L -87.219889,31.455845 L -87.220318,31.455783 L -87.220932,31.455692 L -87.220959,31.455688 L -87.220987,31.455683 L -87.221003,31.455681 L -87.22103,31.455677 L -87.221089,31.455668 L -87.221115,31.455664 L -87.221135,31.455661 L -87.221892,31.455548 L -87.222417,31.455457 L -87.222491,31.455442 L -87.222623,31.455414 L -87.222655,31.455408 L -87.225101,31.45491 L -87.225113,31.454908 L -87.225546,31.454834 L -87.227797,31.454363 L -87.228296,31.45423 L -87.228629,31.454117 L -87.228858,31.454023 L -87.22887,31.454018 L -87.229008,31.453961 L -87.229065,31.453934 L -87.22928,31.453829 L -87.229543,31.453701 L -87.229993,31.453419 L -87.23001,31.453406 L -87.230526,31.453 L -87.230894,31.452653 L -87.231193,31.452316 L -87.231229,31.452275 L -87.231264,31.452227 L -87.231715,31.451606 L -87.231828,31.451451 L -87.232079,31.451089 L -87.232113,31.45104 L -87.232133,31.451012 L -87.232175,31.450952 L -87.232929,31.44987 L -87.233385,31.449232 L -87.233575,31.448956 L -87.233671,31.448817 L -87.233678,31.448807 L -87.23374,31.448688 L -87.233745,31.44868 L -87.233876,31.448434 L -87.233917,31.448356 L -87.233996,31.448152 L -87.234018,31.44807 L -87.234053,31.447942 L -87.234056,31.44793 L -87.234072,31.447875 L -87.234259,31.447829 L -87.234372,31.447793 L -87.234512,31.447732 L -87.234592,31.447697 L -87.234727,31.447618 L -87.235353,31.447253 L -87.235536,31.447135 L -87.235678,31.447059 L -87.235732,31.447043 L -87.235815,31.447018 L -87.235958,31.446997 L -87.235975,31.446996 L -87.236102,31.446989 L -87.236171,31.446939 L -87.236179,31.446933 L -87.237672,31.445847 L -87.238738,31.44495 L -87.239897,31.44364 L -87.240774,31.442202 L -87.241619,31.441164 L -87.243826,31.438686 L -87.244125,31.438582 L -87.244139,31.438576 L -87.244258,31.438528 L -87.244556,31.43833 L -87.244982,31.437943 L -87.245337,31.437553 L -87.245702,31.437194 L -87.24615,31.43683 L -87.246389,31.436676 L -87.246498,31.436572 L -87.247422,31.435965 L -87.247524,31.435967 L -87.247714,31.435863 L -87.247837,31.435764 L -87.248146,31.435475 L -87.248275,31.435375 L -87.24898,31.434829 L -87.249003,31.434811 L -87.24926,31.434598 L -87.250213,31.433926 L -87.250653,31.433552 L -87.251072,31.433239 L -87.251484,31.432947 L -87.251942,31.432596 L -87.252285,31.432288 L -87.252519,31.432101 L -87.252702,31.431955 L -87.252793,31.431882 L -87.253028,31.431713 L -87.253142,31.431652 L -87.253261,31.431602 L -87.253389,31.431515 L -87.25351,31.431433 L -87.253959,31.431113 L -87.254186,31.430931 L -87.254405,31.430743 L -87.254622,31.430455 L -87.254785,31.430216 L -87.254918,31.430045 L -87.255156,31.429771 L -87.255262,31.42967 L -87.255508,31.429483 L -87.255623,31.429425 L -87.256162,31.429221 L -87.258051,31.42788 L -87.258797,31.42743 L -87.259284,31.427111 L -87.260037,31.426677 L -87.260518,31.426357 L -87.261436,31.42565 L -87.261883,31.425282 L -87.262115,31.425108 L -87.262785,31.424673 L -87.263185,31.424362 L -87.263838,31.423905 L -87.264025,31.423715 L -87.264081,31.423658 L -87.264145,31.423581 L -87.264299,31.423428 L -87.264413,31.423337 L -87.26564,31.422563 L -87.265811,31.422432 L -87.266106,31.422114 L -87.266219,31.422021 L -87.266407,31.42191 L -87.266731,31.42175 L -87.266932,31.421665 L -87.267071,31.421622 L -87.267353,31.421556 L -87.26749,31.421509 L -87.267614,31.421436 L -87.267718,31.421338 L -87.267949,31.421059 L -87.268059,31.420964 L -87.268119,31.420923 L -87.26823,31.420868 L -87.268377,31.420795 L -87.268445,31.420762 L -87.268563,31.420679 L -87.269013,31.420208 L -87.269203,31.419988 L -87.269939,31.419092 L -87.270477,31.418407 L -87.270582,31.418218 L -87.270625,31.418114 L -87.270733,31.417768 L -87.270912,31.417039 L -87.271048,31.41638 L -87.271069,31.416313 L -87.271098,31.416225 L -87.271107,31.416198 L -87.271121,31.416137 L -87.271449,31.414897 L -87.271493,31.414758 L -87.271619,31.414415 L -87.271768,31.414082 L -87.271841,31.413945 L -87.27194,31.413759 L -87.272003,31.413667 L -87.27208,31.413554 L -87.272145,31.41346 L -87.272365,31.413171 L -87.272495,31.413012 L -87.272597,31.412887 L -87.272909,31.412525 L -87.273789,31.411506 L -87.274035,31.411238 L -87.274104,31.411176 L -87.274307,31.410994 L -87.274364,31.410955 L -87.274381,31.410943 L -87.27439,31.410937 L -87.274539,31.410836 L -87.27461,31.410788 L -87.274932,31.410606 L -87.275062,31.41055 L -87.275237,31.410476 L -87.275279,31.410456 L -87.275336,31.410438 L -87.275346,31.410435 L -87.275508,31.410385 L -87.275521,31.410381 L -87.275535,31.410377 L -87.27564,31.410345 L -87.276411,31.41018 L -87.277154,31.410021 L -87.280234,31.409379 L -87.280896,31.409241 L -87.281425,31.40913 L -87.28145,31.409125 L -87.282141,31.408981 L -87.282438,31.408919 L -87.282945,31.408809 L -87.283586,31.408671 L -87.283933,31.40858 L -87.284061,31.408536 L -87.284508,31.408383 L -87.284613,31.408347 L -87.284948,31.408195 L -87.284984,31.408175 L -87.285031,31.408149 L -87.285049,31.408139 L -87.285288,31.408006 L -87.287111,31.406894 L -87.288925,31.40577 L -87.289404,31.405474 L -87.289745,31.405278 L -87.289842,31.405235 L -87.289885,31.405216 L -87.290471,31.404954 L -87.290825,31.404785 L -87.290907,31.404734 L -87.291154,31.404579 L -87.291454,31.404358 L -87.291469,31.404347 L -87.29193,31.404008 L -87.291945,31.403997 L -87.292079,31.403898 L -87.292137,31.403861 L -87.292398,31.403696 L -87.292662,31.403551 L -87.292732,31.403513 L -87.293087,31.403339 L -87.293248,31.403267 L -87.293459,31.403173 L -87.294012,31.402913 L -87.29432,31.402768 L -87.294335,31.402761 L -87.294604,31.402635 L -87.294802,31.402526 L -87.294816,31.402518 L -87.294973,31.402431 L -87.295672,31.402007 L -87.295802,31.401923 L -87.296345,31.401572 L -87.296408,31.401524 L -87.296617,31.401365 L -87.296656,31.401335 L -87.296721,31.401278 L -87.296787,31.401204 L -87.296796,31.401193 L -87.296929,31.401042 L -87.296941,31.401028 L -87.296951,31.401015 L -87.297002,31.400947 L -87.29703,31.400909 L -87.297053,31.400873 L -87.297058,31.400865 L -87.29713,31.400749 L -87.297364,31.400252 L -87.297381,31.400216 L -87.297631,31.399639 L -87.297721,31.399448 L -87.297726,31.399439 L -87.297837,31.399249 L -87.297875,31.39919 L -87.297955,31.399067 L -87.298039,31.398956 L -87.298052,31.398939 L -87.298486,31.39837 L -87.299582,31.396977 L -87.299698,31.39683 L -87.300946,31.395297 L -87.30096,31.39528 L -87.301074,31.39514 L -87.301086,31.395125 L -87.301376,31.394769 L -87.301466,31.394664 L -87.302458,31.3935 L -87.302524,31.393422 L -87.302832,31.393075 L -87.302938,31.392972 L -87.302959,31.392951 L -87.302967,31.392943 L -87.303091,31.392823 L -87.303161,31.392755 L -87.303228,31.3927 L -87.303587,31.392409 L -87.303774,31.392272 L -87.304553,31.39175 L -87.305082,31.391375 L -87.305127,31.391343 L -87.305157,31.39132 L -87.305489,31.391067 L -87.305844,31.390775 L -87.306156,31.390472 L -87.306438,31.390133 L -87.306659,31.389777 L -87.30667,31.389759 L -87.306694,31.389715 L -87.306712,31.389682 L -87.307179,31.388812 L -87.307184,31.388803 L -87.307191,31.388787 L -87.307197,31.388775 L -87.307404,31.388347 L -87.307443,31.388266 L -87.307617,31.387883 L -87.308917,31.385026 L -87.309124,31.384627 L -87.30919,31.384531 L -87.309209,31.384506 L -87.30936,31.384314 L -87.309476,31.384185 L -87.309556,31.384096 L -87.309724,31.383936 L -87.309883,31.383782 L -87.310016,31.383654 L -87.310024,31.383646 L -87.310053,31.383618 L -87.310066,31.383606 L -87.310099,31.383574 L -87.310944,31.382756 L -87.311197,31.382542 L -87.31121,31.382531 L -87.311266,31.382484 L -87.311276,31.382475 L -87.311628,31.382205 L -87.311743,31.382129 L -87.311752,31.382123 L -87.311907,31.38202 L -87.311993,31.381963 L -87.312035,31.38194 L -87.312379,31.381754 L -87.312934,31.381477 L -87.312978,31.381455 L -87.313013,31.381438 L -87.313355,31.381268 L -87.313708,31.381078 L -87.313739,31.381061 L -87.313771,31.381039 L -87.314032,31.380865 L -87.314077,31.380835 L -87.314185,31.380751 L -87.314251,31.3807 L -87.314267,31.380688 L -87.314284,31.380675 L -87.314293,31.380668 L -87.315072,31.38006 L -87.31518,31.379976 L -87.315207,31.379955 L -87.315317,31.37987 L -87.315574,31.379717 L -87.315798,31.379619 L -87.315817,31.379611 L -87.31598,31.379539 L -87.317097,31.379092 L -87.317445,31.378942 L -87.317468,31.378932 L -87.31748,31.378925 L -87.317821,31.378736 L -87.318138,31.378493 L -87.318396,31.378198 L -87.318404,31.378181 L -87.318568,31.377853 L -87.318664,31.377478 L -87.318748,31.377104 L -87.31875,31.377094 L -87.318755,31.377069 L -87.318759,31.377049 L -87.318776,31.376972 L -87.318778,31.376962 L -87.318781,31.376952 L -87.318831,31.37673 L -87.31893,31.376366 L -87.319044,31.376012 L -87.319187,31.375672 L -87.319375,31.375358 L -87.320282,31.374155 L -87.320484,31.373852 L -87.320912,31.373103 L -87.320919,31.373091 L -87.321027,31.372903 L -87.321054,31.37285 L -87.321361,31.372246 L -87.321983,31.370925 L -87.322483,31.369962 L -87.322742,31.369501 L -87.323015,31.369014 L -87.323356,31.368368 L -87.323421,31.368239 L -87.323731,31.367621 L -87.323751,31.367582 L -87.32377,31.367544 L -87.324172,31.366742 L -87.324211,31.366662 L -87.324361,31.366355 L -87.324391,31.366293 L -87.324414,31.366246 L -87.324492,31.366086 L -87.324506,31.366059 L -87.324565,31.365945 L -87.324607,31.365864 L -87.324662,31.365758 L -87.324774,31.365559 L -87.324843,31.365436 L -87.325034,31.365125 L -87.325661,31.364185 L -87.326524,31.362836 L -87.326734,31.362479 L -87.327176,31.361791 L -87.327405,31.361464 L -87.330307,31.357604 L -87.331483,31.356085 L -87.331934,31.355524 L -87.332179,31.355251 L -87.332463,31.355017 L -87.332773,31.354845 L -87.332783,31.354839 L -87.332896,31.354793 L -87.333809,31.354418 L -87.333939,31.354357 L -87.33398,31.354337 L -87.333992,31.354331 L -87.334466,31.354108 L -87.335108,31.353762 L -87.335131,31.353748 L -87.335732,31.353388 L -87.335924,31.353259 L -87.336012,31.3532 L -87.336036,31.353184 L -87.336626,31.352761 L -87.337052,31.352455 L -87.337231,31.352327 L -87.337553,31.352121 L -87.337902,31.351945 L -87.338273,31.351798 L -87.338661,31.351688 L -87.339061,31.351616 L -87.339466,31.35158 L -87.339871,31.351579 L -87.340539,31.351626 L -87.340555,31.351627 L -87.341114,31.351666 L -87.341989,31.351739 L -87.342004,31.35174 L -87.342727,31.3518 L -87.342888,31.35181 L -87.342909,31.351812 L -87.342931,31.351814 L -87.343168,31.351827 L -87.343216,31.35183 L -87.343239,31.351831 L -87.343477,31.351845 L -87.343748,31.351851 L -87.343775,31.351852 L -87.343987,31.351834 L -87.344202,31.3518 L -87.344554,31.351697 L -87.344718,31.351622 L -87.344746,31.351609 L -87.344889,31.351543 L -87.345199,31.35135 L -87.345288,31.35128 L -87.345298,31.351272 L -87.345424,31.351172 L -87.345484,31.351124 L -87.345509,31.3511 L -87.345751,31.350864 L -87.345933,31.350651 L -87.345943,31.35064 L -87.34607,31.35049 L -87.346236,31.350228 L -87.346397,31.349943 L -87.346527,31.349623 L -87.346572,31.349364 L -87.346576,31.349341 L -87.346585,31.34929 L -87.346575,31.348956 L -87.346537,31.34861 L -87.346489,31.348272 L -87.346462,31.347922 L -87.34647,31.347577 L -87.346526,31.347227 L -87.346736,31.346291 L -87.34675,31.346227 L -87.34691,31.345522 L -87.346918,31.345486 L -87.346926,31.345449 L -87.346999,31.345091 L -87.347047,31.344734 L -87.347049,31.344719 L -87.34705,31.344698 L -87.347088,31.344117 L -87.347089,31.3441 L -87.347121,31.343599 L -87.347186,31.342981 L -87.347197,31.342879 L -87.347208,31.342822 L -87.347221,31.342749 L -87.347223,31.342738 L -87.347263,31.342527 L -87.347347,31.342227 L -87.347361,31.342176 L -87.347366,31.342162 L -87.347739,31.341098 L -87.348009,31.340396 L -87.348172,31.340059 L -87.348363,31.339726 L -87.349193,31.338429 L -87.34943,31.338049 L -87.34958,31.337808 L -87.349783,31.337505 L -87.350675,31.336338 L -87.35208,31.334576 L -87.352412,31.334144 L -87.352458,31.334084 L -87.353195,31.333128 L -87.353309,31.332996 L -87.353367,31.332928 L -87.35367,31.332577 L -87.354171,31.332049 L -87.354901,31.331335 L -87.354914,31.331322 L -87.354964,31.331273 L -87.355203,31.330995 L -87.355395,31.330682 L -87.355557,31.330353 L -87.355718,31.329995 L -87.355724,31.329982 L -87.355734,31.329959 L -87.355827,31.329751 L -87.355877,31.329641 L -87.356217,31.328884 L -87.356221,31.328875 L -87.356302,31.328695 L -87.356342,31.328595 L -87.356451,31.328323 L -87.356515,31.328163 L -87.356604,31.32794 L -87.356628,31.327879 L -87.356831,31.327372 L -87.357003,31.326924 L -87.357012,31.326901 L -87.357156,31.326528 L -87.357264,31.326248 L -87.357276,31.326216 L -87.357424,31.325834 L -87.357432,31.325812 L -87.357437,31.325799 L -87.357608,31.325354 L -87.357648,31.32524 L -87.357722,31.325031 L -87.357931,31.324359 L -87.357958,31.324262 L -87.357966,31.324234 L -87.358025,31.324022 L -87.358289,31.322881 L -87.358323,31.322734 L -87.358335,31.32268 L -87.358419,31.322289 L -87.358501,31.32191 L -87.358535,31.321753 L -87.359013,31.319366 L -87.359096,31.319033 L -87.359107,31.319004 L -87.359126,31.318952 L -87.35922,31.318692 L -87.359382,31.318366 L -87.359556,31.318048 L -87.359739,31.317782 L -87.359763,31.317747 L -87.359795,31.317716 L -87.359998,31.317521 L -87.360024,31.317496 L -87.360074,31.317464 L -87.36022,31.31737 L -87.360333,31.317298 L -87.360574,31.317178 L -87.361303,31.316815 L -87.361629,31.316653 L -87.361961,31.31651 L -87.362272,31.316399 L -87.362303,31.316388 L -87.362365,31.316369 L -87.362377,31.316365 L -87.363515,31.31601 L -87.363525,31.316007 L -87.363542,31.316002 L -87.363754,31.315936 L -87.363925,31.315887 L -87.365291,31.315494 L -87.365644,31.315386 L -87.365993,31.315294 L -87.366354,31.315243 L -87.366721,31.315224 L -87.367832,31.315225 L -87.368613,31.315201 L -87.368843,31.315173 L -87.368971,31.315141 L -87.369063,31.315118 L -87.369222,31.315053 L -87.369243,31.315044 L -87.369274,31.315031 L -87.369395,31.314957 L -87.369408,31.314949 L -87.369524,31.314851 L -87.369622,31.314746 L -87.369651,31.31471 L -87.36984,31.314474 L -87.370039,31.314183 L -87.370259,31.313898 L -87.370527,31.313657 L -87.370836,31.313466 L -87.371171,31.313309 L -87.3718,31.312962 L -87.373527,31.311966 L -87.374038,31.311671 L -87.374903,31.311172 L -87.378284,31.309221 L -87.378602,31.309031 L -87.379827,31.308233 L -87.380269,31.307972 L -87.38046,31.307892 L -87.380497,31.307876 L -87.3807,31.307774 L -87.38125,31.307498 L -87.383525,31.306391 L -87.383837,31.30621 L -87.383853,31.3062 L -87.384143,31.306016 L -87.384151,31.30601 L -87.384402,31.305832 L -87.384438,31.305807 L -87.384652,31.305644 L -87.384679,31.305623 L -87.385304,31.305147 L -87.385385,31.30508 L -87.385585,31.304915 L -87.385843,31.304657 L -87.38607,31.304373 L -87.386272,31.304098 L -87.386286,31.304079 L -87.386303,31.304048 L -87.386466,31.30376 L -87.386631,31.303436 L -87.38671,31.303318 L -87.386734,31.303293 L -87.386861,31.303164 L -87.38691,31.30313 L -87.386924,31.303119 L -87.387139,31.302965 L -87.387452,31.302741 L -87.387753,31.302541 L -87.388071,31.302367 L -87.38852,31.302136 L -87.388598,31.302096 L -87.38872,31.302033 L -87.389729,31.30163 L -87.390007,31.301539 L -87.390065,31.30152 L -87.390075,31.301517 L -87.390427,31.301434 L -87.392351,31.30105 L -87.392393,31.301042 L -87.392421,31.301036 L -87.392584,31.301003 L -87.392658,31.300985 L -87.393066,31.300887 L -87.393124,31.300873 L -87.393206,31.300853 L -87.39334,31.3008 L -87.393409,31.300772 L -87.393536,31.300721 L -87.39386,31.30057 L -87.394145,31.300414 L -87.39416,31.300406 L -87.394179,31.300396 L -87.394454,31.300212 L -87.394468,31.300202 L -87.394482,31.300193 L -87.394777,31.299979 L -87.395477,31.299391 L -87.395496,31.299375 L -87.395611,31.299278 L -87.395829,31.299094 L -87.395839,31.299083 L -87.39605,31.298902 L -87.397547,31.297619 L -87.398336,31.296876 L -87.398488,31.296724 L -87.398576,31.296636 L -87.398834,31.296378 L -87.398856,31.296356 L -87.398871,31.296342 L -87.399253,31.295983 L -87.399812,31.295458 L -87.399848,31.295424 L -87.400178,31.295114 L -87.400972,31.294352 L -87.401217,31.294084 L -87.401434,31.293791 L -87.401621,31.293476 L -87.40179,31.293153 L -87.402755,31.291195 L -87.403091,31.290551 L -87.403274,31.290238 L -87.40347,31.289932 L -87.40369,31.289644 L -87.403833,31.289479 L -87.403945,31.289367 L -87.404072,31.289257 L -87.404213,31.289136 L -87.404809,31.288681 L -87.408149,31.285945 L -87.408168,31.285929 L -87.408654,31.285531 L -87.409232,31.28509 L -87.409839,31.284669 L -87.412338,31.282997 L -87.412936,31.282575 L -87.414407,31.281501 L -87.41471,31.281301 L -87.415027,31.281124 L -87.415296,31.280991 L -87.416334,31.280478 L -87.417301,31.279963 L -87.417616,31.27978 L -87.417914,31.279571 L -87.418186,31.279327 L -87.418431,31.279055 L -87.419116,31.278209 L -87.420026,31.277065 L -87.420275,31.276788 L -87.420391,31.276694 L -87.420456,31.276651 L -87.42056,31.276606 L -87.420784,31.276524 L -87.420796,31.27652 L -87.420876,31.276319 L -87.421044,31.275995 L -87.421245,31.275693 L -87.421584,31.275247 L -87.421694,31.275103 L -87.421805,31.274951 L -87.422129,31.274508 L -87.422519,31.273886 L -87.4227,31.27356 L -87.425511,31.268299 L -87.425872,31.267587 L -87.426178,31.266889 L -87.427204,31.26436 L -87.427312,31.264043 L -87.427322,31.264014 L -87.427408,31.263683 L -87.427469,31.263383 L -87.427504,31.263062 L -87.427516,31.26274 L -87.427507,31.26213 L -87.427506,31.262062 L -87.427456,31.260422 L -87.427455,31.260386 L -87.427153,31.260379 L -87.418209,31.260407 L -87.417474,31.260409 L -87.410301,31.260432 L -87.404909,31.260452 L -87.403025,31.260462 L -87.39673,31.260468 L -87.392102,31.260471 L -87.390128,31.26047 L -87.382907,31.260499 L -87.381108,31.260524 L -87.379018,31.260524 L -87.377698,31.260545 L -87.377134,31.260538 L -87.37531,31.260549 L -87.373981,31.260557 L -87.371379,31.260566 L -87.37056,31.260556 L -87.370272,31.260558 L -87.369378,31.260563 L -87.369186,31.26057 L -87.368625,31.260564 L -87.36791,31.260556 L -87.366934,31.26057 L -87.365902,31.26057 L -87.365618,31.260576 L -87.365523,31.260529 L -87.36528,31.260364 L -87.355468,31.260569 L -87.351111,31.260564 L -87.339969,31.260608 L -87.337499,31.260618 L -87.33667,31.260606 L -87.336318,31.260595 L -87.333589,31.260604 L -87.332168,31.260637 L -87.326693,31.260661 L -87.326353,31.260662 L -87.320171,31.260784 L -87.318564,31.260787 L -87.317432,31.260843 L -87.316832,31.260845 L -87.315814,31.26079 L -87.315486,31.260767 L -87.315448,31.260764 L -87.31505,31.260731 L -87.314535,31.260712 L -87.313632,31.260712 L -87.312076,31.260713 L -87.311321,31.260714 L -87.311078,31.260714 L -87.309932,31.260714 L -87.308896,31.260731 L -87.305905,31.260736 L -87.305207,31.260697 L -87.304869,31.260648 L -87.304824,31.260637 L -87.303101,31.260635 L -87.297653,31.260626 L -87.287274,31.260609 L -87.28527,31.260593 L -87.270097,31.260558 L -87.253304,31.260555 L -87.249977,31.260512 L -87.241191,31.260644 L -87.234999,31.260608 L -87.234724,31.260606 L -87.234271,31.260584 L -87.233545,31.260586 L -87.229959,31.260594 L -87.228338,31.260631 L -87.225866,31.260639 L -87.22548,31.260639 L -87.225459,31.260639 L -87.219798,31.260655 L -87.211426,31.260661 L -87.210736,31.26066 L -87.210043,31.260661 L -87.197333,31.260689 L -87.192839,31.260696 L -87.188505,31.260703 L -87.187791,31.260702 L -87.186182,31.260706 L -87.186126,31.260706 L -87.18574,31.260707 L -87.184621,31.260683 L -87.179423,31.260699 L -87.175632,31.260705 L -87.163618,31.260744 L -87.163296,31.260744 L -87.16304,31.26074 L -87.149043,31.260772 L -87.144898,31.260795 L -87.140531,31.260805 L -87.13917,31.260807 L -87.135376,31.260824 L -87.134082,31.260824 L -87.132377,31.260831 L -87.126851,31.260852 L -87.12581,31.260845 L -87.124693,31.260857 L -87.120766,31.260902 L -87.116744,31.260915 L -87.110613,31.260935 L -87.107801,31.260947 L -87.095805,31.261045 L -87.085072,31.26107 L -87.076997,31.261088 L -87.076826,31.261089 L -87.073739,31.261147 L -87.073666,31.261128 L -87.073491,31.261117 L -87.071687,31.261094 L -87.071517,31.261085 L -87.071349,31.261053 L -87.071242,31.261009 L -87.071188,31.260985 L -87.062561,31.261151 L -87.042194,31.261145 L -87.036472,31.261315 L -87.034265,31.261323 L -87.033999,31.261322 L -87.033733,31.261321 L -87.03171,31.261307 L -87.030403,31.261313 L -87.030146,31.261306 L -87.029888,31.261305 L -87.029604,31.261304 L -87.029321,31.261303 L -87.023896,31.261288 L -87.018302,31.261273 L -87.018226,31.261273 L -87.018133,31.261272 L -87.018005,31.261272 L -87.017861,31.261272 L -87.017849,31.261282 L -87.011899,31.261256 L -87.00261,31.261231 L -86.99997,31.261038 L -86.990649,31.261102 L -86.986387,31.261131 L -86.976238,31.2612 L -86.974837,31.261224 L -86.974819,31.261215 L -86.974756,31.261216 L -86.971833,31.261245 L -86.969587,31.261268 L -86.964,31.261324 L -86.955406,31.261358 L -86.955083,31.261358 L -86.95332,31.261372 L -86.951673,31.261461 L -86.951439,31.261443 L -86.949764,31.261447 L -86.948074,31.261461 L -86.946695,31.261472 L -86.94549,31.261482 L -86.945282,31.26149 L -86.945264,31.261492 L -86.945181,31.261501 L -86.945068,31.261513 L -86.944814,31.261556 L -86.944709,31.26158 L -86.944669,31.261589 L -86.944587,31.261584 L -86.944539,31.261581 L -86.938094,31.261761 L -86.937975,31.261716 L -86.934613,31.261739 L -86.9253,31.261775 L -86.922475,31.261784 L -86.912612,31.261819 L -86.909072,31.26183 L -86.905649,31.26184 L -86.902254,31.26185 L -86.901187,31.261855 L -86.901173,31.261855 L -86.895459,31.261883 L -86.894938,31.261893 L -86.889701,31.261909 L -86.887179,31.261889 L -86.887094,31.261912 L -86.885842,31.261916 L -86.88232,31.261917 L -86.878507,31.261919 L -86.875052,31.261951 L -86.871022,31.261902 L -86.861742,31.261935 L -86.855058,31.261959 L -86.854619,31.261961 L -86.850694,31.261972 L -86.845941,31.261988 L -86.845945,31.26128 L -86.845927,31.260916 L -86.84583,31.260543 L -86.845741,31.259612 L -86.845706,31.258823 L -86.845146,31.25848 L -86.844158,31.257265 L -86.843358,31.257013 L -86.843144,31.25683 L -86.843144,31.256692 L -86.842957,31.25644 L -86.843224,31.256257 L -86.843757,31.255638 L -86.844557,31.255042 L -86.844931,31.254927 L -86.844795,31.254177 L -86.844637,31.2533 L -86.84445,31.252727 L -86.843569,31.251879 L -86.843436,31.251238 L -86.843356,31.251192 L -86.843356,31.250917 L -86.843155,31.250171 L -86.843061,31.249541 L -86.843034,31.247799 L -86.843141,31.246951 L -86.84346,31.245874 L -86.843486,31.244247 L -86.843406,31.244064 L -86.843353,31.24372 L -86.843059,31.243078 L -86.842366,31.242094 L -86.841352,31.241223 L -86.839991,31.240375 L -86.839377,31.239802 L -86.839004,31.239115 L -86.838523,31.237511 L -86.838496,31.235929 L -86.838656,31.234967 L -86.838976,31.233912 L -86.839509,31.232789 L -86.839669,31.232193 L -86.839589,31.231552 L -86.839375,31.231116 L -86.838201,31.229879 L -86.840489,31.228963 L -86.845641,31.226875 L -86.845709,31.226861 L -86.846814,31.226644 L -86.847801,31.226116 L -86.848201,31.225978 L -86.851408,31.225336 L -86.851398,31.225193 L -86.851377,31.225067 L -86.851367,31.224895 L -86.851367,31.224724 L -86.851357,31.224507 L -86.851358,31.224182 L -86.851369,31.224065 L -86.851411,31.223939 L -86.851527,31.22365 L -86.851569,31.223479 L -86.851612,31.223055 L -86.851601,31.222784 L -86.851561,31.222107 L -86.851529,31.2219 L -86.851425,31.221358 L -86.851404,31.221223 L -86.851352,31.221087 L -86.851331,31.22097 L -86.851342,31.220817 L -86.851363,31.220645 L -86.851416,31.220474 L -86.8515,31.220303 L -86.851732,31.219752 L -86.851778,31.219621 L -86.851785,31.219599 L -86.851827,31.2195 L -86.851838,31.219383 L -86.851869,31.219229 L -86.85188,31.219121 L -86.851859,31.218913 L -86.851828,31.218679 L -86.851797,31.218571 L -86.851787,31.218507 L -86.851745,31.21848 L -86.851525,31.218227 L -86.851462,31.218146 L -86.851388,31.218065 L -86.851294,31.217893 L -86.851221,31.217686 L -86.851023,31.216946 L -86.850939,31.216657 L -86.850803,31.216296 L -86.85074,31.216097 L -86.850688,31.215898 L -86.850657,31.215745 L -86.850647,31.215538 L -86.850626,31.215393 L -86.850574,31.215213 L -86.850501,31.21505 L -86.85027,31.214617 L -86.850124,31.214373 L -86.850019,31.214174 L -86.849883,31.213976 L -86.849757,31.213804 L -86.849631,31.213669 L -86.84961,31.213641 L -86.849453,31.213479 L -86.84917,31.213217 L -86.848981,31.213054 L -86.848782,31.212828 L -86.848573,31.212549 L -86.848447,31.212332 L -86.848363,31.212178 L -86.84815,31.2119 L -86.848566,31.211597 L -86.84957,31.210877 L -86.850116,31.2105 L -86.850597,31.210187 L -86.850948,31.209975 L -86.852514,31.209074 L -86.853318,31.20862 L -86.853662,31.208425 L -86.854876,31.207728 L -86.855801,31.207191 L -86.856366,31.206854 L -86.856712,31.206638 L -86.857382,31.206177 L -86.858098,31.20565 L -86.858276,31.205538 L -86.858073,31.205067 L -86.857974,31.204784 L -86.857851,31.204369 L -86.857763,31.204054 L -86.857726,31.203926 L -86.85765,31.203714 L -86.857588,31.203576 L -86.857517,31.20344 L -86.857413,31.203288 L -86.857288,31.203125 L -86.857235,31.20307 L -86.856513,31.20215 L -86.856234,31.201777 L -86.856027,31.201456 L -86.855953,31.201323 L -86.855855,31.201118 L -86.855775,31.200907 L -86.855739,31.200763 L -86.855702,31.20065 L -86.856092,31.200475 L -86.856317,31.200368 L -86.856546,31.200268 L -86.856695,31.200197 L -86.857197,31.199917 L -86.857344,31.199841 L -86.857421,31.19981 L -86.857666,31.199742 L -86.85775,31.199727 L -86.85792,31.199715 L -86.85912,31.19972 L -86.859547,31.199717 L -86.860233,31.199726 L -86.860829,31.199721 L -86.861682,31.199732 L -86.861764,31.199715 L -86.863619,31.199749 L -86.864682,31.199549 L -86.864868,31.199455 L -86.865201,31.199275 L -86.868398,31.196455 L -86.868504,31.19637 L -86.86855,31.196308 L -86.868648,31.196101 L -86.868784,31.195751 L -86.868908,31.195399 L -86.869119,31.194839 L -86.869436,31.194075 L -86.869566,31.193725 L -86.869703,31.193297 L -86.870022,31.192228 L -86.870027,31.192205 L -86.870057,31.192084 L -86.87013,31.191722 L -86.870149,31.191576 L -86.87016,31.191357 L -86.870156,31.191064 L -86.870157,31.190256 L -86.870165,31.189891 L -86.870119,31.188793 L -86.870097,31.188057 L -86.870089,31.187303 L -86.870072,31.186586 L -86.870061,31.18585 L -86.870029,31.184377 L -86.870006,31.182164 L -86.869993,31.179876 L -86.869984,31.179507 L -86.869967,31.179286 L -86.869935,31.179066 L -86.869901,31.17892 L -86.869834,31.178707 L -86.868976,31.176548 L -86.868861,31.17627 L -86.868476,31.175299 L -86.868445,31.175232 L -86.868388,31.175078 L -86.869896,31.174891 L -86.872983,31.174519 L -86.87311,31.174504 L -86.881613,31.174442 L -86.882971,31.174432 L -86.886675,31.17439 L -86.895988,31.174332 L -86.900633,31.174293 L -86.904857,31.174258 L -86.904691,31.174143 L -86.904358,31.173978 L -86.90423,31.173923 L -86.904032,31.173827 L -86.903844,31.173686 L -86.903815,31.17367 L -86.903662,31.173524 L -86.903598,31.173453 L -86.903591,31.173434 L -86.903521,31.173346 L -86.903457,31.173236 L -86.903451,31.173214 L -86.903425,31.173175 L -86.903406,31.17312 L -86.903387,31.173098 L -86.903371,31.173024 L -86.903358,31.172925 L -86.903367,31.172493 L -86.903355,31.172466 L -86.903335,31.172444 L -86.903387,31.172383 L -86.903438,31.172262 L -86.903454,31.17216 L -86.903476,31.172103 L -86.903492,31.172028 L -86.903514,31.171971 L -86.903569,31.171621 L -86.90354,31.171283 L -86.903511,31.171039 L -86.903489,31.170805 L -86.903476,31.170761 L -86.903479,31.170604 L -86.903495,31.170447 L -86.903518,31.170313 L -86.903559,31.170211 L -86.903575,31.170093 L -86.903601,31.170035 L -86.903629,31.169903 L -86.903668,31.16987 L -86.903642,31.169633 L -86.903588,31.169394 L -86.903578,31.169369 L -86.903569,31.169323 L -86.903559,31.169298 L -86.90353,31.169103 L -86.903514,31.168682 L -86.903521,31.168611 L -86.903482,31.168567 L -86.903497,31.168532 L -86.903486,31.168355 L -86.90346,31.168256 L -86.903412,31.16811 L -86.903391,31.167974 L -86.903335,31.167846 L -86.903316,31.167769 L -86.903291,31.167742 L -86.903271,31.167665 L -86.903233,31.16761 L -86.903201,31.167505 L -86.903156,31.16745 L -86.903137,31.16739 L -86.903118,31.167368 L -86.903112,31.167346 L -86.903067,31.167263 L -86.903035,31.167225 L -86.903035,31.167207 L -86.903009,31.167159 L -86.902977,31.16712 L -86.902958,31.167082 L -86.902926,31.167043 L -86.902894,31.167013 L -86.902888,31.166994 L -86.902856,31.16695 L -86.902811,31.166906 L -86.902798,31.166873 L -86.902805,31.166856 L -86.902779,31.166834 L -86.902766,31.166807 L -86.902687,31.166702 L -86.902594,31.166601 L -86.9023,31.166315 L -86.901872,31.165925 L -86.901699,31.165757 L -86.901686,31.165729 L -86.901654,31.165685 L -86.901577,31.165597 L -86.901507,31.165529 L -86.901501,31.16551 L -86.901392,31.165367 L -86.901367,31.165328 L -86.901322,31.165273 L -86.901296,31.165224 L -86.901232,31.165141 L -86.9012,31.165081 L -86.901136,31.164993 L -86.901124,31.16496 L -86.90106,31.164883 L -86.900894,31.164745 L -86.900855,31.164729 L -86.90074,31.164668 L -86.900715,31.164646 L -86.900683,31.164652 L -86.900619,31.164591 L -86.900491,31.164454 L -86.900465,31.164415 L -86.900446,31.164366 L -86.900427,31.164338 L -86.900414,31.164135 L -86.90043,31.16405 L -86.900472,31.163943 L -86.900516,31.163695 L -86.900555,31.163514 L -86.900548,31.163464 L -86.900523,31.163398 L -86.900497,31.163349 L -86.900453,31.163299 L -86.90044,31.163266 L -86.900331,31.163153 L -86.900325,31.163134 L -86.900242,31.16303 L -86.900203,31.162958 L -86.900171,31.16292 L -86.900165,31.162887 L -86.900075,31.162788 L -86.900074,31.16277 L -86.900018,31.162694 L -86.899986,31.162639 L -86.899941,31.162529 L -86.899928,31.162381 L -86.899957,31.162213 L -86.900037,31.162034 L -86.900056,31.161979 L -86.900114,31.161902 L -86.900139,31.161842 L -86.900158,31.16182 L -86.900189,31.161739 L -86.90019,31.161721 L -86.900222,31.161699 L -86.90021,31.161682 L -86.900209,31.161664 L -86.900178,31.161627 L -86.900165,31.161462 L -86.9002,31.161218 L -86.900174,31.161102 L -86.900094,31.160846 L -86.900056,31.160747 L -86.899992,31.16061 L -86.899951,31.160533 L -86.899928,31.160478 L -86.899909,31.160456 L -86.899801,31.160192 L -86.89973,31.159967 L -86.899714,31.159928 L -86.899641,31.159686 L -86.899621,31.15951 L -86.899577,31.159263 L -86.899564,31.159246 L -86.899526,31.159213 L -86.899538,31.159169 L -86.899532,31.159142 L -86.899494,31.159054 L -86.899462,31.15901 L -86.899398,31.158938 L -86.899352,31.158877 L -86.899308,31.158751 L -86.899296,31.158405 L -86.899273,31.158232 L -86.899244,31.158081 L -86.899264,31.158059 L -86.899238,31.158031 L -86.899174,31.157751 L -86.899142,31.157668 L -86.899072,31.157542 L -86.899059,31.157525 L -86.89888,31.157349 L -86.898861,31.157311 L -86.898803,31.157239 L -86.89874,31.157124 L -86.898708,31.157085 L -86.89865,31.156931 L -86.898589,31.156632 L -86.898567,31.156563 L -86.898551,31.156456 L -86.898554,31.156156 L -86.898541,31.155909 L -86.898509,31.155865 L -86.898535,31.155837 L -86.898532,31.155815 L -86.898505,31.155767 L -86.898541,31.155735 L -86.898529,31.15572 L -86.898525,31.155686 L -86.898536,31.155583 L -86.898545,31.155504 L -86.898592,31.155381 L -86.898736,31.155249 L -86.898861,31.155155 L -86.898887,31.155144 L -86.898963,31.155095 L -86.899072,31.155001 L -86.899187,31.154894 L -86.899225,31.154841 L -86.899276,31.15472 L -86.89927,31.154599 L -86.899254,31.154503 L -86.899238,31.154457 L -86.899232,31.154424 L -86.899212,31.154396 L -86.899081,31.154286 L -86.899014,31.154253 L -86.898902,31.154167 L -86.898867,31.154121 L -86.898854,31.153973 L -86.89888,31.153874 L -86.898909,31.15383 L -86.898982,31.15375 L -86.899014,31.153703 L -86.89911,31.153612 L -86.899142,31.15356 L -86.899174,31.153522 L -86.899206,31.153428 L -86.899206,31.15334 L -86.899187,31.153269 L -86.899155,31.15323 L -86.899033,31.153131 L -86.898835,31.153076 L -86.898733,31.153005 L -86.898688,31.152944 L -86.898644,31.152845 L -86.898631,31.15279 L -86.898605,31.152763 L -86.898445,31.152626 L -86.898424,31.152624 L -86.898407,31.152613 L -86.89835,31.152593 L -86.897995,31.152557 L -86.89771,31.152521 L -86.897659,31.152499 L -86.897397,31.152422 L -86.897365,31.152428 L -86.896825,31.151972 L -86.896726,31.151911 L -86.896538,31.151779 L -86.896381,31.15168 L -86.896177,31.151559 L -86.896138,31.151532 L -86.896017,31.151488 L -86.89578,31.151422 L -86.895755,31.151406 L -86.895704,31.151395 L -86.895646,31.151364 L -86.895538,31.15129 L -86.895512,31.151268 L -86.895493,31.15123 L -86.895461,31.151191 L -86.895448,31.151015 L -86.895563,31.150234 L -86.895595,31.150201 L -86.89557,31.150174 L -86.895554,31.150094 L -86.895525,31.149893 L -86.895512,31.149866 L -86.895512,31.149829 L -86.895525,31.149814 L -86.895467,31.149761 L -86.895467,31.149712 L -86.895435,31.149684 L -86.895442,31.14964 L -86.895431,31.149605 L -86.896454,31.149466 L -86.897301,31.149343 L -86.9011,31.148809 L -86.901943,31.148685 L -86.903205,31.14851 L -86.903456,31.148479 L -86.903602,31.148457 L -86.903779,31.148435 L -86.90598,31.148117 L -86.907664,31.147889 L -86.908507,31.147767 L -86.908929,31.14771 L -86.909012,31.147702 L -86.909162,31.147681 L -86.911885,31.147296 L -86.914161,31.146974 L -86.914413,31.146932 L -86.914663,31.146884 L -86.914904,31.146828 L -86.914863,31.146772 L -86.914777,31.14668 L -86.914703,31.146586 L -86.914556,31.146437 L -86.914524,31.146388 L -86.914339,31.146228 L -86.913981,31.145885 L -86.913949,31.145843 L -86.913914,31.145806 L -86.913866,31.145739 L -86.913744,31.145613 L -86.913725,31.145563 L -86.91368,31.145514 L -86.913674,31.145492 L -86.913617,31.145393 L -86.913546,31.145228 L -86.913527,31.145162 L -86.913495,31.145118 L -86.913444,31.14503 L -86.91338,31.144876 L -86.913316,31.144656 L -86.91322,31.144474 L -86.913176,31.144419 L -86.912779,31.144076 L -86.912735,31.144018 L -86.912728,31.143996 L -86.912709,31.143974 L -86.912696,31.143941 L -86.912686,31.143894 L -86.91267,31.143705 L -86.91268,31.143641 L -86.91269,31.143622 L -86.912728,31.143507 L -86.912747,31.143485 L -86.912843,31.143237 L -86.912859,31.143163 L -86.912875,31.143017 L -86.912904,31.142838 L -86.91292,31.142803 L -86.912945,31.142583 L -86.912964,31.142555 L -86.912984,31.142511 L -86.912999,31.142354 L -86.912996,31.142049 L -86.912977,31.141961 L -86.91292,31.141846 L -86.912843,31.141769 L -86.912629,31.141587 L -86.9123,31.141379 L -86.912082,31.141219 L -86.911999,31.141145 L -86.911948,31.141087 L -86.911923,31.141065 L -86.91191,31.141038 L -86.911863,31.140987 L -86.911833,31.140895 L -86.911846,31.140532 L -86.911865,31.140433 L -86.91189,31.140356 L -86.91189,31.140224 L -86.911932,31.139853 L -86.911929,31.139734 L -86.911942,31.13969 L -86.911842,31.139598 L -86.911775,31.13952 L -86.911587,31.139361 L -86.911545,31.139341 L -86.911469,31.139289 L -86.911424,31.139278 L -86.911398,31.139262 L -86.911341,31.139245 L -86.911232,31.139185 L -86.911175,31.139168 L -86.911136,31.139146 L -86.91074,31.138954 L -86.910715,31.138948 L -86.910676,31.138921 L -86.910655,31.13892 L -86.910619,31.138894 L -86.910587,31.138888 L -86.910529,31.13885 L -86.910497,31.138844 L -86.91048,31.138832 L -86.910235,31.138707 L -86.910171,31.138668 L -86.910109,31.138657 L -86.910088,31.138657 L -86.910015,31.138597 L -86.909686,31.138399 L -86.909481,31.138267 L -86.90913,31.138064 L -86.908948,31.137937 L -86.908561,31.13763 L -86.908459,31.137536 L -86.908408,31.137476 L -86.908382,31.137454 L -86.908369,31.137426 L -86.908299,31.137344 L -86.908209,31.137195 L -86.908197,31.137157 L -86.908177,31.137138 L -86.908152,31.137085 L -86.908133,31.137063 L -86.908101,31.137003 L -86.90803,31.136904 L -86.907973,31.136833 L -86.907893,31.136757 L -86.907864,31.136717 L -86.907832,31.136684 L -86.907826,31.136651 L -86.907775,31.136591 L -86.907774,31.136573 L -86.907711,31.136492 L -86.907685,31.136442 L -86.907666,31.13642 L -86.907615,31.136327 L -86.907545,31.136228 L -86.907526,31.136211 L -86.907496,31.136121 L -86.907449,31.136024 L -86.907409,31.135985 L -86.907308,31.135661 L -86.907292,31.135576 L -86.90727,31.135524 L -86.907244,31.13543 L -86.907219,31.135398 L -86.907142,31.135205 L -86.907126,31.135087 L -86.907139,31.134933 L -86.907174,31.134842 L -86.9072,31.13476 L -86.907219,31.134738 L -86.907232,31.134699 L -86.907251,31.134677 L -86.90727,31.134633 L -86.907295,31.134606 L -86.907308,31.134562 L -86.907366,31.13449 L -86.907378,31.134446 L -86.907366,31.134429 L -86.907433,31.134385 L -86.907493,31.134355 L -86.907618,31.134259 L -86.907704,31.134218 L -86.907794,31.134154 L -86.907896,31.134061 L -86.907922,31.134 L -86.907947,31.133703 L -86.907947,31.133654 L -86.907966,31.133582 L -86.907998,31.133549 L -86.908005,31.133522 L -86.908024,31.133502 L -86.908069,31.133434 L -86.9081,31.133401 L -86.908113,31.133362 L -86.908094,31.133071 L -86.908129,31.132908 L -86.908119,31.132779 L -86.908081,31.132653 L -86.908017,31.132537 L -86.907934,31.132433 L -86.907768,31.13229 L -86.907711,31.132251 L -86.907487,31.132169 L -86.907155,31.132065 L -86.906898,31.131874 L -86.906854,31.131696 L -86.906864,31.131644 L -86.906905,31.131537 L -86.906963,31.131438 L -86.907001,31.131388 L -86.907105,31.131283 L -86.907111,31.131265 L -86.907284,31.131029 L -86.90729,31.131011 L -86.907308,31.130987 L -86.907327,31.130937 L -86.907346,31.130921 L -86.907365,31.130866 L -86.907388,31.130676 L -86.907365,31.130222 L -86.907397,31.130046 L -86.907416,31.130024 L -86.907512,31.129799 L -86.907531,31.129722 L -86.907551,31.1297 L -86.907582,31.129617 L -86.907653,31.129524 L -86.907666,31.129485 L -86.907685,31.129463 L -86.907752,31.12932 L -86.907774,31.129232 L -86.907844,31.129144 L -86.907876,31.129111 L -86.907877,31.129093 L -86.907902,31.129056 L -86.907934,31.128974 L -86.908074,31.128839 L -86.908151,31.128726 L -86.908394,31.128484 L -86.908506,31.128396 L -86.908675,31.128316 L -86.908911,31.128189 L -86.909161,31.127994 L -86.909253,31.127908 L -86.909352,31.12781 L -86.909544,31.127669 L -86.909569,31.127664 L -86.909601,31.127647 L -86.909627,31.127642 L -86.909659,31.127625 L -86.909723,31.127609 L -86.909806,31.127565 L -86.909998,31.1274 L -86.910333,31.127069 L -86.910387,31.127031 L -86.910502,31.127003 L -86.91056,31.12697 L -86.910611,31.126959 L -86.910636,31.126943 L -86.910668,31.126937 L -86.910694,31.126921 L -86.910726,31.126915 L -86.910783,31.126882 L -86.910835,31.126871 L -86.910873,31.126852 L -86.910918,31.126822 L -86.910939,31.126821 L -86.911122,31.126728 L -86.911199,31.126678 L -86.91163,31.126343 L -86.911729,31.126293 L -86.911763,31.12627 L -86.911825,31.12626 L -86.911946,31.126161 L -86.912068,31.126095 L -86.912164,31.126012 L -86.91217,31.125985 L -86.912195,31.125952 L -86.912208,31.125869 L -86.91224,31.125776 L -86.912256,31.125755 L -86.912429,31.125589 L -86.912515,31.125545 L -86.912655,31.12553 L -86.912662,31.125512 L -86.912751,31.125451 L -86.912783,31.125425 L -86.912862,31.125395 L -86.912937,31.12536 L -86.912977,31.125321 L -86.91302,31.12528 L -86.913039,31.125242 L -86.913058,31.12522 L -86.913065,31.125176 L -86.913226,31.12504 L -86.913354,31.124798 L -86.913361,31.124562 L -86.913405,31.124402 L -86.913744,31.1241 L -86.913994,31.123819 L -86.91409,31.1235 L -86.914122,31.123181 L -86.914071,31.122466 L -86.914013,31.122103 L -86.913854,31.121696 L -86.913745,31.121371 L -86.913681,31.120975 L -86.913694,31.120733 L -86.913771,31.120491 L -86.914078,31.120106 L -86.914353,31.119694 L -86.914532,31.119446 L -86.914743,31.119292 L -86.91505,31.119127 L -86.915395,31.118951 L -86.915734,31.118665 L -86.915926,31.118368 L -86.916009,31.118143 L -86.916067,31.117802 L -86.916118,31.117626 L -86.916265,31.117323 L -86.916374,31.117147 L -86.916604,31.116895 L -86.916981,31.116675 L -86.917307,31.116504 L -86.917458,31.116427 L -86.917589,31.116361 L -86.917844,31.116224 L -86.918145,31.116053 L -86.918254,31.115965 L -86.918266,31.115916 L -86.918292,31.115817 L -86.918247,31.115393 L -86.918107,31.115096 L -86.917346,31.114452 L -86.916937,31.1141 L -86.91656,31.11371 L -86.916266,31.113369 L -86.916029,31.113077 L -86.915889,31.112758 L -86.915812,31.112543 L -86.915735,31.111977 L -86.915767,31.111311 L -86.915921,31.110585 L -86.915998,31.110046 L -86.916102,31.109242 L -86.916107,31.109205 L -86.916196,31.108638 L -86.916248,31.108242 L -86.916267,31.107885 L -86.916292,31.107593 L -86.916388,31.107258 L -86.916561,31.106922 L -86.916708,31.106598 L -86.916753,31.106361 L -86.916734,31.105756 L -86.91675,31.105553 L -86.916779,31.105201 L -86.916779,31.105014 L -86.916721,31.104799 L -86.916523,31.104436 L -86.916242,31.104007 L -86.915935,31.103418 L -86.915929,31.103396 L -86.91591,31.103176 L -86.915942,31.102995 L -86.916108,31.102813 L -86.916402,31.102643 L -86.91685,31.10245 L -86.917157,31.102346 L -86.917534,31.102225 L -86.917594,31.102213 L -86.917581,31.10203 L -86.917547,31.101289 L -86.91754,31.100892 L -86.917536,31.100631 L -86.917541,31.100222 L -86.917555,31.099737 L -86.917591,31.099102 L -86.917616,31.09879 L -86.917659,31.098335 L -86.91771,31.097896 L -86.917714,31.09787 L -86.917792,31.097313 L -86.917854,31.096898 L -86.917864,31.096835 L -86.917899,31.096605 L -86.917915,31.096496 L -86.917077,31.096404 L -86.914347,31.095735 L -86.914232,31.095616 L -86.914064,31.095602 L -86.913848,31.095458 L -86.913678,31.095282 L -86.913552,31.095271 L -86.913207,31.094954 L -86.912536,31.094538 L -86.912267,31.094299 L -86.912024,31.094207 L -86.911796,31.093971 L -86.911671,31.093961 L -86.911368,31.093647 L -86.911201,31.093633 L -86.911045,31.093512 L -86.910288,31.092728 L -86.909665,31.091882 L -86.909374,31.091461 L -86.908996,31.091068 L -86.908551,31.090887 L -86.907927,31.0908 L -86.90762,31.090792 L -86.907295,31.090784 L -86.90689,31.091004 L -86.906863,31.091002 L -86.906597,31.09098 L -86.905662,31.091639 L -86.905129,31.092015 L -86.904501,31.091964 L -86.904096,31.092183 L -86.902995,31.092117 L -86.902417,31.092082 L -86.902116,31.092129 L -86.902033,31.09217 L -86.901803,31.092284 L -86.901608,31.092421 L -86.901303,31.092489 L -86.900935,31.093296 L -86.900967,31.093335 L -86.900912,31.094198 L -86.900671,31.094467 L -86.900147,31.095364 L -86.899367,31.095914 L -86.89935,31.095954 L -86.898913,31.096167 L -86.898481,31.096215 L -86.897754,31.096359 L -86.897,31.096488 L -86.896308,31.096653 L -86.895548,31.09719 L -86.895386,31.097501 L -86.894642,31.09801 L -86.894404,31.098174 L -86.893784,31.098598 L -86.892194,31.098559 L -86.891888,31.098551 L -86.891734,31.098659 L -86.891658,31.098683 L -86.891581,31.098706 L -86.891533,31.098702 L -86.891503,31.098723 L -86.891257,31.098896 L -86.890982,31.09909 L -86.890732,31.099431 L -86.890722,31.0999 L -86.891277,31.101354 L -86.891421,31.101944 L -86.891437,31.10256 L -86.89132,31.103598 L -86.890623,31.104913 L -86.890507,31.105193 L -86.890499,31.105265 L -86.890307,31.105466 L -86.889576,31.106706 L -86.889255,31.106932 L -86.889051,31.107241 L -86.888622,31.107675 L -86.888597,31.10789 L -86.888398,31.108163 L -86.888182,31.108578 L -86.887988,31.109177 L -86.887746,31.109446 L -86.887722,31.10966 L -86.887552,31.110044 L -86.887357,31.110281 L -86.88676,31.110701 L -86.886557,31.110779 L -86.886451,31.11082 L -86.886425,31.110838 L -86.886221,31.110982 L -86.886012,31.110965 L -86.885836,31.111023 L -86.885417,31.110988 L -86.885246,31.11101 L -86.885108,31.111107 L -86.884522,31.111059 L -86.884179,31.111103 L -86.883796,31.111199 L -86.88354,31.111349 L -86.883424,31.111404 L -86.883105,31.111629 L -86.882794,31.112145 L -86.882733,31.112682 L -86.882797,31.112868 L -86.882952,31.112989 L -86.882891,31.112997 L -86.883024,31.11305 L -86.883377,31.113349 L -86.88367,31.113373 L -86.883745,31.113452 L -86.884079,31.113489 L -86.884998,31.113591 L -86.886057,31.11469 L -86.886049,31.114822 L -86.886037,31.115036 L -86.886011,31.115481 L -86.885506,31.115837 L -86.88538,31.115826 L -86.885242,31.115923 L -86.885029,31.115942 L -86.884937,31.116007 L -86.884845,31.116071 L -86.882351,31.115866 L -86.881325,31.115915 L -86.881128,31.116054 L -86.880831,31.116066 L -86.879954,31.116717 L -86.879166,31.117338 L -86.879154,31.117445 L -86.878654,31.118127 L -86.878167,31.118701 L -86.878151,31.118844 L -86.877498,31.119766 L -86.877473,31.119981 L -86.877066,31.120597 L -86.876568,31.12164 L -86.876238,31.121938 L -86.876085,31.122178 L -86.875338,31.122803 L -86.875,31.123008 L -86.874846,31.123048 L -86.872959,31.124404 L -86.872409,31.124799 L -86.872404,31.124955 L -86.872001,31.125356 L -86.871357,31.125945 L -86.871001,31.126066 L -86.870822,31.12612 L -86.869506,31.125818 L -86.869003,31.12546 L -86.86892,31.125453 L -86.86873,31.125257 L -86.868567,31.125207 L -86.868426,31.125 L -86.868428,31.124868 L -86.86821,31.124611 L -86.867868,31.124208 L -86.867879,31.123739 L -86.867902,31.123659 L -86.86785,31.123317 L -86.8686,31.123033 L -86.868959,31.12278 L -86.869565,31.12265 L -86.869619,31.122654 L -86.871574,31.121991 L -86.872139,31.121519 L -86.872179,31.120842 L -86.872008,31.120105 L -86.871831,31.119802 L -86.870964,31.118863 L -86.870516,31.118718 L -86.869766,31.11862 L -86.869537,31.118782 L -86.868741,31.118716 L -86.868374,31.118975 L -86.86771,31.11892 L -86.867621,31.118945 L -86.867294,31.119175 L -86.866959,31.119147 L -86.866592,31.119406 L -86.866299,31.119382 L -86.865932,31.119641 L -86.865596,31.119613 L -86.864774,31.12016 L -86.863948,31.120742 L -86.863514,31.121212 L -86.862795,31.123465 L -86.862633,31.123776 L -86.862372,31.124586 L -86.862235,31.124683 L -86.862178,31.125001 L -86.862112,31.12547 L -86.861688,31.12623 L -86.861446,31.126499 L -86.861438,31.126571 L -86.860963,31.127037 L -86.860425,31.127397 L -86.860049,31.127648 L -86.858529,31.127632 L -86.858034,31.127518 L -86.857958,31.12744 L -86.857665,31.127416 L -86.8573,31.127277 L -86.857028,31.127074 L -86.856818,31.127057 L -86.856398,31.126892 L -86.855871,31.12676 L -86.855002,31.126489 L -86.854404,31.126352 L -86.853997,31.12621 L -86.853411,31.126162 L -86.852338,31.125929 L -86.852133,31.125876 L -86.852057,31.125797 L -86.850804,31.125658 L -86.850461,31.125702 L -86.84887,31.12557 L -86.847722,31.125259 L -86.846838,31.125222 L -86.846716,31.125176 L -86.846327,31.125252 L -86.846034,31.125458 L -86.845752,31.126222 L -86.846225,31.127105 L -86.846401,31.127409 L -86.846607,31.127496 L -86.847115,31.127715 L -86.847357,31.127819 L -86.848013,31.128096 L -86.848351,31.128238 L -86.849417,31.128798 L -86.850284,31.129923 L -86.850544,31.130365 L -86.850627,31.130592 L -86.851213,31.131399 L -86.851515,31.131713 L -86.851826,31.131956 L -86.852304,31.132212 L -86.853381,31.132409 L -86.853696,31.132616 L -86.853815,31.132626 L -86.853864,31.13263 L -86.85411,31.132898 L -86.854236,31.133002 L -86.854406,31.133171 L -86.854438,31.133256 L -86.854616,31.13345 L -86.854811,31.133972 L -86.854784,31.134584 L -86.854594,31.135146 L -86.854482,31.13539 L -86.854442,31.135418 L -86.85439,31.135455 L -86.854375,31.135589 L -86.854358,31.135741 L -86.854192,31.136089 L -86.854166,31.136111 L -86.854084,31.136319 L -86.853596,31.136869 L -86.852257,31.138293 L -86.852022,31.138527 L -86.85184,31.138568 L -86.851518,31.138794 L -86.851267,31.138774 L -86.851175,31.138838 L -86.850798,31.138807 L -86.85066,31.138904 L -86.849864,31.138838 L -86.849637,31.138603 L -86.849181,31.138529 L -86.84915,31.138473 L -86.84878,31.138106 L -86.848267,31.137912 L -86.848194,31.137906 L -86.847951,31.137814 L -86.846736,31.137713 L -86.846263,31.137783 L -86.845505,31.137756 L -86.844793,31.137697 L -86.844718,31.137619 L -86.844173,31.137574 L -86.84377,31.137396 L -86.843581,31.1372 L -86.843514,31.137159 L -86.8407,31.135842 L -86.840398,31.135817 L -86.84013,31.135699 L -86.839845,31.135627 L -86.839157,31.13557 L -86.83876,31.135718 L -86.838634,31.135707 L -86.838183,31.135959 L -86.838058,31.135949 L -86.837281,31.136463 L -86.837025,31.136478 L -86.836336,31.136963 L -86.835847,31.137175 L -86.835115,31.137295 L -86.834478,31.137315 L -86.834345,31.137376 L -86.833884,31.137338 L -86.833708,31.137396 L -86.833499,31.137378 L -86.833407,31.137443 L -86.832858,31.137434 L -86.832591,31.137556 L -86.83229,31.137603 L -86.83206,31.137765 L -86.83185,31.137748 L -86.831399,31.137999 L -86.830846,31.138026 L -86.830587,31.138077 L -86.830403,31.138206 L -86.829897,31.1382 L -86.829763,31.138261 L -86.829603,31.138176 L -86.828514,31.138086 L -86.828439,31.138007 L -86.828229,31.13799 L -86.827454,31.137745 L -86.827298,31.137624 L -86.8268,31.137547 L -86.826313,31.137362 L -86.826226,31.137342 L -86.825998,31.137249 L -86.825729,31.137109 L -86.825311,31.136889 L -86.824342,31.135989 L -86.823939,31.135356 L -86.82387,31.134898 L -86.823813,31.134807 L -86.823823,31.134577 L -86.82368,31.133588 L -86.823513,31.133056 L -86.823343,31.132879 L -86.823278,31.132812 L -86.823126,31.132655 L -86.822795,31.132591 L -86.822607,31.132395 L -86.822732,31.132272 L -86.822856,31.132148 L -86.823199,31.131791 L -86.823332,31.131699 L -86.823492,31.131333 L -86.823519,31.130485 L -86.823625,31.130049 L -86.823625,31.129591 L -86.823465,31.129133 L -86.822746,31.128353 L -86.822426,31.128262 L -86.821867,31.128239 L -86.818403,31.128789 L -86.817098,31.128881 L -86.816778,31.128766 L -86.816325,31.128216 L -86.815819,31.127437 L -86.815446,31.127024 L -86.815233,31.126933 L -86.815338,31.126016 L -86.815924,31.125176 L -86.816137,31.124739 L -86.81659,31.124253 L -86.816856,31.123611 L -86.816963,31.123611 L -86.817123,31.123336 L -86.818909,31.122098 L -86.819574,31.121755 L -86.820747,31.120861 L -86.820947,31.120788 L -86.821572,31.120563 L -86.822184,31.120012 L -86.822877,31.118957 L -86.823712,31.118096 L -86.823607,31.118004 L -86.823364,31.117799 L -86.823095,31.117552 L -86.822984,31.117441 L -86.823167,31.117359 L -86.824674,31.116721 L -86.825086,31.116547 L -86.826631,31.115903 L -86.827015,31.115738 L -86.829707,31.114603 L -86.8298,31.114565 L -86.830093,31.114445 L -86.830477,31.114279 L -86.833099,31.113176 L -86.833349,31.11307 L -86.832769,31.112834 L -86.832315,31.112582 L -86.831489,31.111482 L -86.831463,31.111299 L -86.831356,31.111208 L -86.831169,31.110726 L -86.830476,31.109696 L -86.829995,31.108802 L -86.829968,31.107633 L -86.830234,31.106993 L -86.831431,31.105823 L -86.831591,31.105434 L -86.831428,31.102341 L -86.831187,31.101493 L -86.831001,31.101241 L -86.831001,31.101057 L -86.830655,31.100439 L -86.829828,31.099636 L -86.829508,31.099201 L -86.828948,31.09801 L -86.8286,31.096956 L -86.828547,31.096475 L -86.82868,31.096108 L -86.828067,31.095512 L -86.827109,31.094916 L -86.824098,31.094001 L -86.821833,31.09375 L -86.821141,31.093452 L -86.820727,31.093191 L -86.819383,31.092597 L -86.818052,31.092384 L -86.817493,31.092152 L -86.81712,31.091851 L -86.816774,31.091344 L -86.816508,31.090445 L -86.81595,31.089361 L -86.815631,31.087676 L -86.814593,31.085831 L -86.813342,31.084722 L -86.812756,31.083983 L -86.812729,31.083845 L -86.812463,31.083568 L -86.81209,31.082829 L -86.811533,31.082064 L -86.811463,31.080849 L -86.811298,31.080465 L -86.810781,31.079837 L -86.809183,31.079027 L -86.80883,31.078521 L -86.807326,31.076436 L -86.806432,31.075505 L -86.80615,31.074958 L -86.805944,31.073782 L -86.805751,31.072408 L -86.805539,31.072043 L -86.804693,31.06931 L -86.804505,31.069128 L -86.804223,31.067994 L -86.804322,31.06721 L -86.804407,31.066854 L -86.804625,31.066135 L -86.806079,31.06125 L -86.806805,31.058846 L -86.807758,31.055642 L -86.807904,31.055153 L -86.808023,31.054742 L -86.808128,31.054378 L -86.808558,31.052945 L -86.808666,31.05257 L -86.808784,31.052188 L -86.809081,31.051179 L -86.809339,31.050305 L -86.809897,31.04843 L -86.810035,31.047967 L -86.810167,31.047471 L -86.81023,31.047101 L -86.810225,31.04694 L -86.810228,31.046865 L -86.810227,31.046832 L -86.81065,31.046536 L -86.811103,31.045871 L -86.812141,31.044955 L -86.812913,31.044473 L -86.812939,31.044313 L -86.814802,31.043855 L -86.816266,31.043763 L -86.817038,31.043854 L -86.817065,31.04374 L -86.818076,31.042594 L -86.820072,31.039041 L -86.820418,31.038331 L -86.820977,31.036474 L -86.821004,31.035993 L -86.821084,31.035901 L -86.821243,31.035007 L -86.821695,31.032899 L -86.821706,31.032784 L -86.821775,31.032074 L -86.821935,31.031479 L -86.822041,31.030149 L -86.822759,31.027238 L -86.822841,31.027062 L -86.822972,31.02678 L -86.823264,31.025153 L -86.823109,31.02382 L -86.823457,31.023987 L -86.823611,31.024052 L -86.824276,31.024405 L -86.824501,31.024506 L -86.824656,31.024564 L -86.824738,31.024587 L -86.824821,31.024603 L -86.824907,31.024614 L -86.825079,31.024619 L -86.825252,31.024611 L -86.825511,31.02458 L -86.825929,31.024515 L -86.826349,31.02444 L -86.827098,31.024285 L -86.82726,31.024241 L -86.82742,31.02418 L -86.82764,31.024067 L -86.827852,31.023942 L -86.82806,31.023807 L -86.828189,31.023713 L -86.828249,31.023659 L -86.828304,31.023603 L -86.828353,31.023543 L -86.828398,31.023479 L -86.828436,31.023413 L -86.828466,31.023344 L -86.82858,31.022988 L -86.828704,31.022483 L -86.828727,31.022413 L -86.828756,31.022343 L -86.828791,31.022277 L -86.828832,31.022213 L -86.828882,31.022153 L -86.828992,31.022041 L -86.829176,31.021888 L -86.829308,31.021796 L -86.829452,31.021716 L -86.829603,31.021651 L -86.829603,31.021619 L -86.829619,31.021548 L -86.829687,31.021342 L -86.829748,31.02114 L -86.829832,31.020906 L -86.829847,31.020835 L -86.829863,31.020648 L -86.829825,31.020448 L -86.829718,31.020236 L -86.829619,31.020086 L -86.829267,31.01975 L -86.828924,31.019399 L -86.828711,31.019128 L -86.828436,31.018867 L -86.828352,31.018762 L -86.828321,31.018731 L -86.828032,31.018375 L -86.827932,31.018251 L -86.827856,31.018129 L -86.827551,31.017595 L -86.827269,31.017028 L -86.827131,31.016674 L -86.827001,31.016269 L -86.826857,31.015745 L -86.826742,31.015413 L -86.826643,31.015213 L -86.826589,31.015079 L -86.826506,31.0149 L -86.826345,31.01464 L -86.826254,31.014446 L -86.82617,31.014312 L -86.825712,31.01342 L -86.825506,31.013069 L -86.825376,31.012905 L -86.825155,31.012615 L -86.824896,31.012302 L -86.824606,31.011968 L -86.824331,31.01161 L -86.824255,31.011532 L -86.824224,31.011488 L -86.824179,31.011419 L -86.824072,31.011236 L -86.82385,31.010917 L -86.823583,31.010563 L -86.823492,31.0104 L -86.823309,31.009946 L -86.82324,31.009802 L -86.823217,31.009724 L -86.823118,31.009535 L -86.823049,31.009363 L -86.822981,31.009125 L -86.822958,31.008964 L -86.82292,31.008625 L -86.822881,31.008495 L -86.822767,31.008295 L -86.822607,31.008135 L -86.822439,31.008009 L -86.822409,31.007988 L -86.822256,31.007856 L -86.822057,31.007709 L -86.821913,31.007587 L -86.82176,31.007479 L -86.821615,31.007395 L -86.821302,31.007179 L -86.821203,31.007101 L -86.821058,31.006998 L -86.820928,31.006914 L -86.820859,31.006884 L -86.820753,31.006855 L -86.820302,31.006778 L -86.819997,31.006725 L -86.81986,31.006685 L -86.819715,31.006614 L -86.819494,31.006468 L -86.819166,31.006144 L -86.819021,31.005979 L -86.818708,31.005577 L -86.818616,31.005449 L -86.818525,31.005276 L -86.818433,31.005066 L -86.818372,31.004873 L -86.818296,31.004498 L -86.818265,31.004284 L -86.818265,31.0042 L -86.81825,31.004086 L -86.818235,31.003912 L -86.818235,31.003439 L -86.818242,31.003265 L -86.818281,31.003107 L -86.818357,31.002674 L -86.81841,31.002508 L -86.818494,31.002142 L -86.818548,31.001986 L -86.818616,31.001694 L -86.818624,31.001617 L -86.818662,31.001482 L -86.818654,31.001419 L -86.818622,31.001326 L -86.818557,31.001215 L -86.818395,31.000914 L -86.818338,31.000782 L -86.818246,31.000494 L -86.818177,31.000182 L -86.818145,30.999837 L -86.818166,30.999774 L -86.818165,30.99974 L -86.818148,30.999643 L -86.818115,30.999579 L -86.817743,30.999196 L -86.817639,30.999053 L -86.817391,30.998672 L -86.817311,30.998561 L -86.817232,30.998483 L -86.817153,30.998418 L -86.81702,30.998345 L -86.816637,30.998167 L -86.816489,30.998119 L -86.81638,30.998105 L -86.816226,30.99813 L -86.81611,30.998164 L -86.81601,30.998211 L -86.815826,30.998328 L -86.815758,30.998359 L -86.815641,30.998382 L -86.81537,30.998413 L -86.815175,30.998453 L -86.815036,30.998491 L -86.814936,30.998543 L -86.814575,30.99889 L -86.814513,30.998926 L -86.814443,30.998955 L -86.814365,30.998975 L -86.814092,30.999009 L -86.81378,30.999029 L -86.813108,30.999035 L -86.812841,30.999025 L -86.812606,30.998999 L -86.812411,30.99896 L -86.812184,30.998906 L -86.811964,30.998836 L -86.811893,30.998802 L -86.81183,30.998761 L -86.811751,30.998689 L -86.811672,30.998601 L -86.811624,30.998441 L -86.811607,30.998411 L -86.811576,30.998391 L -86.811537,30.998377 L -86.811458,30.998366 L -86.811145,30.998383 L -86.811067,30.998374 L -86.811028,30.998361 L -86.810933,30.998304 L -86.810824,30.998209 L -86.810776,30.998155 L -86.810689,30.998044 L -86.81061,30.99797 L -86.81046,30.997855 L -86.810081,30.997626 L -86.810042,30.997606 L -86.809995,30.997554 L -86.809979,30.997525 L -86.809971,30.997455 L -86.810024,30.997369 L -86.810039,30.997337 L -86.810039,30.997306 L -86.810031,30.99727 L -86.809992,30.997218 L -86.809959,30.997195 L -86.810216,30.997198 L -86.819027,30.997285 L -86.827468,30.99737 L -86.830204,30.997398 L -86.830497,30.997401 L -86.831933,30.997378 L -86.838393,30.997432 L -86.838673,30.997434 L -86.840561,30.997444 L -86.849216,30.997493 L -86.849466,30.997494 L -86.849508,30.997494 L -86.852165,30.997511 L -86.854544,30.997524 L -86.854768,30.997526 L -86.862772,30.99757 L -86.866705,30.997593 L -86.8672,30.997593 L -86.874565,30.9976 L -86.878819,30.997605 L -86.87928,30.997605 L -86.879623,30.997619 L -86.880137,30.997614 L -86.880489,30.997623 L -86.881317,30.997643 L -86.881979,30.997638 L -86.884016,30.997688 L -86.885897,30.997621 L -86.886127,30.99766 L -86.887188,30.997692 L -86.887802,30.997718 L -86.888417,30.997744 L -86.888446,30.997745 L -86.88846,30.997746 L -86.888647,30.997754 L -86.888711,30.997757 L -86.890722,30.997746 L -86.89915,30.997696 L -86.899322,30.997687 L -86.903778,30.997554 L -86.904708,30.997567 L -86.905227,30.997574 L -86.906104,30.997585 L -86.906258,30.997587 L -86.906693,30.997591 L -86.910851,30.997638 L -86.911106,30.997641 L -86.915215,30.997682 L -86.915489,30.997685 L -86.915753,30.997687 L -86.919621,30.997683 L -86.922791,30.997679 L -86.925578,30.997675 L -86.925708,30.997677 L -86.92781,30.997704 L -86.930739,30.997743 L -86.930772,30.997743 L -86.932159,30.997762 L -86.937797,30.99784 L -86.937813,30.99784 L -86.937825,30.99784 L -86.937846,30.997841 L -86.937913,30.997842 L -86.944151,30.997924 L -86.944464,30.997928 L -86.953062,30.998045 L -86.95319,30.998047 L -86.953211,30.998047 L -86.953244,30.998047 L -86.953309,30.998048 L -86.95337,30.998049 L -86.953692,30.998053 L -86.954587,30.998065 L -86.956066,30.998085 L -86.960449,30.998144 L -86.960477,30.998144 L -86.965687,30.998216 L -86.965888,30.998221 L -86.965926,30.998222 L -86.971116,30.998292 L -86.979944,30.99841 L -86.982097,30.998438 L -86.987145,30.998509 L -86.987597,30.998515 L -86.998477,30.998661 L -86.998545,30.998676 L -86.999965,30.998996 L -87.004339,30.999317 L -87.004737,30.999317 L -87.007263,30.99932 L -87.009743,30.999324 L -87.013387,30.999339 L -87.013467,30.999339 L -87.019858,30.99936 L -87.023889,30.999375 L -87.024145,30.999372 L -87.02442,30.999362 L -87.024436,30.999361 L -87.026946,30.999164 L -87.027395,30.999155 L -87.028159,30.999151 L -87.028405,30.999156 L -87.029087,30.99917 L -87.029205,30.99917 L -87.02996,30.99917 L -87.03011,30.99917 L -87.030748,30.999172 L -87.035302,30.99919 L -87.035838,30.999222 L -87.036465,30.999259 L -87.036493,30.999261 L -87.037132,30.99931 L -87.037154,30.999312 L -87.040119,30.999538 L -87.040229,30.999547 L -87.040764,30.999394 L -87.040775,30.999391 L -87.04098,30.999338 L -87.041344,30.999256 L -87.041657,30.99921 L -87.041891,30.999203 L -87.042157,30.999194 L -87.042216,30.999193 L -87.042791,30.999185 L -87.043745,30.999197 L -87.044408,30.999197 L -87.045841,30.999205 L -87.047027,30.999207 L -87.047966,30.999205 L -87.048324,30.999204 L -87.04883,30.999211 L -87.049819,30.999207 L -87.050661,30.999213 L -87.051662,30.999213 L -87.052549,30.999229 L -87.052584,30.99923 L -87.053173,30.999215 L -87.05336,30.999181 L -87.053525,30.999134 L -87.053679,30.999131 L -87.055029,30.9991 L -87.055046,30.9991 L -87.060202,30.999152 L -87.064063,30.999191 L -87.066884,30.999374 L -87.067043,30.999397 L -87.067602,30.999305 L -87.068507,30.999099 L -87.068633,30.999143 L -87.070993,30.999155 L -87.075978,30.999183 L -87.076108,30.999184 L -87.08097,30.999207 L -87.08559,30.999242 L -87.089619,30.99926 L -87.089886,30.999262 L -87.096898,30.999304 L -87.096912,30.999304 L -87.1054,30.999349 L -87.115073,30.999403 L -87.115151,30.999404 L -87.11647,30.999413 L -87.118873,30.999427 L -87.124969,30.998803 L -87.126993,30.998872 L -87.13398,30.999207 L -87.13559,30.999284 L -87.135798,30.999294 L -87.140755,30.999532 L -87.14937,30.999348 L -87.149594,30.999343 L -87.150594,30.999322 L -87.160789,30.999106 L -87.162798,30.999053 L -87.163084,30.999045 L -87.163314,30.999038 L -87.163543,30.999032 L -87.163653,30.999029 L -87.163814,30.999024 L -87.164084,30.999017 L -87.164214,30.999013 L -87.164343,30.99901 L -87.164393,30.999009 L -87.164661,30.999002 L -87.165458,30.998988 L -87.170473,30.99885 L -87.17149,30.998824 L -87.172507,30.998798 L -87.174056,30.998757 L -87.174802,30.998742 L -87.175238,30.998729 L -87.175309,30.998727 L -87.17538,30.998725 L -87.175444,30.998724 L -87.175509,30.998722 L -87.179385,30.998618 L -87.18326,30.998514 L -87.183326,30.998512 L -87.188003,30.99839 L -87.188179,30.998385 L -87.188239,30.998384 L -87.189713,30.998346 L -87.193398,30.998252 L -87.1967,30.998137 L -87.200132,30.998017 L -87.200153,30.998016 L -87.200585,30.998002 L -87.205497,30.997833 L -87.206235,30.997807 L -87.211838,30.997614 L -87.218179,30.997396 L -87.221462,30.997281 L -87.224414,30.997178 L -87.224746,30.997168 L -87.225174,30.997136 L -87.225601,30.997103 L -87.22639,30.997042 L -87.227179,30.996981 L -87.22954,30.996816 L -87.22974,30.996802 L -87.237163,30.996415 L -87.237685,30.996393 L -87.237905,30.996412 L -87.238077,30.996426 L -87.238113,30.996428 L -87.238314,30.996447 L -87.238866,30.9965 L -87.239419,30.996553 L -87.239673,30.99657 L -87.239912,30.996587 L -87.240076,30.996597 L -87.240226,30.996611 L -87.240415,30.996636 L -87.240527,30.996643 L -87.241558,30.996725 L -87.24924,30.997668 L -87.249927,30.997752 L -87.249973,30.997758 L -87.251778,30.997913 L -87.252402,30.997936 L -87.25478,30.997928 L -87.255203,30.997927 L -87.255541,30.997906 L -87.255836,30.997897 L -87.257031,30.997851 L -87.257139,30.997863 L -87.257164,30.997862 L -87.257237,30.997861 L -87.257294,30.99786 L -87.257435,30.997856 L -87.257482,30.997855 L -87.258012,30.997846 L -87.258075,30.997845 L -87.259415,30.997831 L -87.259678,30.997832 L -87.259808,30.997828 L -87.260005,30.997808 L -87.260444,30.997801 L -87.260824,30.997795 L -87.26116,30.997802 L -87.261213,30.997802 L -87.261607,30.997802 L -87.262964,30.9978 L -87.263848,30.997803 L -87.264021,30.997803 L -87.264652,30.997805 L -87.264823,30.997806 L -87.265003,30.997803 L -87.265692,30.99779 L -87.265715,30.99779 L -87.266486,30.997757 L -87.266659,30.997767 L -87.276274,30.998302 L -87.277969,30.998309 L -87.278074,30.998309 L -87.278178,30.99831 L -87.284731,30.998339 L -87.28487,30.998339 L -87.288638,30.998343 L -87.288728,30.998343 L -87.288741,30.998343 L -87.288782,30.998344 L -87.288829,30.998344 L -87.288964,30.998344 L -87.289081,30.998344 L -87.289149,30.998344 L -87.28918,30.998344 L -87.2892,30.998344 L -87.290995,30.998352 L -87.295469,30.998387 L -87.295714,30.998389 L -87.297721,30.9984 L -87.299362,30.998416 L -87.301528,30.998438 L -87.301548,30.998437 L -87.303663,30.998321 L -87.303987,30.998251 L -87.30403,30.998191 L -87.309053,30.998339 L -87.309193,30.998345 L -87.309224,30.998346 L -87.309235,30.998346 L -87.30928,30.998349 L -87.309489,30.998355 L -87.309616,30.998358 L -87.309825,30.998365 L -87.311949,30.998435 L -87.311996,30.998376 L -87.31213,30.998207 L -87.312264,30.998038 L -87.312339,30.997959 L -87.312355,30.997943 L -87.312368,30.997936 L -87.312446,30.997892 L -87.312522,30.997863 L -87.312555,30.997855 L -87.312623,30.99784 L -87.312665,30.997835 L -87.314116,30.99784 L -87.314655,30.997848 L -87.314672,30.997848 L -87.314693,30.997849 L -87.314928,30.997852 L -87.315175,30.99785 L -87.315187,30.99785 L -87.315206,30.99785 L -87.315236,30.99785 L -87.315831,30.997847 L -87.316747,30.997849 L -87.316964,30.997845 L -87.317095,30.997833 L -87.317241,30.997844 L -87.317257,30.997845 L -87.318142,30.997839 L -87.318466,30.99784 L -87.318783,30.997837 L -87.319601,30.997836 L -87.321065,30.997839 L -87.322673,30.997836 L -87.322689,30.997836 L -87.322708,30.997836 L -87.323839,30.997834 L -87.325677,30.997843 L -87.326012,30.997843 L -87.326202,30.997843 L -87.326691,30.997838 L -87.326889,30.997842 L -87.327013,30.997845 L -87.327114,30.997845 L -87.329057,30.997852 L -87.329097,30.997852 L -87.329485,30.997842 L -87.33157,30.997843 L -87.332102,30.997848 L -87.332623,30.997848 L -87.33305,30.99785 L -87.333983,30.99786 L -87.334007,30.99786 L -87.334045,30.99786 L -87.334078,30.997855 L -87.334113,30.997858 L -87.334192,30.997866 L -87.334231,30.99787 L -87.33426,30.997877 L -87.334271,30.997882 L -87.33429,30.997875 L -87.334991,30.997944 L -87.33503,30.997948 L -87.335069,30.997952 L -87.33527,30.997972 L -87.336935,30.998136 L -87.337253,30.998167 L -87.337433,30.998184 L -87.337795,30.998218 L -87.338087,30.998248 L -87.33832,30.998272 L -87.343965,30.998271 L -87.344483,30.99827 L -87.347326,30.99827 L -87.347894,30.99827 L -87.350782,30.998168 L -87.350799,30.998167 L -87.355451,30.997865 L -87.35557,30.997859 L -87.35721,30.997861 L -87.358316,30.997856 L -87.359356,30.99786 L -87.359553,30.997856 L -87.359564,30.997856 L -87.360206,30.997844 L -87.360607,30.997836 L -87.361174,30.997832 L -87.362372,30.99784 L -87.362881,30.997854 L -87.363415,30.997862 L -87.363721,30.997861 L -87.363764,30.997866 L -87.363868,30.997892 L -87.363884,30.997896 L -87.363909,30.997893 L -87.363979,30.997886 L -87.364026,30.997872 L -87.364117,30.997861 L -87.364228,30.997861 L -87.364667,30.997885 L -87.365438,30.997896 L -87.366153,30.997911 L -87.366859,30.997897 L -87.367049,30.997891 L -87.36729,30.997879 L -87.367707,30.997882 L -87.367832,30.997894 L -87.370255,30.998306 L -87.37028,30.99831 L -87.370472,30.998343 L -87.370631,30.998342 L -87.372045,30.998222 L -87.373052,30.998136 L -87.373354,30.99811 L -87.373416,30.998105 L -87.373439,30.998103 L -87.3735,30.998097 L -87.373561,30.998092 L -87.37496,30.997972 L -87.380801,30.997987 L -87.381307,30.997988 L -87.381325,30.997988 L -87.381384,30.997989 L -87.381436,30.997989 L -87.381485,30.997989 L -87.381518,30.997989 L -87.387509,30.998005 L -87.391688,30.998014 L -87.391845,30.998014 L -87.391873,30.998014 L -87.394728,30.99802 L -87.397921,30.998027 L -87.398476,30.998028 L -87.398509,30.998029 L -87.398539,30.998029 L -87.398585,30.998029 L -87.398639,30.998029 L -87.398686,30.998029 L -87.400377,30.998033 L -87.401924,30.998036 L -87.403573,30.998039 L -87.404045,30.99804 L -87.404285,30.99804 L -87.404476,30.99804 L -87.407304,30.998046 L -87.407381,30.998046 L -87.4078,30.998047 L -87.407849,30.998047 L -87.407892,30.998047 L -87.407919,30.998048 L -87.407946,30.998048 L -87.408055,30.998048 L -87.408104,30.998048 L -87.408117,30.998048 L -87.40876,30.99805 L -87.409756,30.998052 L -87.415074,30.998066 L -87.415286,30.998059 L -87.415297,30.998059 L -87.425616,30.997741 L -87.425631,30.997741 L -87.425968,30.99774 L -87.426423,30.997738 L -87.430119,30.997745 L -87.431343,30.997743 L -87.432011,30.997755 L -87.432026,30.997755 L -87.433741,30.997807 L -87.434316,30.99782 L -87.435336,30.997848 L -87.435663,30.997849 L -87.435688,30.997849 L -87.437202,30.997857 L -87.441443,30.997877 L -87.441458,30.997877 L -87.443553,30.997888 L -87.444599,30.997894 L -87.446531,30.997873 L -87.446901,30.997864 L -87.447257,30.99786 L -87.447313,30.99786 L -87.449612,30.997837 L -87.449761,30.997838 L -87.449782,30.997838 L -87.450799,30.997842 L -87.451665,30.99784 L -87.453323,30.99785 L -87.453489,30.997851 L -87.453721,30.997852 L -87.453806,30.997853 L -87.454101,30.997856 L -87.454806,30.997865 L -87.455683,30.997871 L -87.458109,30.997894 L -87.458241,30.997901 L -87.458384,30.997915 L -87.458465,30.997935 L -87.458509,30.997946 L -87.458681,30.997934 L -87.458925,30.998063 L -87.459184,30.998133 L -87.459758,30.997983 L -87.461588,30.997947 L -87.461728,30.99792 L -87.461843,30.997897 L -87.462064,30.997896 L -87.462227,30.997898 L -87.462603,30.997903 L -87.464684,30.997906 L -87.465256,30.998027 L -87.465276,30.998023 L -87.465335,30.99801 L -87.465435,30.997996 L -87.465503,30.997986 L -87.465637,30.997984 L -87.466094,30.997992 L -87.466151,30.997991 L -87.46633,30.997989 L -87.466428,30.997988 L -87.466682,30.997979 L -87.466824,30.997977 L -87.466876,30.997976 L -87.467027,30.997974 L -87.467095,30.99794 L -87.467119,30.997902 L -87.467128,30.997833 L -87.467291,30.997855 L -87.467478,30.997865 L -87.469812,30.997861 L -87.471678,30.997863 L -87.472468,30.997869 L -87.472692,30.997871 L -87.473545,30.99787 L -87.476081,30.997867 L -87.477193,30.997862 L -87.477237,30.997862 L -87.477392,30.997864 L -87.477453,30.997865 L -87.477601,30.997867 L -87.47765,30.997868 L -87.477737,30.99787 L -87.47787,30.997873 L -87.477988,30.997873 L -87.478268,30.997875 L -87.478712,30.997877 L -87.478996,30.997878 L -87.479166,30.997879 L -87.479195,30.99788 L -87.479354,30.997887 L -87.479456,30.997892 L -87.479529,30.997902 L -87.479558,30.99791 L -87.479585,30.997923 L -87.479609,30.99794 L -87.479628,30.997958 L -87.479701,30.997962 L -87.479866,30.997972 L -87.48002,30.997981 L -87.480291,30.997997 L -87.4816,30.998074 L -87.482715,30.998139 L -87.483773,30.998107 L -87.485173,30.998072 L -87.485992,30.998054 L -87.486062,30.998053 L -87.486101,30.998052 L -87.487622,30.998019 L -87.488342,30.997999 L -87.488374,30.997998 L -87.488421,30.997997 L -87.488439,30.997997 L -87.490009,30.99798 L -87.496516,30.997947 L -87.498376,30.997938 L -87.498428,30.997937 L -87.498442,30.997937 L -87.498512,30.997936 L -87.498974,30.997853 L -87.499981,30.997672 L -87.505192,30.997648 L -87.507731,30.997637 L -87.513229,30.997613 L -87.513337,30.997601 L -87.513409,30.997593 L -87.514833,30.997548 L -87.514945,30.997543 L -87.515565,30.997585 L -87.517752,30.997594 L -87.520143,30.997592 L -87.527102,30.997674 L -87.527464,30.997678 L -87.527877,30.997683 L -87.527968,30.997684 L -87.527986,30.997685 L -87.528004,30.997685 L -87.528018,30.997685 L -87.530806,30.997718 L -87.530826,30.997718 L -87.533668,30.997748 L -87.54081,30.997835 L -87.540835,30.997835 L -87.54093,30.997837 L -87.540953,30.997837 L -87.5411,30.997839 L -87.541378,30.997842 L -87.542694,30.997858 L -87.548043,30.997917 L -87.54806,30.997922 L -87.548141,30.997858 L -87.548175,30.997833 L -87.548197,30.997817 L -87.548223,30.997797 L -87.548391,30.997671 L -87.54856,30.99757 L -87.548616,30.997545 L -87.548628,30.997542 L -87.548665,30.99753 L -87.548713,30.997518 L -87.548791,30.997508 L -87.54887,30.99751 L -87.549012,30.997516 L -87.549734,30.997546 L -87.54992,30.997551 L -87.550127,30.997558 L -87.550396,30.997567 L -87.550954,30.997599 L -87.551254,30.997607 L -87.55244,30.997613 L -87.554862,30.997582 L -87.5555,30.997587 L -87.555525,30.997587 L -87.555698,30.997588 L -87.556664,30.997612 L -87.557515,30.997609 L -87.559294,30.997596 L -87.560478,30.99758 L -87.562943,30.997551 L -87.563716,30.997546 L -87.563794,30.997544 L -87.564122,30.997542 L -87.564448,30.99754 L -87.564747,30.997536 L -87.565167,30.997536 L -87.565532,30.997536 L -87.566428,30.997535 L -87.568412,30.99754 L -87.568536,30.997542 L -87.568592,30.997543 L -87.568787,30.997547 L -87.569063,30.997544 L -87.57052,30.997547 L -87.570749,30.997547 L -87.57076,30.997546 L -87.570772,30.997546 L -87.581094,30.997606 L -87.581149,30.997607 L -87.58116,30.997607 L -87.581176,30.997607 L -87.581213,30.997607 L -87.581427,30.997608 L -87.585516,30.997627 L -87.585889,30.997619 L -87.593082,30.997482 L -87.596084,30.997474 L -87.598829,30.997455 L -87.598839,30.997426 L -87.598839,30.997398 L -87.598711,30.997239 L -87.598621,30.997074 L -87.598621,30.997041 L -87.598647,30.996821 L -87.5988,30.996766 L -87.598838,30.996766 L -87.598991,30.996551 L -87.598998,30.996298 L -87.598621,30.995633 L -87.598589,30.995413 L -87.59871,30.995028 L -87.598429,30.994588 L -87.598237,30.994291 L -87.598135,30.993675 L -87.598109,30.99335 L -87.598198,30.992993 L -87.598166,30.992993 L -87.597758,30.992432 L -87.597687,30.992135 L -87.597598,30.991612 L -87.597438,30.991277 L -87.597336,30.991002 L -87.597176,30.990782 L -87.597144,30.990782 L -87.596703,30.990644 L -87.596384,30.989924 L -87.596448,30.989814 L -87.596473,30.989731 L -87.596735,30.989434 L -87.596792,30.989104 L -87.596767,30.988824 L -87.596664,30.988714 L -87.596543,30.988472 L -87.596504,30.987229 L -87.596229,30.986783 L -87.59591,30.986783 L -87.595648,30.98664 L -87.595521,30.986316 L -87.595138,30.986118 L -87.595112,30.986124 L -87.594729,30.985794 L -87.594697,30.985464 L -87.595048,30.985161 L -87.595105,30.984968 L -87.594818,30.984556 L -87.594435,30.984226 L -87.593764,30.98405 L -87.593605,30.983951 L -87.593285,30.983396 L -87.593132,30.983038 L -87.593068,30.982433 L -87.592972,30.982103 L -87.59285,30.981636 L -87.59285,30.981377 L -87.593106,30.981108 L -87.593201,30.980794 L -87.593131,30.980464 L -87.592939,30.980305 L -87.592499,30.980277 L -87.592301,30.980184 L -87.592237,30.979942 L -87.592339,30.979755 L -87.592499,30.979579 L -87.592531,30.979392 L -87.59246,30.979062 L -87.592779,30.978561 L -87.592849,30.978369 L -87.592849,30.978182 L -87.5932,30.977741 L -87.593254,30.977696 L -87.593481,30.97751 L -87.593493,30.977438 L -87.593551,30.977103 L -87.593551,30.976988 L -87.593513,30.976993 L -87.593264,30.976751 L -87.593264,30.976718 L -87.593193,30.976498 L -87.593315,30.976273 L -87.593347,30.97624 L -87.593481,30.976075 L -87.593538,30.975959 L -87.593512,30.975668 L -87.593231,30.975475 L -87.593072,30.975393 L -87.593002,30.975365 L -87.592944,30.975112 L -87.592944,30.974672 L -87.59283,30.974459 L -87.59265,30.974122 L -87.59249,30.97393 L -87.592458,30.973352 L -87.592682,30.972874 L -87.59265,30.972659 L -87.59233,30.972329 L -87.592081,30.97184 L -87.591953,30.971361 L -87.591934,30.97129 L -87.591934,30.970949 L -87.591883,30.97074 L -87.591774,30.970542 L -87.59173,30.970426 L -87.591666,30.970179 L -87.591538,30.970091 L -87.591187,30.969937 L -87.590906,30.969662 L -87.590746,30.969348 L -87.590612,30.969068 L -87.590452,30.968578 L -87.590452,30.968435 L -87.590363,30.967968 L -87.590044,30.967556 L -87.589973,30.967275 L -87.589692,30.966923 L -87.589309,30.966626 L -87.589054,30.966285 L -87.589054,30.966263 L -87.588862,30.96579 L -87.588798,30.965273 L -87.58883,30.964943 L -87.588887,30.964519 L -87.58867,30.964162 L -87.588677,30.963837 L -87.588887,30.963282 L -87.5889,30.962726 L -87.589059,30.962264 L -87.589116,30.962039 L -87.589148,30.961929 L -87.589116,30.961874 L -87.589027,30.961648 L -87.588957,30.961384 L -87.588957,30.961351 L -87.589122,30.961126 L -87.589403,30.960933 L -87.58941,30.960911 L -87.589531,30.960774 L -87.589633,30.960438 L -87.589729,30.960158 L -87.589952,30.959965 L -87.589945,30.959888 L -87.590041,30.959723 L -87.589952,30.95931 L -87.58992,30.959228 L -87.589881,30.958892 L -87.590073,30.958557 L -87.590424,30.958122 L -87.590513,30.957842 L -87.590896,30.957462 L -87.591189,30.957126 L -87.591317,30.956659 L -87.591355,30.956406 L -87.591387,30.955718 L -87.591355,30.955036 L -87.591195,30.954618 L -87.591093,30.954343 L -87.590933,30.953821 L -87.590933,30.953513 L -87.591092,30.953133 L -87.591418,30.952798 L -87.591826,30.95255 L -87.591858,30.952297 L -87.591666,30.951939 L -87.591609,30.95167 L -87.591736,30.951362 L -87.591985,30.951197 L -87.592662,30.951164 L -87.593038,30.950922 L -87.593293,30.950613 L -87.593517,30.950316 L -87.593836,30.950129 L -87.594155,30.949898 L -87.594186,30.949871 L -87.594186,30.949733 L -87.594116,30.949651 L -87.593893,30.949453 L -87.593803,30.949128 L -87.593803,30.948688 L -87.593905,30.948353 L -87.593905,30.94805 L -87.594064,30.947605 L -87.594383,30.946972 L -87.594447,30.946834 L -87.594466,30.946477 L -87.5946,30.946125 L -87.594849,30.945734 L -87.594887,30.945707 L -87.594887,30.945371 L -87.595014,30.944634 L -87.595467,30.943358 L -87.595741,30.94278 L -87.595818,30.942483 L -87.595811,30.942428 L -87.596009,30.941983 L -87.59606,30.941927 L -87.596168,30.941812 L -87.596481,30.94151 L -87.596704,30.941014 L -87.596736,30.940932 L -87.596863,30.940574 L -87.597335,30.939881 L -87.597756,30.939304 L -87.597916,30.938968 L -87.598005,30.938528 L -87.598005,30.93839 L -87.59811,30.938287 L -87.598196,30.938203 L -87.598228,30.938203 L -87.598458,30.938038 L -87.599351,30.93795 L -87.599702,30.937818 L -87.600716,30.936657 L -87.600946,30.936376 L -87.601194,30.935969 L -87.601328,30.935859 L -87.601679,30.935749 L -87.601769,30.935579 L -87.601769,30.935331 L -87.601711,30.935084 L -87.601807,30.934946 L -87.601998,30.934753 L -87.602087,30.934423 L -87.602428,30.933789 L -87.602789,30.93312 L -87.603082,30.932564 L -87.603114,30.932564 L -87.603082,30.932349 L -87.602954,30.932069 L -87.602788,30.931799 L -87.60282,30.931601 L -87.602986,30.931436 L -87.603273,30.931332 L -87.603305,30.931304 L -87.603464,30.931194 L -87.603521,30.931112 L -87.603521,30.930831 L -87.603681,30.930617 L -87.603872,30.930534 L -87.604223,30.929978 L -87.604388,30.929456 L -87.604516,30.929175 L -87.604739,30.929038 L -87.604829,30.928961 L -87.604899,30.928878 L -87.604867,30.92868 L -87.604898,30.928356 L -87.605058,30.928124 L -87.605249,30.92802 L -87.605307,30.927855 L -87.605338,30.927574 L -87.60553,30.92736 L -87.605759,30.927222 L -87.605823,30.927024 L -87.605791,30.926804 L -87.605823,30.926606 L -87.606352,30.925621 L -87.606613,30.925258 L -87.606964,30.925231 L -87.607053,30.925121 L -87.607245,30.924708 L -87.607436,30.92391 L -87.607506,30.923294 L -87.607499,30.922953 L -87.607697,30.92248 L -87.607735,30.922222 L -87.607639,30.921732 L -87.608302,30.920736 L -87.608276,30.920126 L -87.608429,30.919763 L -87.608659,30.919521 L -87.609092,30.919168 L -87.609602,30.91809 L -87.609768,30.917672 L -87.609927,30.917122 L -87.609925,30.917107 L -87.609895,30.916737 L -87.609952,30.916517 L -87.610175,30.916291 L -87.610558,30.916044 L -87.610628,30.915769 L -87.610685,30.915416 L -87.610749,30.91535 L -87.610908,30.915114 L -87.610947,30.915114 L -87.611387,30.914833 L -87.611521,30.914553 L -87.611712,30.914002 L -87.612062,30.9137 L -87.612222,30.91337 L -87.612285,30.912924 L -87.612285,30.911797 L -87.612284,30.910944 L -87.612342,30.910609 L -87.612565,30.910223 L -87.612565,30.910196 L -87.612667,30.91008 L -87.612756,30.90997 L -87.612953,30.909448 L -87.613266,30.909068 L -87.613718,30.908705 L -87.613967,30.908485 L -87.613999,30.908485 L -87.614101,30.908259 L -87.614126,30.90799 L -87.613839,30.90766 L -87.613839,30.907467 L -87.613877,30.90744 L -87.614068,30.907187 L -87.6141,30.907187 L -87.614349,30.906917 L -87.614317,30.906559 L -87.61438,30.906163 L -87.614674,30.905839 L -87.614699,30.905839 L -87.615018,30.905641 L -87.615152,30.905475 L -87.615241,30.905206 L -87.615241,30.905167 L -87.615113,30.905008 L -87.614699,30.904854 L -87.614609,30.904568 L -87.614411,30.904458 L -87.614379,30.904315 L -87.614411,30.904134 L -87.614762,30.903853 L -87.614832,30.903826 L -87.615272,30.903682 L -87.615342,30.903545 L -87.615272,30.903105 L -87.615272,30.90278 L -87.615456,30.902082 L -87.615686,30.901641 L -87.615972,30.901284 L -87.616004,30.901256 L -87.616323,30.900948 L -87.616706,30.900651 L -87.617318,30.900095 L -87.61735,30.900095 L -87.61779,30.899908 L -87.617892,30.89988 L -87.618243,30.899957 L -87.618459,30.899957 L -87.618593,30.89988 L -87.618753,30.899484 L -87.618842,30.899187 L -87.618976,30.899104 L -87.619224,30.899077 L -87.619767,30.899275 L -87.619926,30.899274 L -87.620156,30.899071 L -87.620347,30.898658 L -87.620372,30.898658 L -87.620621,30.898383 L -87.620882,30.898328 L -87.621042,30.898196 L -87.621073,30.898047 L -87.621424,30.897888 L -87.621807,30.897723 L -87.621864,30.897557 L -87.621806,30.8972 L -87.621743,30.89709 L -87.621832,30.896952 L -87.622125,30.896754 L -87.622125,30.896617 L -87.622023,30.896567 L -87.621863,30.896567 L -87.621647,30.89654 L -87.621327,30.896315 L -87.621232,30.896183 L -87.621232,30.896034 L -87.621072,30.895902 L -87.620919,30.895737 L -87.620881,30.895462 L -87.620919,30.89527 L -87.62111,30.895099 L -87.621333,30.895072 L -87.621646,30.895132 L -87.621863,30.895104 L -87.621894,30.895104 L -87.622213,30.894824 L -87.622213,30.894796 L -87.622245,30.894604 L -87.622034,30.894246 L -87.622002,30.893993 L -87.622027,30.893669 L -87.622028,30.893614 L -87.621746,30.892481 L -87.621523,30.892261 L -87.621363,30.892211 L -87.621293,30.892173 L -87.621229,30.891986 L -87.621211,30.891594 L -87.621203,30.891408 L -87.62075,30.89066 L -87.620718,30.89066 L -87.620431,30.890006 L -87.62043,30.889473 L -87.620469,30.889307 L -87.620558,30.888972 L -87.620532,30.888647 L -87.62034,30.888262 L -87.62034,30.888064 L -87.620372,30.888064 L -87.620653,30.887817 L -87.620653,30.887767 L -87.620596,30.887669 L -87.620586,30.887664 L -87.620537,30.887641 L -87.620397,30.887597 L -87.620397,30.887569 L -87.62027,30.887404 L -87.620306,30.887335 L -87.62034,30.887272 L -87.620531,30.887041 L -87.620914,30.887014 L -87.621041,30.886959 L -87.621073,30.886876 L -87.620939,30.886717 L -87.620913,30.886634 L -87.621003,30.886579 L -87.621105,30.886551 L -87.621105,30.886524 L -87.621041,30.886249 L -87.62113,30.886084 L -87.621162,30.885858 L -87.621296,30.885831 L -87.621455,30.885534 L -87.621544,30.885479 L -87.621614,30.885479 L -87.621965,30.885451 L -87.622156,30.88522 L -87.622156,30.885033 L -87.622277,30.884895 L -87.622437,30.884868 L -87.622819,30.884895 L -87.622947,30.88484 L -87.62317,30.884675 L -87.623431,30.884592 L -87.623648,30.884592 L -87.624324,30.884537 L -87.624484,30.884482 L -87.624675,30.884372 L -87.6247,30.884234 L -87.624573,30.884174 L -87.624292,30.884174 L -87.624254,30.884091 L -87.624349,30.883959 L -87.62454,30.883816 L -87.624732,30.883778 L -87.625,30.883773 L -87.625313,30.883828 L -87.625383,30.883828 L -87.62544,30.883812 L -87.625504,30.883784 L -87.625893,30.88341 L -87.625982,30.883311 L -87.626046,30.882981 L -87.626098,30.882833 L -87.626219,30.882575 L -87.626391,30.882327 L -87.626589,30.882091 L -87.626832,30.881882 L -87.626959,30.881783 L -87.627521,30.881618 L -87.62798,30.880997 L -87.628146,30.880799 L -87.62828,30.880683 L -87.628822,30.880513 L -87.628924,30.880464 L -87.629103,30.880425 L -87.629211,30.880194 L -87.629282,30.880013 L -87.629326,30.879941 L -87.629422,30.879853 L -87.629435,30.879771 L -87.629416,30.879562 L -87.629614,30.879342 L -87.629576,30.879215 L -87.629595,30.878907 L -87.629493,30.878803 L -87.629461,30.878742 L -87.629474,30.878671 L -87.629582,30.878627 L -87.629659,30.878478 L -87.62962,30.878381 L -87.62957,30.878258 L -87.629595,30.878192 L -87.629716,30.877996 L -87.629946,30.877626 L -87.630061,30.877334 L -87.630151,30.876416 L -87.630183,30.876212 L -87.630247,30.876152 L -87.630387,30.875987 L -87.630458,30.875877 L -87.630534,30.875541 L -87.630662,30.875432 L -87.630783,30.875184 L -87.6309,30.875 L -87.631002,30.874824 L -87.631002,30.874554 L -87.631162,30.874312 L -87.631226,30.873812 L -87.631455,30.873311 L -87.631704,30.873003 L -87.631806,30.872921 L -87.631896,30.872833 L -87.631934,30.872734 L -87.632017,30.872591 L -87.632017,30.872393 L -87.631992,30.872349 L -87.63189,30.872343 L -87.631851,30.872349 L -87.631686,30.872327 L -87.631705,30.872294 L -87.631845,30.872151 L -87.632062,30.871876 L -87.632196,30.871794 L -87.632247,30.871805 L -87.632317,30.871772 L -87.632387,30.871678 L -87.632394,30.871392 L -87.632547,30.871293 L -87.632757,30.87126 L -87.632872,30.871205 L -87.632917,30.87109 L -87.632892,30.869896 L -87.63309,30.869484 L -87.633135,30.869357 L -87.633128,30.869258 L -87.633103,30.869159 L -87.633026,30.868989 L -87.633035,30.868949 L -87.633071,30.868802 L -87.63339,30.868444 L -87.633728,30.868274 L -87.633875,30.868131 L -87.634092,30.867812 L -87.634232,30.867658 L -87.634322,30.867422 L -87.634558,30.866971 L -87.634788,30.866707 L -87.634851,30.866536 L -87.634871,30.866344 L -87.634896,30.866261 L -87.634866,30.866184 L -87.634836,30.866107 L -87.634768,30.866071 L -87.634725,30.865809 L -87.634744,30.86561 L -87.634544,30.865421 L -87.633914,30.865262 L -87.633652,30.865146 L -87.63363,30.864974 L -87.633754,30.864793 L -87.633617,30.864649 L -87.632925,30.864607 L -87.632463,30.864392 L -87.632283,30.864185 L -87.632261,30.863914 L -87.632176,30.86377 L -87.631956,30.863726 L -87.63183,30.863681 L -87.631807,30.863437 L -87.631942,30.863193 L -87.631878,30.863076 L -87.63171,30.863058 L -87.631501,30.863114 L -87.631447,30.862906 L -87.63155,30.862517 L -87.631558,30.862182 L -87.631369,30.862138 L -87.631045,30.862284 L -87.63072,30.862268 L -87.630426,30.86217 L -87.630267,30.8618 L -87.630066,30.861449 L -87.629612,30.861044 L -87.628991,30.860595 L -87.628802,30.86047 L -87.628685,30.860253 L -87.628621,30.860082 L -87.62837,30.860038 L -87.628119,30.860166 L -87.627868,30.860185 L -87.627783,30.860077 L -87.627792,30.859869 L -87.627634,30.859671 L -87.627202,30.85923 L -87.627136,30.858869 L -87.626935,30.858481 L -87.626818,30.858184 L -87.626816,30.857931 L -87.62672,30.857723 L -87.626238,30.857662 L -87.626006,30.857438 L -87.626002,30.856832 L -87.626011,30.856516 L -87.625904,30.856227 L -87.625761,30.856013 L -87.625724,30.855957 L -87.625712,30.855713 L -87.625815,30.855441 L -87.62595,30.855242 L -87.625949,30.855133 L -87.625665,30.854873 L -87.625476,30.854847 L -87.625225,30.85483 L -87.625072,30.854659 L -87.62509,30.854234 L -87.625192,30.853899 L -87.625473,30.853581 L -87.625492,30.853283 L -87.625397,30.853094 L -87.625532,30.85293 L -87.625783,30.852839 L -87.625918,30.852694 L -87.625955,30.852016 L -87.625994,30.851482 L -87.625975,30.85103 L -87.626298,30.850767 L -87.626401,30.850522 L -87.6264,30.85026 L -87.626377,30.849935 L -87.626522,30.849708 L -87.62672,30.849599 L -87.626909,30.849625 L -87.627023,30.849561 L -87.627069,30.849241 L -87.627084,30.849136 L -87.627072,30.848928 L -87.626923,30.84864 L -87.626922,30.848459 L -87.627067,30.848251 L -87.627056,30.848088 L -87.626976,30.847826 L -87.626679,30.847304 L -87.626597,30.847265 L -87.626582,30.847258 L -87.626416,30.847178 L -87.626196,30.847143 L -87.626153,30.847017 L -87.626225,30.846763 L -87.626224,30.846664 L -87.626042,30.846541 L -87.625994,30.846509 L -87.625919,30.846458 L -87.625604,30.846378 L -87.625467,30.846207 L -87.625456,30.846053 L -87.62534,30.845945 L -87.625006,30.846096 L -87.624836,30.846161 L -87.624614,30.846052 L -87.624425,30.845781 L -87.624305,30.845693 L -87.624127,30.845723 L -87.623898,30.845805 L -87.62377,30.845762 L -87.623499,30.845508 L -87.62342,30.845434 L -87.623341,30.84536 L -87.623211,30.845001 L -87.622971,30.844693 L -87.62291,30.844495 L -87.622837,30.844433 L -87.622816,30.844415 L -87.622646,30.844416 L -87.622582,30.844399 L -87.622535,30.844387 L -87.62244,30.844306 L -87.622397,30.844138 L -87.622455,30.843844 L -87.622146,30.843595 L -87.621684,30.843208 L -87.621344,30.843217 L -87.621139,30.843189 L -87.621019,30.843116 L -87.62101,30.84305 L -87.621163,30.84288 L -87.621196,30.842792 L -87.620991,30.842609 L -87.620649,30.842398 L -87.620401,30.842259 L -87.620389,30.842234 L -87.620297,30.842047 L -87.620237,30.8419 L -87.620092,30.841864 L -87.619845,30.841858 L -87.619555,30.841778 L -87.619299,30.841633 L -87.619232,30.841831 L -87.619164,30.841949 L -87.619003,30.841957 L -87.6189,30.841899 L -87.618924,30.841664 L -87.618902,30.841502 L -87.618952,30.841282 L -87.618823,30.841106 L -87.618601,30.841019 L -87.618371,30.841005 L -87.618192,30.840947 L -87.618088,30.840779 L -87.617925,30.840596 L -87.617414,30.840474 L -87.617072,30.840328 L -87.616986,30.840197 L -87.617171,30.839836 L -87.617136,30.839674 L -87.61688,30.839506 L -87.61634,30.839039 L -87.616178,30.838871 L -87.616155,30.838709 L -87.616238,30.838341 L -87.616271,30.838143 L -87.61621,30.838033 L -87.616082,30.837901 L -87.61586,30.837873 L -87.615613,30.837808 L -87.615493,30.837721 L -87.615373,30.837559 L -87.615474,30.83739 L -87.615507,30.837236 L -87.615138,30.836738 L -87.61494,30.83643 L -87.614948,30.836232 L -87.615053,30.83615 L -87.615241,30.836135 L -87.61524,30.835988 L -87.61511,30.835702 L -87.615049,30.835489 L -87.615159,30.835283 L -87.615423,30.835311 L -87.615669,30.835259 L -87.61571,30.835031 L -87.61559,30.834811 L -87.615383,30.834489 L -87.615245,30.83421 L -87.615058,30.834138 L -87.614862,30.834212 L -87.614761,30.834286 L -87.614658,30.834184 L -87.614462,30.834104 L -87.614206,30.834105 L -87.61396,30.834157 L -87.613721,30.834078 L -87.612824,30.833627 L -87.612312,30.833394 L -87.612043,30.833307 L -87.611907,30.833286 L -87.611754,30.833404 L -87.611584,30.833471 L -87.611405,30.833413 L -87.611225,30.833267 L -87.610754,30.832711 L -87.610582,30.832557 L -87.610395,30.832507 L -87.610105,30.832501 L -87.609902,30.832649 L -87.609724,30.832796 L -87.609367,30.832813 L -87.609026,30.832734 L -87.608667,30.83264 L -87.60853,30.83242 L -87.608324,30.832171 L -87.607457,30.831771 L -87.607047,30.831567 L -87.606817,30.831414 L -87.606645,30.831246 L -87.606373,30.831203 L -87.60616,30.831204 L -87.605896,30.831176 L -87.605708,30.831052 L -87.605562,30.830898 L -87.605486,30.83095 L -87.605394,30.831186 L -87.605284,30.831385 L -87.605037,30.831327 L -87.604866,30.831152 L -87.604721,30.83113 L -87.604552,30.831403 L -87.604314,30.831419 L -87.604108,30.83117 L -87.603841,30.830716 L -87.60349,30.83022 L -87.603481,30.830206 L -87.603115,30.829668 L -87.602935,30.829375 L -87.602848,30.829163 L -87.602907,30.828986 L -87.603094,30.828949 L -87.603092,30.828713 L -87.603047,30.828354 L -87.603037,30.828097 L -87.602883,30.827906 L -87.602781,30.827253 L -87.603001,30.827024 L -87.603153,30.826796 L -87.603152,30.82676 L -87.603046,30.826565 L -87.602693,30.826423 L -87.602267,30.826329 L -87.602118,30.826234 L -87.602089,30.826166 L -87.602081,30.826147 L -87.602043,30.826058 L -87.602042,30.825851 L -87.60217,30.825626 L -87.602187,30.825467 L -87.60165,30.825389 L -87.601502,30.825342 L -87.601407,30.825071 L -87.601347,30.824304 L -87.601235,30.823539 L -87.601231,30.823506 L -87.601041,30.822724 L -87.60085,30.821751 L -87.600792,30.821288 L -87.60053,30.820922 L -87.600102,30.820508 L -87.599657,30.820463 L -87.59923,30.820225 L -87.598653,30.819748 L -87.598281,30.819351 L -87.597889,30.818905 L -87.597517,30.818619 L -87.596923,30.818303 L -87.596534,30.818193 L -87.596275,30.818162 L -87.596053,30.818275 L -87.595868,30.818196 L -87.595661,30.81767 L -87.595124,30.81764 L -87.59502,30.817624 L -87.594624,30.817562 L -87.594142,30.817501 L -87.594067,30.817357 L -87.594177,30.817245 L -87.594309,30.817157 L -87.594364,30.817076 L -87.594345,30.817013 L -87.594207,30.816928 L -87.593925,30.816909 L -87.593736,30.81696 L -87.593642,30.81694 L -87.593593,30.816686 L -87.593498,30.816433 L -87.593332,30.816382 L -87.593191,30.816475 L -87.593074,30.816506 L -87.592979,30.816404 L -87.592729,30.815999 L -87.592517,30.815969 L -87.592317,30.816092 L -87.59207,30.816093 L -87.591893,30.816013 L -87.591657,30.815953 L -87.591351,30.816015 L -87.591021,30.816047 L -87.590844,30.815997 L -87.590548,30.815734 L -87.590395,30.815857 L -87.590195,30.815919 L -87.590065,30.815787 L -87.58965,30.815433 L -87.589284,30.815221 L -87.5888,30.815122 L -87.588506,30.815093 L -87.588246,30.815084 L -87.588081,30.815044 L -87.587939,30.814922 L -87.587798,30.814913 L -87.587669,30.815086 L -87.587529,30.815239 L -87.587281,30.8152 L -87.587233,30.815017 L -87.587277,30.814641 L -87.587288,30.814417 L -87.587123,30.814428 L -87.586935,30.814561 L -87.586864,30.814459 L -87.586862,30.814144 L -87.586719,30.813941 L -87.586471,30.813821 L -87.586118,30.813822 L -87.585775,30.81361 L -87.585621,30.81355 L -87.585409,30.813551 L -87.58521,30.813714 L -87.585069,30.813725 L -87.584749,30.813544 L -87.584548,30.813331 L -87.584335,30.81319 L -87.584194,30.81319 L -87.584077,30.813343 L -87.583854,30.813487 L -87.583641,30.813427 L -87.583557,30.813183 L -87.583556,30.812888 L -87.583467,30.812807 L -87.583195,30.812768 L -87.58283,30.81279 L -87.582559,30.81272 L -87.582241,30.812741 L -87.58191,30.81257 L -87.581803,30.812316 L -87.581542,30.812155 L -87.581164,30.811953 L -87.581022,30.811811 L -87.581021,30.811669 L -87.58109,30.811425 L -87.580983,30.811303 L -87.580759,30.811263 L -87.580382,30.811265 L -87.58017,30.811286 L -87.580123,30.811185 L -87.580263,30.810991 L -87.580297,30.810859 L -87.58025,30.810767 L -87.580097,30.810758 L -87.579756,30.810881 L -87.579567,30.810892 L -87.579377,30.810619 L -87.57895,30.810092 L -87.578795,30.809879 L -87.578723,30.809625 L -87.578604,30.809392 L -87.578438,30.809159 L -87.577853,30.808856 L -87.577676,30.808837 L -87.577488,30.808878 L -87.577216,30.808778 L -87.576943,30.808525 L -87.576599,30.808119 L -87.576504,30.807855 L -87.576607,30.807448 L -87.576675,30.806939 L -87.57639,30.806575 L -87.576224,30.806464 L -87.576035,30.806403 L -87.575812,30.806445 L -87.575552,30.806314 L -87.574971,30.805656 L -87.574757,30.805331 L -87.574537,30.805058 L -87.574677,30.804721 L -87.574593,30.804488 L -87.574378,30.804062 L -87.574281,30.803605 L -87.574102,30.80327 L -87.573499,30.802876 L -87.573121,30.802715 L -87.572708,30.802615 L -87.572484,30.802535 L -87.57233,30.802393 L -87.57227,30.802119 L -87.572374,30.801905 L -87.572596,30.801548 L -87.572607,30.801395 L -87.572335,30.801142 L -87.572075,30.801082 L -87.571909,30.80093 L -87.571884,30.800605 L -87.571882,30.800371 L -87.571752,30.800199 L -87.571469,30.800139 L -87.571174,30.80013 L -87.570881,30.800294 L -87.570588,30.80057 L -87.570435,30.800581 L -87.570351,30.800439 L -87.57022,30.800145 L -87.570066,30.800034 L -87.569889,30.800024 L -87.569702,30.800228 L -87.569539,30.800493 L -87.569374,30.800474 L -87.569149,30.800332 L -87.568795,30.800181 L -87.568488,30.800162 L -87.568252,30.800113 L -87.568062,30.799819 L -87.567872,30.799596 L -87.567871,30.799341 L -87.568011,30.799168 L -87.567928,30.798975 L -87.568045,30.798822 L -87.568174,30.79875 L -87.56809,30.798588 L -87.567794,30.798345 L -87.567628,30.798051 L -87.567368,30.798022 L -87.567051,30.798084 L -87.566839,30.798055 L -87.56666,30.797801 L -87.566304,30.797314 L -87.565807,30.796991 L -87.56563,30.796901 L -87.565524,30.796809 L -87.565417,30.796759 L -87.565194,30.796821 L -87.564994,30.796802 L -87.564602,30.796444 L -87.563875,30.796267 L -87.563695,30.796138 L -87.563673,30.795803 L -87.563473,30.795598 L -87.563014,30.795402 L -87.562962,30.795128 L -87.562722,30.794948 L -87.562552,30.794863 L -87.562631,30.794622 L -87.562619,30.794356 L -87.56224,30.794288 L -87.561981,30.794126 L -87.56177,30.793844 L -87.56135,30.793553 L -87.56116,30.793348 L -87.561084,30.793251 L -87.560959,30.793091 L -87.560939,30.792971 L -87.560937,30.792696 L -87.561154,30.792377 L -87.560875,30.792301 L -87.560457,30.792268 L -87.560187,30.792157 L -87.559998,30.792055 L -87.559877,30.791858 L -87.55972,30.791429 L -87.559271,30.791268 L -87.558932,30.791166 L -87.558901,30.790968 L -87.559208,30.790632 L -87.559057,30.790375 L -87.558649,30.790437 L -87.5583,30.790326 L -87.557951,30.79019 L -87.557533,30.790252 L -87.557165,30.790263 L -87.557045,30.790143 L -87.557271,30.789686 L -87.557312,30.789581 L -87.557438,30.789256 L -87.557298,30.789128 L -87.55693,30.789112 L -87.55673,30.789044 L -87.556579,30.788675 L -87.556358,30.788427 L -87.556058,30.788239 L -87.55572,30.788223 L -87.555311,30.788088 L -87.554852,30.787858 L -87.554612,30.787618 L -87.55459,30.787343 L -87.554479,30.78712 L -87.554165,30.786958 L -87.553866,30.786994 L -87.553548,30.787064 L -87.553328,30.787103 L -87.55325,30.787117 L -87.55298,30.786937 L -87.55259,30.786647 L -87.55226,30.78639 L -87.55203,30.786194 L -87.551471,30.78593 L -87.551311,30.78569 L -87.551398,30.785311 L -87.551605,30.784992 L -87.551474,30.784744 L -87.551055,30.784565 L -87.550736,30.784369 L -87.550843,30.78399 L -87.551143,30.783439 L -87.551221,30.783086 L -87.55118,30.782803 L -87.551162,30.78278 L -87.550859,30.7824 L -87.550568,30.781972 L -87.550416,30.781517 L -87.550285,30.781251 L -87.549761,30.781013 L -87.549512,30.780988 L -87.548966,30.7813 L -87.548718,30.781395 L -87.548469,30.781319 L -87.548077,30.780685 L -87.547897,30.780599 L -87.547759,30.780772 L -87.547541,30.780979 L -87.547212,30.780852 L -87.54712,30.780474 L -87.547009,30.780096 L -87.546649,30.779797 L -87.54625,30.77967 L -87.545781,30.779551 L -87.545432,30.779389 L -87.545081,30.778953 L -87.544789,30.778395 L -87.544771,30.777871 L -87.54485,30.777639 L -87.545197,30.777483 L -87.545644,30.777352 L -87.545952,30.777239 L -87.545971,30.777093 L -87.545033,30.776675 L -87.544972,30.776435 L -87.544961,30.776143 L -87.545177,30.775652 L -87.545254,30.775222 L -87.545222,30.77487 L -87.545489,30.773648 L -87.545951,30.772589 L -87.546068,30.772211 L -87.546047,30.772056 L -87.545847,30.771756 L -87.545647,30.771688 L -87.545204,30.771682 L -87.544717,30.771744 L -87.544368,30.771616 L -87.544296,30.771307 L -87.544199,30.770641 L -87.544183,30.770526 L -87.543881,30.770003 L -87.54351,30.769566 L -87.54312,30.769181 L -87.542839,30.768838 L -87.542162,30.76787 L -87.541963,30.767615 L -87.541801,30.767407 L -87.541221,30.766825 L -87.5406,30.76608 L -87.540348,30.76566 L -87.540338,30.765488 L -87.540281,30.765093 L -87.539909,30.764562 L -87.539499,30.764117 L -87.539059,30.763801 L -87.53875,30.763647 L -87.538371,30.763546 L -87.537893,30.763384 L -87.537094,30.762967 L -87.536884,30.762718 L -87.536855,30.762082 L -87.536834,30.761807 L -87.536634,30.761662 L -87.536285,30.761578 L -87.536069,30.7613 L -87.535985,30.761192 L -87.535982,30.760668 L -87.53594,30.760247 L -87.535649,30.759861 L -87.535705,30.759234 L -87.535589,30.758856 L -87.535478,30.758625 L -87.535308,30.758436 L -87.535281,30.758342 L -87.535247,30.758222 L -87.535285,30.758041 L -87.535453,30.757774 L -87.535402,30.757448 L -87.53519,30.757019 L -87.535206,30.756305 L -87.535224,30.755927 L -87.535236,30.755446 L -87.535175,30.755137 L -87.534985,30.754983 L -87.534706,30.754881 L -87.534525,30.754486 L -87.534302,30.753868 L -87.5343,30.753533 L -87.534438,30.753215 L -87.534426,30.752888 L -87.534465,30.752673 L -87.534787,30.752431 L -87.535085,30.752378 L -87.535294,30.75236 L -87.535302,30.752094 L -87.53522,30.75163 L -87.535168,30.751132 L -87.535224,30.750539 L -87.53534,30.749999 L -87.535249,30.749778 L -87.535114,30.749448 L -87.534473,30.748965 L -87.533925,30.748666 L -87.533855,30.748626 L -87.533559,30.748457 L -87.53348,30.747998 L -87.53334,30.747434 L -87.533003,30.746924 L -87.53253,30.746467 L -87.531982,30.746233 L -87.531662,30.746063 L -87.531629,30.745657 L -87.532386,30.745207 L -87.532642,30.744813 L -87.532517,30.744157 L -87.532514,30.743658 L -87.532588,30.743278 L -87.532557,30.743199 L -87.532162,30.743096 L -87.531601,30.743321 L -87.531069,30.743271 L -87.531037,30.743252 L -87.530688,30.743049 L -87.530307,30.742933 L -87.529866,30.74279 L -87.529749,30.742701 L -87.529591,30.742581 L -87.529582,30.742418 L -87.529575,30.742293 L -87.529982,30.741766 L -87.530163,30.741476 L -87.530237,30.741266 L -87.529977,30.740952 L -87.529248,30.740916 L -87.528626,30.741063 L -87.528077,30.740632 L -87.527422,30.740477 L -87.526511,30.740533 L -87.526146,30.740456 L -87.525871,30.740221 L -87.525534,30.739671 L -87.525441,30.739212 L -87.525227,30.739056 L -87.524634,30.738887 L -87.524131,30.738719 L -87.523597,30.738288 L -87.523185,30.737844 L -87.52291,30.737687 L -87.522363,30.737624 L -87.521593,30.73758 L -87.520859,30.737538 L -87.520296,30.737396 L -87.519914,30.737109 L -87.519777,30.736921 L -87.519379,30.736376 L -87.519074,30.736272 L -87.518603,30.736235 L -87.518314,30.736106 L -87.518253,30.736079 L -87.51816,30.735764 L -87.517882,30.734965 L -87.517393,30.734324 L -87.516784,30.734169 L -87.516253,30.73421 L -87.515874,30.734382 L -87.515403,30.73441 L -87.515137,30.734306 L -87.515042,30.73369 L -87.514935,30.733276 L -87.514903,30.733152 L -87.514634,30.733042 L -87.514553,30.733009 L -87.514098,30.733221 L -87.513612,30.733262 L -87.513125,30.733146 L -87.512549,30.733267 L -87.512141,30.733701 L -87.511928,30.733768 L -87.511744,30.73344 L -87.511622,30.733178 L -87.511286,30.732996 L -87.510633,30.732907 L -87.51051,30.732789 L -87.510492,30.732608 L -87.51049,30.73259 L -87.510478,30.732461 L -87.510613,30.732067 L -87.510596,30.731713 L -87.51023,30.731504 L -87.509896,30.7314 L -87.509576,30.731205 L -87.509451,30.730694 L -87.509297,30.730156 L -87.508959,30.729593 L -87.508874,30.729279 L -87.509022,30.728464 L -87.508792,30.728085 L -87.508214,30.727982 L -87.507682,30.7278 L -87.507361,30.727565 L -87.507116,30.727094 L -87.506674,30.726794 L -87.506035,30.726665 L -87.505442,30.72651 L -87.505137,30.726288 L -87.505044,30.726 L -87.505164,30.72571 L -87.505679,30.725472 L -87.506028,30.7253 L -87.505951,30.725064 L -87.505707,30.724921 L -87.505083,30.724635 L -87.504314,30.724428 L -87.503736,30.724207 L -87.503278,30.723854 L -87.503093,30.723304 L -87.503059,30.72253 L -87.502966,30.722123 L -87.502431,30.721522 L -87.502339,30.721475 L -87.501944,30.721274 L -87.501502,30.721092 L -87.501183,30.721093 L -87.50088,30.721134 L -87.500576,30.721148 L -87.499998,30.72089 L -87.499421,30.720726 L -87.499039,30.720712 L -87.498704,30.720818 L -87.4985,30.720987 L -87.498286,30.721061 L -87.498183,30.720997 L -87.498133,30.720878 L -87.498051,30.720683 L -87.498105,30.720345 L -87.498029,30.720031 L -87.49786,30.719879 L -87.497599,30.719855 L -87.49734,30.720114 L -87.49707,30.72026 L -87.496828,30.720269 L -87.496482,30.720174 L -87.496258,30.720118 L -87.495754,30.719975 L -87.495307,30.719892 L -87.495204,30.719873 L -87.494821,30.719665 L -87.494671,30.719657 L -87.494476,30.719747 L -87.494011,30.72003 L -87.493564,30.719951 L -87.493255,30.719719 L -87.492966,30.719712 L -87.492781,30.719914 L -87.49268,30.720341 L -87.49241,30.720455 L -87.492093,30.720392 L -87.491847,30.719724 L -87.491612,30.719178 L -87.491434,30.719025 L -87.491191,30.718954 L -87.491102,30.718922 L -87.490898,30.718963 L -87.490711,30.719012 L -87.490534,30.719029 L -87.490254,30.718973 L -87.489788,30.718814 L -87.489423,30.718662 L -87.489056,30.718012 L -87.488775,30.717642 L -87.488612,30.717603 L -87.488579,30.717595 L -87.488402,30.717563 L -87.48829,30.71758 L -87.488104,30.717741 L -87.487827,30.718137 L -87.487623,30.718339 L -87.487315,30.71838 L -87.487054,30.718325 L -87.486578,30.718182 L -87.486292,30.717933 L -87.485984,30.717677 L -87.485759,30.7175 L -87.485469,30.717373 L -87.485152,30.717285 L -87.484909,30.71723 L -87.484601,30.717078 L -87.48446,30.716861 L -87.484578,30.716257 L -87.484623,30.715918 L -87.484454,30.715653 L -87.48423,30.715573 L -87.483959,30.715397 L -87.483623,30.71531 L -87.483372,30.715391 L -87.483205,30.715561 L -87.483021,30.716117 L -87.482578,30.716908 L -87.482234,30.717191 L -87.481899,30.717314 L -87.4817,30.717214 L -87.481619,30.717173 L -87.481278,30.717002 L -87.481266,30.716527 L -87.480975,30.716125 L -87.480535,30.715756 L -87.479925,30.714929 L -87.479513,30.714512 L -87.479064,30.714208 L -87.478293,30.713711 L -87.477992,30.713277 L -87.478111,30.712786 L -87.478334,30.712624 L -87.478866,30.71267 L -87.479378,30.712692 L -87.479732,30.712643 L -87.480034,30.712284 L -87.480066,30.712247 L -87.480269,30.711787 L -87.480182,30.71128 L -87.47983,30.710734 L -87.479491,30.710002 L -87.479312,30.7096 L -87.479069,30.709529 L -87.478743,30.709498 L -87.478389,30.709547 L -87.478036,30.709742 L -87.477803,30.70988 L -87.477449,30.709913 L -87.477151,30.709914 L -87.476507,30.709683 L -87.47547,30.70926 L -87.475171,30.70906 L -87.47509,30.708601 L -87.47548,30.708326 L -87.475618,30.7081 L -87.475271,30.707682 L -87.474653,30.707048 L -87.474493,30.706654 L -87.47464,30.7063 L -87.475375,30.706047 L -87.475868,30.70582 L -87.475979,30.705707 L -87.47602,30.705465 L -87.475805,30.705248 L -87.475264,30.705218 L -87.474667,30.705108 L -87.47434,30.704956 L -87.474209,30.704843 L -87.473948,30.704804 L -87.473631,30.704813 L -87.473145,30.704437 L -87.472771,30.704357 L -87.472567,30.704535 L -87.472794,30.705163 L -87.472804,30.705412 L -87.472628,30.705638 L -87.472228,30.705664 L -87.471761,30.70544 L -87.4712,30.705112 L -87.470944,30.705113 L -87.470478,30.705179 L -87.470105,30.705124 L -87.469806,30.705021 L -87.469637,30.704804 L -87.469524,30.704385 L -87.469521,30.70387 L -87.469612,30.703354 L -87.469611,30.703209 L -87.469461,30.702968 L -87.469076,30.702741 L -87.468764,30.702624 L -87.468526,30.702569 L -87.46827,30.702499 L -87.468104,30.702184 L -87.467808,30.701521 L -87.467732,30.701086 L -87.467841,30.700896 L -87.46816,30.700697 L -87.468214,30.700389 L -87.468085,30.700208 L -87.46792,30.700153 L -87.467663,30.700043 L -87.467517,30.700075 L -87.467125,30.700361 L -87.466742,30.700655 L -87.466368,30.700704 L -87.465901,30.700666 L -87.465526,30.700573 L -87.465345,30.700516 L -87.465177,30.700463 L -87.464912,30.700401 L -87.46419,30.700585 L -87.463779,30.700595 L -87.463495,30.700556 L -87.463248,30.700494 L -87.462937,30.700402 L -87.46267,30.700314 L -87.46219,30.700189 L -87.462159,30.700151 L -87.461907,30.699842 L -87.461661,30.699767 L -87.46131,30.699768 L -87.461047,30.699663 L -87.460817,30.69933 L -87.460446,30.69877 L -87.459987,30.698271 L -87.459671,30.698166 L -87.459214,30.698168 L -87.458916,30.698078 L -87.458669,30.697866 L -87.458653,30.697723 L -87.458614,30.697366 L -87.458471,30.696821 L -87.458294,30.696564 L -87.458013,30.696398 L -87.457505,30.696748 L -87.457261,30.697022 L -87.456929,30.697221 L -87.456614,30.697586 L -87.456264,30.697754 L -87.455773,30.697771 L -87.455177,30.697848 L -87.454739,30.698047 L -87.454144,30.698428 L -87.454008,30.698561 L -87.453882,30.698687 L -87.453619,30.698718 L -87.45325,30.698689 L -87.452933,30.698372 L -87.452616,30.698191 L -87.45216,30.698193 L -87.45188,30.698451 L -87.451604,30.699393 L -87.451306,30.699591 L -87.45113,30.6995 L -87.450901,30.699122 L -87.450636,30.698895 L -87.45025,30.698851 L -87.449847,30.698974 L -87.449566,30.69896 L -87.449214,30.698673 L -87.449124,30.698324 L -87.448913,30.698173 L -87.448719,30.697916 L -87.4487,30.697553 L -87.448803,30.697158 L -87.448661,30.696688 L -87.448485,30.696592 L -87.448441,30.696568 L -87.447878,30.696418 L -87.44749,30.695934 L -87.447155,30.695632 L -87.446453,30.695634 L -87.446243,30.69562 L -87.446031,30.695423 L -87.445732,30.695182 L -87.445363,30.695138 L -87.445012,30.695124 L -87.444362,30.694914 L -87.443676,30.694537 L -87.44334,30.693916 L -87.443109,30.693447 L -87.442845,30.693205 L -87.44277,30.692986 L -87.442685,30.692736 L -87.44228,30.692373 L -87.441803,30.691844 L -87.44131,30.691375 L -87.44071,30.690695 L -87.440614,30.6906 L -87.440375,30.690362 L -87.440343,30.690353 L -87.440024,30.690258 L -87.43904,30.690079 L -87.4387,30.689973 L -87.438649,30.689957 L -87.43832,30.689854 L -87.437722,30.689628 L -87.43737,30.689387 L -87.436965,30.688933 L -87.436556,30.688904 L -87.436421,30.68879 L -87.436401,30.68842 L -87.436309,30.688404 L -87.436211,30.688386 L -87.435734,30.688301 L -87.43468,30.688198 L -87.434101,30.6882 L -87.433611,30.688353 L -87.432961,30.68837 L -87.432504,30.688114 L -87.432064,30.687721 L -87.431695,30.687647 L -87.431134,30.68777 L -87.430469,30.688257 L -87.430136,30.688259 L -87.429819,30.687987 L -87.430113,30.687091 L -87.429935,30.68653 L -87.429443,30.68638 L -87.428689,30.686383 L -87.428302,30.686323 L -87.427792,30.685885 L -87.427736,30.685158 L -87.427786,30.684505 L -87.427486,30.684249 L -87.427125,30.683992 L -87.426612,30.683053 L -87.426296,30.682857 L -87.426085,30.682843 L -87.42542,30.68327 L -87.424982,30.683362 L -87.424613,30.683272 L -87.424331,30.683061 L -87.423452,30.682669 L -87.422697,30.682384 L -87.422398,30.682203 L -87.422168,30.681931 L -87.422097,30.681703 L -87.422128,30.681334 L -87.421996,30.681017 L -87.421716,30.680913 L -87.421523,30.680853 L -87.421313,30.680816 L -87.420964,30.68087 L -87.420493,30.680977 L -87.42023,30.680932 L -87.419905,30.68039 L -87.419492,30.679893 L -87.419247,30.679697 L -87.419167,30.679426 L -87.419077,30.67889 L -87.419085,30.678648 L -87.419058,30.67855 L -87.419041,30.678528 L -87.418629,30.678363 L -87.418306,30.678251 L -87.417921,30.678146 L -87.417685,30.6782 L -87.417451,30.678472 L -87.41726,30.67879 L -87.417165,30.679032 L -87.417052,30.679244 L -87.416904,30.679312 L -87.41672,30.679298 L -87.416124,30.678726 L -87.415179,30.678374 L -87.414553,30.678217 L -87.413985,30.67806 L -87.413731,30.678008 L -87.413434,30.677964 L -87.412936,30.67792 L -87.412534,30.677861 L -87.412201,30.677734 L -87.41172,30.677569 L -87.410928,30.677157 L -87.410306,30.676942 L -87.409689,30.676645 L -87.409174,30.676325 L -87.408801,30.676004 L -87.408312,30.675684 L -87.407772,30.675475 L -87.407233,30.675388 L -87.406757,30.675289 L -87.406474,30.675146 L -87.406332,30.67488 L -87.406356,30.674437 L -87.4067,30.67377 L -87.407081,30.672915 L -87.407386,30.672259 L -87.407384,30.671816 L -87.407152,30.671572 L -87.406459,30.671375 L -87.406137,30.671198 L -87.405879,30.670911 L -87.405839,30.670423 L -87.405837,30.670112 L -87.405951,30.669668 L -87.406017,30.669235 L -87.405545,30.668638 L -87.405394,30.667998 L -87.405514,30.667123 L -87.405799,30.66672 L -87.405833,30.666673 L -87.405758,30.666439 L -87.405387,30.666354 L -87.40535,30.666343 L -87.405203,30.666298 L -87.404695,30.666143 L -87.404201,30.666144 L -87.403533,30.665912 L -87.403087,30.665529 L -87.402689,30.664847 L -87.402637,30.664356 L -87.403104,30.663756 L -87.403347,30.662837 L -87.403048,30.662112 L -87.402577,30.661751 L -87.402328,30.66141 L -87.402202,30.660599 L -87.402397,30.660107 L -87.402914,30.659572 L -87.402935,30.658782 L -87.403327,30.658033 L -87.403103,30.657479 L -87.402656,30.657032 L -87.402137,30.656884 L -87.401717,30.656778 L -87.401072,30.656225 L -87.400628,30.656376 L -87.400508,30.65706 L -87.400212,30.657253 L -87.399865,30.657062 L -87.399863,30.656442 L -87.399836,30.655973 L -87.399663,30.655824 L -87.399071,30.656167 L -87.398776,30.656318 L -87.398604,30.656279 L -87.398405,30.656233 L -87.398389,30.656217 L -87.397785,30.655638 L -87.396818,30.65485 L -87.396595,30.654467 L -87.396505,30.653784 L -87.3966,30.652652 L -87.396598,30.652289 L -87.396274,30.651649 L -87.395975,30.65086 L -87.39592,30.650541 L -87.395908,30.650159 L -87.396426,30.649471 L -87.396598,30.64915 L -87.396867,30.648701 L -87.396989,30.648273 L -87.396864,30.647932 L -87.396195,30.647294 L -87.395579,30.646794 L -87.395303,30.64657 L -87.394336,30.645612 L -87.394334,30.645271 L -87.394779,30.645227 L -87.394952,30.645248 L -87.39542,30.644969 L -87.395739,30.644562 L -87.395687,30.643964 L -87.39529,30.643432 L -87.395016,30.64277 L -87.394594,30.642345 L -87.394248,30.642175 L -87.394024,30.641855 L -87.394022,30.641364 L -87.394339,30.640402 L -87.394386,30.639826 L -87.394237,30.639463 L -87.394235,30.6391 L -87.394269,30.638289 L -87.394365,30.637541 L -87.394585,30.637007 L -87.394905,30.636707 L -87.395212,30.636069 L -87.395149,30.635418 L -87.394691,30.634751 L -87.394293,30.63429 L -87.394113,30.633794 L -87.394072,30.633502 L -87.394448,30.633399 L -87.395398,30.633293 L -87.395655,30.632984 L -87.395554,30.632659 L -87.395177,30.63242 L -87.394879,30.632215 L -87.39464,30.631993 L -87.394481,30.631788 L -87.394243,30.631703 L -87.393985,30.631687 L -87.393688,30.631688 L -87.39341,30.631534 L -87.393456,30.631193 L -87.393487,30.630969 L -87.3934,30.630386 L -87.393386,30.630289 L -87.3935,30.629914 L -87.393679,30.629341 L -87.393698,30.629135 L -87.393538,30.628861 L -87.393417,30.628228 L -87.393415,30.627731 L -87.393294,30.627218 L -87.393591,30.626868 L -87.393622,30.626649 L -87.393734,30.626118 L -87.393846,30.625724 L -87.394354,30.624998 L -87.394393,30.624562 L -87.394575,30.624255 L -87.394855,30.624191 L -87.395319,30.624253 L -87.395796,30.624304 L -87.396027,30.624135 L -87.396014,30.623903 L -87.395854,30.623745 L -87.395647,30.623671 L -87.395268,30.623578 L -87.395121,30.623462 L -87.395108,30.623314 L -87.395168,30.623092 L -87.395277,30.622765 L -87.395215,30.62248 L -87.395055,30.622216 L -87.395066,30.621899 L -87.395295,30.621381 L -87.395318,30.621001 L -87.39528,30.620463 L -87.39545,30.620304 L -87.395815,30.620166 L -87.395986,30.620091 L -87.395924,30.619849 L -87.395875,30.619701 L -87.395799,30.619078 L -87.395845,30.618497 L -87.396148,30.61781 L -87.396463,30.617334 L -87.396475,30.617102 L -87.396387,30.616616 L -87.396044,30.61629 L -87.395665,30.616239 L -87.395287,30.616271 L -87.394957,30.616241 L -87.394854,30.616083 L -87.394776,30.615964 L -87.394736,30.615903 L -87.394672,30.615239 L -87.394913,30.614266 L -87.395135,30.613516 L -87.39562,30.612723 L -87.396238,30.611538 L -87.396468,30.61102 L -87.396586,30.61007 L -87.396584,30.609479 L -87.396655,30.608876 L -87.397106,30.608394 L -87.397189,30.608305 L -87.397953,30.607025 L -87.398409,30.606538 L -87.398505,30.606094 L -87.398528,30.605819 L -87.398649,30.605524 L -87.39877,30.605396 L -87.398941,30.605417 L -87.399615,30.605911 L -87.40025,30.606163 L -87.400921,30.605981 L -87.401542,30.605567 L -87.402067,30.605587 L -87.402317,30.605565 L -87.402811,30.605521 L -87.403224,30.605382 L -87.403286,30.605361 L -87.403361,30.605263 L -87.403484,30.605103 L -87.403529,30.605044 L -87.403564,30.604548 L -87.403341,30.60382 L -87.403413,30.603534 L -87.403501,30.603417 L -87.40391,30.603102 L -87.403993,30.603038 L -87.404082,30.603035 L -87.404885,30.603005 L -87.404902,30.603004 L -87.405198,30.603072 L -87.405669,30.603396 L -87.405691,30.603411 L -87.406086,30.603258 L -87.406106,30.602512 L -87.406004,30.602328 L -87.405923,30.602181 L -87.405691,30.601765 L -87.405711,30.601476 L -87.405849,30.601374 L -87.406441,30.601748 L -87.406525,30.601743 L -87.406718,30.601731 L -87.406851,30.601668 L -87.407152,30.601527 L -87.407587,30.600865 L -87.407586,30.600845 L -87.407567,30.600271 L -87.407495,30.600175 L -87.40735,30.599982 L -87.407322,30.599975 L -87.406915,30.599864 L -87.406367,30.599986 L -87.405849,30.600101 L -87.405823,30.600047 L -87.405487,30.599357 L -87.40548,30.599342 L -87.405475,30.599332 L -87.405395,30.599168 L -87.405314,30.598777 L -87.405296,30.598692 L -87.405417,30.598623 L -87.405519,30.598565 L -87.405533,30.598557 L -87.405673,30.598551 L -87.405928,30.59854 L -87.40595,30.598526 L -87.406205,30.59837 L -87.406196,30.598136 L -87.406194,30.598084 L -87.406005,30.597989 L -87.405985,30.597979 L -87.405691,30.59783 L -87.405457,30.597547 L -87.405453,30.597521 L -87.405446,30.597416 L -87.405521,30.597363 L -87.407127,30.596238 L -87.407305,30.595984 L -87.407314,30.595905 L -87.407341,30.595643 L -87.407296,30.595552 L -87.407006,30.594964 L -87.407003,30.594758 L -87.406993,30.594072 L -87.406841,30.593419 L -87.406831,30.593374 L -87.407081,30.592386 L -87.407148,30.592299 L -87.407692,30.59159 L -87.407713,30.591524 L -87.407767,30.591351 L -87.407854,30.591075 L -87.407852,30.591023 L -87.407852,30.591012 L -87.407852,30.590978 L -87.407852,30.590967 L -87.40782,30.590265 L -87.407782,30.590107 L -87.407614,30.589411 L -87.407717,30.589275 L -87.408139,30.58872 L -87.408176,30.58867 L -87.408153,30.588619 L -87.408023,30.588336 L -87.408017,30.588323 L -87.4075,30.58815 L -87.407429,30.588126 L -87.407418,30.588122 L -87.407403,30.588089 L -87.407315,30.587896 L -87.407474,30.58759 L -87.407664,30.587475 L -87.407681,30.587465 L -87.407691,30.587459 L -87.408111,30.587203 L -87.408793,30.586325 L -87.408977,30.586202 L -87.409172,30.586071 L -87.409355,30.585853 L -87.409228,30.585455 L -87.409216,30.585447 L -87.409207,30.585441 L -87.40875,30.58514 L -87.408745,30.585132 L -87.40829,30.584376 L -87.408034,30.583947 L -87.408018,30.583701 L -87.408317,30.583545 L -87.4089,30.58331 L -87.409138,30.583044 L -87.409168,30.583011 L -87.409195,30.582324 L -87.409299,30.581987 L -87.409761,30.581571 L -87.410162,30.580961 L -87.410506,30.58074 L -87.410805,30.580622 L -87.410983,30.580363 L -87.410996,30.579845 L -87.410755,30.579496 L -87.410426,30.579587 L -87.410263,30.579834 L -87.410038,30.579886 L -87.409798,30.579732 L -87.409812,30.579395 L -87.41005,30.579044 L -87.410274,30.57894 L -87.410438,30.578797 L -87.410522,30.57851 L -87.410571,30.578343 L -87.410824,30.578148 L -87.411079,30.578057 L -87.411483,30.578055 L -87.411767,30.578003 L -87.411796,30.577795 L -87.41154,30.577395 L -87.411509,30.577123 L -87.411567,30.576747 L -87.4117,30.576345 L -87.411835,30.576319 L -87.412015,30.576396 L -87.41209,30.576538 L -87.412137,30.576913 L -87.412227,30.577069 L -87.412287,30.577133 L -87.412452,30.57712 L -87.41263,30.576705 L -87.412524,30.576485 L -87.412268,30.576149 L -87.412022,30.575864 L -87.411877,30.575697 L -87.411846,30.575709 L -87.411831,30.575575 L -87.411749,30.575359 L -87.411822,30.574879 L -87.411933,30.574246 L -87.411947,30.574169 L -87.412165,30.573765 L -87.412191,30.573716 L -87.412357,30.573581 L -87.412373,30.573566 L -87.412388,30.573565 L -87.412404,30.573552 L -87.412435,30.573528 L -87.412476,30.573497 L -87.412509,30.573472 L -87.412552,30.573438 L -87.412608,30.573406 L -87.412636,30.57339 L -87.412797,30.573299 L -87.413105,30.573012 L -87.413392,30.572946 L -87.413691,30.573038 L -87.41381,30.573444 L -87.413928,30.573563 L -87.414142,30.573618 L -87.414279,30.573313 L -87.414405,30.572777 L -87.414532,30.572509 L -87.414927,30.572619 L -87.415216,30.572756 L -87.415716,30.572671 L -87.416099,30.572375 L -87.416364,30.57195 L -87.416298,30.571553 L -87.416201,30.571147 L -87.416288,30.570974 L -87.416402,30.57075 L -87.416508,30.570611 L -87.416646,30.570638 L -87.416871,30.570757 L -87.417137,30.570692 L -87.417179,30.570378 L -87.417049,30.570111 L -87.417155,30.569898 L -87.417591,30.569839 L -87.417709,30.569823 L -87.417998,30.570034 L -87.41818,30.570181 L -87.418383,30.570273 L -87.418521,30.570134 L -87.418392,30.569756 L -87.418182,30.569415 L -87.417786,30.569066 L -87.417572,30.568928 L -87.417475,30.568707 L -87.417474,30.568476 L -87.417462,30.568153 L -87.417323,30.568006 L -87.417003,30.567988 L -87.416715,30.568045 L -87.416597,30.567906 L -87.416628,30.567565 L -87.416665,30.567441 L -87.416754,30.567149 L -87.416721,30.566808 L -87.41656,30.566559 L -87.416148,30.566293 L -87.416137,30.566145 L -87.416403,30.566034 L -87.416828,30.565838 L -87.417104,30.565533 L -87.417295,30.565246 L -87.417295,30.565117 L -87.417378,30.564674 L -87.417591,30.564489 L -87.41774,30.564617 L -87.417837,30.564848 L -87.417966,30.56505 L -87.418308,30.565105 L -87.418467,30.564809 L -87.41822,30.564422 L -87.417983,30.56398 L -87.418046,30.563693 L -87.4183,30.563268 L -87.418326,30.563028 L -87.418186,30.562715 L -87.417928,30.562402 L -87.417917,30.562254 L -87.418012,30.562106 L -87.418268,30.562105 L -87.418545,30.561994 L -87.41898,30.561475 L -87.419214,30.561327 L -87.419598,30.561307 L -87.419938,30.561057 L -87.420501,30.560621 L -87.420713,30.560545 L -87.420926,30.560527 L -87.421072,30.560549 L -87.421165,30.560647 L -87.421252,30.56079 L -87.421352,30.560905 L -87.421439,30.560979 L -87.421539,30.561024 L -87.421598,30.56103 L -87.421698,30.56099 L -87.421769,30.560668 L -87.421788,30.560334 L -87.421913,30.560127 L -87.422086,30.560115 L -87.422206,30.560195 L -87.422187,30.560488 L -87.422195,30.560764 L -87.422355,30.56097 L -87.422575,30.56113 L -87.422755,30.561279 L -87.422895,30.561428 L -87.423008,30.561491 L -87.423127,30.561485 L -87.423239,30.561278 L -87.423244,30.560875 L -87.42337,30.560835 L -87.423536,30.560909 L -87.423663,30.561006 L -87.423975,30.560959 L -87.424053,30.560775 L -87.423886,30.560488 L -87.423918,30.560276 L -87.424076,30.559879 L -87.424195,30.559712 L -87.424341,30.559631 L -87.424586,30.559676 L -87.424719,30.559733 L -87.424773,30.559854 L -87.42476,30.559974 L -87.425107,30.560358 L -87.425359,30.560311 L -87.425662,30.559782 L -87.425773,30.559276 L -87.426071,30.559108 L -87.426316,30.558964 L -87.426448,30.558774 L -87.426405,30.558293 L -87.426357,30.557872 L -87.426396,30.557493 L -87.425937,30.557426 L -87.425658,30.557289 L -87.425636,30.55691 L -87.426053,30.556477 L -87.42629,30.556149 L -87.426489,30.556148 L -87.426549,30.556217 L -87.42671,30.556613 L -87.426791,30.556785 L -87.42689,30.556785 L -87.42701,30.55675 L -87.427244,30.555732 L -87.427203,30.555474 L -87.427024,30.555354 L -87.427002,30.555044 L -87.42716,30.554785 L -87.427298,30.554285 L -87.427554,30.553681 L -87.428129,30.553093 L -87.428545,30.552626 L -87.428883,30.552453 L -87.429437,30.551744 L -87.43039,30.55119 L -87.430708,30.550947 L -87.430825,30.550499 L -87.430924,30.550274 L -87.431182,30.550015 L -87.431858,30.549772 L -87.433051,30.549578 L -87.434883,30.549434 L -87.43512,30.549089 L -87.435039,30.54871 L -87.434897,30.548107 L -87.434906,30.547866 L -87.435203,30.547641 L -87.435361,30.547382 L -87.43538,30.547054 L -87.435079,30.546555 L -87.435078,30.5464 L -87.435178,30.546348 L -87.435241,30.546321 L -87.435266,30.54631 L -87.435337,30.546279 L -87.435735,30.546295 L -87.435992,30.545932 L -87.436209,30.545518 L -87.436148,30.545156 L -87.436147,30.544949 L -87.436246,30.544932 L -87.436465,30.544914 L -87.436663,30.54462 L -87.436642,30.544224 L -87.43672,30.543913 L -87.436739,30.543689 L -87.436619,30.543689 L -87.436342,30.544087 L -87.435904,30.544037 L -87.435506,30.543986 L -87.435346,30.543883 L -87.435305,30.543728 L -87.435305,30.543677 L -87.435345,30.54359 L -87.435403,30.54328 L -87.435321,30.542867 L -87.43544,30.542711 L -87.435679,30.542659 L -87.435978,30.542864 L -87.436218,30.54295 L -87.436417,30.543001 L -87.436755,30.54281 L -87.436793,30.542517 L -87.43719,30.542188 L -87.437428,30.541998 L -87.437387,30.541757 L -87.43673,30.54169 L -87.436491,30.541639 L -87.436391,30.541536 L -87.43637,30.541329 L -87.436667,30.541087 L -87.436785,30.540725 L -87.436823,30.540242 L -87.436982,30.540155 L -87.43728,30.540137 L -87.437659,30.540136 L -87.437917,30.540066 L -87.438156,30.5401 L -87.438276,30.540289 L -87.438336,30.54034 L -87.438555,30.540253 L -87.438872,30.539873 L -87.439248,30.539389 L -87.439467,30.539371 L -87.439646,30.539423 L -87.439667,30.53956 L -87.439608,30.539853 L -87.43955,30.540078 L -87.43957,30.540233 L -87.43975,30.540301 L -87.440027,30.53999 L -87.440403,30.539386 L -87.4406,30.538954 L -87.440539,30.538678 L -87.44024,30.538524 L -87.439921,30.538439 L -87.43986,30.538284 L -87.439859,30.538112 L -87.440177,30.537956 L -87.440615,30.537782 L -87.441012,30.53766 L -87.44137,30.53759 L -87.441569,30.537451 L -87.441567,30.537089 L -87.441148,30.536798 L -87.440848,30.536644 L -87.440791,30.536484 L -87.440768,30.53642 L -87.440746,30.536041 L -87.440702,30.535007 L -87.440378,30.533888 L -87.440373,30.533855 L -87.440255,30.533061 L -87.440233,30.532562 L -87.440331,30.53232 L -87.440598,30.53194 L -87.440577,30.531595 L -87.440277,30.531338 L -87.439858,30.531219 L -87.43946,30.531151 L -87.43914,30.530842 L -87.438919,30.530463 L -87.438899,30.530395 L -87.438958,30.530291 L -87.439495,30.530168 L -87.440469,30.529821 L -87.441185,30.529749 L -87.441703,30.529747 L -87.441942,30.529867 L -87.442043,30.530143 L -87.441986,30.530608 L -87.441968,30.531056 L -87.442547,30.531451 L -87.443165,30.53169 L -87.443901,30.531481 L -87.444197,30.530928 L -87.444194,30.530273 L -87.443815,30.530068 L -87.443317,30.530052 L -87.442899,30.530088 L -87.44264,30.529968 L -87.442619,30.529762 L -87.443074,30.529088 L -87.44337,30.528673 L -87.443647,30.528138 L -87.444143,30.527843 L -87.444402,30.527843 L -87.444443,30.528222 L -87.444545,30.528738 L -87.444725,30.528893 L -87.445103,30.528909 L -87.445678,30.528286 L -87.445913,30.527372 L -87.44625,30.527199 L -87.446649,30.527214 L -87.446828,30.527283 L -87.447187,30.52735 L -87.447465,30.52735 L -87.447723,30.52709 L -87.44798,30.526607 L -87.448205,30.525514 L -87.448183,30.525296 L -87.448152,30.525158 L -87.448135,30.525081 L -87.447971,30.524945 L -87.447655,30.524897 L -87.447238,30.524942 L -87.447035,30.525006 L -87.446923,30.525187 L -87.447111,30.525563 L -87.447265,30.525929 L -87.447266,30.526173 L -87.447165,30.526354 L -87.446974,30.526457 L -87.445998,30.526377 L -87.445664,30.526237 L -87.445353,30.525969 L -87.445205,30.525711 L -87.445119,30.525433 L -87.445049,30.525047 L -87.444948,30.524871 L -87.444856,30.524711 L -87.444646,30.524492 L -87.444077,30.524207 L -87.443806,30.523948 L -87.443788,30.523626 L -87.443923,30.523567 L -87.444262,30.523609 L -87.444669,30.523755 L -87.445075,30.523856 L -87.44629,30.523148 L -87.447066,30.522541 L -87.4471,30.522516 L -87.447207,30.522198 L -87.447283,30.521973 L -87.447145,30.521256 L -87.446413,30.520379 L -87.446021,30.519721 L -87.445881,30.518667 L -87.445726,30.518184 L -87.445453,30.517672 L -87.445569,30.517086 L -87.44572,30.516895 L -87.446127,30.516967 L -87.446499,30.516995 L -87.446904,30.516774 L -87.447173,30.516407 L -87.447271,30.515601 L -87.447268,30.515044 L -87.446962,30.514649 L -87.446759,30.514606 L -87.446404,30.514754 L -87.445815,30.515386 L -87.444986,30.515491 L -87.444562,30.515331 L -87.444425,30.514907 L -87.444524,30.514248 L -87.444953,30.513763 L -87.445629,30.513658 L -87.446678,30.513654 L -87.447322,30.513872 L -87.448019,30.514602 L -87.448529,30.515054 L -87.449122,30.515301 L -87.449782,30.515226 L -87.450024,30.514912 L -87.450371,30.514462 L -87.449892,30.51447 L -87.44984,30.514471 L -87.449766,30.514472 L -87.449032,30.51422 L -87.448355,30.51374 L -87.447927,30.513057 L -87.447935,30.512978 L -87.447978,30.512564 L -87.447914,30.511821 L -87.447878,30.511031 L -87.447866,30.510991 L -87.44786,30.51097 L -87.447801,30.51078 L -87.447785,30.510728 L -87.447726,30.510534 L -87.447721,30.510517 L -87.447717,30.510505 L -87.447702,30.510458 L -87.44766,30.510416 L -87.447651,30.510407 L -87.447345,30.510098 L -87.447281,30.510033 L -87.447191,30.509943 L -87.447173,30.509925 L -87.446477,30.509456 L -87.446069,30.508867 L -87.445057,30.508196 L -87.444714,30.507494 L -87.443925,30.507203 L -87.44322,30.506782 L -87.442928,30.506778 L -87.442903,30.506778 L -87.442421,30.506773 L -87.441902,30.506724 L -87.441139,30.506651 L -87.440386,30.506626 L -87.43969,30.506649 L -87.439198,30.506237 L -87.438845,30.505841 L -87.438269,30.505357 L -87.437676,30.50463 L -87.437175,30.503726 L -87.436712,30.502983 L -87.436509,30.502453 L -87.436162,30.502206 L -87.435866,30.502004 L -87.435262,30.501466 L -87.43465,30.500536 L -87.434549,30.500314 L -87.434518,30.500245 L -87.433978,30.499595 L -87.433878,30.499495 L -87.433678,30.499395 L -87.433478,30.499295 L -87.433128,30.499225 L -87.432978,30.499195 L -87.432478,30.499095 L -87.431978,30.498995 L -87.431578,30.498795 L -87.431021,30.498331 L -87.430978,30.498295 L -87.430878,30.498095 L -87.430678,30.497595 L -87.430578,30.497195 L -87.430478,30.496595 L -87.430978,30.496095 L -87.430999,30.496064 L -87.431178,30.495795 L -87.431678,30.494895 L -87.431778,30.494595 L -87.431823,30.494196 L -87.431878,30.493696 L -87.431778,30.493396 L -87.431678,30.492896 L -87.431568,30.492731 L -87.431478,30.492596 L -87.431278,30.492096 L -87.431078,30.491796 L -87.430778,30.491496 L -87.430732,30.491404 L -87.430578,30.491096 L -87.430278,30.490796 L -87.429978,30.490696 L -87.429878,30.490696 L -87.429869,30.490687 L -87.429778,30.490596 L -87.429378,30.490296 L -87.429104,30.490205 L -87.429078,30.490196 L -87.42898,30.490095 L -87.428954,30.490069 L -87.428578,30.489696 L -87.428502,30.489545 L -87.428477,30.489496 L -87.428438,30.489378 L -87.428378,30.489196 L -87.428378,30.489096 L -87.428378,30.489033 L -87.428378,30.488892 L -87.428378,30.488751 L -87.428378,30.488696 L -87.428378,30.488496 L -87.428459,30.488333 L -87.428578,30.488096 L -87.428778,30.487796 L -87.428978,30.487596 L -87.429096,30.487478 L -87.429178,30.487396 L -87.429258,30.487397 L -87.429578,30.487396 L -87.429778,30.487396 L -87.430038,30.487507 L -87.430478,30.487696 L -87.430494,30.4877 L -87.430878,30.487796 L -87.431478,30.488096 L -87.432078,30.488196 L -87.43287,30.488196 L -87.433178,30.488196 L -87.433578,30.487996 L -87.433665,30.487909 L -87.433878,30.487696 L -87.434041,30.487288 L -87.434078,30.487196 L -87.433971,30.486982 L -87.433778,30.486596 L -87.433678,30.486296 L -87.433178,30.485496 L -87.432978,30.484896 L -87.432878,30.484296 L -87.432978,30.484096 L -87.433126,30.48385 L -87.433278,30.483596 L -87.433378,30.483296 L -87.434078,30.482396 L -87.434078,30.482196 L -87.434278,30.481996 L -87.434378,30.481996 L -87.434468,30.481996 L -87.434578,30.481996 L -87.434794,30.481888 L -87.434978,30.481796 L -87.435178,30.481596 L -87.435228,30.481496 L -87.435277,30.481395 L -87.435478,30.481096 L -87.435478,30.480896 L -87.435578,30.480496 L -87.435278,30.479896 L -87.434778,30.479296 L -87.434678,30.479196 L -87.434278,30.478896 L -87.433978,30.478796 L -87.433778,30.478696 L -87.433678,30.478596 L -87.432878,30.478296 L -87.432578,30.478196 L -87.431978,30.477896 L -87.431578,30.477696 L -87.431278,30.477296 L -87.430978,30.477096 L -87.430578,30.476596 L -87.430478,30.476396 L -87.430317,30.475834 L -87.430278,30.475696 L -87.430178,30.475196 L -87.430178,30.474296 L -87.430178,30.474096 L -87.430178,30.473096 L -87.430178,30.472815 L -87.430178,30.472696 L -87.430078,30.471996 L -87.429878,30.471596 L -87.429878,30.471396 L -87.429778,30.471096 L -87.429578,30.470596 L -87.429378,30.470396 L -87.428878,30.469796 L -87.428578,30.469396 L -87.42804,30.468769 L -87.427978,30.468696 L -87.427778,30.468396 L -87.427278,30.467796 L -87.427078,30.467496 L -87.426778,30.467296 L -87.426678,30.467196 L -87.426078,30.466596 L -87.425778,30.466296 L -87.425278,30.465796 L -87.425078,30.465596 L -87.424578,30.465196 L -87.424278,30.464896 L -87.423996,30.464662 L -87.423678,30.464396 L -87.423578,30.464296 L -87.422678,30.463596 L -87.422178,30.463196 L -87.421478,30.462796 L -87.421178,30.462696 L -87.420378,30.462396 L -87.419878,30.462196 L -87.419078,30.461896 L -87.418678,30.461596 L -87.417777,30.461096 L -87.417677,30.460896 L -87.416877,30.459896 L -87.416777,30.459896 L -87.416677,30.459696 L -87.416377,30.459396 L -87.415977,30.458896 L -87.415977,30.458696 L -87.415677,30.458196 L -87.415477,30.458096 L -87.41493,30.457549 L -87.41492,30.457539 L -87.414877,30.457496 L -87.414677,30.457296 L -87.414477,30.457296 L -87.413838,30.457022 L -87.413777,30.456996 L -87.413477,30.456996 L -87.413077,30.456896 L -87.412477,30.456896 L -87.411977,30.456896 L -87.411077,30.456896 L -87.410577,30.456896 L -87.409277,30.456796 L -87.408677,30.456696 L -87.407877,30.456396 L -87.407677,30.456297 L -87.406977,30.455697 L -87.406677,30.455397 L -87.406177,30.454897 L -87.405977,30.454597 L -87.405477,30.453997 L -87.405277,30.453697 L -87.404877,30.453097 L -87.404677,30.452897 L -87.404313,30.452715 L -87.404303,30.45271 L -87.404277,30.452697 L -87.403877,30.452497 L -87.403177,30.452297 L -87.402777,30.452097 L -87.401677,30.451697 L -87.401077,30.451497 L -87.400077,30.451097 L -87.399877,30.450997 L -87.399777,30.450997 L -87.399577,30.450897 L -87.398877,30.450797 L -87.398577,30.450697 L -87.397977,30.450597 L -87.397777,30.450597 L -87.39711,30.450597 L -87.397027,30.450597 L -87.396877,30.450597 L -87.396477,30.450697 L -87.395377,30.450997 L -87.395077,30.451097 L -87.394177,30.451397 L -87.393877,30.451397 L -87.393477,30.451497 L -87.393077,30.451597 L -87.392276,30.451597 L -87.391976,30.451597 L -87.391276,30.451497 L -87.390776,30.451297 L -87.389976,30.451197 L -87.389776,30.451097 L -87.388876,30.450797 L -87.388476,30.450597 L -87.387876,30.450397 L -87.387776,30.450397 L -87.386905,30.450397 L -87.386776,30.450397 L -87.386376,30.450397 L -87.386309,30.450397 L -87.385776,30.450397 L -87.385676,30.450397 L -87.385376,30.450397 L -87.385176,30.450397 L -87.384576,30.450297 L -87.384376,30.450297 L -87.383576,30.450197 L -87.382976,30.450097 L -87.382176,30.450097 L -87.381876,30.450097 L -87.381476,30.450097 L -87.381176,30.450097 L -87.380376,30.449897 L -87.379976,30.449897 L -87.379476,30.449697 L -87.379176,30.449697 L -87.378676,30.449597 L -87.378276,30.449397 L -87.37821,30.449383 L -87.377776,30.449297 L -87.377676,30.449297 L -87.377076,30.449097 L -87.376676,30.448997 L -87.375876,30.448797 L -87.375576,30.448697 L -87.375076,30.448597 L -87.375001,30.448559 L -87.374976,30.448547 L -87.374976,30.448465 L -87.370768,30.446865 L -87.36868,30.444631 L -87.366939,30.44048 L -87.366591,30.436648 L -87.367441,30.434495 L -87.368191,30.433407 L -87.369383,30.431948 L -87.371169,30.43049 L -87.37315,30.429397 L -87.374976,30.428302 L -87.374976,30.428347 L -87.375076,30.428197 L -87.375276,30.428097 L -87.375376,30.427997 L -87.376176,30.427297 L -87.376476,30.427097 L -87.377276,30.426397 L -87.377576,30.426097 L -87.378376,30.425397 L -87.378676,30.425197 L -87.380076,30.424297 L -87.380876,30.423797 L -87.382076,30.422897 L -87.382576,30.422597 L -87.383376,30.422097 L -87.383876,30.421897 L -87.384348,30.421613 L -87.384876,30.421297 L -87.385476,30.420997 L -87.386376,30.420497 L -87.386776,30.420397 L -87.387676,30.420097 L -87.388076,30.419997 L -87.389076,30.419697 L -87.389476,30.419597 L -87.390276,30.419297 L -87.390576,30.419197 L -87.392576,30.418697 L -87.393176,30.418497 L -87.393976,30.418297 L -87.394576,30.418097 L -87.395676,30.417597 L -87.396276,30.417197 L -87.397376,30.416298 L -87.397676,30.415998 L -87.398476,30.415498 L -87.398776,30.415098 L -87.400277,30.413498 L -87.400377,30.413398 L -87.400477,30.413198 L -87.400577,30.412898 L -87.400977,30.412298 L -87.401277,30.411998 L -87.401777,30.411398 L -87.402277,30.410998 L -87.402777,30.410598 L -87.402977,30.410398 L -87.403477,30.410198 L -87.404777,30.409598 L -87.405277,30.409498 L -87.405677,30.409398 L -87.406077,30.409198 L -87.406477,30.409198 L -87.407377,30.408998 L -87.407777,30.408898 L -87.408477,30.408898 L -87.408877,30.408798 L -87.409377,30.408798 L -87.409577,30.408798 L -87.410377,30.408798 L -87.410677,30.408798 L -87.411077,30.408798 L -87.411477,30.408798 L -87.412177,30.408898 L -87.412477,30.408898 L -87.413177,30.408998 L -87.413577,30.408998 L -87.414177,30.409198 L -87.414577,30.409298 L -87.415277,30.409398 L -87.415677,30.409498 L -87.416677,30.409698 L -87.417177,30.409898 L -87.417677,30.409998 L -87.417977,30.409998 L -87.418377,30.410098 L -87.418577,30.410098 L -87.419177,30.410198 L -87.419477,30.410198 L -87.420177,30.410198 L -87.420577,30.410198 L -87.421177,30.410198 L -87.421577,30.410198 L -87.422277,30.410098 L -87.422677,30.410098 L -87.423277,30.409998 L -87.423677,30.409898 L -87.424377,30.409798 L -87.424477,30.409698 L -87.424777,30.409598 L -87.424977,30.409598 L -87.425077,30.409498 L -87.425577,30.409398 L -87.425877,30.409298 L -87.426177,30.409198 L -87.426377,30.409098 L -87.426777,30.408798 L -87.426877,30.408798 L -87.427478,30.408398 L -87.427778,30.408098 L -87.428378,30.407598 L -87.429478,30.406598 L -87.429578,30.406498 L -87.429778,30.406198 L -87.430178,30.405698 L -87.430578,30.405198 L -87.430794,30.404909 L -87.430878,30.404798 L -87.431278,30.404098 L -87.431378,30.403798 L -87.431778,30.403198 L -87.431878,30.402998 L -87.432078,30.402398 L -87.432278,30.402098 L -87.432878,30.400898 L -87.432978,30.400398 L -87.433278,30.399398 L -87.433478,30.398898 L -87.434078,30.397798 L -87.434278,30.397498 L -87.434578,30.397298 L -87.434678,30.397198 L -87.435478,30.396898 L -87.435978,30.396598 L -87.436878,30.396198 L -87.437278,30.395898 L -87.438078,30.395098 L -87.438578,30.394598 L -87.439478,30.393498 L -87.439878,30.392798 L -87.440678,30.391498 L -87.440778,30.390998 L -87.441078,30.389998 L -87.441078,30.389798 L -87.441078,30.388998 L -87.441178,30.388598 L -87.441078,30.387998 L -87.441078,30.387698 L -87.440878,30.386698 L -87.440678,30.386098 L -87.440278,30.384898 L -87.440178,30.384598 L -87.439878,30.384198 L -87.439778,30.383898 L -87.439378,30.383298 L -87.439078,30.382898 L -87.438678,30.382098 L -87.438478,30.381798 L -87.438478,30.381398 L -87.438478,30.381198 L -87.438578,30.380998 L -87.438678,30.380798 L -87.439078,30.380198 L -87.439378,30.379898 L -87.439878,30.378899 L -87.439978,30.378799 L -87.440578,30.377999 L -87.440878,30.377599 L -87.441378,30.376899 L -87.441535,30.376663 L -87.441578,30.376599 L -87.44166,30.376499 L -87.441823,30.376304 L -87.442884,30.375199 L -87.443478,30.375099 L -87.443678,30.374799 L -87.444078,30.374399 L -87.444278,30.374099 L -87.444978,30.373699 L -87.445478,30.373299 L -87.445978,30.372899 L -87.446178,30.372699 L -87.446578,30.372299 L -87.446978,30.371999 L -87.447378,30.371699 L -87.447678,30.371499 L -87.447978,30.371199 L -87.448478,30.370899 L -87.448778,30.370599 L -87.449078,30.370399 L -87.449378,30.370099 L -87.449778,30.369599 L -87.449978,30.369299 L -87.450178,30.368799 L -87.451378,30.367199 L -87.451378,30.366999 L -87.451478,30.366699 L -87.451778,30.365899 L -87.451878,30.364999 L -87.451778,30.364599 L -87.451778,30.363999 L -87.451878,30.363399 L -87.451978,30.362499 L -87.452078,30.361899 L -87.451978,30.361099 L -87.451978,30.360299 L -87.451978,30.359799 L -87.451978,30.359199 L -87.451878,30.358299 L -87.451778,30.357499 L -87.451778,30.356699 L -87.451578,30.355899 L -87.451378,30.354899 L -87.451278,30.353999 L -87.451178,30.353399 L -87.451178,30.352899 L -87.451178,30.352499 L -87.451078,30.351899 L -87.451078,30.351499 L -87.451078,30.350999 L -87.451078,30.350099 L -87.451078,30.349499 L -87.450978,30.348799 L -87.450978,30.347999 L -87.450878,30.347599 L -87.450778,30.346999 L -87.450878,30.346599 L -87.450962,30.346262 L -87.450978,30.346199 L -87.451078,30.345599 L -87.451378,30.345299 L -87.451578,30.344999 L -87.451978,30.344499 L -87.452278,30.344099 L -87.452978,30.343499 L -87.453378,30.343099 L -87.453678,30.342899 L -87.453678,30.3428 L -87.453778,30.3428 L -87.454178,30.3424 L -87.454478,30.3421 L -87.454978,30.3416 L -87.455378,30.3412 L -87.455778,30.3407 L -87.456278,30.3402 L -87.456878,30.3397 L -87.457278,30.3392 L -87.457678,30.3388 L -87.458078,30.3384 L -87.458478,30.3379 L -87.458878,30.3375 L -87.459278,30.337 L -87.459678,30.3366 L -87.459978,30.3363 L -87.460378,30.336 L -87.460778,30.3356 L -87.461078,30.3353 L -87.461278,30.3352 L -87.462978,30.334 L -87.463129,30.333949 L -87.463278,30.3339 L -87.463778,30.3337 L -87.464057,30.333606 L -87.464378,30.3335 L -87.464878,30.3333 L -87.465478,30.3332 L -87.466279,30.333 L -87.467079,30.3329 L -87.467261,30.332827 L -87.467579,30.3327 L -87.468079,30.3326 L -87.468779,30.3324 L -87.469479,30.3323 L -87.470079,30.3322 L -87.470879,30.332 L -87.471879,30.3318 L -87.472679,30.3317 L -87.473579,30.3316 L -87.474779,30.3315 L -87.475579,30.3314 L -87.476279,30.3314 L -87.476879,30.3313 L -87.477479,30.3313 L -87.478579,30.3312 L -87.479479,30.3312 L -87.479998,30.331113 L -87.480079,30.3311 L -87.480879,30.3311 L -87.481679,30.3311 L -87.482779,30.3311 L -87.483579,30.3311 L -87.484679,30.3311 L -87.485879,30.3311 L -87.486679,30.3311 L -87.487479,30.331 L -87.487779,30.331 L -87.488379,30.3311 L -87.489079,30.3311 L -87.489979,30.3311 L -87.490879,30.331 L -87.491879,30.3309 L -87.492045,30.330872 L -87.49248,30.3308 L -87.49308,30.3306 L -87.49358,30.3306 L -87.49418,30.3304 L -87.49488,30.3302 L -87.49588,30.33 L -87.49728,30.3297 L -87.49818,30.3295 L -87.49868,30.3293 L -87.49928,30.3291 L -87.49978,30.3289 L -87.49998,30.328957 L -87.502572,30.327405 L -87.504701,30.324039 L -87.505943,30.319396 L -87.50581,30.315086 L -87.50588,30.3139 L -87.50578,30.3125 L -87.50558,30.3111 L -87.50518,30.309901 L -87.50468,30.308901 L -87.50388,30.308001 L -87.50348,30.307601 L -87.50278,30.307301 L -87.502307,30.307143 L -87.50218,30.307101 L -87.50168,30.306901 L -87.50098,30.306801 L -87.49998,30.306451 L -87.49998,30.306201 L -87.49988,30.306201 L -87.49958,30.306201 L -87.49928,30.306201 L -87.49918,30.306201 L -87.49898,30.306201 L -87.49878,30.306301 L -87.49838,30.306301 L -87.49798,30.306201 L -87.49768,30.306101 L -87.49738,30.305901 L -87.49718,30.305801 L -87.49678,30.305701 L -87.49648,30.305601 L -87.49598,30.305401 L -87.49558,30.305301 L -87.495179,30.305101 L -87.494879,30.305001 L -87.494379,30.305001 L -87.494079,30.304901 L -87.493379,30.304901 L -87.492879,30.304901 L -87.492479,30.304901 L -87.491979,30.304801 L -87.491279,30.304901 L -87.490679,30.304901 L -87.489879,30.304901 L -87.489179,30.304901 L -87.488679,30.304801 L -87.488179,30.304801 L -87.487379,30.305001 L -87.486979,30.305101 L -87.486379,30.305101 L -87.48624,30.305101 L -87.486047,30.305101 L -87.485679,30.305101 L -87.485179,30.305001 L -87.484779,30.304901 L -87.484179,30.304901 L -87.483779,30.304801 L -87.483679,30.304801 L -87.481879,30.306001 L -87.481579,30.306201 L -87.481379,30.306401 L -87.480879,30.306601 L -87.480579,30.306701 L -87.480279,30.306801 L -87.479579,30.306801 L -87.478879,30.306801 L -87.478479,30.306901 L -87.477879,30.306901 L -87.477179,30.307201 L -87.476579,30.307501 L -87.476279,30.307701 L -87.475879,30.3079 L -87.475279,30.308 L -87.474479,30.308 L -87.473979,30.308 L -87.473479,30.308 L -87.472579,30.308 L -87.471779,30.3079 L -87.471279,30.3079 L -87.470679,30.3079 L -87.469779,30.308 L -87.469178,30.3082 L -87.468678,30.3082 L -87.468178,30.3081 L -87.467778,30.3079 L -87.467378,30.3078 L -87.467178,30.3078 L -87.466578,30.3078 L -87.466178,30.3078 L -87.465878,30.3077 L -87.465778,30.3076 L -87.465078,30.3076 L -87.464278,30.3077 L -87.463778,30.3078 L -87.462978,30.3078 L -87.462478,30.3079 L -87.461878,30.308 L -87.460978,30.3081 L -87.460278,30.3082 L -87.459578,30.3083 L -87.459178,30.3085 L -87.458778,30.3086 L -87.458278,30.3088 L -87.457778,30.3091 L -87.457178,30.3093 L -87.456878,30.3095 L -87.456478,30.3098 L -87.455878,30.3101 L -87.455578,30.3102 L -87.454978,30.3103 L -87.454378,30.3103 L -87.453878,30.3102 L -87.453178,30.3104 L -87.452678,30.3104 L -87.452278,30.3106 L -87.451678,30.3108 L -87.451178,30.3109 L -87.450778,30.3111 L -87.450278,30.3111 L -87.450078,30.3111 L -87.451126,30.306136 L -87.451131,30.306109 L -87.451134,30.306097 L -87.451151,30.306014 L -87.452378,30.300201 L -87.49274,30.289772 L -87.49998,30.287901 L -87.500003,30.287905 L -87.50108,30.288101 L -87.50198,30.288001 L -87.50368,30.287501 L -87.50548,30.287101 L -87.50738,30.286501 L -87.50888,30.286101 L -87.51048,30.285801 L -87.511707,30.285635 L -87.511917,30.285606 L -87.512029,30.285568 L -87.51458,30.284701 L -87.515091,30.284593 L -87.51838,30.283901 L -87.518381,30.282934 L -87.518383,30.282375 L -87.518383,30.282356 L -87.518383,30.28232 L -87.518383,30.282257 L -87.518383,30.282159 L -87.518383,30.282141 L -87.518383,30.282131 L -87.518384,30.282084 L -87.518384,30.282029 L -87.518386,30.281586 L -87.518386,30.281562 L -87.518386,30.280649 L -87.518324,30.280442 L -87.518325,30.280206 L -87.518331,30.278649 L -87.518339,30.276998 L -87.518381,30.267658 L -87.518426,30.2578 L -87.518446,30.253301 L -87.51846,30.250202 L -87.518459,30.250001 L -87.518404,30.240119 L -87.518372,30.23424 L -87.518346,30.229506 L -87.567041,30.219342 L -87.574101,30.21771 L -87.599541,30.21183 L -87.624981,30.205949 L -87.62502,30.20594 L -87.647824,30.199211 L -87.660348,30.198179 L -87.681539,30.196433 L -87.683638,30.196164 L -87.69421,30.194809 L -87.718002,30.19176 L -87.74438,30.18747 L -87.749987,30.186558 L -87.771293,30.18288 L -87.797196,30.178906 L -87.807153,30.177378 L -87.811263,30.177326 L -87.831673,30.177068 L -87.83742,30.176995 L -87.874991,30.177193 L -87.925756,30.179561 L -87.955653,30.178343 L -87.971709,30.176738 L -87.98088,30.176521 L -87.980893,30.176518 L -87.981041,30.176485 L -87.983766,30.176874 L -87.98646,30.1776 L -87.987409,30.17789 L -87.990422,30.177018 L -87.993755,30.176146 L -87.997242,30.17513 L -87.999992,30.174548 L -87.999986,30.174577 L -88.000009,30.174573 L -88.003618,30.173417 L -88.006043,30.169733 L -88.009797,30.164172 L -88.014159,30.160059 L -88.020247,30.155601 L -88.02077,30.155218 L -88.028037,30.150381 L -88.036729,30.146693 L -88.037309,30.146561 L -88.041494,30.145608 L -88.046104,30.144689 L -88.057092,30.144441 L -88.060689,30.144425 L -88.069189,30.146012 L -88.074869,30.147149 L -88.080347,30.149562 L -88.086944,30.152484 L -88.09022,30.154516 L -88.092761,30.156343 L -88.09911,30.162088 L -88.103417,30.166377 L -88.106743,30.16656 L -88.109178,30.166974 L -88.112505,30.167225 L -88.115597,30.167743 L -88.118146,30.168527 L -88.121622,30.169618 L -88.124999,30.170472 L -88.128498,30.172078 L -88.13161,30.173621 L -88.134107,30.175414 L -88.138374,30.177973 L -88.141155,30.180229 L -88.143459,30.18206 L -88.145387,30.184369 L -88.146191,30.185359 L -88.149191,30.187039 L -88.151974,30.189296 L -88.15348,30.190371 L -88.157631,30.194377 L -88.161198,30.198364 L -88.161742,30.199505 L -88.162022,30.200093 L -88.162043,30.20009 L -88.162628,30.200019 L -88.167489,30.19943 L -88.175636,30.198639 L -88.184979,30.19745 L -88.191605,30.19649 L -88.199078,30.195209 L -88.205006,30.194366 L -88.210003,30.193612 L -88.216311,30.192423 L -88.234364,30.188372 L -88.250002,30.184644 L -88.253372,30.184147 L -88.266593,30.181704 L -88.277939,30.180071 L -88.291192,30.178835 L -88.303023,30.177962 L -88.310302,30.177816 L -88.31932,30.178945 L -88.324934,30.180242 L -88.331307,30.182296 L -88.338042,30.184846 L -88.343781,30.187818 L -88.347719,30.190088 L -88.34994,30.186384 L -88.353814,30.180901 L -88.359756,30.174536 L -88.364753,30.170405 L -88.371163,30.165608 L -88.375006,30.163946 L -88.38112,30.160336 L -88.384431,30.158543 L -88.385779,30.182243 L -88.386516,30.198254 L -88.387098,30.210915 L -88.387218,30.213613 L -88.387662,30.2235 L -88.388859,30.250201 L -88.38988,30.269532 L -88.392143,30.312332 L -88.39216,30.312662 L -88.392163,30.312715 L -88.39327,30.335874 L -88.393787,30.34566 L -88.393991,30.349515 L -88.394062,30.350813 L -88.39415,30.352494 L -88.394168,30.352752 L -88.394297,30.354636 L -88.394626,30.361361 L -88.39468,30.362461 L -88.395023,30.369425 L -88.39536,30.375199 L -88.395498,30.377644 L -88.395636,30.38009 L -88.395667,30.380643 L -88.395698,30.381196 L -88.395704,30.381295 L -88.395705,30.381316 L -88.395782,30.382976 L -88.395859,30.384635 L -88.395876,30.385013 L -88.395893,30.385391 L -88.395918,30.385936 L -88.395944,30.386482 L -88.39608,30.389009 L -88.396086,30.3891 L -88.396099,30.389186 L -88.3961,30.389224 L -88.396147,30.39027 L -88.396152,30.390452 L -88.39622,30.391621 L -88.396341,30.393917 L -88.396665,30.399932 L -88.396671,30.400037 L -88.397722,30.419775 L -88.397725,30.4198 L -88.397747,30.420099 L -88.397844,30.421905 L -88.39797,30.424255 L -88.398045,30.425642 L -88.398193,30.428402 L -88.398572,30.435474 L -88.398665,30.437206 L -88.398604,30.437915 L -88.398848,30.443054 L -88.398856,30.443223 L -88.399606,30.458216 L -88.400048,30.466704 L -88.400229,30.470177 L -88.400347,30.472448 L -88.400353,30.472571 L -88.400355,30.472602 L -88.40047,30.474213 L -88.400488,30.474432 L -88.40049,30.474455 L -88.400618,30.476084 L -88.400623,30.476219 L -88.400884,30.483021 L -88.401543,30.500197 L -88.401792,30.503146 L -88.401833,30.503628 L -88.401921,30.504669 L -88.402278,30.510759 L -88.402283,30.510852 L -88.402417,30.513146 L -88.402422,30.513284 L -88.402546,30.516762 L -88.402638,30.519337 L -88.402667,30.519795 L -88.402758,30.520792 L -88.402787,30.520877 L -88.402854,30.520944 L -88.402905,30.521755 L -88.4029,30.521907 L -88.402897,30.521989 L -88.402829,30.522281 L -88.40284,30.522542 L -88.402879,30.523058 L -88.402879,30.52368 L -88.402879,30.523775 L -88.402891,30.524256 L -88.4029,30.524594 L -88.402888,30.524943 L -88.402942,30.525751 L -88.402966,30.526677 L -88.402987,30.526855 L -88.403407,30.53036 L -88.403429,30.530513 L -88.403429,30.530592 L -88.40342,30.530682 L -88.403429,30.530705 L -88.403428,30.531633 L -88.40338,30.532208 L -88.403372,30.532777 L -88.403368,30.533103 L -88.403356,30.533507 L -88.403343,30.534053 L -88.403338,30.534246 L -88.403324,30.534751 L -88.403306,30.534863 L -88.403264,30.534955 L -88.4032,30.534989 L -88.402855,30.53515 L -88.402691,30.535257 L -88.402615,30.535358 L -88.402605,30.535788 L -88.40262,30.536456 L -88.402629,30.537055 L -88.402632,30.537291 L -88.402654,30.538074 L -88.402632,30.538409 L -88.402642,30.538743 L -88.402637,30.538948 L -88.402627,30.539392 L -88.402625,30.539507 L -88.402612,30.539707 L -88.402665,30.539974 L -88.402783,30.540208 L -88.402986,30.54061 L -88.403017,30.540672 L -88.403333,30.541268 L -88.403494,30.541598 L -88.403593,30.541993 L -88.403593,30.542067 L -88.403593,30.542095 L -88.403589,30.543197 L -88.403598,30.543292 L -88.403607,30.543389 L -88.403628,30.543616 L -88.403636,30.54416 L -88.403656,30.544933 L -88.403658,30.544994 L -88.403713,30.545482 L -88.403799,30.546242 L -88.403885,30.547001 L -88.404107,30.548971 L -88.404125,30.549126 L -88.404175,30.549573 L -88.40418,30.549762 L -88.404283,30.550004 L -88.404332,30.550314 L -88.404517,30.551296 L -88.404597,30.551892 L -88.404796,30.552314 L -88.404962,30.552718 L -88.404992,30.552866 L -88.405072,30.553047 L -88.405239,30.553589 L -88.405341,30.553726 L -88.405366,30.553941 L -88.404874,30.554285 L -88.404727,30.554397 L -88.404677,30.554566 L -88.404723,30.555663 L -88.404747,30.556234 L -88.404783,30.556997 L -88.404792,30.55722 L -88.404796,30.557309 L -88.404801,30.55741 L -88.404714,30.557463 L -88.404459,30.557691 L -88.404424,30.557739 L -88.404391,30.557788 L -88.404169,30.558101 L -88.404119,30.55838 L -88.404175,30.559455 L -88.404177,30.559512 L -88.404239,30.559912 L -88.404286,30.560044 L -88.404341,30.560152 L -88.404458,30.560212 L -88.404585,30.560319 L -88.404617,30.560372 L -88.404877,30.560803 L -88.40524,30.561239 L -88.405368,30.561446 L -88.405433,30.561569 L -88.405442,30.562241 L -88.405498,30.56241 L -88.405508,30.562433 L -88.405563,30.562556 L -88.405647,30.562841 L -88.405677,30.563042 L -88.405727,30.563289 L -88.405682,30.563534 L -88.4057,30.563856 L -88.405743,30.563963 L -88.405773,30.5641 L -88.405819,30.564422 L -88.405885,30.564701 L -88.405986,30.56495 L -88.405877,30.565089 L -88.405819,30.565353 L -88.405718,30.566064 L -88.405631,30.566238 L -88.405461,30.566353 L -88.405193,30.566457 L -88.404988,30.566549 L -88.404934,30.566633 L -88.404946,30.567009 L -88.405013,30.567187 L -88.40513,30.573395 L -88.405176,30.574631 L -88.405189,30.575147 L -88.405195,30.575417 L -88.405251,30.577945 L -88.40529,30.578747 L -88.405391,30.581534 L -88.405478,30.582946 L -88.405542,30.583552 L -88.405944,30.586934 L -88.405977,30.587208 L -88.406034,30.587845 L -88.406095,30.588522 L -88.406104,30.588621 L -88.406201,30.589708 L -88.406343,30.592587 L -88.406348,30.592694 L -88.406437,30.594499 L -88.406538,30.596549 L -88.40657,30.597202 L -88.406811,30.602088 L -88.406823,30.602364 L -88.407042,30.607198 L -88.40706,30.607585 L -88.407115,30.608798 L -88.407125,30.609008 L -88.407234,30.611398 L -88.407332,30.613549 L -88.407332,30.613607 L -88.407338,30.613911 L -88.407261,30.615112 L -88.407093,30.617753 L -88.407053,30.618381 L -88.407049,30.618555 L -88.407075,30.61896 L -88.407092,30.61963 L -88.407093,30.619684 L -88.407103,30.61995 L -88.407169,30.62066 L -88.407241,30.621847 L -88.407264,30.622008 L -88.407316,30.622234 L -88.40733,30.622734 L -88.407322,30.623153 L -88.407341,30.623499 L -88.407338,30.623767 L -88.407359,30.624298 L -88.407423,30.624877 L -88.407435,30.625217 L -88.407468,30.625586 L -88.407469,30.625649 L -88.4075,30.627676 L -88.407491,30.628726 L -88.407483,30.6295 L -88.40742,30.629546 L -88.407381,30.629574 L -88.407121,30.629791 L -88.406978,30.629924 L -88.406919,30.630092 L -88.40692,30.630205 L -88.407005,30.630342 L -88.407085,30.630639 L -88.407221,30.63096 L -88.407336,30.631287 L -88.407452,30.631497 L -88.407504,30.631632 L -88.407523,30.631681 L -88.407706,30.632066 L -88.407742,30.632148 L -88.407793,30.632309 L -88.407826,30.632684 L -88.407827,30.632713 L -88.40784,30.633156 L -88.407869,30.633802 L -88.407892,30.634301 L -88.407908,30.634666 L -88.407956,30.635805 L -88.408013,30.636947 L -88.408165,30.639213 L -88.408181,30.63938 L -88.408191,30.639596 L -88.408336,30.642752 L -88.408469,30.645597 L -88.408647,30.649412 L -88.408665,30.649803 L -88.408726,30.656732 L -88.408875,30.659869 L -88.408908,30.660263 L -88.408765,30.660396 L -88.408712,30.660539 L -88.408694,30.660683 L -88.408793,30.660885 L -88.408905,30.661003 L -88.408923,30.661253 L -88.40892,30.661528 L -88.408966,30.661867 L -88.409044,30.661986 L -88.409074,30.662141 L -88.409163,30.664332 L -88.409197,30.664827 L -88.409253,30.66563 L -88.409406,30.668503 L -88.409429,30.668593 L -88.409442,30.668643 L -88.409485,30.669343 L -88.409522,30.670197 L -88.409572,30.671729 L -88.409599,30.67227 L -88.409664,30.673554 L -88.409672,30.673714 L -88.409761,30.675935 L -88.40977,30.676172 L -88.409833,30.677772 L -88.409861,30.678358 L -88.409901,30.679582 L -88.409943,30.680672 L -88.409995,30.682027 L -88.409998,30.682106 L -88.409997,30.682366 L -88.410061,30.682953 L -88.410148,30.685017 L -88.410158,30.685387 L -88.410182,30.686102 L -88.410195,30.686485 L -88.410215,30.686857 L -88.410228,30.687096 L -88.410256,30.687634 L -88.410295,30.688386 L -88.410326,30.689139 L -88.41033,30.689228 L -88.410336,30.689364 L -88.410355,30.689823 L -88.410404,30.691123 L -88.410424,30.691643 L -88.410436,30.691924 L -88.410485,30.693017 L -88.410514,30.694042 L -88.41052,30.69418 L -88.410539,30.694578 L -88.410586,30.69517 L -88.410611,30.695695 L -88.410683,30.696492 L -88.410695,30.696618 L -88.410716,30.696849 L -88.410727,30.697088 L -88.410778,30.69807 L -88.410786,30.699412 L -88.410787,30.69944 L -88.410803,30.699769 L -88.410839,30.700536 L -88.410861,30.701269 L -88.410889,30.701977 L -88.41089,30.702003 L -88.410909,30.702156 L -88.410931,30.70249 L -88.410965,30.704251 L -88.410978,30.704895 L -88.41098,30.704991 L -88.410983,30.705162 L -88.411006,30.705917 L -88.41101,30.706053 L -88.41101,30.706065 L -88.411025,30.706136 L -88.41104,30.706203 L -88.411047,30.706218 L -88.411086,30.706293 L -88.411123,30.706346 L -88.41117,30.706414 L -88.411238,30.706511 L -88.411349,30.70661 L -88.411542,30.712703 L -88.411499,30.712745 L -88.411424,30.712889 L -88.411376,30.713023 L -88.411374,30.713103 L -88.411368,30.713203 L -88.411389,30.713781 L -88.411405,30.71421 L -88.411476,30.71539 L -88.411609,30.717607 L -88.411646,30.718625 L -88.411655,30.719225 L -88.411661,30.719819 L -88.411699,30.721408 L -88.41171,30.721882 L -88.411726,30.722702 L -88.411741,30.723045 L -88.411765,30.723215 L -88.411767,30.723344 L -88.411854,30.724521 L -88.411871,30.724743 L -88.411891,30.725014 L -88.411969,30.726594 L -88.412049,30.727852 L -88.412091,30.728291 L -88.412093,30.728402 L -88.412116,30.729047 L -88.412128,30.729248 L -88.412174,30.730018 L -88.412178,30.730275 L -88.412189,30.730945 L -88.412264,30.731772 L -88.412569,30.735119 L -88.412612,30.73559 L -88.412803,30.740235 L -88.41281,30.740413 L -88.413006,30.745162 L -88.413032,30.74641 L -88.41332,30.754497 L -88.413323,30.754578 L -88.413356,30.755151 L -88.413352,30.755176 L -88.413448,30.757177 L -88.413454,30.757292 L -88.413694,30.762262 L -88.413698,30.762359 L -88.413957,30.768639 L -88.413975,30.769093 L -88.413993,30.769535 L -88.414528,30.779461 L -88.414759,30.784346 L -88.41482,30.785616 L -88.41482,30.785667 L -88.414838,30.785988 L -88.414863,30.786529 L -88.41497,30.788806 L -88.415031,30.790091 L -88.415035,30.790193 L -88.415207,30.793846 L -88.415209,30.793905 L -88.41521,30.793933 L -88.415371,30.797299 L -88.415568,30.801482 L -88.415994,30.810494 L -88.415996,30.810528 L -88.416547,30.82222 L -88.416568,30.822654 L -88.416571,30.82272 L -88.416573,30.82278 L -88.416599,30.823324 L -88.416611,30.823569 L -88.416756,30.826636 L -88.416768,30.826881 L -88.416779,30.827135 L -88.416825,30.828115 L -88.416919,30.830119 L -88.41706,30.833098 L -88.417103,30.834013 L -88.417149,30.834988 L -88.4172,30.836079 L -88.417369,30.83967 L -88.41738,30.839882 L -88.417391,30.840106 L -88.41744,30.84114 L -88.417446,30.841269 L -88.417514,30.842717 L -88.41752,30.842844 L -88.417623,30.845803 L -88.417626,30.845863 L -88.41767,30.846785 L -88.417678,30.846984 L -88.417685,30.847186 L -88.4177,30.84756 L -88.417705,30.847653 L -88.41773,30.848072 L -88.417738,30.848202 L -88.417919,30.851279 L -88.417925,30.851414 L -88.418135,30.855876 L -88.418162,30.856451 L -88.418188,30.857014 L -88.418204,30.857367 L -88.418206,30.857406 L -88.418211,30.857514 L -88.418208,30.857649 L -88.418217,30.857658 L -88.418229,30.85786 L -88.418229,30.857908 L -88.418231,30.858161 L -88.418232,30.858389 L -88.418232,30.8584 L -88.418237,30.858477 L -88.418243,30.858554 L -88.418243,30.858585 L -88.41825,30.858815 L -88.418251,30.858838 L -88.418266,30.859077 L -88.418278,30.859256 L -88.418417,30.861366 L -88.418427,30.861512 L -88.418432,30.861593 L -88.418442,30.861755 L -88.418448,30.861857 L -88.41845,30.8619 L -88.41846,30.862039 L -88.41847,30.862195 L -88.418474,30.862281 L -88.418477,30.862369 L -88.418481,30.862468 L -88.418471,30.862901 L -88.418472,30.862953 L -88.418485,30.86328 L -88.418632,30.866547 L -88.418632,30.86657 L -88.419562,30.875187 L -88.41957,30.875363 L -88.419867,30.881211 L -88.419877,30.88139 L -88.420202,30.887763 L -88.420206,30.887868 L -88.420426,30.892347 L -88.420429,30.892421 L -88.42068,30.897359 L -88.420688,30.897519 L -88.420701,30.897765 L -88.42073,30.898339 L -88.420762,30.898971 L -88.420944,30.902554 L -88.421608,30.91561 L -88.421611,30.915677 L -88.422042,30.924154 L -88.422044,30.924182 L -88.422089,30.925064 L -88.422134,30.925958 L -88.42225,30.928222 L -88.422453,30.932209 L -88.422692,30.936911 L -88.422746,30.937966 L -88.422751,30.938064 L -88.422755,30.938144 L -88.422767,30.938392 L -88.422773,30.938515 L -88.422826,30.939547 L -88.422834,30.939686 L -88.423074,30.944405 L -88.42308,30.944516 L -88.423221,30.947311 L -88.42323,30.947488 L -88.423237,30.947628 L -88.423265,30.948184 L -88.423427,30.951351 L -88.423436,30.951535 L -88.423502,30.95282 L -88.42351,30.952975 L -88.423642,30.955565 L -88.423804,30.958747 L -88.423889,30.960432 L -88.423973,30.96209 L -88.423995,30.962482 L -88.424152,30.965595 L -88.424178,30.966125 L -88.424225,30.967032 L -88.424242,30.967405 L -88.424215,30.971377 L -88.424329,30.97242 L -88.424494,30.975332 L -88.424612,30.976354 L -88.42461,30.977326 L -88.424847,30.981923 L -88.424836,30.982352 L -88.424836,30.982375 L -88.425003,30.986838 L -88.425051,30.988131 L -88.425186,30.991787 L -88.425277,30.994181 L -88.425282,30.994323 L -88.425309,30.995156 L -88.425318,30.995266 L -88.425323,30.99541 L -88.425432,30.998323 L -88.425729,31.000183 L -88.425807,31.00113 L -88.425794,31.00128 L -88.425935,31.003656 L -88.426546,31.013923 L -88.426549,31.014243 L -88.426558,31.015255 L -88.426566,31.015819 L -88.426574,31.016222 L -88.426588,31.017317 L -88.426726,31.019618 L -88.426743,31.019904 L -88.426832,31.021416 L -88.426849,31.021705 L -88.426865,31.021985 L -88.427492,31.032672 L -88.427677,31.035814 L -88.4279,31.039765 L -88.427925,31.04021 L -88.428396,31.048542 L -88.4284,31.048588 L -88.428552,31.05128 L -88.428718,31.053392 L -88.42904,31.057461 L -88.429051,31.057595 L -88.429275,31.060432 L -88.4293,31.060997 L -88.429312,31.061273 L -88.429315,31.061351 L -88.429321,31.06148 L -88.429336,31.061802 L -88.429612,31.067843 L -88.42963,31.068225 L -88.429654,31.068662 L -88.429864,31.070513 L -88.429865,31.070589 L -88.429888,31.071474 L -88.429963,31.072962 L -88.429993,31.073464 L -88.430056,31.074506 L -88.430141,31.075439 L -88.430105,31.076774 L -88.430245,31.07798 L -88.430492,31.084913 L -88.430496,31.084994 L -88.430508,31.085237 L -88.430512,31.085318 L -88.43067,31.088413 L -88.430677,31.088559 L -88.430706,31.089124 L -88.430902,31.092611 L -88.43133,31.100274 L -88.431632,31.106535 L -88.431633,31.106567 L -88.432007,31.114298 L -88.432352,31.12144 L -88.432464,31.123472 L -88.432525,31.1246 L -88.432523,31.12464 L -88.432522,31.12466 L -88.432489,31.125197 L -88.432714,31.128994 L -88.432726,31.129174 L -88.432799,31.131144 L -88.433151,31.137067 L -88.433444,31.142625 L -88.433499,31.143637 L -88.43408,31.151211 L -88.434167,31.152329 L -88.434364,31.154845 L -88.434381,31.155688 L -88.434405,31.156811 L -88.434419,31.157462 L -88.434438,31.158311 L -88.4344,31.159415 L -88.434379,31.160067 L -88.434368,31.160406 L -88.434446,31.161588 L -88.43456,31.163308 L -88.434562,31.164807 L -88.434631,31.166155 L -88.434709,31.167678 L -88.434716,31.167798 L -88.434723,31.167897 L -88.434771,31.168555 L -88.434787,31.168775 L -88.434824,31.16929 L -88.434886,31.17012 L -88.434865,31.170839 L -88.43485,31.171357 L -88.434853,31.171651 L -88.434862,31.172533 L -88.434865,31.172828 L -88.434895,31.173354 L -88.434988,31.174932 L -88.43502,31.175458 L -88.435024,31.175526 L -88.43503,31.175629 L -88.435036,31.175731 L -88.43504,31.1758 L -88.435047,31.175917 L -88.435058,31.176094 L -88.435068,31.176269 L -88.435075,31.176387 L -88.435095,31.17674 L -88.435158,31.177801 L -88.435179,31.178155 L -88.435203,31.178563 L -88.435581,31.184964 L -88.435711,31.187117 L -88.436026,31.192487 L -88.436067,31.193181 L -88.43619,31.195265 L -88.436232,31.19596 L -88.436282,31.196807 L -88.436433,31.199348 L -88.436484,31.200196 L -88.436525,31.200822 L -88.436648,31.202702 L -88.436689,31.203329 L -88.436704,31.203564 L -88.436749,31.204271 L -88.436765,31.204507 L -88.436863,31.206052 L -88.436974,31.208299 L -88.437156,31.211952 L -88.437156,31.211968 L -88.437534,31.219429 L -88.437997,31.22864 L -88.437999,31.228932 L -88.438006,31.229808 L -88.438009,31.2301 L -88.438019,31.230153 L -88.438038,31.230254 L -88.438045,31.230315 L -88.438052,31.23037 L -88.438067,31.230498 L -88.438074,31.230613 L -88.438097,31.230982 L -88.438145,31.231127 L -88.438183,31.231336 L -88.438192,31.231386 L -88.438219,31.231498 L -88.438228,31.231577 L -88.438256,31.232139 L -88.43833,31.233623 L -88.438333,31.233827 L -88.438344,31.234391 L -88.438345,31.234506 L -88.438351,31.234853 L -88.438353,31.234969 L -88.438354,31.235047 L -88.438358,31.235283 L -88.43836,31.235362 L -88.438436,31.236791 L -88.438667,31.241078 L -88.438744,31.242508 L -88.438749,31.242607 L -88.438765,31.242904 L -88.438771,31.243003 L -88.4388,31.243551 L -88.438888,31.245194 L -88.438918,31.245743 L -88.43893,31.245973 L -88.438967,31.246665 L -88.43898,31.246896 L -88.43874,31.250174 L -88.438781,31.252651 L -88.438834,31.253219 L -88.439295,31.258225 L -88.439595,31.261548 L -88.439718,31.263777 L -88.439929,31.26761 L -88.440585,31.278555 L -88.440689,31.281023 L -88.440837,31.282595 L -88.441281,31.289984 L -88.441307,31.290408 L -88.441447,31.292749 L -88.4418,31.298683 L -88.441912,31.300561 L -88.441913,31.300583 L -88.44219,31.30519 L -88.442302,31.307055 L -88.442385,31.308445 L -88.442634,31.312615 L -88.442717,31.314006 L -88.442732,31.314279 L -88.442777,31.315101 L -88.442792,31.315375 L -88.442851,31.316398 L -88.443029,31.31947 L -88.443089,31.320494 L -88.443192,31.322261 L -88.443504,31.327563 L -88.443608,31.329331 L -88.443658,31.330176 L -88.44387,31.333713 L -88.44387,31.333729 L -88.443892,31.334099 L -88.444197,31.339298 L -88.4446,31.346101 L -88.444638,31.34674 L -88.444752,31.348657 L -88.444791,31.349296 L -88.444827,31.349913 L -88.444938,31.351764 L -88.444975,31.352382 L -88.445181,31.355854 L -88.445209,31.355969 L -88.445211,31.355997 L -88.445214,31.356037 L -88.445222,31.356219 L -88.445584,31.361853 L -88.445596,31.362022 L -88.445679,31.363196 L -88.445737,31.364042 L -88.445913,31.366583 L -88.445972,31.36743 L -88.446011,31.367974 L -88.44613,31.369607 L -88.44617,31.370152 L -88.446195,31.370836 L -88.44627,31.372891 L -88.446296,31.373576 L -88.446321,31.374264 L -88.446354,31.375171 L -88.446467,31.376324 L -88.446535,31.37701 L -88.446548,31.37717 L -88.446598,31.378137 L -88.446775,31.38152 L -88.446835,31.382648 L -88.446871,31.38333 L -88.446979,31.385379 L -88.447016,31.386062 L -88.447081,31.387189 L -88.447093,31.387393 L -88.447233,31.390573 L -88.447284,31.391701 L -88.447292,31.391878 L -88.447316,31.392412 L -88.447324,31.39259 L -88.44734,31.392948 L -88.447388,31.394022 L -88.447404,31.39438 L -88.447427,31.394914 L -88.447498,31.396516 L -88.447522,31.397051 L -88.447529,31.397226 L -88.447552,31.397751 L -88.44756,31.397926 L -88.447764,31.402606 L -88.447796,31.403084 L -88.447797,31.403111 L -88.448229,31.411752 L -88.448369,31.414552 L -88.448426,31.415693 L -88.448597,31.419116 L -88.448654,31.420258 L -88.448658,31.420327 L -88.44867,31.420535 L -88.448674,31.420605 L -88.448689,31.420618 L -88.448736,31.420657 L -88.448752,31.420671 L -88.448729,31.420699 L -88.448711,31.420788 L -88.448682,31.420849 L -88.448683,31.421267 L -88.44893,31.426036 L -88.44895,31.42637 L -88.448971,31.42674 L -88.449335,31.433165 L -88.449407,31.434938 L -88.44941,31.435033 L -88.449413,31.435128 L -88.449417,31.435232 L -88.449438,31.435837 L -88.44955,31.437475 L -88.449888,31.44239 L -88.450001,31.444029 L -88.450004,31.444071 L -88.450013,31.444198 L -88.450016,31.444241 L -88.45003,31.444427 L -88.450044,31.444613 L -88.450312,31.44858 L -88.450315,31.448641 L -88.450576,31.4525 L -88.450725,31.454705 L -88.450788,31.455649 L -88.45098,31.458481 L -88.451044,31.459426 L -88.451045,31.45945 L -88.45103,31.459714 L -88.450985,31.460579 L -88.45097,31.460868 L -88.4513,31.472885 L -88.451459,31.477887 L -88.451573,31.481531 L -88.452509,31.493061 L -88.452528,31.49329 L -88.452532,31.493341 L -88.45254,31.493452 L -88.452547,31.493564 L -88.453012,31.500169 L -88.453179,31.505388 L -88.453299,31.50918 L -88.453347,31.510665 L -88.453371,31.511406 L -88.45364,31.515965 L -88.453679,31.516626 L -88.453796,31.518609 L -88.453836,31.51927 L -88.453871,31.519866 L -88.453977,31.521654 L -88.454013,31.522251 L -88.454101,31.523741 L -88.454365,31.528214 L -88.454453,31.529705 L -88.454468,31.529951 L -88.454514,31.530691 L -88.45453,31.530938 L -88.454713,31.534032 L -88.454807,31.535621 L -88.454853,31.536408 L -88.45499,31.538712 L -88.455124,31.540942 L -88.455224,31.542613 L -88.455261,31.543317 L -88.455426,31.546413 L -88.45543,31.546497 L -88.455443,31.546751 L -88.455446,31.546805 L -88.455448,31.546836 L -88.455614,31.549962 L -88.456114,31.55934 L -88.456281,31.562467 L -88.456291,31.562648 L -88.456336,31.563491 L -88.456501,31.566566 L -88.456557,31.567592 L -88.456921,31.574428 L -88.457283,31.581235 L -88.457295,31.581455 L -88.457729,31.589589 L -88.457734,31.589707 L -88.458868,31.610984 L -88.458902,31.611626 L -88.459158,31.616411 L -88.459432,31.620929 L -88.459709,31.621689 L -88.459761,31.621833 L -88.459876,31.622292 L -88.459896,31.622397 L -88.459931,31.622641 L -88.460036,31.623221 L -88.460067,31.623422 L -88.460064,31.623638 L -88.460043,31.62378 L -88.459926,31.624292 L -88.459883,31.624458 L -88.459849,31.624543 L -88.460065,31.625161 L -88.460386,31.631024 L -88.460396,31.631213 L -88.460661,31.636048 L -88.460782,31.638255 L -88.461314,31.647951 L -88.461478,31.650943 L -88.461514,31.651525 L -88.461525,31.651701 L -88.461561,31.652229 L -88.461573,31.652405 L -88.461653,31.653723 L -88.461678,31.654131 L -88.461777,31.655698 L -88.462003,31.65931 L -88.462112,31.661037 L -88.462304,31.664086 L -88.462629,31.669263 L -88.462638,31.669404 L -88.462802,31.671998 L -88.462802,31.67202 L -88.463487,31.683125 L -88.463854,31.688894 L -88.464059,31.692121 L -88.464428,31.697926 L -88.46443,31.697952 z\" /></g></svg>"
      ],
      "text/plain": [
       "<POLYGON ((-88.464 31.698, -88.464 31.698, -88.459 31.698, -88.451 31.698, -...>"
      ]
     },
     "execution_count": 145,
     "metadata": {},
     "output_type": "execute_result"
    }
   ],
   "source": [
    "db[db.longname == \"AL-01 in Escambia County, USA\"].geometry.iloc[0]"
   ]
  },
  {
   "cell_type": "code",
   "execution_count": 146,
   "id": "53328655",
   "metadata": {},
   "outputs": [
    {
     "data": {
      "image/svg+xml": [
       "<svg xmlns=\"http://www.w3.org/2000/svg\" xmlns:xlink=\"http://www.w3.org/1999/xlink\" width=\"100.0\" height=\"100.0\" viewBox=\"-88.5319248 30.0769302 1.7951966000000112 1.8223595999999986\" preserveAspectRatio=\"xMinYMin meet\"><g transform=\"matrix(1,0,0,-1,0,61.97622)\"><path fill-rule=\"evenodd\" fill=\"#66cc99\" stroke=\"#555555\" stroke-width=\"0.036447191999999975\" opacity=\"0.6\" d=\"M -88.46443,31.697952 L -88.464181,31.697944 L -88.459063,31.697929 L -88.451363,31.697999 L -88.441858,31.698086 L -88.438829,31.698113 L -88.437289,31.698127 L -88.43588,31.69814 L -88.433662,31.69816 L -88.433567,31.698161 L -88.433532,31.698161 L -88.433277,31.698163 L -88.433082,31.698165 L -88.432411,31.698171 L -88.432394,31.698171 L -88.430546,31.698177 L -88.427165,31.698154 L -88.413241,31.698034 L -88.405406,31.69799 L -88.402742,31.698125 L -88.402544,31.698135 L -88.402439,31.69814 L -88.402346,31.698145 L -88.402312,31.698147 L -88.400793,31.698224 L -88.400224,31.698282 L -88.399851,31.698321 L -88.399373,31.698306 L -88.398129,31.698268 L -88.398116,31.698268 L -88.395778,31.69825 L -88.395031,31.698244 L -88.392487,31.698225 L -88.392456,31.698225 L -88.385953,31.698172 L -88.378671,31.698116 L -88.375019,31.698111 L -88.373993,31.698185 L -88.36757,31.698215 L -88.365889,31.698223 L -88.365878,31.698223 L -88.36582,31.698223 L -88.365645,31.698224 L -88.364184,31.698231 L -88.362174,31.69824 L -88.361745,31.698242 L -88.357593,31.698262 L -88.357555,31.698262 L -88.357539,31.698262 L -88.357528,31.698262 L -88.357484,31.698263 L -88.357435,31.698263 L -88.357422,31.698263 L -88.352044,31.698289 L -88.351009,31.698293 L -88.34231,31.698336 L -88.339887,31.698348 L -88.339647,31.698349 L -88.338848,31.698353 L -88.338831,31.698353 L -88.338801,31.698353 L -88.338767,31.698353 L -88.338743,31.698354 L -88.338724,31.698354 L -88.338658,31.698354 L -88.337479,31.69836 L -88.332715,31.698383 L -88.319412,31.698447 L -88.313024,31.69845 L -88.312339,31.69845 L -88.309621,31.698451 L -88.30951,31.698451 L -88.309481,31.698451 L -88.309466,31.698451 L -88.309451,31.698452 L -88.309393,31.698452 L -88.309182,31.698452 L -88.308864,31.698452 L -88.308494,31.698452 L -88.306773,31.698453 L -88.306727,31.698453 L -88.306577,31.698453 L -88.305051,31.698454 L -88.304293,31.698454 L -88.303721,31.698454 L -88.303102,31.698454 L -88.302995,31.698454 L -88.301061,31.698455 L -88.30091,31.698455 L -88.300795,31.698455 L -88.298875,31.698456 L -88.298823,31.698456 L -88.298737,31.698456 L -88.28717,31.698462 L -88.274537,31.698465 L -88.272875,31.698465 L -88.266822,31.698467 L -88.265615,31.698488 L -88.265382,31.69849 L -88.265335,31.698491 L -88.264471,31.698509 L -88.261876,31.698525 L -88.261765,31.698526 L -88.261749,31.698526 L -88.261723,31.698526 L -88.261697,31.698526 L -88.261669,31.698527 L -88.261625,31.698527 L -88.261351,31.698529 L -88.260991,31.698531 L -88.259024,31.698543 L -88.25765,31.698551 L -88.254842,31.698568 L -88.250012,31.698576 L -88.240751,31.698573 L -88.234516,31.698571 L -88.22428,31.698588 L -88.224032,31.698588 L -88.224003,31.698588 L -88.223974,31.698589 L -88.223925,31.698589 L -88.22386,31.698589 L -88.223795,31.698589 L -88.223747,31.698589 L -88.223719,31.698589 L -88.223377,31.69859 L -88.223167,31.69859 L -88.214093,31.698605 L -88.208548,31.698578 L -88.206499,31.698582 L -88.203628,31.698588 L -88.198675,31.698599 L -88.19401,31.698609 L -88.189667,31.698617 L -88.188857,31.698619 L -88.188836,31.698619 L -88.186891,31.698616 L -88.184316,31.698611 L -88.180248,31.698603 L -88.163818,31.698648 L -88.159456,31.69866 L -88.159406,31.69866 L -88.159366,31.69866 L -88.159328,31.69866 L -88.159301,31.69866 L -88.159269,31.698661 L -88.158908,31.698662 L -88.155129,31.698672 L -88.141977,31.698757 L -88.130114,31.698757 L -88.125008,31.698757 L -88.111381,31.698985 L -88.106851,31.699048 L -88.100148,31.69914 L -88.088915,31.699294 L -88.088288,31.699303 L -88.088206,31.698968 L -88.087639,31.695957 L -88.087801,31.69267 L -88.087274,31.688673 L -88.086946,31.686181 L -88.083009,31.68057 L -88.081652,31.678991 L -88.080629,31.67785 L -88.080207,31.677064 L -88.080058,31.676786 L -88.079289,31.674921 L -88.078747,31.670682 L -88.078711,31.669618 L -88.078615,31.666762 L -88.078863,31.662555 L -88.079488,31.661534 L -88.08107,31.660135 L -88.082284,31.659548 L -88.084041,31.659135 L -88.087456,31.658803 L -88.089388,31.658747 L -88.090211,31.658504 L -88.090896,31.657921 L -88.091189,31.657059 L -88.090949,31.655836 L -88.090127,31.654512 L -88.087217,31.648967 L -88.086682,31.647168 L -88.086624,31.645656 L -88.086399,31.643238 L -88.086587,31.639378 L -88.085497,31.63452 L -88.083974,31.63032 L -88.082733,31.627804 L -88.081155,31.625161 L -88.076229,31.619592 L -88.075355,31.618335 L -88.074779,31.617387 L -88.074261,31.616382 L -88.074367,31.615164 L -88.07461,31.613438 L -88.075188,31.612102 L -88.077577,31.608784 L -88.079284,31.606793 L -88.079963,31.605772 L -88.080102,31.605079 L -88.080148,31.604143 L -88.080063,31.60319 L -88.079749,31.60251 L -88.078922,31.601213 L -88.075648,31.598454 L -88.072234,31.5945 L -88.069482,31.592733 L -88.065769,31.590348 L -88.060198,31.587333 L -88.051449,31.583504 L -88.049853,31.583494 L -88.037251,31.583422 L -88.031609,31.583907 L -88.028801,31.584153 L -88.027693,31.584251 L -88.025463,31.583897 L -88.023454,31.583019 L -88.02205,31.581895 L -88.02111,31.580685 L -88.019733,31.578956 L -88.017778,31.576512 L -88.017258,31.575766 L -88.017008,31.575028 L -88.01691,31.574738 L -88.016931,31.573624 L -88.01757,31.572878 L -88.018531,31.571965 L -88.019933,31.571337 L -88.021605,31.570969 L -88.023349,31.570917 L -88.025268,31.571342 L -88.027184,31.57205 L -88.03256,31.574582 L -88.034337,31.575063 L -88.036503,31.575239 L -88.038297,31.57501 L -88.039716,31.574503 L -88.039957,31.573939 L -88.039997,31.57327 L -88.040058,31.572261 L -88.03966,31.571604 L -88.038295,31.570481 L -88.036142,31.567955 L -88.032541,31.562432 L -88.031315,31.560552 L -88.031277,31.560494 L -88.024208,31.55586 L -88.020322,31.553427 L -88.018627,31.552366 L -88.01651,31.551963 L -88.011582,31.550976 L -88.007847,31.549085 L -88.000002,31.545112 L -87.99826,31.543981 L -87.997192,31.54337 L -87.995644,31.54257 L -87.994596,31.542056 L -87.99386,31.541796 L -87.99174,31.541107 L -87.981756,31.538901 L -87.979596,31.538147 L -87.979134,31.537901 L -87.978518,31.537399 L -87.977814,31.536623 L -87.975132,31.532728 L -87.974714,31.532312 L -87.974288,31.532002 L -87.973768,31.531652 L -87.973418,31.531445 L -87.970377,31.530546 L -87.966071,31.530025 L -87.960029,31.529294 L -87.958498,31.529219 L -87.946177,31.5276 L -87.943899,31.527231 L -87.943212,31.527019 L -87.942514,31.526719 L -87.940746,31.525573 L -87.93746,31.522909 L -87.936534,31.521947 L -87.936455,31.521866 L -87.936376,31.521786 L -87.936326,31.521734 L -87.935068,31.520446 L -87.934165,31.51947 L -87.931768,31.516555 L -87.930168,31.514359 L -87.92899,31.51224 L -87.928383,31.510826 L -87.927908,31.509435 L -87.926951,31.506047 L -87.926622,31.505171 L -87.926213,31.504626 L -87.925519,31.50385 L -87.924989,31.503379 L -87.92444,31.503021 L -87.920869,31.501333 L -87.920535,31.501176 L -87.920495,31.501163 L -87.918479,31.500163 L -87.907399,31.494438 L -87.907306,31.494366 L -87.906894,31.494046 L -87.906597,31.493609 L -87.906292,31.49285 L -87.90611,31.491954 L -87.906143,31.491752 L -87.906265,31.491021 L -87.906618,31.490055 L -87.907212,31.488084 L -87.908495,31.485183 L -87.909263,31.483557 L -87.909635,31.482772 L -87.9112,31.480008 L -87.913191,31.476385 L -87.914524,31.474587 L -87.916412,31.472405 L -87.91831,31.470239 L -87.918751,31.468614 L -87.919088,31.467141 L -87.919001,31.465956 L -87.918543,31.464116 L -87.917187,31.460419 L -87.91669,31.458813 L -87.916145,31.455845 L -87.915321,31.452578 L -87.915253,31.451478 L -87.915235,31.451183 L -87.91545,31.449766 L -87.916197,31.448787 L -87.918024,31.447306 L -87.919604,31.446565 L -87.92121,31.446017 L -87.923874,31.445741 L -87.930892,31.444906 L -87.933325,31.444048 L -87.934482,31.443232 L -87.935106,31.442398 L -87.935366,31.441182 L -87.935193,31.440375 L -87.934954,31.439496 L -87.934359,31.438599 L -87.933669,31.43795 L -87.932417,31.437299 L -87.930949,31.436712 L -87.929094,31.436428 L -87.927014,31.436329 L -87.925242,31.436352 L -87.923066,31.436486 L -87.921979,31.436537 L -87.920922,31.436056 L -87.919848,31.435422 L -87.918498,31.433908 L -87.917484,31.432509 L -87.916698,31.430797 L -87.916281,31.429852 L -87.915043,31.428419 L -87.913823,31.42718 L -87.912079,31.425519 L -87.911139,31.424402 L -87.91093,31.423321 L -87.911122,31.422534 L -87.91182,31.421812 L -87.913995,31.420236 L -87.91536,31.419365 L -87.917482,31.418772 L -87.918862,31.418335 L -87.920066,31.417584 L -87.921433,31.416181 L -87.922342,31.414703 L -87.92393,31.412391 L -87.926277,31.410034 L -87.927723,31.407978 L -87.927818,31.407842 L -87.927853,31.406561 L -87.927418,31.405745 L -87.926784,31.405113 L -87.925915,31.404698 L -87.925035,31.404508 L -87.923948,31.404551 L -87.92272,31.404673 L -87.921461,31.405142 L -87.920538,31.405871 L -87.919736,31.406946 L -87.918681,31.407763 L -87.917412,31.408296 L -87.915799,31.408441 L -87.913692,31.408132 L -87.910362,31.407196 L -87.908735,31.406599 L -87.907342,31.406068 L -87.905869,31.40473 L -87.905081,31.403372 L -87.904486,31.401024 L -87.904785,31.399608 L -87.905037,31.39828 L -87.906669,31.397254 L -87.907123,31.397162 L -87.908512,31.396384 L -87.90918,31.395834 L -87.910009,31.395284 L -87.911157,31.394757 L -87.912066,31.394528 L -87.913856,31.394528 L -87.915298,31.394758 L -87.916821,31.394873 L -87.919118,31.395217 L -87.919893,31.395377 L -87.921283,31.395492 L -87.922458,31.395767 L -87.924061,31.395767 L -87.924622,31.395676 L -87.92553,31.395905 L -87.926546,31.395997 L -87.927213,31.396134 L -87.92732,31.396226 L -87.927705,31.396568 L -87.929348,31.396061 L -87.930203,31.395622 L -87.930946,31.395231 L -87.931793,31.394567 L -87.932237,31.394021 L -87.932992,31.393043 L -87.933626,31.391966 L -87.933733,31.391274 L -87.933803,31.390428 L -87.933813,31.388825 L -87.933867,31.387584 L -87.933976,31.386481 L -87.934009,31.385691 L -87.934406,31.385145 L -87.934925,31.384399 L -87.935735,31.383645 L -87.93711,31.382516 L -87.937956,31.381908 L -87.938925,31.381268 L -87.940269,31.380574 L -87.941612,31.379831 L -87.942795,31.37941 L -87.944437,31.378967 L -87.945103,31.378793 L -87.945499,31.378457 L -87.945923,31.377991 L -87.945956,31.377178 L -87.945652,31.37629 L -87.945158,31.375812 L -87.944281,31.375167 L -87.943719,31.374955 L -87.942915,31.374827 L -87.941922,31.374753 L -87.941153,31.374795 L -87.940412,31.374861 L -87.939925,31.375167 L -87.935991,31.376701 L -87.934375,31.377466 L -87.932901,31.377982 L -87.93213,31.378551 L -87.931106,31.379029 L -87.93011,31.379419 L -87.929154,31.379639 L -87.927907,31.379794 L -87.927082,31.379838 L -87.926051,31.379865 L -87.925106,31.379659 L -87.92392,31.378984 L -87.922717,31.378019 L -87.922178,31.377283 L -87.921282,31.376674 L -87.920387,31.375992 L -87.919219,31.375479 L -87.918497,31.375547 L -87.917821,31.375705 L -87.917388,31.376057 L -87.917291,31.376734 L -87.917622,31.377686 L -87.918179,31.378624 L -87.920151,31.382518 L -87.921086,31.384384 L -87.921407,31.385651 L -87.921402,31.386473 L -87.921181,31.387318 L -87.920793,31.388025 L -87.920085,31.388996 L -87.919426,31.389412 L -87.918638,31.389633 L -87.917653,31.389797 L -87.916547,31.389945 L -87.915741,31.389997 L -87.914831,31.390202 L -87.91393,31.39039 L -87.913263,31.39074 L -87.912147,31.390855 L -87.91076,31.390945 L -87.909693,31.390786 L -87.909029,31.390565 L -87.908056,31.390197 L -87.906972,31.38983 L -87.906037,31.389463 L -87.905309,31.389072 L -87.904263,31.388646 L -87.903664,31.388402 L -87.901678,31.386845 L -87.898003,31.38108 L -87.896785,31.381245 L -87.895612,31.381357 L -87.894137,31.38205 L -87.893179,31.382448 L -87.892314,31.382878 L -87.891438,31.383607 L -87.890693,31.384409 L -87.890192,31.385212 L -87.889812,31.385983 L -87.889516,31.386957 L -87.889453,31.387931 L -87.889755,31.389181 L -87.890135,31.38986 L -87.890784,31.390895 L -87.892192,31.392437 L -87.892878,31.393106 L -87.893398,31.393915 L -87.893637,31.394617 L -87.8934,31.39518 L -87.893031,31.395629 L -87.892401,31.395988 L -87.89181,31.396082 L -87.891117,31.39607 L -87.889854,31.395741 L -87.88934,31.395553 L -87.888761,31.395316 L -87.888664,31.395209 L -87.888631,31.395057 L -87.888182,31.394982 L -87.88793,31.394673 L -87.887654,31.393892 L -87.887415,31.393197 L -87.88729,31.392197 L -87.887277,31.391375 L -87.887267,31.389965 L -87.88737,31.388499 L -87.887525,31.387607 L -87.887749,31.386286 L -87.88798,31.385272 L -87.888136,31.384395 L -87.888556,31.383124 L -87.890981,31.377295 L -87.89211,31.375167 L -87.892513,31.37332 L -87.892814,31.372344 L -87.892337,31.371436 L -87.891618,31.369711 L -87.890733,31.367816 L -87.890027,31.366446 L -87.888857,31.364023 L -87.88884,31.362402 L -87.889255,31.360655 L -87.890659,31.359257 L -87.891664,31.35829 L -87.892687,31.357348 L -87.893583,31.356228 L -87.894697,31.353971 L -87.895665,31.352206 L -87.896479,31.35081 L -87.897063,31.349008 L -87.897062,31.346839 L -87.896935,31.344966 L -87.896935,31.342667 L -87.898357,31.340478 L -87.900204,31.338882 L -87.902178,31.337513 L -87.903652,31.336462 L -87.904781,31.335367 L -87.90547,31.334172 L -87.905909,31.332691 L -87.906104,31.331298 L -87.906087,31.329628 L -87.906004,31.327998 L -87.905882,31.326456 L -87.90635,31.324921 L -87.907246,31.32367 L -87.908068,31.323041 L -87.909359,31.322448 L -87.910243,31.322157 L -87.911423,31.32212 L -87.912938,31.322327 L -87.914355,31.322881 L -87.915952,31.324065 L -87.916714,31.325379 L -87.917079,31.326922 L -87.91682,31.328202 L -87.915854,31.329081 L -87.914338,31.329744 L -87.913104,31.330289 L -87.911383,31.331685 L -87.910487,31.332976 L -87.910117,31.334061 L -87.91054,31.335565 L -87.911449,31.337074 L -87.912495,31.338124 L -87.914326,31.339319 L -87.916125,31.340069 L -87.917412,31.340565 L -87.918777,31.340763 L -87.919707,31.340618 L -87.920808,31.340153 L -87.921753,31.339492 L -87.922268,31.33877 L -87.922794,31.337815 L -87.923077,31.336923 L -87.923232,31.335706 L -87.923226,31.334568 L -87.922988,31.333324 L -87.92248,31.33194 L -87.921982,31.330548 L -87.921779,31.329449 L -87.921607,31.328181 L -87.921806,31.327239 L -87.922486,31.32598 L -87.923592,31.324361 L -87.924149,31.323172 L -87.924633,31.32191 L -87.92474,31.320766 L -87.924589,31.319328 L -87.924437,31.31794 L -87.924271,31.316107 L -87.924311,31.314349 L -87.924525,31.312907 L -87.92527,31.31168 L -87.926275,31.310689 L -87.927669,31.309959 L -87.929108,31.309496 L -87.93045,31.309234 L -87.931791,31.309141 L -87.932998,31.309217 L -87.934303,31.309688 L -87.935894,31.310655 L -87.936941,31.311576 L -87.938513,31.313251 L -87.93956,31.314269 L -87.940211,31.314638 L -87.941613,31.314965 L -87.943427,31.315215 L -87.945329,31.315135 L -87.947606,31.315067 L -87.949321,31.314969 L -87.951549,31.315086 L -87.9535,31.315636 L -87.954965,31.316125 L -87.956104,31.316449 L -87.957396,31.316509 L -87.95854,31.316382 L -87.959619,31.316206 L -87.960709,31.315861 L -87.962055,31.315284 L -87.96314,31.314648 L -87.963794,31.313976 L -87.964357,31.31303 L -87.964723,31.312162 L -87.964725,31.311186 L -87.964381,31.310142 L -87.963669,31.308531 L -87.962823,31.30716 L -87.961874,31.305804 L -87.960757,31.304431 L -87.959702,31.303373 L -87.958421,31.30237 L -87.95686,31.301332 L -87.955967,31.300783 L -87.954942,31.300347 L -87.95415,31.300017 L -87.952935,31.299789 L -87.951813,31.299633 L -87.950795,31.299463 L -87.949862,31.299164 L -87.949119,31.298569 L -87.948307,31.297537 L -87.94761,31.296329 L -87.947507,31.296272 L -87.947176,31.29497 L -87.946947,31.293742 L -87.947028,31.292461 L -87.947248,31.291172 L -87.947605,31.290296 L -87.948178,31.289342 L -87.948777,31.288605 L -87.949675,31.287847 L -87.950696,31.287041 L -87.951791,31.286292 L -87.952714,31.285817 L -87.953965,31.285287 L -87.954943,31.284973 L -87.955848,31.284605 L -87.955979,31.284442 L -87.956292,31.28405 L -87.956855,31.283159 L -87.957143,31.282581 L -87.957377,31.281793 L -87.957463,31.280801 L -87.957383,31.279647 L -87.956892,31.278409 L -87.956374,31.277008 L -87.955685,31.275881 L -87.954653,31.274436 L -87.953622,31.272967 L -87.953044,31.271905 L -87.952851,31.27079 L -87.952925,31.270121 L -87.953449,31.269352 L -87.954161,31.268511 L -87.955115,31.267745 L -87.955961,31.267446 L -87.957152,31.267295 L -87.958508,31.267396 L -87.959692,31.267802 L -87.961336,31.268938 L -87.962161,31.269606 L -87.963872,31.270581 L -87.965233,31.271118 L -87.966344,31.271402 L -87.967439,31.271444 L -87.969489,31.271445 L -87.970716,31.2714 L -87.971935,31.271193 L -87.972968,31.270919 L -87.974397,31.270407 L -87.975734,31.269725 L -87.976944,31.26872 L -87.977975,31.26772 L -87.97881,31.266743 L -87.979561,31.265718 L -87.980568,31.264492 L -87.982071,31.263158 L -87.983413,31.262057 L -87.98448,31.261243 L -87.985463,31.260397 L -87.986228,31.259758 L -87.986751,31.259061 L -87.987031,31.258305 L -87.986978,31.257167 L -87.986529,31.25634 L -87.985788,31.255681 L -87.984986,31.255343 L -87.983902,31.255229 L -87.982901,31.255196 L -87.981963,31.255373 L -87.980657,31.255838 L -87.979423,31.256521 L -87.978619,31.257232 L -87.977834,31.257959 L -87.976768,31.258651 L -87.975713,31.259207 L -87.974277,31.259622 L -87.972918,31.259755 L -87.971759,31.259616 L -87.970649,31.259227 L -87.969227,31.25836 L -87.968082,31.256978 L -87.967116,31.255535 L -87.966228,31.253825 L -87.965384,31.252333 L -87.963378,31.250171 L -87.962562,31.24977 L -87.960504,31.248689 L -87.957408,31.247805 L -87.95152,31.24724 L -87.947499,31.246565 L -87.946013,31.245733 L -87.944034,31.244291 L -87.943105,31.243329 L -87.941952,31.241312 L -87.941163,31.239087 L -87.94091,31.238699 L -87.940285,31.237739 L -87.938948,31.235926 L -87.935807,31.231458 L -87.934316,31.229996 L -87.932269,31.228358 L -87.930958,31.227103 L -87.930562,31.226156 L -87.930613,31.225285 L -87.931333,31.224554 L -87.938092,31.22068 L -87.938629,31.220372 L -87.939469,31.219394 L -87.939959,31.218036 L -87.940238,31.214508 L -87.940183,31.212965 L -87.940662,31.211388 L -87.942646,31.20986 L -87.946353,31.208041 L -87.94841,31.206822 L -87.949754,31.20539 L -87.950294,31.204195 L -87.950421,31.202503 L -87.950135,31.200865 L -87.949492,31.199507 L -87.947302,31.195403 L -87.946588,31.19293 L -87.945538,31.192974 L -87.945334,31.192927 L -87.944601,31.192762 L -87.943559,31.19233 L -87.942442,31.191412 L -87.941664,31.190413 L -87.940509,31.18976 L -87.936282,31.189902 L -87.933612,31.18999 L -87.931674,31.189509 L -87.929308,31.187942 L -87.925679,31.186123 L -87.921613,31.185486 L -87.918249,31.185611 L -87.914221,31.186735 L -87.913637,31.187356 L -87.914267,31.188536 L -87.915496,31.189966 L -87.915403,31.190714 L -87.914647,31.191178 L -87.911366,31.191063 L -87.910654,31.19336 L -87.907869,31.195543 L -87.906544,31.198718 L -87.906237,31.199162 L -87.901384,31.198801 L -87.899689,31.197317 L -87.899211,31.197352 L -87.897093,31.199659 L -87.896488,31.200086 L -87.892537,31.201631 L -87.891387,31.202599 L -87.889581,31.204349 L -87.888703,31.204817 L -87.887643,31.20511 L -87.886749,31.205247 L -87.885929,31.20541 L -87.885375,31.2052 L -87.885362,31.204788 L -87.885783,31.203799 L -87.886055,31.203016 L -87.88623,31.202609 L -87.886018,31.202006 L -87.885751,31.201393 L -87.884815,31.201149 L -87.883828,31.200992 L -87.882731,31.200792 L -87.881973,31.200537 L -87.881162,31.199957 L -87.880348,31.199208 L -87.879749,31.198449 L -87.879167,31.197996 L -87.878208,31.197865 L -87.876672,31.198387 L -87.875511,31.199412 L -87.874996,31.200067 L -87.874208,31.20128 L -87.873887,31.201496 L -87.873454,31.203006 L -87.873426,31.203157 L -87.873331,31.203693 L -87.873337,31.204541 L -87.873937,31.206302 L -87.874495,31.207256 L -87.874996,31.208519 L -87.875269,31.20914 L -87.875679,31.210709 L -87.875904,31.212192 L -87.875876,31.213208 L -87.875668,31.214009 L -87.875379,31.214461 L -87.874996,31.214741 L -87.869774,31.215765 L -87.867972,31.214582 L -87.865382,31.209733 L -87.859946,31.204633 L -87.855999,31.203452 L -87.853499,31.203445 L -87.849544,31.206105 L -87.848503,31.208378 L -87.849055,31.210583 L -87.849799,31.211578 L -87.857943,31.216451 L -87.859657,31.218441 L -87.862573,31.223962 L -87.863593,31.226112 L -87.864113,31.229172 L -87.863757,31.2311 L -87.860066,31.2354 L -87.858262,31.236476 L -87.85677,31.237069 L -87.85455,31.237233 L -87.852912,31.236986 L -87.848612,31.234827 L -87.84461,31.229504 L -87.844391,31.228245 L -87.843919,31.227032 L -87.84293,31.226182 L -87.841342,31.225411 L -87.840143,31.225512 L -87.839445,31.225726 L -87.838679,31.22596 L -87.83646,31.227761 L -87.83565,31.228639 L -87.835608,31.229736 L -87.83592,31.231053 L -87.840499,31.233237 L -87.842926,31.234786 L -87.844091,31.236145 L -87.844626,31.237939 L -87.844628,31.239335 L -87.843966,31.240656 L -87.842517,31.24204 L -87.841287,31.242698 L -87.841158,31.242769 L -87.840131,31.24334 L -87.838769,31.244111 L -87.837517,31.245431 L -87.837147,31.24635 L -87.837105,31.247254 L -87.83755,31.248361 L -87.838584,31.249462 L -87.840254,31.250171 L -87.840978,31.250874 L -87.841775,31.252024 L -87.842236,31.253052 L -87.842369,31.254086 L -87.842288,31.254933 L -87.842377,31.255466 L -87.842985,31.255784 L -87.843412,31.255986 L -87.844314,31.25588 L -87.845187,31.255578 L -87.845919,31.255275 L -87.846484,31.254915 L -87.846992,31.254506 L -87.847323,31.25408 L -87.847719,31.253743 L -87.84831,31.253609 L -87.850897,31.253291 L -87.851617,31.253352 L -87.852336,31.253711 L -87.852782,31.254141 L -87.853142,31.254813 L -87.853275,31.25596 L -87.8531,31.256726 L -87.852868,31.257782 L -87.852545,31.258474 L -87.851959,31.259109 L -87.851348,31.25955 L -87.850662,31.259829 L -87.850052,31.259979 L -87.849284,31.260007 L -87.848349,31.259849 L -87.84705,31.259479 L -87.845612,31.258841 L -87.843763,31.25817 L -87.842989,31.257762 L -87.842297,31.257403 L -87.842055,31.257192 L -87.84194,31.256972 L -87.841899,31.256892 L -87.841603,31.256366 L -87.841288,31.255937 L -87.840801,31.255877 L -87.840275,31.256125 L -87.839026,31.256514 L -87.838097,31.256799 L -87.837224,31.257134 L -87.8362,31.2575 L -87.835477,31.257778 L -87.834583,31.258387 L -87.833698,31.259076 L -87.832818,31.260282 L -87.832286,31.261208 L -87.831727,31.262165 L -87.831061,31.26347 L -87.830479,31.264968 L -87.830217,31.266226 L -87.829819,31.268048 L -87.82931,31.270926 L -87.829048,31.272143 L -87.828768,31.27332 L -87.82861,31.274369 L -87.828313,31.275304 L -87.827902,31.276303 L -87.827512,31.277116 L -87.826869,31.277911 L -87.826012,31.278552 L -87.825288,31.278912 L -87.824096,31.27926 L -87.822971,31.279432 L -87.822034,31.279467 L -87.820985,31.279486 L -87.819732,31.279148 L -87.818219,31.278623 L -87.816408,31.277717 L -87.815233,31.277129 L -87.814206,31.276728 L -87.813114,31.276213 L -87.812115,31.275707 L -87.811072,31.274959 L -87.808535,31.273629 L -87.806585,31.272584 L -87.804673,31.271549 L -87.803023,31.27058 L -87.801633,31.269878 L -87.801502,31.269812 L -87.799612,31.269543 L -87.79872,31.269764 L -87.797989,31.269881 L -87.796929,31.270117 L -87.79614,31.270307 L -87.796065,31.270327 L -87.794348,31.270797 L -87.793004,31.27137 L -87.79146,31.272313 L -87.789315,31.273528 L -87.787961,31.274174 L -87.786804,31.274869 L -87.785523,31.27579 L -87.78455,31.276745 L -87.783896,31.277767 L -87.783671,31.278936 L -87.783737,31.280042 L -87.784103,31.281126 L -87.784769,31.282147 L -87.785775,31.282944 L -87.786885,31.283459 L -87.788633,31.284002 L -87.790397,31.284747 L -87.791992,31.285628 L -87.793519,31.286758 L -87.794457,31.287813 L -87.795351,31.289691 L -87.79566,31.290904 L -87.795662,31.29188 L -87.795558,31.29233 L -87.797417,31.29458 L -87.79747,31.294741 L -87.797657,31.294924 L -87.798084,31.29552 L -87.798084,31.295612 L -87.798244,31.295841 L -87.798671,31.296322 L -87.798991,31.296597 L -87.799205,31.296918 L -87.799551,31.297285 L -87.800032,31.297904 L -87.800245,31.29827 L -87.800699,31.298728 L -87.800752,31.298842 L -87.801233,31.299415 L -87.80222,31.300286 L -87.8023,31.300401 L -87.80254,31.300653 L -87.802567,31.300767 L -87.802811,31.301397 L -87.803315,31.301698 L -87.804014,31.30217 L -87.805113,31.302976 L -87.806268,31.303878 L -87.80717,31.304796 L -87.807997,31.305583 L -87.80836,31.305892 L -87.808973,31.306638 L -87.809184,31.307253 L -87.809465,31.308473 L -87.8096,31.3092 L -87.809824,31.310485 L -87.809788,31.31147 L -87.809537,31.312469 L -87.809342,31.313429 L -87.809092,31.314275 L -87.808878,31.315275 L -87.808449,31.316233 L -87.807966,31.3169 L -87.807598,31.317278 L -87.807135,31.317735 L -87.806325,31.318304 L -87.805591,31.318695 L -87.804896,31.318885 L -87.804023,31.319017 L -87.803517,31.319007 L -87.80276,31.318817 L -87.801884,31.318222 L -87.80112,31.317613 L -87.800402,31.317173 L -87.799683,31.31691 L -87.799281,31.316779 L -87.798929,31.316212 L -87.798794,31.31546 L -87.798322,31.313234 L -87.798375,31.312501 L -87.798455,31.312386 L -87.798455,31.311355 L -87.798375,31.311309 L -87.798242,31.310828 L -87.798055,31.30904 L -87.798112,31.30803 L -87.797777,31.306599 L -87.79744,31.305314 L -87.796746,31.304252 L -87.795633,31.302737 L -87.794425,31.301511 L -87.793317,31.300487 L -87.792338,31.299884 L -87.791208,31.29949 L -87.790189,31.299259 L -87.789684,31.29911 L -87.789123,31.298954 L -87.788782,31.298773 L -87.788489,31.297409 L -87.78726,31.297644 L -87.785797,31.297846 L -87.783969,31.297964 L -87.782527,31.297892 L -87.781263,31.297739 L -87.77997,31.297723 L -87.778905,31.29741 L -87.777823,31.296742 L -87.775978,31.295617 L -87.774326,31.294776 L -87.77301,31.294187 L -87.77158,31.293719 L -87.769969,31.293677 L -87.768779,31.293807 L -87.767708,31.294132 L -87.766515,31.294512 L -87.765703,31.295266 L -87.765216,31.296377 L -87.765152,31.297346 L -87.765141,31.297523 L -87.765715,31.298455 L -87.766635,31.299332 L -87.767745,31.299976 L -87.769275,31.300671 L -87.770956,31.301439 L -87.772581,31.301998 L -87.773776,31.302513 L -87.775101,31.303167 L -87.776219,31.303949 L -87.777291,31.304681 L -87.778594,31.305738 L -87.779429,31.306752 L -87.780255,31.30775 L -87.780902,31.30886 L -87.781402,31.309589 L -87.782003,31.31065 L -87.78276,31.312051 L -87.783382,31.313895 L -87.783792,31.315455 L -87.783827,31.316876 L -87.783971,31.318798 L -87.783905,31.320065 L -87.784398,31.322797 L -87.784796,31.324672 L -87.784727,31.32618 L -87.784669,31.3276 L -87.784378,31.328914 L -87.783474,31.33054 L -87.78243,31.332253 L -87.781681,31.33333 L -87.780076,31.334774 L -87.778558,31.335896 L -87.776569,31.337289 L -87.774843,31.338586 L -87.772694,31.340148 L -87.771374,31.341125 L -87.769986,31.34236 L -87.767985,31.344067 L -87.76648,31.345843 L -87.765816,31.346791 L -87.765462,31.347725 L -87.765247,31.348782 L -87.76531,31.350203 L -87.765743,31.352311 L -87.765925,31.354121 L -87.76617,31.356229 L -87.766074,31.357706 L -87.766163,31.359442 L -87.765832,31.360877 L -87.76523,31.362245 L -87.764566,31.363259 L -87.763923,31.363868 L -87.763049,31.364234 L -87.762796,31.36428 L -87.762232,31.364383 L -87.759887,31.364474 L -87.757958,31.364253 L -87.756359,31.36367 L -87.755351,31.363107 L -87.754542,31.362327 L -87.753924,31.361153 L -87.753232,31.359784 L -87.752502,31.358513 L -87.752135,31.357518 L -87.751875,31.356103 L -87.751922,31.354941 L -87.752869,31.350419 L -87.753108,31.348742 L -87.753303,31.346692 L -87.753479,31.34478 L -87.753558,31.343126 L -87.753588,31.341802 L -87.753579,31.340559 L -87.753411,31.339331 L -87.753129,31.338328 L -87.752631,31.337389 L -87.751851,31.336521 L -87.751228,31.335911 L -87.750632,31.335415 L -87.749994,31.335073 L -87.747995,31.33396 L -87.746399,31.333261 L -87.74395,31.33283 L -87.74123,31.332917 L -87.73883,31.3331 L -87.736019,31.33393 L -87.733818,31.334824 L -87.73231,31.335522 L -87.729509,31.336586 L -87.72686,31.3382 L -87.7244,31.340419 L -87.723634,31.341527 L -87.722758,31.343621 L -87.722445,31.345424 L -87.722182,31.348518 L -87.721861,31.354674 L -87.721979,31.359618 L -87.722567,31.36213 L -87.723144,31.363688 L -87.724031,31.365383 L -87.725399,31.367973 L -87.726044,31.370484 L -87.72615,31.371639 L -87.726097,31.372803 L -87.725837,31.373741 L -87.725379,31.374347 L -87.724545,31.375167 L -87.724098,31.375973 L -87.723463,31.37668 L -87.723137,31.377125 L -87.72265,31.377523 L -87.72174,31.378021 L -87.718714,31.380089 L -87.717348,31.3813 L -87.715945,31.382632 L -87.714637,31.384149 L -87.713417,31.386054 L -87.712469,31.38782 L -87.708987,31.396079 L -87.708058,31.39795 L -87.70709,31.399611 L -87.706045,31.400957 L -87.70509,31.401827 L -87.704012,31.40247 L -87.702707,31.403082 L -87.701073,31.403721 L -87.7,31.40388 L -87.698599,31.404105 L -87.697423,31.404288 L -87.697046,31.404347 L -87.694591,31.404683 L -87.691958,31.405062 L -87.690648,31.405252 L -87.688439,31.405877 L -87.686788,31.406758 L -87.685531,31.407556 L -87.6839,31.408817 L -87.68289,31.409888 L -87.672229,31.418577 L -87.669306,31.420934 L -87.667833,31.421798 L -87.665572,31.423166 L -87.663692,31.423805 L -87.661567,31.424381 L -87.659215,31.424917 L -87.656694,31.425447 L -87.654342,31.425846 L -87.651828,31.426108 L -87.649474,31.426208 L -87.646584,31.426521 L -87.64419,31.426354 L -87.641879,31.425783 L -87.639649,31.424768 L -87.63766,31.423089 L -87.634998,31.420677 L -87.632488,31.418516 L -87.629684,31.415944 L -87.624991,31.412241 L -87.622706,31.410737 L -87.62121,31.41002 L -87.618944,31.409142 L -87.616819,31.408604 L -87.615455,31.408177 L -87.614045,31.408025 L -87.61271,31.407825 L -87.610812,31.407811 L -87.609581,31.40782 L -87.607946,31.408057 L -87.606537,31.408454 L -87.604885,31.409054 L -87.603137,31.409556 L -87.601175,31.410488 L -87.599889,31.411055 L -87.598696,31.411791 L -87.597091,31.412932 L -87.595806,31.413991 L -87.594827,31.415076 L -87.594652,31.415269 L -87.593208,31.417322 L -87.592084,31.419165 L -87.590799,31.421194 L -87.589543,31.422868 L -87.588529,31.423919 L -87.586351,31.425505 L -87.583722,31.427276 L -87.581778,31.428595 L -87.579506,31.43014 L -87.577891,31.431402 L -87.577002,31.432096 L -87.575873,31.432979 L -87.574727,31.433827 L -87.573733,31.435088 L -87.572598,31.437206 L -87.57123,31.440059 L -87.570172,31.442919 L -87.56877,31.448164 L -87.567285,31.454555 L -87.565318,31.459726 L -87.564343,31.461674 L -87.563875,31.46329 L -87.56336,31.464696 L -87.56294,31.467047 L -87.562802,31.468986 L -87.562627,31.471515 L -87.562358,31.473753 L -87.562229,31.475368 L -87.5624,31.47654 L -87.562787,31.477686 L -87.563729,31.478986 L -87.564058,31.479435 L -87.565708,31.481683 L -87.567893,31.483184 L -87.571121,31.484877 L -87.577663,31.487965 L -87.58234,31.489811 L -87.585852,31.491649 L -87.59022,31.493608 L -87.592328,31.494204 L -87.59469,31.495106 L -87.595942,31.495589 L -87.604605,31.499999 L -87.605064,31.500162 L -87.608924,31.503071 L -87.610199,31.504092 L -87.611455,31.505209 L -87.61341,31.506889 L -87.616611,31.509444 L -87.617754,31.510335 L -87.619481,31.511572 L -87.620425,31.51223 L -87.620718,31.51256 L -87.621069,31.513019 L -87.621289,31.513761 L -87.621428,31.514639 L -87.621445,31.514746 L -87.621251,31.516854 L -87.621075,31.517323 L -87.6206,31.518117 L -87.619844,31.519049 L -87.618198,31.520549 L -87.616821,31.521443 L -87.615734,31.521964 L -87.614627,31.522373 L -87.610366,31.523714 L -87.60924,31.52411 L -87.604033,31.525944 L -87.602343,31.526468 L -87.600409,31.526887 L -87.599893,31.527083 L -87.599256,31.527441 L -87.59642,31.529859 L -87.59353,31.532503 L -87.585841,31.539833 L -87.584914,31.540604 L -87.579848,31.544619 L -87.571715,31.550117 L -87.567721,31.552426 L -87.565413,31.553573 L -87.565489,31.554448 L -87.565758,31.563042 L -87.565765,31.565562 L -87.565765,31.56569 L -87.565766,31.565866 L -87.565718,31.565885 L -87.565683,31.565909 L -87.565656,31.565928 L -87.565626,31.566012 L -87.565618,31.566196 L -87.565617,31.566311 L -87.565611,31.567309 L -87.565628,31.568269 L -87.565659,31.568379 L -87.565664,31.568447 L -87.565636,31.568621 L -87.565651,31.570088 L -87.565659,31.570974 L -87.56569,31.572849 L -87.565691,31.573875 L -87.565872,31.574725 L -87.565892,31.576631 L -87.565966,31.588476 L -87.566037,31.599958 L -87.566057,31.602775 L -87.566079,31.606633 L -87.566081,31.60703 L -87.566131,31.614606 L -87.566153,31.618069 L -87.566155,31.618297 L -87.566078,31.625158 L -87.566115,31.628972 L -87.566138,31.631324 L -87.56616,31.633408 L -87.566402,31.658044 L -87.566421,31.659982 L -87.566439,31.661763 L -87.566472,31.66511 L -87.566539,31.671882 L -87.566692,31.683141 L -87.566803,31.693623 L -87.56681,31.694297 L -87.56682,31.695145 L -87.566823,31.695476 L -87.566841,31.697115 L -87.548502,31.697364 L -87.54768,31.697382 L -87.545561,31.697412 L -87.520422,31.697763 L -87.518504,31.69779 L -87.516131,31.697824 L -87.516206,31.703786 L -87.516253,31.707452 L -87.516283,31.709838 L -87.516555,31.731223 L -87.516979,31.750153 L -87.517048,31.753397 L -87.517092,31.755463 L -87.517606,31.779314 L -87.517803,31.788455 L -87.517858,31.79106 L -87.517975,31.796422 L -87.51798,31.796683 L -87.518004,31.797811 L -87.51801,31.798077 L -87.518069,31.800785 L -87.518262,31.809745 L -87.518363,31.814386 L -87.500953,31.814018 L -87.500952,31.814289 L -87.500939,31.82255 L -87.500932,31.82762 L -87.500931,31.828359 L -87.50093,31.829131 L -87.50093,31.829251 L -87.499994,31.829246 L -87.485482,31.829536 L -87.484116,31.829564 L -87.483504,31.829577 L -87.46954,31.8293 L -87.466773,31.82926 L -87.460051,31.829279 L -87.443075,31.829328 L -87.44267,31.829377 L -87.434376,31.829417 L -87.430288,31.829464 L -87.425655,31.829534 L -87.413389,31.829647 L -87.405658,31.829791 L -87.396692,31.829912 L -87.390456,31.829997 L -87.383775,31.830225 L -87.38234,31.830274 L -87.381245,31.830312 L -87.374993,31.830527 L -87.367729,31.830507 L -87.366488,31.830518 L -87.354828,31.830617 L -87.351982,31.830651 L -87.351883,31.830761 L -87.351671,31.830804 L -87.350589,31.830805 L -87.350154,31.830792 L -87.34994,31.830815 L -87.349514,31.830913 L -87.349288,31.83091 L -87.349071,31.830867 L -87.348854,31.830837 L -87.347113,31.830814 L -87.34651,31.830816 L -87.345167,31.830822 L -87.344646,31.830839 L -87.344417,31.830846 L -87.344213,31.830846 L -87.330559,31.830882 L -87.329277,31.830901 L -87.321839,31.831047 L -87.321164,31.831053 L -87.321055,31.831053 L -87.318636,31.831092 L -87.318331,31.831094 L -87.316715,31.831107 L -87.31381,31.831131 L -87.312516,31.831115 L -87.30519,31.831165 L -87.300706,31.831197 L -87.300662,31.831197 L -87.300464,31.831207 L -87.298835,31.831217 L -87.298297,31.83122 L -87.292208,31.83126 L -87.289402,31.831278 L -87.283568,31.831317 L -87.282104,31.831319 L -87.27336,31.831332 L -87.269819,31.831337 L -87.254329,31.83136 L -87.252235,31.831363 L -87.249987,31.831367 L -87.244551,31.831795 L -87.239599,31.831668 L -87.23556,31.831565 L -87.232903,31.83152 L -87.232786,31.831564 L -87.232732,31.831563 L -87.228283,31.831418 L -87.221451,31.830013 L -87.218403,31.829386 L -87.214084,31.828498 L -87.207653,31.828499 L -87.203334,31.8285 L -87.193408,31.828502 L -87.191807,31.828503 L -87.179153,31.828481 L -87.177543,31.828481 L -87.174576,31.82848 L -87.165869,31.82842 L -87.162832,31.828416 L -87.157732,31.828408 L -87.140138,31.82838 L -87.135378,31.828336 L -87.123655,31.828625 L -87.119296,31.828903 L -87.118458,31.828916 L -87.117099,31.828886 L -87.116951,31.828883 L -87.116703,31.828859 L -87.116593,31.828848 L -87.116567,31.828842 L -87.116378,31.828801 L -87.116341,31.828784 L -87.116242,31.828785 L -87.114144,31.828812 L -87.114024,31.828876 L -87.11388,31.828929 L -87.113735,31.828959 L -87.113674,31.828964 L -87.113589,31.82897 L -87.112646,31.82899 L -87.111769,31.828949 L -87.110893,31.828919 L -87.110158,31.828875 L -87.109725,31.828886 L -87.10929,31.828924 L -87.108636,31.828966 L -87.108195,31.828976 L -87.108057,31.828972 L -87.107534,31.828958 L -87.107093,31.828963 L -87.105134,31.829045 L -87.104696,31.829079 L -87.104258,31.829102 L -87.103825,31.829094 L -87.103171,31.829046 L -87.101609,31.828999 L -87.100718,31.82898 L -87.099847,31.828991 L -87.098988,31.829032 L -87.098887,31.829048 L -87.094753,31.829091 L -87.094054,31.829099 L -87.093217,31.829107 L -87.092107,31.82912 L -87.091187,31.829131 L -87.087452,31.82914 L -87.083642,31.829173 L -87.079889,31.82919 L -87.078913,31.829196 L -87.076806,31.82921 L -87.07212,31.829259 L -87.067707,31.829375 L -87.063523,31.829398 L -87.059352,31.829421 L -87.058038,31.829429 L -87.057805,31.82943 L -87.050052,31.82948 L -87.03968,31.829626 L -87.037577,31.829656 L -87.033665,31.829669 L -87.029299,31.829684 L -87.025723,31.829697 L -87.022407,31.829727 L -87.020235,31.829747 L -87.014205,31.829812 L -87.008023,31.829889 L -86.999923,31.829942 L -86.989497,31.829996 L -86.976519,31.83006 L -86.97485,31.830069 L -86.971128,31.830102 L -86.963469,31.830172 L -86.961241,31.830189 L -86.959248,31.830205 L -86.957828,31.830243 L -86.948607,31.83036 L -86.948224,31.830365 L -86.943352,31.830432 L -86.94169,31.830455 L -86.939485,31.830486 L -86.938125,31.83052 L -86.937022,31.830531 L -86.934159,31.830561 L -86.92616,31.830663 L -86.925698,31.830656 L -86.923766,31.83076 L -86.917618,31.830747 L -86.917172,31.830712 L -86.907137,31.830629 L -86.906899,31.830628 L -86.906857,31.827703 L -86.906824,31.825376 L -86.90679,31.822939 L -86.906735,31.81934 L -86.906707,31.817254 L -86.906699,31.816614 L -86.906687,31.815661 L -86.90668,31.81507 L -86.906592,31.808311 L -86.906572,31.799822 L -86.906514,31.791026 L -86.906499,31.788591 L -86.906492,31.787458 L -86.906478,31.785266 L -86.90645,31.783762 L -86.906213,31.770589 L -86.906151,31.767123 L -86.905899,31.753035 L -86.90688,31.752883 L -86.907533,31.752813 L -86.907796,31.752796 L -86.907816,31.752795 L -86.908022,31.752783 L -86.908406,31.752759 L -86.909063,31.752757 L -86.909435,31.752765 L -86.909712,31.752775 L -86.910604,31.7528 L -86.910806,31.752799 L -86.910893,31.752799 L -86.911045,31.752798 L -86.911235,31.752783 L -86.911502,31.752762 L -86.911585,31.752749 L -86.91192,31.752695 L -86.912343,31.752591 L -86.912729,31.752459 L -86.912758,31.752449 L -86.913027,31.752334 L -86.913396,31.752147 L -86.913419,31.752135 L -86.913669,31.751981 L -86.913725,31.751942 L -86.913842,31.751859 L -86.914454,31.751429 L -86.914499,31.751397 L -86.916468,31.74999 L -86.916722,31.749827 L -86.917123,31.749609 L -86.917335,31.749512 L -86.9174,31.749482 L -86.917687,31.749374 L -86.917983,31.749283 L -86.918443,31.74918 L -86.918473,31.749175 L -86.918706,31.749138 L -86.918735,31.749133 L -86.918757,31.74913 L -86.919077,31.749103 L -86.921094,31.749062 L -86.921287,31.749058 L -86.921395,31.749056 L -86.92161,31.749051 L -86.921917,31.749033 L -86.922144,31.748992 L -86.922234,31.748976 L -86.922359,31.748954 L -86.922483,31.748932 L -86.923145,31.748777 L -86.923311,31.748729 L -86.923354,31.748716 L -86.923482,31.748679 L -86.923902,31.74854 L -86.92437,31.748369 L -86.924415,31.748353 L -86.924473,31.748332 L -86.924489,31.748326 L -86.924505,31.74832 L -86.926477,31.747597 L -86.926505,31.747587 L -86.927215,31.747327 L -86.927304,31.747294 L -86.927428,31.747249 L -86.927442,31.747244 L -86.92746,31.747237 L -86.927487,31.747228 L -86.928008,31.747055 L -86.928035,31.747046 L -86.92814,31.747011 L -86.928328,31.746959 L -86.928338,31.746956 L -86.928663,31.746866 L -86.928746,31.746843 L -86.929196,31.746747 L -86.930423,31.746554 L -86.930968,31.746503 L -86.931048,31.746496 L -86.93114,31.746487 L -86.931311,31.746484 L -86.931796,31.746475 L -86.932241,31.746447 L -86.932445,31.746421 L -86.933074,31.746342 L -86.93309,31.74634 L -86.933143,31.746333 L -86.933163,31.74633 L -86.933327,31.746309 L -86.933347,31.746305 L -86.933617,31.746251 L -86.933759,31.746209 L -86.933897,31.746158 L -86.934491,31.745881 L -86.934747,31.745743 L -86.934991,31.745588 L -86.935444,31.745234 L -86.935545,31.745157 L -86.93562,31.745101 L -86.935805,31.744983 L -86.936157,31.74473 L -86.936996,31.744041 L -86.93751,31.743645 L -86.937624,31.743566 L -86.937747,31.743481 L -86.937873,31.743408 L -86.938005,31.743345 L -86.938141,31.743296 L -86.938165,31.743291 L -86.93828,31.743268 L -86.938441,31.743255 L -86.938716,31.743234 L -86.938856,31.743198 L -86.939062,31.743119 L -86.940456,31.742512 L -86.940716,31.742383 L -86.941284,31.74206 L -86.941466,31.741956 L -86.942443,31.741448 L -86.943011,31.741129 L -86.943589,31.740836 L -86.944122,31.740601 L -86.944539,31.740448 L -86.945556,31.74003 L -86.945762,31.739963 L -86.945933,31.739915 L -86.946249,31.739828 L -86.946538,31.739767 L -86.946678,31.739726 L -86.946814,31.739673 L -86.946942,31.739606 L -86.947297,31.739368 L -86.947349,31.739319 L -86.947432,31.739203 L -86.947493,31.739074 L -86.947538,31.738939 L -86.947557,31.7388 L -86.947566,31.738514 L -86.947523,31.738149 L -86.947525,31.738029 L -86.947541,31.737883 L -86.947612,31.737526 L -86.947983,31.736038 L -86.948022,31.735881 L -86.948064,31.735775 L -86.948139,31.735648 L -86.948652,31.735003 L -86.948725,31.734883 L -86.948805,31.734868 L -86.948858,31.734858 L -86.948949,31.73484 L -86.949266,31.734824 L -86.949472,31.734814 L -86.950124,31.734811 L -86.950333,31.734823 L -86.951224,31.734834 L -86.951511,31.734847 L -86.951658,31.734854 L -86.951853,31.73487 L -86.952316,31.734907 L -86.952748,31.734962 L -86.952892,31.734964 L -86.953106,31.734939 L -86.953586,31.734787 L -86.953724,31.734757 L -86.953932,31.734742 L -86.954146,31.734716 L -86.954214,31.734695 L -86.954277,31.734661 L -86.954331,31.734615 L -86.954375,31.73456 L -86.95441,31.734498 L -86.954441,31.734423 L -86.954482,31.734327 L -86.95451,31.734241 L -86.954667,31.733765 L -86.954707,31.733679 L -86.954727,31.733635 L -86.955133,31.732877 L -86.955211,31.732753 L -86.955348,31.732582 L -86.955514,31.732436 L -86.955946,31.732146 L -86.956201,31.732003 L -86.956786,31.731712 L -86.957051,31.731596 L -86.957076,31.731588 L -86.957191,31.731552 L -86.957333,31.73152 L -86.957514,31.731498 L -86.957612,31.731486 L -86.95819,31.731464 L -86.958335,31.731443 L -86.958474,31.731411 L -86.958752,31.731329 L -86.959024,31.731231 L -86.959056,31.731217 L -86.95942,31.731047 L -86.959605,31.730977 L -86.95969,31.730944 L -86.960045,31.730856 L -86.960254,31.730792 L -86.960675,31.730678 L -86.961327,31.730479 L -86.961605,31.730472 L -86.961662,31.730471 L -86.965854,31.730468 L -86.966636,31.730461 L -86.967165,31.730428 L -86.967888,31.730343 L -86.968245,31.730284 L -86.968685,31.730187 L -86.969458,31.729975 L -86.973771,31.728666 L -86.973799,31.728658 L -86.975539,31.728136 L -86.975562,31.728129 L -86.975606,31.728115 L -86.975872,31.728035 L -86.975974,31.728 L -86.975989,31.727995 L -86.976008,31.727989 L -86.976913,31.727684 L -86.977386,31.727492 L -86.977916,31.727251 L -86.978563,31.726928 L -86.978749,31.726819 L -86.979095,31.726652 L -86.979895,31.726179 L -86.98028,31.725869 L -86.980534,31.725598 L -86.980995,31.724928 L -86.981209,31.724561 L -86.981611,31.723552 L -86.981634,31.723385 L -86.982842,31.722188 L -86.988616,31.718791 L -86.98932,31.718562 L -86.994639,31.719567 L -86.995297,31.7197 L -86.995398,31.719606 L -86.995644,31.719409 L -86.995775,31.719317 L -86.995892,31.719236 L -86.995906,31.719226 L -86.995934,31.719209 L -86.996186,31.71906 L -86.996356,31.718973 L -86.996382,31.71896 L -86.996478,31.718911 L -86.996782,31.71878 L -86.99724,31.718618 L -86.999348,31.717994 L -86.999375,31.717986 L -86.999395,31.717978 L -86.999957,31.717756 L -86.999981,31.717744 L -87.000262,31.717599 L -87.000494,31.717462 L -87.000734,31.717299 L -87.000963,31.717118 L -87.001179,31.716922 L -87.00138,31.716711 L -87.001619,31.716428 L -87.001714,31.716411 L -87.001798,31.716386 L -87.00217,31.716173 L -87.002824,31.715859 L -87.003073,31.715713 L -87.00343,31.715447 L -87.00348,31.715424 L -87.003626,31.715358 L -87.003944,31.715032 L -87.003958,31.715017 L -87.00447,31.714859 L -87.005771,31.714681 L -87.005828,31.714675 L -87.007108,31.714584 L -87.00794,31.714396 L -87.008496,31.714384 L -87.010791,31.713874 L -87.012351,31.713444 L -87.01286,31.713536 L -87.013825,31.713651 L -87.013933,31.713719 L -87.01462,31.713698 L -87.015664,31.713899 L -87.016013,31.713861 L -87.016872,31.713746 L -87.017427,31.713838 L -87.019431,31.714214 L -87.020875,31.714006 L -87.021726,31.713762 L -87.023797,31.71273 L -87.024141,31.712559 L -87.024453,31.712553 L -87.025316,31.712859 L -87.02799,31.713087 L -87.033396,31.714345 L -87.034041,31.714495 L -87.034082,31.714505 L -87.034154,31.714522 L -87.034251,31.714545 L -87.037168,31.715229 L -87.037205,31.715238 L -87.038178,31.715465 L -87.038912,31.715637 L -87.039024,31.715663 L -87.039131,31.715688 L -87.039144,31.715691 L -87.039193,31.715703 L -87.039466,31.715767 L -87.039601,31.715799 L -87.039642,31.715808 L -87.039662,31.715813 L -87.03968,31.715817 L -87.040494,31.715991 L -87.041034,31.71609 L -87.041157,31.716107 L -87.041488,31.716153 L -87.042217,31.716226 L -87.042974,31.716279 L -87.043719,31.716331 L -87.043994,31.716372 L -87.044354,31.716442 L -87.044563,31.716502 L -87.044608,31.716514 L -87.044699,31.716541 L -87.044834,31.716594 L -87.044866,31.716606 L -87.045029,31.716669 L -87.045245,31.716775 L -87.045345,31.716824 L -87.04564,31.717007 L -87.048644,31.71916 L -87.048903,31.719321 L -87.049298,31.719056 L -87.049564,31.718922 L -87.049855,31.718803 L -87.049956,31.718771 L -87.05016,31.718706 L -87.050204,31.718696 L -87.050232,31.71869 L -87.050244,31.718687 L -87.050472,31.718636 L -87.050512,31.718631 L -87.050785,31.718595 L -87.050846,31.718546 L -87.050854,31.718539 L -87.050997,31.718424 L -87.0511,31.71834 L -87.051121,31.718308 L -87.051128,31.718297 L -87.051143,31.718273 L -87.051168,31.718246 L -87.051453,31.717944 L -87.051682,31.717666 L -87.051893,31.717374 L -87.052284,31.716761 L -87.052642,31.716158 L -87.052662,31.716125 L -87.052688,31.71608 L -87.05271,31.716041 L -87.053028,31.71548 L -87.055874,31.710683 L -87.056073,31.710362 L -87.05629,31.710053 L -87.056529,31.709761 L -87.056791,31.709485 L -87.057078,31.709222 L -87.059242,31.70739 L -87.059539,31.70712 L -87.059822,31.70684 L -87.060073,31.70654 L -87.060298,31.70623 L -87.060497,31.705909 L -87.060678,31.705571 L -87.060833,31.705217 L -87.060954,31.704848 L -87.061038,31.704462 L -87.06109,31.704063 L -87.061163,31.702814 L -87.061371,31.697981 L -87.061396,31.697488 L -87.061397,31.697467 L -87.061435,31.696716 L -87.06159,31.692954 L -87.061586,31.692558 L -87.061556,31.692165 L -87.061504,31.691791 L -87.061502,31.691777 L -87.061442,31.691495 L -87.061419,31.691386 L -87.061209,31.690592 L -87.061108,31.690238 L -87.061103,31.690221 L -87.061094,31.690191 L -87.061085,31.690165 L -87.060959,31.689796 L -87.060816,31.689443 L -87.060799,31.689402 L -87.060607,31.689013 L -87.06039,31.688631 L -87.060377,31.688609 L -87.060369,31.688596 L -87.059499,31.687177 L -87.059443,31.68708 L -87.059313,31.686857 L -87.059306,31.686845 L -87.059299,31.686832 L -87.059285,31.686805 L -87.059112,31.686471 L -87.058971,31.686131 L -87.058957,31.686097 L -87.058932,31.685995 L -87.058886,31.685811 L -87.058863,31.685717 L -87.05886,31.685685 L -87.058859,31.685676 L -87.058857,31.685662 L -87.058854,31.685639 L -87.058852,31.685626 L -87.058828,31.685435 L -87.058816,31.685334 L -87.058805,31.685027 L -87.058804,31.685003 L -87.058803,31.684987 L -87.058802,31.684955 L -87.058747,31.683412 L -87.058709,31.683039 L -87.058637,31.682668 L -87.058518,31.682291 L -87.058338,31.681917 L -87.058234,31.681746 L -87.058221,31.681724 L -87.058194,31.681681 L -87.058114,31.68155 L -87.057383,31.680482 L -87.056944,31.679806 L -87.056928,31.679782 L -87.056902,31.679734 L -87.056736,31.679427 L -87.056608,31.679141 L -87.056575,31.679068 L -87.05657,31.679055 L -87.056415,31.678656 L -87.056409,31.678641 L -87.056164,31.678011 L -87.05604,31.677663 L -87.05603,31.67763 L -87.05597,31.677432 L -87.055967,31.677381 L -87.056288,31.677089 L -87.058624,31.674826 L -87.059481,31.674038 L -87.059887,31.673681 L -87.0599,31.673673 L -87.062647,31.671287 L -87.063215,31.670825 L -87.064092,31.670172 L -87.064245,31.670066 L -87.064447,31.669926 L -87.064558,31.669867 L -87.064588,31.66986 L -87.064717,31.669831 L -87.064791,31.66983 L -87.065081,31.669861 L -87.06544,31.66991 L -87.066156,31.670027 L -87.066514,31.67007 L -87.066641,31.670071 L -87.066755,31.670072 L -87.066875,31.670073 L -87.067074,31.670057 L -87.067095,31.670055 L -87.067235,31.670043 L -87.069525,31.669782 L -87.069562,31.669778 L -87.069607,31.669773 L -87.06963,31.66977 L -87.069647,31.669768 L -87.069761,31.669755 L -87.070121,31.669706 L -87.070278,31.669678 L -87.070374,31.669661 L -87.070479,31.669642 L -87.070568,31.66962 L -87.070599,31.669612 L -87.070629,31.669604 L -87.070643,31.6696 L -87.070664,31.669594 L -87.070723,31.669579 L -87.071561,31.669364 L -87.072571,31.669114 L -87.072611,31.669104 L -87.072798,31.669051 L -87.072815,31.669046 L -87.073545,31.66884 L -87.073707,31.668794 L -87.074066,31.668683 L -87.074408,31.668562 L -87.074419,31.668558 L -87.074438,31.66855 L -87.074461,31.668541 L -87.074745,31.668426 L -87.074818,31.668391 L -87.075169,31.668221 L -87.075386,31.668097 L -87.075743,31.667892 L -87.075776,31.667873 L -87.076469,31.667475 L -87.077677,31.666782 L -87.078014,31.666578 L -87.078331,31.666343 L -87.078618,31.666081 L -87.078868,31.665796 L -87.079077,31.665488 L -87.080179,31.663723 L -87.080283,31.663556 L -87.083296,31.658732 L -87.083512,31.658417 L -87.083741,31.658114 L -87.083984,31.65783 L -87.084238,31.657562 L -87.0845,31.657301 L -87.087218,31.654795 L -87.088997,31.653154 L -87.089287,31.652935 L -87.089598,31.652745 L -87.089933,31.652585 L -87.090098,31.652523 L -87.090159,31.652502 L -87.090281,31.652455 L -87.090385,31.652427 L -87.090517,31.652392 L -87.090528,31.652389 L -87.090634,31.65236 L -87.090687,31.652351 L -87.0909,31.652313 L -87.090992,31.652297 L -87.091035,31.652293 L -87.091352,31.652263 L -87.092554,31.65222 L -87.092575,31.652219 L -87.094854,31.652136 L -87.098277,31.652012 L -87.104719,31.651779 L -87.105562,31.651733 L -87.105986,31.651686 L -87.106406,31.651622 L -87.106821,31.65154 L -87.107226,31.651444 L -87.107279,31.65143 L -87.107542,31.651354 L -87.107571,31.651346 L -87.107627,31.65133 L -87.107645,31.651324 L -87.107949,31.651228 L -87.108021,31.651205 L -87.110116,31.650493 L -87.110222,31.650457 L -87.110556,31.650334 L -87.110865,31.650243 L -87.112679,31.649625 L -87.113063,31.649485 L -87.113443,31.64933 L -87.113817,31.649156 L -87.114188,31.648967 L -87.114551,31.648762 L -87.114905,31.648537 L -87.118568,31.646018 L -87.118744,31.645897 L -87.121002,31.644345 L -87.121129,31.644263 L -87.121142,31.644254 L -87.121219,31.644204 L -87.121337,31.644127 L -87.121688,31.643947 L -87.121813,31.643896 L -87.121883,31.643867 L -87.122045,31.643801 L -87.122416,31.643687 L -87.122795,31.643612 L -87.123182,31.643577 L -87.123576,31.64357 L -87.123981,31.643607 L -87.124392,31.643671 L -87.125803,31.643919 L -87.126147,31.643979 L -87.1266,31.644048 L -87.127046,31.644092 L -87.127478,31.644106 L -87.1279,31.644089 L -87.128317,31.644053 L -87.128731,31.643992 L -87.130771,31.643567 L -87.132439,31.643199 L -87.132666,31.643145 L -87.132849,31.643102 L -87.13312,31.643029 L -87.133138,31.643024 L -87.133631,31.642891 L -87.134348,31.642685 L -87.134694,31.642568 L -87.135051,31.642417 L -87.135064,31.642408 L -87.135085,31.642393 L -87.135369,31.642195 L -87.135652,31.641978 L -87.135899,31.641719 L -87.136104,31.641423 L -87.136198,31.641232 L -87.136273,31.64103 L -87.13632,31.640902 L -87.136331,31.640822 L -87.136362,31.640607 L -87.136641,31.63782 L -87.1368,31.636872 L -87.136879,31.636405 L -87.136997,31.635912 L -87.137171,31.635277 L -87.137558,31.633861 L -87.137754,31.632818 L -87.137911,31.631766 L -87.138087,31.630704 L -87.138303,31.629655 L -87.138565,31.628608 L -87.139021,31.627004 L -87.139251,31.626194 L -87.13945,31.625456 L -87.139527,31.625094 L -87.139574,31.624784 L -87.139572,31.624661 L -87.139571,31.624612 L -87.139597,31.624322 L -87.139605,31.623897 L -87.139589,31.623479 L -87.139548,31.623064 L -87.139491,31.622734 L -87.139476,31.622646 L -87.139342,31.62208 L -87.1392,31.621521 L -87.139002,31.620742 L -87.138102,31.617207 L -87.13748,31.614762 L -87.1374,31.614446 L -87.137329,31.614084 L -87.137289,31.613799 L -87.137278,31.613547 L -87.137286,31.613371 L -87.137287,31.61335 L -87.137312,31.613154 L -87.137371,31.612872 L -87.13743,31.612684 L -87.137452,31.612615 L -87.137535,31.612418 L -87.137557,31.612365 L -87.137603,31.612284 L -87.137612,31.612268 L -87.137733,31.612053 L -87.137988,31.611713 L -87.138009,31.611685 L -87.138087,31.611613 L -87.13834,31.611328 L -87.138512,31.611132 L -87.138535,31.611106 L -87.138547,31.611093 L -87.138593,31.611041 L -87.138629,31.611001 L -87.139495,31.610024 L -87.13987,31.609582 L -87.140044,31.609348 L -87.140196,31.609099 L -87.140335,31.608841 L -87.140477,31.608513 L -87.140529,31.608363 L -87.140545,31.608316 L -87.140559,31.608254 L -87.140624,31.607963 L -87.140652,31.607837 L -87.140698,31.607344 L -87.140892,31.602438 L -87.140932,31.601951 L -87.140988,31.601457 L -87.141064,31.600965 L -87.141155,31.600482 L -87.141266,31.599998 L -87.141393,31.599527 L -87.141917,31.59781 L -87.141931,31.597763 L -87.142067,31.59728 L -87.14207,31.597268 L -87.142077,31.597243 L -87.142099,31.597171 L -87.142213,31.596806 L -87.142351,31.596315 L -87.142591,31.595373 L -87.142616,31.595277 L -87.143264,31.592409 L -87.143924,31.589485 L -87.144004,31.589206 L -87.144097,31.58893 L -87.144205,31.588658 L -87.144424,31.5882 L -87.144492,31.58808 L -87.144602,31.587887 L -87.144631,31.587844 L -87.144749,31.587669 L -87.144755,31.58766 L -87.144813,31.587574 L -87.144952,31.587403 L -87.144958,31.587386 L -87.145126,31.587168 L -87.145203,31.587088 L -87.145815,31.586455 L -87.145846,31.586423 L -87.145868,31.5864 L -87.14619,31.586066 L -87.147636,31.584615 L -87.14765,31.584601 L -87.148642,31.583605 L -87.148773,31.583474 L -87.148904,31.583342 L -87.15198,31.580255 L -87.152068,31.580161 L -87.152341,31.579871 L -87.152433,31.579767 L -87.152682,31.579485 L -87.153002,31.579086 L -87.153299,31.578673 L -87.15357,31.578247 L -87.153825,31.577805 L -87.154056,31.57735 L -87.154479,31.576428 L -87.156976,31.570847 L -87.15758,31.569437 L -87.15874,31.566615 L -87.158905,31.566191 L -87.158925,31.56614 L -87.159396,31.564709 L -87.160676,31.559904 L -87.160782,31.55943 L -87.16084,31.55908 L -87.160875,31.558797 L -87.160908,31.558377 L -87.160916,31.557812 L -87.160887,31.557306 L -87.160826,31.556818 L -87.160685,31.55613 L -87.160096,31.553688 L -87.160092,31.553671 L -87.159936,31.552991 L -87.159784,31.552155 L -87.159596,31.550571 L -87.159581,31.550384 L -87.159568,31.550222 L -87.159577,31.549974 L -87.159583,31.549816 L -87.15964,31.549386 L -87.159765,31.548894 L -87.159853,31.548664 L -87.159861,31.548642 L -87.159868,31.548623 L -87.160629,31.547472 L -87.160785,31.547317 L -87.163216,31.545117 L -87.163545,31.544838 L -87.163724,31.544709 L -87.163909,31.544592 L -87.164102,31.544488 L -87.164297,31.544396 L -87.164501,31.544318 L -87.16471,31.544252 L -87.164762,31.544241 L -87.165077,31.544172 L -87.165328,31.544141 L -87.165351,31.544127 L -87.165417,31.543854 L -87.165662,31.542897 L -87.166757,31.538629 L -87.167185,31.536993 L -87.167222,31.536828 L -87.167282,31.536558 L -87.167447,31.535906 L -87.167472,31.535808 L -87.167536,31.535589 L -87.167648,31.535142 L -87.167733,31.534801 L -87.167823,31.534311 L -87.167873,31.533907 L -87.167896,31.533497 L -87.167896,31.533394 L -87.167895,31.53317 L -87.167888,31.532991 L -87.167883,31.532881 L -87.167879,31.532794 L -87.167851,31.532493 L -87.167751,31.531909 L -87.167641,31.531444 L -87.167591,31.531246 L -87.167456,31.530772 L -87.167405,31.530603 L -87.166442,31.527402 L -87.16628,31.526864 L -87.166266,31.526826 L -87.166222,31.526709 L -87.16618,31.526565 L -87.166071,31.526191 L -87.166017,31.526005 L -87.165317,31.523675 L -87.165234,31.52335 L -87.165169,31.522951 L -87.165163,31.52282 L -87.165171,31.522424 L -87.165188,31.522223 L -87.165241,31.521904 L -87.165333,31.521571 L -87.165491,31.521168 L -87.165594,31.520975 L -87.165745,31.520728 L -87.165907,31.520498 L -87.166037,31.520313 L -87.166343,31.519904 L -87.166581,31.519561 L -87.169118,31.516089 L -87.169293,31.515849 L -87.172976,31.510812 L -87.174193,31.509146 L -87.17439,31.508874 L -87.174491,31.508734 L -87.175142,31.507833 L -87.175923,31.506762 L -87.177864,31.5041 L -87.178263,31.503553 L -87.178281,31.503528 L -87.178669,31.502997 L -87.178688,31.502971 L -87.178711,31.502939 L -87.18014,31.500978 L -87.180148,31.500967 L -87.180218,31.500871 L -87.180241,31.50084 L -87.180306,31.500751 L -87.180771,31.500114 L -87.181283,31.499412 L -87.182121,31.498226 L -87.182213,31.498095 L -87.182412,31.497747 L -87.182462,31.49766 L -87.182467,31.497651 L -87.182799,31.49707 L -87.18282,31.497033 L -87.182829,31.497018 L -87.182998,31.496723 L -87.183436,31.495947 L -87.184029,31.494895 L -87.184857,31.493426 L -87.186719,31.490123 L -87.186748,31.490072 L -87.186801,31.489979 L -87.186823,31.48994 L -87.187267,31.489137 L -87.187305,31.489067 L -87.187311,31.489057 L -87.187347,31.488992 L -87.187384,31.488925 L -87.187445,31.488794 L -87.187625,31.48848 L -87.187797,31.48823 L -87.187818,31.488199 L -87.187993,31.487942 L -87.188155,31.487742 L -87.188207,31.487678 L -87.188529,31.487349 L -87.188694,31.487207 L -87.189371,31.48666 L -87.190116,31.486072 L -87.190743,31.485577 L -87.190977,31.485401 L -87.191281,31.485201 L -87.191477,31.485102 L -87.191611,31.485044 L -87.191886,31.484949 L -87.192097,31.484893 L -87.192454,31.484821 L -87.192814,31.484768 L -87.193001,31.484729 L -87.193452,31.484659 L -87.193522,31.484475 L -87.193621,31.484232 L -87.194167,31.483108 L -87.194428,31.482588 L -87.194569,31.482334 L -87.194896,31.481852 L -87.195075,31.481621 L -87.195425,31.481246 L -87.195486,31.481181 L -87.195558,31.481116 L -87.195762,31.480933 L -87.195949,31.480771 L -87.195967,31.480756 L -87.197026,31.479839 L -87.19719,31.479673 L -87.197237,31.479626 L -87.197556,31.479124 L -87.197691,31.478866 L -87.197774,31.478662 L -87.197864,31.478386 L -87.197929,31.478107 L -87.197955,31.477764 L -87.197951,31.477556 L -87.197918,31.477307 L -87.197904,31.477204 L -87.197897,31.477149 L -87.197805,31.476806 L -87.197106,31.474619 L -87.197028,31.47428 L -87.196984,31.473945 L -87.196973,31.473565 L -87.196998,31.473247 L -87.197075,31.472837 L -87.197156,31.472555 L -87.197198,31.472432 L -87.19722,31.472367 L -87.197458,31.471913 L -87.197467,31.471896 L -87.197556,31.471759 L -87.19792,31.471046 L -87.198061,31.470792 L -87.19829,31.470419 L -87.198585,31.470002 L -87.198765,31.469772 L -87.199001,31.469497 L -87.19935,31.46913 L -87.199614,31.468879 L -87.200638,31.467945 L -87.201076,31.467556 L -87.201449,31.467204 L -87.201703,31.466942 L -87.202079,31.466502 L -87.202419,31.466042 L -87.202654,31.465677 L -87.202694,31.465614 L -87.202946,31.465159 L -87.203398,31.464227 L -87.203403,31.464216 L -87.20381,31.463378 L -87.203838,31.46331 L -87.203893,31.463176 L -87.204396,31.462145 L -87.204666,31.461553 L -87.205324,31.46019 L -87.205708,31.459395 L -87.205931,31.459025 L -87.206208,31.458685 L -87.206356,31.458527 L -87.206513,31.458376 L -87.206591,31.458308 L -87.206677,31.458232 L -87.206847,31.458096 L -87.207088,31.457931 L -87.207291,31.457808 L -87.207342,31.457777 L -87.20773,31.457581 L -87.208066,31.45744 L -87.208272,31.457368 L -87.208551,31.457285 L -87.20911,31.45716 L -87.209411,31.457124 L -87.212951,31.456786 L -87.213449,31.456728 L -87.213954,31.45667 L -87.215461,31.456454 L -87.216044,31.456387 L -87.216152,31.456383 L -87.216292,31.456363 L -87.216325,31.456358 L -87.216338,31.456356 L -87.217067,31.456251 L -87.217098,31.456247 L -87.218562,31.456036 L -87.218586,31.456033 L -87.219221,31.455941 L -87.219854,31.45585 L -87.219889,31.455845 L -87.220318,31.455783 L -87.220932,31.455692 L -87.220959,31.455688 L -87.220987,31.455683 L -87.221003,31.455681 L -87.22103,31.455677 L -87.221089,31.455668 L -87.221115,31.455664 L -87.221135,31.455661 L -87.221892,31.455548 L -87.222417,31.455457 L -87.222491,31.455442 L -87.222623,31.455414 L -87.222655,31.455408 L -87.225101,31.45491 L -87.225113,31.454908 L -87.225546,31.454834 L -87.227797,31.454363 L -87.228296,31.45423 L -87.228629,31.454117 L -87.228858,31.454023 L -87.22887,31.454018 L -87.229008,31.453961 L -87.229065,31.453934 L -87.22928,31.453829 L -87.229543,31.453701 L -87.229993,31.453419 L -87.23001,31.453406 L -87.230526,31.453 L -87.230894,31.452653 L -87.231193,31.452316 L -87.231229,31.452275 L -87.231264,31.452227 L -87.231715,31.451606 L -87.231828,31.451451 L -87.232079,31.451089 L -87.232113,31.45104 L -87.232133,31.451012 L -87.232175,31.450952 L -87.232929,31.44987 L -87.233385,31.449232 L -87.233575,31.448956 L -87.233671,31.448817 L -87.233678,31.448807 L -87.23374,31.448688 L -87.233745,31.44868 L -87.233876,31.448434 L -87.233917,31.448356 L -87.233996,31.448152 L -87.234018,31.44807 L -87.234053,31.447942 L -87.234056,31.44793 L -87.234072,31.447875 L -87.234259,31.447829 L -87.234372,31.447793 L -87.234512,31.447732 L -87.234592,31.447697 L -87.234727,31.447618 L -87.235353,31.447253 L -87.235536,31.447135 L -87.235678,31.447059 L -87.235732,31.447043 L -87.235815,31.447018 L -87.235958,31.446997 L -87.235975,31.446996 L -87.236102,31.446989 L -87.236171,31.446939 L -87.236179,31.446933 L -87.237672,31.445847 L -87.238738,31.44495 L -87.239897,31.44364 L -87.240774,31.442202 L -87.241619,31.441164 L -87.243826,31.438686 L -87.244125,31.438582 L -87.244139,31.438576 L -87.244258,31.438528 L -87.244556,31.43833 L -87.244982,31.437943 L -87.245337,31.437553 L -87.245702,31.437194 L -87.24615,31.43683 L -87.246389,31.436676 L -87.246498,31.436572 L -87.247422,31.435965 L -87.247524,31.435967 L -87.247714,31.435863 L -87.247837,31.435764 L -87.248146,31.435475 L -87.248275,31.435375 L -87.24898,31.434829 L -87.249003,31.434811 L -87.24926,31.434598 L -87.250213,31.433926 L -87.250653,31.433552 L -87.251072,31.433239 L -87.251484,31.432947 L -87.251942,31.432596 L -87.252285,31.432288 L -87.252519,31.432101 L -87.252702,31.431955 L -87.252793,31.431882 L -87.253028,31.431713 L -87.253142,31.431652 L -87.253261,31.431602 L -87.253389,31.431515 L -87.25351,31.431433 L -87.253959,31.431113 L -87.254186,31.430931 L -87.254405,31.430743 L -87.254622,31.430455 L -87.254785,31.430216 L -87.254918,31.430045 L -87.255156,31.429771 L -87.255262,31.42967 L -87.255508,31.429483 L -87.255623,31.429425 L -87.256162,31.429221 L -87.258051,31.42788 L -87.258797,31.42743 L -87.259284,31.427111 L -87.260037,31.426677 L -87.260518,31.426357 L -87.261436,31.42565 L -87.261883,31.425282 L -87.262115,31.425108 L -87.262785,31.424673 L -87.263185,31.424362 L -87.263838,31.423905 L -87.264025,31.423715 L -87.264081,31.423658 L -87.264145,31.423581 L -87.264299,31.423428 L -87.264413,31.423337 L -87.26564,31.422563 L -87.265811,31.422432 L -87.266106,31.422114 L -87.266219,31.422021 L -87.266407,31.42191 L -87.266731,31.42175 L -87.266932,31.421665 L -87.267071,31.421622 L -87.267353,31.421556 L -87.26749,31.421509 L -87.267614,31.421436 L -87.267718,31.421338 L -87.267949,31.421059 L -87.268059,31.420964 L -87.268119,31.420923 L -87.26823,31.420868 L -87.268377,31.420795 L -87.268445,31.420762 L -87.268563,31.420679 L -87.269013,31.420208 L -87.269203,31.419988 L -87.269939,31.419092 L -87.270477,31.418407 L -87.270582,31.418218 L -87.270625,31.418114 L -87.270733,31.417768 L -87.270912,31.417039 L -87.271048,31.41638 L -87.271069,31.416313 L -87.271098,31.416225 L -87.271107,31.416198 L -87.271121,31.416137 L -87.271449,31.414897 L -87.271493,31.414758 L -87.271619,31.414415 L -87.271768,31.414082 L -87.271841,31.413945 L -87.27194,31.413759 L -87.272003,31.413667 L -87.27208,31.413554 L -87.272145,31.41346 L -87.272365,31.413171 L -87.272495,31.413012 L -87.272597,31.412887 L -87.272909,31.412525 L -87.273789,31.411506 L -87.274035,31.411238 L -87.274104,31.411176 L -87.274307,31.410994 L -87.274364,31.410955 L -87.274381,31.410943 L -87.27439,31.410937 L -87.274539,31.410836 L -87.27461,31.410788 L -87.274932,31.410606 L -87.275062,31.41055 L -87.275237,31.410476 L -87.275279,31.410456 L -87.275336,31.410438 L -87.275346,31.410435 L -87.275508,31.410385 L -87.275521,31.410381 L -87.275535,31.410377 L -87.27564,31.410345 L -87.276411,31.41018 L -87.277154,31.410021 L -87.280234,31.409379 L -87.280896,31.409241 L -87.281425,31.40913 L -87.28145,31.409125 L -87.282141,31.408981 L -87.282438,31.408919 L -87.282945,31.408809 L -87.283586,31.408671 L -87.283933,31.40858 L -87.284061,31.408536 L -87.284508,31.408383 L -87.284613,31.408347 L -87.284948,31.408195 L -87.284984,31.408175 L -87.285031,31.408149 L -87.285049,31.408139 L -87.285288,31.408006 L -87.287111,31.406894 L -87.288925,31.40577 L -87.289404,31.405474 L -87.289745,31.405278 L -87.289842,31.405235 L -87.289885,31.405216 L -87.290471,31.404954 L -87.290825,31.404785 L -87.290907,31.404734 L -87.291154,31.404579 L -87.291454,31.404358 L -87.291469,31.404347 L -87.29193,31.404008 L -87.291945,31.403997 L -87.292079,31.403898 L -87.292137,31.403861 L -87.292398,31.403696 L -87.292662,31.403551 L -87.292732,31.403513 L -87.293087,31.403339 L -87.293248,31.403267 L -87.293459,31.403173 L -87.294012,31.402913 L -87.29432,31.402768 L -87.294335,31.402761 L -87.294604,31.402635 L -87.294802,31.402526 L -87.294816,31.402518 L -87.294973,31.402431 L -87.295672,31.402007 L -87.295802,31.401923 L -87.296345,31.401572 L -87.296408,31.401524 L -87.296617,31.401365 L -87.296656,31.401335 L -87.296721,31.401278 L -87.296787,31.401204 L -87.296796,31.401193 L -87.296929,31.401042 L -87.296941,31.401028 L -87.296951,31.401015 L -87.297002,31.400947 L -87.29703,31.400909 L -87.297053,31.400873 L -87.297058,31.400865 L -87.29713,31.400749 L -87.297364,31.400252 L -87.297381,31.400216 L -87.297631,31.399639 L -87.297721,31.399448 L -87.297726,31.399439 L -87.297837,31.399249 L -87.297875,31.39919 L -87.297955,31.399067 L -87.298039,31.398956 L -87.298052,31.398939 L -87.298486,31.39837 L -87.299582,31.396977 L -87.299698,31.39683 L -87.300946,31.395297 L -87.30096,31.39528 L -87.301074,31.39514 L -87.301086,31.395125 L -87.301376,31.394769 L -87.301466,31.394664 L -87.302458,31.3935 L -87.302524,31.393422 L -87.302832,31.393075 L -87.302938,31.392972 L -87.302959,31.392951 L -87.302967,31.392943 L -87.303091,31.392823 L -87.303161,31.392755 L -87.303228,31.3927 L -87.303587,31.392409 L -87.303774,31.392272 L -87.304553,31.39175 L -87.305082,31.391375 L -87.305127,31.391343 L -87.305157,31.39132 L -87.305489,31.391067 L -87.305844,31.390775 L -87.306156,31.390472 L -87.306438,31.390133 L -87.306659,31.389777 L -87.30667,31.389759 L -87.306694,31.389715 L -87.306712,31.389682 L -87.307179,31.388812 L -87.307184,31.388803 L -87.307191,31.388787 L -87.307197,31.388775 L -87.307404,31.388347 L -87.307443,31.388266 L -87.307617,31.387883 L -87.308917,31.385026 L -87.309124,31.384627 L -87.30919,31.384531 L -87.309209,31.384506 L -87.30936,31.384314 L -87.309476,31.384185 L -87.309556,31.384096 L -87.309724,31.383936 L -87.309883,31.383782 L -87.310016,31.383654 L -87.310024,31.383646 L -87.310053,31.383618 L -87.310066,31.383606 L -87.310099,31.383574 L -87.310944,31.382756 L -87.311197,31.382542 L -87.31121,31.382531 L -87.311266,31.382484 L -87.311276,31.382475 L -87.311628,31.382205 L -87.311743,31.382129 L -87.311752,31.382123 L -87.311907,31.38202 L -87.311993,31.381963 L -87.312035,31.38194 L -87.312379,31.381754 L -87.312934,31.381477 L -87.312978,31.381455 L -87.313013,31.381438 L -87.313355,31.381268 L -87.313708,31.381078 L -87.313739,31.381061 L -87.313771,31.381039 L -87.314032,31.380865 L -87.314077,31.380835 L -87.314185,31.380751 L -87.314251,31.3807 L -87.314267,31.380688 L -87.314284,31.380675 L -87.314293,31.380668 L -87.315072,31.38006 L -87.31518,31.379976 L -87.315207,31.379955 L -87.315317,31.37987 L -87.315574,31.379717 L -87.315798,31.379619 L -87.315817,31.379611 L -87.31598,31.379539 L -87.317097,31.379092 L -87.317445,31.378942 L -87.317468,31.378932 L -87.31748,31.378925 L -87.317821,31.378736 L -87.318138,31.378493 L -87.318396,31.378198 L -87.318404,31.378181 L -87.318568,31.377853 L -87.318664,31.377478 L -87.318748,31.377104 L -87.31875,31.377094 L -87.318755,31.377069 L -87.318759,31.377049 L -87.318776,31.376972 L -87.318778,31.376962 L -87.318781,31.376952 L -87.318831,31.37673 L -87.31893,31.376366 L -87.319044,31.376012 L -87.319187,31.375672 L -87.319375,31.375358 L -87.320282,31.374155 L -87.320484,31.373852 L -87.320912,31.373103 L -87.320919,31.373091 L -87.321027,31.372903 L -87.321054,31.37285 L -87.321361,31.372246 L -87.321983,31.370925 L -87.322483,31.369962 L -87.322742,31.369501 L -87.323015,31.369014 L -87.323356,31.368368 L -87.323421,31.368239 L -87.323731,31.367621 L -87.323751,31.367582 L -87.32377,31.367544 L -87.324172,31.366742 L -87.324211,31.366662 L -87.324361,31.366355 L -87.324391,31.366293 L -87.324414,31.366246 L -87.324492,31.366086 L -87.324506,31.366059 L -87.324565,31.365945 L -87.324607,31.365864 L -87.324662,31.365758 L -87.324774,31.365559 L -87.324843,31.365436 L -87.325034,31.365125 L -87.325661,31.364185 L -87.326524,31.362836 L -87.326734,31.362479 L -87.327176,31.361791 L -87.327405,31.361464 L -87.330307,31.357604 L -87.331483,31.356085 L -87.331934,31.355524 L -87.332179,31.355251 L -87.332463,31.355017 L -87.332773,31.354845 L -87.332783,31.354839 L -87.332896,31.354793 L -87.333809,31.354418 L -87.333939,31.354357 L -87.33398,31.354337 L -87.333992,31.354331 L -87.334466,31.354108 L -87.335108,31.353762 L -87.335131,31.353748 L -87.335732,31.353388 L -87.335924,31.353259 L -87.336012,31.3532 L -87.336036,31.353184 L -87.336626,31.352761 L -87.337052,31.352455 L -87.337231,31.352327 L -87.337553,31.352121 L -87.337902,31.351945 L -87.338273,31.351798 L -87.338661,31.351688 L -87.339061,31.351616 L -87.339466,31.35158 L -87.339871,31.351579 L -87.340539,31.351626 L -87.340555,31.351627 L -87.341114,31.351666 L -87.341989,31.351739 L -87.342004,31.35174 L -87.342727,31.3518 L -87.342888,31.35181 L -87.342909,31.351812 L -87.342931,31.351814 L -87.343168,31.351827 L -87.343216,31.35183 L -87.343239,31.351831 L -87.343477,31.351845 L -87.343748,31.351851 L -87.343775,31.351852 L -87.343987,31.351834 L -87.344202,31.3518 L -87.344554,31.351697 L -87.344718,31.351622 L -87.344746,31.351609 L -87.344889,31.351543 L -87.345199,31.35135 L -87.345288,31.35128 L -87.345298,31.351272 L -87.345424,31.351172 L -87.345484,31.351124 L -87.345509,31.3511 L -87.345751,31.350864 L -87.345933,31.350651 L -87.345943,31.35064 L -87.34607,31.35049 L -87.346236,31.350228 L -87.346397,31.349943 L -87.346527,31.349623 L -87.346572,31.349364 L -87.346576,31.349341 L -87.346585,31.34929 L -87.346575,31.348956 L -87.346537,31.34861 L -87.346489,31.348272 L -87.346462,31.347922 L -87.34647,31.347577 L -87.346526,31.347227 L -87.346736,31.346291 L -87.34675,31.346227 L -87.34691,31.345522 L -87.346918,31.345486 L -87.346926,31.345449 L -87.346999,31.345091 L -87.347047,31.344734 L -87.347049,31.344719 L -87.34705,31.344698 L -87.347088,31.344117 L -87.347089,31.3441 L -87.347121,31.343599 L -87.347186,31.342981 L -87.347197,31.342879 L -87.347208,31.342822 L -87.347221,31.342749 L -87.347223,31.342738 L -87.347263,31.342527 L -87.347347,31.342227 L -87.347361,31.342176 L -87.347366,31.342162 L -87.347739,31.341098 L -87.348009,31.340396 L -87.348172,31.340059 L -87.348363,31.339726 L -87.349193,31.338429 L -87.34943,31.338049 L -87.34958,31.337808 L -87.349783,31.337505 L -87.350675,31.336338 L -87.35208,31.334576 L -87.352412,31.334144 L -87.352458,31.334084 L -87.353195,31.333128 L -87.353309,31.332996 L -87.353367,31.332928 L -87.35367,31.332577 L -87.354171,31.332049 L -87.354901,31.331335 L -87.354914,31.331322 L -87.354964,31.331273 L -87.355203,31.330995 L -87.355395,31.330682 L -87.355557,31.330353 L -87.355718,31.329995 L -87.355724,31.329982 L -87.355734,31.329959 L -87.355827,31.329751 L -87.355877,31.329641 L -87.356217,31.328884 L -87.356221,31.328875 L -87.356302,31.328695 L -87.356342,31.328595 L -87.356451,31.328323 L -87.356515,31.328163 L -87.356604,31.32794 L -87.356628,31.327879 L -87.356831,31.327372 L -87.357003,31.326924 L -87.357012,31.326901 L -87.357156,31.326528 L -87.357264,31.326248 L -87.357276,31.326216 L -87.357424,31.325834 L -87.357432,31.325812 L -87.357437,31.325799 L -87.357608,31.325354 L -87.357648,31.32524 L -87.357722,31.325031 L -87.357931,31.324359 L -87.357958,31.324262 L -87.357966,31.324234 L -87.358025,31.324022 L -87.358289,31.322881 L -87.358323,31.322734 L -87.358335,31.32268 L -87.358419,31.322289 L -87.358501,31.32191 L -87.358535,31.321753 L -87.359013,31.319366 L -87.359096,31.319033 L -87.359107,31.319004 L -87.359126,31.318952 L -87.35922,31.318692 L -87.359382,31.318366 L -87.359556,31.318048 L -87.359739,31.317782 L -87.359763,31.317747 L -87.359795,31.317716 L -87.359998,31.317521 L -87.360024,31.317496 L -87.360074,31.317464 L -87.36022,31.31737 L -87.360333,31.317298 L -87.360574,31.317178 L -87.361303,31.316815 L -87.361629,31.316653 L -87.361961,31.31651 L -87.362272,31.316399 L -87.362303,31.316388 L -87.362365,31.316369 L -87.362377,31.316365 L -87.363515,31.31601 L -87.363525,31.316007 L -87.363542,31.316002 L -87.363754,31.315936 L -87.363925,31.315887 L -87.365291,31.315494 L -87.365644,31.315386 L -87.365993,31.315294 L -87.366354,31.315243 L -87.366721,31.315224 L -87.367832,31.315225 L -87.368613,31.315201 L -87.368843,31.315173 L -87.368971,31.315141 L -87.369063,31.315118 L -87.369222,31.315053 L -87.369243,31.315044 L -87.369274,31.315031 L -87.369395,31.314957 L -87.369408,31.314949 L -87.369524,31.314851 L -87.369622,31.314746 L -87.369651,31.31471 L -87.36984,31.314474 L -87.370039,31.314183 L -87.370259,31.313898 L -87.370527,31.313657 L -87.370836,31.313466 L -87.371171,31.313309 L -87.3718,31.312962 L -87.373527,31.311966 L -87.374038,31.311671 L -87.374903,31.311172 L -87.378284,31.309221 L -87.378602,31.309031 L -87.379827,31.308233 L -87.380269,31.307972 L -87.38046,31.307892 L -87.380497,31.307876 L -87.3807,31.307774 L -87.38125,31.307498 L -87.383525,31.306391 L -87.383837,31.30621 L -87.383853,31.3062 L -87.384143,31.306016 L -87.384151,31.30601 L -87.384402,31.305832 L -87.384438,31.305807 L -87.384652,31.305644 L -87.384679,31.305623 L -87.385304,31.305147 L -87.385385,31.30508 L -87.385585,31.304915 L -87.385843,31.304657 L -87.38607,31.304373 L -87.386272,31.304098 L -87.386286,31.304079 L -87.386303,31.304048 L -87.386466,31.30376 L -87.386631,31.303436 L -87.38671,31.303318 L -87.386734,31.303293 L -87.386861,31.303164 L -87.38691,31.30313 L -87.386924,31.303119 L -87.387139,31.302965 L -87.387452,31.302741 L -87.387753,31.302541 L -87.388071,31.302367 L -87.38852,31.302136 L -87.388598,31.302096 L -87.38872,31.302033 L -87.389729,31.30163 L -87.390007,31.301539 L -87.390065,31.30152 L -87.390075,31.301517 L -87.390427,31.301434 L -87.392351,31.30105 L -87.392393,31.301042 L -87.392421,31.301036 L -87.392584,31.301003 L -87.392658,31.300985 L -87.393066,31.300887 L -87.393124,31.300873 L -87.393206,31.300853 L -87.39334,31.3008 L -87.393409,31.300772 L -87.393536,31.300721 L -87.39386,31.30057 L -87.394145,31.300414 L -87.39416,31.300406 L -87.394179,31.300396 L -87.394454,31.300212 L -87.394468,31.300202 L -87.394482,31.300193 L -87.394777,31.299979 L -87.395477,31.299391 L -87.395496,31.299375 L -87.395611,31.299278 L -87.395829,31.299094 L -87.395839,31.299083 L -87.39605,31.298902 L -87.397547,31.297619 L -87.398336,31.296876 L -87.398488,31.296724 L -87.398576,31.296636 L -87.398834,31.296378 L -87.398856,31.296356 L -87.398871,31.296342 L -87.399253,31.295983 L -87.399812,31.295458 L -87.399848,31.295424 L -87.400178,31.295114 L -87.400972,31.294352 L -87.401217,31.294084 L -87.401434,31.293791 L -87.401621,31.293476 L -87.40179,31.293153 L -87.402755,31.291195 L -87.403091,31.290551 L -87.403274,31.290238 L -87.40347,31.289932 L -87.40369,31.289644 L -87.403833,31.289479 L -87.403945,31.289367 L -87.404072,31.289257 L -87.404213,31.289136 L -87.404809,31.288681 L -87.408149,31.285945 L -87.408168,31.285929 L -87.408654,31.285531 L -87.409232,31.28509 L -87.409839,31.284669 L -87.412338,31.282997 L -87.412936,31.282575 L -87.414407,31.281501 L -87.41471,31.281301 L -87.415027,31.281124 L -87.415296,31.280991 L -87.416334,31.280478 L -87.417301,31.279963 L -87.417616,31.27978 L -87.417914,31.279571 L -87.418186,31.279327 L -87.418431,31.279055 L -87.419116,31.278209 L -87.420026,31.277065 L -87.420275,31.276788 L -87.420391,31.276694 L -87.420456,31.276651 L -87.42056,31.276606 L -87.420784,31.276524 L -87.420796,31.27652 L -87.420876,31.276319 L -87.421044,31.275995 L -87.421245,31.275693 L -87.421584,31.275247 L -87.421694,31.275103 L -87.421805,31.274951 L -87.422129,31.274508 L -87.422519,31.273886 L -87.4227,31.27356 L -87.425511,31.268299 L -87.425872,31.267587 L -87.426178,31.266889 L -87.427204,31.26436 L -87.427312,31.264043 L -87.427322,31.264014 L -87.427408,31.263683 L -87.427469,31.263383 L -87.427504,31.263062 L -87.427516,31.26274 L -87.427507,31.26213 L -87.427506,31.262062 L -87.427456,31.260422 L -87.427455,31.260386 L -87.427153,31.260379 L -87.418209,31.260407 L -87.417474,31.260409 L -87.410301,31.260432 L -87.404909,31.260452 L -87.403025,31.260462 L -87.39673,31.260468 L -87.392102,31.260471 L -87.390128,31.26047 L -87.382907,31.260499 L -87.381108,31.260524 L -87.379018,31.260524 L -87.377698,31.260545 L -87.377134,31.260538 L -87.37531,31.260549 L -87.373981,31.260557 L -87.371379,31.260566 L -87.37056,31.260556 L -87.370272,31.260558 L -87.369378,31.260563 L -87.369186,31.26057 L -87.368625,31.260564 L -87.36791,31.260556 L -87.366934,31.26057 L -87.365902,31.26057 L -87.365618,31.260576 L -87.365523,31.260529 L -87.36528,31.260364 L -87.355468,31.260569 L -87.351111,31.260564 L -87.339969,31.260608 L -87.337499,31.260618 L -87.33667,31.260606 L -87.336318,31.260595 L -87.333589,31.260604 L -87.332168,31.260637 L -87.326693,31.260661 L -87.326353,31.260662 L -87.320171,31.260784 L -87.318564,31.260787 L -87.317432,31.260843 L -87.316832,31.260845 L -87.315814,31.26079 L -87.315486,31.260767 L -87.315448,31.260764 L -87.31505,31.260731 L -87.314535,31.260712 L -87.313632,31.260712 L -87.312076,31.260713 L -87.311321,31.260714 L -87.311078,31.260714 L -87.309932,31.260714 L -87.308896,31.260731 L -87.305905,31.260736 L -87.305207,31.260697 L -87.304869,31.260648 L -87.304824,31.260637 L -87.303101,31.260635 L -87.297653,31.260626 L -87.287274,31.260609 L -87.28527,31.260593 L -87.270097,31.260558 L -87.253304,31.260555 L -87.249977,31.260512 L -87.241191,31.260644 L -87.234999,31.260608 L -87.234724,31.260606 L -87.234271,31.260584 L -87.233545,31.260586 L -87.229959,31.260594 L -87.228338,31.260631 L -87.225866,31.260639 L -87.22548,31.260639 L -87.225459,31.260639 L -87.219798,31.260655 L -87.211426,31.260661 L -87.210736,31.26066 L -87.210043,31.260661 L -87.197333,31.260689 L -87.192839,31.260696 L -87.188505,31.260703 L -87.187791,31.260702 L -87.186182,31.260706 L -87.186126,31.260706 L -87.18574,31.260707 L -87.184621,31.260683 L -87.179423,31.260699 L -87.175632,31.260705 L -87.163618,31.260744 L -87.163296,31.260744 L -87.16304,31.26074 L -87.149043,31.260772 L -87.144898,31.260795 L -87.140531,31.260805 L -87.13917,31.260807 L -87.135376,31.260824 L -87.134082,31.260824 L -87.132377,31.260831 L -87.126851,31.260852 L -87.12581,31.260845 L -87.124693,31.260857 L -87.120766,31.260902 L -87.116744,31.260915 L -87.110613,31.260935 L -87.107801,31.260947 L -87.095805,31.261045 L -87.085072,31.26107 L -87.076997,31.261088 L -87.076826,31.261089 L -87.073739,31.261147 L -87.073666,31.261128 L -87.073491,31.261117 L -87.071687,31.261094 L -87.071517,31.261085 L -87.071349,31.261053 L -87.071242,31.261009 L -87.071188,31.260985 L -87.062561,31.261151 L -87.042194,31.261145 L -87.036472,31.261315 L -87.034265,31.261323 L -87.033999,31.261322 L -87.033733,31.261321 L -87.03171,31.261307 L -87.030403,31.261313 L -87.030146,31.261306 L -87.029888,31.261305 L -87.029604,31.261304 L -87.029321,31.261303 L -87.023896,31.261288 L -87.018302,31.261273 L -87.018226,31.261273 L -87.018133,31.261272 L -87.018005,31.261272 L -87.017861,31.261272 L -87.017849,31.261282 L -87.011899,31.261256 L -87.00261,31.261231 L -86.99997,31.261038 L -86.990649,31.261102 L -86.986387,31.261131 L -86.976238,31.2612 L -86.974837,31.261224 L -86.974819,31.261215 L -86.974756,31.261216 L -86.971833,31.261245 L -86.969587,31.261268 L -86.964,31.261324 L -86.955406,31.261358 L -86.955083,31.261358 L -86.95332,31.261372 L -86.951673,31.261461 L -86.951439,31.261443 L -86.949764,31.261447 L -86.948074,31.261461 L -86.946695,31.261472 L -86.94549,31.261482 L -86.945282,31.26149 L -86.945264,31.261492 L -86.945181,31.261501 L -86.945068,31.261513 L -86.944814,31.261556 L -86.944709,31.26158 L -86.944669,31.261589 L -86.944587,31.261584 L -86.944539,31.261581 L -86.938094,31.261761 L -86.937975,31.261716 L -86.934613,31.261739 L -86.9253,31.261775 L -86.922475,31.261784 L -86.912612,31.261819 L -86.909072,31.26183 L -86.905649,31.26184 L -86.902254,31.26185 L -86.901187,31.261855 L -86.901173,31.261855 L -86.895459,31.261883 L -86.894938,31.261893 L -86.889701,31.261909 L -86.887179,31.261889 L -86.887094,31.261912 L -86.885842,31.261916 L -86.88232,31.261917 L -86.878507,31.261919 L -86.875052,31.261951 L -86.871022,31.261902 L -86.861742,31.261935 L -86.855058,31.261959 L -86.854619,31.261961 L -86.850694,31.261972 L -86.845941,31.261988 L -86.845945,31.26128 L -86.845927,31.260916 L -86.84583,31.260543 L -86.845741,31.259612 L -86.845706,31.258823 L -86.845146,31.25848 L -86.844158,31.257265 L -86.843358,31.257013 L -86.843144,31.25683 L -86.843144,31.256692 L -86.842957,31.25644 L -86.843224,31.256257 L -86.843757,31.255638 L -86.844557,31.255042 L -86.844931,31.254927 L -86.844795,31.254177 L -86.844637,31.2533 L -86.84445,31.252727 L -86.843569,31.251879 L -86.843436,31.251238 L -86.843356,31.251192 L -86.843356,31.250917 L -86.843155,31.250171 L -86.843061,31.249541 L -86.843034,31.247799 L -86.843141,31.246951 L -86.84346,31.245874 L -86.843486,31.244247 L -86.843406,31.244064 L -86.843353,31.24372 L -86.843059,31.243078 L -86.842366,31.242094 L -86.841352,31.241223 L -86.839991,31.240375 L -86.839377,31.239802 L -86.839004,31.239115 L -86.838523,31.237511 L -86.838496,31.235929 L -86.838656,31.234967 L -86.838976,31.233912 L -86.839509,31.232789 L -86.839669,31.232193 L -86.839589,31.231552 L -86.839375,31.231116 L -86.838201,31.229879 L -86.840489,31.228963 L -86.845641,31.226875 L -86.845709,31.226861 L -86.846814,31.226644 L -86.847801,31.226116 L -86.848201,31.225978 L -86.851408,31.225336 L -86.851398,31.225193 L -86.851377,31.225067 L -86.851367,31.224895 L -86.851367,31.224724 L -86.851357,31.224507 L -86.851358,31.224182 L -86.851369,31.224065 L -86.851411,31.223939 L -86.851527,31.22365 L -86.851569,31.223479 L -86.851612,31.223055 L -86.851601,31.222784 L -86.851561,31.222107 L -86.851529,31.2219 L -86.851425,31.221358 L -86.851404,31.221223 L -86.851352,31.221087 L -86.851331,31.22097 L -86.851342,31.220817 L -86.851363,31.220645 L -86.851416,31.220474 L -86.8515,31.220303 L -86.851732,31.219752 L -86.851778,31.219621 L -86.851785,31.219599 L -86.851827,31.2195 L -86.851838,31.219383 L -86.851869,31.219229 L -86.85188,31.219121 L -86.851859,31.218913 L -86.851828,31.218679 L -86.851797,31.218571 L -86.851787,31.218507 L -86.851745,31.21848 L -86.851525,31.218227 L -86.851462,31.218146 L -86.851388,31.218065 L -86.851294,31.217893 L -86.851221,31.217686 L -86.851023,31.216946 L -86.850939,31.216657 L -86.850803,31.216296 L -86.85074,31.216097 L -86.850688,31.215898 L -86.850657,31.215745 L -86.850647,31.215538 L -86.850626,31.215393 L -86.850574,31.215213 L -86.850501,31.21505 L -86.85027,31.214617 L -86.850124,31.214373 L -86.850019,31.214174 L -86.849883,31.213976 L -86.849757,31.213804 L -86.849631,31.213669 L -86.84961,31.213641 L -86.849453,31.213479 L -86.84917,31.213217 L -86.848981,31.213054 L -86.848782,31.212828 L -86.848573,31.212549 L -86.848447,31.212332 L -86.848363,31.212178 L -86.84815,31.2119 L -86.848566,31.211597 L -86.84957,31.210877 L -86.850116,31.2105 L -86.850597,31.210187 L -86.850948,31.209975 L -86.852514,31.209074 L -86.853318,31.20862 L -86.853662,31.208425 L -86.854876,31.207728 L -86.855801,31.207191 L -86.856366,31.206854 L -86.856712,31.206638 L -86.857382,31.206177 L -86.858098,31.20565 L -86.858276,31.205538 L -86.858073,31.205067 L -86.857974,31.204784 L -86.857851,31.204369 L -86.857763,31.204054 L -86.857726,31.203926 L -86.85765,31.203714 L -86.857588,31.203576 L -86.857517,31.20344 L -86.857413,31.203288 L -86.857288,31.203125 L -86.857235,31.20307 L -86.856513,31.20215 L -86.856234,31.201777 L -86.856027,31.201456 L -86.855953,31.201323 L -86.855855,31.201118 L -86.855775,31.200907 L -86.855739,31.200763 L -86.855702,31.20065 L -86.856092,31.200475 L -86.856317,31.200368 L -86.856546,31.200268 L -86.856695,31.200197 L -86.857197,31.199917 L -86.857344,31.199841 L -86.857421,31.19981 L -86.857666,31.199742 L -86.85775,31.199727 L -86.85792,31.199715 L -86.85912,31.19972 L -86.859547,31.199717 L -86.860233,31.199726 L -86.860829,31.199721 L -86.861682,31.199732 L -86.861764,31.199715 L -86.863619,31.199749 L -86.864682,31.199549 L -86.864868,31.199455 L -86.865201,31.199275 L -86.868398,31.196455 L -86.868504,31.19637 L -86.86855,31.196308 L -86.868648,31.196101 L -86.868784,31.195751 L -86.868908,31.195399 L -86.869119,31.194839 L -86.869436,31.194075 L -86.869566,31.193725 L -86.869703,31.193297 L -86.870022,31.192228 L -86.870027,31.192205 L -86.870057,31.192084 L -86.87013,31.191722 L -86.870149,31.191576 L -86.87016,31.191357 L -86.870156,31.191064 L -86.870157,31.190256 L -86.870165,31.189891 L -86.870119,31.188793 L -86.870097,31.188057 L -86.870089,31.187303 L -86.870072,31.186586 L -86.870061,31.18585 L -86.870029,31.184377 L -86.870006,31.182164 L -86.869993,31.179876 L -86.869984,31.179507 L -86.869967,31.179286 L -86.869935,31.179066 L -86.869901,31.17892 L -86.869834,31.178707 L -86.868976,31.176548 L -86.868861,31.17627 L -86.868476,31.175299 L -86.868445,31.175232 L -86.868388,31.175078 L -86.869896,31.174891 L -86.872983,31.174519 L -86.87311,31.174504 L -86.881613,31.174442 L -86.882971,31.174432 L -86.886675,31.17439 L -86.895988,31.174332 L -86.900633,31.174293 L -86.904857,31.174258 L -86.904691,31.174143 L -86.904358,31.173978 L -86.90423,31.173923 L -86.904032,31.173827 L -86.903844,31.173686 L -86.903815,31.17367 L -86.903662,31.173524 L -86.903598,31.173453 L -86.903591,31.173434 L -86.903521,31.173346 L -86.903457,31.173236 L -86.903451,31.173214 L -86.903425,31.173175 L -86.903406,31.17312 L -86.903387,31.173098 L -86.903371,31.173024 L -86.903358,31.172925 L -86.903367,31.172493 L -86.903355,31.172466 L -86.903335,31.172444 L -86.903387,31.172383 L -86.903438,31.172262 L -86.903454,31.17216 L -86.903476,31.172103 L -86.903492,31.172028 L -86.903514,31.171971 L -86.903569,31.171621 L -86.90354,31.171283 L -86.903511,31.171039 L -86.903489,31.170805 L -86.903476,31.170761 L -86.903479,31.170604 L -86.903495,31.170447 L -86.903518,31.170313 L -86.903559,31.170211 L -86.903575,31.170093 L -86.903601,31.170035 L -86.903629,31.169903 L -86.903668,31.16987 L -86.903642,31.169633 L -86.903588,31.169394 L -86.903578,31.169369 L -86.903569,31.169323 L -86.903559,31.169298 L -86.90353,31.169103 L -86.903514,31.168682 L -86.903521,31.168611 L -86.903482,31.168567 L -86.903497,31.168532 L -86.903486,31.168355 L -86.90346,31.168256 L -86.903412,31.16811 L -86.903391,31.167974 L -86.903335,31.167846 L -86.903316,31.167769 L -86.903291,31.167742 L -86.903271,31.167665 L -86.903233,31.16761 L -86.903201,31.167505 L -86.903156,31.16745 L -86.903137,31.16739 L -86.903118,31.167368 L -86.903112,31.167346 L -86.903067,31.167263 L -86.903035,31.167225 L -86.903035,31.167207 L -86.903009,31.167159 L -86.902977,31.16712 L -86.902958,31.167082 L -86.902926,31.167043 L -86.902894,31.167013 L -86.902888,31.166994 L -86.902856,31.16695 L -86.902811,31.166906 L -86.902798,31.166873 L -86.902805,31.166856 L -86.902779,31.166834 L -86.902766,31.166807 L -86.902687,31.166702 L -86.902594,31.166601 L -86.9023,31.166315 L -86.901872,31.165925 L -86.901699,31.165757 L -86.901686,31.165729 L -86.901654,31.165685 L -86.901577,31.165597 L -86.901507,31.165529 L -86.901501,31.16551 L -86.901392,31.165367 L -86.901367,31.165328 L -86.901322,31.165273 L -86.901296,31.165224 L -86.901232,31.165141 L -86.9012,31.165081 L -86.901136,31.164993 L -86.901124,31.16496 L -86.90106,31.164883 L -86.900894,31.164745 L -86.900855,31.164729 L -86.90074,31.164668 L -86.900715,31.164646 L -86.900683,31.164652 L -86.900619,31.164591 L -86.900491,31.164454 L -86.900465,31.164415 L -86.900446,31.164366 L -86.900427,31.164338 L -86.900414,31.164135 L -86.90043,31.16405 L -86.900472,31.163943 L -86.900516,31.163695 L -86.900555,31.163514 L -86.900548,31.163464 L -86.900523,31.163398 L -86.900497,31.163349 L -86.900453,31.163299 L -86.90044,31.163266 L -86.900331,31.163153 L -86.900325,31.163134 L -86.900242,31.16303 L -86.900203,31.162958 L -86.900171,31.16292 L -86.900165,31.162887 L -86.900075,31.162788 L -86.900074,31.16277 L -86.900018,31.162694 L -86.899986,31.162639 L -86.899941,31.162529 L -86.899928,31.162381 L -86.899957,31.162213 L -86.900037,31.162034 L -86.900056,31.161979 L -86.900114,31.161902 L -86.900139,31.161842 L -86.900158,31.16182 L -86.900189,31.161739 L -86.90019,31.161721 L -86.900222,31.161699 L -86.90021,31.161682 L -86.900209,31.161664 L -86.900178,31.161627 L -86.900165,31.161462 L -86.9002,31.161218 L -86.900174,31.161102 L -86.900094,31.160846 L -86.900056,31.160747 L -86.899992,31.16061 L -86.899951,31.160533 L -86.899928,31.160478 L -86.899909,31.160456 L -86.899801,31.160192 L -86.89973,31.159967 L -86.899714,31.159928 L -86.899641,31.159686 L -86.899621,31.15951 L -86.899577,31.159263 L -86.899564,31.159246 L -86.899526,31.159213 L -86.899538,31.159169 L -86.899532,31.159142 L -86.899494,31.159054 L -86.899462,31.15901 L -86.899398,31.158938 L -86.899352,31.158877 L -86.899308,31.158751 L -86.899296,31.158405 L -86.899273,31.158232 L -86.899244,31.158081 L -86.899264,31.158059 L -86.899238,31.158031 L -86.899174,31.157751 L -86.899142,31.157668 L -86.899072,31.157542 L -86.899059,31.157525 L -86.89888,31.157349 L -86.898861,31.157311 L -86.898803,31.157239 L -86.89874,31.157124 L -86.898708,31.157085 L -86.89865,31.156931 L -86.898589,31.156632 L -86.898567,31.156563 L -86.898551,31.156456 L -86.898554,31.156156 L -86.898541,31.155909 L -86.898509,31.155865 L -86.898535,31.155837 L -86.898532,31.155815 L -86.898505,31.155767 L -86.898541,31.155735 L -86.898529,31.15572 L -86.898525,31.155686 L -86.898536,31.155583 L -86.898545,31.155504 L -86.898592,31.155381 L -86.898736,31.155249 L -86.898861,31.155155 L -86.898887,31.155144 L -86.898963,31.155095 L -86.899072,31.155001 L -86.899187,31.154894 L -86.899225,31.154841 L -86.899276,31.15472 L -86.89927,31.154599 L -86.899254,31.154503 L -86.899238,31.154457 L -86.899232,31.154424 L -86.899212,31.154396 L -86.899081,31.154286 L -86.899014,31.154253 L -86.898902,31.154167 L -86.898867,31.154121 L -86.898854,31.153973 L -86.89888,31.153874 L -86.898909,31.15383 L -86.898982,31.15375 L -86.899014,31.153703 L -86.89911,31.153612 L -86.899142,31.15356 L -86.899174,31.153522 L -86.899206,31.153428 L -86.899206,31.15334 L -86.899187,31.153269 L -86.899155,31.15323 L -86.899033,31.153131 L -86.898835,31.153076 L -86.898733,31.153005 L -86.898688,31.152944 L -86.898644,31.152845 L -86.898631,31.15279 L -86.898605,31.152763 L -86.898445,31.152626 L -86.898424,31.152624 L -86.898407,31.152613 L -86.89835,31.152593 L -86.897995,31.152557 L -86.89771,31.152521 L -86.897659,31.152499 L -86.897397,31.152422 L -86.897365,31.152428 L -86.896825,31.151972 L -86.896726,31.151911 L -86.896538,31.151779 L -86.896381,31.15168 L -86.896177,31.151559 L -86.896138,31.151532 L -86.896017,31.151488 L -86.89578,31.151422 L -86.895755,31.151406 L -86.895704,31.151395 L -86.895646,31.151364 L -86.895538,31.15129 L -86.895512,31.151268 L -86.895493,31.15123 L -86.895461,31.151191 L -86.895448,31.151015 L -86.895563,31.150234 L -86.895595,31.150201 L -86.89557,31.150174 L -86.895554,31.150094 L -86.895525,31.149893 L -86.895512,31.149866 L -86.895512,31.149829 L -86.895525,31.149814 L -86.895467,31.149761 L -86.895467,31.149712 L -86.895435,31.149684 L -86.895442,31.14964 L -86.895431,31.149605 L -86.896454,31.149466 L -86.897301,31.149343 L -86.9011,31.148809 L -86.901943,31.148685 L -86.903205,31.14851 L -86.903456,31.148479 L -86.903602,31.148457 L -86.903779,31.148435 L -86.90598,31.148117 L -86.907664,31.147889 L -86.908507,31.147767 L -86.908929,31.14771 L -86.909012,31.147702 L -86.909162,31.147681 L -86.911885,31.147296 L -86.914161,31.146974 L -86.914413,31.146932 L -86.914663,31.146884 L -86.914904,31.146828 L -86.914863,31.146772 L -86.914777,31.14668 L -86.914703,31.146586 L -86.914556,31.146437 L -86.914524,31.146388 L -86.914339,31.146228 L -86.913981,31.145885 L -86.913949,31.145843 L -86.913914,31.145806 L -86.913866,31.145739 L -86.913744,31.145613 L -86.913725,31.145563 L -86.91368,31.145514 L -86.913674,31.145492 L -86.913617,31.145393 L -86.913546,31.145228 L -86.913527,31.145162 L -86.913495,31.145118 L -86.913444,31.14503 L -86.91338,31.144876 L -86.913316,31.144656 L -86.91322,31.144474 L -86.913176,31.144419 L -86.912779,31.144076 L -86.912735,31.144018 L -86.912728,31.143996 L -86.912709,31.143974 L -86.912696,31.143941 L -86.912686,31.143894 L -86.91267,31.143705 L -86.91268,31.143641 L -86.91269,31.143622 L -86.912728,31.143507 L -86.912747,31.143485 L -86.912843,31.143237 L -86.912859,31.143163 L -86.912875,31.143017 L -86.912904,31.142838 L -86.91292,31.142803 L -86.912945,31.142583 L -86.912964,31.142555 L -86.912984,31.142511 L -86.912999,31.142354 L -86.912996,31.142049 L -86.912977,31.141961 L -86.91292,31.141846 L -86.912843,31.141769 L -86.912629,31.141587 L -86.9123,31.141379 L -86.912082,31.141219 L -86.911999,31.141145 L -86.911948,31.141087 L -86.911923,31.141065 L -86.91191,31.141038 L -86.911863,31.140987 L -86.911833,31.140895 L -86.911846,31.140532 L -86.911865,31.140433 L -86.91189,31.140356 L -86.91189,31.140224 L -86.911932,31.139853 L -86.911929,31.139734 L -86.911942,31.13969 L -86.911842,31.139598 L -86.911775,31.13952 L -86.911587,31.139361 L -86.911545,31.139341 L -86.911469,31.139289 L -86.911424,31.139278 L -86.911398,31.139262 L -86.911341,31.139245 L -86.911232,31.139185 L -86.911175,31.139168 L -86.911136,31.139146 L -86.91074,31.138954 L -86.910715,31.138948 L -86.910676,31.138921 L -86.910655,31.13892 L -86.910619,31.138894 L -86.910587,31.138888 L -86.910529,31.13885 L -86.910497,31.138844 L -86.91048,31.138832 L -86.910235,31.138707 L -86.910171,31.138668 L -86.910109,31.138657 L -86.910088,31.138657 L -86.910015,31.138597 L -86.909686,31.138399 L -86.909481,31.138267 L -86.90913,31.138064 L -86.908948,31.137937 L -86.908561,31.13763 L -86.908459,31.137536 L -86.908408,31.137476 L -86.908382,31.137454 L -86.908369,31.137426 L -86.908299,31.137344 L -86.908209,31.137195 L -86.908197,31.137157 L -86.908177,31.137138 L -86.908152,31.137085 L -86.908133,31.137063 L -86.908101,31.137003 L -86.90803,31.136904 L -86.907973,31.136833 L -86.907893,31.136757 L -86.907864,31.136717 L -86.907832,31.136684 L -86.907826,31.136651 L -86.907775,31.136591 L -86.907774,31.136573 L -86.907711,31.136492 L -86.907685,31.136442 L -86.907666,31.13642 L -86.907615,31.136327 L -86.907545,31.136228 L -86.907526,31.136211 L -86.907496,31.136121 L -86.907449,31.136024 L -86.907409,31.135985 L -86.907308,31.135661 L -86.907292,31.135576 L -86.90727,31.135524 L -86.907244,31.13543 L -86.907219,31.135398 L -86.907142,31.135205 L -86.907126,31.135087 L -86.907139,31.134933 L -86.907174,31.134842 L -86.9072,31.13476 L -86.907219,31.134738 L -86.907232,31.134699 L -86.907251,31.134677 L -86.90727,31.134633 L -86.907295,31.134606 L -86.907308,31.134562 L -86.907366,31.13449 L -86.907378,31.134446 L -86.907366,31.134429 L -86.907433,31.134385 L -86.907493,31.134355 L -86.907618,31.134259 L -86.907704,31.134218 L -86.907794,31.134154 L -86.907896,31.134061 L -86.907922,31.134 L -86.907947,31.133703 L -86.907947,31.133654 L -86.907966,31.133582 L -86.907998,31.133549 L -86.908005,31.133522 L -86.908024,31.133502 L -86.908069,31.133434 L -86.9081,31.133401 L -86.908113,31.133362 L -86.908094,31.133071 L -86.908129,31.132908 L -86.908119,31.132779 L -86.908081,31.132653 L -86.908017,31.132537 L -86.907934,31.132433 L -86.907768,31.13229 L -86.907711,31.132251 L -86.907487,31.132169 L -86.907155,31.132065 L -86.906898,31.131874 L -86.906854,31.131696 L -86.906864,31.131644 L -86.906905,31.131537 L -86.906963,31.131438 L -86.907001,31.131388 L -86.907105,31.131283 L -86.907111,31.131265 L -86.907284,31.131029 L -86.90729,31.131011 L -86.907308,31.130987 L -86.907327,31.130937 L -86.907346,31.130921 L -86.907365,31.130866 L -86.907388,31.130676 L -86.907365,31.130222 L -86.907397,31.130046 L -86.907416,31.130024 L -86.907512,31.129799 L -86.907531,31.129722 L -86.907551,31.1297 L -86.907582,31.129617 L -86.907653,31.129524 L -86.907666,31.129485 L -86.907685,31.129463 L -86.907752,31.12932 L -86.907774,31.129232 L -86.907844,31.129144 L -86.907876,31.129111 L -86.907877,31.129093 L -86.907902,31.129056 L -86.907934,31.128974 L -86.908074,31.128839 L -86.908151,31.128726 L -86.908394,31.128484 L -86.908506,31.128396 L -86.908675,31.128316 L -86.908911,31.128189 L -86.909161,31.127994 L -86.909253,31.127908 L -86.909352,31.12781 L -86.909544,31.127669 L -86.909569,31.127664 L -86.909601,31.127647 L -86.909627,31.127642 L -86.909659,31.127625 L -86.909723,31.127609 L -86.909806,31.127565 L -86.909998,31.1274 L -86.910333,31.127069 L -86.910387,31.127031 L -86.910502,31.127003 L -86.91056,31.12697 L -86.910611,31.126959 L -86.910636,31.126943 L -86.910668,31.126937 L -86.910694,31.126921 L -86.910726,31.126915 L -86.910783,31.126882 L -86.910835,31.126871 L -86.910873,31.126852 L -86.910918,31.126822 L -86.910939,31.126821 L -86.911122,31.126728 L -86.911199,31.126678 L -86.91163,31.126343 L -86.911729,31.126293 L -86.911763,31.12627 L -86.911825,31.12626 L -86.911946,31.126161 L -86.912068,31.126095 L -86.912164,31.126012 L -86.91217,31.125985 L -86.912195,31.125952 L -86.912208,31.125869 L -86.91224,31.125776 L -86.912256,31.125755 L -86.912429,31.125589 L -86.912515,31.125545 L -86.912655,31.12553 L -86.912662,31.125512 L -86.912751,31.125451 L -86.912783,31.125425 L -86.912862,31.125395 L -86.912937,31.12536 L -86.912977,31.125321 L -86.91302,31.12528 L -86.913039,31.125242 L -86.913058,31.12522 L -86.913065,31.125176 L -86.913226,31.12504 L -86.913354,31.124798 L -86.913361,31.124562 L -86.913405,31.124402 L -86.913744,31.1241 L -86.913994,31.123819 L -86.91409,31.1235 L -86.914122,31.123181 L -86.914071,31.122466 L -86.914013,31.122103 L -86.913854,31.121696 L -86.913745,31.121371 L -86.913681,31.120975 L -86.913694,31.120733 L -86.913771,31.120491 L -86.914078,31.120106 L -86.914353,31.119694 L -86.914532,31.119446 L -86.914743,31.119292 L -86.91505,31.119127 L -86.915395,31.118951 L -86.915734,31.118665 L -86.915926,31.118368 L -86.916009,31.118143 L -86.916067,31.117802 L -86.916118,31.117626 L -86.916265,31.117323 L -86.916374,31.117147 L -86.916604,31.116895 L -86.916981,31.116675 L -86.917307,31.116504 L -86.917458,31.116427 L -86.917589,31.116361 L -86.917844,31.116224 L -86.918145,31.116053 L -86.918254,31.115965 L -86.918266,31.115916 L -86.918292,31.115817 L -86.918247,31.115393 L -86.918107,31.115096 L -86.917346,31.114452 L -86.916937,31.1141 L -86.91656,31.11371 L -86.916266,31.113369 L -86.916029,31.113077 L -86.915889,31.112758 L -86.915812,31.112543 L -86.915735,31.111977 L -86.915767,31.111311 L -86.915921,31.110585 L -86.915998,31.110046 L -86.916102,31.109242 L -86.916107,31.109205 L -86.916196,31.108638 L -86.916248,31.108242 L -86.916267,31.107885 L -86.916292,31.107593 L -86.916388,31.107258 L -86.916561,31.106922 L -86.916708,31.106598 L -86.916753,31.106361 L -86.916734,31.105756 L -86.91675,31.105553 L -86.916779,31.105201 L -86.916779,31.105014 L -86.916721,31.104799 L -86.916523,31.104436 L -86.916242,31.104007 L -86.915935,31.103418 L -86.915929,31.103396 L -86.91591,31.103176 L -86.915942,31.102995 L -86.916108,31.102813 L -86.916402,31.102643 L -86.91685,31.10245 L -86.917157,31.102346 L -86.917534,31.102225 L -86.917594,31.102213 L -86.917581,31.10203 L -86.917547,31.101289 L -86.91754,31.100892 L -86.917536,31.100631 L -86.917541,31.100222 L -86.917555,31.099737 L -86.917591,31.099102 L -86.917616,31.09879 L -86.917659,31.098335 L -86.91771,31.097896 L -86.917714,31.09787 L -86.917792,31.097313 L -86.917854,31.096898 L -86.917864,31.096835 L -86.917899,31.096605 L -86.917915,31.096496 L -86.917077,31.096404 L -86.914347,31.095735 L -86.914232,31.095616 L -86.914064,31.095602 L -86.913848,31.095458 L -86.913678,31.095282 L -86.913552,31.095271 L -86.913207,31.094954 L -86.912536,31.094538 L -86.912267,31.094299 L -86.912024,31.094207 L -86.911796,31.093971 L -86.911671,31.093961 L -86.911368,31.093647 L -86.911201,31.093633 L -86.911045,31.093512 L -86.910288,31.092728 L -86.909665,31.091882 L -86.909374,31.091461 L -86.908996,31.091068 L -86.908551,31.090887 L -86.907927,31.0908 L -86.90762,31.090792 L -86.907295,31.090784 L -86.90689,31.091004 L -86.906863,31.091002 L -86.906597,31.09098 L -86.905662,31.091639 L -86.905129,31.092015 L -86.904501,31.091964 L -86.904096,31.092183 L -86.902995,31.092117 L -86.902417,31.092082 L -86.902116,31.092129 L -86.902033,31.09217 L -86.901803,31.092284 L -86.901608,31.092421 L -86.901303,31.092489 L -86.900935,31.093296 L -86.900967,31.093335 L -86.900912,31.094198 L -86.900671,31.094467 L -86.900147,31.095364 L -86.899367,31.095914 L -86.89935,31.095954 L -86.898913,31.096167 L -86.898481,31.096215 L -86.897754,31.096359 L -86.897,31.096488 L -86.896308,31.096653 L -86.895548,31.09719 L -86.895386,31.097501 L -86.894642,31.09801 L -86.894404,31.098174 L -86.893784,31.098598 L -86.892194,31.098559 L -86.891888,31.098551 L -86.891734,31.098659 L -86.891658,31.098683 L -86.891581,31.098706 L -86.891533,31.098702 L -86.891503,31.098723 L -86.891257,31.098896 L -86.890982,31.09909 L -86.890732,31.099431 L -86.890722,31.0999 L -86.891277,31.101354 L -86.891421,31.101944 L -86.891437,31.10256 L -86.89132,31.103598 L -86.890623,31.104913 L -86.890507,31.105193 L -86.890499,31.105265 L -86.890307,31.105466 L -86.889576,31.106706 L -86.889255,31.106932 L -86.889051,31.107241 L -86.888622,31.107675 L -86.888597,31.10789 L -86.888398,31.108163 L -86.888182,31.108578 L -86.887988,31.109177 L -86.887746,31.109446 L -86.887722,31.10966 L -86.887552,31.110044 L -86.887357,31.110281 L -86.88676,31.110701 L -86.886557,31.110779 L -86.886451,31.11082 L -86.886425,31.110838 L -86.886221,31.110982 L -86.886012,31.110965 L -86.885836,31.111023 L -86.885417,31.110988 L -86.885246,31.11101 L -86.885108,31.111107 L -86.884522,31.111059 L -86.884179,31.111103 L -86.883796,31.111199 L -86.88354,31.111349 L -86.883424,31.111404 L -86.883105,31.111629 L -86.882794,31.112145 L -86.882733,31.112682 L -86.882797,31.112868 L -86.882952,31.112989 L -86.882891,31.112997 L -86.883024,31.11305 L -86.883377,31.113349 L -86.88367,31.113373 L -86.883745,31.113452 L -86.884079,31.113489 L -86.884998,31.113591 L -86.886057,31.11469 L -86.886049,31.114822 L -86.886037,31.115036 L -86.886011,31.115481 L -86.885506,31.115837 L -86.88538,31.115826 L -86.885242,31.115923 L -86.885029,31.115942 L -86.884937,31.116007 L -86.884845,31.116071 L -86.882351,31.115866 L -86.881325,31.115915 L -86.881128,31.116054 L -86.880831,31.116066 L -86.879954,31.116717 L -86.879166,31.117338 L -86.879154,31.117445 L -86.878654,31.118127 L -86.878167,31.118701 L -86.878151,31.118844 L -86.877498,31.119766 L -86.877473,31.119981 L -86.877066,31.120597 L -86.876568,31.12164 L -86.876238,31.121938 L -86.876085,31.122178 L -86.875338,31.122803 L -86.875,31.123008 L -86.874846,31.123048 L -86.872959,31.124404 L -86.872409,31.124799 L -86.872404,31.124955 L -86.872001,31.125356 L -86.871357,31.125945 L -86.871001,31.126066 L -86.870822,31.12612 L -86.869506,31.125818 L -86.869003,31.12546 L -86.86892,31.125453 L -86.86873,31.125257 L -86.868567,31.125207 L -86.868426,31.125 L -86.868428,31.124868 L -86.86821,31.124611 L -86.867868,31.124208 L -86.867879,31.123739 L -86.867902,31.123659 L -86.86785,31.123317 L -86.8686,31.123033 L -86.868959,31.12278 L -86.869565,31.12265 L -86.869619,31.122654 L -86.871574,31.121991 L -86.872139,31.121519 L -86.872179,31.120842 L -86.872008,31.120105 L -86.871831,31.119802 L -86.870964,31.118863 L -86.870516,31.118718 L -86.869766,31.11862 L -86.869537,31.118782 L -86.868741,31.118716 L -86.868374,31.118975 L -86.86771,31.11892 L -86.867621,31.118945 L -86.867294,31.119175 L -86.866959,31.119147 L -86.866592,31.119406 L -86.866299,31.119382 L -86.865932,31.119641 L -86.865596,31.119613 L -86.864774,31.12016 L -86.863948,31.120742 L -86.863514,31.121212 L -86.862795,31.123465 L -86.862633,31.123776 L -86.862372,31.124586 L -86.862235,31.124683 L -86.862178,31.125001 L -86.862112,31.12547 L -86.861688,31.12623 L -86.861446,31.126499 L -86.861438,31.126571 L -86.860963,31.127037 L -86.860425,31.127397 L -86.860049,31.127648 L -86.858529,31.127632 L -86.858034,31.127518 L -86.857958,31.12744 L -86.857665,31.127416 L -86.8573,31.127277 L -86.857028,31.127074 L -86.856818,31.127057 L -86.856398,31.126892 L -86.855871,31.12676 L -86.855002,31.126489 L -86.854404,31.126352 L -86.853997,31.12621 L -86.853411,31.126162 L -86.852338,31.125929 L -86.852133,31.125876 L -86.852057,31.125797 L -86.850804,31.125658 L -86.850461,31.125702 L -86.84887,31.12557 L -86.847722,31.125259 L -86.846838,31.125222 L -86.846716,31.125176 L -86.846327,31.125252 L -86.846034,31.125458 L -86.845752,31.126222 L -86.846225,31.127105 L -86.846401,31.127409 L -86.846607,31.127496 L -86.847115,31.127715 L -86.847357,31.127819 L -86.848013,31.128096 L -86.848351,31.128238 L -86.849417,31.128798 L -86.850284,31.129923 L -86.850544,31.130365 L -86.850627,31.130592 L -86.851213,31.131399 L -86.851515,31.131713 L -86.851826,31.131956 L -86.852304,31.132212 L -86.853381,31.132409 L -86.853696,31.132616 L -86.853815,31.132626 L -86.853864,31.13263 L -86.85411,31.132898 L -86.854236,31.133002 L -86.854406,31.133171 L -86.854438,31.133256 L -86.854616,31.13345 L -86.854811,31.133972 L -86.854784,31.134584 L -86.854594,31.135146 L -86.854482,31.13539 L -86.854442,31.135418 L -86.85439,31.135455 L -86.854375,31.135589 L -86.854358,31.135741 L -86.854192,31.136089 L -86.854166,31.136111 L -86.854084,31.136319 L -86.853596,31.136869 L -86.852257,31.138293 L -86.852022,31.138527 L -86.85184,31.138568 L -86.851518,31.138794 L -86.851267,31.138774 L -86.851175,31.138838 L -86.850798,31.138807 L -86.85066,31.138904 L -86.849864,31.138838 L -86.849637,31.138603 L -86.849181,31.138529 L -86.84915,31.138473 L -86.84878,31.138106 L -86.848267,31.137912 L -86.848194,31.137906 L -86.847951,31.137814 L -86.846736,31.137713 L -86.846263,31.137783 L -86.845505,31.137756 L -86.844793,31.137697 L -86.844718,31.137619 L -86.844173,31.137574 L -86.84377,31.137396 L -86.843581,31.1372 L -86.843514,31.137159 L -86.8407,31.135842 L -86.840398,31.135817 L -86.84013,31.135699 L -86.839845,31.135627 L -86.839157,31.13557 L -86.83876,31.135718 L -86.838634,31.135707 L -86.838183,31.135959 L -86.838058,31.135949 L -86.837281,31.136463 L -86.837025,31.136478 L -86.836336,31.136963 L -86.835847,31.137175 L -86.835115,31.137295 L -86.834478,31.137315 L -86.834345,31.137376 L -86.833884,31.137338 L -86.833708,31.137396 L -86.833499,31.137378 L -86.833407,31.137443 L -86.832858,31.137434 L -86.832591,31.137556 L -86.83229,31.137603 L -86.83206,31.137765 L -86.83185,31.137748 L -86.831399,31.137999 L -86.830846,31.138026 L -86.830587,31.138077 L -86.830403,31.138206 L -86.829897,31.1382 L -86.829763,31.138261 L -86.829603,31.138176 L -86.828514,31.138086 L -86.828439,31.138007 L -86.828229,31.13799 L -86.827454,31.137745 L -86.827298,31.137624 L -86.8268,31.137547 L -86.826313,31.137362 L -86.826226,31.137342 L -86.825998,31.137249 L -86.825729,31.137109 L -86.825311,31.136889 L -86.824342,31.135989 L -86.823939,31.135356 L -86.82387,31.134898 L -86.823813,31.134807 L -86.823823,31.134577 L -86.82368,31.133588 L -86.823513,31.133056 L -86.823343,31.132879 L -86.823278,31.132812 L -86.823126,31.132655 L -86.822795,31.132591 L -86.822607,31.132395 L -86.822732,31.132272 L -86.822856,31.132148 L -86.823199,31.131791 L -86.823332,31.131699 L -86.823492,31.131333 L -86.823519,31.130485 L -86.823625,31.130049 L -86.823625,31.129591 L -86.823465,31.129133 L -86.822746,31.128353 L -86.822426,31.128262 L -86.821867,31.128239 L -86.818403,31.128789 L -86.817098,31.128881 L -86.816778,31.128766 L -86.816325,31.128216 L -86.815819,31.127437 L -86.815446,31.127024 L -86.815233,31.126933 L -86.815338,31.126016 L -86.815924,31.125176 L -86.816137,31.124739 L -86.81659,31.124253 L -86.816856,31.123611 L -86.816963,31.123611 L -86.817123,31.123336 L -86.818909,31.122098 L -86.819574,31.121755 L -86.820747,31.120861 L -86.820947,31.120788 L -86.821572,31.120563 L -86.822184,31.120012 L -86.822877,31.118957 L -86.823712,31.118096 L -86.823607,31.118004 L -86.823364,31.117799 L -86.823095,31.117552 L -86.822984,31.117441 L -86.823167,31.117359 L -86.824674,31.116721 L -86.825086,31.116547 L -86.826631,31.115903 L -86.827015,31.115738 L -86.829707,31.114603 L -86.8298,31.114565 L -86.830093,31.114445 L -86.830477,31.114279 L -86.833099,31.113176 L -86.833349,31.11307 L -86.832769,31.112834 L -86.832315,31.112582 L -86.831489,31.111482 L -86.831463,31.111299 L -86.831356,31.111208 L -86.831169,31.110726 L -86.830476,31.109696 L -86.829995,31.108802 L -86.829968,31.107633 L -86.830234,31.106993 L -86.831431,31.105823 L -86.831591,31.105434 L -86.831428,31.102341 L -86.831187,31.101493 L -86.831001,31.101241 L -86.831001,31.101057 L -86.830655,31.100439 L -86.829828,31.099636 L -86.829508,31.099201 L -86.828948,31.09801 L -86.8286,31.096956 L -86.828547,31.096475 L -86.82868,31.096108 L -86.828067,31.095512 L -86.827109,31.094916 L -86.824098,31.094001 L -86.821833,31.09375 L -86.821141,31.093452 L -86.820727,31.093191 L -86.819383,31.092597 L -86.818052,31.092384 L -86.817493,31.092152 L -86.81712,31.091851 L -86.816774,31.091344 L -86.816508,31.090445 L -86.81595,31.089361 L -86.815631,31.087676 L -86.814593,31.085831 L -86.813342,31.084722 L -86.812756,31.083983 L -86.812729,31.083845 L -86.812463,31.083568 L -86.81209,31.082829 L -86.811533,31.082064 L -86.811463,31.080849 L -86.811298,31.080465 L -86.810781,31.079837 L -86.809183,31.079027 L -86.80883,31.078521 L -86.807326,31.076436 L -86.806432,31.075505 L -86.80615,31.074958 L -86.805944,31.073782 L -86.805751,31.072408 L -86.805539,31.072043 L -86.804693,31.06931 L -86.804505,31.069128 L -86.804223,31.067994 L -86.804322,31.06721 L -86.804407,31.066854 L -86.804625,31.066135 L -86.806079,31.06125 L -86.806805,31.058846 L -86.807758,31.055642 L -86.807904,31.055153 L -86.808023,31.054742 L -86.808128,31.054378 L -86.808558,31.052945 L -86.808666,31.05257 L -86.808784,31.052188 L -86.809081,31.051179 L -86.809339,31.050305 L -86.809897,31.04843 L -86.810035,31.047967 L -86.810167,31.047471 L -86.81023,31.047101 L -86.810225,31.04694 L -86.810228,31.046865 L -86.810227,31.046832 L -86.81065,31.046536 L -86.811103,31.045871 L -86.812141,31.044955 L -86.812913,31.044473 L -86.812939,31.044313 L -86.814802,31.043855 L -86.816266,31.043763 L -86.817038,31.043854 L -86.817065,31.04374 L -86.818076,31.042594 L -86.820072,31.039041 L -86.820418,31.038331 L -86.820977,31.036474 L -86.821004,31.035993 L -86.821084,31.035901 L -86.821243,31.035007 L -86.821695,31.032899 L -86.821706,31.032784 L -86.821775,31.032074 L -86.821935,31.031479 L -86.822041,31.030149 L -86.822759,31.027238 L -86.822841,31.027062 L -86.822972,31.02678 L -86.823264,31.025153 L -86.823109,31.02382 L -86.823457,31.023987 L -86.823611,31.024052 L -86.824276,31.024405 L -86.824501,31.024506 L -86.824656,31.024564 L -86.824738,31.024587 L -86.824821,31.024603 L -86.824907,31.024614 L -86.825079,31.024619 L -86.825252,31.024611 L -86.825511,31.02458 L -86.825929,31.024515 L -86.826349,31.02444 L -86.827098,31.024285 L -86.82726,31.024241 L -86.82742,31.02418 L -86.82764,31.024067 L -86.827852,31.023942 L -86.82806,31.023807 L -86.828189,31.023713 L -86.828249,31.023659 L -86.828304,31.023603 L -86.828353,31.023543 L -86.828398,31.023479 L -86.828436,31.023413 L -86.828466,31.023344 L -86.82858,31.022988 L -86.828704,31.022483 L -86.828727,31.022413 L -86.828756,31.022343 L -86.828791,31.022277 L -86.828832,31.022213 L -86.828882,31.022153 L -86.828992,31.022041 L -86.829176,31.021888 L -86.829308,31.021796 L -86.829452,31.021716 L -86.829603,31.021651 L -86.829603,31.021619 L -86.829619,31.021548 L -86.829687,31.021342 L -86.829748,31.02114 L -86.829832,31.020906 L -86.829847,31.020835 L -86.829863,31.020648 L -86.829825,31.020448 L -86.829718,31.020236 L -86.829619,31.020086 L -86.829267,31.01975 L -86.828924,31.019399 L -86.828711,31.019128 L -86.828436,31.018867 L -86.828352,31.018762 L -86.828321,31.018731 L -86.828032,31.018375 L -86.827932,31.018251 L -86.827856,31.018129 L -86.827551,31.017595 L -86.827269,31.017028 L -86.827131,31.016674 L -86.827001,31.016269 L -86.826857,31.015745 L -86.826742,31.015413 L -86.826643,31.015213 L -86.826589,31.015079 L -86.826506,31.0149 L -86.826345,31.01464 L -86.826254,31.014446 L -86.82617,31.014312 L -86.825712,31.01342 L -86.825506,31.013069 L -86.825376,31.012905 L -86.825155,31.012615 L -86.824896,31.012302 L -86.824606,31.011968 L -86.824331,31.01161 L -86.824255,31.011532 L -86.824224,31.011488 L -86.824179,31.011419 L -86.824072,31.011236 L -86.82385,31.010917 L -86.823583,31.010563 L -86.823492,31.0104 L -86.823309,31.009946 L -86.82324,31.009802 L -86.823217,31.009724 L -86.823118,31.009535 L -86.823049,31.009363 L -86.822981,31.009125 L -86.822958,31.008964 L -86.82292,31.008625 L -86.822881,31.008495 L -86.822767,31.008295 L -86.822607,31.008135 L -86.822439,31.008009 L -86.822409,31.007988 L -86.822256,31.007856 L -86.822057,31.007709 L -86.821913,31.007587 L -86.82176,31.007479 L -86.821615,31.007395 L -86.821302,31.007179 L -86.821203,31.007101 L -86.821058,31.006998 L -86.820928,31.006914 L -86.820859,31.006884 L -86.820753,31.006855 L -86.820302,31.006778 L -86.819997,31.006725 L -86.81986,31.006685 L -86.819715,31.006614 L -86.819494,31.006468 L -86.819166,31.006144 L -86.819021,31.005979 L -86.818708,31.005577 L -86.818616,31.005449 L -86.818525,31.005276 L -86.818433,31.005066 L -86.818372,31.004873 L -86.818296,31.004498 L -86.818265,31.004284 L -86.818265,31.0042 L -86.81825,31.004086 L -86.818235,31.003912 L -86.818235,31.003439 L -86.818242,31.003265 L -86.818281,31.003107 L -86.818357,31.002674 L -86.81841,31.002508 L -86.818494,31.002142 L -86.818548,31.001986 L -86.818616,31.001694 L -86.818624,31.001617 L -86.818662,31.001482 L -86.818654,31.001419 L -86.818622,31.001326 L -86.818557,31.001215 L -86.818395,31.000914 L -86.818338,31.000782 L -86.818246,31.000494 L -86.818177,31.000182 L -86.818145,30.999837 L -86.818166,30.999774 L -86.818165,30.99974 L -86.818148,30.999643 L -86.818115,30.999579 L -86.817743,30.999196 L -86.817639,30.999053 L -86.817391,30.998672 L -86.817311,30.998561 L -86.817232,30.998483 L -86.817153,30.998418 L -86.81702,30.998345 L -86.816637,30.998167 L -86.816489,30.998119 L -86.81638,30.998105 L -86.816226,30.99813 L -86.81611,30.998164 L -86.81601,30.998211 L -86.815826,30.998328 L -86.815758,30.998359 L -86.815641,30.998382 L -86.81537,30.998413 L -86.815175,30.998453 L -86.815036,30.998491 L -86.814936,30.998543 L -86.814575,30.99889 L -86.814513,30.998926 L -86.814443,30.998955 L -86.814365,30.998975 L -86.814092,30.999009 L -86.81378,30.999029 L -86.813108,30.999035 L -86.812841,30.999025 L -86.812606,30.998999 L -86.812411,30.99896 L -86.812184,30.998906 L -86.811964,30.998836 L -86.811893,30.998802 L -86.81183,30.998761 L -86.811751,30.998689 L -86.811672,30.998601 L -86.811624,30.998441 L -86.811607,30.998411 L -86.811576,30.998391 L -86.811537,30.998377 L -86.811458,30.998366 L -86.811145,30.998383 L -86.811067,30.998374 L -86.811028,30.998361 L -86.810933,30.998304 L -86.810824,30.998209 L -86.810776,30.998155 L -86.810689,30.998044 L -86.81061,30.99797 L -86.81046,30.997855 L -86.810081,30.997626 L -86.810042,30.997606 L -86.809995,30.997554 L -86.809979,30.997525 L -86.809971,30.997455 L -86.810024,30.997369 L -86.810039,30.997337 L -86.810039,30.997306 L -86.810031,30.99727 L -86.809992,30.997218 L -86.809959,30.997195 L -86.810216,30.997198 L -86.819027,30.997285 L -86.827468,30.99737 L -86.830204,30.997398 L -86.830497,30.997401 L -86.831933,30.997378 L -86.838393,30.997432 L -86.838673,30.997434 L -86.840561,30.997444 L -86.849216,30.997493 L -86.849466,30.997494 L -86.849508,30.997494 L -86.852165,30.997511 L -86.854544,30.997524 L -86.854768,30.997526 L -86.862772,30.99757 L -86.866705,30.997593 L -86.8672,30.997593 L -86.874565,30.9976 L -86.878819,30.997605 L -86.87928,30.997605 L -86.879623,30.997619 L -86.880137,30.997614 L -86.880489,30.997623 L -86.881317,30.997643 L -86.881979,30.997638 L -86.884016,30.997688 L -86.885897,30.997621 L -86.886127,30.99766 L -86.887188,30.997692 L -86.887802,30.997718 L -86.888417,30.997744 L -86.888446,30.997745 L -86.88846,30.997746 L -86.888647,30.997754 L -86.888711,30.997757 L -86.890722,30.997746 L -86.89915,30.997696 L -86.899322,30.997687 L -86.903778,30.997554 L -86.904708,30.997567 L -86.905227,30.997574 L -86.906104,30.997585 L -86.906258,30.997587 L -86.906693,30.997591 L -86.910851,30.997638 L -86.911106,30.997641 L -86.915215,30.997682 L -86.915489,30.997685 L -86.915753,30.997687 L -86.919621,30.997683 L -86.922791,30.997679 L -86.925578,30.997675 L -86.925708,30.997677 L -86.92781,30.997704 L -86.930739,30.997743 L -86.930772,30.997743 L -86.932159,30.997762 L -86.937797,30.99784 L -86.937813,30.99784 L -86.937825,30.99784 L -86.937846,30.997841 L -86.937913,30.997842 L -86.944151,30.997924 L -86.944464,30.997928 L -86.953062,30.998045 L -86.95319,30.998047 L -86.953211,30.998047 L -86.953244,30.998047 L -86.953309,30.998048 L -86.95337,30.998049 L -86.953692,30.998053 L -86.954587,30.998065 L -86.956066,30.998085 L -86.960449,30.998144 L -86.960477,30.998144 L -86.965687,30.998216 L -86.965888,30.998221 L -86.965926,30.998222 L -86.971116,30.998292 L -86.979944,30.99841 L -86.982097,30.998438 L -86.987145,30.998509 L -86.987597,30.998515 L -86.998477,30.998661 L -86.998545,30.998676 L -86.999965,30.998996 L -87.004339,30.999317 L -87.004737,30.999317 L -87.007263,30.99932 L -87.009743,30.999324 L -87.013387,30.999339 L -87.013467,30.999339 L -87.019858,30.99936 L -87.023889,30.999375 L -87.024145,30.999372 L -87.02442,30.999362 L -87.024436,30.999361 L -87.026946,30.999164 L -87.027395,30.999155 L -87.028159,30.999151 L -87.028405,30.999156 L -87.029087,30.99917 L -87.029205,30.99917 L -87.02996,30.99917 L -87.03011,30.99917 L -87.030748,30.999172 L -87.035302,30.99919 L -87.035838,30.999222 L -87.036465,30.999259 L -87.036493,30.999261 L -87.037132,30.99931 L -87.037154,30.999312 L -87.040119,30.999538 L -87.040229,30.999547 L -87.040764,30.999394 L -87.040775,30.999391 L -87.04098,30.999338 L -87.041344,30.999256 L -87.041657,30.99921 L -87.041891,30.999203 L -87.042157,30.999194 L -87.042216,30.999193 L -87.042791,30.999185 L -87.043745,30.999197 L -87.044408,30.999197 L -87.045841,30.999205 L -87.047027,30.999207 L -87.047966,30.999205 L -87.048324,30.999204 L -87.04883,30.999211 L -87.049819,30.999207 L -87.050661,30.999213 L -87.051662,30.999213 L -87.052549,30.999229 L -87.052584,30.99923 L -87.053173,30.999215 L -87.05336,30.999181 L -87.053525,30.999134 L -87.053679,30.999131 L -87.055029,30.9991 L -87.055046,30.9991 L -87.060202,30.999152 L -87.064063,30.999191 L -87.066884,30.999374 L -87.067043,30.999397 L -87.067602,30.999305 L -87.068507,30.999099 L -87.068633,30.999143 L -87.070993,30.999155 L -87.075978,30.999183 L -87.076108,30.999184 L -87.08097,30.999207 L -87.08559,30.999242 L -87.089619,30.99926 L -87.089886,30.999262 L -87.096898,30.999304 L -87.096912,30.999304 L -87.1054,30.999349 L -87.115073,30.999403 L -87.115151,30.999404 L -87.11647,30.999413 L -87.118873,30.999427 L -87.124969,30.998803 L -87.126993,30.998872 L -87.13398,30.999207 L -87.13559,30.999284 L -87.135798,30.999294 L -87.140755,30.999532 L -87.14937,30.999348 L -87.149594,30.999343 L -87.150594,30.999322 L -87.160789,30.999106 L -87.162798,30.999053 L -87.163084,30.999045 L -87.163314,30.999038 L -87.163543,30.999032 L -87.163653,30.999029 L -87.163814,30.999024 L -87.164084,30.999017 L -87.164214,30.999013 L -87.164343,30.99901 L -87.164393,30.999009 L -87.164661,30.999002 L -87.165458,30.998988 L -87.170473,30.99885 L -87.17149,30.998824 L -87.172507,30.998798 L -87.174056,30.998757 L -87.174802,30.998742 L -87.175238,30.998729 L -87.175309,30.998727 L -87.17538,30.998725 L -87.175444,30.998724 L -87.175509,30.998722 L -87.179385,30.998618 L -87.18326,30.998514 L -87.183326,30.998512 L -87.188003,30.99839 L -87.188179,30.998385 L -87.188239,30.998384 L -87.189713,30.998346 L -87.193398,30.998252 L -87.1967,30.998137 L -87.200132,30.998017 L -87.200153,30.998016 L -87.200585,30.998002 L -87.205497,30.997833 L -87.206235,30.997807 L -87.211838,30.997614 L -87.218179,30.997396 L -87.221462,30.997281 L -87.224414,30.997178 L -87.224746,30.997168 L -87.225174,30.997136 L -87.225601,30.997103 L -87.22639,30.997042 L -87.227179,30.996981 L -87.22954,30.996816 L -87.22974,30.996802 L -87.237163,30.996415 L -87.237685,30.996393 L -87.237905,30.996412 L -87.238077,30.996426 L -87.238113,30.996428 L -87.238314,30.996447 L -87.238866,30.9965 L -87.239419,30.996553 L -87.239673,30.99657 L -87.239912,30.996587 L -87.240076,30.996597 L -87.240226,30.996611 L -87.240415,30.996636 L -87.240527,30.996643 L -87.241558,30.996725 L -87.24924,30.997668 L -87.249927,30.997752 L -87.249973,30.997758 L -87.251778,30.997913 L -87.252402,30.997936 L -87.25478,30.997928 L -87.255203,30.997927 L -87.255541,30.997906 L -87.255836,30.997897 L -87.257031,30.997851 L -87.257139,30.997863 L -87.257164,30.997862 L -87.257237,30.997861 L -87.257294,30.99786 L -87.257435,30.997856 L -87.257482,30.997855 L -87.258012,30.997846 L -87.258075,30.997845 L -87.259415,30.997831 L -87.259678,30.997832 L -87.259808,30.997828 L -87.260005,30.997808 L -87.260444,30.997801 L -87.260824,30.997795 L -87.26116,30.997802 L -87.261213,30.997802 L -87.261607,30.997802 L -87.262964,30.9978 L -87.263848,30.997803 L -87.264021,30.997803 L -87.264652,30.997805 L -87.264823,30.997806 L -87.265003,30.997803 L -87.265692,30.99779 L -87.265715,30.99779 L -87.266486,30.997757 L -87.266659,30.997767 L -87.276274,30.998302 L -87.277969,30.998309 L -87.278074,30.998309 L -87.278178,30.99831 L -87.284731,30.998339 L -87.28487,30.998339 L -87.288638,30.998343 L -87.288728,30.998343 L -87.288741,30.998343 L -87.288782,30.998344 L -87.288829,30.998344 L -87.288964,30.998344 L -87.289081,30.998344 L -87.289149,30.998344 L -87.28918,30.998344 L -87.2892,30.998344 L -87.290995,30.998352 L -87.295469,30.998387 L -87.295714,30.998389 L -87.297721,30.9984 L -87.299362,30.998416 L -87.301528,30.998438 L -87.301548,30.998437 L -87.303663,30.998321 L -87.303987,30.998251 L -87.30403,30.998191 L -87.309053,30.998339 L -87.309193,30.998345 L -87.309224,30.998346 L -87.309235,30.998346 L -87.30928,30.998349 L -87.309489,30.998355 L -87.309616,30.998358 L -87.309825,30.998365 L -87.311949,30.998435 L -87.311996,30.998376 L -87.31213,30.998207 L -87.312264,30.998038 L -87.312339,30.997959 L -87.312355,30.997943 L -87.312368,30.997936 L -87.312446,30.997892 L -87.312522,30.997863 L -87.312555,30.997855 L -87.312623,30.99784 L -87.312665,30.997835 L -87.314116,30.99784 L -87.314655,30.997848 L -87.314672,30.997848 L -87.314693,30.997849 L -87.314928,30.997852 L -87.315175,30.99785 L -87.315187,30.99785 L -87.315206,30.99785 L -87.315236,30.99785 L -87.315831,30.997847 L -87.316747,30.997849 L -87.316964,30.997845 L -87.317095,30.997833 L -87.317241,30.997844 L -87.317257,30.997845 L -87.318142,30.997839 L -87.318466,30.99784 L -87.318783,30.997837 L -87.319601,30.997836 L -87.321065,30.997839 L -87.322673,30.997836 L -87.322689,30.997836 L -87.322708,30.997836 L -87.323839,30.997834 L -87.325677,30.997843 L -87.326012,30.997843 L -87.326202,30.997843 L -87.326691,30.997838 L -87.326889,30.997842 L -87.327013,30.997845 L -87.327114,30.997845 L -87.329057,30.997852 L -87.329097,30.997852 L -87.329485,30.997842 L -87.33157,30.997843 L -87.332102,30.997848 L -87.332623,30.997848 L -87.33305,30.99785 L -87.333983,30.99786 L -87.334007,30.99786 L -87.334045,30.99786 L -87.334078,30.997855 L -87.334113,30.997858 L -87.334192,30.997866 L -87.334231,30.99787 L -87.33426,30.997877 L -87.334271,30.997882 L -87.33429,30.997875 L -87.334991,30.997944 L -87.33503,30.997948 L -87.335069,30.997952 L -87.33527,30.997972 L -87.336935,30.998136 L -87.337253,30.998167 L -87.337433,30.998184 L -87.337795,30.998218 L -87.338087,30.998248 L -87.33832,30.998272 L -87.343965,30.998271 L -87.344483,30.99827 L -87.347326,30.99827 L -87.347894,30.99827 L -87.350782,30.998168 L -87.350799,30.998167 L -87.355451,30.997865 L -87.35557,30.997859 L -87.35721,30.997861 L -87.358316,30.997856 L -87.359356,30.99786 L -87.359553,30.997856 L -87.359564,30.997856 L -87.360206,30.997844 L -87.360607,30.997836 L -87.361174,30.997832 L -87.362372,30.99784 L -87.362881,30.997854 L -87.363415,30.997862 L -87.363721,30.997861 L -87.363764,30.997866 L -87.363868,30.997892 L -87.363884,30.997896 L -87.363909,30.997893 L -87.363979,30.997886 L -87.364026,30.997872 L -87.364117,30.997861 L -87.364228,30.997861 L -87.364667,30.997885 L -87.365438,30.997896 L -87.366153,30.997911 L -87.366859,30.997897 L -87.367049,30.997891 L -87.36729,30.997879 L -87.367707,30.997882 L -87.367832,30.997894 L -87.370255,30.998306 L -87.37028,30.99831 L -87.370472,30.998343 L -87.370631,30.998342 L -87.372045,30.998222 L -87.373052,30.998136 L -87.373354,30.99811 L -87.373416,30.998105 L -87.373439,30.998103 L -87.3735,30.998097 L -87.373561,30.998092 L -87.37496,30.997972 L -87.380801,30.997987 L -87.381307,30.997988 L -87.381325,30.997988 L -87.381384,30.997989 L -87.381436,30.997989 L -87.381485,30.997989 L -87.381518,30.997989 L -87.387509,30.998005 L -87.391688,30.998014 L -87.391845,30.998014 L -87.391873,30.998014 L -87.394728,30.99802 L -87.397921,30.998027 L -87.398476,30.998028 L -87.398509,30.998029 L -87.398539,30.998029 L -87.398585,30.998029 L -87.398639,30.998029 L -87.398686,30.998029 L -87.400377,30.998033 L -87.401924,30.998036 L -87.403573,30.998039 L -87.404045,30.99804 L -87.404285,30.99804 L -87.404476,30.99804 L -87.407304,30.998046 L -87.407381,30.998046 L -87.4078,30.998047 L -87.407849,30.998047 L -87.407892,30.998047 L -87.407919,30.998048 L -87.407946,30.998048 L -87.408055,30.998048 L -87.408104,30.998048 L -87.408117,30.998048 L -87.40876,30.99805 L -87.409756,30.998052 L -87.415074,30.998066 L -87.415286,30.998059 L -87.415297,30.998059 L -87.425616,30.997741 L -87.425631,30.997741 L -87.425968,30.99774 L -87.426423,30.997738 L -87.430119,30.997745 L -87.431343,30.997743 L -87.432011,30.997755 L -87.432026,30.997755 L -87.433741,30.997807 L -87.434316,30.99782 L -87.435336,30.997848 L -87.435663,30.997849 L -87.435688,30.997849 L -87.437202,30.997857 L -87.441443,30.997877 L -87.441458,30.997877 L -87.443553,30.997888 L -87.444599,30.997894 L -87.446531,30.997873 L -87.446901,30.997864 L -87.447257,30.99786 L -87.447313,30.99786 L -87.449612,30.997837 L -87.449761,30.997838 L -87.449782,30.997838 L -87.450799,30.997842 L -87.451665,30.99784 L -87.453323,30.99785 L -87.453489,30.997851 L -87.453721,30.997852 L -87.453806,30.997853 L -87.454101,30.997856 L -87.454806,30.997865 L -87.455683,30.997871 L -87.458109,30.997894 L -87.458241,30.997901 L -87.458384,30.997915 L -87.458465,30.997935 L -87.458509,30.997946 L -87.458681,30.997934 L -87.458925,30.998063 L -87.459184,30.998133 L -87.459758,30.997983 L -87.461588,30.997947 L -87.461728,30.99792 L -87.461843,30.997897 L -87.462064,30.997896 L -87.462227,30.997898 L -87.462603,30.997903 L -87.464684,30.997906 L -87.465256,30.998027 L -87.465276,30.998023 L -87.465335,30.99801 L -87.465435,30.997996 L -87.465503,30.997986 L -87.465637,30.997984 L -87.466094,30.997992 L -87.466151,30.997991 L -87.46633,30.997989 L -87.466428,30.997988 L -87.466682,30.997979 L -87.466824,30.997977 L -87.466876,30.997976 L -87.467027,30.997974 L -87.467095,30.99794 L -87.467119,30.997902 L -87.467128,30.997833 L -87.467291,30.997855 L -87.467478,30.997865 L -87.469812,30.997861 L -87.471678,30.997863 L -87.472468,30.997869 L -87.472692,30.997871 L -87.473545,30.99787 L -87.476081,30.997867 L -87.477193,30.997862 L -87.477237,30.997862 L -87.477392,30.997864 L -87.477453,30.997865 L -87.477601,30.997867 L -87.47765,30.997868 L -87.477737,30.99787 L -87.47787,30.997873 L -87.477988,30.997873 L -87.478268,30.997875 L -87.478712,30.997877 L -87.478996,30.997878 L -87.479166,30.997879 L -87.479195,30.99788 L -87.479354,30.997887 L -87.479456,30.997892 L -87.479529,30.997902 L -87.479558,30.99791 L -87.479585,30.997923 L -87.479609,30.99794 L -87.479628,30.997958 L -87.479701,30.997962 L -87.479866,30.997972 L -87.48002,30.997981 L -87.480291,30.997997 L -87.4816,30.998074 L -87.482715,30.998139 L -87.483773,30.998107 L -87.485173,30.998072 L -87.485992,30.998054 L -87.486062,30.998053 L -87.486101,30.998052 L -87.487622,30.998019 L -87.488342,30.997999 L -87.488374,30.997998 L -87.488421,30.997997 L -87.488439,30.997997 L -87.490009,30.99798 L -87.496516,30.997947 L -87.498376,30.997938 L -87.498428,30.997937 L -87.498442,30.997937 L -87.498512,30.997936 L -87.498974,30.997853 L -87.499981,30.997672 L -87.505192,30.997648 L -87.507731,30.997637 L -87.513229,30.997613 L -87.513337,30.997601 L -87.513409,30.997593 L -87.514833,30.997548 L -87.514945,30.997543 L -87.515565,30.997585 L -87.517752,30.997594 L -87.520143,30.997592 L -87.527102,30.997674 L -87.527464,30.997678 L -87.527877,30.997683 L -87.527968,30.997684 L -87.527986,30.997685 L -87.528004,30.997685 L -87.528018,30.997685 L -87.530806,30.997718 L -87.530826,30.997718 L -87.533668,30.997748 L -87.54081,30.997835 L -87.540835,30.997835 L -87.54093,30.997837 L -87.540953,30.997837 L -87.5411,30.997839 L -87.541378,30.997842 L -87.542694,30.997858 L -87.548043,30.997917 L -87.54806,30.997922 L -87.548141,30.997858 L -87.548175,30.997833 L -87.548197,30.997817 L -87.548223,30.997797 L -87.548391,30.997671 L -87.54856,30.99757 L -87.548616,30.997545 L -87.548628,30.997542 L -87.548665,30.99753 L -87.548713,30.997518 L -87.548791,30.997508 L -87.54887,30.99751 L -87.549012,30.997516 L -87.549734,30.997546 L -87.54992,30.997551 L -87.550127,30.997558 L -87.550396,30.997567 L -87.550954,30.997599 L -87.551254,30.997607 L -87.55244,30.997613 L -87.554862,30.997582 L -87.5555,30.997587 L -87.555525,30.997587 L -87.555698,30.997588 L -87.556664,30.997612 L -87.557515,30.997609 L -87.559294,30.997596 L -87.560478,30.99758 L -87.562943,30.997551 L -87.563716,30.997546 L -87.563794,30.997544 L -87.564122,30.997542 L -87.564448,30.99754 L -87.564747,30.997536 L -87.565167,30.997536 L -87.565532,30.997536 L -87.566428,30.997535 L -87.568412,30.99754 L -87.568536,30.997542 L -87.568592,30.997543 L -87.568787,30.997547 L -87.569063,30.997544 L -87.57052,30.997547 L -87.570749,30.997547 L -87.57076,30.997546 L -87.570772,30.997546 L -87.581094,30.997606 L -87.581149,30.997607 L -87.58116,30.997607 L -87.581176,30.997607 L -87.581213,30.997607 L -87.581427,30.997608 L -87.585516,30.997627 L -87.585889,30.997619 L -87.593082,30.997482 L -87.596084,30.997474 L -87.598829,30.997455 L -87.598839,30.997426 L -87.598839,30.997398 L -87.598711,30.997239 L -87.598621,30.997074 L -87.598621,30.997041 L -87.598647,30.996821 L -87.5988,30.996766 L -87.598838,30.996766 L -87.598991,30.996551 L -87.598998,30.996298 L -87.598621,30.995633 L -87.598589,30.995413 L -87.59871,30.995028 L -87.598429,30.994588 L -87.598237,30.994291 L -87.598135,30.993675 L -87.598109,30.99335 L -87.598198,30.992993 L -87.598166,30.992993 L -87.597758,30.992432 L -87.597687,30.992135 L -87.597598,30.991612 L -87.597438,30.991277 L -87.597336,30.991002 L -87.597176,30.990782 L -87.597144,30.990782 L -87.596703,30.990644 L -87.596384,30.989924 L -87.596448,30.989814 L -87.596473,30.989731 L -87.596735,30.989434 L -87.596792,30.989104 L -87.596767,30.988824 L -87.596664,30.988714 L -87.596543,30.988472 L -87.596504,30.987229 L -87.596229,30.986783 L -87.59591,30.986783 L -87.595648,30.98664 L -87.595521,30.986316 L -87.595138,30.986118 L -87.595112,30.986124 L -87.594729,30.985794 L -87.594697,30.985464 L -87.595048,30.985161 L -87.595105,30.984968 L -87.594818,30.984556 L -87.594435,30.984226 L -87.593764,30.98405 L -87.593605,30.983951 L -87.593285,30.983396 L -87.593132,30.983038 L -87.593068,30.982433 L -87.592972,30.982103 L -87.59285,30.981636 L -87.59285,30.981377 L -87.593106,30.981108 L -87.593201,30.980794 L -87.593131,30.980464 L -87.592939,30.980305 L -87.592499,30.980277 L -87.592301,30.980184 L -87.592237,30.979942 L -87.592339,30.979755 L -87.592499,30.979579 L -87.592531,30.979392 L -87.59246,30.979062 L -87.592779,30.978561 L -87.592849,30.978369 L -87.592849,30.978182 L -87.5932,30.977741 L -87.593254,30.977696 L -87.593481,30.97751 L -87.593493,30.977438 L -87.593551,30.977103 L -87.593551,30.976988 L -87.593513,30.976993 L -87.593264,30.976751 L -87.593264,30.976718 L -87.593193,30.976498 L -87.593315,30.976273 L -87.593347,30.97624 L -87.593481,30.976075 L -87.593538,30.975959 L -87.593512,30.975668 L -87.593231,30.975475 L -87.593072,30.975393 L -87.593002,30.975365 L -87.592944,30.975112 L -87.592944,30.974672 L -87.59283,30.974459 L -87.59265,30.974122 L -87.59249,30.97393 L -87.592458,30.973352 L -87.592682,30.972874 L -87.59265,30.972659 L -87.59233,30.972329 L -87.592081,30.97184 L -87.591953,30.971361 L -87.591934,30.97129 L -87.591934,30.970949 L -87.591883,30.97074 L -87.591774,30.970542 L -87.59173,30.970426 L -87.591666,30.970179 L -87.591538,30.970091 L -87.591187,30.969937 L -87.590906,30.969662 L -87.590746,30.969348 L -87.590612,30.969068 L -87.590452,30.968578 L -87.590452,30.968435 L -87.590363,30.967968 L -87.590044,30.967556 L -87.589973,30.967275 L -87.589692,30.966923 L -87.589309,30.966626 L -87.589054,30.966285 L -87.589054,30.966263 L -87.588862,30.96579 L -87.588798,30.965273 L -87.58883,30.964943 L -87.588887,30.964519 L -87.58867,30.964162 L -87.588677,30.963837 L -87.588887,30.963282 L -87.5889,30.962726 L -87.589059,30.962264 L -87.589116,30.962039 L -87.589148,30.961929 L -87.589116,30.961874 L -87.589027,30.961648 L -87.588957,30.961384 L -87.588957,30.961351 L -87.589122,30.961126 L -87.589403,30.960933 L -87.58941,30.960911 L -87.589531,30.960774 L -87.589633,30.960438 L -87.589729,30.960158 L -87.589952,30.959965 L -87.589945,30.959888 L -87.590041,30.959723 L -87.589952,30.95931 L -87.58992,30.959228 L -87.589881,30.958892 L -87.590073,30.958557 L -87.590424,30.958122 L -87.590513,30.957842 L -87.590896,30.957462 L -87.591189,30.957126 L -87.591317,30.956659 L -87.591355,30.956406 L -87.591387,30.955718 L -87.591355,30.955036 L -87.591195,30.954618 L -87.591093,30.954343 L -87.590933,30.953821 L -87.590933,30.953513 L -87.591092,30.953133 L -87.591418,30.952798 L -87.591826,30.95255 L -87.591858,30.952297 L -87.591666,30.951939 L -87.591609,30.95167 L -87.591736,30.951362 L -87.591985,30.951197 L -87.592662,30.951164 L -87.593038,30.950922 L -87.593293,30.950613 L -87.593517,30.950316 L -87.593836,30.950129 L -87.594155,30.949898 L -87.594186,30.949871 L -87.594186,30.949733 L -87.594116,30.949651 L -87.593893,30.949453 L -87.593803,30.949128 L -87.593803,30.948688 L -87.593905,30.948353 L -87.593905,30.94805 L -87.594064,30.947605 L -87.594383,30.946972 L -87.594447,30.946834 L -87.594466,30.946477 L -87.5946,30.946125 L -87.594849,30.945734 L -87.594887,30.945707 L -87.594887,30.945371 L -87.595014,30.944634 L -87.595467,30.943358 L -87.595741,30.94278 L -87.595818,30.942483 L -87.595811,30.942428 L -87.596009,30.941983 L -87.59606,30.941927 L -87.596168,30.941812 L -87.596481,30.94151 L -87.596704,30.941014 L -87.596736,30.940932 L -87.596863,30.940574 L -87.597335,30.939881 L -87.597756,30.939304 L -87.597916,30.938968 L -87.598005,30.938528 L -87.598005,30.93839 L -87.59811,30.938287 L -87.598196,30.938203 L -87.598228,30.938203 L -87.598458,30.938038 L -87.599351,30.93795 L -87.599702,30.937818 L -87.600716,30.936657 L -87.600946,30.936376 L -87.601194,30.935969 L -87.601328,30.935859 L -87.601679,30.935749 L -87.601769,30.935579 L -87.601769,30.935331 L -87.601711,30.935084 L -87.601807,30.934946 L -87.601998,30.934753 L -87.602087,30.934423 L -87.602428,30.933789 L -87.602789,30.93312 L -87.603082,30.932564 L -87.603114,30.932564 L -87.603082,30.932349 L -87.602954,30.932069 L -87.602788,30.931799 L -87.60282,30.931601 L -87.602986,30.931436 L -87.603273,30.931332 L -87.603305,30.931304 L -87.603464,30.931194 L -87.603521,30.931112 L -87.603521,30.930831 L -87.603681,30.930617 L -87.603872,30.930534 L -87.604223,30.929978 L -87.604388,30.929456 L -87.604516,30.929175 L -87.604739,30.929038 L -87.604829,30.928961 L -87.604899,30.928878 L -87.604867,30.92868 L -87.604898,30.928356 L -87.605058,30.928124 L -87.605249,30.92802 L -87.605307,30.927855 L -87.605338,30.927574 L -87.60553,30.92736 L -87.605759,30.927222 L -87.605823,30.927024 L -87.605791,30.926804 L -87.605823,30.926606 L -87.606352,30.925621 L -87.606613,30.925258 L -87.606964,30.925231 L -87.607053,30.925121 L -87.607245,30.924708 L -87.607436,30.92391 L -87.607506,30.923294 L -87.607499,30.922953 L -87.607697,30.92248 L -87.607735,30.922222 L -87.607639,30.921732 L -87.608302,30.920736 L -87.608276,30.920126 L -87.608429,30.919763 L -87.608659,30.919521 L -87.609092,30.919168 L -87.609602,30.91809 L -87.609768,30.917672 L -87.609927,30.917122 L -87.609925,30.917107 L -87.609895,30.916737 L -87.609952,30.916517 L -87.610175,30.916291 L -87.610558,30.916044 L -87.610628,30.915769 L -87.610685,30.915416 L -87.610749,30.91535 L -87.610908,30.915114 L -87.610947,30.915114 L -87.611387,30.914833 L -87.611521,30.914553 L -87.611712,30.914002 L -87.612062,30.9137 L -87.612222,30.91337 L -87.612285,30.912924 L -87.612285,30.911797 L -87.612284,30.910944 L -87.612342,30.910609 L -87.612565,30.910223 L -87.612565,30.910196 L -87.612667,30.91008 L -87.612756,30.90997 L -87.612953,30.909448 L -87.613266,30.909068 L -87.613718,30.908705 L -87.613967,30.908485 L -87.613999,30.908485 L -87.614101,30.908259 L -87.614126,30.90799 L -87.613839,30.90766 L -87.613839,30.907467 L -87.613877,30.90744 L -87.614068,30.907187 L -87.6141,30.907187 L -87.614349,30.906917 L -87.614317,30.906559 L -87.61438,30.906163 L -87.614674,30.905839 L -87.614699,30.905839 L -87.615018,30.905641 L -87.615152,30.905475 L -87.615241,30.905206 L -87.615241,30.905167 L -87.615113,30.905008 L -87.614699,30.904854 L -87.614609,30.904568 L -87.614411,30.904458 L -87.614379,30.904315 L -87.614411,30.904134 L -87.614762,30.903853 L -87.614832,30.903826 L -87.615272,30.903682 L -87.615342,30.903545 L -87.615272,30.903105 L -87.615272,30.90278 L -87.615456,30.902082 L -87.615686,30.901641 L -87.615972,30.901284 L -87.616004,30.901256 L -87.616323,30.900948 L -87.616706,30.900651 L -87.617318,30.900095 L -87.61735,30.900095 L -87.61779,30.899908 L -87.617892,30.89988 L -87.618243,30.899957 L -87.618459,30.899957 L -87.618593,30.89988 L -87.618753,30.899484 L -87.618842,30.899187 L -87.618976,30.899104 L -87.619224,30.899077 L -87.619767,30.899275 L -87.619926,30.899274 L -87.620156,30.899071 L -87.620347,30.898658 L -87.620372,30.898658 L -87.620621,30.898383 L -87.620882,30.898328 L -87.621042,30.898196 L -87.621073,30.898047 L -87.621424,30.897888 L -87.621807,30.897723 L -87.621864,30.897557 L -87.621806,30.8972 L -87.621743,30.89709 L -87.621832,30.896952 L -87.622125,30.896754 L -87.622125,30.896617 L -87.622023,30.896567 L -87.621863,30.896567 L -87.621647,30.89654 L -87.621327,30.896315 L -87.621232,30.896183 L -87.621232,30.896034 L -87.621072,30.895902 L -87.620919,30.895737 L -87.620881,30.895462 L -87.620919,30.89527 L -87.62111,30.895099 L -87.621333,30.895072 L -87.621646,30.895132 L -87.621863,30.895104 L -87.621894,30.895104 L -87.622213,30.894824 L -87.622213,30.894796 L -87.622245,30.894604 L -87.622034,30.894246 L -87.622002,30.893993 L -87.622027,30.893669 L -87.622028,30.893614 L -87.621746,30.892481 L -87.621523,30.892261 L -87.621363,30.892211 L -87.621293,30.892173 L -87.621229,30.891986 L -87.621211,30.891594 L -87.621203,30.891408 L -87.62075,30.89066 L -87.620718,30.89066 L -87.620431,30.890006 L -87.62043,30.889473 L -87.620469,30.889307 L -87.620558,30.888972 L -87.620532,30.888647 L -87.62034,30.888262 L -87.62034,30.888064 L -87.620372,30.888064 L -87.620653,30.887817 L -87.620653,30.887767 L -87.620596,30.887669 L -87.620586,30.887664 L -87.620537,30.887641 L -87.620397,30.887597 L -87.620397,30.887569 L -87.62027,30.887404 L -87.620306,30.887335 L -87.62034,30.887272 L -87.620531,30.887041 L -87.620914,30.887014 L -87.621041,30.886959 L -87.621073,30.886876 L -87.620939,30.886717 L -87.620913,30.886634 L -87.621003,30.886579 L -87.621105,30.886551 L -87.621105,30.886524 L -87.621041,30.886249 L -87.62113,30.886084 L -87.621162,30.885858 L -87.621296,30.885831 L -87.621455,30.885534 L -87.621544,30.885479 L -87.621614,30.885479 L -87.621965,30.885451 L -87.622156,30.88522 L -87.622156,30.885033 L -87.622277,30.884895 L -87.622437,30.884868 L -87.622819,30.884895 L -87.622947,30.88484 L -87.62317,30.884675 L -87.623431,30.884592 L -87.623648,30.884592 L -87.624324,30.884537 L -87.624484,30.884482 L -87.624675,30.884372 L -87.6247,30.884234 L -87.624573,30.884174 L -87.624292,30.884174 L -87.624254,30.884091 L -87.624349,30.883959 L -87.62454,30.883816 L -87.624732,30.883778 L -87.625,30.883773 L -87.625313,30.883828 L -87.625383,30.883828 L -87.62544,30.883812 L -87.625504,30.883784 L -87.625893,30.88341 L -87.625982,30.883311 L -87.626046,30.882981 L -87.626098,30.882833 L -87.626219,30.882575 L -87.626391,30.882327 L -87.626589,30.882091 L -87.626832,30.881882 L -87.626959,30.881783 L -87.627521,30.881618 L -87.62798,30.880997 L -87.628146,30.880799 L -87.62828,30.880683 L -87.628822,30.880513 L -87.628924,30.880464 L -87.629103,30.880425 L -87.629211,30.880194 L -87.629282,30.880013 L -87.629326,30.879941 L -87.629422,30.879853 L -87.629435,30.879771 L -87.629416,30.879562 L -87.629614,30.879342 L -87.629576,30.879215 L -87.629595,30.878907 L -87.629493,30.878803 L -87.629461,30.878742 L -87.629474,30.878671 L -87.629582,30.878627 L -87.629659,30.878478 L -87.62962,30.878381 L -87.62957,30.878258 L -87.629595,30.878192 L -87.629716,30.877996 L -87.629946,30.877626 L -87.630061,30.877334 L -87.630151,30.876416 L -87.630183,30.876212 L -87.630247,30.876152 L -87.630387,30.875987 L -87.630458,30.875877 L -87.630534,30.875541 L -87.630662,30.875432 L -87.630783,30.875184 L -87.6309,30.875 L -87.631002,30.874824 L -87.631002,30.874554 L -87.631162,30.874312 L -87.631226,30.873812 L -87.631455,30.873311 L -87.631704,30.873003 L -87.631806,30.872921 L -87.631896,30.872833 L -87.631934,30.872734 L -87.632017,30.872591 L -87.632017,30.872393 L -87.631992,30.872349 L -87.63189,30.872343 L -87.631851,30.872349 L -87.631686,30.872327 L -87.631705,30.872294 L -87.631845,30.872151 L -87.632062,30.871876 L -87.632196,30.871794 L -87.632247,30.871805 L -87.632317,30.871772 L -87.632387,30.871678 L -87.632394,30.871392 L -87.632547,30.871293 L -87.632757,30.87126 L -87.632872,30.871205 L -87.632917,30.87109 L -87.632892,30.869896 L -87.63309,30.869484 L -87.633135,30.869357 L -87.633128,30.869258 L -87.633103,30.869159 L -87.633026,30.868989 L -87.633035,30.868949 L -87.633071,30.868802 L -87.63339,30.868444 L -87.633728,30.868274 L -87.633875,30.868131 L -87.634092,30.867812 L -87.634232,30.867658 L -87.634322,30.867422 L -87.634558,30.866971 L -87.634788,30.866707 L -87.634851,30.866536 L -87.634871,30.866344 L -87.634896,30.866261 L -87.634866,30.866184 L -87.634836,30.866107 L -87.634768,30.866071 L -87.634725,30.865809 L -87.634744,30.86561 L -87.634544,30.865421 L -87.633914,30.865262 L -87.633652,30.865146 L -87.63363,30.864974 L -87.633754,30.864793 L -87.633617,30.864649 L -87.632925,30.864607 L -87.632463,30.864392 L -87.632283,30.864185 L -87.632261,30.863914 L -87.632176,30.86377 L -87.631956,30.863726 L -87.63183,30.863681 L -87.631807,30.863437 L -87.631942,30.863193 L -87.631878,30.863076 L -87.63171,30.863058 L -87.631501,30.863114 L -87.631447,30.862906 L -87.63155,30.862517 L -87.631558,30.862182 L -87.631369,30.862138 L -87.631045,30.862284 L -87.63072,30.862268 L -87.630426,30.86217 L -87.630267,30.8618 L -87.630066,30.861449 L -87.629612,30.861044 L -87.628991,30.860595 L -87.628802,30.86047 L -87.628685,30.860253 L -87.628621,30.860082 L -87.62837,30.860038 L -87.628119,30.860166 L -87.627868,30.860185 L -87.627783,30.860077 L -87.627792,30.859869 L -87.627634,30.859671 L -87.627202,30.85923 L -87.627136,30.858869 L -87.626935,30.858481 L -87.626818,30.858184 L -87.626816,30.857931 L -87.62672,30.857723 L -87.626238,30.857662 L -87.626006,30.857438 L -87.626002,30.856832 L -87.626011,30.856516 L -87.625904,30.856227 L -87.625761,30.856013 L -87.625724,30.855957 L -87.625712,30.855713 L -87.625815,30.855441 L -87.62595,30.855242 L -87.625949,30.855133 L -87.625665,30.854873 L -87.625476,30.854847 L -87.625225,30.85483 L -87.625072,30.854659 L -87.62509,30.854234 L -87.625192,30.853899 L -87.625473,30.853581 L -87.625492,30.853283 L -87.625397,30.853094 L -87.625532,30.85293 L -87.625783,30.852839 L -87.625918,30.852694 L -87.625955,30.852016 L -87.625994,30.851482 L -87.625975,30.85103 L -87.626298,30.850767 L -87.626401,30.850522 L -87.6264,30.85026 L -87.626377,30.849935 L -87.626522,30.849708 L -87.62672,30.849599 L -87.626909,30.849625 L -87.627023,30.849561 L -87.627069,30.849241 L -87.627084,30.849136 L -87.627072,30.848928 L -87.626923,30.84864 L -87.626922,30.848459 L -87.627067,30.848251 L -87.627056,30.848088 L -87.626976,30.847826 L -87.626679,30.847304 L -87.626597,30.847265 L -87.626582,30.847258 L -87.626416,30.847178 L -87.626196,30.847143 L -87.626153,30.847017 L -87.626225,30.846763 L -87.626224,30.846664 L -87.626042,30.846541 L -87.625994,30.846509 L -87.625919,30.846458 L -87.625604,30.846378 L -87.625467,30.846207 L -87.625456,30.846053 L -87.62534,30.845945 L -87.625006,30.846096 L -87.624836,30.846161 L -87.624614,30.846052 L -87.624425,30.845781 L -87.624305,30.845693 L -87.624127,30.845723 L -87.623898,30.845805 L -87.62377,30.845762 L -87.623499,30.845508 L -87.62342,30.845434 L -87.623341,30.84536 L -87.623211,30.845001 L -87.622971,30.844693 L -87.62291,30.844495 L -87.622837,30.844433 L -87.622816,30.844415 L -87.622646,30.844416 L -87.622582,30.844399 L -87.622535,30.844387 L -87.62244,30.844306 L -87.622397,30.844138 L -87.622455,30.843844 L -87.622146,30.843595 L -87.621684,30.843208 L -87.621344,30.843217 L -87.621139,30.843189 L -87.621019,30.843116 L -87.62101,30.84305 L -87.621163,30.84288 L -87.621196,30.842792 L -87.620991,30.842609 L -87.620649,30.842398 L -87.620401,30.842259 L -87.620389,30.842234 L -87.620297,30.842047 L -87.620237,30.8419 L -87.620092,30.841864 L -87.619845,30.841858 L -87.619555,30.841778 L -87.619299,30.841633 L -87.619232,30.841831 L -87.619164,30.841949 L -87.619003,30.841957 L -87.6189,30.841899 L -87.618924,30.841664 L -87.618902,30.841502 L -87.618952,30.841282 L -87.618823,30.841106 L -87.618601,30.841019 L -87.618371,30.841005 L -87.618192,30.840947 L -87.618088,30.840779 L -87.617925,30.840596 L -87.617414,30.840474 L -87.617072,30.840328 L -87.616986,30.840197 L -87.617171,30.839836 L -87.617136,30.839674 L -87.61688,30.839506 L -87.61634,30.839039 L -87.616178,30.838871 L -87.616155,30.838709 L -87.616238,30.838341 L -87.616271,30.838143 L -87.61621,30.838033 L -87.616082,30.837901 L -87.61586,30.837873 L -87.615613,30.837808 L -87.615493,30.837721 L -87.615373,30.837559 L -87.615474,30.83739 L -87.615507,30.837236 L -87.615138,30.836738 L -87.61494,30.83643 L -87.614948,30.836232 L -87.615053,30.83615 L -87.615241,30.836135 L -87.61524,30.835988 L -87.61511,30.835702 L -87.615049,30.835489 L -87.615159,30.835283 L -87.615423,30.835311 L -87.615669,30.835259 L -87.61571,30.835031 L -87.61559,30.834811 L -87.615383,30.834489 L -87.615245,30.83421 L -87.615058,30.834138 L -87.614862,30.834212 L -87.614761,30.834286 L -87.614658,30.834184 L -87.614462,30.834104 L -87.614206,30.834105 L -87.61396,30.834157 L -87.613721,30.834078 L -87.612824,30.833627 L -87.612312,30.833394 L -87.612043,30.833307 L -87.611907,30.833286 L -87.611754,30.833404 L -87.611584,30.833471 L -87.611405,30.833413 L -87.611225,30.833267 L -87.610754,30.832711 L -87.610582,30.832557 L -87.610395,30.832507 L -87.610105,30.832501 L -87.609902,30.832649 L -87.609724,30.832796 L -87.609367,30.832813 L -87.609026,30.832734 L -87.608667,30.83264 L -87.60853,30.83242 L -87.608324,30.832171 L -87.607457,30.831771 L -87.607047,30.831567 L -87.606817,30.831414 L -87.606645,30.831246 L -87.606373,30.831203 L -87.60616,30.831204 L -87.605896,30.831176 L -87.605708,30.831052 L -87.605562,30.830898 L -87.605486,30.83095 L -87.605394,30.831186 L -87.605284,30.831385 L -87.605037,30.831327 L -87.604866,30.831152 L -87.604721,30.83113 L -87.604552,30.831403 L -87.604314,30.831419 L -87.604108,30.83117 L -87.603841,30.830716 L -87.60349,30.83022 L -87.603481,30.830206 L -87.603115,30.829668 L -87.602935,30.829375 L -87.602848,30.829163 L -87.602907,30.828986 L -87.603094,30.828949 L -87.603092,30.828713 L -87.603047,30.828354 L -87.603037,30.828097 L -87.602883,30.827906 L -87.602781,30.827253 L -87.603001,30.827024 L -87.603153,30.826796 L -87.603152,30.82676 L -87.603046,30.826565 L -87.602693,30.826423 L -87.602267,30.826329 L -87.602118,30.826234 L -87.602089,30.826166 L -87.602081,30.826147 L -87.602043,30.826058 L -87.602042,30.825851 L -87.60217,30.825626 L -87.602187,30.825467 L -87.60165,30.825389 L -87.601502,30.825342 L -87.601407,30.825071 L -87.601347,30.824304 L -87.601235,30.823539 L -87.601231,30.823506 L -87.601041,30.822724 L -87.60085,30.821751 L -87.600792,30.821288 L -87.60053,30.820922 L -87.600102,30.820508 L -87.599657,30.820463 L -87.59923,30.820225 L -87.598653,30.819748 L -87.598281,30.819351 L -87.597889,30.818905 L -87.597517,30.818619 L -87.596923,30.818303 L -87.596534,30.818193 L -87.596275,30.818162 L -87.596053,30.818275 L -87.595868,30.818196 L -87.595661,30.81767 L -87.595124,30.81764 L -87.59502,30.817624 L -87.594624,30.817562 L -87.594142,30.817501 L -87.594067,30.817357 L -87.594177,30.817245 L -87.594309,30.817157 L -87.594364,30.817076 L -87.594345,30.817013 L -87.594207,30.816928 L -87.593925,30.816909 L -87.593736,30.81696 L -87.593642,30.81694 L -87.593593,30.816686 L -87.593498,30.816433 L -87.593332,30.816382 L -87.593191,30.816475 L -87.593074,30.816506 L -87.592979,30.816404 L -87.592729,30.815999 L -87.592517,30.815969 L -87.592317,30.816092 L -87.59207,30.816093 L -87.591893,30.816013 L -87.591657,30.815953 L -87.591351,30.816015 L -87.591021,30.816047 L -87.590844,30.815997 L -87.590548,30.815734 L -87.590395,30.815857 L -87.590195,30.815919 L -87.590065,30.815787 L -87.58965,30.815433 L -87.589284,30.815221 L -87.5888,30.815122 L -87.588506,30.815093 L -87.588246,30.815084 L -87.588081,30.815044 L -87.587939,30.814922 L -87.587798,30.814913 L -87.587669,30.815086 L -87.587529,30.815239 L -87.587281,30.8152 L -87.587233,30.815017 L -87.587277,30.814641 L -87.587288,30.814417 L -87.587123,30.814428 L -87.586935,30.814561 L -87.586864,30.814459 L -87.586862,30.814144 L -87.586719,30.813941 L -87.586471,30.813821 L -87.586118,30.813822 L -87.585775,30.81361 L -87.585621,30.81355 L -87.585409,30.813551 L -87.58521,30.813714 L -87.585069,30.813725 L -87.584749,30.813544 L -87.584548,30.813331 L -87.584335,30.81319 L -87.584194,30.81319 L -87.584077,30.813343 L -87.583854,30.813487 L -87.583641,30.813427 L -87.583557,30.813183 L -87.583556,30.812888 L -87.583467,30.812807 L -87.583195,30.812768 L -87.58283,30.81279 L -87.582559,30.81272 L -87.582241,30.812741 L -87.58191,30.81257 L -87.581803,30.812316 L -87.581542,30.812155 L -87.581164,30.811953 L -87.581022,30.811811 L -87.581021,30.811669 L -87.58109,30.811425 L -87.580983,30.811303 L -87.580759,30.811263 L -87.580382,30.811265 L -87.58017,30.811286 L -87.580123,30.811185 L -87.580263,30.810991 L -87.580297,30.810859 L -87.58025,30.810767 L -87.580097,30.810758 L -87.579756,30.810881 L -87.579567,30.810892 L -87.579377,30.810619 L -87.57895,30.810092 L -87.578795,30.809879 L -87.578723,30.809625 L -87.578604,30.809392 L -87.578438,30.809159 L -87.577853,30.808856 L -87.577676,30.808837 L -87.577488,30.808878 L -87.577216,30.808778 L -87.576943,30.808525 L -87.576599,30.808119 L -87.576504,30.807855 L -87.576607,30.807448 L -87.576675,30.806939 L -87.57639,30.806575 L -87.576224,30.806464 L -87.576035,30.806403 L -87.575812,30.806445 L -87.575552,30.806314 L -87.574971,30.805656 L -87.574757,30.805331 L -87.574537,30.805058 L -87.574677,30.804721 L -87.574593,30.804488 L -87.574378,30.804062 L -87.574281,30.803605 L -87.574102,30.80327 L -87.573499,30.802876 L -87.573121,30.802715 L -87.572708,30.802615 L -87.572484,30.802535 L -87.57233,30.802393 L -87.57227,30.802119 L -87.572374,30.801905 L -87.572596,30.801548 L -87.572607,30.801395 L -87.572335,30.801142 L -87.572075,30.801082 L -87.571909,30.80093 L -87.571884,30.800605 L -87.571882,30.800371 L -87.571752,30.800199 L -87.571469,30.800139 L -87.571174,30.80013 L -87.570881,30.800294 L -87.570588,30.80057 L -87.570435,30.800581 L -87.570351,30.800439 L -87.57022,30.800145 L -87.570066,30.800034 L -87.569889,30.800024 L -87.569702,30.800228 L -87.569539,30.800493 L -87.569374,30.800474 L -87.569149,30.800332 L -87.568795,30.800181 L -87.568488,30.800162 L -87.568252,30.800113 L -87.568062,30.799819 L -87.567872,30.799596 L -87.567871,30.799341 L -87.568011,30.799168 L -87.567928,30.798975 L -87.568045,30.798822 L -87.568174,30.79875 L -87.56809,30.798588 L -87.567794,30.798345 L -87.567628,30.798051 L -87.567368,30.798022 L -87.567051,30.798084 L -87.566839,30.798055 L -87.56666,30.797801 L -87.566304,30.797314 L -87.565807,30.796991 L -87.56563,30.796901 L -87.565524,30.796809 L -87.565417,30.796759 L -87.565194,30.796821 L -87.564994,30.796802 L -87.564602,30.796444 L -87.563875,30.796267 L -87.563695,30.796138 L -87.563673,30.795803 L -87.563473,30.795598 L -87.563014,30.795402 L -87.562962,30.795128 L -87.562722,30.794948 L -87.562552,30.794863 L -87.562631,30.794622 L -87.562619,30.794356 L -87.56224,30.794288 L -87.561981,30.794126 L -87.56177,30.793844 L -87.56135,30.793553 L -87.56116,30.793348 L -87.561084,30.793251 L -87.560959,30.793091 L -87.560939,30.792971 L -87.560937,30.792696 L -87.561154,30.792377 L -87.560875,30.792301 L -87.560457,30.792268 L -87.560187,30.792157 L -87.559998,30.792055 L -87.559877,30.791858 L -87.55972,30.791429 L -87.559271,30.791268 L -87.558932,30.791166 L -87.558901,30.790968 L -87.559208,30.790632 L -87.559057,30.790375 L -87.558649,30.790437 L -87.5583,30.790326 L -87.557951,30.79019 L -87.557533,30.790252 L -87.557165,30.790263 L -87.557045,30.790143 L -87.557271,30.789686 L -87.557312,30.789581 L -87.557438,30.789256 L -87.557298,30.789128 L -87.55693,30.789112 L -87.55673,30.789044 L -87.556579,30.788675 L -87.556358,30.788427 L -87.556058,30.788239 L -87.55572,30.788223 L -87.555311,30.788088 L -87.554852,30.787858 L -87.554612,30.787618 L -87.55459,30.787343 L -87.554479,30.78712 L -87.554165,30.786958 L -87.553866,30.786994 L -87.553548,30.787064 L -87.553328,30.787103 L -87.55325,30.787117 L -87.55298,30.786937 L -87.55259,30.786647 L -87.55226,30.78639 L -87.55203,30.786194 L -87.551471,30.78593 L -87.551311,30.78569 L -87.551398,30.785311 L -87.551605,30.784992 L -87.551474,30.784744 L -87.551055,30.784565 L -87.550736,30.784369 L -87.550843,30.78399 L -87.551143,30.783439 L -87.551221,30.783086 L -87.55118,30.782803 L -87.551162,30.78278 L -87.550859,30.7824 L -87.550568,30.781972 L -87.550416,30.781517 L -87.550285,30.781251 L -87.549761,30.781013 L -87.549512,30.780988 L -87.548966,30.7813 L -87.548718,30.781395 L -87.548469,30.781319 L -87.548077,30.780685 L -87.547897,30.780599 L -87.547759,30.780772 L -87.547541,30.780979 L -87.547212,30.780852 L -87.54712,30.780474 L -87.547009,30.780096 L -87.546649,30.779797 L -87.54625,30.77967 L -87.545781,30.779551 L -87.545432,30.779389 L -87.545081,30.778953 L -87.544789,30.778395 L -87.544771,30.777871 L -87.54485,30.777639 L -87.545197,30.777483 L -87.545644,30.777352 L -87.545952,30.777239 L -87.545971,30.777093 L -87.545033,30.776675 L -87.544972,30.776435 L -87.544961,30.776143 L -87.545177,30.775652 L -87.545254,30.775222 L -87.545222,30.77487 L -87.545489,30.773648 L -87.545951,30.772589 L -87.546068,30.772211 L -87.546047,30.772056 L -87.545847,30.771756 L -87.545647,30.771688 L -87.545204,30.771682 L -87.544717,30.771744 L -87.544368,30.771616 L -87.544296,30.771307 L -87.544199,30.770641 L -87.544183,30.770526 L -87.543881,30.770003 L -87.54351,30.769566 L -87.54312,30.769181 L -87.542839,30.768838 L -87.542162,30.76787 L -87.541963,30.767615 L -87.541801,30.767407 L -87.541221,30.766825 L -87.5406,30.76608 L -87.540348,30.76566 L -87.540338,30.765488 L -87.540281,30.765093 L -87.539909,30.764562 L -87.539499,30.764117 L -87.539059,30.763801 L -87.53875,30.763647 L -87.538371,30.763546 L -87.537893,30.763384 L -87.537094,30.762967 L -87.536884,30.762718 L -87.536855,30.762082 L -87.536834,30.761807 L -87.536634,30.761662 L -87.536285,30.761578 L -87.536069,30.7613 L -87.535985,30.761192 L -87.535982,30.760668 L -87.53594,30.760247 L -87.535649,30.759861 L -87.535705,30.759234 L -87.535589,30.758856 L -87.535478,30.758625 L -87.535308,30.758436 L -87.535281,30.758342 L -87.535247,30.758222 L -87.535285,30.758041 L -87.535453,30.757774 L -87.535402,30.757448 L -87.53519,30.757019 L -87.535206,30.756305 L -87.535224,30.755927 L -87.535236,30.755446 L -87.535175,30.755137 L -87.534985,30.754983 L -87.534706,30.754881 L -87.534525,30.754486 L -87.534302,30.753868 L -87.5343,30.753533 L -87.534438,30.753215 L -87.534426,30.752888 L -87.534465,30.752673 L -87.534787,30.752431 L -87.535085,30.752378 L -87.535294,30.75236 L -87.535302,30.752094 L -87.53522,30.75163 L -87.535168,30.751132 L -87.535224,30.750539 L -87.53534,30.749999 L -87.535249,30.749778 L -87.535114,30.749448 L -87.534473,30.748965 L -87.533925,30.748666 L -87.533855,30.748626 L -87.533559,30.748457 L -87.53348,30.747998 L -87.53334,30.747434 L -87.533003,30.746924 L -87.53253,30.746467 L -87.531982,30.746233 L -87.531662,30.746063 L -87.531629,30.745657 L -87.532386,30.745207 L -87.532642,30.744813 L -87.532517,30.744157 L -87.532514,30.743658 L -87.532588,30.743278 L -87.532557,30.743199 L -87.532162,30.743096 L -87.531601,30.743321 L -87.531069,30.743271 L -87.531037,30.743252 L -87.530688,30.743049 L -87.530307,30.742933 L -87.529866,30.74279 L -87.529749,30.742701 L -87.529591,30.742581 L -87.529582,30.742418 L -87.529575,30.742293 L -87.529982,30.741766 L -87.530163,30.741476 L -87.530237,30.741266 L -87.529977,30.740952 L -87.529248,30.740916 L -87.528626,30.741063 L -87.528077,30.740632 L -87.527422,30.740477 L -87.526511,30.740533 L -87.526146,30.740456 L -87.525871,30.740221 L -87.525534,30.739671 L -87.525441,30.739212 L -87.525227,30.739056 L -87.524634,30.738887 L -87.524131,30.738719 L -87.523597,30.738288 L -87.523185,30.737844 L -87.52291,30.737687 L -87.522363,30.737624 L -87.521593,30.73758 L -87.520859,30.737538 L -87.520296,30.737396 L -87.519914,30.737109 L -87.519777,30.736921 L -87.519379,30.736376 L -87.519074,30.736272 L -87.518603,30.736235 L -87.518314,30.736106 L -87.518253,30.736079 L -87.51816,30.735764 L -87.517882,30.734965 L -87.517393,30.734324 L -87.516784,30.734169 L -87.516253,30.73421 L -87.515874,30.734382 L -87.515403,30.73441 L -87.515137,30.734306 L -87.515042,30.73369 L -87.514935,30.733276 L -87.514903,30.733152 L -87.514634,30.733042 L -87.514553,30.733009 L -87.514098,30.733221 L -87.513612,30.733262 L -87.513125,30.733146 L -87.512549,30.733267 L -87.512141,30.733701 L -87.511928,30.733768 L -87.511744,30.73344 L -87.511622,30.733178 L -87.511286,30.732996 L -87.510633,30.732907 L -87.51051,30.732789 L -87.510492,30.732608 L -87.51049,30.73259 L -87.510478,30.732461 L -87.510613,30.732067 L -87.510596,30.731713 L -87.51023,30.731504 L -87.509896,30.7314 L -87.509576,30.731205 L -87.509451,30.730694 L -87.509297,30.730156 L -87.508959,30.729593 L -87.508874,30.729279 L -87.509022,30.728464 L -87.508792,30.728085 L -87.508214,30.727982 L -87.507682,30.7278 L -87.507361,30.727565 L -87.507116,30.727094 L -87.506674,30.726794 L -87.506035,30.726665 L -87.505442,30.72651 L -87.505137,30.726288 L -87.505044,30.726 L -87.505164,30.72571 L -87.505679,30.725472 L -87.506028,30.7253 L -87.505951,30.725064 L -87.505707,30.724921 L -87.505083,30.724635 L -87.504314,30.724428 L -87.503736,30.724207 L -87.503278,30.723854 L -87.503093,30.723304 L -87.503059,30.72253 L -87.502966,30.722123 L -87.502431,30.721522 L -87.502339,30.721475 L -87.501944,30.721274 L -87.501502,30.721092 L -87.501183,30.721093 L -87.50088,30.721134 L -87.500576,30.721148 L -87.499998,30.72089 L -87.499421,30.720726 L -87.499039,30.720712 L -87.498704,30.720818 L -87.4985,30.720987 L -87.498286,30.721061 L -87.498183,30.720997 L -87.498133,30.720878 L -87.498051,30.720683 L -87.498105,30.720345 L -87.498029,30.720031 L -87.49786,30.719879 L -87.497599,30.719855 L -87.49734,30.720114 L -87.49707,30.72026 L -87.496828,30.720269 L -87.496482,30.720174 L -87.496258,30.720118 L -87.495754,30.719975 L -87.495307,30.719892 L -87.495204,30.719873 L -87.494821,30.719665 L -87.494671,30.719657 L -87.494476,30.719747 L -87.494011,30.72003 L -87.493564,30.719951 L -87.493255,30.719719 L -87.492966,30.719712 L -87.492781,30.719914 L -87.49268,30.720341 L -87.49241,30.720455 L -87.492093,30.720392 L -87.491847,30.719724 L -87.491612,30.719178 L -87.491434,30.719025 L -87.491191,30.718954 L -87.491102,30.718922 L -87.490898,30.718963 L -87.490711,30.719012 L -87.490534,30.719029 L -87.490254,30.718973 L -87.489788,30.718814 L -87.489423,30.718662 L -87.489056,30.718012 L -87.488775,30.717642 L -87.488612,30.717603 L -87.488579,30.717595 L -87.488402,30.717563 L -87.48829,30.71758 L -87.488104,30.717741 L -87.487827,30.718137 L -87.487623,30.718339 L -87.487315,30.71838 L -87.487054,30.718325 L -87.486578,30.718182 L -87.486292,30.717933 L -87.485984,30.717677 L -87.485759,30.7175 L -87.485469,30.717373 L -87.485152,30.717285 L -87.484909,30.71723 L -87.484601,30.717078 L -87.48446,30.716861 L -87.484578,30.716257 L -87.484623,30.715918 L -87.484454,30.715653 L -87.48423,30.715573 L -87.483959,30.715397 L -87.483623,30.71531 L -87.483372,30.715391 L -87.483205,30.715561 L -87.483021,30.716117 L -87.482578,30.716908 L -87.482234,30.717191 L -87.481899,30.717314 L -87.4817,30.717214 L -87.481619,30.717173 L -87.481278,30.717002 L -87.481266,30.716527 L -87.480975,30.716125 L -87.480535,30.715756 L -87.479925,30.714929 L -87.479513,30.714512 L -87.479064,30.714208 L -87.478293,30.713711 L -87.477992,30.713277 L -87.478111,30.712786 L -87.478334,30.712624 L -87.478866,30.71267 L -87.479378,30.712692 L -87.479732,30.712643 L -87.480034,30.712284 L -87.480066,30.712247 L -87.480269,30.711787 L -87.480182,30.71128 L -87.47983,30.710734 L -87.479491,30.710002 L -87.479312,30.7096 L -87.479069,30.709529 L -87.478743,30.709498 L -87.478389,30.709547 L -87.478036,30.709742 L -87.477803,30.70988 L -87.477449,30.709913 L -87.477151,30.709914 L -87.476507,30.709683 L -87.47547,30.70926 L -87.475171,30.70906 L -87.47509,30.708601 L -87.47548,30.708326 L -87.475618,30.7081 L -87.475271,30.707682 L -87.474653,30.707048 L -87.474493,30.706654 L -87.47464,30.7063 L -87.475375,30.706047 L -87.475868,30.70582 L -87.475979,30.705707 L -87.47602,30.705465 L -87.475805,30.705248 L -87.475264,30.705218 L -87.474667,30.705108 L -87.47434,30.704956 L -87.474209,30.704843 L -87.473948,30.704804 L -87.473631,30.704813 L -87.473145,30.704437 L -87.472771,30.704357 L -87.472567,30.704535 L -87.472794,30.705163 L -87.472804,30.705412 L -87.472628,30.705638 L -87.472228,30.705664 L -87.471761,30.70544 L -87.4712,30.705112 L -87.470944,30.705113 L -87.470478,30.705179 L -87.470105,30.705124 L -87.469806,30.705021 L -87.469637,30.704804 L -87.469524,30.704385 L -87.469521,30.70387 L -87.469612,30.703354 L -87.469611,30.703209 L -87.469461,30.702968 L -87.469076,30.702741 L -87.468764,30.702624 L -87.468526,30.702569 L -87.46827,30.702499 L -87.468104,30.702184 L -87.467808,30.701521 L -87.467732,30.701086 L -87.467841,30.700896 L -87.46816,30.700697 L -87.468214,30.700389 L -87.468085,30.700208 L -87.46792,30.700153 L -87.467663,30.700043 L -87.467517,30.700075 L -87.467125,30.700361 L -87.466742,30.700655 L -87.466368,30.700704 L -87.465901,30.700666 L -87.465526,30.700573 L -87.465345,30.700516 L -87.465177,30.700463 L -87.464912,30.700401 L -87.46419,30.700585 L -87.463779,30.700595 L -87.463495,30.700556 L -87.463248,30.700494 L -87.462937,30.700402 L -87.46267,30.700314 L -87.46219,30.700189 L -87.462159,30.700151 L -87.461907,30.699842 L -87.461661,30.699767 L -87.46131,30.699768 L -87.461047,30.699663 L -87.460817,30.69933 L -87.460446,30.69877 L -87.459987,30.698271 L -87.459671,30.698166 L -87.459214,30.698168 L -87.458916,30.698078 L -87.458669,30.697866 L -87.458653,30.697723 L -87.458614,30.697366 L -87.458471,30.696821 L -87.458294,30.696564 L -87.458013,30.696398 L -87.457505,30.696748 L -87.457261,30.697022 L -87.456929,30.697221 L -87.456614,30.697586 L -87.456264,30.697754 L -87.455773,30.697771 L -87.455177,30.697848 L -87.454739,30.698047 L -87.454144,30.698428 L -87.454008,30.698561 L -87.453882,30.698687 L -87.453619,30.698718 L -87.45325,30.698689 L -87.452933,30.698372 L -87.452616,30.698191 L -87.45216,30.698193 L -87.45188,30.698451 L -87.451604,30.699393 L -87.451306,30.699591 L -87.45113,30.6995 L -87.450901,30.699122 L -87.450636,30.698895 L -87.45025,30.698851 L -87.449847,30.698974 L -87.449566,30.69896 L -87.449214,30.698673 L -87.449124,30.698324 L -87.448913,30.698173 L -87.448719,30.697916 L -87.4487,30.697553 L -87.448803,30.697158 L -87.448661,30.696688 L -87.448485,30.696592 L -87.448441,30.696568 L -87.447878,30.696418 L -87.44749,30.695934 L -87.447155,30.695632 L -87.446453,30.695634 L -87.446243,30.69562 L -87.446031,30.695423 L -87.445732,30.695182 L -87.445363,30.695138 L -87.445012,30.695124 L -87.444362,30.694914 L -87.443676,30.694537 L -87.44334,30.693916 L -87.443109,30.693447 L -87.442845,30.693205 L -87.44277,30.692986 L -87.442685,30.692736 L -87.44228,30.692373 L -87.441803,30.691844 L -87.44131,30.691375 L -87.44071,30.690695 L -87.440614,30.6906 L -87.440375,30.690362 L -87.440343,30.690353 L -87.440024,30.690258 L -87.43904,30.690079 L -87.4387,30.689973 L -87.438649,30.689957 L -87.43832,30.689854 L -87.437722,30.689628 L -87.43737,30.689387 L -87.436965,30.688933 L -87.436556,30.688904 L -87.436421,30.68879 L -87.436401,30.68842 L -87.436309,30.688404 L -87.436211,30.688386 L -87.435734,30.688301 L -87.43468,30.688198 L -87.434101,30.6882 L -87.433611,30.688353 L -87.432961,30.68837 L -87.432504,30.688114 L -87.432064,30.687721 L -87.431695,30.687647 L -87.431134,30.68777 L -87.430469,30.688257 L -87.430136,30.688259 L -87.429819,30.687987 L -87.430113,30.687091 L -87.429935,30.68653 L -87.429443,30.68638 L -87.428689,30.686383 L -87.428302,30.686323 L -87.427792,30.685885 L -87.427736,30.685158 L -87.427786,30.684505 L -87.427486,30.684249 L -87.427125,30.683992 L -87.426612,30.683053 L -87.426296,30.682857 L -87.426085,30.682843 L -87.42542,30.68327 L -87.424982,30.683362 L -87.424613,30.683272 L -87.424331,30.683061 L -87.423452,30.682669 L -87.422697,30.682384 L -87.422398,30.682203 L -87.422168,30.681931 L -87.422097,30.681703 L -87.422128,30.681334 L -87.421996,30.681017 L -87.421716,30.680913 L -87.421523,30.680853 L -87.421313,30.680816 L -87.420964,30.68087 L -87.420493,30.680977 L -87.42023,30.680932 L -87.419905,30.68039 L -87.419492,30.679893 L -87.419247,30.679697 L -87.419167,30.679426 L -87.419077,30.67889 L -87.419085,30.678648 L -87.419058,30.67855 L -87.419041,30.678528 L -87.418629,30.678363 L -87.418306,30.678251 L -87.417921,30.678146 L -87.417685,30.6782 L -87.417451,30.678472 L -87.41726,30.67879 L -87.417165,30.679032 L -87.417052,30.679244 L -87.416904,30.679312 L -87.41672,30.679298 L -87.416124,30.678726 L -87.415179,30.678374 L -87.414553,30.678217 L -87.413985,30.67806 L -87.413731,30.678008 L -87.413434,30.677964 L -87.412936,30.67792 L -87.412534,30.677861 L -87.412201,30.677734 L -87.41172,30.677569 L -87.410928,30.677157 L -87.410306,30.676942 L -87.409689,30.676645 L -87.409174,30.676325 L -87.408801,30.676004 L -87.408312,30.675684 L -87.407772,30.675475 L -87.407233,30.675388 L -87.406757,30.675289 L -87.406474,30.675146 L -87.406332,30.67488 L -87.406356,30.674437 L -87.4067,30.67377 L -87.407081,30.672915 L -87.407386,30.672259 L -87.407384,30.671816 L -87.407152,30.671572 L -87.406459,30.671375 L -87.406137,30.671198 L -87.405879,30.670911 L -87.405839,30.670423 L -87.405837,30.670112 L -87.405951,30.669668 L -87.406017,30.669235 L -87.405545,30.668638 L -87.405394,30.667998 L -87.405514,30.667123 L -87.405799,30.66672 L -87.405833,30.666673 L -87.405758,30.666439 L -87.405387,30.666354 L -87.40535,30.666343 L -87.405203,30.666298 L -87.404695,30.666143 L -87.404201,30.666144 L -87.403533,30.665912 L -87.403087,30.665529 L -87.402689,30.664847 L -87.402637,30.664356 L -87.403104,30.663756 L -87.403347,30.662837 L -87.403048,30.662112 L -87.402577,30.661751 L -87.402328,30.66141 L -87.402202,30.660599 L -87.402397,30.660107 L -87.402914,30.659572 L -87.402935,30.658782 L -87.403327,30.658033 L -87.403103,30.657479 L -87.402656,30.657032 L -87.402137,30.656884 L -87.401717,30.656778 L -87.401072,30.656225 L -87.400628,30.656376 L -87.400508,30.65706 L -87.400212,30.657253 L -87.399865,30.657062 L -87.399863,30.656442 L -87.399836,30.655973 L -87.399663,30.655824 L -87.399071,30.656167 L -87.398776,30.656318 L -87.398604,30.656279 L -87.398405,30.656233 L -87.398389,30.656217 L -87.397785,30.655638 L -87.396818,30.65485 L -87.396595,30.654467 L -87.396505,30.653784 L -87.3966,30.652652 L -87.396598,30.652289 L -87.396274,30.651649 L -87.395975,30.65086 L -87.39592,30.650541 L -87.395908,30.650159 L -87.396426,30.649471 L -87.396598,30.64915 L -87.396867,30.648701 L -87.396989,30.648273 L -87.396864,30.647932 L -87.396195,30.647294 L -87.395579,30.646794 L -87.395303,30.64657 L -87.394336,30.645612 L -87.394334,30.645271 L -87.394779,30.645227 L -87.394952,30.645248 L -87.39542,30.644969 L -87.395739,30.644562 L -87.395687,30.643964 L -87.39529,30.643432 L -87.395016,30.64277 L -87.394594,30.642345 L -87.394248,30.642175 L -87.394024,30.641855 L -87.394022,30.641364 L -87.394339,30.640402 L -87.394386,30.639826 L -87.394237,30.639463 L -87.394235,30.6391 L -87.394269,30.638289 L -87.394365,30.637541 L -87.394585,30.637007 L -87.394905,30.636707 L -87.395212,30.636069 L -87.395149,30.635418 L -87.394691,30.634751 L -87.394293,30.63429 L -87.394113,30.633794 L -87.394072,30.633502 L -87.394448,30.633399 L -87.395398,30.633293 L -87.395655,30.632984 L -87.395554,30.632659 L -87.395177,30.63242 L -87.394879,30.632215 L -87.39464,30.631993 L -87.394481,30.631788 L -87.394243,30.631703 L -87.393985,30.631687 L -87.393688,30.631688 L -87.39341,30.631534 L -87.393456,30.631193 L -87.393487,30.630969 L -87.3934,30.630386 L -87.393386,30.630289 L -87.3935,30.629914 L -87.393679,30.629341 L -87.393698,30.629135 L -87.393538,30.628861 L -87.393417,30.628228 L -87.393415,30.627731 L -87.393294,30.627218 L -87.393591,30.626868 L -87.393622,30.626649 L -87.393734,30.626118 L -87.393846,30.625724 L -87.394354,30.624998 L -87.394393,30.624562 L -87.394575,30.624255 L -87.394855,30.624191 L -87.395319,30.624253 L -87.395796,30.624304 L -87.396027,30.624135 L -87.396014,30.623903 L -87.395854,30.623745 L -87.395647,30.623671 L -87.395268,30.623578 L -87.395121,30.623462 L -87.395108,30.623314 L -87.395168,30.623092 L -87.395277,30.622765 L -87.395215,30.62248 L -87.395055,30.622216 L -87.395066,30.621899 L -87.395295,30.621381 L -87.395318,30.621001 L -87.39528,30.620463 L -87.39545,30.620304 L -87.395815,30.620166 L -87.395986,30.620091 L -87.395924,30.619849 L -87.395875,30.619701 L -87.395799,30.619078 L -87.395845,30.618497 L -87.396148,30.61781 L -87.396463,30.617334 L -87.396475,30.617102 L -87.396387,30.616616 L -87.396044,30.61629 L -87.395665,30.616239 L -87.395287,30.616271 L -87.394957,30.616241 L -87.394854,30.616083 L -87.394776,30.615964 L -87.394736,30.615903 L -87.394672,30.615239 L -87.394913,30.614266 L -87.395135,30.613516 L -87.39562,30.612723 L -87.396238,30.611538 L -87.396468,30.61102 L -87.396586,30.61007 L -87.396584,30.609479 L -87.396655,30.608876 L -87.397106,30.608394 L -87.397189,30.608305 L -87.397953,30.607025 L -87.398409,30.606538 L -87.398505,30.606094 L -87.398528,30.605819 L -87.398649,30.605524 L -87.39877,30.605396 L -87.398941,30.605417 L -87.399615,30.605911 L -87.40025,30.606163 L -87.400921,30.605981 L -87.401542,30.605567 L -87.402067,30.605587 L -87.402317,30.605565 L -87.402811,30.605521 L -87.403224,30.605382 L -87.403286,30.605361 L -87.403361,30.605263 L -87.403484,30.605103 L -87.403529,30.605044 L -87.403564,30.604548 L -87.403341,30.60382 L -87.403413,30.603534 L -87.403501,30.603417 L -87.40391,30.603102 L -87.403993,30.603038 L -87.404082,30.603035 L -87.404885,30.603005 L -87.404902,30.603004 L -87.405198,30.603072 L -87.405669,30.603396 L -87.405691,30.603411 L -87.406086,30.603258 L -87.406106,30.602512 L -87.406004,30.602328 L -87.405923,30.602181 L -87.405691,30.601765 L -87.405711,30.601476 L -87.405849,30.601374 L -87.406441,30.601748 L -87.406525,30.601743 L -87.406718,30.601731 L -87.406851,30.601668 L -87.407152,30.601527 L -87.407587,30.600865 L -87.407586,30.600845 L -87.407567,30.600271 L -87.407495,30.600175 L -87.40735,30.599982 L -87.407322,30.599975 L -87.406915,30.599864 L -87.406367,30.599986 L -87.405849,30.600101 L -87.405823,30.600047 L -87.405487,30.599357 L -87.40548,30.599342 L -87.405475,30.599332 L -87.405395,30.599168 L -87.405314,30.598777 L -87.405296,30.598692 L -87.405417,30.598623 L -87.405519,30.598565 L -87.405533,30.598557 L -87.405673,30.598551 L -87.405928,30.59854 L -87.40595,30.598526 L -87.406205,30.59837 L -87.406196,30.598136 L -87.406194,30.598084 L -87.406005,30.597989 L -87.405985,30.597979 L -87.405691,30.59783 L -87.405457,30.597547 L -87.405453,30.597521 L -87.405446,30.597416 L -87.405521,30.597363 L -87.407127,30.596238 L -87.407305,30.595984 L -87.407314,30.595905 L -87.407341,30.595643 L -87.407296,30.595552 L -87.407006,30.594964 L -87.407003,30.594758 L -87.406993,30.594072 L -87.406841,30.593419 L -87.406831,30.593374 L -87.407081,30.592386 L -87.407148,30.592299 L -87.407692,30.59159 L -87.407713,30.591524 L -87.407767,30.591351 L -87.407854,30.591075 L -87.407852,30.591023 L -87.407852,30.591012 L -87.407852,30.590978 L -87.407852,30.590967 L -87.40782,30.590265 L -87.407782,30.590107 L -87.407614,30.589411 L -87.407717,30.589275 L -87.408139,30.58872 L -87.408176,30.58867 L -87.408153,30.588619 L -87.408023,30.588336 L -87.408017,30.588323 L -87.4075,30.58815 L -87.407429,30.588126 L -87.407418,30.588122 L -87.407403,30.588089 L -87.407315,30.587896 L -87.407474,30.58759 L -87.407664,30.587475 L -87.407681,30.587465 L -87.407691,30.587459 L -87.408111,30.587203 L -87.408793,30.586325 L -87.408977,30.586202 L -87.409172,30.586071 L -87.409355,30.585853 L -87.409228,30.585455 L -87.409216,30.585447 L -87.409207,30.585441 L -87.40875,30.58514 L -87.408745,30.585132 L -87.40829,30.584376 L -87.408034,30.583947 L -87.408018,30.583701 L -87.408317,30.583545 L -87.4089,30.58331 L -87.409138,30.583044 L -87.409168,30.583011 L -87.409195,30.582324 L -87.409299,30.581987 L -87.409761,30.581571 L -87.410162,30.580961 L -87.410506,30.58074 L -87.410805,30.580622 L -87.410983,30.580363 L -87.410996,30.579845 L -87.410755,30.579496 L -87.410426,30.579587 L -87.410263,30.579834 L -87.410038,30.579886 L -87.409798,30.579732 L -87.409812,30.579395 L -87.41005,30.579044 L -87.410274,30.57894 L -87.410438,30.578797 L -87.410522,30.57851 L -87.410571,30.578343 L -87.410824,30.578148 L -87.411079,30.578057 L -87.411483,30.578055 L -87.411767,30.578003 L -87.411796,30.577795 L -87.41154,30.577395 L -87.411509,30.577123 L -87.411567,30.576747 L -87.4117,30.576345 L -87.411835,30.576319 L -87.412015,30.576396 L -87.41209,30.576538 L -87.412137,30.576913 L -87.412227,30.577069 L -87.412287,30.577133 L -87.412452,30.57712 L -87.41263,30.576705 L -87.412524,30.576485 L -87.412268,30.576149 L -87.412022,30.575864 L -87.411877,30.575697 L -87.411846,30.575709 L -87.411831,30.575575 L -87.411749,30.575359 L -87.411822,30.574879 L -87.411933,30.574246 L -87.411947,30.574169 L -87.412165,30.573765 L -87.412191,30.573716 L -87.412357,30.573581 L -87.412373,30.573566 L -87.412388,30.573565 L -87.412404,30.573552 L -87.412435,30.573528 L -87.412476,30.573497 L -87.412509,30.573472 L -87.412552,30.573438 L -87.412608,30.573406 L -87.412636,30.57339 L -87.412797,30.573299 L -87.413105,30.573012 L -87.413392,30.572946 L -87.413691,30.573038 L -87.41381,30.573444 L -87.413928,30.573563 L -87.414142,30.573618 L -87.414279,30.573313 L -87.414405,30.572777 L -87.414532,30.572509 L -87.414927,30.572619 L -87.415216,30.572756 L -87.415716,30.572671 L -87.416099,30.572375 L -87.416364,30.57195 L -87.416298,30.571553 L -87.416201,30.571147 L -87.416288,30.570974 L -87.416402,30.57075 L -87.416508,30.570611 L -87.416646,30.570638 L -87.416871,30.570757 L -87.417137,30.570692 L -87.417179,30.570378 L -87.417049,30.570111 L -87.417155,30.569898 L -87.417591,30.569839 L -87.417709,30.569823 L -87.417998,30.570034 L -87.41818,30.570181 L -87.418383,30.570273 L -87.418521,30.570134 L -87.418392,30.569756 L -87.418182,30.569415 L -87.417786,30.569066 L -87.417572,30.568928 L -87.417475,30.568707 L -87.417474,30.568476 L -87.417462,30.568153 L -87.417323,30.568006 L -87.417003,30.567988 L -87.416715,30.568045 L -87.416597,30.567906 L -87.416628,30.567565 L -87.416665,30.567441 L -87.416754,30.567149 L -87.416721,30.566808 L -87.41656,30.566559 L -87.416148,30.566293 L -87.416137,30.566145 L -87.416403,30.566034 L -87.416828,30.565838 L -87.417104,30.565533 L -87.417295,30.565246 L -87.417295,30.565117 L -87.417378,30.564674 L -87.417591,30.564489 L -87.41774,30.564617 L -87.417837,30.564848 L -87.417966,30.56505 L -87.418308,30.565105 L -87.418467,30.564809 L -87.41822,30.564422 L -87.417983,30.56398 L -87.418046,30.563693 L -87.4183,30.563268 L -87.418326,30.563028 L -87.418186,30.562715 L -87.417928,30.562402 L -87.417917,30.562254 L -87.418012,30.562106 L -87.418268,30.562105 L -87.418545,30.561994 L -87.41898,30.561475 L -87.419214,30.561327 L -87.419598,30.561307 L -87.419938,30.561057 L -87.420501,30.560621 L -87.420713,30.560545 L -87.420926,30.560527 L -87.421072,30.560549 L -87.421165,30.560647 L -87.421252,30.56079 L -87.421352,30.560905 L -87.421439,30.560979 L -87.421539,30.561024 L -87.421598,30.56103 L -87.421698,30.56099 L -87.421769,30.560668 L -87.421788,30.560334 L -87.421913,30.560127 L -87.422086,30.560115 L -87.422206,30.560195 L -87.422187,30.560488 L -87.422195,30.560764 L -87.422355,30.56097 L -87.422575,30.56113 L -87.422755,30.561279 L -87.422895,30.561428 L -87.423008,30.561491 L -87.423127,30.561485 L -87.423239,30.561278 L -87.423244,30.560875 L -87.42337,30.560835 L -87.423536,30.560909 L -87.423663,30.561006 L -87.423975,30.560959 L -87.424053,30.560775 L -87.423886,30.560488 L -87.423918,30.560276 L -87.424076,30.559879 L -87.424195,30.559712 L -87.424341,30.559631 L -87.424586,30.559676 L -87.424719,30.559733 L -87.424773,30.559854 L -87.42476,30.559974 L -87.425107,30.560358 L -87.425359,30.560311 L -87.425662,30.559782 L -87.425773,30.559276 L -87.426071,30.559108 L -87.426316,30.558964 L -87.426448,30.558774 L -87.426405,30.558293 L -87.426357,30.557872 L -87.426396,30.557493 L -87.425937,30.557426 L -87.425658,30.557289 L -87.425636,30.55691 L -87.426053,30.556477 L -87.42629,30.556149 L -87.426489,30.556148 L -87.426549,30.556217 L -87.42671,30.556613 L -87.426791,30.556785 L -87.42689,30.556785 L -87.42701,30.55675 L -87.427244,30.555732 L -87.427203,30.555474 L -87.427024,30.555354 L -87.427002,30.555044 L -87.42716,30.554785 L -87.427298,30.554285 L -87.427554,30.553681 L -87.428129,30.553093 L -87.428545,30.552626 L -87.428883,30.552453 L -87.429437,30.551744 L -87.43039,30.55119 L -87.430708,30.550947 L -87.430825,30.550499 L -87.430924,30.550274 L -87.431182,30.550015 L -87.431858,30.549772 L -87.433051,30.549578 L -87.434883,30.549434 L -87.43512,30.549089 L -87.435039,30.54871 L -87.434897,30.548107 L -87.434906,30.547866 L -87.435203,30.547641 L -87.435361,30.547382 L -87.43538,30.547054 L -87.435079,30.546555 L -87.435078,30.5464 L -87.435178,30.546348 L -87.435241,30.546321 L -87.435266,30.54631 L -87.435337,30.546279 L -87.435735,30.546295 L -87.435992,30.545932 L -87.436209,30.545518 L -87.436148,30.545156 L -87.436147,30.544949 L -87.436246,30.544932 L -87.436465,30.544914 L -87.436663,30.54462 L -87.436642,30.544224 L -87.43672,30.543913 L -87.436739,30.543689 L -87.436619,30.543689 L -87.436342,30.544087 L -87.435904,30.544037 L -87.435506,30.543986 L -87.435346,30.543883 L -87.435305,30.543728 L -87.435305,30.543677 L -87.435345,30.54359 L -87.435403,30.54328 L -87.435321,30.542867 L -87.43544,30.542711 L -87.435679,30.542659 L -87.435978,30.542864 L -87.436218,30.54295 L -87.436417,30.543001 L -87.436755,30.54281 L -87.436793,30.542517 L -87.43719,30.542188 L -87.437428,30.541998 L -87.437387,30.541757 L -87.43673,30.54169 L -87.436491,30.541639 L -87.436391,30.541536 L -87.43637,30.541329 L -87.436667,30.541087 L -87.436785,30.540725 L -87.436823,30.540242 L -87.436982,30.540155 L -87.43728,30.540137 L -87.437659,30.540136 L -87.437917,30.540066 L -87.438156,30.5401 L -87.438276,30.540289 L -87.438336,30.54034 L -87.438555,30.540253 L -87.438872,30.539873 L -87.439248,30.539389 L -87.439467,30.539371 L -87.439646,30.539423 L -87.439667,30.53956 L -87.439608,30.539853 L -87.43955,30.540078 L -87.43957,30.540233 L -87.43975,30.540301 L -87.440027,30.53999 L -87.440403,30.539386 L -87.4406,30.538954 L -87.440539,30.538678 L -87.44024,30.538524 L -87.439921,30.538439 L -87.43986,30.538284 L -87.439859,30.538112 L -87.440177,30.537956 L -87.440615,30.537782 L -87.441012,30.53766 L -87.44137,30.53759 L -87.441569,30.537451 L -87.441567,30.537089 L -87.441148,30.536798 L -87.440848,30.536644 L -87.440791,30.536484 L -87.440768,30.53642 L -87.440746,30.536041 L -87.440702,30.535007 L -87.440378,30.533888 L -87.440373,30.533855 L -87.440255,30.533061 L -87.440233,30.532562 L -87.440331,30.53232 L -87.440598,30.53194 L -87.440577,30.531595 L -87.440277,30.531338 L -87.439858,30.531219 L -87.43946,30.531151 L -87.43914,30.530842 L -87.438919,30.530463 L -87.438899,30.530395 L -87.438958,30.530291 L -87.439495,30.530168 L -87.440469,30.529821 L -87.441185,30.529749 L -87.441703,30.529747 L -87.441942,30.529867 L -87.442043,30.530143 L -87.441986,30.530608 L -87.441968,30.531056 L -87.442547,30.531451 L -87.443165,30.53169 L -87.443901,30.531481 L -87.444197,30.530928 L -87.444194,30.530273 L -87.443815,30.530068 L -87.443317,30.530052 L -87.442899,30.530088 L -87.44264,30.529968 L -87.442619,30.529762 L -87.443074,30.529088 L -87.44337,30.528673 L -87.443647,30.528138 L -87.444143,30.527843 L -87.444402,30.527843 L -87.444443,30.528222 L -87.444545,30.528738 L -87.444725,30.528893 L -87.445103,30.528909 L -87.445678,30.528286 L -87.445913,30.527372 L -87.44625,30.527199 L -87.446649,30.527214 L -87.446828,30.527283 L -87.447187,30.52735 L -87.447465,30.52735 L -87.447723,30.52709 L -87.44798,30.526607 L -87.448205,30.525514 L -87.448183,30.525296 L -87.448152,30.525158 L -87.448135,30.525081 L -87.447971,30.524945 L -87.447655,30.524897 L -87.447238,30.524942 L -87.447035,30.525006 L -87.446923,30.525187 L -87.447111,30.525563 L -87.447265,30.525929 L -87.447266,30.526173 L -87.447165,30.526354 L -87.446974,30.526457 L -87.445998,30.526377 L -87.445664,30.526237 L -87.445353,30.525969 L -87.445205,30.525711 L -87.445119,30.525433 L -87.445049,30.525047 L -87.444948,30.524871 L -87.444856,30.524711 L -87.444646,30.524492 L -87.444077,30.524207 L -87.443806,30.523948 L -87.443788,30.523626 L -87.443923,30.523567 L -87.444262,30.523609 L -87.444669,30.523755 L -87.445075,30.523856 L -87.44629,30.523148 L -87.447066,30.522541 L -87.4471,30.522516 L -87.447207,30.522198 L -87.447283,30.521973 L -87.447145,30.521256 L -87.446413,30.520379 L -87.446021,30.519721 L -87.445881,30.518667 L -87.445726,30.518184 L -87.445453,30.517672 L -87.445569,30.517086 L -87.44572,30.516895 L -87.446127,30.516967 L -87.446499,30.516995 L -87.446904,30.516774 L -87.447173,30.516407 L -87.447271,30.515601 L -87.447268,30.515044 L -87.446962,30.514649 L -87.446759,30.514606 L -87.446404,30.514754 L -87.445815,30.515386 L -87.444986,30.515491 L -87.444562,30.515331 L -87.444425,30.514907 L -87.444524,30.514248 L -87.444953,30.513763 L -87.445629,30.513658 L -87.446678,30.513654 L -87.447322,30.513872 L -87.448019,30.514602 L -87.448529,30.515054 L -87.449122,30.515301 L -87.449782,30.515226 L -87.450024,30.514912 L -87.450371,30.514462 L -87.449892,30.51447 L -87.44984,30.514471 L -87.449766,30.514472 L -87.449032,30.51422 L -87.448355,30.51374 L -87.447927,30.513057 L -87.447935,30.512978 L -87.447978,30.512564 L -87.447914,30.511821 L -87.447878,30.511031 L -87.447866,30.510991 L -87.44786,30.51097 L -87.447801,30.51078 L -87.447785,30.510728 L -87.447726,30.510534 L -87.447721,30.510517 L -87.447717,30.510505 L -87.447702,30.510458 L -87.44766,30.510416 L -87.447651,30.510407 L -87.447345,30.510098 L -87.447281,30.510033 L -87.447191,30.509943 L -87.447173,30.509925 L -87.446477,30.509456 L -87.446069,30.508867 L -87.445057,30.508196 L -87.444714,30.507494 L -87.443925,30.507203 L -87.44322,30.506782 L -87.442928,30.506778 L -87.442903,30.506778 L -87.442421,30.506773 L -87.441902,30.506724 L -87.441139,30.506651 L -87.440386,30.506626 L -87.43969,30.506649 L -87.439198,30.506237 L -87.438845,30.505841 L -87.438269,30.505357 L -87.437676,30.50463 L -87.437175,30.503726 L -87.436712,30.502983 L -87.436509,30.502453 L -87.436162,30.502206 L -87.435866,30.502004 L -87.435262,30.501466 L -87.43465,30.500536 L -87.434549,30.500314 L -87.434518,30.500245 L -87.433978,30.499595 L -87.433878,30.499495 L -87.433678,30.499395 L -87.433478,30.499295 L -87.433128,30.499225 L -87.432978,30.499195 L -87.432478,30.499095 L -87.431978,30.498995 L -87.431578,30.498795 L -87.431021,30.498331 L -87.430978,30.498295 L -87.430878,30.498095 L -87.430678,30.497595 L -87.430578,30.497195 L -87.430478,30.496595 L -87.430978,30.496095 L -87.430999,30.496064 L -87.431178,30.495795 L -87.431678,30.494895 L -87.431778,30.494595 L -87.431823,30.494196 L -87.431878,30.493696 L -87.431778,30.493396 L -87.431678,30.492896 L -87.431568,30.492731 L -87.431478,30.492596 L -87.431278,30.492096 L -87.431078,30.491796 L -87.430778,30.491496 L -87.430732,30.491404 L -87.430578,30.491096 L -87.430278,30.490796 L -87.429978,30.490696 L -87.429878,30.490696 L -87.429869,30.490687 L -87.429778,30.490596 L -87.429378,30.490296 L -87.429104,30.490205 L -87.429078,30.490196 L -87.42898,30.490095 L -87.428954,30.490069 L -87.428578,30.489696 L -87.428502,30.489545 L -87.428477,30.489496 L -87.428438,30.489378 L -87.428378,30.489196 L -87.428378,30.489096 L -87.428378,30.489033 L -87.428378,30.488892 L -87.428378,30.488751 L -87.428378,30.488696 L -87.428378,30.488496 L -87.428459,30.488333 L -87.428578,30.488096 L -87.428778,30.487796 L -87.428978,30.487596 L -87.429096,30.487478 L -87.429178,30.487396 L -87.429258,30.487397 L -87.429578,30.487396 L -87.429778,30.487396 L -87.430038,30.487507 L -87.430478,30.487696 L -87.430494,30.4877 L -87.430878,30.487796 L -87.431478,30.488096 L -87.432078,30.488196 L -87.43287,30.488196 L -87.433178,30.488196 L -87.433578,30.487996 L -87.433665,30.487909 L -87.433878,30.487696 L -87.434041,30.487288 L -87.434078,30.487196 L -87.433971,30.486982 L -87.433778,30.486596 L -87.433678,30.486296 L -87.433178,30.485496 L -87.432978,30.484896 L -87.432878,30.484296 L -87.432978,30.484096 L -87.433126,30.48385 L -87.433278,30.483596 L -87.433378,30.483296 L -87.434078,30.482396 L -87.434078,30.482196 L -87.434278,30.481996 L -87.434378,30.481996 L -87.434468,30.481996 L -87.434578,30.481996 L -87.434794,30.481888 L -87.434978,30.481796 L -87.435178,30.481596 L -87.435228,30.481496 L -87.435277,30.481395 L -87.435478,30.481096 L -87.435478,30.480896 L -87.435578,30.480496 L -87.435278,30.479896 L -87.434778,30.479296 L -87.434678,30.479196 L -87.434278,30.478896 L -87.433978,30.478796 L -87.433778,30.478696 L -87.433678,30.478596 L -87.432878,30.478296 L -87.432578,30.478196 L -87.431978,30.477896 L -87.431578,30.477696 L -87.431278,30.477296 L -87.430978,30.477096 L -87.430578,30.476596 L -87.430478,30.476396 L -87.430317,30.475834 L -87.430278,30.475696 L -87.430178,30.475196 L -87.430178,30.474296 L -87.430178,30.474096 L -87.430178,30.473096 L -87.430178,30.472815 L -87.430178,30.472696 L -87.430078,30.471996 L -87.429878,30.471596 L -87.429878,30.471396 L -87.429778,30.471096 L -87.429578,30.470596 L -87.429378,30.470396 L -87.428878,30.469796 L -87.428578,30.469396 L -87.42804,30.468769 L -87.427978,30.468696 L -87.427778,30.468396 L -87.427278,30.467796 L -87.427078,30.467496 L -87.426778,30.467296 L -87.426678,30.467196 L -87.426078,30.466596 L -87.425778,30.466296 L -87.425278,30.465796 L -87.425078,30.465596 L -87.424578,30.465196 L -87.424278,30.464896 L -87.423996,30.464662 L -87.423678,30.464396 L -87.423578,30.464296 L -87.422678,30.463596 L -87.422178,30.463196 L -87.421478,30.462796 L -87.421178,30.462696 L -87.420378,30.462396 L -87.419878,30.462196 L -87.419078,30.461896 L -87.418678,30.461596 L -87.417777,30.461096 L -87.417677,30.460896 L -87.416877,30.459896 L -87.416777,30.459896 L -87.416677,30.459696 L -87.416377,30.459396 L -87.415977,30.458896 L -87.415977,30.458696 L -87.415677,30.458196 L -87.415477,30.458096 L -87.41493,30.457549 L -87.41492,30.457539 L -87.414877,30.457496 L -87.414677,30.457296 L -87.414477,30.457296 L -87.413838,30.457022 L -87.413777,30.456996 L -87.413477,30.456996 L -87.413077,30.456896 L -87.412477,30.456896 L -87.411977,30.456896 L -87.411077,30.456896 L -87.410577,30.456896 L -87.409277,30.456796 L -87.408677,30.456696 L -87.407877,30.456396 L -87.407677,30.456297 L -87.406977,30.455697 L -87.406677,30.455397 L -87.406177,30.454897 L -87.405977,30.454597 L -87.405477,30.453997 L -87.405277,30.453697 L -87.404877,30.453097 L -87.404677,30.452897 L -87.404313,30.452715 L -87.404303,30.45271 L -87.404277,30.452697 L -87.403877,30.452497 L -87.403177,30.452297 L -87.402777,30.452097 L -87.401677,30.451697 L -87.401077,30.451497 L -87.400077,30.451097 L -87.399877,30.450997 L -87.399777,30.450997 L -87.399577,30.450897 L -87.398877,30.450797 L -87.398577,30.450697 L -87.397977,30.450597 L -87.397777,30.450597 L -87.39711,30.450597 L -87.397027,30.450597 L -87.396877,30.450597 L -87.396477,30.450697 L -87.395377,30.450997 L -87.395077,30.451097 L -87.394177,30.451397 L -87.393877,30.451397 L -87.393477,30.451497 L -87.393077,30.451597 L -87.392276,30.451597 L -87.391976,30.451597 L -87.391276,30.451497 L -87.390776,30.451297 L -87.389976,30.451197 L -87.389776,30.451097 L -87.388876,30.450797 L -87.388476,30.450597 L -87.387876,30.450397 L -87.387776,30.450397 L -87.386905,30.450397 L -87.386776,30.450397 L -87.386376,30.450397 L -87.386309,30.450397 L -87.385776,30.450397 L -87.385676,30.450397 L -87.385376,30.450397 L -87.385176,30.450397 L -87.384576,30.450297 L -87.384376,30.450297 L -87.383576,30.450197 L -87.382976,30.450097 L -87.382176,30.450097 L -87.381876,30.450097 L -87.381476,30.450097 L -87.381176,30.450097 L -87.380376,30.449897 L -87.379976,30.449897 L -87.379476,30.449697 L -87.379176,30.449697 L -87.378676,30.449597 L -87.378276,30.449397 L -87.37821,30.449383 L -87.377776,30.449297 L -87.377676,30.449297 L -87.377076,30.449097 L -87.376676,30.448997 L -87.375876,30.448797 L -87.375576,30.448697 L -87.375076,30.448597 L -87.375001,30.448559 L -87.374976,30.448547 L -87.374976,30.448465 L -87.370768,30.446865 L -87.36868,30.444631 L -87.366939,30.44048 L -87.366591,30.436648 L -87.367441,30.434495 L -87.368191,30.433407 L -87.369383,30.431948 L -87.371169,30.43049 L -87.37315,30.429397 L -87.374976,30.428302 L -87.374976,30.428347 L -87.375076,30.428197 L -87.375276,30.428097 L -87.375376,30.427997 L -87.376176,30.427297 L -87.376476,30.427097 L -87.377276,30.426397 L -87.377576,30.426097 L -87.378376,30.425397 L -87.378676,30.425197 L -87.380076,30.424297 L -87.380876,30.423797 L -87.382076,30.422897 L -87.382576,30.422597 L -87.383376,30.422097 L -87.383876,30.421897 L -87.384348,30.421613 L -87.384876,30.421297 L -87.385476,30.420997 L -87.386376,30.420497 L -87.386776,30.420397 L -87.387676,30.420097 L -87.388076,30.419997 L -87.389076,30.419697 L -87.389476,30.419597 L -87.390276,30.419297 L -87.390576,30.419197 L -87.392576,30.418697 L -87.393176,30.418497 L -87.393976,30.418297 L -87.394576,30.418097 L -87.395676,30.417597 L -87.396276,30.417197 L -87.397376,30.416298 L -87.397676,30.415998 L -87.398476,30.415498 L -87.398776,30.415098 L -87.400277,30.413498 L -87.400377,30.413398 L -87.400477,30.413198 L -87.400577,30.412898 L -87.400977,30.412298 L -87.401277,30.411998 L -87.401777,30.411398 L -87.402277,30.410998 L -87.402777,30.410598 L -87.402977,30.410398 L -87.403477,30.410198 L -87.404777,30.409598 L -87.405277,30.409498 L -87.405677,30.409398 L -87.406077,30.409198 L -87.406477,30.409198 L -87.407377,30.408998 L -87.407777,30.408898 L -87.408477,30.408898 L -87.408877,30.408798 L -87.409377,30.408798 L -87.409577,30.408798 L -87.410377,30.408798 L -87.410677,30.408798 L -87.411077,30.408798 L -87.411477,30.408798 L -87.412177,30.408898 L -87.412477,30.408898 L -87.413177,30.408998 L -87.413577,30.408998 L -87.414177,30.409198 L -87.414577,30.409298 L -87.415277,30.409398 L -87.415677,30.409498 L -87.416677,30.409698 L -87.417177,30.409898 L -87.417677,30.409998 L -87.417977,30.409998 L -87.418377,30.410098 L -87.418577,30.410098 L -87.419177,30.410198 L -87.419477,30.410198 L -87.420177,30.410198 L -87.420577,30.410198 L -87.421177,30.410198 L -87.421577,30.410198 L -87.422277,30.410098 L -87.422677,30.410098 L -87.423277,30.409998 L -87.423677,30.409898 L -87.424377,30.409798 L -87.424477,30.409698 L -87.424777,30.409598 L -87.424977,30.409598 L -87.425077,30.409498 L -87.425577,30.409398 L -87.425877,30.409298 L -87.426177,30.409198 L -87.426377,30.409098 L -87.426777,30.408798 L -87.426877,30.408798 L -87.427478,30.408398 L -87.427778,30.408098 L -87.428378,30.407598 L -87.429478,30.406598 L -87.429578,30.406498 L -87.429778,30.406198 L -87.430178,30.405698 L -87.430578,30.405198 L -87.430794,30.404909 L -87.430878,30.404798 L -87.431278,30.404098 L -87.431378,30.403798 L -87.431778,30.403198 L -87.431878,30.402998 L -87.432078,30.402398 L -87.432278,30.402098 L -87.432878,30.400898 L -87.432978,30.400398 L -87.433278,30.399398 L -87.433478,30.398898 L -87.434078,30.397798 L -87.434278,30.397498 L -87.434578,30.397298 L -87.434678,30.397198 L -87.435478,30.396898 L -87.435978,30.396598 L -87.436878,30.396198 L -87.437278,30.395898 L -87.438078,30.395098 L -87.438578,30.394598 L -87.439478,30.393498 L -87.439878,30.392798 L -87.440678,30.391498 L -87.440778,30.390998 L -87.441078,30.389998 L -87.441078,30.389798 L -87.441078,30.388998 L -87.441178,30.388598 L -87.441078,30.387998 L -87.441078,30.387698 L -87.440878,30.386698 L -87.440678,30.386098 L -87.440278,30.384898 L -87.440178,30.384598 L -87.439878,30.384198 L -87.439778,30.383898 L -87.439378,30.383298 L -87.439078,30.382898 L -87.438678,30.382098 L -87.438478,30.381798 L -87.438478,30.381398 L -87.438478,30.381198 L -87.438578,30.380998 L -87.438678,30.380798 L -87.439078,30.380198 L -87.439378,30.379898 L -87.439878,30.378899 L -87.439978,30.378799 L -87.440578,30.377999 L -87.440878,30.377599 L -87.441378,30.376899 L -87.441535,30.376663 L -87.441578,30.376599 L -87.44166,30.376499 L -87.441823,30.376304 L -87.442884,30.375199 L -87.443478,30.375099 L -87.443678,30.374799 L -87.444078,30.374399 L -87.444278,30.374099 L -87.444978,30.373699 L -87.445478,30.373299 L -87.445978,30.372899 L -87.446178,30.372699 L -87.446578,30.372299 L -87.446978,30.371999 L -87.447378,30.371699 L -87.447678,30.371499 L -87.447978,30.371199 L -87.448478,30.370899 L -87.448778,30.370599 L -87.449078,30.370399 L -87.449378,30.370099 L -87.449778,30.369599 L -87.449978,30.369299 L -87.450178,30.368799 L -87.451378,30.367199 L -87.451378,30.366999 L -87.451478,30.366699 L -87.451778,30.365899 L -87.451878,30.364999 L -87.451778,30.364599 L -87.451778,30.363999 L -87.451878,30.363399 L -87.451978,30.362499 L -87.452078,30.361899 L -87.451978,30.361099 L -87.451978,30.360299 L -87.451978,30.359799 L -87.451978,30.359199 L -87.451878,30.358299 L -87.451778,30.357499 L -87.451778,30.356699 L -87.451578,30.355899 L -87.451378,30.354899 L -87.451278,30.353999 L -87.451178,30.353399 L -87.451178,30.352899 L -87.451178,30.352499 L -87.451078,30.351899 L -87.451078,30.351499 L -87.451078,30.350999 L -87.451078,30.350099 L -87.451078,30.349499 L -87.450978,30.348799 L -87.450978,30.347999 L -87.450878,30.347599 L -87.450778,30.346999 L -87.450878,30.346599 L -87.450962,30.346262 L -87.450978,30.346199 L -87.451078,30.345599 L -87.451378,30.345299 L -87.451578,30.344999 L -87.451978,30.344499 L -87.452278,30.344099 L -87.452978,30.343499 L -87.453378,30.343099 L -87.453678,30.342899 L -87.453678,30.3428 L -87.453778,30.3428 L -87.454178,30.3424 L -87.454478,30.3421 L -87.454978,30.3416 L -87.455378,30.3412 L -87.455778,30.3407 L -87.456278,30.3402 L -87.456878,30.3397 L -87.457278,30.3392 L -87.457678,30.3388 L -87.458078,30.3384 L -87.458478,30.3379 L -87.458878,30.3375 L -87.459278,30.337 L -87.459678,30.3366 L -87.459978,30.3363 L -87.460378,30.336 L -87.460778,30.3356 L -87.461078,30.3353 L -87.461278,30.3352 L -87.462978,30.334 L -87.463129,30.333949 L -87.463278,30.3339 L -87.463778,30.3337 L -87.464057,30.333606 L -87.464378,30.3335 L -87.464878,30.3333 L -87.465478,30.3332 L -87.466279,30.333 L -87.467079,30.3329 L -87.467261,30.332827 L -87.467579,30.3327 L -87.468079,30.3326 L -87.468779,30.3324 L -87.469479,30.3323 L -87.470079,30.3322 L -87.470879,30.332 L -87.471879,30.3318 L -87.472679,30.3317 L -87.473579,30.3316 L -87.474779,30.3315 L -87.475579,30.3314 L -87.476279,30.3314 L -87.476879,30.3313 L -87.477479,30.3313 L -87.478579,30.3312 L -87.479479,30.3312 L -87.479998,30.331113 L -87.480079,30.3311 L -87.480879,30.3311 L -87.481679,30.3311 L -87.482779,30.3311 L -87.483579,30.3311 L -87.484679,30.3311 L -87.485879,30.3311 L -87.486679,30.3311 L -87.487479,30.331 L -87.487779,30.331 L -87.488379,30.3311 L -87.489079,30.3311 L -87.489979,30.3311 L -87.490879,30.331 L -87.491879,30.3309 L -87.492045,30.330872 L -87.49248,30.3308 L -87.49308,30.3306 L -87.49358,30.3306 L -87.49418,30.3304 L -87.49488,30.3302 L -87.49588,30.33 L -87.49728,30.3297 L -87.49818,30.3295 L -87.49868,30.3293 L -87.49928,30.3291 L -87.49978,30.3289 L -87.49998,30.328957 L -87.502572,30.327405 L -87.504701,30.324039 L -87.505943,30.319396 L -87.50581,30.315086 L -87.50588,30.3139 L -87.50578,30.3125 L -87.50558,30.3111 L -87.50518,30.309901 L -87.50468,30.308901 L -87.50388,30.308001 L -87.50348,30.307601 L -87.50278,30.307301 L -87.502307,30.307143 L -87.50218,30.307101 L -87.50168,30.306901 L -87.50098,30.306801 L -87.49998,30.306451 L -87.49998,30.306201 L -87.49988,30.306201 L -87.49958,30.306201 L -87.49928,30.306201 L -87.49918,30.306201 L -87.49898,30.306201 L -87.49878,30.306301 L -87.49838,30.306301 L -87.49798,30.306201 L -87.49768,30.306101 L -87.49738,30.305901 L -87.49718,30.305801 L -87.49678,30.305701 L -87.49648,30.305601 L -87.49598,30.305401 L -87.49558,30.305301 L -87.495179,30.305101 L -87.494879,30.305001 L -87.494379,30.305001 L -87.494079,30.304901 L -87.493379,30.304901 L -87.492879,30.304901 L -87.492479,30.304901 L -87.491979,30.304801 L -87.491279,30.304901 L -87.490679,30.304901 L -87.489879,30.304901 L -87.489179,30.304901 L -87.488679,30.304801 L -87.488179,30.304801 L -87.487379,30.305001 L -87.486979,30.305101 L -87.486379,30.305101 L -87.48624,30.305101 L -87.486047,30.305101 L -87.485679,30.305101 L -87.485179,30.305001 L -87.484779,30.304901 L -87.484179,30.304901 L -87.483779,30.304801 L -87.483679,30.304801 L -87.481879,30.306001 L -87.481579,30.306201 L -87.481379,30.306401 L -87.480879,30.306601 L -87.480579,30.306701 L -87.480279,30.306801 L -87.479579,30.306801 L -87.478879,30.306801 L -87.478479,30.306901 L -87.477879,30.306901 L -87.477179,30.307201 L -87.476579,30.307501 L -87.476279,30.307701 L -87.475879,30.3079 L -87.475279,30.308 L -87.474479,30.308 L -87.473979,30.308 L -87.473479,30.308 L -87.472579,30.308 L -87.471779,30.3079 L -87.471279,30.3079 L -87.470679,30.3079 L -87.469779,30.308 L -87.469178,30.3082 L -87.468678,30.3082 L -87.468178,30.3081 L -87.467778,30.3079 L -87.467378,30.3078 L -87.467178,30.3078 L -87.466578,30.3078 L -87.466178,30.3078 L -87.465878,30.3077 L -87.465778,30.3076 L -87.465078,30.3076 L -87.464278,30.3077 L -87.463778,30.3078 L -87.462978,30.3078 L -87.462478,30.3079 L -87.461878,30.308 L -87.460978,30.3081 L -87.460278,30.3082 L -87.459578,30.3083 L -87.459178,30.3085 L -87.458778,30.3086 L -87.458278,30.3088 L -87.457778,30.3091 L -87.457178,30.3093 L -87.456878,30.3095 L -87.456478,30.3098 L -87.455878,30.3101 L -87.455578,30.3102 L -87.454978,30.3103 L -87.454378,30.3103 L -87.453878,30.3102 L -87.453178,30.3104 L -87.452678,30.3104 L -87.452278,30.3106 L -87.451678,30.3108 L -87.451178,30.3109 L -87.450778,30.3111 L -87.450278,30.3111 L -87.450078,30.3111 L -87.451126,30.306136 L -87.451131,30.306109 L -87.451134,30.306097 L -87.451151,30.306014 L -87.452378,30.300201 L -87.49274,30.289772 L -87.49998,30.287901 L -87.500003,30.287905 L -87.50108,30.288101 L -87.50198,30.288001 L -87.50368,30.287501 L -87.50548,30.287101 L -87.50738,30.286501 L -87.50888,30.286101 L -87.51048,30.285801 L -87.511707,30.285635 L -87.511917,30.285606 L -87.512029,30.285568 L -87.51458,30.284701 L -87.515091,30.284593 L -87.51838,30.283901 L -87.518381,30.282934 L -87.518383,30.282375 L -87.518383,30.282356 L -87.518383,30.28232 L -87.518383,30.282257 L -87.518383,30.282159 L -87.518383,30.282141 L -87.518383,30.282131 L -87.518384,30.282084 L -87.518384,30.282029 L -87.518386,30.281586 L -87.518386,30.281562 L -87.518386,30.280649 L -87.518324,30.280442 L -87.518325,30.280206 L -87.518331,30.278649 L -87.518339,30.276998 L -87.518381,30.267658 L -87.518426,30.2578 L -87.518446,30.253301 L -87.51846,30.250202 L -87.518459,30.250001 L -87.518404,30.240119 L -87.518372,30.23424 L -87.518346,30.229506 L -87.567041,30.219342 L -87.574101,30.21771 L -87.599541,30.21183 L -87.624981,30.205949 L -87.62502,30.20594 L -87.647824,30.199211 L -87.660348,30.198179 L -87.681539,30.196433 L -87.683638,30.196164 L -87.69421,30.194809 L -87.718002,30.19176 L -87.74438,30.18747 L -87.749987,30.186558 L -87.771293,30.18288 L -87.797196,30.178906 L -87.807153,30.177378 L -87.811263,30.177326 L -87.831673,30.177068 L -87.83742,30.176995 L -87.874991,30.177193 L -87.925756,30.179561 L -87.955653,30.178343 L -87.971709,30.176738 L -87.98088,30.176521 L -87.980893,30.176518 L -87.981041,30.176485 L -87.983766,30.176874 L -87.98646,30.1776 L -87.987409,30.17789 L -87.990422,30.177018 L -87.993755,30.176146 L -87.997242,30.17513 L -87.999992,30.174548 L -87.999986,30.174577 L -88.000009,30.174573 L -88.003618,30.173417 L -88.006043,30.169733 L -88.009797,30.164172 L -88.014159,30.160059 L -88.020247,30.155601 L -88.02077,30.155218 L -88.028037,30.150381 L -88.036729,30.146693 L -88.037309,30.146561 L -88.041494,30.145608 L -88.046104,30.144689 L -88.057092,30.144441 L -88.060689,30.144425 L -88.069189,30.146012 L -88.074869,30.147149 L -88.080347,30.149562 L -88.086944,30.152484 L -88.09022,30.154516 L -88.092761,30.156343 L -88.09911,30.162088 L -88.103417,30.166377 L -88.106743,30.16656 L -88.109178,30.166974 L -88.112505,30.167225 L -88.115597,30.167743 L -88.118146,30.168527 L -88.121622,30.169618 L -88.124999,30.170472 L -88.128498,30.172078 L -88.13161,30.173621 L -88.134107,30.175414 L -88.138374,30.177973 L -88.141155,30.180229 L -88.143459,30.18206 L -88.145387,30.184369 L -88.146191,30.185359 L -88.149191,30.187039 L -88.151974,30.189296 L -88.15348,30.190371 L -88.157631,30.194377 L -88.161198,30.198364 L -88.161742,30.199505 L -88.162022,30.200093 L -88.162043,30.20009 L -88.162628,30.200019 L -88.167489,30.19943 L -88.175636,30.198639 L -88.184979,30.19745 L -88.191605,30.19649 L -88.199078,30.195209 L -88.205006,30.194366 L -88.210003,30.193612 L -88.216311,30.192423 L -88.234364,30.188372 L -88.250002,30.184644 L -88.253372,30.184147 L -88.266593,30.181704 L -88.277939,30.180071 L -88.291192,30.178835 L -88.303023,30.177962 L -88.310302,30.177816 L -88.31932,30.178945 L -88.324934,30.180242 L -88.331307,30.182296 L -88.338042,30.184846 L -88.343781,30.187818 L -88.347719,30.190088 L -88.34994,30.186384 L -88.353814,30.180901 L -88.359756,30.174536 L -88.364753,30.170405 L -88.371163,30.165608 L -88.375006,30.163946 L -88.38112,30.160336 L -88.384431,30.158543 L -88.385779,30.182243 L -88.386516,30.198254 L -88.387098,30.210915 L -88.387218,30.213613 L -88.387662,30.2235 L -88.388859,30.250201 L -88.38988,30.269532 L -88.392143,30.312332 L -88.39216,30.312662 L -88.392163,30.312715 L -88.39327,30.335874 L -88.393787,30.34566 L -88.393991,30.349515 L -88.394062,30.350813 L -88.39415,30.352494 L -88.394168,30.352752 L -88.394297,30.354636 L -88.394626,30.361361 L -88.39468,30.362461 L -88.395023,30.369425 L -88.39536,30.375199 L -88.395498,30.377644 L -88.395636,30.38009 L -88.395667,30.380643 L -88.395698,30.381196 L -88.395704,30.381295 L -88.395705,30.381316 L -88.395782,30.382976 L -88.395859,30.384635 L -88.395876,30.385013 L -88.395893,30.385391 L -88.395918,30.385936 L -88.395944,30.386482 L -88.39608,30.389009 L -88.396086,30.3891 L -88.396099,30.389186 L -88.3961,30.389224 L -88.396147,30.39027 L -88.396152,30.390452 L -88.39622,30.391621 L -88.396341,30.393917 L -88.396665,30.399932 L -88.396671,30.400037 L -88.397722,30.419775 L -88.397725,30.4198 L -88.397747,30.420099 L -88.397844,30.421905 L -88.39797,30.424255 L -88.398045,30.425642 L -88.398193,30.428402 L -88.398572,30.435474 L -88.398665,30.437206 L -88.398604,30.437915 L -88.398848,30.443054 L -88.398856,30.443223 L -88.399606,30.458216 L -88.400048,30.466704 L -88.400229,30.470177 L -88.400347,30.472448 L -88.400353,30.472571 L -88.400355,30.472602 L -88.40047,30.474213 L -88.400488,30.474432 L -88.40049,30.474455 L -88.400618,30.476084 L -88.400623,30.476219 L -88.400884,30.483021 L -88.401543,30.500197 L -88.401792,30.503146 L -88.401833,30.503628 L -88.401921,30.504669 L -88.402278,30.510759 L -88.402283,30.510852 L -88.402417,30.513146 L -88.402422,30.513284 L -88.402546,30.516762 L -88.402638,30.519337 L -88.402667,30.519795 L -88.402758,30.520792 L -88.402787,30.520877 L -88.402854,30.520944 L -88.402905,30.521755 L -88.4029,30.521907 L -88.402897,30.521989 L -88.402829,30.522281 L -88.40284,30.522542 L -88.402879,30.523058 L -88.402879,30.52368 L -88.402879,30.523775 L -88.402891,30.524256 L -88.4029,30.524594 L -88.402888,30.524943 L -88.402942,30.525751 L -88.402966,30.526677 L -88.402987,30.526855 L -88.403407,30.53036 L -88.403429,30.530513 L -88.403429,30.530592 L -88.40342,30.530682 L -88.403429,30.530705 L -88.403428,30.531633 L -88.40338,30.532208 L -88.403372,30.532777 L -88.403368,30.533103 L -88.403356,30.533507 L -88.403343,30.534053 L -88.403338,30.534246 L -88.403324,30.534751 L -88.403306,30.534863 L -88.403264,30.534955 L -88.4032,30.534989 L -88.402855,30.53515 L -88.402691,30.535257 L -88.402615,30.535358 L -88.402605,30.535788 L -88.40262,30.536456 L -88.402629,30.537055 L -88.402632,30.537291 L -88.402654,30.538074 L -88.402632,30.538409 L -88.402642,30.538743 L -88.402637,30.538948 L -88.402627,30.539392 L -88.402625,30.539507 L -88.402612,30.539707 L -88.402665,30.539974 L -88.402783,30.540208 L -88.402986,30.54061 L -88.403017,30.540672 L -88.403333,30.541268 L -88.403494,30.541598 L -88.403593,30.541993 L -88.403593,30.542067 L -88.403593,30.542095 L -88.403589,30.543197 L -88.403598,30.543292 L -88.403607,30.543389 L -88.403628,30.543616 L -88.403636,30.54416 L -88.403656,30.544933 L -88.403658,30.544994 L -88.403713,30.545482 L -88.403799,30.546242 L -88.403885,30.547001 L -88.404107,30.548971 L -88.404125,30.549126 L -88.404175,30.549573 L -88.40418,30.549762 L -88.404283,30.550004 L -88.404332,30.550314 L -88.404517,30.551296 L -88.404597,30.551892 L -88.404796,30.552314 L -88.404962,30.552718 L -88.404992,30.552866 L -88.405072,30.553047 L -88.405239,30.553589 L -88.405341,30.553726 L -88.405366,30.553941 L -88.404874,30.554285 L -88.404727,30.554397 L -88.404677,30.554566 L -88.404723,30.555663 L -88.404747,30.556234 L -88.404783,30.556997 L -88.404792,30.55722 L -88.404796,30.557309 L -88.404801,30.55741 L -88.404714,30.557463 L -88.404459,30.557691 L -88.404424,30.557739 L -88.404391,30.557788 L -88.404169,30.558101 L -88.404119,30.55838 L -88.404175,30.559455 L -88.404177,30.559512 L -88.404239,30.559912 L -88.404286,30.560044 L -88.404341,30.560152 L -88.404458,30.560212 L -88.404585,30.560319 L -88.404617,30.560372 L -88.404877,30.560803 L -88.40524,30.561239 L -88.405368,30.561446 L -88.405433,30.561569 L -88.405442,30.562241 L -88.405498,30.56241 L -88.405508,30.562433 L -88.405563,30.562556 L -88.405647,30.562841 L -88.405677,30.563042 L -88.405727,30.563289 L -88.405682,30.563534 L -88.4057,30.563856 L -88.405743,30.563963 L -88.405773,30.5641 L -88.405819,30.564422 L -88.405885,30.564701 L -88.405986,30.56495 L -88.405877,30.565089 L -88.405819,30.565353 L -88.405718,30.566064 L -88.405631,30.566238 L -88.405461,30.566353 L -88.405193,30.566457 L -88.404988,30.566549 L -88.404934,30.566633 L -88.404946,30.567009 L -88.405013,30.567187 L -88.40513,30.573395 L -88.405176,30.574631 L -88.405189,30.575147 L -88.405195,30.575417 L -88.405251,30.577945 L -88.40529,30.578747 L -88.405391,30.581534 L -88.405478,30.582946 L -88.405542,30.583552 L -88.405944,30.586934 L -88.405977,30.587208 L -88.406034,30.587845 L -88.406095,30.588522 L -88.406104,30.588621 L -88.406201,30.589708 L -88.406343,30.592587 L -88.406348,30.592694 L -88.406437,30.594499 L -88.406538,30.596549 L -88.40657,30.597202 L -88.406811,30.602088 L -88.406823,30.602364 L -88.407042,30.607198 L -88.40706,30.607585 L -88.407115,30.608798 L -88.407125,30.609008 L -88.407234,30.611398 L -88.407332,30.613549 L -88.407332,30.613607 L -88.407338,30.613911 L -88.407261,30.615112 L -88.407093,30.617753 L -88.407053,30.618381 L -88.407049,30.618555 L -88.407075,30.61896 L -88.407092,30.61963 L -88.407093,30.619684 L -88.407103,30.61995 L -88.407169,30.62066 L -88.407241,30.621847 L -88.407264,30.622008 L -88.407316,30.622234 L -88.40733,30.622734 L -88.407322,30.623153 L -88.407341,30.623499 L -88.407338,30.623767 L -88.407359,30.624298 L -88.407423,30.624877 L -88.407435,30.625217 L -88.407468,30.625586 L -88.407469,30.625649 L -88.4075,30.627676 L -88.407491,30.628726 L -88.407483,30.6295 L -88.40742,30.629546 L -88.407381,30.629574 L -88.407121,30.629791 L -88.406978,30.629924 L -88.406919,30.630092 L -88.40692,30.630205 L -88.407005,30.630342 L -88.407085,30.630639 L -88.407221,30.63096 L -88.407336,30.631287 L -88.407452,30.631497 L -88.407504,30.631632 L -88.407523,30.631681 L -88.407706,30.632066 L -88.407742,30.632148 L -88.407793,30.632309 L -88.407826,30.632684 L -88.407827,30.632713 L -88.40784,30.633156 L -88.407869,30.633802 L -88.407892,30.634301 L -88.407908,30.634666 L -88.407956,30.635805 L -88.408013,30.636947 L -88.408165,30.639213 L -88.408181,30.63938 L -88.408191,30.639596 L -88.408336,30.642752 L -88.408469,30.645597 L -88.408647,30.649412 L -88.408665,30.649803 L -88.408726,30.656732 L -88.408875,30.659869 L -88.408908,30.660263 L -88.408765,30.660396 L -88.408712,30.660539 L -88.408694,30.660683 L -88.408793,30.660885 L -88.408905,30.661003 L -88.408923,30.661253 L -88.40892,30.661528 L -88.408966,30.661867 L -88.409044,30.661986 L -88.409074,30.662141 L -88.409163,30.664332 L -88.409197,30.664827 L -88.409253,30.66563 L -88.409406,30.668503 L -88.409429,30.668593 L -88.409442,30.668643 L -88.409485,30.669343 L -88.409522,30.670197 L -88.409572,30.671729 L -88.409599,30.67227 L -88.409664,30.673554 L -88.409672,30.673714 L -88.409761,30.675935 L -88.40977,30.676172 L -88.409833,30.677772 L -88.409861,30.678358 L -88.409901,30.679582 L -88.409943,30.680672 L -88.409995,30.682027 L -88.409998,30.682106 L -88.409997,30.682366 L -88.410061,30.682953 L -88.410148,30.685017 L -88.410158,30.685387 L -88.410182,30.686102 L -88.410195,30.686485 L -88.410215,30.686857 L -88.410228,30.687096 L -88.410256,30.687634 L -88.410295,30.688386 L -88.410326,30.689139 L -88.41033,30.689228 L -88.410336,30.689364 L -88.410355,30.689823 L -88.410404,30.691123 L -88.410424,30.691643 L -88.410436,30.691924 L -88.410485,30.693017 L -88.410514,30.694042 L -88.41052,30.69418 L -88.410539,30.694578 L -88.410586,30.69517 L -88.410611,30.695695 L -88.410683,30.696492 L -88.410695,30.696618 L -88.410716,30.696849 L -88.410727,30.697088 L -88.410778,30.69807 L -88.410786,30.699412 L -88.410787,30.69944 L -88.410803,30.699769 L -88.410839,30.700536 L -88.410861,30.701269 L -88.410889,30.701977 L -88.41089,30.702003 L -88.410909,30.702156 L -88.410931,30.70249 L -88.410965,30.704251 L -88.410978,30.704895 L -88.41098,30.704991 L -88.410983,30.705162 L -88.411006,30.705917 L -88.41101,30.706053 L -88.41101,30.706065 L -88.411025,30.706136 L -88.41104,30.706203 L -88.411047,30.706218 L -88.411086,30.706293 L -88.411123,30.706346 L -88.41117,30.706414 L -88.411238,30.706511 L -88.411349,30.70661 L -88.411542,30.712703 L -88.411499,30.712745 L -88.411424,30.712889 L -88.411376,30.713023 L -88.411374,30.713103 L -88.411368,30.713203 L -88.411389,30.713781 L -88.411405,30.71421 L -88.411476,30.71539 L -88.411609,30.717607 L -88.411646,30.718625 L -88.411655,30.719225 L -88.411661,30.719819 L -88.411699,30.721408 L -88.41171,30.721882 L -88.411726,30.722702 L -88.411741,30.723045 L -88.411765,30.723215 L -88.411767,30.723344 L -88.411854,30.724521 L -88.411871,30.724743 L -88.411891,30.725014 L -88.411969,30.726594 L -88.412049,30.727852 L -88.412091,30.728291 L -88.412093,30.728402 L -88.412116,30.729047 L -88.412128,30.729248 L -88.412174,30.730018 L -88.412178,30.730275 L -88.412189,30.730945 L -88.412264,30.731772 L -88.412569,30.735119 L -88.412612,30.73559 L -88.412803,30.740235 L -88.41281,30.740413 L -88.413006,30.745162 L -88.413032,30.74641 L -88.41332,30.754497 L -88.413323,30.754578 L -88.413356,30.755151 L -88.413352,30.755176 L -88.413448,30.757177 L -88.413454,30.757292 L -88.413694,30.762262 L -88.413698,30.762359 L -88.413957,30.768639 L -88.413975,30.769093 L -88.413993,30.769535 L -88.414528,30.779461 L -88.414759,30.784346 L -88.41482,30.785616 L -88.41482,30.785667 L -88.414838,30.785988 L -88.414863,30.786529 L -88.41497,30.788806 L -88.415031,30.790091 L -88.415035,30.790193 L -88.415207,30.793846 L -88.415209,30.793905 L -88.41521,30.793933 L -88.415371,30.797299 L -88.415568,30.801482 L -88.415994,30.810494 L -88.415996,30.810528 L -88.416547,30.82222 L -88.416568,30.822654 L -88.416571,30.82272 L -88.416573,30.82278 L -88.416599,30.823324 L -88.416611,30.823569 L -88.416756,30.826636 L -88.416768,30.826881 L -88.416779,30.827135 L -88.416825,30.828115 L -88.416919,30.830119 L -88.41706,30.833098 L -88.417103,30.834013 L -88.417149,30.834988 L -88.4172,30.836079 L -88.417369,30.83967 L -88.41738,30.839882 L -88.417391,30.840106 L -88.41744,30.84114 L -88.417446,30.841269 L -88.417514,30.842717 L -88.41752,30.842844 L -88.417623,30.845803 L -88.417626,30.845863 L -88.41767,30.846785 L -88.417678,30.846984 L -88.417685,30.847186 L -88.4177,30.84756 L -88.417705,30.847653 L -88.41773,30.848072 L -88.417738,30.848202 L -88.417919,30.851279 L -88.417925,30.851414 L -88.418135,30.855876 L -88.418162,30.856451 L -88.418188,30.857014 L -88.418204,30.857367 L -88.418206,30.857406 L -88.418211,30.857514 L -88.418208,30.857649 L -88.418217,30.857658 L -88.418229,30.85786 L -88.418229,30.857908 L -88.418231,30.858161 L -88.418232,30.858389 L -88.418232,30.8584 L -88.418237,30.858477 L -88.418243,30.858554 L -88.418243,30.858585 L -88.41825,30.858815 L -88.418251,30.858838 L -88.418266,30.859077 L -88.418278,30.859256 L -88.418417,30.861366 L -88.418427,30.861512 L -88.418432,30.861593 L -88.418442,30.861755 L -88.418448,30.861857 L -88.41845,30.8619 L -88.41846,30.862039 L -88.41847,30.862195 L -88.418474,30.862281 L -88.418477,30.862369 L -88.418481,30.862468 L -88.418471,30.862901 L -88.418472,30.862953 L -88.418485,30.86328 L -88.418632,30.866547 L -88.418632,30.86657 L -88.419562,30.875187 L -88.41957,30.875363 L -88.419867,30.881211 L -88.419877,30.88139 L -88.420202,30.887763 L -88.420206,30.887868 L -88.420426,30.892347 L -88.420429,30.892421 L -88.42068,30.897359 L -88.420688,30.897519 L -88.420701,30.897765 L -88.42073,30.898339 L -88.420762,30.898971 L -88.420944,30.902554 L -88.421608,30.91561 L -88.421611,30.915677 L -88.422042,30.924154 L -88.422044,30.924182 L -88.422089,30.925064 L -88.422134,30.925958 L -88.42225,30.928222 L -88.422453,30.932209 L -88.422692,30.936911 L -88.422746,30.937966 L -88.422751,30.938064 L -88.422755,30.938144 L -88.422767,30.938392 L -88.422773,30.938515 L -88.422826,30.939547 L -88.422834,30.939686 L -88.423074,30.944405 L -88.42308,30.944516 L -88.423221,30.947311 L -88.42323,30.947488 L -88.423237,30.947628 L -88.423265,30.948184 L -88.423427,30.951351 L -88.423436,30.951535 L -88.423502,30.95282 L -88.42351,30.952975 L -88.423642,30.955565 L -88.423804,30.958747 L -88.423889,30.960432 L -88.423973,30.96209 L -88.423995,30.962482 L -88.424152,30.965595 L -88.424178,30.966125 L -88.424225,30.967032 L -88.424242,30.967405 L -88.424215,30.971377 L -88.424329,30.97242 L -88.424494,30.975332 L -88.424612,30.976354 L -88.42461,30.977326 L -88.424847,30.981923 L -88.424836,30.982352 L -88.424836,30.982375 L -88.425003,30.986838 L -88.425051,30.988131 L -88.425186,30.991787 L -88.425277,30.994181 L -88.425282,30.994323 L -88.425309,30.995156 L -88.425318,30.995266 L -88.425323,30.99541 L -88.425432,30.998323 L -88.425729,31.000183 L -88.425807,31.00113 L -88.425794,31.00128 L -88.425935,31.003656 L -88.426546,31.013923 L -88.426549,31.014243 L -88.426558,31.015255 L -88.426566,31.015819 L -88.426574,31.016222 L -88.426588,31.017317 L -88.426726,31.019618 L -88.426743,31.019904 L -88.426832,31.021416 L -88.426849,31.021705 L -88.426865,31.021985 L -88.427492,31.032672 L -88.427677,31.035814 L -88.4279,31.039765 L -88.427925,31.04021 L -88.428396,31.048542 L -88.4284,31.048588 L -88.428552,31.05128 L -88.428718,31.053392 L -88.42904,31.057461 L -88.429051,31.057595 L -88.429275,31.060432 L -88.4293,31.060997 L -88.429312,31.061273 L -88.429315,31.061351 L -88.429321,31.06148 L -88.429336,31.061802 L -88.429612,31.067843 L -88.42963,31.068225 L -88.429654,31.068662 L -88.429864,31.070513 L -88.429865,31.070589 L -88.429888,31.071474 L -88.429963,31.072962 L -88.429993,31.073464 L -88.430056,31.074506 L -88.430141,31.075439 L -88.430105,31.076774 L -88.430245,31.07798 L -88.430492,31.084913 L -88.430496,31.084994 L -88.430508,31.085237 L -88.430512,31.085318 L -88.43067,31.088413 L -88.430677,31.088559 L -88.430706,31.089124 L -88.430902,31.092611 L -88.43133,31.100274 L -88.431632,31.106535 L -88.431633,31.106567 L -88.432007,31.114298 L -88.432352,31.12144 L -88.432464,31.123472 L -88.432525,31.1246 L -88.432523,31.12464 L -88.432522,31.12466 L -88.432489,31.125197 L -88.432714,31.128994 L -88.432726,31.129174 L -88.432799,31.131144 L -88.433151,31.137067 L -88.433444,31.142625 L -88.433499,31.143637 L -88.43408,31.151211 L -88.434167,31.152329 L -88.434364,31.154845 L -88.434381,31.155688 L -88.434405,31.156811 L -88.434419,31.157462 L -88.434438,31.158311 L -88.4344,31.159415 L -88.434379,31.160067 L -88.434368,31.160406 L -88.434446,31.161588 L -88.43456,31.163308 L -88.434562,31.164807 L -88.434631,31.166155 L -88.434709,31.167678 L -88.434716,31.167798 L -88.434723,31.167897 L -88.434771,31.168555 L -88.434787,31.168775 L -88.434824,31.16929 L -88.434886,31.17012 L -88.434865,31.170839 L -88.43485,31.171357 L -88.434853,31.171651 L -88.434862,31.172533 L -88.434865,31.172828 L -88.434895,31.173354 L -88.434988,31.174932 L -88.43502,31.175458 L -88.435024,31.175526 L -88.43503,31.175629 L -88.435036,31.175731 L -88.43504,31.1758 L -88.435047,31.175917 L -88.435058,31.176094 L -88.435068,31.176269 L -88.435075,31.176387 L -88.435095,31.17674 L -88.435158,31.177801 L -88.435179,31.178155 L -88.435203,31.178563 L -88.435581,31.184964 L -88.435711,31.187117 L -88.436026,31.192487 L -88.436067,31.193181 L -88.43619,31.195265 L -88.436232,31.19596 L -88.436282,31.196807 L -88.436433,31.199348 L -88.436484,31.200196 L -88.436525,31.200822 L -88.436648,31.202702 L -88.436689,31.203329 L -88.436704,31.203564 L -88.436749,31.204271 L -88.436765,31.204507 L -88.436863,31.206052 L -88.436974,31.208299 L -88.437156,31.211952 L -88.437156,31.211968 L -88.437534,31.219429 L -88.437997,31.22864 L -88.437999,31.228932 L -88.438006,31.229808 L -88.438009,31.2301 L -88.438019,31.230153 L -88.438038,31.230254 L -88.438045,31.230315 L -88.438052,31.23037 L -88.438067,31.230498 L -88.438074,31.230613 L -88.438097,31.230982 L -88.438145,31.231127 L -88.438183,31.231336 L -88.438192,31.231386 L -88.438219,31.231498 L -88.438228,31.231577 L -88.438256,31.232139 L -88.43833,31.233623 L -88.438333,31.233827 L -88.438344,31.234391 L -88.438345,31.234506 L -88.438351,31.234853 L -88.438353,31.234969 L -88.438354,31.235047 L -88.438358,31.235283 L -88.43836,31.235362 L -88.438436,31.236791 L -88.438667,31.241078 L -88.438744,31.242508 L -88.438749,31.242607 L -88.438765,31.242904 L -88.438771,31.243003 L -88.4388,31.243551 L -88.438888,31.245194 L -88.438918,31.245743 L -88.43893,31.245973 L -88.438967,31.246665 L -88.43898,31.246896 L -88.43874,31.250174 L -88.438781,31.252651 L -88.438834,31.253219 L -88.439295,31.258225 L -88.439595,31.261548 L -88.439718,31.263777 L -88.439929,31.26761 L -88.440585,31.278555 L -88.440689,31.281023 L -88.440837,31.282595 L -88.441281,31.289984 L -88.441307,31.290408 L -88.441447,31.292749 L -88.4418,31.298683 L -88.441912,31.300561 L -88.441913,31.300583 L -88.44219,31.30519 L -88.442302,31.307055 L -88.442385,31.308445 L -88.442634,31.312615 L -88.442717,31.314006 L -88.442732,31.314279 L -88.442777,31.315101 L -88.442792,31.315375 L -88.442851,31.316398 L -88.443029,31.31947 L -88.443089,31.320494 L -88.443192,31.322261 L -88.443504,31.327563 L -88.443608,31.329331 L -88.443658,31.330176 L -88.44387,31.333713 L -88.44387,31.333729 L -88.443892,31.334099 L -88.444197,31.339298 L -88.4446,31.346101 L -88.444638,31.34674 L -88.444752,31.348657 L -88.444791,31.349296 L -88.444827,31.349913 L -88.444938,31.351764 L -88.444975,31.352382 L -88.445181,31.355854 L -88.445209,31.355969 L -88.445211,31.355997 L -88.445214,31.356037 L -88.445222,31.356219 L -88.445584,31.361853 L -88.445596,31.362022 L -88.445679,31.363196 L -88.445737,31.364042 L -88.445913,31.366583 L -88.445972,31.36743 L -88.446011,31.367974 L -88.44613,31.369607 L -88.44617,31.370152 L -88.446195,31.370836 L -88.44627,31.372891 L -88.446296,31.373576 L -88.446321,31.374264 L -88.446354,31.375171 L -88.446467,31.376324 L -88.446535,31.37701 L -88.446548,31.37717 L -88.446598,31.378137 L -88.446775,31.38152 L -88.446835,31.382648 L -88.446871,31.38333 L -88.446979,31.385379 L -88.447016,31.386062 L -88.447081,31.387189 L -88.447093,31.387393 L -88.447233,31.390573 L -88.447284,31.391701 L -88.447292,31.391878 L -88.447316,31.392412 L -88.447324,31.39259 L -88.44734,31.392948 L -88.447388,31.394022 L -88.447404,31.39438 L -88.447427,31.394914 L -88.447498,31.396516 L -88.447522,31.397051 L -88.447529,31.397226 L -88.447552,31.397751 L -88.44756,31.397926 L -88.447764,31.402606 L -88.447796,31.403084 L -88.447797,31.403111 L -88.448229,31.411752 L -88.448369,31.414552 L -88.448426,31.415693 L -88.448597,31.419116 L -88.448654,31.420258 L -88.448658,31.420327 L -88.44867,31.420535 L -88.448674,31.420605 L -88.448689,31.420618 L -88.448736,31.420657 L -88.448752,31.420671 L -88.448729,31.420699 L -88.448711,31.420788 L -88.448682,31.420849 L -88.448683,31.421267 L -88.44893,31.426036 L -88.44895,31.42637 L -88.448971,31.42674 L -88.449335,31.433165 L -88.449407,31.434938 L -88.44941,31.435033 L -88.449413,31.435128 L -88.449417,31.435232 L -88.449438,31.435837 L -88.44955,31.437475 L -88.449888,31.44239 L -88.450001,31.444029 L -88.450004,31.444071 L -88.450013,31.444198 L -88.450016,31.444241 L -88.45003,31.444427 L -88.450044,31.444613 L -88.450312,31.44858 L -88.450315,31.448641 L -88.450576,31.4525 L -88.450725,31.454705 L -88.450788,31.455649 L -88.45098,31.458481 L -88.451044,31.459426 L -88.451045,31.45945 L -88.45103,31.459714 L -88.450985,31.460579 L -88.45097,31.460868 L -88.4513,31.472885 L -88.451459,31.477887 L -88.451573,31.481531 L -88.452509,31.493061 L -88.452528,31.49329 L -88.452532,31.493341 L -88.45254,31.493452 L -88.452547,31.493564 L -88.453012,31.500169 L -88.453179,31.505388 L -88.453299,31.50918 L -88.453347,31.510665 L -88.453371,31.511406 L -88.45364,31.515965 L -88.453679,31.516626 L -88.453796,31.518609 L -88.453836,31.51927 L -88.453871,31.519866 L -88.453977,31.521654 L -88.454013,31.522251 L -88.454101,31.523741 L -88.454365,31.528214 L -88.454453,31.529705 L -88.454468,31.529951 L -88.454514,31.530691 L -88.45453,31.530938 L -88.454713,31.534032 L -88.454807,31.535621 L -88.454853,31.536408 L -88.45499,31.538712 L -88.455124,31.540942 L -88.455224,31.542613 L -88.455261,31.543317 L -88.455426,31.546413 L -88.45543,31.546497 L -88.455443,31.546751 L -88.455446,31.546805 L -88.455448,31.546836 L -88.455614,31.549962 L -88.456114,31.55934 L -88.456281,31.562467 L -88.456291,31.562648 L -88.456336,31.563491 L -88.456501,31.566566 L -88.456557,31.567592 L -88.456921,31.574428 L -88.457283,31.581235 L -88.457295,31.581455 L -88.457729,31.589589 L -88.457734,31.589707 L -88.458868,31.610984 L -88.458902,31.611626 L -88.459158,31.616411 L -88.459432,31.620929 L -88.459709,31.621689 L -88.459761,31.621833 L -88.459876,31.622292 L -88.459896,31.622397 L -88.459931,31.622641 L -88.460036,31.623221 L -88.460067,31.623422 L -88.460064,31.623638 L -88.460043,31.62378 L -88.459926,31.624292 L -88.459883,31.624458 L -88.459849,31.624543 L -88.460065,31.625161 L -88.460386,31.631024 L -88.460396,31.631213 L -88.460661,31.636048 L -88.460782,31.638255 L -88.461314,31.647951 L -88.461478,31.650943 L -88.461514,31.651525 L -88.461525,31.651701 L -88.461561,31.652229 L -88.461573,31.652405 L -88.461653,31.653723 L -88.461678,31.654131 L -88.461777,31.655698 L -88.462003,31.65931 L -88.462112,31.661037 L -88.462304,31.664086 L -88.462629,31.669263 L -88.462638,31.669404 L -88.462802,31.671998 L -88.462802,31.67202 L -88.463487,31.683125 L -88.463854,31.688894 L -88.464059,31.692121 L -88.464428,31.697926 L -88.46443,31.697952 z\" /></g></svg>"
      ],
      "text/plain": [
       "<POLYGON ((-88.464 31.698, -88.464 31.698, -88.459 31.698, -88.451 31.698, -...>"
      ]
     },
     "execution_count": 146,
     "metadata": {},
     "output_type": "execute_result"
    }
   ],
   "source": [
    "db[db.longname == \"AL-01 in Escambia County, USA\"].geometry.iloc[1]"
   ]
  },
  {
   "cell_type": "code",
   "execution_count": 137,
   "id": "9e59c9bc",
   "metadata": {},
   "outputs": [
    {
     "data": {
      "image/svg+xml": [
       "<svg xmlns=\"http://www.w3.org/2000/svg\" xmlns:xlink=\"http://www.w3.org/1999/xlink\" width=\"100.0\" height=\"100.0\" viewBox=\"-87.66368154544944 30.251691454550574 0.7735534003620614 0.776075727134554\" preserveAspectRatio=\"xMinYMin meet\"><g transform=\"matrix(1,0,0,-1,0,61.2794586362357)\"><path fill-rule=\"evenodd\" fill=\"#66cc99\" stroke=\"#555555\" stroke-width=\"0.01552151454269108\" opacity=\"0.6\" d=\"M -87.6348442887865,30.866109347267 L -87.629987,30.877686 L -87.629454,30.880115 L -87.6244,30.884696 L -87.622062,30.885408 L -87.620788,30.887494 L -87.620922,30.889923 L -87.622519,30.89368 L -87.622203,30.897508 L -87.620715,30.89893 L -87.616013,30.901453 L -87.614951,30.904226 L -87.614209,30.908536 L -87.611847,30.914541 L -87.6102,30.916628 L -87.608262,30.9219 L -87.607811,30.92449 L -87.602684,30.934277 L -87.600691,30.937074 L -87.598299,30.938793 L -87.59689,30.941131 L -87.592055,30.951492 L -87.589187,30.964464 L -87.590917,30.969414 L -87.593046,30.972966 L -87.594111,30.976335 L -87.5941266776319,30.976700910013 L -87.594164,30.977572 L -87.592676,30.98014 L -87.593395,30.982959 L -87.596722,30.98761 L -87.599172,30.995722 L -87.598928,30.997457 L -87.571281,30.99787 L -87.548543,30.997927 L -87.51952,30.997586 L -87.514910818753,30.9976582879967 L -87.4983756803156,30.9979176164912 L -87.4884222032622,30.9980737216384 L -87.4837736214982,30.9981466275723 L -87.480243,30.998202 L -87.479703,30.998197 L -87.478706,30.998213 L -87.4778008656509,30.9982103214084 L -87.466879,30.998178 L -87.466827,30.998178 L -87.461783,30.998201 L -87.461638,30.998202 L -87.458658,30.998386 L -87.455705,30.998318 L -87.449811,30.998272 L -87.432292,30.998205 L -87.425774,30.99809 L -87.367842,30.998292 L -87.364011,30.998218 L -87.3638727343641,30.9982184302701 L -87.355656,30.998244 L -87.3478772559728,30.9982540449584 L -87.333973,30.998272 L -87.312183,30.998435 L -87.30403,30.998191 L -87.301567,30.998434 L -87.2977209676648,30.9984041688752 L -87.290995,30.998352 L -87.288905,30.998345 L -87.2762740065311,30.9983027902622 L -87.2664842854257,30.9982700753722 L -87.265564,30.998267 L -87.26054,30.998195 L -87.259689,30.998172 L -87.25796,30.998263 L -87.257002,30.998194 L -87.255592,30.998216 L -87.25498,30.998285 L -87.2499289302495,30.9977324342892 L -87.2399697516361,30.9966429421853 L -87.2383167408441,30.9964621097818 L -87.237685,30.996393 L -87.224746,30.997169 L -87.1748002724822,30.9986850890056 L -87.1636528320332,30.9990234665355 L -87.1636472414627,30.9990236362357 L -87.162982,30.998404 L -87.163516,30.996405 L -87.165942,30.99584 L -87.169126,30.993202 L -87.170907,30.99341 L -87.173668,30.995867 L -87.176004,30.996586 L -87.176215,30.994642 L -87.174148,30.991182 L -87.174958,30.98862 L -87.176765,30.98751 L -87.184842,30.983262 L -87.187156,30.981444 L -87.189251,30.976556 L -87.191971,30.975541 L -87.195357,30.976557 L -87.197127,30.976497 L -87.199508,30.973864 L -87.201977,30.97244 L -87.203509,30.970669 L -87.204893,30.969878 L -87.208968,30.9687 L -87.212993,30.966942 L -87.212548,30.963543 L -87.213203,30.962034 L -87.214199,30.961935 L -87.21838,30.963754 L -87.227635,30.961112 L -87.229887,30.962589 L -87.231225,30.963779 L -87.231329,30.965173 L -87.229973,30.967227 L -87.231431,30.968318 L -87.232992,30.967494 L -87.235897,30.964003 L -87.237539,30.962899 L -87.24183,30.96141 L -87.241226,30.959456 L -87.238295,30.958192 L -87.239663,30.955515 L -87.239994,30.953303 L -87.242224,30.951426 L -87.241221,30.94919 L -87.242602,30.947889 L -87.244929,30.947292 L -87.245795,30.946099 L -87.246059,30.942722 L -87.248532,30.942022 L -87.250773,30.944282 L -87.251834,30.943925 L -87.252203,30.942567 L -87.250621,30.939925 L -87.250594,30.938745 L -87.253033,30.937001 L -87.255496,30.931591 L -87.255998,30.931186 L -87.259372,30.931652 L -87.26045,30.935469 L -87.261763,30.935151 L -87.26331,30.931334 L -87.264871,30.930733 L -87.265468,30.931905 L -87.265098,30.933913 L -87.265847,30.934833 L -87.267582,30.934735 L -87.270778,30.932284 L -87.274091,30.931901 L -87.27598,30.930093 L -87.275394,30.927047 L -87.276758,30.925886 L -87.279129,30.926007 L -87.28229,30.924829 L -87.284277,30.924768 L -87.286882,30.925441 L -87.287006,30.924683 L -87.283473,30.921087 L -87.283213,30.918836 L -87.285364,30.917729 L -87.288622,30.917215 L -87.288664,30.915778 L -87.286461,30.915174 L -87.284283,30.915795 L -87.283252,30.914945 L -87.283489,30.913001 L -87.282179,30.9104 L -87.285596,30.908045 L -87.286467,30.907927 L -87.28814,30.909602 L -87.290095,30.909395 L -87.290506,30.908232 L -87.286654,30.905062 L -87.285454,30.903623 L -87.285232,30.901754 L -87.286014,30.895027 L -87.283466,30.89324 L -87.283138,30.892086 L -87.284486,30.887986 L -87.285297,30.887471 L -87.288763,30.886799 L -87.294039,30.884454 L -87.294869,30.883318 L -87.298438,30.881248 L -87.298484,30.880434 L -87.296735,30.879417 L -87.296644,30.87854 L -87.298725,30.877777 L -87.298806,30.875628 L -87.299569,30.874865 L -87.299335,30.873498 L -87.297663,30.872834 L -87.297457,30.871745 L -87.298816,30.869566 L -87.300892,30.868065 L -87.301524,30.866718 L -87.30153,30.863426 L -87.305219,30.863005 L -87.308117,30.864438 L -87.309138,30.863783 L -87.309181,30.861557 L -87.310209,30.859994 L -87.30986,30.858204 L -87.310621,30.854948 L -87.313908,30.848708 L -87.313839,30.847977 L -87.313611,30.847266 L -87.311498,30.846841 L -87.308757,30.847197 L -87.306278,30.847987 L -87.305901,30.846367 L -87.307249,30.845132 L -87.307975,30.843009 L -87.306586,30.841536 L -87.302532,30.842238 L -87.301355,30.840696 L -87.30332,30.839827 L -87.30364,30.839106 L -87.303445,30.838483 L -87.300649,30.837152 L -87.299905,30.835055 L -87.300316,30.834403 L -87.302527,30.833941 L -87.302508,30.832665 L -87.301675,30.831301 L -87.301595,30.827992 L -87.30027,30.828081 L -87.298363,30.82735 L -87.296921,30.824242 L -87.297365,30.820789 L -87.297398,30.816931 L -87.296876,30.815116 L -87.293084,30.812349 L -87.292766,30.811283 L -87.29392,30.809884 L -87.29646,30.808684 L -87.297418,30.804497 L -87.299326,30.801388 L -87.302731,30.801669 L -87.303672,30.799442 L -87.305461,30.798574 L -87.305715,30.792631 L -87.30315,30.792162 L -87.301914,30.790142 L -87.302267,30.789442 L -87.304402,30.7891 L -87.306033,30.791189 L -87.307653,30.790869 L -87.309537,30.789334 L -87.3082,30.788379 L -87.305924,30.788716 L -87.305558,30.787275 L -87.3073,30.787454 L -87.309538,30.786516 L -87.311883,30.78649 L -87.31268,30.785521 L -87.311541,30.783471 L -87.309567,30.782595 L -87.309213,30.780453 L -87.309969,30.778478 L -87.308796,30.775968 L -87.307321,30.776204 L -87.306373,30.777607 L -87.305181,30.777235 L -87.305533,30.775985 L -87.307458,30.775114 L -87.310232,30.772951 L -87.310594,30.771708 L -87.309207,30.770516 L -87.305771,30.770144 L -87.30437,30.765952 L -87.304194,30.765529 L -87.303002,30.765512 L -87.302611,30.765834 L -87.302064,30.767101 L -87.300764,30.767524 L -87.299614,30.766108 L -87.299628,30.764107 L -87.300386,30.763406 L -87.301751,30.764304 L -87.30309,30.763374 L -87.304582,30.763739 L -87.3052,30.76095 L -87.304105,30.76022 L -87.302044,30.760623 L -87.304175,30.757903 L -87.306044,30.759565 L -87.307425,30.758759 L -87.307116,30.756211 L -87.305732,30.755495 L -87.307358,30.753616 L -87.308743,30.753855 L -87.310326,30.751662 L -87.310483,30.750655 L -87.309694,30.748635 L -87.31029,30.746899 L -87.30815,30.745036 L -87.310794,30.743921 L -87.311116,30.742888 L -87.309538,30.741713 L -87.3106,30.740419 L -87.311547,30.741369 L -87.312373,30.740638 L -87.31134,30.737922 L -87.312596,30.73735 L -87.311978,30.73649 L -87.312409,30.73477 L -87.308502,30.72691 L -87.304879,30.723449 L -87.301452,30.721418 L -87.302661,30.71937 L -87.299807,30.719933 L -87.298189,30.719594 L -87.297847,30.717663 L -87.294828,30.717805 L -87.294874,30.719626 L -87.29642,30.720392 L -87.295748,30.720855 L -87.294045,30.721094 L -87.292538,30.720557 L -87.292808,30.718602 L -87.291953,30.718477 L -87.289559,30.720821 L -87.288673,30.720834 L -87.287527,30.719353 L -87.283515,30.719762 L -87.280907,30.719363 L -87.278858,30.716474 L -87.276501,30.715754 L -87.277096,30.713448 L -87.274713,30.714007 L -87.275086,30.71643 L -87.273086,30.717318 L -87.272231,30.716176 L -87.273127,30.7147 L -87.272453,30.713659 L -87.270203,30.712977 L -87.269407,30.711687 L -87.268443,30.706257 L -87.270389,30.704173 L -87.270511,30.703286 L -87.268088,30.702331 L -87.267844,30.701073 L -87.269178,30.699647 L -87.272511,30.700552 L -87.27312,30.698661 L -87.271778,30.695785 L -87.273364,30.693521 L -87.271599,30.694 L -87.270218,30.692994 L -87.270375,30.691407 L -87.268145,30.689566 L -87.265786,30.689049 L -87.2655,30.687997 L -87.267472,30.686305 L -87.265814,30.685494 L -87.267768,30.680593 L -87.268802,30.679334 L -87.268884,30.678573 L -87.266642,30.678144 L -87.266313,30.676594 L -87.268059,30.674196 L -87.266753,30.672899 L -87.266702,30.670292 L -87.266231,30.667786 L -87.266884,30.664897 L -87.264597,30.663979 L -87.264288,30.661884 L -87.266439,30.658492 L -87.264273,30.656567 L -87.263836,30.652535 L -87.264741,30.651282 L -87.264458,30.648683 L -87.263558,30.646886 L -87.261471,30.645628 L -87.261006,30.641914 L -87.259142,30.638002 L -87.256821,30.635309 L -87.256743,30.634356 L -87.258368,30.633426 L -87.258691,30.631045 L -87.259515,30.629929 L -87.256945,30.628556 L -87.256211,30.626129 L -87.253973,30.625856 L -87.252245,30.62493 L -87.252052,30.623584 L -87.253124,30.623232 L -87.256212,30.623488 L -87.257315,30.621711 L -87.259866,30.621491 L -87.260757,30.620289 L -87.259684,30.619905 L -87.258772,30.618785 L -87.258612,30.616849 L -87.257156,30.614689 L -87.25738,30.613857 L -87.259508,30.612049 L -87.258884,30.611281 L -87.25626,30.611153 L -87.2537,30.608673 L -87.251092,30.607777 L -87.249665,30.605887 L -87.248952,30.60675 L -87.245508,30.605841 L -87.243748,30.602228 L -87.246412,30.600167 L -87.246423,30.597934 L -87.24378,30.597121 L -87.2425,30.597025 L -87.240388,30.595665 L -87.23658,30.596609 L -87.23477,30.595813 L -87.234054,30.594483 L -87.234277,30.591549 L -87.230474,30.589956 L -87.230744,30.58889 L -87.232282,30.588179 L -87.232399,30.5869 L -87.230815,30.585449 L -87.226515,30.582786 L -87.225219,30.581394 L -87.222914,30.572598 L -87.21829,30.565975 L -87.217043,30.564018 L -87.216531,30.563426 L -87.213891,30.56045 L -87.212019,30.557554 L -87.209715,30.555266 L -87.207667,30.554306 L -87.20309,30.553266 L -87.200418,30.552322 L -87.19717,30.549602 L -87.195302,30.54891 L -87.194777,30.548889 L -87.189888,30.5488 L -87.179811,30.544754 L -87.159333,30.539257 L -87.157292,30.537953 L -87.154086,30.5353 L -87.15204,30.532825 L -87.148097,30.527051 L -87.145808,30.524148 L -87.143236,30.519772 L -87.143104,30.519544 L -87.136815,30.511643 L -87.121451,30.497419 L -87.125714,30.485501 L -87.127065,30.482548 L -87.133312,30.468641 L -87.13357,30.467229 L -87.134516,30.46204 L -87.139378,30.444978 L -87.14138,30.437094 L -87.141553,30.436484 L -87.144718,30.42746 L -87.148205,30.418997 L -87.151354,30.413543 L -87.151906,30.412598 L -87.161175,30.405612 L -87.182305,30.394773 L -87.184652,30.393565 L -87.208887,30.381137 L -87.213011,30.379021 L -87.216209,30.377381 L -87.220181,30.375985 L -87.224399,30.374731 L -87.233284,30.370331 L -87.233053,30.366967 L -87.231429,30.343309 L -87.228974,30.342841 L -87.207419,30.341825 L -87.20245,30.339959 L -87.196422,30.338374 L -87.192092,30.337771 L -87.187736,30.337385 L -87.182006,30.336254 L -87.179021,30.33593 L -87.175587,30.337026 L -87.170868,30.339119 L -87.168822,30.340854 L -87.153628,30.348144 L -87.153125,30.348375 L -87.14778,30.349095 L -87.137299,30.349589 L -87.131402,30.350101 L -87.126057,30.350821 L -87.113927,30.351964 L -87.10207,30.353147 L -87.101405,30.353146 L -87.094439,30.354462 L -87.074408,30.358669 L -87.032312,30.367806 L -86.972699,30.381113 L -86.951738,30.383222 L -86.918937,30.386514 L -86.9188716905368,30.3709250843817 L -86.953,30.365364 L -87.005883,30.35593 L -87.048547,30.348239 L -87.093501,30.33939 L -87.155392,30.327748 L -87.1918961370665,30.3232197792753 L -87.20601,30.321469 L -87.226313,30.319349 L -87.24998,30.317468 L -87.270896,30.31675 L -87.287772,30.321161 L -87.29609,30.325674 L -87.30025,30.328136 L -87.3012,30.33029 L -87.3037695923374,30.3292628458619 L -87.3106013642111,30.3265319524637 L -87.31249,30.325777 L -87.312371,30.324238 L -87.314392,30.321469 L -87.330079,30.317673 L -87.350638,30.313364 L -87.383438,30.306388 L -87.414336,30.299 L -87.427408,30.296332 L -87.4512002017273,30.2932507073992 L -87.453553,30.292946 L -87.464962,30.290586 L -87.481599,30.28761 L -87.492176,30.285147 L -87.5006179492969,30.2836257186367 L -87.518324,30.280435 L -87.5183423750478,30.2815722842093 L -87.5183643805646,30.2829342685194 L -87.51838,30.283901 L -87.50548,30.287101 L -87.49998,30.287901 L -87.452378,30.300201 L -87.450078,30.3111 L -87.455578,30.3102 L -87.459578,30.3083 L -87.462978,30.3078 L -87.465778,30.3076 L -87.468678,30.3082 L -87.475879,30.3079 L -87.481879,30.306001 L -87.483679,30.304801 L -87.494879,30.305001 L -87.5023015499663,30.3071617220507 L -87.50278,30.307301 L -87.50468,30.308901 L -87.5050022455784,30.3099553289424 L -87.50578,30.3125 L -87.5058411579151,30.3150873925325 L -87.505943,30.319396 L -87.504701,30.324039 L -87.502572,30.327405 L -87.49998,30.328957 L -87.4920423204518,30.3308608280906 L -87.491879,30.3309 L -87.475579,30.3314 L -87.4672695874252,30.3328753652829 L -87.464878,30.3333 L -87.462978,30.334 L -87.459978,30.3363 L -87.452278,30.344099 L -87.450962,30.346262 L -87.451978,30.360299 L -87.451878,30.364999 L -87.451378,30.367199 L -87.449078,30.370399 L -87.441823,30.376304 L -87.438678,30.380798 L -87.438678,30.382098 L -87.440878,30.386698 L -87.441178,30.388598 L -87.440678,30.391498 L -87.4383930064683,30.3944550504528 L -87.437278,30.395898 L -87.434278,30.397498 L -87.431778,30.403198 L -87.4306855384615,30.4048366923077 L -87.430680166419,30.4048447503715 L -87.429578,30.406498 L -87.426177,30.409198 L -87.422677,30.410098 L -87.419177,30.410198 L -87.413177,30.408998 L -87.408877,30.408798 L -87.4047733501918,30.4098619092095 L -87.403477,30.410198 L -87.401777,30.411398 L -87.398776,30.415098 L -87.395676,30.417597 L -87.386376,30.420497 L -87.3843547694845,30.4216251286598 L -87.382076,30.422897 L -87.371169,30.43049 L -87.368191,30.433407 L -87.3676121661119,30.4345795003946 L -87.366591,30.436648 L -87.366939,30.44048 L -87.36868,30.444631 L -87.370768,30.446865 L -87.3782686358461,30.449194175159 L -87.381176,30.450097 L -87.391976,30.451597 L -87.396877,30.450597 L -87.399877,30.450997 L -87.404677,30.452897 L -87.407877,30.456396 L -87.414677,30.457296 L -87.425078,30.465596 L -87.429578,30.470596 L -87.430578,30.476596 L -87.431578,30.477696 L -87.434678,30.479196 L -87.435578,30.480496 L -87.4347654303216,30.4818711179173 L -87.432978,30.484896 L -87.430578,30.491096 L -87.431178,30.495795 L -87.438269,30.505357 L -87.43969,30.506649 L -87.44322,30.506782 L -87.444714,30.507494 L -87.447702,30.510458 L -87.447782,30.511913 L -87.447305,30.512629 L -87.446499,30.513569 L -87.445182,30.51398 L -87.444944,30.514943 L -87.446427,30.520306 L -87.4464721004875,30.5222240471467 L -87.446586,30.527068 L -87.43544,30.54914 L -87.434963,30.549599 L -87.431441,30.550263 L -87.427891,30.554159 L -87.426037,30.560073 L -87.423362,30.561425 L -87.422805,30.561379 L -87.422408,30.560439 L -87.420925,30.560668 L -87.418647,30.561837 L -87.41666,30.566306 L -87.416951,30.568003 L -87.418513,30.569561 L -87.418354,30.570043 L -87.416261,30.572448 L -87.414513,30.573456 L -87.412712,30.573227 L -87.4124710380697,30.573861767419 L -87.412464599042,30.5738787297872 L -87.408736,30.583701 L -87.406558,30.599928 L -87.404597,30.603389 L -87.401178,30.604397 L -87.39927,30.605611 L -87.397308,30.608728 L -87.395026,30.615281 L -87.395053,30.6159 L -87.39643,30.616909 L -87.39643,30.617734 L -87.395659,30.623372 L -87.394479,30.625192 L -87.393775,30.627006 L -87.3937460783862,30.6276051568555 L -87.3936159919869,30.6303001018331 L -87.393588,30.63088 L -87.395941,30.643968 L -87.397185,30.648117 L -87.396177,30.650454 L -87.397262,30.654351 L -87.400177,30.657217 L -87.400707,30.657148 L -87.405874,30.666616 L -87.407118,30.671796 L -87.406561,30.674019 L -87.406958,30.675165 L -87.412739,30.678055 L -87.419527,30.679981 L -87.424883,30.683374 L -87.430372,30.688645 L -87.436021,30.688668 L -87.439814,30.690479 L -87.4401022024296,30.6907361149007 L -87.44228,30.692679 L -87.44358,30.694604 L -87.449362,30.698913 L -87.451404,30.699806 L -87.456948,30.69756 L -87.466338,30.700835 L -87.467717,30.701683 L -87.470397,30.705281 L -87.474429,30.706586 L -87.479579,30.712865 L -87.479819,30.71495 L -87.481225,30.716508 L -87.487036,30.7185 L -87.496772,30.720353 L -87.497515,30.720123 L -87.498482281574,30.7204185023051 L -87.502317,30.72159 L -87.505153,30.726313 L -87.511729,30.733535 L -87.523613,30.738306 L -87.532607,30.743489 L -87.535365,30.749775 L -87.535416,30.75476 L -87.536528,30.761383 L -87.537085,30.76253 L -87.54226,30.767504 L -87.54616,30.77202 L -87.545364,30.774105 L -87.545044,30.778666 L -87.552051,30.786254 L -87.552954,30.786941 L -87.554838,30.787125 L -87.559484,30.790447 L -87.560068,30.792258 L -87.564209,30.796246 L -87.56814,30.799088 L -87.572043,30.800532 L -87.576849,30.808163 L -87.581869,30.812403 L -87.58787,30.815037 L -87.594297,30.816984 L -87.600486,30.820627 L -87.60163,30.82514 L -87.60357,30.828624 L -87.605776,30.831304 L -87.610982,30.832632 L -87.615923,30.834693 L -87.615367,30.837031 L -87.617281,30.840353 L -87.624137,30.845713 L -87.626075,30.846494 L -87.627323,30.847961 L -87.626497,30.85188 L -87.62538,30.854355 L -87.626228,30.857127 L -87.628245,30.860131 L -87.634938,30.865886 L -87.6348442887865,30.866109347267 z\" /></g></svg>"
      ],
      "text/plain": [
       "<POLYGON ((-87.635 30.866, -87.63 30.878, -87.629 30.88, -87.624 30.885, -87...>"
      ]
     },
     "execution_count": 137,
     "metadata": {},
     "output_type": "execute_result"
    }
   ],
   "source": [
    "counties[counties.longname == \"Escambia County, Florida, USA\"].iloc[0].geometry"
   ]
  },
  {
   "cell_type": "code",
   "execution_count": 138,
   "id": "71c5cc1f",
   "metadata": {},
   "outputs": [
    {
     "data": {
      "image/svg+xml": [
       "<svg xmlns=\"http://www.w3.org/2000/svg\" xmlns:xlink=\"http://www.w3.org/1999/xlink\" width=\"100.0\" height=\"100.0\" viewBox=\"-87.65309667999999 30.9574794483541 1.0021503599999875 0.3416252316458994\" preserveAspectRatio=\"xMinYMin meet\"><g transform=\"matrix(1,0,0,-1,0,62.2565841283541)\"><path fill-rule=\"evenodd\" fill=\"#66cc99\" stroke=\"#555555\" stroke-width=\"0.02004300719999975\" opacity=\"0.6\" d=\"M -87.61589,31.244458 L -87.615222,31.24378 L -87.612527,31.24197 L -87.608739,31.241032 L -87.605353,31.242706 L -87.602952,31.242822 L -87.601885,31.241378 L -87.600258,31.241539 L -87.599404,31.240439 L -87.595056,31.240486 L -87.592949,31.240189 L -87.5874,31.238747 L -87.586546,31.238953 L -87.585079,31.237418 L -87.581265,31.236135 L -87.580518,31.233729 L -87.579024,31.233546 L -87.57745,31.232331 L -87.57441,31.232744 L -87.570543,31.230636 L -87.568276,31.232057 L -87.567289,31.231622 L -87.565475,31.229308 L -87.563555,31.229423 L -87.563154,31.22846 L -87.561981,31.229216 L -87.559767,31.228529 L -87.558967,31.227383 L -87.554033,31.229537 L -87.551447,31.229651 L -87.548593,31.230316 L -87.547206,31.231965 L -87.542938,31.2335 L -87.541551,31.234898 L -87.539631,31.235127 L -87.537772,31.23663 L -87.53603,31.23728 L -87.533762,31.241497 L -87.529974,31.242596 L -87.527492,31.245414 L -87.525891,31.246674 L -87.52301,31.247911 L -87.518929,31.246924 L -87.511432,31.248503 L -87.507724,31.248731 L -87.505722,31.250459 L -87.50292,31.250933 L -87.502146,31.251597 L -87.49924,31.252122 L -87.4982,31.253475 L -87.492719,31.255325 L -87.490173,31.257787 L -87.489206,31.260076 L -87.46707,31.2602 L -87.466484,31.260154 L -87.427455,31.260386 L -87.365618,31.260576 L -87.36528,31.260364 L -87.225866,31.260639 L -87.163618,31.260744 L -87.110613,31.260935 L -87.036472,31.261315 L -87.018133,31.261272 L -87.00261,31.261231 L -86.99997,31.261038 L -86.922475,31.261784 L -86.871022,31.261902 L -86.845941,31.261988 L -86.763961,31.261293 L -86.765568,31.2593 L -86.765764,31.256555 L -86.767056,31.253855 L -86.772263,31.250655 L -86.771144,31.246696 L -86.772372,31.244634 L -86.772592,31.242588 L -86.770853,31.241562 L -86.769467,31.239636 L -86.768828,31.237321 L -86.768802,31.232142 L -86.769113,31.229869 L -86.768107,31.227233 L -86.764539,31.224028 L -86.763573,31.220923 L -86.764907,31.218705 L -86.766823,31.216745 L -86.771161,31.213211 L -86.772592,31.210657 L -86.771997,31.210118 L -86.769119,31.208796 L -86.765893,31.208388 L -86.765327,31.207015 L -86.768459,31.205076 L -86.769758,31.20366 L -86.771962,31.203138 L -86.772519,31.202243 L -86.769524,31.198285 L -86.767459,31.196619 L -86.763513,31.197534 L -86.762899,31.196915 L -86.765773,31.192627 L -86.76465,31.191717 L -86.762197,31.191877 L -86.762,31.190294 L -86.763067,31.188534 L -86.762702,31.186977 L -86.764738,31.184567 L -86.766903,31.183631 L -86.766996,31.182769 L -86.763512,31.181133 L -86.760752,31.187622 L -86.757492,31.192646 L -86.756671,31.193158 L -86.751168,31.193249 L -86.748632,31.192362 L -86.746703,31.192675 L -86.743671,31.194822 L -86.741399,31.195347 L -86.738743,31.194647 L -86.738042,31.192143 L -86.736817,31.191337 L -86.733943,31.191843 L -86.73261,31.190007 L -86.73526,31.189497 L -86.737189,31.187358 L -86.736549,31.186038 L -86.735358,31.18545 L -86.729994,31.185612 L -86.727596,31.184853 L -86.727725,31.186473 L -86.726971,31.186275 L -86.725985,31.183825 L -86.723153,31.185492 L -86.721346,31.185309 L -86.721007,31.18346 L -86.717931,31.185005 L -86.71665,31.184874 L -86.716828,31.186456 L -86.719198,31.189085 L -86.720888,31.189372 L -86.721274,31.190743 L -86.720419,31.191265 L -86.715955,31.190851 L -86.713598,31.19038 L -86.711986,31.191627 L -86.711208,31.191 L -86.707676,31.190318 L -86.706341,31.191454 L -86.707776,31.192681 L -86.707852,31.193939 L -86.706654,31.194851 L -86.70263,31.193968 L -86.700282,31.192217 L -86.700442,31.125171 L -86.700747,31.122936 L -86.70022,31.000418 L -86.688596,31.000417 L -86.688063,31.000179 L -86.6883130015449,30.9945961283541 L -86.706261,30.994703 L -86.725379,30.996872 L -86.727293,30.996882 L -86.728392,30.996739 L -86.74524,30.99629 L -86.785692460564,30.9969741853795 L -86.785918,30.996978 L -86.8099751743913,30.9972062730606 L -86.830497,30.997401 L -86.831934,30.997378 L -86.872989,30.997631 L -86.888135,30.997577 L -86.9062578463152,30.9976350113795 L -86.92781,30.997704 L -86.998477,30.998661 L -87.004359,30.999316 L -87.0241722401182,30.9992628697183 L -87.027107,30.999255 L -87.036366,30.999348 L -87.0364585303448,30.999354282767 L -87.039989,30.999594 L -87.053737,30.999131 L -87.064063,30.999191 L -87.068633,30.999143 L -87.0709929924211,30.9991563407215 L -87.0761079929049,30.9991852551351 L -87.0969117097547,30.9993028557638 L -87.1150729857602,30.9994055190278 L -87.118873,30.999427 L -87.124969,30.998802 L -87.140755,30.999532 L -87.1505897595909,30.9993173890697 L -87.162614,30.999055 L -87.1636472414627,30.9990236362357 L -87.1636528320332,30.9990234665355 L -87.1748002724822,30.9986850890056 L -87.224746,30.997169 L -87.237685,30.996393 L -87.2383167408441,30.9964621097818 L -87.2399697516361,30.9966429421853 L -87.2499289302495,30.9977324342892 L -87.25498,30.998285 L -87.255592,30.998216 L -87.257002,30.998194 L -87.25796,30.998263 L -87.259689,30.998172 L -87.26054,30.998195 L -87.265564,30.998267 L -87.2664842854257,30.9982700753722 L -87.2762740065311,30.9983027902622 L -87.288905,30.998345 L -87.290995,30.998352 L -87.2977209676648,30.9984041688752 L -87.301567,30.998434 L -87.30403,30.998191 L -87.312183,30.998435 L -87.333973,30.998272 L -87.3478772559728,30.9982540449584 L -87.355656,30.998244 L -87.3638727343641,30.9982184302701 L -87.364011,30.998218 L -87.367842,30.998292 L -87.425774,30.99809 L -87.432292,30.998205 L -87.449811,30.998272 L -87.455705,30.998318 L -87.458658,30.998386 L -87.461638,30.998202 L -87.461783,30.998201 L -87.466827,30.998178 L -87.466879,30.998178 L -87.4778008656509,30.9982103214084 L -87.478706,30.998213 L -87.479703,30.998197 L -87.480243,30.998202 L -87.4837736214982,30.9981466275723 L -87.4884222032622,30.9980737216384 L -87.4983756803156,30.9979176164912 L -87.514910818753,30.9976582879967 L -87.51952,30.997586 L -87.548543,30.997927 L -87.571281,30.99787 L -87.598928,30.997457 L -87.609445,30.997395 L -87.615431,30.997361 L -87.61553,31.007724 L -87.615312,31.010195 L -87.615657,31.026656 L -87.615417,31.041002 L -87.615562,31.066152 L -87.615788,31.068838 L -87.615869,31.241045 L -87.61598,31.242412 L -87.61589,31.244458 z\" /></g></svg>"
      ],
      "text/plain": [
       "<POLYGON ((-87.616 31.244, -87.615 31.244, -87.613 31.242, -87.609 31.241, -...>"
      ]
     },
     "execution_count": 138,
     "metadata": {},
     "output_type": "execute_result"
    }
   ],
   "source": [
    "counties[counties.longname == \"Escambia County, Alabama, USA\"].iloc[0].geometry"
   ]
  },
  {
   "cell_type": "code",
   "execution_count": 81,
   "id": "4d690ba4",
   "metadata": {
    "scrolled": true
   },
   "outputs": [],
   "source": [
    "usdact = usda_county_type()"
   ]
  },
  {
   "cell_type": "code",
   "execution_count": 108,
   "id": "033e77e9",
   "metadata": {},
   "outputs": [
    {
     "data": {
      "text/html": [
       "<div>\n",
       "<style scoped>\n",
       "    .dataframe tbody tr th:only-of-type {\n",
       "        vertical-align: middle;\n",
       "    }\n",
       "\n",
       "    .dataframe tbody tr th {\n",
       "        vertical-align: top;\n",
       "    }\n",
       "\n",
       "    .dataframe thead th {\n",
       "        text-align: right;\n",
       "    }\n",
       "</style>\n",
       "<table border=\"1\" class=\"dataframe\">\n",
       "  <thead>\n",
       "    <tr style=\"text-align: right;\">\n",
       "      <th></th>\n",
       "      <th>shortname</th>\n",
       "      <th>longname</th>\n",
       "      <th>geometry</th>\n",
       "    </tr>\n",
       "  </thead>\n",
       "  <tbody>\n",
       "    <tr>\n",
       "      <th>0</th>\n",
       "      <td>Birmingham AL HRR</td>\n",
       "      <td>Birmingham AL HRR, USA</td>\n",
       "      <td>MULTIPOLYGON (((-85.89658 32.70483, -85.90204 ...</td>\n",
       "    </tr>\n",
       "    <tr>\n",
       "      <th>1</th>\n",
       "      <td>Dothan AL HRR</td>\n",
       "      <td>Dothan AL HRR, USA</td>\n",
       "      <td>MULTIPOLYGON (((-86.19400 31.43991, -86.21075 ...</td>\n",
       "    </tr>\n",
       "    <tr>\n",
       "      <th>2</th>\n",
       "      <td>Huntsville AL HRR</td>\n",
       "      <td>Huntsville AL HRR, USA</td>\n",
       "      <td>MULTIPOLYGON (((-86.69474 34.42309, -86.69502 ...</td>\n",
       "    </tr>\n",
       "    <tr>\n",
       "      <th>3</th>\n",
       "      <td>Mobile AL HRR</td>\n",
       "      <td>Mobile AL HRR, USA</td>\n",
       "      <td>MULTIPOLYGON (((-87.55554 30.47282, -87.55223 ...</td>\n",
       "    </tr>\n",
       "    <tr>\n",
       "      <th>4</th>\n",
       "      <td>Montgomery AL HRR</td>\n",
       "      <td>Montgomery AL HRR, USA</td>\n",
       "      <td>POLYGON ((-86.49925 31.52517, -86.48617 31.525...</td>\n",
       "    </tr>\n",
       "    <tr>\n",
       "      <th>...</th>\n",
       "      <td>...</td>\n",
       "      <td>...</td>\n",
       "      <td>...</td>\n",
       "    </tr>\n",
       "    <tr>\n",
       "      <th>301</th>\n",
       "      <td>Neenah WI HRR</td>\n",
       "      <td>Neenah WI HRR, USA</td>\n",
       "      <td>MULTIPOLYGON (((-88.88595 43.63361, -88.80601 ...</td>\n",
       "    </tr>\n",
       "    <tr>\n",
       "      <th>302</th>\n",
       "      <td>Wausau WI HRR</td>\n",
       "      <td>Wausau WI HRR, USA</td>\n",
       "      <td>POLYGON ((-89.30141 45.46939, -89.17856 45.468...</td>\n",
       "    </tr>\n",
       "    <tr>\n",
       "      <th>303</th>\n",
       "      <td>Casper WY HRR</td>\n",
       "      <td>Casper WY HRR, USA</td>\n",
       "      <td>POLYGON ((-107.59447 43.50144, -107.59452 43.6...</td>\n",
       "    </tr>\n",
       "    <tr>\n",
       "      <th>304</th>\n",
       "      <td>Anchorage AK HRR</td>\n",
       "      <td>Anchorage AK HRR, USA</td>\n",
       "      <td>MULTIPOLYGON (((-168.13118 65.63704, -168.1150...</td>\n",
       "    </tr>\n",
       "    <tr>\n",
       "      <th>305</th>\n",
       "      <td>Honolulu HI HRR</td>\n",
       "      <td>Honolulu HI HRR, USA</td>\n",
       "      <td>MULTIPOLYGON (((-156.06417 19.73019, -156.0635...</td>\n",
       "    </tr>\n",
       "  </tbody>\n",
       "</table>\n",
       "<p>306 rows × 3 columns</p>\n",
       "</div>"
      ],
      "text/plain": [
       "             shortname                longname  \\\n",
       "0    Birmingham AL HRR  Birmingham AL HRR, USA   \n",
       "1        Dothan AL HRR      Dothan AL HRR, USA   \n",
       "2    Huntsville AL HRR  Huntsville AL HRR, USA   \n",
       "3        Mobile AL HRR      Mobile AL HRR, USA   \n",
       "4    Montgomery AL HRR  Montgomery AL HRR, USA   \n",
       "..                 ...                     ...   \n",
       "301      Neenah WI HRR      Neenah WI HRR, USA   \n",
       "302      Wausau WI HRR      Wausau WI HRR, USA   \n",
       "303      Casper WY HRR      Casper WY HRR, USA   \n",
       "304   Anchorage AK HRR   Anchorage AK HRR, USA   \n",
       "305    Honolulu HI HRR    Honolulu HI HRR, USA   \n",
       "\n",
       "                                              geometry  \n",
       "0    MULTIPOLYGON (((-85.89658 32.70483, -85.90204 ...  \n",
       "1    MULTIPOLYGON (((-86.19400 31.43991, -86.21075 ...  \n",
       "2    MULTIPOLYGON (((-86.69474 34.42309, -86.69502 ...  \n",
       "3    MULTIPOLYGON (((-87.55554 30.47282, -87.55223 ...  \n",
       "4    POLYGON ((-86.49925 31.52517, -86.48617 31.525...  \n",
       "..                                                 ...  \n",
       "301  MULTIPOLYGON (((-88.88595 43.63361, -88.80601 ...  \n",
       "302  POLYGON ((-89.30141 45.46939, -89.17856 45.468...  \n",
       "303  POLYGON ((-107.59447 43.50144, -107.59452 43.6...  \n",
       "304  MULTIPOLYGON (((-168.13118 65.63704, -168.1150...  \n",
       "305  MULTIPOLYGON (((-156.06417 19.73019, -156.0635...  \n",
       "\n",
       "[306 rows x 3 columns]"
      ]
     },
     "execution_count": 108,
     "metadata": {},
     "output_type": "execute_result"
    }
   ],
   "source": [
    "shapefiles[\"hospital_referral_regions\"].load_file()"
   ]
  },
  {
   "cell_type": "code",
   "execution_count": 118,
   "id": "45a9dc1e",
   "metadata": {},
   "outputs": [],
   "source": [
    "ou = shapefiles[\"hospital_service_areas\"].load_file()"
   ]
  },
  {
   "cell_type": "code",
   "execution_count": 103,
   "id": "d396c450",
   "metadata": {},
   "outputs": [],
   "source": [
    "x = gpd.read_file(\"named_region_shapefiles/HsaBdry_AK_HI_unmodified.geojson\")"
   ]
  },
  {
   "cell_type": "code",
   "execution_count": 104,
   "id": "c3b12724",
   "metadata": {},
   "outputs": [
    {
     "data": {
      "text/html": [
       "<div>\n",
       "<style scoped>\n",
       "    .dataframe tbody tr th:only-of-type {\n",
       "        vertical-align: middle;\n",
       "    }\n",
       "\n",
       "    .dataframe tbody tr th {\n",
       "        vertical-align: top;\n",
       "    }\n",
       "\n",
       "    .dataframe thead th {\n",
       "        text-align: right;\n",
       "    }\n",
       "</style>\n",
       "<table border=\"1\" class=\"dataframe\">\n",
       "  <thead>\n",
       "    <tr style=\"text-align: right;\">\n",
       "      <th></th>\n",
       "      <th>HSA93</th>\n",
       "      <th>HSANAME</th>\n",
       "      <th>STATE</th>\n",
       "      <th>HRR93</th>\n",
       "      <th>HRR93_NAME</th>\n",
       "      <th>Persons90</th>\n",
       "      <th>hosp_cnt</th>\n",
       "      <th>HSA_label</th>\n",
       "      <th>geometry</th>\n",
       "    </tr>\n",
       "  </thead>\n",
       "  <tbody>\n",
       "    <tr>\n",
       "      <th>0</th>\n",
       "      <td>1001</td>\n",
       "      <td>AL- ALABASTER</td>\n",
       "      <td>1</td>\n",
       "      <td>1</td>\n",
       "      <td>AL- BIRMINGHAM</td>\n",
       "      <td>69498</td>\n",
       "      <td>2</td>\n",
       "      <td>Alabaster</td>\n",
       "      <td>POLYGON ((-86.87643 32.98778, -86.87636 32.951...</td>\n",
       "    </tr>\n",
       "    <tr>\n",
       "      <th>1</th>\n",
       "      <td>1002</td>\n",
       "      <td>AL- ALEXANDER CITY</td>\n",
       "      <td>1</td>\n",
       "      <td>1</td>\n",
       "      <td>AL- BIRMINGHAM</td>\n",
       "      <td>21526</td>\n",
       "      <td>1</td>\n",
       "      <td>Alexander City</td>\n",
       "      <td>MULTIPOLYGON (((-86.09265 32.91236, -86.08808 ...</td>\n",
       "    </tr>\n",
       "    <tr>\n",
       "      <th>2</th>\n",
       "      <td>1003</td>\n",
       "      <td>AL- ANDALUSIA</td>\n",
       "      <td>1</td>\n",
       "      <td>134</td>\n",
       "      <td>FL- PENSACOLA</td>\n",
       "      <td>24424</td>\n",
       "      <td>1</td>\n",
       "      <td>Andalusia</td>\n",
       "      <td>POLYGON ((-86.48617 31.52520, -86.49925 31.525...</td>\n",
       "    </tr>\n",
       "    <tr>\n",
       "      <th>3</th>\n",
       "      <td>1004</td>\n",
       "      <td>AL- ANNISTON</td>\n",
       "      <td>1</td>\n",
       "      <td>1</td>\n",
       "      <td>AL- BIRMINGHAM</td>\n",
       "      <td>98679</td>\n",
       "      <td>2</td>\n",
       "      <td>Anniston</td>\n",
       "      <td>POLYGON ((-85.75144 33.61270, -85.75147 33.628...</td>\n",
       "    </tr>\n",
       "    <tr>\n",
       "      <th>4</th>\n",
       "      <td>1006</td>\n",
       "      <td>AL- ASHLAND</td>\n",
       "      <td>1</td>\n",
       "      <td>1</td>\n",
       "      <td>AL- BIRMINGHAM</td>\n",
       "      <td>10522</td>\n",
       "      <td>1</td>\n",
       "      <td>Ashland</td>\n",
       "      <td>POLYGON ((-85.61268 33.24759, -85.61281 33.251...</td>\n",
       "    </tr>\n",
       "    <tr>\n",
       "      <th>...</th>\n",
       "      <td>...</td>\n",
       "      <td>...</td>\n",
       "      <td>...</td>\n",
       "      <td>...</td>\n",
       "      <td>...</td>\n",
       "      <td>...</td>\n",
       "      <td>...</td>\n",
       "      <td>...</td>\n",
       "      <td>...</td>\n",
       "    </tr>\n",
       "    <tr>\n",
       "      <th>3431</th>\n",
       "      <td>53022</td>\n",
       "      <td>WY- SUNDANCE</td>\n",
       "      <td>53</td>\n",
       "      <td>457</td>\n",
       "      <td>WY- CASPER</td>\n",
       "      <td>3647</td>\n",
       "      <td>1</td>\n",
       "      <td>Sundance</td>\n",
       "      <td>POLYGON ((-104.68913 44.50261, -104.71722 44.5...</td>\n",
       "    </tr>\n",
       "    <tr>\n",
       "      <th>3432</th>\n",
       "      <td>53023</td>\n",
       "      <td>WY- THERMOPOLIS</td>\n",
       "      <td>53</td>\n",
       "      <td>457</td>\n",
       "      <td>WY- CASPER</td>\n",
       "      <td>4809</td>\n",
       "      <td>1</td>\n",
       "      <td>Thermopolis</td>\n",
       "      <td>POLYGON ((-109.16059 43.61972, -108.93346 43.6...</td>\n",
       "    </tr>\n",
       "    <tr>\n",
       "      <th>3433</th>\n",
       "      <td>53024</td>\n",
       "      <td>WY- TORRINGTON</td>\n",
       "      <td>53</td>\n",
       "      <td>457</td>\n",
       "      <td>WY- CASPER</td>\n",
       "      <td>11561</td>\n",
       "      <td>1</td>\n",
       "      <td>Torrington</td>\n",
       "      <td>POLYGON ((-104.05248 41.78289, -104.05238 41.8...</td>\n",
       "    </tr>\n",
       "    <tr>\n",
       "      <th>3434</th>\n",
       "      <td>53025</td>\n",
       "      <td>WY- WHEATLAND</td>\n",
       "      <td>53</td>\n",
       "      <td>457</td>\n",
       "      <td>WY- CASPER</td>\n",
       "      <td>8145</td>\n",
       "      <td>1</td>\n",
       "      <td>Wheatland</td>\n",
       "      <td>POLYGON ((-104.65282 41.81219, -104.65331 41.9...</td>\n",
       "    </tr>\n",
       "    <tr>\n",
       "      <th>3435</th>\n",
       "      <td>53026</td>\n",
       "      <td>WY- WORLAND</td>\n",
       "      <td>53</td>\n",
       "      <td>274</td>\n",
       "      <td>MT- BILLINGS</td>\n",
       "      <td>11077</td>\n",
       "      <td>1</td>\n",
       "      <td>Worland</td>\n",
       "      <td>POLYGON ((-108.20430 44.40331, -108.20746 44.4...</td>\n",
       "    </tr>\n",
       "  </tbody>\n",
       "</table>\n",
       "<p>3436 rows × 9 columns</p>\n",
       "</div>"
      ],
      "text/plain": [
       "      HSA93             HSANAME  STATE  HRR93      HRR93_NAME  Persons90  \\\n",
       "0      1001       AL- ALABASTER      1      1  AL- BIRMINGHAM      69498   \n",
       "1      1002  AL- ALEXANDER CITY      1      1  AL- BIRMINGHAM      21526   \n",
       "2      1003       AL- ANDALUSIA      1    134   FL- PENSACOLA      24424   \n",
       "3      1004        AL- ANNISTON      1      1  AL- BIRMINGHAM      98679   \n",
       "4      1006         AL- ASHLAND      1      1  AL- BIRMINGHAM      10522   \n",
       "...     ...                 ...    ...    ...             ...        ...   \n",
       "3431  53022        WY- SUNDANCE     53    457      WY- CASPER       3647   \n",
       "3432  53023     WY- THERMOPOLIS     53    457      WY- CASPER       4809   \n",
       "3433  53024      WY- TORRINGTON     53    457      WY- CASPER      11561   \n",
       "3434  53025       WY- WHEATLAND     53    457      WY- CASPER       8145   \n",
       "3435  53026         WY- WORLAND     53    274    MT- BILLINGS      11077   \n",
       "\n",
       "      hosp_cnt        HSA_label  \\\n",
       "0            2        Alabaster   \n",
       "1            1   Alexander City   \n",
       "2            1        Andalusia   \n",
       "3            2         Anniston   \n",
       "4            1          Ashland   \n",
       "...        ...              ...   \n",
       "3431         1         Sundance   \n",
       "3432         1      Thermopolis   \n",
       "3433         1       Torrington   \n",
       "3434         1        Wheatland   \n",
       "3435         1          Worland   \n",
       "\n",
       "                                               geometry  \n",
       "0     POLYGON ((-86.87643 32.98778, -86.87636 32.951...  \n",
       "1     MULTIPOLYGON (((-86.09265 32.91236, -86.08808 ...  \n",
       "2     POLYGON ((-86.48617 31.52520, -86.49925 31.525...  \n",
       "3     POLYGON ((-85.75144 33.61270, -85.75147 33.628...  \n",
       "4     POLYGON ((-85.61268 33.24759, -85.61281 33.251...  \n",
       "...                                                 ...  \n",
       "3431  POLYGON ((-104.68913 44.50261, -104.71722 44.5...  \n",
       "3432  POLYGON ((-109.16059 43.61972, -108.93346 43.6...  \n",
       "3433  POLYGON ((-104.05248 41.78289, -104.05238 41.8...  \n",
       "3434  POLYGON ((-104.65282 41.81219, -104.65331 41.9...  \n",
       "3435  POLYGON ((-108.20430 44.40331, -108.20746 44.4...  \n",
       "\n",
       "[3436 rows x 9 columns]"
      ]
     },
     "execution_count": 104,
     "metadata": {},
     "output_type": "execute_result"
    }
   ],
   "source": [
    "x"
   ]
  },
  {
   "cell_type": "code",
   "execution_count": 89,
   "id": "7e52ca8d",
   "metadata": {},
   "outputs": [
    {
     "data": {
      "text/html": [
       "<div>\n",
       "<style scoped>\n",
       "    .dataframe tbody tr th:only-of-type {\n",
       "        vertical-align: middle;\n",
       "    }\n",
       "\n",
       "    .dataframe tbody tr th {\n",
       "        vertical-align: top;\n",
       "    }\n",
       "\n",
       "    .dataframe thead th {\n",
       "        text-align: right;\n",
       "    }\n",
       "</style>\n",
       "<table border=\"1\" class=\"dataframe\">\n",
       "  <thead>\n",
       "    <tr style=\"text-align: right;\">\n",
       "      <th></th>\n",
       "      <th>shortname</th>\n",
       "      <th>longname</th>\n",
       "      <th>geometry</th>\n",
       "    </tr>\n",
       "    <tr>\n",
       "      <th>GEOID</th>\n",
       "      <th></th>\n",
       "      <th></th>\n",
       "      <th></th>\n",
       "    </tr>\n",
       "  </thead>\n",
       "  <tbody>\n",
       "    <tr>\n",
       "      <th>Farming</th>\n",
       "      <td>Farming [USDA County Type]</td>\n",
       "      <td>Farming [USDA County Type], USA</td>\n",
       "      <td>MULTIPOLYGON (((-103.04394 34.37966, -103.0439...</td>\n",
       "    </tr>\n",
       "    <tr>\n",
       "      <th>Federal/State Government</th>\n",
       "      <td>Federal/State Government [USDA County Type]</td>\n",
       "      <td>Federal/State Government [USDA County Type], USA</td>\n",
       "      <td>MULTIPOLYGON (((-156.04638 19.77737, -156.0460...</td>\n",
       "    </tr>\n",
       "    <tr>\n",
       "      <th>Maufacturing</th>\n",
       "      <td>Maufacturing [USDA County Type]</td>\n",
       "      <td>Maufacturing [USDA County Type], USA</td>\n",
       "      <td>MULTIPOLYGON (((-179.13001 51.29042, -179.1282...</td>\n",
       "    </tr>\n",
       "    <tr>\n",
       "      <th>Mining</th>\n",
       "      <td>Mining [USDA County Type]</td>\n",
       "      <td>Mining [USDA County Type], USA</td>\n",
       "      <td>MULTIPOLYGON (((-118.09145 38.12493, -118.0786...</td>\n",
       "    </tr>\n",
       "    <tr>\n",
       "      <th>Nonspecialized</th>\n",
       "      <td>Nonspecialized [USDA County Type]</td>\n",
       "      <td>Nonspecialized [USDA County Type], USA</td>\n",
       "      <td>MULTIPOLYGON (((-122.50102 37.60494, -122.5019...</td>\n",
       "    </tr>\n",
       "    <tr>\n",
       "      <th>Recreation</th>\n",
       "      <td>Recreation [USDA County Type]</td>\n",
       "      <td>Recreation [USDA County Type], USA</td>\n",
       "      <td>MULTIPOLYGON (((-156.67335 20.55665, -156.6656...</td>\n",
       "    </tr>\n",
       "  </tbody>\n",
       "</table>\n",
       "</div>"
      ],
      "text/plain": [
       "                                                            shortname  \\\n",
       "GEOID                                                                   \n",
       "Farming                                    Farming [USDA County Type]   \n",
       "Federal/State Government  Federal/State Government [USDA County Type]   \n",
       "Maufacturing                          Maufacturing [USDA County Type]   \n",
       "Mining                                      Mining [USDA County Type]   \n",
       "Nonspecialized                      Nonspecialized [USDA County Type]   \n",
       "Recreation                              Recreation [USDA County Type]   \n",
       "\n",
       "                                                                  longname  \\\n",
       "GEOID                                                                        \n",
       "Farming                                    Farming [USDA County Type], USA   \n",
       "Federal/State Government  Federal/State Government [USDA County Type], USA   \n",
       "Maufacturing                          Maufacturing [USDA County Type], USA   \n",
       "Mining                                      Mining [USDA County Type], USA   \n",
       "Nonspecialized                      Nonspecialized [USDA County Type], USA   \n",
       "Recreation                              Recreation [USDA County Type], USA   \n",
       "\n",
       "                                                                   geometry  \n",
       "GEOID                                                                        \n",
       "Farming                   MULTIPOLYGON (((-103.04394 34.37966, -103.0439...  \n",
       "Federal/State Government  MULTIPOLYGON (((-156.04638 19.77737, -156.0460...  \n",
       "Maufacturing              MULTIPOLYGON (((-179.13001 51.29042, -179.1282...  \n",
       "Mining                    MULTIPOLYGON (((-118.09145 38.12493, -118.0786...  \n",
       "Nonspecialized            MULTIPOLYGON (((-122.50102 37.60494, -122.5019...  \n",
       "Recreation                MULTIPOLYGON (((-156.67335 20.55665, -156.6656...  "
      ]
     },
     "execution_count": 89,
     "metadata": {},
     "output_type": "execute_result"
    }
   ],
   "source": [
    "shapefiles[\"usda_county_type\"].load_file()"
   ]
  },
  {
   "cell_type": "code",
   "execution_count": 82,
   "id": "92364e02",
   "metadata": {},
   "outputs": [
    {
     "data": {
      "text/html": [
       "<div>\n",
       "<style scoped>\n",
       "    .dataframe tbody tr th:only-of-type {\n",
       "        vertical-align: middle;\n",
       "    }\n",
       "\n",
       "    .dataframe tbody tr th {\n",
       "        vertical-align: top;\n",
       "    }\n",
       "\n",
       "    .dataframe thead th {\n",
       "        text-align: right;\n",
       "    }\n",
       "</style>\n",
       "<table border=\"1\" class=\"dataframe\">\n",
       "  <thead>\n",
       "    <tr style=\"text-align: right;\">\n",
       "      <th></th>\n",
       "      <th>geometry</th>\n",
       "      <th>STATEFP</th>\n",
       "      <th>COUNTYFP</th>\n",
       "      <th>COUNTYNS</th>\n",
       "      <th>AFFGEOID</th>\n",
       "      <th>GEOID</th>\n",
       "      <th>NAME</th>\n",
       "      <th>LSAD</th>\n",
       "      <th>ALAND</th>\n",
       "      <th>AWATER</th>\n",
       "    </tr>\n",
       "    <tr>\n",
       "      <th>GEOID</th>\n",
       "      <th></th>\n",
       "      <th></th>\n",
       "      <th></th>\n",
       "      <th></th>\n",
       "      <th></th>\n",
       "      <th></th>\n",
       "      <th></th>\n",
       "      <th></th>\n",
       "      <th></th>\n",
       "      <th></th>\n",
       "    </tr>\n",
       "  </thead>\n",
       "  <tbody>\n",
       "    <tr>\n",
       "      <th>Farming</th>\n",
       "      <td>MULTIPOLYGON (((-103.04394 34.37966, -103.0439...</td>\n",
       "      <td>13</td>\n",
       "      <td>027</td>\n",
       "      <td>00345518</td>\n",
       "      <td>0500000US13027</td>\n",
       "      <td>13027</td>\n",
       "      <td>Brooks</td>\n",
       "      <td>06</td>\n",
       "      <td>1277108508</td>\n",
       "      <td>12188514</td>\n",
       "    </tr>\n",
       "    <tr>\n",
       "      <th>Federal/State Government</th>\n",
       "      <td>MULTIPOLYGON (((-156.04637 19.77737, -156.0460...</td>\n",
       "      <td>01</td>\n",
       "      <td>109</td>\n",
       "      <td>00161581</td>\n",
       "      <td>0500000US01109</td>\n",
       "      <td>01109</td>\n",
       "      <td>Pike</td>\n",
       "      <td>06</td>\n",
       "      <td>1740741211</td>\n",
       "      <td>2336975</td>\n",
       "    </tr>\n",
       "    <tr>\n",
       "      <th>Maufacturing</th>\n",
       "      <td>MULTIPOLYGON (((-179.13001 51.29042, -179.1282...</td>\n",
       "      <td>01</td>\n",
       "      <td>005</td>\n",
       "      <td>00161528</td>\n",
       "      <td>0500000US01005</td>\n",
       "      <td>01005</td>\n",
       "      <td>Barbour</td>\n",
       "      <td>06</td>\n",
       "      <td>2291820706</td>\n",
       "      <td>50864677</td>\n",
       "    </tr>\n",
       "    <tr>\n",
       "      <th>Mining</th>\n",
       "      <td>MULTIPOLYGON (((-118.09145 38.12493, -118.0786...</td>\n",
       "      <td>05</td>\n",
       "      <td>139</td>\n",
       "      <td>00069903</td>\n",
       "      <td>0500000US05139</td>\n",
       "      <td>05139</td>\n",
       "      <td>Union</td>\n",
       "      <td>06</td>\n",
       "      <td>2691561515</td>\n",
       "      <td>41401587</td>\n",
       "    </tr>\n",
       "    <tr>\n",
       "      <th>Nonspecialized</th>\n",
       "      <td>MULTIPOLYGON (((-122.50102 37.60494, -122.5019...</td>\n",
       "      <td>01</td>\n",
       "      <td>035</td>\n",
       "      <td>00161543</td>\n",
       "      <td>0500000US01035</td>\n",
       "      <td>01035</td>\n",
       "      <td>Conecuh</td>\n",
       "      <td>06</td>\n",
       "      <td>2201896058</td>\n",
       "      <td>6643480</td>\n",
       "    </tr>\n",
       "    <tr>\n",
       "      <th>Recreation</th>\n",
       "      <td>MULTIPOLYGON (((-156.67334 20.55666, -156.6656...</td>\n",
       "      <td>04</td>\n",
       "      <td>015</td>\n",
       "      <td>00025445</td>\n",
       "      <td>0500000US04015</td>\n",
       "      <td>04015</td>\n",
       "      <td>Mohave</td>\n",
       "      <td>06</td>\n",
       "      <td>34475714657</td>\n",
       "      <td>387347771</td>\n",
       "    </tr>\n",
       "  </tbody>\n",
       "</table>\n",
       "</div>"
      ],
      "text/plain": [
       "                                                                   geometry  \\\n",
       "GEOID                                                                         \n",
       "Farming                   MULTIPOLYGON (((-103.04394 34.37966, -103.0439...   \n",
       "Federal/State Government  MULTIPOLYGON (((-156.04637 19.77737, -156.0460...   \n",
       "Maufacturing              MULTIPOLYGON (((-179.13001 51.29042, -179.1282...   \n",
       "Mining                    MULTIPOLYGON (((-118.09145 38.12493, -118.0786...   \n",
       "Nonspecialized            MULTIPOLYGON (((-122.50102 37.60494, -122.5019...   \n",
       "Recreation                MULTIPOLYGON (((-156.67334 20.55666, -156.6656...   \n",
       "\n",
       "                         STATEFP COUNTYFP  COUNTYNS        AFFGEOID  GEOID  \\\n",
       "GEOID                                                                        \n",
       "Farming                       13      027  00345518  0500000US13027  13027   \n",
       "Federal/State Government      01      109  00161581  0500000US01109  01109   \n",
       "Maufacturing                  01      005  00161528  0500000US01005  01005   \n",
       "Mining                        05      139  00069903  0500000US05139  05139   \n",
       "Nonspecialized                01      035  00161543  0500000US01035  01035   \n",
       "Recreation                    04      015  00025445  0500000US04015  04015   \n",
       "\n",
       "                             NAME LSAD        ALAND     AWATER  \n",
       "GEOID                                                           \n",
       "Farming                    Brooks   06   1277108508   12188514  \n",
       "Federal/State Government     Pike   06   1740741211    2336975  \n",
       "Maufacturing              Barbour   06   2291820706   50864677  \n",
       "Mining                      Union   06   2691561515   41401587  \n",
       "Nonspecialized            Conecuh   06   2201896058    6643480  \n",
       "Recreation                 Mohave   06  34475714657  387347771  "
      ]
     },
     "execution_count": 82,
     "metadata": {},
     "output_type": "execute_result"
    }
   ],
   "source": [
    "usdact"
   ]
  },
  {
   "cell_type": "code",
   "execution_count": 76,
   "id": "db61d6a9",
   "metadata": {
    "scrolled": true
   },
   "outputs": [
    {
     "data": {
      "text/html": [
       "<div>\n",
       "<style scoped>\n",
       "    .dataframe tbody tr th:only-of-type {\n",
       "        vertical-align: middle;\n",
       "    }\n",
       "\n",
       "    .dataframe tbody tr th {\n",
       "        vertical-align: top;\n",
       "    }\n",
       "\n",
       "    .dataframe thead th {\n",
       "        text-align: right;\n",
       "    }\n",
       "</style>\n",
       "<table border=\"1\" class=\"dataframe\">\n",
       "  <thead>\n",
       "    <tr style=\"text-align: right;\">\n",
       "      <th></th>\n",
       "      <th>geometry</th>\n",
       "      <th>STATEFP</th>\n",
       "      <th>COUNTYFP</th>\n",
       "      <th>COUNTYNS</th>\n",
       "      <th>AFFGEOID</th>\n",
       "      <th>GEOID</th>\n",
       "      <th>NAME</th>\n",
       "      <th>LSAD</th>\n",
       "      <th>ALAND</th>\n",
       "      <th>AWATER</th>\n",
       "    </tr>\n",
       "    <tr>\n",
       "      <th>GEOID</th>\n",
       "      <th></th>\n",
       "      <th></th>\n",
       "      <th></th>\n",
       "      <th></th>\n",
       "      <th></th>\n",
       "      <th></th>\n",
       "      <th></th>\n",
       "      <th></th>\n",
       "      <th></th>\n",
       "      <th></th>\n",
       "    </tr>\n",
       "  </thead>\n",
       "  <tbody>\n",
       "    <tr>\n",
       "      <th>Farming</th>\n",
       "      <td>MULTIPOLYGON (((-103.04394 34.37966, -103.0439...</td>\n",
       "      <td>13</td>\n",
       "      <td>027</td>\n",
       "      <td>00345518</td>\n",
       "      <td>0500000US13027</td>\n",
       "      <td>13027</td>\n",
       "      <td>Brooks</td>\n",
       "      <td>06</td>\n",
       "      <td>1277108508</td>\n",
       "      <td>12188514</td>\n",
       "    </tr>\n",
       "    <tr>\n",
       "      <th>Federal/State Government</th>\n",
       "      <td>MULTIPOLYGON (((-156.04637 19.77737, -156.0460...</td>\n",
       "      <td>01</td>\n",
       "      <td>109</td>\n",
       "      <td>00161581</td>\n",
       "      <td>0500000US01109</td>\n",
       "      <td>01109</td>\n",
       "      <td>Pike</td>\n",
       "      <td>06</td>\n",
       "      <td>1740741211</td>\n",
       "      <td>2336975</td>\n",
       "    </tr>\n",
       "    <tr>\n",
       "      <th>Maufacturing</th>\n",
       "      <td>MULTIPOLYGON (((-179.13001 51.29042, -179.1282...</td>\n",
       "      <td>01</td>\n",
       "      <td>005</td>\n",
       "      <td>00161528</td>\n",
       "      <td>0500000US01005</td>\n",
       "      <td>01005</td>\n",
       "      <td>Barbour</td>\n",
       "      <td>06</td>\n",
       "      <td>2291820706</td>\n",
       "      <td>50864677</td>\n",
       "    </tr>\n",
       "    <tr>\n",
       "      <th>Mining</th>\n",
       "      <td>MULTIPOLYGON (((-118.09145 38.12493, -118.0786...</td>\n",
       "      <td>05</td>\n",
       "      <td>139</td>\n",
       "      <td>00069903</td>\n",
       "      <td>0500000US05139</td>\n",
       "      <td>05139</td>\n",
       "      <td>Union</td>\n",
       "      <td>06</td>\n",
       "      <td>2691561515</td>\n",
       "      <td>41401587</td>\n",
       "    </tr>\n",
       "    <tr>\n",
       "      <th>Nonspecialized</th>\n",
       "      <td>MULTIPOLYGON (((-122.50102 37.60494, -122.5019...</td>\n",
       "      <td>01</td>\n",
       "      <td>035</td>\n",
       "      <td>00161543</td>\n",
       "      <td>0500000US01035</td>\n",
       "      <td>01035</td>\n",
       "      <td>Conecuh</td>\n",
       "      <td>06</td>\n",
       "      <td>2201896058</td>\n",
       "      <td>6643480</td>\n",
       "    </tr>\n",
       "    <tr>\n",
       "      <th>Recreation</th>\n",
       "      <td>MULTIPOLYGON (((-156.67334 20.55666, -156.6656...</td>\n",
       "      <td>04</td>\n",
       "      <td>015</td>\n",
       "      <td>00025445</td>\n",
       "      <td>0500000US04015</td>\n",
       "      <td>04015</td>\n",
       "      <td>Mohave</td>\n",
       "      <td>06</td>\n",
       "      <td>34475714657</td>\n",
       "      <td>387347771</td>\n",
       "    </tr>\n",
       "  </tbody>\n",
       "</table>\n",
       "</div>"
      ],
      "text/plain": [
       "                                                                   geometry  \\\n",
       "GEOID                                                                         \n",
       "Farming                   MULTIPOLYGON (((-103.04394 34.37966, -103.0439...   \n",
       "Federal/State Government  MULTIPOLYGON (((-156.04637 19.77737, -156.0460...   \n",
       "Maufacturing              MULTIPOLYGON (((-179.13001 51.29042, -179.1282...   \n",
       "Mining                    MULTIPOLYGON (((-118.09145 38.12493, -118.0786...   \n",
       "Nonspecialized            MULTIPOLYGON (((-122.50102 37.60494, -122.5019...   \n",
       "Recreation                MULTIPOLYGON (((-156.67334 20.55666, -156.6656...   \n",
       "\n",
       "                         STATEFP COUNTYFP  COUNTYNS        AFFGEOID  GEOID  \\\n",
       "GEOID                                                                        \n",
       "Farming                       13      027  00345518  0500000US13027  13027   \n",
       "Federal/State Government      01      109  00161581  0500000US01109  01109   \n",
       "Maufacturing                  01      005  00161528  0500000US01005  01005   \n",
       "Mining                        05      139  00069903  0500000US05139  05139   \n",
       "Nonspecialized                01      035  00161543  0500000US01035  01035   \n",
       "Recreation                    04      015  00025445  0500000US04015  04015   \n",
       "\n",
       "                             NAME LSAD        ALAND     AWATER  \n",
       "GEOID                                                           \n",
       "Farming                    Brooks   06   1277108508   12188514  \n",
       "Federal/State Government     Pike   06   1740741211    2336975  \n",
       "Maufacturing              Barbour   06   2291820706   50864677  \n",
       "Mining                      Union   06   2691561515   41401587  \n",
       "Nonspecialized            Conecuh   06   2201896058    6643480  \n",
       "Recreation                 Mohave   06  34475714657  387347771  "
      ]
     },
     "execution_count": 76,
     "metadata": {},
     "output_type": "execute_result"
    }
   ],
   "source": []
  },
  {
   "cell_type": "code",
   "execution_count": 28,
   "id": "b9fc18e2",
   "metadata": {},
   "outputs": [
    {
     "data": {
      "text/html": [
       "<div>\n",
       "<style scoped>\n",
       "    .dataframe tbody tr th:only-of-type {\n",
       "        vertical-align: middle;\n",
       "    }\n",
       "\n",
       "    .dataframe tbody tr th {\n",
       "        vertical-align: top;\n",
       "    }\n",
       "\n",
       "    .dataframe thead th {\n",
       "        text-align: right;\n",
       "    }\n",
       "</style>\n",
       "<table border=\"1\" class=\"dataframe\">\n",
       "  <thead>\n",
       "    <tr style=\"text-align: right;\">\n",
       "      <th></th>\n",
       "      <th>shortname_left</th>\n",
       "      <th>longname_left</th>\n",
       "      <th>geometry</th>\n",
       "      <th>index_right</th>\n",
       "      <th>shortname_right</th>\n",
       "      <th>longname_right</th>\n",
       "    </tr>\n",
       "  </thead>\n",
       "  <tbody>\n",
       "    <tr>\n",
       "      <th>0</th>\n",
       "      <td>AL-01</td>\n",
       "      <td>AL-01, USA</td>\n",
       "      <td>POLYGON ((-88.46443 31.69795, -88.46418 31.697...</td>\n",
       "      <td>2106</td>\n",
       "      <td>Jackson County</td>\n",
       "      <td>Jackson County, Mississippi, USA</td>\n",
       "    </tr>\n",
       "    <tr>\n",
       "      <th>1</th>\n",
       "      <td>MS-04</td>\n",
       "      <td>MS-04, USA</td>\n",
       "      <td>POLYGON ((-89.85231 30.66241, -89.85225 30.662...</td>\n",
       "      <td>2106</td>\n",
       "      <td>Jackson County</td>\n",
       "      <td>Jackson County, Mississippi, USA</td>\n",
       "    </tr>\n",
       "    <tr>\n",
       "      <th>2</th>\n",
       "      <td>AL-01</td>\n",
       "      <td>AL-01, USA</td>\n",
       "      <td>POLYGON ((-88.46443 31.69795, -88.46418 31.697...</td>\n",
       "      <td>1488</td>\n",
       "      <td>George County</td>\n",
       "      <td>George County, Mississippi, USA</td>\n",
       "    </tr>\n",
       "    <tr>\n",
       "      <th>3</th>\n",
       "      <td>MS-04</td>\n",
       "      <td>MS-04, USA</td>\n",
       "      <td>POLYGON ((-89.85231 30.66241, -89.85225 30.662...</td>\n",
       "      <td>1488</td>\n",
       "      <td>George County</td>\n",
       "      <td>George County, Mississippi, USA</td>\n",
       "    </tr>\n",
       "    <tr>\n",
       "      <th>4</th>\n",
       "      <td>AL-01</td>\n",
       "      <td>AL-01, USA</td>\n",
       "      <td>POLYGON ((-88.46443 31.69795, -88.46418 31.697...</td>\n",
       "      <td>22</td>\n",
       "      <td>Escambia County</td>\n",
       "      <td>Escambia County, Florida, USA</td>\n",
       "    </tr>\n",
       "    <tr>\n",
       "      <th>...</th>\n",
       "      <td>...</td>\n",
       "      <td>...</td>\n",
       "      <td>...</td>\n",
       "      <td>...</td>\n",
       "      <td>...</td>\n",
       "      <td>...</td>\n",
       "    </tr>\n",
       "    <tr>\n",
       "      <th>7614</th>\n",
       "      <td>WY-00</td>\n",
       "      <td>WY-00, USA</td>\n",
       "      <td>POLYGON ((-111.05456 44.99974, -111.05456 45.0...</td>\n",
       "      <td>1327</td>\n",
       "      <td>Sublette County</td>\n",
       "      <td>Sublette County, Wyoming, USA</td>\n",
       "    </tr>\n",
       "    <tr>\n",
       "      <th>7615</th>\n",
       "      <td>WY-00</td>\n",
       "      <td>WY-00, USA</td>\n",
       "      <td>POLYGON ((-111.05456 44.99974, -111.05456 45.0...</td>\n",
       "      <td>972</td>\n",
       "      <td>Fremont County</td>\n",
       "      <td>Fremont County, Wyoming, USA</td>\n",
       "    </tr>\n",
       "    <tr>\n",
       "      <th>7616</th>\n",
       "      <td>WY-00</td>\n",
       "      <td>WY-00, USA</td>\n",
       "      <td>POLYGON ((-111.05456 44.99974, -111.05456 45.0...</td>\n",
       "      <td>2268</td>\n",
       "      <td>Hot Springs County</td>\n",
       "      <td>Hot Springs County, Wyoming, USA</td>\n",
       "    </tr>\n",
       "    <tr>\n",
       "      <th>7617</th>\n",
       "      <td>WY-00</td>\n",
       "      <td>WY-00, USA</td>\n",
       "      <td>POLYGON ((-111.05456 44.99974, -111.05456 45.0...</td>\n",
       "      <td>2267</td>\n",
       "      <td>Johnson County</td>\n",
       "      <td>Johnson County, Wyoming, USA</td>\n",
       "    </tr>\n",
       "    <tr>\n",
       "      <th>7618</th>\n",
       "      <td>WY-00</td>\n",
       "      <td>WY-00, USA</td>\n",
       "      <td>POLYGON ((-111.05456 44.99974, -111.05456 45.0...</td>\n",
       "      <td>2260</td>\n",
       "      <td>Washakie County</td>\n",
       "      <td>Washakie County, Wyoming, USA</td>\n",
       "    </tr>\n",
       "  </tbody>\n",
       "</table>\n",
       "<p>7619 rows × 6 columns</p>\n",
       "</div>"
      ],
      "text/plain": [
       "     shortname_left longname_left  \\\n",
       "0             AL-01    AL-01, USA   \n",
       "1             MS-04    MS-04, USA   \n",
       "2             AL-01    AL-01, USA   \n",
       "3             MS-04    MS-04, USA   \n",
       "4             AL-01    AL-01, USA   \n",
       "...             ...           ...   \n",
       "7614          WY-00    WY-00, USA   \n",
       "7615          WY-00    WY-00, USA   \n",
       "7616          WY-00    WY-00, USA   \n",
       "7617          WY-00    WY-00, USA   \n",
       "7618          WY-00    WY-00, USA   \n",
       "\n",
       "                                               geometry  index_right  \\\n",
       "0     POLYGON ((-88.46443 31.69795, -88.46418 31.697...         2106   \n",
       "1     POLYGON ((-89.85231 30.66241, -89.85225 30.662...         2106   \n",
       "2     POLYGON ((-88.46443 31.69795, -88.46418 31.697...         1488   \n",
       "3     POLYGON ((-89.85231 30.66241, -89.85225 30.662...         1488   \n",
       "4     POLYGON ((-88.46443 31.69795, -88.46418 31.697...           22   \n",
       "...                                                 ...          ...   \n",
       "7614  POLYGON ((-111.05456 44.99974, -111.05456 45.0...         1327   \n",
       "7615  POLYGON ((-111.05456 44.99974, -111.05456 45.0...          972   \n",
       "7616  POLYGON ((-111.05456 44.99974, -111.05456 45.0...         2268   \n",
       "7617  POLYGON ((-111.05456 44.99974, -111.05456 45.0...         2267   \n",
       "7618  POLYGON ((-111.05456 44.99974, -111.05456 45.0...         2260   \n",
       "\n",
       "         shortname_right                    longname_right  \n",
       "0         Jackson County  Jackson County, Mississippi, USA  \n",
       "1         Jackson County  Jackson County, Mississippi, USA  \n",
       "2          George County   George County, Mississippi, USA  \n",
       "3          George County   George County, Mississippi, USA  \n",
       "4        Escambia County     Escambia County, Florida, USA  \n",
       "...                  ...                               ...  \n",
       "7614     Sublette County     Sublette County, Wyoming, USA  \n",
       "7615      Fremont County      Fremont County, Wyoming, USA  \n",
       "7616  Hot Springs County  Hot Springs County, Wyoming, USA  \n",
       "7617      Johnson County      Johnson County, Wyoming, USA  \n",
       "7618     Washakie County     Washakie County, Wyoming, USA  \n",
       "\n",
       "[7619 rows x 6 columns]"
      ]
     },
     "execution_count": 28,
     "metadata": {},
     "output_type": "execute_result"
    }
   ],
   "source": [
    "joined"
   ]
  },
  {
   "cell_type": "code",
   "execution_count": 19,
   "id": "f45f8b01",
   "metadata": {},
   "outputs": [
    {
     "data": {
      "text/plain": [
       "0      2106\n",
       "224    2106\n",
       "0      1488\n",
       "224    1488\n",
       "0        22\n",
       "       ... \n",
       "437    1327\n",
       "437     972\n",
       "437    2268\n",
       "437    2267\n",
       "437    2260\n",
       "Name: index_right, Length: 7619, dtype: int64"
      ]
     },
     "execution_count": 19,
     "metadata": {},
     "output_type": "execute_result"
    }
   ],
   "source": [
    "joined.index_right"
   ]
  },
  {
   "cell_type": "code",
   "execution_count": 3,
   "id": "816b14fa",
   "metadata": {},
   "outputs": [],
   "source": [
    "area = load_full_landarea()"
   ]
  },
  {
   "cell_type": "code",
   "execution_count": 4,
   "id": "8ec1d70c",
   "metadata": {},
   "outputs": [],
   "source": [
    "pop = load_full()"
   ]
  },
  {
   "cell_type": "code",
   "execution_count": 5,
   "id": "cbfd02e3",
   "metadata": {},
   "outputs": [
    {
     "name": "stderr",
     "output_type": "stream",
     "text": [
      "/home/kavi/anaconda3/lib/python3.7/site-packages/ipykernel_launcher.py:1: RuntimeWarning: divide by zero encountered in true_divide\n",
      "  \"\"\"Entry point for launching an IPython kernel.\n",
      "/home/kavi/anaconda3/lib/python3.7/site-packages/ipykernel_launcher.py:1: RuntimeWarning: invalid value encountered in true_divide\n",
      "  \"\"\"Entry point for launching an IPython kernel.\n"
     ]
    }
   ],
   "source": [
    "dens = np.nan_to_num(pop / area, 0)         "
   ]
  },
  {
   "cell_type": "code",
   "execution_count": 6,
   "id": "f61640ac",
   "metadata": {},
   "outputs": [],
   "source": [
    "pct_land = np.nan_to_num(area / grid_area_km(lat_from_row_idx(np.arange(area.shape[0]))[:,None]), 0)"
   ]
  },
  {
   "cell_type": "code",
   "execution_count": 7,
   "id": "7b00ea35",
   "metadata": {},
   "outputs": [
    {
     "data": {
      "text/plain": [
       "(21600, 43200)"
      ]
     },
     "execution_count": 7,
     "metadata": {},
     "output_type": "execute_result"
    }
   ],
   "source": [
    "dens.shape"
   ]
  },
  {
   "cell_type": "code",
   "execution_count": 281,
   "id": "5e457c27",
   "metadata": {},
   "outputs": [],
   "source": [
    "# usa\n",
    "rs, re = row_idx_from_lat(50), row_idx_from_lat(20)\n",
    "cs, ce = col_idx_from_lon(-125), col_idx_from_lon(-65)\n",
    "# europe\n",
    "# rs, re = row_idx_from_lat(64), row_idx_from_lat(32)\n",
    "# cs, ce = col_idx_from_lon(-12), col_idx_from_lon(45)\n",
    "# nyc\n",
    "# rs, re = row_idx_from_lat(42), row_idx_from_lat(39)\n",
    "# cs, ce = col_idx_from_lon(-75), col_idx_from_lon(-71)\n",
    "# india\n",
    "# rs, re = row_idx_from_lat(39), row_idx_from_lat(3)\n",
    "# cs, ce = col_idx_from_lon(66), col_idx_from_lon(97)\n",
    "# bhagalpur\n",
    "# rs, re = int(row_idx_from_lat(25.3)), int(row_idx_from_lat(25.1))\n",
    "# cs, ce = int(col_idx_from_lon(86.9)), int(col_idx_from_lon(87.2))\n",
    "# dfw\n",
    "# rs, re = row_idx_from_lat(34), row_idx_from_lat(32)\n",
    "# cs, ce = col_idx_from_lon(-98), col_idx_from_lon(-95)\n",
    "# world\n",
    "# rs, re = 0, dens.shape[0]\n",
    "# cs, ce = 0, dens.shape[1]\n",
    "# australia\n",
    "# rs, re = row_idx_from_lat(-9), row_idx_from_lat(-44)\n",
    "# cs, ce = col_idx_from_lon(111), col_idx_from_lon(155)\n",
    "# indonesia\n",
    "# rs, re = row_idx_from_lat(6), row_idx_from_lat(-10)\n",
    "# cs, ce = col_idx_from_lon(93), col_idx_from_lon(143)\n",
    "# bucharest\n",
    "# rs, re = row_idx_from_lat(45), row_idx_from_lat(43)\n",
    "# cs, ce = col_idx_from_lon(25), col_idx_from_lon(28)\n",
    "# bangalore\n",
    "# rs, re = row_idx_from_lat(14), row_idx_from_lat(12)\n",
    "# cs, ce = col_idx_from_lon(77), col_idx_from_lon(78)\n",
    "\n",
    "\n",
    "latitudes = lat_from_row_idx(np.arange(rs, re))\n",
    "longitudes = lon_from_col_idx(np.arange(cs, ce))"
   ]
  },
  {
   "cell_type": "code",
   "execution_count": 282,
   "id": "14c1c132",
   "metadata": {},
   "outputs": [],
   "source": [
    "ar = np.nan_to_num(area[rs:re,cs:ce], 0)\n",
    "po = np.nan_to_num(pop[rs:re,cs:ce], 0)\n",
    "ds = dens[rs:re,cs:ce]\n",
    "pl = pct_land[rs:re,cs:ce]"
   ]
  },
  {
   "cell_type": "code",
   "execution_count": 283,
   "id": "4141fcf6",
   "metadata": {
    "scrolled": false
   },
   "outputs": [],
   "source": [
    "# disp = np.array(po)\n",
    "# # disp[pl < 0.5] = np.nan\n",
    "\n",
    "# plt.figure(dpi=200, figsize=(20 * pl.shape[1] / pl.shape[0], 20))\n",
    "# cmap = mpl.cm.get_cmap('jet')  # viridis is the default colormap for imshow\n",
    "# cmap.set_bad(color='#000')\n",
    "# plt.imshow(disp, clim=(0, 2000), cmap=\"jet\", interpolation=\"none\")\n",
    "# plt.colorbar()"
   ]
  },
  {
   "cell_type": "code",
   "execution_count": 284,
   "id": "b5dfac2f",
   "metadata": {},
   "outputs": [],
   "source": [
    "# cc"
   ]
  },
  {
   "cell_type": "code",
   "execution_count": 285,
   "id": "9d508977",
   "metadata": {
    "scrolled": true
   },
   "outputs": [],
   "source": [
    "con, group, cc = compute_urban_areas(\n",
    "    po, ds, pl, latitudes, longitudes, dens_1=1250, dens_2=1250, max_dist=5, min_pop=1e5\n",
    ")\n",
    "cc = unpack(*cc)\n",
    "# cc = unpack(*con)"
   ]
  },
  {
   "cell_type": "code",
   "execution_count": 286,
   "id": "4c6fac57",
   "metadata": {},
   "outputs": [
    {
     "data": {
      "text/plain": [
       "array([ 70,  88, 199,  83, 129,  19, 124,  96,  31, 102, 189, 152,  14,\n",
       "       200,  15, 108,  32,  56,  29,  38, 105, 158, 182,  49,  62,  34,\n",
       "         7, 107,  30, 188,   3,  61,  95, 106,  16,  50, 104,  87,  22,\n",
       "        60, 151,  58,  55,  92, 155, 179, 145, 126, 172, 187, 141, 150,\n",
       "       139,  37,  25, 144,  13, 185, 127,  91, 134, 174,  35, 112,  43,\n",
       "        78,  41,  64,  40, 137, 198, 202, 111,  52, 114, 194,  84,   5,\n",
       "       140, 120,  80, 146,  44,   4,  76, 109,  24, 130,  86,  27,  68,\n",
       "        54, 175, 154,  46, 103, 196, 168,  94, 125, 191, 162,  67,  21,\n",
       "       166, 113,  85,  20, 149,  17, 193, 153, 176,  98,  71,  26, 148,\n",
       "       123,  59,  48, 170, 132,  28,  79,  81, 100,  73,  99, 195, 171,\n",
       "        97,  57, 181,  42,  47, 190,  74,   8, 121, 201, 169,  90, 147,\n",
       "         1,  89, 143, 159, 101,  65, 163,  75,  45,  23, 167, 156,  11,\n",
       "       177, 184, 119, 142, 135, 136, 110,  53, 180, 165, 186, 192, 138,\n",
       "        69, 164, 178, 128,  12, 133,  77,  10, 183, 122, 173,  36,  33,\n",
       "        66,   2,   6,  93,  63, 115,   9, 160,  72, 131, 117, 118, 161,\n",
       "       157, 197,  82,  39,  18, 116,  51])"
      ]
     },
     "execution_count": 286,
     "metadata": {},
     "output_type": "execute_result"
    }
   ],
   "source": [
    "np.argsort(population_by_components(po, cc)[1:]) + 1"
   ]
  },
  {
   "cell_type": "code",
   "execution_count": null,
   "id": "84cae760",
   "metadata": {},
   "outputs": [],
   "source": []
  },
  {
   "cell_type": "code",
   "execution_count": 287,
   "id": "770ba33c",
   "metadata": {},
   "outputs": [],
   "source": [
    "component_idx = 118\n",
    "\n",
    "i_s, j_s = np.where(cc)\n",
    "v_s = cc[i_s, j_s]\n",
    "i_s, j_s = i_s[v_s == component_idx], j_s[v_s == component_idx]\n",
    "si, ei = i_s.min(), i_s.max() + 1\n",
    "sj, ej = j_s.min(), j_s.max() + 1\n",
    "\n",
    "bounded = cc[si:ei, sj:ej]"
   ]
  },
  {
   "cell_type": "code",
   "execution_count": 288,
   "id": "401d9bfe",
   "metadata": {},
   "outputs": [
    {
     "data": {
      "text/plain": [
       "<matplotlib.image.AxesImage at 0x7f0e6937b350>"
      ]
     },
     "execution_count": 288,
     "metadata": {},
     "output_type": "execute_result"
    },
    {
     "data": {
      "image/png": "[encoded data removed]",
      "text/plain": [
       "<Figure size 432x288 with 1 Axes>"
      ]
     },
     "metadata": {
      "needs_background": "light"
     },
     "output_type": "display_data"
    }
   ],
   "source": [
    "plt.imshow(bounded)"
   ]
  },
  {
   "cell_type": "code",
   "execution_count": 366,
   "id": "38ac1970",
   "metadata": {
    "scrolled": true
   },
   "outputs": [
    {
     "data": {
      "application/vnd.jupyter.widget-view+json": {
       "model_id": "fb84729c1419422392d399fac3e4bc68",
       "version_major": 2,
       "version_minor": 0
      },
      "text/plain": [
       "  0%|          | 0/7021 [00:00<?, ?it/s]"
      ]
     },
     "metadata": {},
     "output_type": "display_data"
    },
    {
     "data": {
      "application/vnd.jupyter.widget-view+json": {
       "model_id": "c498041372d44f2f813a12be46fe1cd4",
       "version_major": 2,
       "version_minor": 0
      },
      "text/plain": [
       "  0%|          | 0/5476 [00:00<?, ?it/s]"
      ]
     },
     "metadata": {},
     "output_type": "display_data"
    },
    {
     "data": {
      "application/vnd.jupyter.widget-view+json": {
       "model_id": "e926985440444d4c8ec172068beb95ed",
       "version_major": 2,
       "version_minor": 0
      },
      "text/plain": [
       "  0%|          | 0/5473 [00:00<?, ?it/s]"
      ]
     },
     "metadata": {},
     "output_type": "display_data"
    }
   ],
   "source": [
    "u = convexify.function(bounded, 0.9, 100)"
   ]
  },
  {
   "cell_type": "code",
   "execution_count": 367,
   "id": "608e617f",
   "metadata": {},
   "outputs": [],
   "source": [
    "# u_old = u"
   ]
  },
  {
   "cell_type": "code",
   "execution_count": 368,
   "id": "3bf05dc4",
   "metadata": {
    "scrolled": true
   },
   "outputs": [
    {
     "data": {
      "text/plain": [
       "<matplotlib.image.AxesImage at 0x7f0e5f46cb50>"
      ]
     },
     "execution_count": 368,
     "metadata": {},
     "output_type": "execute_result"
    },
    {
     "data": {
      "image/png": "[encoded data removed]",
      "text/plain": [
       "<Figure size 432x288 with 1 Axes>"
      ]
     },
     "metadata": {
      "needs_background": "light"
     },
     "output_type": "display_data"
    }
   ],
   "source": [
    "plt.imshow(u - u_old.astype(np.int))"
   ]
  },
  {
   "cell_type": "code",
   "execution_count": 369,
   "id": "95867a0a",
   "metadata": {},
   "outputs": [
    {
     "data": {
      "text/plain": [
       "<matplotlib.image.AxesImage at 0x7f0e5f319150>"
      ]
     },
     "execution_count": 369,
     "metadata": {},
     "output_type": "execute_result"
    },
    {
     "data": {
      "image/png": "[encoded data removed]",
      "text/plain": [
       "<Figure size 432x288 with 1 Axes>"
      ]
     },
     "metadata": {
      "needs_background": "light"
     },
     "output_type": "display_data"
    }
   ],
   "source": [
    "plt.imshow(u)"
   ]
  },
  {
   "cell_type": "code",
   "execution_count": 370,
   "id": "b95ef8cd",
   "metadata": {},
   "outputs": [
    {
     "data": {
      "text/plain": [
       "<matplotlib.image.AxesImage at 0x7f0e5f26df50>"
      ]
     },
     "execution_count": 370,
     "metadata": {},
     "output_type": "execute_result"
    },
    {
     "data": {
      "image/png": "[encoded data removed]",
      "text/plain": [
       "<Figure size 432x288 with 1 Axes>"
      ]
     },
     "metadata": {
      "needs_background": "light"
     },
     "output_type": "display_data"
    }
   ],
   "source": [
    "plt.imshow(u_old)"
   ]
  },
  {
   "cell_type": "code",
   "execution_count": 270,
   "id": "0bc0ecbd",
   "metadata": {},
   "outputs": [
    {
     "data": {
      "text/plain": [
       "True"
      ]
     },
     "execution_count": 270,
     "metadata": {},
     "output_type": "execute_result"
    }
   ],
   "source": [
    "ray(u, 200, 50, 65, np.pi/16 * 16)"
   ]
  },
  {
   "cell_type": "code",
   "execution_count": 274,
   "id": "539d376f",
   "metadata": {},
   "outputs": [
    {
     "data": {
      "text/plain": [
       "1.0"
      ]
     },
     "execution_count": 274,
     "metadata": {},
     "output_type": "execute_result"
    }
   ],
   "source": [
    "ray_frac(u, 200, 50, 65, 16)"
   ]
  },
  {
   "cell_type": "code",
   "execution_count": 250,
   "id": "f5a0934e",
   "metadata": {
    "scrolled": true
   },
   "outputs": [
    {
     "data": {
      "text/plain": [
       "<matplotlib.image.AxesImage at 0x7f0e5e6cfa10>"
      ]
     },
     "execution_count": 250,
     "metadata": {},
     "output_type": "execute_result"
    },
    {
     "data": {
      "image/png": "[encoded data removed]",
      "text/plain": [
       "<Figure size 432x288 with 1 Axes>"
      ]
     },
     "metadata": {
      "needs_background": "light"
     },
     "output_type": "display_data"
    }
   ],
   "source": [
    "plt.imshow(u[40:60, 60:70])"
   ]
  },
  {
   "cell_type": "code",
   "execution_count": 183,
   "id": "1723d5fb",
   "metadata": {},
   "outputs": [],
   "source": [
    "# con, group, cc = compute_urban_areas_require_denser(\n",
    "#     po, ds, pl, latitudes, longitudes, dens_1=1250, dens_2=500, max_dist=5, min_pop=1e5\n",
    "# )\n",
    "# cc = unpack(*cc)\n",
    "# # cc = unpack(*con)\n"
   ]
  },
  {
   "cell_type": "code",
   "execution_count": 184,
   "id": "f4f8e1f0",
   "metadata": {
    "scrolled": true
   },
   "outputs": [
    {
     "data": {
      "text/plain": [
       "'2b211a720641c89d7935ca585bd9565451bd81c08f5ea2c045f7ecc44785655d'"
      ]
     },
     "execution_count": 184,
     "metadata": {},
     "output_type": "execute_result"
    }
   ],
   "source": [
    "from permacache import stable_hash; stable_hash(cc)"
   ]
  },
  {
   "cell_type": "code",
   "execution_count": 185,
   "id": "4906ecf5",
   "metadata": {},
   "outputs": [],
   "source": [
    "# plt.figure(dpi=200, figsize=(10, 10))\n",
    "# plt.imshow(ds, clim=(0, 2000))\n",
    "# plt.colorbar()"
   ]
  },
  {
   "cell_type": "code",
   "execution_count": 186,
   "id": "63e754f3",
   "metadata": {},
   "outputs": [],
   "source": [
    "# Image.fromarray(ds > 1250)"
   ]
  },
  {
   "cell_type": "code",
   "execution_count": 187,
   "id": "1284d733",
   "metadata": {},
   "outputs": [
    {
     "data": {
      "application/vnd.jupyter.widget-view+json": {
       "model_id": "099d02236a8b4d1685298cc82c06dafc",
       "version_major": 2,
       "version_minor": 0
      },
      "text/plain": [
       "  0%|          | 0/203 [00:00<?, ?it/s]"
      ]
     },
     "metadata": {},
     "output_type": "display_data"
    },
    {
     "name": "stdout",
     "output_type": "stream",
     "text": [
      "202 202\n"
     ]
    }
   ],
   "source": [
    "g = to_geopandas(po, cc, latitudes, longitudes)\n",
    "import json\n",
    "with open(\"../kavis-dump-bin/temp.geojson\", \"w\") as f:\n",
    "    f.write(g.to_json())"
   ]
  },
  {
   "cell_type": "code",
   "execution_count": 17,
   "id": "94183b4c",
   "metadata": {},
   "outputs": [],
   "source": [
    "from PIL import Image"
   ]
  },
  {
   "cell_type": "code",
   "execution_count": 18,
   "id": "13a904ac",
   "metadata": {},
   "outputs": [],
   "source": [
    "im = Image.fromarray(render_components(ds, cc))"
   ]
  },
  {
   "cell_type": "code",
   "execution_count": 19,
   "id": "64c27f31",
   "metadata": {},
   "outputs": [],
   "source": [
    "im.save(\"temp.png\")"
   ]
  },
  {
   "cell_type": "code",
   "execution_count": null,
   "id": "c273ed95",
   "metadata": {
    "scrolled": false
   },
   "outputs": [],
   "source": [
    "plt.figure(dpi=200, figsize=(10, 10))\n",
    "plt.imshow(render_components(ds, cc), interpolation=\"none\")"
   ]
  },
  {
   "cell_type": "code",
   "execution_count": null,
   "id": "3785cf30",
   "metadata": {},
   "outputs": [],
   "source": [
    "comp = get_components_as_lists(cc)"
   ]
  },
  {
   "cell_type": "code",
   "execution_count": null,
   "id": "31a22029",
   "metadata": {},
   "outputs": [],
   "source": [
    "comp[0]"
   ]
  },
  {
   "cell_type": "code",
   "execution_count": null,
   "id": "e074c311",
   "metadata": {},
   "outputs": [],
   "source": [
    "dens_2 = 1000"
   ]
  },
  {
   "cell_type": "code",
   "execution_count": null,
   "id": "6ccc703e",
   "metadata": {},
   "outputs": [],
   "source": [
    "population_by_components(po, cc2).max() / 1e5"
   ]
  },
  {
   "cell_type": "code",
   "execution_count": null,
   "id": "e79b10ab",
   "metadata": {},
   "outputs": [],
   "source": [
    "san_marino = 3612315850\n",
    "pasadena = 3603529725\n",
    "california = 3600165475\n"
   ]
  },
  {
   "cell_type": "code",
   "execution_count": null,
   "id": "652ff831",
   "metadata": {},
   "outputs": [],
   "source": [
    "import geopandas as gpd\n",
    "from shapely.geometry import Polygon\n",
    "from shapely import unary_union, difference"
   ]
  },
  {
   "cell_type": "code",
   "execution_count": null,
   "id": "4c1eb9db",
   "metadata": {},
   "outputs": [],
   "source": [
    "# from urbanstats.osm.to_geopandas import polygon_for_way, polygon_for_relation, frame_for_result\n",
    "from urbanstats.osm.parks import parks, parks_exploded, park_overlap_percentages_all\n",
    "from urbanstats.features.feature import load_buses, features\n",
    "from urbanstats.features.extract_data import feature_data\n",
    "from urbanstats.features.within_distance import *\n",
    "from output_geometry import produce_geometry_json"
   ]
  },
  {
   "cell_type": "code",
   "execution_count": null,
   "id": "97e961ed",
   "metadata": {},
   "outputs": [],
   "source": [
    "f = shapefiles[\"states\"].load_file()"
   ]
  },
  {
   "cell_type": "code",
   "execution_count": null,
   "id": "9d227db0",
   "metadata": {},
   "outputs": [],
   "source": [
    "f.to_file(\"/home/kavi/temp.geojson\")"
   ]
  },
  {
   "cell_type": "code",
   "execution_count": null,
   "id": "8af75232",
   "metadata": {},
   "outputs": [],
   "source": [
    "# table = full_shapefile()"
   ]
  },
  {
   "cell_type": "code",
   "execution_count": null,
   "id": "4e7cb26f",
   "metadata": {},
   "outputs": [],
   "source": [
    "for i in tqdm.trange(f.shape[0]):\n",
    "    produce_geometry_json(\"/home/kavi/temp/\", f.iloc[i])"
   ]
  },
  {
   "cell_type": "code",
   "execution_count": null,
   "id": "a983ad0e",
   "metadata": {},
   "outputs": [],
   "source": [
    "a = json.load(open(\"/home/kavi/temp.geojson\"))"
   ]
  },
  {
   "cell_type": "code",
   "execution_count": null,
   "id": "b6bf55e2",
   "metadata": {},
   "outputs": [],
   "source": [
    "a[\"features\"][2][\"geometry\"][\"coordinates\"]"
   ]
  },
  {
   "cell_type": "code",
   "execution_count": null,
   "id": "88346658",
   "metadata": {},
   "outputs": [],
   "source": [
    "bounds = {\n",
    "    \"left\": -139.39453125000003,\n",
    "    \"right\": -52.3828125,\n",
    "    \"top\": 50.51342652633956,\n",
    "    \"bottom\": 23.07973176244989\n",
    "}"
   ]
  },
  {
   "cell_type": "code",
   "execution_count": null,
   "id": "36f9db5d",
   "metadata": {},
   "outputs": [],
   "source": [
    "w, h = bounds[\"right\"] - bounds[\"left\"], bounds[\"top\"] - bounds[\"bottom\"]\n",
    "\n",
    "w, h = 256, 256 * h/w\n",
    "\n",
    "footer = \"</svg>\"\n",
    "\n",
    "header = f\"\"\"<?xml version=\"1.0\" encoding=\"UTF-8\" standalone=\"no\"?>\n",
    "<!-- Created with urban stats mapper (http://www.urbanstats.org/) -->\n",
    "\n",
    "<svg\n",
    "   width=\"{w}mm\"\n",
    "   height=\"{h}mm\"\n",
    "   viewBox=\"0 0 {w} {h}\"\n",
    "   version=\"1.1\"\n",
    "   id=\"svg1\"\n",
    "   xml:space=\"preserve\"\n",
    "   xmlns=\"http://www.w3.org/2000/svg\"\n",
    "   xmlns:svg=\"http://www.w3.org/2000/svg\">\n",
    "   \"\"\"\n",
    "\n",
    "footer = \"</svg>\""
   ]
  },
  {
   "cell_type": "code",
   "execution_count": null,
   "id": "ef4543a5",
   "metadata": {
    "scrolled": false
   },
   "outputs": [],
   "source": [
    "with open(\"temp.svg\", \"w\") as f:\n",
    "    f.write(header + \"\\n\".join(lines) + footer)"
   ]
  },
  {
   "cell_type": "code",
   "execution_count": null,
   "id": "66b17786",
   "metadata": {
    "scrolled": true
   },
   "outputs": [],
   "source": [
    "! head -n20 palettes.svg"
   ]
  },
  {
   "cell_type": "code",
   "execution_count": null,
   "id": "a5118adb",
   "metadata": {},
   "outputs": [],
   "source": [
    "f = gpd.read_file(\"election-data/2020-vest/al_2020.zip\")"
   ]
  },
  {
   "cell_type": "code",
   "execution_count": null,
   "id": "88ee16d6",
   "metadata": {},
   "outputs": [],
   "source": [
    "f.keys()"
   ]
  },
  {
   "cell_type": "code",
   "execution_count": null,
   "id": "69bfc1f2",
   "metadata": {},
   "outputs": [],
   "source": [
    "import zipfile\n",
    "z = zipfile.ZipFile(\"election-data/2020-precinct-congress.zip\")"
   ]
  },
  {
   "cell_type": "code",
   "execution_count": null,
   "id": "06daca99",
   "metadata": {},
   "outputs": [],
   "source": [
    "house_prec = pd.read_csv(z.open(\"HOUSE_precinct_general.csv\", \"r\"))"
   ]
  },
  {
   "cell_type": "code",
   "execution_count": null,
   "id": "66bfce28",
   "metadata": {
    "scrolled": true
   },
   "outputs": [],
   "source": [
    "house_prec[house_prec.county_name == \"AUTAUGA\"].keys()"
   ]
  },
  {
   "cell_type": "code",
   "execution_count": null,
   "id": "ea544723",
   "metadata": {},
   "outputs": [],
   "source": [
    "f[f.COUNTYFP20 == \"001\"]"
   ]
  },
  {
   "cell_type": "code",
   "execution_count": null,
   "id": "74313437",
   "metadata": {},
   "outputs": [],
   "source": [
    "f = compute_statistics_for_shapefile(shapefiles[\"states\"]).set_index(\"shortname\")"
   ]
  },
  {
   "cell_type": "code",
   "execution_count": null,
   "id": "8fd9f5cf",
   "metadata": {},
   "outputs": [],
   "source": [
    "from urbanstats.consolidated_data.produce_consolidated_data import get_all_ramps, ramp_obj_to_list"
   ]
  },
  {
   "cell_type": "code",
   "execution_count": null,
   "id": "e76739d0",
   "metadata": {},
   "outputs": [],
   "source": [
    "all_ramps = get_all_ramps()"
   ]
  },
  {
   "cell_type": "code",
   "execution_count": null,
   "id": "ab40a17a",
   "metadata": {},
   "outputs": [],
   "source": [
    "\n",
    "import matplotlib as mpl\n",
    "import matplotlib.pyplot as plt\n",
    "\n",
    "gradient = np.linspace(0, 1, 256)\n",
    "gradient = np.vstack((gradient, gradient))\n",
    "\n",
    "\n",
    "def plot_color_gradients(category, cmap_list):\n",
    "    # Create figure and adjust figure height to number of colormaps\n",
    "    nrows = len(cmap_list)\n",
    "    figh = 0.35 + 0.15 + (nrows + (nrows - 1) * 0.1) * 0.22\n",
    "    fig, axs = plt.subplots(nrows=nrows + 1, figsize=(6.4, figh))\n",
    "    fig.subplots_adjust(top=1 - 0.35 / figh, bottom=0.15 / figh,\n",
    "                        left=0.2, right=0.99)\n",
    "    axs[0].set_title(f'{category} colormaps', fontsize=14)\n",
    "\n",
    "    for ax, name in zip(axs, cmap_list):\n",
    "        ax.imshow(gradient, aspect='auto', cmap=cmap_list[name])\n",
    "        ax.text(-0.01, 0.5, name, va='center', ha='right', fontsize=10,\n",
    "                transform=ax.transAxes)\n",
    "\n",
    "    # Turn off *all* ticks & spines, not just the ones with colormaps.\n",
    "    for ax in axs:\n",
    "        ax.set_axis_off()\n"
   ]
  },
  {
   "cell_type": "code",
   "execution_count": null,
   "id": "75c8e960",
   "metadata": {},
   "outputs": [],
   "source": [
    "ramp = all_ramps[\"CMRmap\"]"
   ]
  },
  {
   "cell_type": "code",
   "execution_count": null,
   "id": "f343cf67",
   "metadata": {},
   "outputs": [],
   "source": [
    "plot_color_gradients(\"All\", all_ramps)"
   ]
  },
  {
   "cell_type": "code",
   "execution_count": null,
   "id": "ba20ea9a",
   "metadata": {},
   "outputs": [],
   "source": [
    "# s = (f[\"ad_1\"] / f[\"sd\"]).sort_values()[::-1]\n",
    "# s[s == s]"
   ]
  },
  {
   "cell_type": "code",
   "execution_count": null,
   "id": "a08c0c1d",
   "metadata": {},
   "outputs": [],
   "source": [
    "# census_blocks = census_block_coordinates()"
   ]
  },
  {
   "cell_type": "code",
   "execution_count": null,
   "id": "d6503631",
   "metadata": {},
   "outputs": [],
   "source": [
    "# feats = features[\"hospitals\"].load_fn()[[\"geometry\"]]"
   ]
  },
  {
   "cell_type": "code",
   "execution_count": null,
   "id": "23564332",
   "metadata": {},
   "outputs": [],
   "source": [
    "feature_data()"
   ]
  },
  {
   "cell_type": "code",
   "execution_count": null,
   "id": "e53c152a",
   "metadata": {},
   "outputs": [],
   "source": []
  },
  {
   "cell_type": "code",
   "execution_count": null,
   "id": "48196d22",
   "metadata": {},
   "outputs": [],
   "source": [
    "# %time near = census_blocks.sjoin_nearest(feats, how=\"left\", distance_col=\"distance\", max_distance=1)"
   ]
  },
  {
   "cell_type": "code",
   "execution_count": null,
   "id": "2e697aa6",
   "metadata": {},
   "outputs": [],
   "source": [
    "from scipy.spatial import cKDTree"
   ]
  },
  {
   "cell_type": "code",
   "execution_count": null,
   "id": "5c712512",
   "metadata": {},
   "outputs": [],
   "source": [
    "import netCDF4\n"
   ]
  },
  {
   "cell_type": "code",
   "execution_count": null,
   "id": "4587a99c",
   "metadata": {},
   "outputs": [],
   "source": [
    "nc = netCDF4.Dataset(\"named_region_shapefiles/tmax-1991_2020-daily-normals-v1.0.nc\")"
   ]
  },
  {
   "cell_type": "code",
   "execution_count": null,
   "id": "a5c938e1",
   "metadata": {},
   "outputs": [],
   "source": [
    "nc[\"time\"]"
   ]
  },
  {
   "cell_type": "code",
   "execution_count": null,
   "id": "73a97dd2",
   "metadata": {},
   "outputs": [],
   "source": [
    "nc"
   ]
  },
  {
   "cell_type": "code",
   "execution_count": null,
   "id": "017fa05f",
   "metadata": {},
   "outputs": [],
   "source": [
    "nc.variables[\"dlytmax_norm\"]"
   ]
  },
  {
   "cell_type": "code",
   "execution_count": null,
   "id": "9255dcac",
   "metadata": {},
   "outputs": [],
   "source": []
  },
  {
   "cell_type": "code",
   "execution_count": null,
   "id": "6b55e6aa",
   "metadata": {},
   "outputs": [],
   "source": [
    "import tqdm.auto as tqdm"
   ]
  },
  {
   "cell_type": "code",
   "execution_count": null,
   "id": "1b34119f",
   "metadata": {},
   "outputs": [],
   "source": []
  },
  {
   "cell_type": "code",
   "execution_count": null,
   "id": "6c1548c3",
   "metadata": {
    "scrolled": true
   },
   "outputs": [],
   "source": []
  },
  {
   "cell_type": "code",
   "execution_count": null,
   "id": "50b29d1a",
   "metadata": {},
   "outputs": [],
   "source": []
  },
  {
   "cell_type": "code",
   "execution_count": null,
   "id": "f3157004",
   "metadata": {},
   "outputs": [],
   "source": [
    "features"
   ]
  },
  {
   "cell_type": "code",
   "execution_count": null,
   "id": "24cfece3",
   "metadata": {},
   "outputs": [],
   "source": [
    "bin_idx -= 1"
   ]
  },
  {
   "cell_type": "code",
   "execution_count": null,
   "id": "08ae3744",
   "metadata": {},
   "outputs": [],
   "source": []
  },
  {
   "cell_type": "code",
   "execution_count": null,
   "id": "6bf57579",
   "metadata": {},
   "outputs": [],
   "source": []
  },
  {
   "cell_type": "code",
   "execution_count": null,
   "id": "f550998a",
   "metadata": {},
   "outputs": [],
   "source": [
    "a.shape"
   ]
  },
  {
   "cell_type": "code",
   "execution_count": null,
   "id": "a79dbc51",
   "metadata": {},
   "outputs": [],
   "source": [
    "b.shape"
   ]
  },
  {
   "cell_type": "code",
   "execution_count": null,
   "id": "daa46529",
   "metadata": {},
   "outputs": [],
   "source": [
    "computed_dist"
   ]
  },
  {
   "cell_type": "code",
   "execution_count": null,
   "id": "703242de",
   "metadata": {},
   "outputs": [],
   "source": []
  },
  {
   "cell_type": "code",
   "execution_count": null,
   "id": "7de88c9b",
   "metadata": {},
   "outputs": [],
   "source": []
  },
  {
   "cell_type": "code",
   "execution_count": null,
   "id": "250aa92f",
   "metadata": {
    "scrolled": false
   },
   "outputs": [],
   "source": [
    "hosp2 = feature_data()[\"mean_dist_Hospital_updated\"]"
   ]
  },
  {
   "cell_type": "code",
   "execution_count": null,
   "id": "7654584b",
   "metadata": {},
   "outputs": [],
   "source": [
    "x = np.load(\"hi.npz\")"
   ]
  },
  {
   "cell_type": "code",
   "execution_count": null,
   "id": "21b782de",
   "metadata": {},
   "outputs": [],
   "source": [
    "x[\"arr_0\"]"
   ]
  },
  {
   "cell_type": "code",
   "execution_count": null,
   "id": "db98dfff",
   "metadata": {},
   "outputs": [],
   "source": [
    "np.where(hosp2 != x[\"arr_0\"])"
   ]
  },
  {
   "cell_type": "code",
   "execution_count": null,
   "id": "7a7ac5b8",
   "metadata": {},
   "outputs": [],
   "source": [
    "hosp2[[ 301357, 1055045, 3954105, 3954106]]"
   ]
  },
  {
   "cell_type": "code",
   "execution_count": null,
   "id": "af5d1ab0",
   "metadata": {},
   "outputs": [],
   "source": [
    "x[\"arr_0\"][[ 301357, 1055045, 3954105, 3954106]]"
   ]
  },
  {
   "cell_type": "code",
   "execution_count": null,
   "id": "f34e6ae0",
   "metadata": {},
   "outputs": [],
   "source": [
    "buses = load_buses()"
   ]
  },
  {
   "cell_type": "code",
   "execution_count": null,
   "id": "cdec2933",
   "metadata": {},
   "outputs": [],
   "source": [
    "buses[\"operator\"] = buses.tags.apply(lambda x: x.get(\"operator\", 'none'))\n",
    "buses[\"network\"] = buses.tags.apply(lambda x: x.get(\"network\", 'none'))"
   ]
  },
  {
   "cell_type": "code",
   "execution_count": null,
   "id": "37287094",
   "metadata": {},
   "outputs": [],
   "source": [
    "from urbanstats.osm.buses import national_stops\n",
    "from urbanstats.osm.trains import national_stations"
   ]
  },
  {
   "cell_type": "code",
   "execution_count": null,
   "id": "cbbfb823",
   "metadata": {},
   "outputs": [],
   "source": [
    "s = national_stops().copy()\n"
   ]
  },
  {
   "cell_type": "code",
   "execution_count": null,
   "id": "eb1afb4a",
   "metadata": {},
   "outputs": [],
   "source": [
    "buses[[x for x in buses if x != \"tags\"]].to_file(\"/home/kavi/temp/temp_shapefiles/bus.shp\")"
   ]
  },
  {
   "cell_type": "code",
   "execution_count": null,
   "id": "d5ad2190",
   "metadata": {},
   "outputs": [],
   "source": [
    "buses[buses.network != \"none\"].shape"
   ]
  },
  {
   "cell_type": "code",
   "execution_count": null,
   "id": "d5a5fafb",
   "metadata": {},
   "outputs": [],
   "source": [
    "buses[buses.operator != \"none\"].shape"
   ]
  },
  {
   "cell_type": "code",
   "execution_count": null,
   "id": "7a57f491",
   "metadata": {},
   "outputs": [],
   "source": [
    "buses[buses.name.apply(lambda x: \"Greyhound Rest Stop. Sweetwater. TX\" in x)].tags.iloc[0]"
   ]
  },
  {
   "cell_type": "code",
   "execution_count": null,
   "id": "215b8ffa",
   "metadata": {},
   "outputs": [],
   "source": [
    "types = [type(x) for x in s.geometry]"
   ]
  },
  {
   "cell_type": "code",
   "execution_count": null,
   "id": "f9a6d1da",
   "metadata": {},
   "outputs": [],
   "source": [
    "set(types)"
   ]
  },
  {
   "cell_type": "code",
   "execution_count": null,
   "id": "7d16b46b",
   "metadata": {},
   "outputs": [],
   "source": [
    "s[[x.__name__ == \"Polygon\" for x in types]]"
   ]
  },
  {
   "cell_type": "code",
   "execution_count": null,
   "id": "e1737a19",
   "metadata": {},
   "outputs": [],
   "source": [
    "stations = national_stations().copy()\n",
    "get_non_excluded = lambda: stations[stations.exclusion_reason == \"\"]\n",
    "stations[\"network\"] = stations.tags.apply(lambda x: x.get(\"network\", \"NO NETWORK\"))\n",
    "stations[\"operator\"] = stations.tags.apply(lambda x: x.get(\"operator\", \"NO OPERATOR\").lower())\n",
    "stations[\"exclusion_reason\"] = \"\"\n",
    "stations.loc[stations[\"operator\"] == \"Amtrak\", \"exclusion_reason\"] = \"Amtrak\"\n",
    "stations.loc[stations[\"operator\"] == \"NO OPERATOR\", \"exclusion_reason\"] = \"No operator\"\n",
    "get_operator_counts = lambda: Counter(\n",
    "    x for xs in get_non_excluded().operator for x in xs.split(\";\")\n",
    ")\n",
    "operator_counts = get_operator_counts()\n",
    "# too_small_operators = {x for x in operator_counts if operator_counts[x] <= 5}\n",
    "# stations.loc[\n",
    "#     stations[\"operator\"].apply(\n",
    "#         lambda operators: all(\n",
    "#             operator in too_small_operators for operator in operators.split(\";\")\n",
    "#         )\n",
    "#     ),\n",
    "#     \"exclusion_reason\",\n",
    "# ] = \"Operator too small\"\n",
    "# non_excluded = get_non_excluded()\n",
    "# operator_counts = get_operator_counts()"
   ]
  },
  {
   "cell_type": "code",
   "execution_count": null,
   "id": "c0afe50c",
   "metadata": {},
   "outputs": [],
   "source": [
    "operator_counts"
   ]
  },
  {
   "cell_type": "code",
   "execution_count": null,
   "id": "981d62ab",
   "metadata": {},
   "outputs": [],
   "source": [
    "\"; \".join(sorted(too_small_operators))"
   ]
  },
  {
   "cell_type": "code",
   "execution_count": null,
   "id": "990acc81",
   "metadata": {},
   "outputs": [],
   "source": [
    "systems = pd.DataFrame(\n",
    "    {k: {\"count\": v} for k, v in operator_counts.items()}\n",
    ").T.sort_values(\"count\")"
   ]
  },
  {
   "cell_type": "code",
   "execution_count": null,
   "id": "cc56ada5",
   "metadata": {},
   "outputs": [],
   "source": [
    "systems.to_csv(\"/home/kavi/temp/temp_shapefiles/temp.csv\")"
   ]
  },
  {
   "cell_type": "code",
   "execution_count": null,
   "id": "18dd9849",
   "metadata": {
    "scrolled": false
   },
   "outputs": [],
   "source": [
    "systems[systems[\"count\"] >= 10]"
   ]
  },
  {
   "cell_type": "code",
   "execution_count": null,
   "id": "1fdfe27f",
   "metadata": {},
   "outputs": [],
   "source": [
    "def save(fr, path):\n",
    "    fr = fr.copy()\n",
    "    print(list(fr.tags))\n",
    "    fr[\"tags\"] = fr[\"tags\"].apply(str)\n",
    "    fr.geometry = fr.geometry.centroid\n",
    "    fr.to_file(f\"/home/kavi/temp/temp_shapefiles/{path}.shp\")"
   ]
  },
  {
   "cell_type": "code",
   "execution_count": null,
   "id": "17df23ff",
   "metadata": {},
   "outputs": [],
   "source": [
    "save(stations[stations.operator.apply(lambda os: \"ripta\" in os.split(\";\"))], \"ripta\")"
   ]
  },
  {
   "cell_type": "code",
   "execution_count": null,
   "id": "74b5f3c4",
   "metadata": {},
   "outputs": [],
   "source": [
    "stations.to_csv(\"/home/kavi/temp/temp_shapefiles/temp.csv\")"
   ]
  },
  {
   "cell_type": "code",
   "execution_count": null,
   "id": "fa06001b",
   "metadata": {},
   "outputs": [],
   "source": []
  },
  {
   "cell_type": "code",
   "execution_count": null,
   "id": "83b13427",
   "metadata": {
    "scrolled": true
   },
   "outputs": [],
   "source": [
    "list(stations[stations.network == \"Baltimore Light RailLink\"].tags)"
   ]
  },
  {
   "cell_type": "code",
   "execution_count": null,
   "id": "ae776fdb",
   "metadata": {},
   "outputs": [],
   "source": [
    "stations"
   ]
  },
  {
   "cell_type": "code",
   "execution_count": null,
   "id": "18dd7ad8",
   "metadata": {},
   "outputs": [],
   "source": [
    "bad_networks = network_counts.name <= 5\n",
    "good_networks = network_counts.name >= 50"
   ]
  },
  {
   "cell_type": "code",
   "execution_count": null,
   "id": "6562036c",
   "metadata": {},
   "outputs": [],
   "source": [
    "network_counts[(~bad_networks) & (~good_networks)].sort_values(\"name\")"
   ]
  },
  {
   "cell_type": "code",
   "execution_count": null,
   "id": "ddabd67d",
   "metadata": {},
   "outputs": [],
   "source": [
    "\"; \".join(sorted([x for x in counts if counts[x] <= 5]))"
   ]
  },
  {
   "cell_type": "code",
   "execution_count": null,
   "id": "548f8a99",
   "metadata": {},
   "outputs": [],
   "source": [
    "save(non_excluded, \"non_excluded_1\")"
   ]
  },
  {
   "cell_type": "code",
   "execution_count": null,
   "id": "f35c868c",
   "metadata": {},
   "outputs": [],
   "source": [
    "import us"
   ]
  },
  {
   "cell_type": "code",
   "execution_count": null,
   "id": "8525088f",
   "metadata": {},
   "outputs": [],
   "source": [
    "# help(overpy.Overpass)"
   ]
  },
  {
   "cell_type": "code",
   "execution_count": null,
   "id": "f3604b8b",
   "metadata": {},
   "outputs": [],
   "source": [
    "import shapely\n",
    "import tqdm.auto as tqdm"
   ]
  },
  {
   "cell_type": "code",
   "execution_count": null,
   "id": "8abeef27",
   "metadata": {},
   "outputs": [],
   "source": [
    "import shapely"
   ]
  },
  {
   "cell_type": "code",
   "execution_count": null,
   "id": "1891d09a",
   "metadata": {
    "scrolled": true
   },
   "outputs": [],
   "source": [
    "list(non_excluded[non_excluded.network == \"NO NETWORK\"].tags)"
   ]
  },
  {
   "cell_type": "code",
   "execution_count": null,
   "id": "b7618057",
   "metadata": {},
   "outputs": [],
   "source": []
  },
  {
   "cell_type": "code",
   "execution_count": null,
   "id": "9ade948e",
   "metadata": {},
   "outputs": [],
   "source": [
    "# x = (\n",
    "#     gpd.GeoDataFrame(geometry=[sh], crs=\"epsg:4326\")\n",
    "#     .to_crs(crs={\"proj\": \"cea\"})\n",
    "#     .explode(index_parts=True)\n",
    "#     .reset_index(drop=True)\n",
    "# )"
   ]
  },
  {
   "cell_type": "code",
   "execution_count": null,
   "id": "fba1b807",
   "metadata": {},
   "outputs": [],
   "source": []
  },
  {
   "cell_type": "code",
   "execution_count": null,
   "id": "1b572fdb",
   "metadata": {},
   "outputs": [],
   "source": [
    "r = 1"
   ]
  },
  {
   "cell_type": "code",
   "execution_count": null,
   "id": "e650aea9",
   "metadata": {},
   "outputs": [],
   "source": [
    "chunk_size = 10_000"
   ]
  },
  {
   "cell_type": "code",
   "execution_count": null,
   "id": "1f2363ea",
   "metadata": {},
   "outputs": [],
   "source": []
  },
  {
   "cell_type": "code",
   "execution_count": null,
   "id": "125d8692",
   "metadata": {},
   "outputs": [],
   "source": [
    "pd.concat(results)"
   ]
  },
  {
   "cell_type": "code",
   "execution_count": null,
   "id": "acf7e2a1",
   "metadata": {},
   "outputs": [],
   "source": []
  },
  {
   "cell_type": "code",
   "execution_count": null,
   "id": "6a8d594d",
   "metadata": {},
   "outputs": [],
   "source": []
  },
  {
   "cell_type": "code",
   "execution_count": null,
   "id": "ddca67a4",
   "metadata": {},
   "outputs": [],
   "source": [
    "%time x2 = parks_exploded()"
   ]
  },
  {
   "cell_type": "code",
   "execution_count": null,
   "id": "c597349e",
   "metadata": {},
   "outputs": [],
   "source": [
    "x2"
   ]
  },
  {
   "cell_type": "code",
   "execution_count": null,
   "id": "a898772c",
   "metadata": {},
   "outputs": [],
   "source": [
    "r = 1\n",
    "%time _ = .ipynb_checkpoints/(sh)"
   ]
  },
  {
   "cell_type": "code",
   "execution_count": null,
   "id": "71540823",
   "metadata": {},
   "outputs": [],
   "source": [
    "type(sh)"
   ]
  },
  {
   "cell_type": "code",
   "execution_count": null,
   "id": "eecd568a",
   "metadata": {},
   "outputs": [],
   "source": [
    "sh.geoms[4]"
   ]
  },
  {
   "cell_type": "code",
   "execution_count": null,
   "id": "997364d5",
   "metadata": {},
   "outputs": [],
   "source": [
    "geom = result[result.name == \"Lowery Park\"].iloc[-1].geometry"
   ]
  },
  {
   "cell_type": "code",
   "execution_count": null,
   "id": "522aa268",
   "metadata": {},
   "outputs": [],
   "source": [
    "geom.bounds"
   ]
  },
  {
   "cell_type": "code",
   "execution_count": null,
   "id": "40937b79",
   "metadata": {},
   "outputs": [],
   "source": [
    "# 30m accuracy = 0.0003 degrees\n",
    "precision = 0.0003\n",
    "coords = np.array(geom.boundary.segmentize(precision).coords)\n",
    "((coords[1:] - coords[:-1]) ** 2).sum(-1) ** 0.5"
   ]
  },
  {
   "cell_type": "code",
   "execution_count": null,
   "id": "6aa05cf1",
   "metadata": {},
   "outputs": [],
   "source": [
    "%time len(pickle.dumps(result)) / 1e9"
   ]
  },
  {
   "cell_type": "code",
   "execution_count": null,
   "id": "cfd8b2ec",
   "metadata": {},
   "outputs": [],
   "source": [
    "import shapely"
   ]
  },
  {
   "cell_type": "code",
   "execution_count": null,
   "id": "ef200f42",
   "metadata": {},
   "outputs": [],
   "source": [
    "result.geometry.apply(\n",
    "    lambda x: x.buffer(1e-3) if isinstance(x, shapely.Point) else x\n",
    ").to_file(\"/home/kavi/temp/temp.shp\")"
   ]
  },
  {
   "cell_type": "code",
   "execution_count": null,
   "id": "9f701ba3",
   "metadata": {},
   "outputs": [],
   "source": [
    "polygon_for_way(ways_with_tags[1])"
   ]
  },
  {
   "cell_type": "code",
   "execution_count": null,
   "id": "40c6add2",
   "metadata": {},
   "outputs": [],
   "source": [
    "%time out = polygon_for_relation(relation)"
   ]
  },
  {
   "cell_type": "code",
   "execution_count": null,
   "id": "459a0a5d",
   "metadata": {},
   "outputs": [],
   "source": [
    "out"
   ]
  },
  {
   "cell_type": "code",
   "execution_count": null,
   "id": "817e67cb",
   "metadata": {
    "scrolled": true
   },
   "outputs": [],
   "source": [
    "members[\"outer\"][1]"
   ]
  },
  {
   "cell_type": "code",
   "execution_count": null,
   "id": "51f2bdef",
   "metadata": {},
   "outputs": [],
   "source": [
    "[x for x in relation.members if x.role == \"outer\"][5].resolve()"
   ]
  },
  {
   "cell_type": "code",
   "execution_count": null,
   "id": "749d2758",
   "metadata": {},
   "outputs": [],
   "source": [
    "members[\"outer\"]"
   ]
  },
  {
   "cell_type": "code",
   "execution_count": null,
   "id": "f30ebb05",
   "metadata": {},
   "outputs": [],
   "source": [
    "unary_union(members[\"outer\"][:1000])"
   ]
  },
  {
   "cell_type": "code",
   "execution_count": null,
   "id": "b3dcf909",
   "metadata": {},
   "outputs": [],
   "source": []
  },
  {
   "cell_type": "code",
   "execution_count": null,
   "id": "e0b7480d",
   "metadata": {},
   "outputs": [],
   "source": [
    "way.resolve().__dict__"
   ]
  },
  {
   "cell_type": "code",
   "execution_count": null,
   "id": "54aa0be0",
   "metadata": {},
   "outputs": [],
   "source": [
    "result.ways"
   ]
  },
  {
   "cell_type": "code",
   "execution_count": null,
   "id": "6f0a3d43",
   "metadata": {},
   "outputs": [],
   "source": [
    "relation.__dict__"
   ]
  },
  {
   "cell_type": "code",
   "execution_count": null,
   "id": "e32f0c42",
   "metadata": {},
   "outputs": [],
   "source": [
    "polygon_for_way(result.ways[2])"
   ]
  },
  {
   "cell_type": "code",
   "execution_count": null,
   "id": "12468ed9",
   "metadata": {},
   "outputs": [],
   "source": [
    "result.ways[0].nodes"
   ]
  },
  {
   "cell_type": "code",
   "execution_count": null,
   "id": "af45f50c",
   "metadata": {},
   "outputs": [],
   "source": [
    "rj = json.loads(result.decode(\"utf-8\"))"
   ]
  },
  {
   "cell_type": "code",
   "execution_count": null,
   "id": "d95b6549",
   "metadata": {},
   "outputs": [],
   "source": [
    "def convert_json(items):\n",
    "    import json\n",
    "    return json.dumps({ \"type\": \"FeatureCollection\",\n",
    "                        \"features\": [ \n",
    "                                        {\"type\": \"Feature\",\n",
    "                                         \"geometry\": { \"type\": \"Point\",\n",
    "                                                       \"coordinates\": [ feature['lon'],\n",
    "                                                                        feature['lat']]},\n",
    "                                         \"properties\": { key: value \n",
    "                                                         for key, value in feature.items()\n",
    "                                                         if key not in ('lat', 'lon') }\n",
    "                                         } \n",
    "                                     for feature in json.loads(items)\n",
    "                                    ]\n",
    "                       })\n"
   ]
  },
  {
   "cell_type": "code",
   "execution_count": null,
   "id": "cd692da0",
   "metadata": {},
   "outputs": [],
   "source": [
    "result = json.loads(result.decode(\"utf-8\"))"
   ]
  },
  {
   "cell_type": "code",
   "execution_count": null,
   "id": "4d03def1",
   "metadata": {},
   "outputs": [],
   "source": [
    "convert_json(json.dumps(result[\"elements\"]))"
   ]
  },
  {
   "cell_type": "code",
   "execution_count": null,
   "id": "ffd73f24",
   "metadata": {},
   "outputs": [],
   "source": [
    "with open(\"/home/kavi/temp/temp.geojson\", \"wb\") as f:\n",
    "    f.write(result)"
   ]
  },
  {
   "cell_type": "code",
   "execution_count": null,
   "id": "edb3758d",
   "metadata": {},
   "outputs": [],
   "source": []
  },
  {
   "cell_type": "code",
   "execution_count": null,
   "id": "2446ccbd",
   "metadata": {},
   "outputs": [],
   "source": [
    "result.relations[0].members"
   ]
  },
  {
   "cell_type": "code",
   "execution_count": null,
   "id": "a6ee1b0e",
   "metadata": {},
   "outputs": [],
   "source": [
    "import overpass"
   ]
  },
  {
   "cell_type": "code",
   "execution_count": null,
   "id": "63582af1",
   "metadata": {},
   "outputs": [],
   "source": [
    "api = overpass.API()\n"
   ]
  },
  {
   "cell_type": "code",
   "execution_count": null,
   "id": "b36fbc4a",
   "metadata": {},
   "outputs": [],
   "source": [
    "result = api.get(\n",
    "q\n",
    ")\n",
    "\n",
    "with open(\"/home/kavi/temp/temp.geojson\", \"w\") as f:\n",
    "    json.dump(result, f)"
   ]
  },
  {
   "cell_type": "code",
   "execution_count": null,
   "id": "b57260de",
   "metadata": {},
   "outputs": [],
   "source": [
    "gpd.read_file(\"/home/kavi/temp/temp.geojson\")"
   ]
  },
  {
   "cell_type": "code",
   "execution_count": null,
   "id": "9b94bcd6",
   "metadata": {},
   "outputs": [],
   "source": [
    "overpass.to"
   ]
  },
  {
   "cell_type": "code",
   "execution_count": null,
   "id": "d7fa7b37",
   "metadata": {},
   "outputs": [],
   "source": [
    "result = full_shapefile()"
   ]
  },
  {
   "cell_type": "code",
   "execution_count": null,
   "id": "e6241a26",
   "metadata": {},
   "outputs": [],
   "source": [
    "from urbanstats.export.export_csvs import export_all_csvs"
   ]
  },
  {
   "cell_type": "code",
   "execution_count": null,
   "id": "a93fe4c9",
   "metadata": {},
   "outputs": [],
   "source": [
    "result.shape[0]"
   ]
  },
  {
   "cell_type": "code",
   "execution_count": null,
   "id": "789eb6f2",
   "metadata": {},
   "outputs": [],
   "source": [
    "export_all_csvs(\"/home/kavi/temp/exported-urbanstats/csvs/\")"
   ]
  },
  {
   "cell_type": "code",
   "execution_count": null,
   "id": "fcc3e9d6",
   "metadata": {},
   "outputs": [],
   "source": [
    "category = \"main\""
   ]
  },
  {
   "cell_type": "code",
   "execution_count": null,
   "id": "e681be27",
   "metadata": {},
   "outputs": [],
   "source": [
    "csv_for(type, category)"
   ]
  },
  {
   "cell_type": "code",
   "execution_count": null,
   "id": "7311498e",
   "metadata": {},
   "outputs": [],
   "source": []
  },
  {
   "cell_type": "code",
   "execution_count": null,
   "id": "06905b2d",
   "metadata": {},
   "outputs": [],
   "source": [
    ".to_csv(\"/home/kavi/temp/temp.csv\")\n",
    "\n",
    "# ! rm ~/temp/temp.csv.gz\n",
    "# ! gzip ~/temp/temp.csv\n",
    "# ! du -sh ~/temp/temp.csv.gz"
   ]
  },
  {
   "cell_type": "code",
   "execution_count": null,
   "id": "2f876f7e",
   "metadata": {},
   "outputs": [],
   "source": [
    "result.groupby(\"type\").count().longname.sort_values()"
   ]
  },
  {
   "cell_type": "code",
   "execution_count": null,
   "id": "58f1b08f",
   "metadata": {},
   "outputs": [],
   "source": [
    "from census_blocks import load_raw_census"
   ]
  },
  {
   "cell_type": "code",
   "execution_count": null,
   "id": "22fd9e09",
   "metadata": {},
   "outputs": [],
   "source": [
    "# import osmium\n",
    "# import tqdm.auto as tqdm\n",
    "\n",
    "# class NamesHandler(osmium.SimpleHandler):\n",
    "#     def __init__(self):\n",
    "#         super().__init__()\n",
    "#         self.pbar = tqdm.tqdm()\n",
    "#     def node(self, n):\n",
    "#         self.pbar.update()\n",
    "#         if 'leisure' in n.tags and n.tags[\"leisure\"] == \"park\":\n",
    "#             print(n)\n",
    "# #         if len(self.nodes):\n",
    "# #             1/0\n"
   ]
  },
  {
   "cell_type": "code",
   "execution_count": null,
   "id": "38c5ad09",
   "metadata": {
    "scrolled": true
   },
   "outputs": [],
   "source": [
    "# NamesHandler().apply_file(\"named_region_shapefiles/features/us-latest.osm.pbf\")"
   ]
  },
  {
   "cell_type": "code",
   "execution_count": null,
   "id": "6cff36b8",
   "metadata": {},
   "outputs": [],
   "source": [
    "_, pop, _, _, coordinates = load_raw_census()"
   ]
  },
  {
   "cell_type": "code",
   "execution_count": null,
   "id": "58ea7e46",
   "metadata": {},
   "outputs": [],
   "source": [
    "census_blocks = gpd.GeoDataFrame(\n",
    "    geometry=gpd.points_from_xy(coordinates[:, 1], coordinates[:, 0], crs=\"epsg:4326\")\n",
    ")"
   ]
  },
  {
   "cell_type": "code",
   "execution_count": null,
   "id": "e4e88c7f",
   "metadata": {},
   "outputs": [],
   "source": [
    "from urbanstats.features.feature import features, shapefile_points_to_radius\n",
    "from urbanstats.features.within_distance import features_within_distance_by_block, minimum_distance_by_block\n",
    "from urbanstats.features.extract_data import feature_data\n"
   ]
  },
  {
   "cell_type": "code",
   "execution_count": null,
   "id": "a411e919",
   "metadata": {},
   "outputs": [],
   "source": [
    "feature_data()"
   ]
  },
  {
   "cell_type": "code",
   "execution_count": null,
   "id": "923984ee",
   "metadata": {},
   "outputs": [],
   "source": []
  },
  {
   "cell_type": "code",
   "execution_count": null,
   "id": "9065c9f4",
   "metadata": {},
   "outputs": [],
   "source": [
    "pop.shape"
   ]
  },
  {
   "cell_type": "code",
   "execution_count": null,
   "id": "197de12a",
   "metadata": {},
   "outputs": [],
   "source": [
    "feature = features[\"hospitals\"]"
   ]
  },
  {
   "cell_type": "code",
   "execution_count": null,
   "id": "d5a72439",
   "metadata": {},
   "outputs": [],
   "source": [
    "minimum_distance_by_block(feature)"
   ]
  },
  {
   "cell_type": "code",
   "execution_count": null,
   "id": "34e83335",
   "metadata": {},
   "outputs": [],
   "source": [
    "import geopy"
   ]
  },
  {
   "cell_type": "code",
   "execution_count": null,
   "id": "786b6a5a",
   "metadata": {},
   "outputs": [],
   "source": [
    "from geopy.distance import geodesic\n"
   ]
  },
  {
   "cell_type": "code",
   "execution_count": null,
   "id": "c93e5c40",
   "metadata": {},
   "outputs": [],
   "source": [
    "by_block = features_within_distance_by_block(feature)"
   ]
  },
  {
   "cell_type": "code",
   "execution_count": null,
   "id": "670a02b3",
   "metadata": {},
   "outputs": [],
   "source": [
    "pop[by_block != 0].sum() / pop.sum()"
   ]
  },
  {
   "cell_type": "code",
   "execution_count": null,
   "id": "dcdb3b4a",
   "metadata": {},
   "outputs": [],
   "source": [
    "plt.figure(dpi=2000, figsize=(10, 10))\n",
    "y, x = coordinates[::100].T\n",
    "d = distance[::100]\n",
    "mask = (y > 30) & (y < 40) & (x > -125) & (x < -115)\n",
    "y, x, d = y[mask], x[mask], d[mask]\n",
    "d = np.clip(d, 0, 100)\n",
    "plt.scatter(x, y, c=d, marker=\".\", s=0.1)\n",
    "plt.axis(\"equal\")"
   ]
  },
  {
   "cell_type": "code",
   "execution_count": null,
   "id": "35f23404",
   "metadata": {},
   "outputs": [],
   "source": [
    "plt.figure(dpi=200, figsize=(10, 10))\n",
    "def plot(cs, **kwargs):\n",
    "    y, x = cs[::10].T\n",
    "    mask = (y > 25) & (y < 40) & (x > -107) & (x < -92)\n",
    "    y, x = y[mask], x[mask]\n",
    "    plt.scatter(x, y, marker=\".\", s=0.1, **kwargs)\n",
    "plot(coordinates[by_block != 0])\n",
    "plot(coordinates[by_block == 0])\n",
    "plt.axis(\"equal\")"
   ]
  },
  {
   "cell_type": "code",
   "execution_count": null,
   "id": "5c66ffec",
   "metadata": {},
   "outputs": [],
   "source": [
    "ell.lon_radius, ell.lat_radius"
   ]
  },
  {
   "cell_type": "code",
   "execution_count": null,
   "id": "2a5f30bb",
   "metadata": {},
   "outputs": [],
   "source": [
    "shapely.affinity.scale"
   ]
  },
  {
   "cell_type": "code",
   "execution_count": null,
   "id": "b5253f84",
   "metadata": {},
   "outputs": [],
   "source": []
  },
  {
   "cell_type": "code",
   "execution_count": null,
   "id": "4d37b72e",
   "metadata": {},
   "outputs": [],
   "source": [
    "shape.bounds"
   ]
  },
  {
   "cell_type": "code",
   "execution_count": null,
   "id": "3ed82b29",
   "metadata": {},
   "outputs": [],
   "source": [
    "(-95.04905911509323) - (-94.84189452490675)"
   ]
  },
  {
   "cell_type": "code",
   "execution_count": null,
   "id": "bb24b154",
   "metadata": {},
   "outputs": [],
   "source": [
    "29.657688059408127 - 29.837552380591873"
   ]
  },
  {
   "cell_type": "code",
   "execution_count": null,
   "id": "8b8a626c",
   "metadata": {
    "scrolled": true
   },
   "outputs": [],
   "source": [
    "from urbanstats.acs.attach import with_acs_data, combine_us_pr\n",
    "from urbanstats.acs.entities import entities, entities_split_by_usa_pr\n",
    "from urbanstats.acs.load import get_acs_data, acs_variables, ACSDataEntity\n",
    "ent = entities[\"ancestry\"]\n",
    "# ent= entities_split_by_usa_pr[\"birthplace\"]\n",
    "# get_acs_data(ent).sum() / get_acs_data(ent).sum().sum()\n",
    "# combine_us_pr(*ent).sum() / combine_us_pr(*ent).sum().sum()"
   ]
  },
  {
   "cell_type": "code",
   "execution_count": null,
   "id": "cd6d4014",
   "metadata": {},
   "outputs": [],
   "source": [
    "table_eurafrica = get_acs_data.function(entities[\"ancestry\"]).sum()"
   ]
  },
  {
   "cell_type": "code",
   "execution_count": null,
   "id": "8ad19ab7",
   "metadata": {},
   "outputs": [],
   "source": [
    "table_asian = get_acs_data.function(entities[\"ancestry_asian\"]).sum()"
   ]
  },
  {
   "cell_type": "code",
   "execution_count": null,
   "id": "2812336c",
   "metadata": {},
   "outputs": [],
   "source": [
    "table_hispanic = get_acs_data.function(entities[\"ancestry_hispanic\"]).sum()"
   ]
  },
  {
   "cell_type": "code",
   "execution_count": null,
   "id": "9dda2f36",
   "metadata": {},
   "outputs": [],
   "source": [
    "amount = pd.DataFrame([table_asian, table_eurafrica, table_hispanic]).sum().sort_values()"
   ]
  },
  {
   "cell_type": "code",
   "execution_count": null,
   "id": "b6556556",
   "metadata": {},
   "outputs": [],
   "source": [
    "amount.sum() / 1e6"
   ]
  },
  {
   "cell_type": "code",
   "execution_count": null,
   "id": "a1d462c7",
   "metadata": {
    "scrolled": false
   },
   "outputs": [],
   "source": [
    "for x in amount.index:\n",
    "    print(f\"{x:30s}{amount[x] / 1e6:6.2f}\")"
   ]
  },
  {
   "cell_type": "code",
   "execution_count": null,
   "id": "261313a1",
   "metadata": {},
   "outputs": [],
   "source": [
    "amount.shape"
   ]
  },
  {
   "cell_type": "code",
   "execution_count": null,
   "id": "14e6dd33",
   "metadata": {},
   "outputs": [],
   "source": [
    "len(sum_keys)"
   ]
  },
  {
   "cell_type": "code",
   "execution_count": null,
   "id": "768d7eb7",
   "metadata": {
    "scrolled": true
   },
   "outputs": [],
   "source": [
    "a = compute_statistics_for_shapefile(shapefiles[\"states\"])\n",
    "a[[\"shortname\", \"year_built_2010_or_later\"]]"
   ]
  },
  {
   "cell_type": "code",
   "execution_count": null,
   "id": "443af096",
   "metadata": {},
   "outputs": [],
   "source": [
    "folder = '/home/kavi/temp/site/'"
   ]
  },
  {
   "cell_type": "code",
   "execution_count": null,
   "id": "cad30a51",
   "metadata": {
    "scrolled": true
   },
   "outputs": [],
   "source": [
    "create_page_json(\n",
    "    f\"{folder}/data\",\n",
    "    u,\n",
    "    relationships,\n",
    "    long_to_short,\n",
    "    long_to_pop,\n",
    "    long_to_type,\n",
    ")"
   ]
  },
  {
   "cell_type": "code",
   "execution_count": null,
   "id": "c1d2c5b5",
   "metadata": {},
   "outputs": [],
   "source": [
    "a = data_files_pb2.Article()"
   ]
  },
  {
   "cell_type": "code",
   "execution_count": null,
   "id": "5ac2caca",
   "metadata": {},
   "outputs": [],
   "source": [
    "from shapefiles import shapefiles\n",
    "from output_geometry import produce_all_geometry_json"
   ]
  },
  {
   "cell_type": "code",
   "execution_count": null,
   "id": "cecac5ce",
   "metadata": {},
   "outputs": [],
   "source": [
    "x = shapefiles[\"cities\"].load_file()"
   ]
  },
  {
   "cell_type": "code",
   "execution_count": null,
   "id": "211c62c0",
   "metadata": {},
   "outputs": [],
   "source": [
    "import geopandas as gpd"
   ]
  },
  {
   "cell_type": "code",
   "execution_count": null,
   "id": "5af1ca5e",
   "metadata": {},
   "outputs": [],
   "source": [
    "y = gpd.read_file(\"/home/kavi/Downloads/cb_2022_us_place_500k.zip\")"
   ]
  },
  {
   "cell_type": "code",
   "execution_count": null,
   "id": "cf61a559",
   "metadata": {},
   "outputs": [],
   "source": [
    "x.iloc[-200]"
   ]
  },
  {
   "cell_type": "code",
   "execution_count": null,
   "id": "7ce3263b",
   "metadata": {},
   "outputs": [],
   "source": [
    "produce_all_geometry_json(\"/home/kavi/temp/site/shape/\", [])"
   ]
  },
  {
   "cell_type": "code",
   "execution_count": null,
   "id": "84cab371",
   "metadata": {},
   "outputs": [],
   "source": [
    "with open(\"/home/kavi/temp/site/shape/Fairfax County, Virginia, USA.json\") as f:\n",
    "    fc_python = json.load(f)"
   ]
  },
  {
   "cell_type": "code",
   "execution_count": null,
   "id": "09b78a5d",
   "metadata": {},
   "outputs": [],
   "source": [
    "from urbanstats.protobuf import data_files_pb2"
   ]
  },
  {
   "cell_type": "code",
   "execution_count": null,
   "id": "bc1ea947",
   "metadata": {},
   "outputs": [],
   "source": [
    "from output_geometry import convert_to_protobuf"
   ]
  },
  {
   "cell_type": "code",
   "execution_count": null,
   "id": "2ec9f771",
   "metadata": {},
   "outputs": [],
   "source": [
    "fc = convert_to_protobuf(fc_python)"
   ]
  },
  {
   "cell_type": "code",
   "execution_count": null,
   "id": "b7517c29",
   "metadata": {},
   "outputs": [],
   "source": [
    "import gzip"
   ]
  },
  {
   "cell_type": "code",
   "execution_count": null,
   "id": "9a7d3663",
   "metadata": {},
   "outputs": [],
   "source": [
    "with gzip.open(f\"/home/kavi/temp/site/shape/Fairfax County, Virginia, USA.gz\", \"wb\") as f:\n",
    "    f.write(fc.SerializeToString())"
   ]
  },
  {
   "cell_type": "code",
   "execution_count": null,
   "id": "8231e814",
   "metadata": {},
   "outputs": [],
   "source": [
    "fc_2 = data_files_pb2.FeatureCollection()\n",
    "with gzip.open(\"/home/kavi/temp/site/shape/Fairfax County, Virginia, USA.gz\", \"rb\") a sf:\n",
    "    fc_2."
   ]
  },
  {
   "cell_type": "code",
   "execution_count": null,
   "id": "66155ce2",
   "metadata": {},
   "outputs": [],
   "source": [
    "! du -sb ~/temp.gz"
   ]
  },
  {
   "cell_type": "code",
   "execution_count": null,
   "id": "e12bc855",
   "metadata": {},
   "outputs": [],
   "source": [
    "len(json.dumps(fc_python))"
   ]
  },
  {
   "cell_type": "code",
   "execution_count": null,
   "id": "27f3156b",
   "metadata": {},
   "outputs": [],
   "source": [
    "ring_python"
   ]
  },
  {
   "cell_type": "code",
   "execution_count": null,
   "id": "649bc1b1",
   "metadata": {},
   "outputs": [],
   "source": [
    "f."
   ]
  },
  {
   "cell_type": "code",
   "execution_count": null,
   "id": "bd4a9246",
   "metadata": {
    "scrolled": false
   },
   "outputs": [],
   "source": [
    "x[0][\"coordinates\"]"
   ]
  },
  {
   "cell_type": "code",
   "execution_count": null,
   "id": "565e0853",
   "metadata": {
    "scrolled": true
   },
   "outputs": [],
   "source": [
    "for i in tqdm.trange(full.shape[0], desc=\"creating pages\"):\n",
    "    row = full.iloc[i]\n",
    "#     if row[\"type\"] != \"State\":\n",
    "#         continue\n",
    "    create_page_json(\n",
    "        f\"{folder}/data\",\n",
    "        row,\n",
    "        relationships,\n",
    "        long_to_short,\n",
    "        long_to_pop,\n",
    "        long_to_type,\n",
    "    )\n"
   ]
  },
  {
   "cell_type": "code",
   "execution_count": null,
   "id": "ad266fb4",
   "metadata": {
    "scrolled": true
   },
   "outputs": [],
   "source": [
    "# get_acs_data(entities[\"aggregate_rent\"]).sum()"
   ]
  },
  {
   "cell_type": "code",
   "execution_count": null,
   "id": "9939f01c",
   "metadata": {},
   "outputs": [],
   "source": [
    "sf = shapefiles[\"states\"]"
   ]
  },
  {
   "cell_type": "code",
   "execution_count": null,
   "id": "ef2757fb",
   "metadata": {},
   "outputs": [],
   "source": [
    "x = sf.load_file().to_crs({\"proj\": \"cea\"})"
   ]
  },
  {
   "cell_type": "code",
   "execution_count": null,
   "id": "acc9e6fe",
   "metadata": {},
   "outputs": [],
   "source": [
    "area = x.geometry.area\n",
    "perimiter = x.geometry.length\n",
    "x[\"compactness\"] = 4 * np.pi * area / perimiter ** 2"
   ]
  },
  {
   "cell_type": "code",
   "execution_count": null,
   "id": "121be822",
   "metadata": {},
   "outputs": [],
   "source": [
    "x[[\"shortname\", \"compactness\"]].sort_values(\"compactness\")"
   ]
  },
  {
   "cell_type": "code",
   "execution_count": null,
   "id": "ae2a923c",
   "metadata": {},
   "outputs": [],
   "source": []
  },
  {
   "cell_type": "code",
   "execution_count": null,
   "id": "a0cbcdb2",
   "metadata": {
    "scrolled": false
   },
   "outputs": [],
   "source": [
    "x.sort_values(\"education_field_humanities\")"
   ]
  },
  {
   "cell_type": "code",
   "execution_count": null,
   "id": "4b1587e3",
   "metadata": {},
   "outputs": [],
   "source": [
    "x.education_field_humanities"
   ]
  },
  {
   "cell_type": "code",
   "execution_count": null,
   "id": "555cbca3",
   "metadata": {},
   "outputs": [],
   "source": [
    "y = with_acs_data()"
   ]
  },
  {
   "cell_type": "code",
   "execution_count": null,
   "id": "2c04d33c",
   "metadata": {},
   "outputs": [],
   "source": [
    "y[y.geoid.apply(lambda x: \"US28\" in x)].education_field_humanities.sum()"
   ]
  },
  {
   "cell_type": "code",
   "execution_count": null,
   "id": "2238b0d3",
   "metadata": {
    "scrolled": true
   },
   "outputs": [],
   "source": [
    "import pickle\n",
    "len(pickle.dumps(with_acs_data()))"
   ]
  },
  {
   "cell_type": "code",
   "execution_count": null,
   "id": "a5f025de",
   "metadata": {
    "scrolled": false
   },
   "outputs": [],
   "source": [
    "sorted(\n",
    "    set(\n",
    "        [\n",
    "            v[\"concept\"]\n",
    "            for v in acs_variables().values()\n",
    "            if \"$10,000\" in v[\"label\"]\n",
    "            if \"HOUSEHOLD\" not in v[\"concept\"]\n",
    "            and \"FAMILY\" not in v[\"concept\"]\n",
    "            and \"INC\" in v[\"concept\"]\n",
    "        ]\n",
    "    )\n",
    ")"
   ]
  },
  {
   "cell_type": "code",
   "execution_count": null,
   "id": "09ddde04",
   "metadata": {
    "scrolled": true
   },
   "outputs": [],
   "source": [
    "var_for_concept = for_concept(\n",
    "    \n",
    ")"
   ]
  },
  {
   "cell_type": "code",
   "execution_count": null,
   "id": "996c42a2",
   "metadata": {},
   "outputs": [],
   "source": [
    "data = with_election_results()"
   ]
  },
  {
   "cell_type": "code",
   "execution_count": null,
   "id": "294594fa",
   "metadata": {},
   "outputs": [],
   "source": [
    "var_for_concept"
   ]
  },
  {
   "cell_type": "code",
   "execution_count": null,
   "id": "3f6d4c8d",
   "metadata": {},
   "outputs": [],
   "source": []
  },
  {
   "cell_type": "code",
   "execution_count": null,
   "id": "08b3d359",
   "metadata": {
    "scrolled": false
   },
   "outputs": [],
   "source": []
  },
  {
   "cell_type": "code",
   "execution_count": null,
   "id": "de591426",
   "metadata": {},
   "outputs": [],
   "source": [
    "universe_for_disagg = \"population_18\""
   ]
  },
  {
   "cell_type": "code",
   "execution_count": null,
   "id": "6055d58e",
   "metadata": {},
   "outputs": [],
   "source": []
  },
  {
   "cell_type": "code",
   "execution_count": null,
   "id": "d721c3e0",
   "metadata": {
    "scrolled": true
   },
   "outputs": [],
   "source": [
    "%time "
   ]
  },
  {
   "cell_type": "code",
   "execution_count": null,
   "id": "5b800988",
   "metadata": {},
   "outputs": [],
   "source": [
    "acs_data"
   ]
  },
  {
   "cell_type": "code",
   "execution_count": null,
   "id": "6639a700",
   "metadata": {},
   "outputs": [],
   "source": []
  },
  {
   "cell_type": "code",
   "execution_count": null,
   "id": "f156258d",
   "metadata": {},
   "outputs": [],
   "source": []
  },
  {
   "cell_type": "code",
   "execution_count": null,
   "id": "c49a64bc",
   "metadata": {},
   "outputs": [],
   "source": []
  },
  {
   "cell_type": "code",
   "execution_count": null,
   "id": "879d77bd",
   "metadata": {},
   "outputs": [],
   "source": [
    "data[universe_for_disagg]"
   ]
  },
  {
   "cell_type": "code",
   "execution_count": null,
   "id": "9e77dd15",
   "metadata": {},
   "outputs": [],
   "source": [
    "result.state + result.county + result.tract"
   ]
  },
  {
   "cell_type": "code",
   "execution_count": null,
   "id": "a61da430",
   "metadata": {},
   "outputs": [],
   "source": [
    "list(x)"
   ]
  },
  {
   "cell_type": "code",
   "execution_count": null,
   "id": "b836a7dc",
   "metadata": {},
   "outputs": [],
   "source": [
    "key = (\"2020 Presidential Election\", \"margin\")"
   ]
  },
  {
   "cell_type": "code",
   "execution_count": null,
   "id": "501c448d",
   "metadata": {},
   "outputs": [],
   "source": [
    "y = shapefile_without_ordinals()"
   ]
  },
  {
   "cell_type": "code",
   "execution_count": null,
   "id": "4a9652cc",
   "metadata": {},
   "outputs": [],
   "source": [
    "y_n = add_ordinals(y[y.type == \"Neighborhood\"])"
   ]
  },
  {
   "cell_type": "code",
   "execution_count": null,
   "id": "8e747e16",
   "metadata": {},
   "outputs": [],
   "source": [
    "y_n.loc[\n",
    "    [\n",
    "        1564,\n",
    "        3907,\n",
    "        302,\n",
    "        4009,\n",
    "        3464,\n",
    "        1712,\n",
    "        3166,\n",
    "        3457,\n",
    "        3568,\n",
    "        5871,\n",
    "        5886,\n",
    "        1871,\n",
    "        3757,\n",
    "        3454,\n",
    "        1635,\n",
    "        1337,\n",
    "        3027,\n",
    "        2704,\n",
    "        406,\n",
    "        5623,\n",
    "        4024,\n",
    "        3906,\n",
    "        1429,\n",
    "        6049,\n",
    "        108,\n",
    "        643,\n",
    "        612,\n",
    "        596,\n",
    "        599,\n",
    "        5477,\n",
    "        1924,\n",
    "        3408,\n",
    "        3169,\n",
    "        2273,\n",
    "        2164,\n",
    "        598,\n",
    "        5822,\n",
    "        1679,\n",
    "        3500,\n",
    "        3527,\n",
    "        2414,\n",
    "        4397,\n",
    "        4312,\n",
    "        4106,\n",
    "        6055,\n",
    "        5466,\n",
    "        2363,\n",
    "        1804,\n",
    "        1723,\n",
    "        4027,\n",
    "        1591,\n",
    "        1764,\n",
    "        4627,\n",
    "        3465,\n",
    "        3800,\n",
    "        3663,\n",
    "        1376,\n",
    "        1705,\n",
    "        5395,\n",
    "        98,\n",
    "        2064,\n",
    "        2065,\n",
    "        2848,\n",
    "        1916,\n",
    "        6129,\n",
    "        1610,\n",
    "        3967,\n",
    "        2409,\n",
    "        3575,\n",
    "        396,\n",
    "        3963,\n",
    "        1834,\n",
    "        1664,\n",
    "        1614,\n",
    "        5805,\n",
    "        1543,\n",
    "        3997,\n",
    "        5015,\n",
    "        3998,\n",
    "        2293,\n",
    "        3565,\n",
    "        2682,\n",
    "        2413,\n",
    "        3000,\n",
    "        2511,\n",
    "        1661,\n",
    "        1620,\n",
    "        5614,\n",
    "        2415,\n",
    "        2869,\n",
    "        3146,\n",
    "        1631,\n",
    "        1806,\n",
    "        3026,\n",
    "        2463,\n",
    "        5641,\n",
    "        6031,\n",
    "        1791,\n",
    "        1879,\n",
    "        4507,\n",
    "        404,\n",
    "        1450,\n",
    "        1381,\n",
    "        1740,\n",
    "        2747,\n",
    "        4127,\n",
    "        1346,\n",
    "        4502,\n",
    "        79,\n",
    "        1417,\n",
    "        1462,\n",
    "        1460,\n",
    "        1681,\n",
    "        2042,\n",
    "        1745,\n",
    "        1897,\n",
    "        1981,\n",
    "        1983,\n",
    "        3479,\n",
    "        3528,\n",
    "        5449,\n",
    "        5450,\n",
    "        5447,\n",
    "        4538,\n",
    "        1410,\n",
    "        5710,\n",
    "        398,\n",
    "        1741,\n",
    "        1926,\n",
    "        4109,\n",
    "        1847,\n",
    "        4047,\n",
    "        3452,\n",
    "        3210,\n",
    "        2555,\n",
    "        3566,\n",
    "        4869,\n",
    "        5271,\n",
    "        5115,\n",
    "        6107,\n",
    "        3165,\n",
    "        2205,\n",
    "        5467,\n",
    "        1259,\n",
    "        4247,\n",
    "        1785,\n",
    "        4048,\n",
    "        4734,\n",
    "        3917,\n",
    "        1807,\n",
    "        3458,\n",
    "        679,\n",
    "        3901,\n",
    "        2400,\n",
    "        5265,\n",
    "        3376,\n",
    "        3022,\n",
    "        2082,\n",
    "        5637,\n",
    "        2148,\n",
    "        301,\n",
    "        5476,\n",
    "        1633,\n",
    "        5456,\n",
    "        2683,\n",
    "        6087,\n",
    "        3333,\n",
    "        2833,\n",
    "        4981,\n",
    "        310,\n",
    "        2637,\n",
    "        5680,\n",
    "        5693,\n",
    "        5712,\n",
    "        1997,\n",
    "        3504,\n",
    "        4691,\n",
    "        3661,\n",
    "        3571,\n",
    "        5707,\n",
    "        5475,\n",
    "        4919,\n",
    "        3047,\n",
    "        3306,\n",
    "        2037,\n",
    "        4294,\n",
    "        1387,\n",
    "        6027,\n",
    "        3764,\n",
    "        2436,\n",
    "        1683,\n",
    "        5458,\n",
    "        5470,\n",
    "        5685,\n",
    "        6025,\n",
    "        3383,\n",
    "        3572,\n",
    "        1853,\n",
    "        2298,\n",
    "        4530,\n",
    "        6083,\n",
    "        3921,\n",
    "        1312,\n",
    "        2286,\n",
    "        6137,\n",
    "        5713,\n",
    "        3797,\n",
    "        5000,\n",
    "        5287,\n",
    "        5499,\n",
    "        3956,\n",
    "        2302,\n",
    "        2701,\n",
    "        5282,\n",
    "        5684,\n",
    "        2304,\n",
    "        3115,\n",
    "        749,\n",
    "        3410,\n",
    "        3942,\n",
    "        5698,\n",
    "        6085,\n",
    "        6118,\n",
    "        1547,\n",
    "        2743,\n",
    "        4030,\n",
    "        2253,\n",
    "        1227,\n",
    "        1844,\n",
    "        5280,\n",
    "        3471,\n",
    "        3590,\n",
    "        5754,\n",
    "        3407,\n",
    "        1972,\n",
    "        112,\n",
    "        177,\n",
    "        180,\n",
    "        2340,\n",
    "        3384,\n",
    "        3330,\n",
    "        3925,\n",
    "        5700,\n",
    "        3662,\n",
    "        3937,\n",
    "        5596,\n",
    "        1743,\n",
    "        1527,\n",
    "        4685,\n",
    "        4391,\n",
    "        4230,\n",
    "        6088,\n",
    "        5806,\n",
    "        1593,\n",
    "        2866,\n",
    "        2076,\n",
    "        3736,\n",
    "        4570,\n",
    "        5816,\n",
    "        6059,\n",
    "        3750,\n",
    "        1232,\n",
    "        1599,\n",
    "        2377,\n",
    "        1291,\n",
    "        2720,\n",
    "        1715,\n",
    "        3953,\n",
    "        237,\n",
    "        220,\n",
    "        2195,\n",
    "        4677,\n",
    "        4286,\n",
    "        5812,\n",
    "        3359,\n",
    "        5679,\n",
    "        5734,\n",
    "        5715,\n",
    "        2968,\n",
    "        4695,\n",
    "        3784,\n",
    "        3499,\n",
    "        5775,\n",
    "        5777,\n",
    "        5779,\n",
    "        5773,\n",
    "        5772,\n",
    "        5769,\n",
    "        5781,\n",
    "        4234,\n",
    "        4423,\n",
    "        3036,\n",
    "        2669,\n",
    "        2058,\n",
    "        1262,\n",
    "        2086,\n",
    "        3729,\n",
    "        2380,\n",
    "        77,\n",
    "        4564,\n",
    "        5270,\n",
    "        1373,\n",
    "        5701,\n",
    "        5737,\n",
    "        3534,\n",
    "        2988,\n",
    "        3178,\n",
    "        1609,\n",
    "        5654,\n",
    "        1435,\n",
    "        5498,\n",
    "        3320,\n",
    "        3001,\n",
    "        4243,\n",
    "        2522,\n",
    "        2352,\n",
    "        752,\n",
    "        4512,\n",
    "        5725,\n",
    "        3984,\n",
    "        3731,\n",
    "        4490,\n",
    "        1229,\n",
    "        2999,\n",
    "        2859,\n",
    "        2876,\n",
    "        2893,\n",
    "        1575,\n",
    "        2892,\n",
    "        4032,\n",
    "        3143,\n",
    "        2517,\n",
    "        1721,\n",
    "        1893,\n",
    "        1728,\n",
    "        4705,\n",
    "        3478,\n",
    "        2300,\n",
    "        2303,\n",
    "    ]\n",
    "][key]"
   ]
  },
  {
   "cell_type": "code",
   "execution_count": null,
   "id": "d8d2fb09",
   "metadata": {
    "scrolled": true
   },
   "outputs": [],
   "source": [
    "def print_row(x):\n",
    "    print(x.name)\n",
    "    for k in (key, (key, \"ordinal\")):\n",
    "        print(k, x[k])"
   ]
  },
  {
   "cell_type": "code",
   "execution_count": null,
   "id": "0060423d",
   "metadata": {},
   "outputs": [],
   "source": [
    "print_row(\n",
    "    x[x.longname == \"Merritt Neighborhood, Oakland City, California, USA\"].iloc[0]\n",
    ")\n",
    "print_row(x[x.longname == \"North Loop Neighborhood, Austin City, Texas, USA\"].iloc[0])"
   ]
  },
  {
   "cell_type": "code",
   "execution_count": null,
   "id": "f1d89d62",
   "metadata": {},
   "outputs": [],
   "source": [
    "print_row(\n",
    "    y_n[y_n.longname == \"Merritt Neighborhood, Oakland City, California, USA\"].iloc[0]\n",
    ")\n",
    "print_row(\n",
    "    y_n[y_n.longname == \"North Loop Neighborhood, Austin City, Texas, USA\"].iloc[0]\n",
    ")"
   ]
  },
  {
   "cell_type": "code",
   "execution_count": null,
   "id": "228e181d",
   "metadata": {},
   "outputs": [],
   "source": []
  },
  {
   "cell_type": "code",
   "execution_count": null,
   "id": "f080d53e",
   "metadata": {},
   "outputs": [],
   "source": [
    "y_n[np.abs(y_n[key] - 0.7734051846829366) < 0.01]"
   ]
  },
  {
   "cell_type": "code",
   "execution_count": null,
   "id": "95bf94c0",
   "metadata": {
    "scrolled": true
   },
   "outputs": [],
   "source": [
    "a = gpd.read_file(shapefiles[\"native_subdivisions\"].path)"
   ]
  },
  {
   "cell_type": "code",
   "execution_count": null,
   "id": "20cb0e13",
   "metadata": {},
   "outputs": [],
   "source": [
    "def classify_name(x):\n",
    "    if \"Reservation\" in x or \"Home Land\" in x or \"Trust Land\" in x or \"Rancheria\" in x:\n",
    "        return \"Reservation\"\n",
    "    if :\n",
    "        return \"TSA\"\n",
    "    print(x)"
   ]
  },
  {
   "cell_type": "code",
   "execution_count": null,
   "id": "ffbf1590",
   "metadata": {},
   "outputs": [],
   "source": [
    "import pickle\n",
    "with open(shapefiles[\"historical_congressional\"].path, \"rb\") as f:\n",
    "    x = pickle.load(f)"
   ]
  },
  {
   "cell_type": "code",
   "execution_count": null,
   "id": "17cf7b7c",
   "metadata": {},
   "outputs": [],
   "source": [
    "x[\"state\"].apply(lambda x: current_state(x)).all()"
   ]
  },
  {
   "cell_type": "code",
   "execution_count": null,
   "id": "f60ad314",
   "metadata": {},
   "outputs": [],
   "source": [
    "for x in ce_to_name().values():\n",
    "    classify_name(x)"
   ]
  },
  {
   "cell_type": "code",
   "execution_count": null,
   "id": "7973b388",
   "metadata": {},
   "outputs": [],
   "source": [
    "a"
   ]
  },
  {
   "cell_type": "code",
   "execution_count": null,
   "id": "1b7821cd",
   "metadata": {},
   "outputs": [],
   "source": [
    "u = create_relationships(shapefiles[\"cities\"], shapefiles[\"state_house\"])"
   ]
  },
  {
   "cell_type": "code",
   "execution_count": null,
   "id": "de750346",
   "metadata": {},
   "outputs": [],
   "source": [
    "[x for x in u[1] if \"Farmington\" in str(x)]"
   ]
  },
  {
   "cell_type": "code",
   "execution_count": null,
   "id": "575e599f",
   "metadata": {},
   "outputs": [],
   "source": [
    "x = school_district_shapefiles()"
   ]
  },
  {
   "cell_type": "code",
   "execution_count": null,
   "id": "c0dd5026",
   "metadata": {},
   "outputs": [],
   "source": [
    "x"
   ]
  },
  {
   "cell_type": "code",
   "execution_count": null,
   "id": "9c06598d",
   "metadata": {},
   "outputs": [],
   "source": [
    "b = gpd.read_file(shapefiles[\"school_districts\"].path[0])"
   ]
  },
  {
   "cell_type": "code",
   "execution_count": null,
   "id": "39062ed2",
   "metadata": {},
   "outputs": [],
   "source": []
  },
  {
   "cell_type": "code",
   "execution_count": null,
   "id": "9e4d0a99",
   "metadata": {},
   "outputs": [],
   "source": [
    "b[b.NAME.apply(lambda x: \"Mountain View E\" in x)]"
   ]
  },
  {
   "cell_type": "code",
   "execution_count": null,
   "id": "9db77fc6",
   "metadata": {},
   "outputs": [],
   "source": [
    "a[a.shortname.apply(lambda x: \"city\" in x.lower())]"
   ]
  },
  {
   "cell_type": "code",
   "execution_count": null,
   "id": "7f190297",
   "metadata": {},
   "outputs": [],
   "source": [
    "y[y.STATE_NAME == \"Oklahoma\"].sort_values(\"NAME\")"
   ]
  },
  {
   "cell_type": "code",
   "execution_count": null,
   "id": "3b4e9cf5",
   "metadata": {},
   "outputs": [],
   "source": [
    "y[y.AIANNHCE == \"0335\"]"
   ]
  },
  {
   "cell_type": "code",
   "execution_count": null,
   "id": "1b4083fe",
   "metadata": {},
   "outputs": [],
   "source": [
    "shapefiles[\"cities\"].load_file()"
   ]
  },
  {
   "cell_type": "code",
   "execution_count": null,
   "id": "51c3d026",
   "metadata": {},
   "outputs": [],
   "source": [
    "x.groupby(\"state\").count().sort_values(\"STATEFP20\")"
   ]
  },
  {
   "cell_type": "code",
   "execution_count": null,
   "id": "d558bd9d",
   "metadata": {},
   "outputs": [],
   "source": [
    "x[x.state == \"IL\"]"
   ]
  },
  {
   "cell_type": "code",
   "execution_count": null,
   "id": "71f16d0c",
   "metadata": {},
   "outputs": [],
   "source": []
  }
 ],
 "metadata": {
  "kernelspec": {
   "display_name": "Python 3",
   "language": "python",
   "name": "python3"
  },
  "language_info": {
   "codemirror_mode": {
    "name": "ipython",
    "version": 3
   },
   "file_extension": ".py",
   "mimetype": "text/x-python",
   "name": "python",
   "nbconvert_exporter": "python",
   "pygments_lexer": "ipython3",
   "version": "3.7.10"
  }
 },
 "nbformat": 4,
 "nbformat_minor": 5
}
